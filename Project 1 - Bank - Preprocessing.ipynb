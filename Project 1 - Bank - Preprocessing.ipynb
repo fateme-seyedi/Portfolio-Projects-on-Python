{
 "cells": [
  {
   "cell_type": "markdown",
   "metadata": {},
   "source": [
    "<a id=\"goal\"></a>\n",
    "## Project Description and Goal"
   ]
  },
  {
   "cell_type": "markdown",
   "metadata": {},
   "source": [
    "\n",
    "The project is to prepare a report for a bank’s loan division. We’ll need to find out if a customer’s marital status and number of children has an impact on whether they will default on a loan. The bank already has some data on customers’ credit worthiness.\n",
    "\n",
    "The report will be considered when building a **credit scoring** of a potential customer. A **credit scoring** is used to evaluate the ability of a potential borrower to repay their loan."
   ]
  },
  {
   "cell_type": "markdown",
   "metadata": {},
   "source": [
    "## Step 1. Open the data file and study the general information"
   ]
  },
  {
   "cell_type": "code",
   "execution_count": 1,
   "metadata": {},
   "outputs": [],
   "source": [
    "import pandas as pd"
   ]
  },
  {
   "cell_type": "code",
   "execution_count": 2,
   "metadata": {
    "scrolled": true
   },
   "outputs": [
    {
     "data": {
      "text/html": [
       "<div>\n",
       "<style scoped>\n",
       "    .dataframe tbody tr th:only-of-type {\n",
       "        vertical-align: middle;\n",
       "    }\n",
       "\n",
       "    .dataframe tbody tr th {\n",
       "        vertical-align: top;\n",
       "    }\n",
       "\n",
       "    .dataframe thead th {\n",
       "        text-align: right;\n",
       "    }\n",
       "</style>\n",
       "<table border=\"1\" class=\"dataframe\">\n",
       "  <thead>\n",
       "    <tr style=\"text-align: right;\">\n",
       "      <th></th>\n",
       "      <th>children</th>\n",
       "      <th>days_employed</th>\n",
       "      <th>dob_years</th>\n",
       "      <th>education</th>\n",
       "      <th>education_id</th>\n",
       "      <th>family_status</th>\n",
       "      <th>family_status_id</th>\n",
       "      <th>gender</th>\n",
       "      <th>income_type</th>\n",
       "      <th>debt</th>\n",
       "      <th>total_income</th>\n",
       "      <th>purpose</th>\n",
       "    </tr>\n",
       "  </thead>\n",
       "  <tbody>\n",
       "    <tr>\n",
       "      <th>0</th>\n",
       "      <td>1</td>\n",
       "      <td>-8437.673028</td>\n",
       "      <td>42</td>\n",
       "      <td>bachelor's degree</td>\n",
       "      <td>0</td>\n",
       "      <td>married</td>\n",
       "      <td>0</td>\n",
       "      <td>F</td>\n",
       "      <td>employee</td>\n",
       "      <td>0</td>\n",
       "      <td>40620.102</td>\n",
       "      <td>purchase of the house</td>\n",
       "    </tr>\n",
       "    <tr>\n",
       "      <th>1</th>\n",
       "      <td>1</td>\n",
       "      <td>-4024.803754</td>\n",
       "      <td>36</td>\n",
       "      <td>secondary education</td>\n",
       "      <td>1</td>\n",
       "      <td>married</td>\n",
       "      <td>0</td>\n",
       "      <td>F</td>\n",
       "      <td>employee</td>\n",
       "      <td>0</td>\n",
       "      <td>17932.802</td>\n",
       "      <td>car purchase</td>\n",
       "    </tr>\n",
       "    <tr>\n",
       "      <th>2</th>\n",
       "      <td>0</td>\n",
       "      <td>-5623.422610</td>\n",
       "      <td>33</td>\n",
       "      <td>Secondary Education</td>\n",
       "      <td>1</td>\n",
       "      <td>married</td>\n",
       "      <td>0</td>\n",
       "      <td>M</td>\n",
       "      <td>employee</td>\n",
       "      <td>0</td>\n",
       "      <td>23341.752</td>\n",
       "      <td>purchase of the house</td>\n",
       "    </tr>\n",
       "    <tr>\n",
       "      <th>3</th>\n",
       "      <td>3</td>\n",
       "      <td>-4124.747207</td>\n",
       "      <td>32</td>\n",
       "      <td>secondary education</td>\n",
       "      <td>1</td>\n",
       "      <td>married</td>\n",
       "      <td>0</td>\n",
       "      <td>M</td>\n",
       "      <td>employee</td>\n",
       "      <td>0</td>\n",
       "      <td>42820.568</td>\n",
       "      <td>supplementary education</td>\n",
       "    </tr>\n",
       "    <tr>\n",
       "      <th>4</th>\n",
       "      <td>0</td>\n",
       "      <td>340266.072047</td>\n",
       "      <td>53</td>\n",
       "      <td>secondary education</td>\n",
       "      <td>1</td>\n",
       "      <td>civil partnership</td>\n",
       "      <td>1</td>\n",
       "      <td>F</td>\n",
       "      <td>retiree</td>\n",
       "      <td>0</td>\n",
       "      <td>25378.572</td>\n",
       "      <td>to have a wedding</td>\n",
       "    </tr>\n",
       "  </tbody>\n",
       "</table>\n",
       "</div>"
      ],
      "text/plain": [
       "   children  days_employed  dob_years            education  education_id  \\\n",
       "0         1   -8437.673028         42    bachelor's degree             0   \n",
       "1         1   -4024.803754         36  secondary education             1   \n",
       "2         0   -5623.422610         33  Secondary Education             1   \n",
       "3         3   -4124.747207         32  secondary education             1   \n",
       "4         0  340266.072047         53  secondary education             1   \n",
       "\n",
       "       family_status  family_status_id gender income_type  debt  total_income  \\\n",
       "0            married                 0      F    employee     0     40620.102   \n",
       "1            married                 0      F    employee     0     17932.802   \n",
       "2            married                 0      M    employee     0     23341.752   \n",
       "3            married                 0      M    employee     0     42820.568   \n",
       "4  civil partnership                 1      F     retiree     0     25378.572   \n",
       "\n",
       "                   purpose  \n",
       "0    purchase of the house  \n",
       "1             car purchase  \n",
       "2    purchase of the house  \n",
       "3  supplementary education  \n",
       "4        to have a wedding  "
      ]
     },
     "execution_count": 2,
     "metadata": {},
     "output_type": "execute_result"
    }
   ],
   "source": [
    "credit_scoring.head(5)"
   ]
  },
  {
   "cell_type": "code",
   "execution_count": 3,
   "metadata": {
    "scrolled": false
   },
   "outputs": [
    {
     "data": {
      "text/html": [
       "<div>\n",
       "<style scoped>\n",
       "    .dataframe tbody tr th:only-of-type {\n",
       "        vertical-align: middle;\n",
       "    }\n",
       "\n",
       "    .dataframe tbody tr th {\n",
       "        vertical-align: top;\n",
       "    }\n",
       "\n",
       "    .dataframe thead th {\n",
       "        text-align: right;\n",
       "    }\n",
       "</style>\n",
       "<table border=\"1\" class=\"dataframe\">\n",
       "  <thead>\n",
       "    <tr style=\"text-align: right;\">\n",
       "      <th></th>\n",
       "      <th>children</th>\n",
       "      <th>days_employed</th>\n",
       "      <th>dob_years</th>\n",
       "      <th>education</th>\n",
       "      <th>education_id</th>\n",
       "      <th>family_status</th>\n",
       "      <th>family_status_id</th>\n",
       "      <th>gender</th>\n",
       "      <th>income_type</th>\n",
       "      <th>debt</th>\n",
       "      <th>total_income</th>\n",
       "      <th>purpose</th>\n",
       "    </tr>\n",
       "  </thead>\n",
       "  <tbody>\n",
       "    <tr>\n",
       "      <th>21520</th>\n",
       "      <td>1</td>\n",
       "      <td>-4529.316663</td>\n",
       "      <td>43</td>\n",
       "      <td>secondary education</td>\n",
       "      <td>1</td>\n",
       "      <td>civil partnership</td>\n",
       "      <td>1</td>\n",
       "      <td>F</td>\n",
       "      <td>business</td>\n",
       "      <td>0</td>\n",
       "      <td>35966.698</td>\n",
       "      <td>housing transactions</td>\n",
       "    </tr>\n",
       "    <tr>\n",
       "      <th>21521</th>\n",
       "      <td>0</td>\n",
       "      <td>343937.404131</td>\n",
       "      <td>67</td>\n",
       "      <td>secondary education</td>\n",
       "      <td>1</td>\n",
       "      <td>married</td>\n",
       "      <td>0</td>\n",
       "      <td>F</td>\n",
       "      <td>retiree</td>\n",
       "      <td>0</td>\n",
       "      <td>24959.969</td>\n",
       "      <td>purchase of a car</td>\n",
       "    </tr>\n",
       "    <tr>\n",
       "      <th>21522</th>\n",
       "      <td>1</td>\n",
       "      <td>-2113.346888</td>\n",
       "      <td>38</td>\n",
       "      <td>secondary education</td>\n",
       "      <td>1</td>\n",
       "      <td>civil partnership</td>\n",
       "      <td>1</td>\n",
       "      <td>M</td>\n",
       "      <td>employee</td>\n",
       "      <td>1</td>\n",
       "      <td>14347.610</td>\n",
       "      <td>property</td>\n",
       "    </tr>\n",
       "    <tr>\n",
       "      <th>21523</th>\n",
       "      <td>3</td>\n",
       "      <td>-3112.481705</td>\n",
       "      <td>38</td>\n",
       "      <td>secondary education</td>\n",
       "      <td>1</td>\n",
       "      <td>married</td>\n",
       "      <td>0</td>\n",
       "      <td>M</td>\n",
       "      <td>employee</td>\n",
       "      <td>1</td>\n",
       "      <td>39054.888</td>\n",
       "      <td>buying my own car</td>\n",
       "    </tr>\n",
       "    <tr>\n",
       "      <th>21524</th>\n",
       "      <td>2</td>\n",
       "      <td>-1984.507589</td>\n",
       "      <td>40</td>\n",
       "      <td>secondary education</td>\n",
       "      <td>1</td>\n",
       "      <td>married</td>\n",
       "      <td>0</td>\n",
       "      <td>F</td>\n",
       "      <td>employee</td>\n",
       "      <td>0</td>\n",
       "      <td>13127.587</td>\n",
       "      <td>to buy a car</td>\n",
       "    </tr>\n",
       "  </tbody>\n",
       "</table>\n",
       "</div>"
      ],
      "text/plain": [
       "       children  days_employed  dob_years            education  education_id  \\\n",
       "21520         1   -4529.316663         43  secondary education             1   \n",
       "21521         0  343937.404131         67  secondary education             1   \n",
       "21522         1   -2113.346888         38  secondary education             1   \n",
       "21523         3   -3112.481705         38  secondary education             1   \n",
       "21524         2   -1984.507589         40  secondary education             1   \n",
       "\n",
       "           family_status  family_status_id gender income_type  debt  \\\n",
       "21520  civil partnership                 1      F    business     0   \n",
       "21521            married                 0      F     retiree     0   \n",
       "21522  civil partnership                 1      M    employee     1   \n",
       "21523            married                 0      M    employee     1   \n",
       "21524            married                 0      F    employee     0   \n",
       "\n",
       "       total_income               purpose  \n",
       "21520     35966.698  housing transactions  \n",
       "21521     24959.969     purchase of a car  \n",
       "21522     14347.610              property  \n",
       "21523     39054.888     buying my own car  \n",
       "21524     13127.587          to buy a car  "
      ]
     },
     "execution_count": 3,
     "metadata": {},
     "output_type": "execute_result"
    }
   ],
   "source": [
    "credit_scoring.tail(5)"
   ]
  },
  {
   "cell_type": "code",
   "execution_count": 4,
   "metadata": {},
   "outputs": [
    {
     "name": "stdout",
     "output_type": "stream",
     "text": [
      "<class 'pandas.core.frame.DataFrame'>\n",
      "RangeIndex: 21525 entries, 0 to 21524\n",
      "Data columns (total 12 columns):\n",
      " #   Column            Non-Null Count  Dtype  \n",
      "---  ------            --------------  -----  \n",
      " 0   children          21525 non-null  int64  \n",
      " 1   days_employed     19351 non-null  float64\n",
      " 2   dob_years         21525 non-null  int64  \n",
      " 3   education         21525 non-null  object \n",
      " 4   education_id      21525 non-null  int64  \n",
      " 5   family_status     21525 non-null  object \n",
      " 6   family_status_id  21525 non-null  int64  \n",
      " 7   gender            21525 non-null  object \n",
      " 8   income_type       21525 non-null  object \n",
      " 9   debt              21525 non-null  int64  \n",
      " 10  total_income      19351 non-null  float64\n",
      " 11  purpose           21525 non-null  object \n",
      "dtypes: float64(2), int64(5), object(5)\n",
      "memory usage: 2.0+ MB\n"
     ]
    }
   ],
   "source": [
    "credit_scoring.info()"
   ]
  },
  {
   "cell_type": "markdown",
   "metadata": {},
   "source": [
    "## Conclusion"
   ]
  },
  {
   "cell_type": "markdown",
   "metadata": {},
   "source": [
    "<font color=\"blue\">\n",
    "    \n",
    "The data table has 12 columns and 21525 rows.<br>\n",
    "Columns `days_employed` and `total_income` have missing values.<br>\n",
    "Column `days_employed` contains negative values and some data are not logical(if we convert them to years, in some cases they are irrational)."
   ]
  },
  {
   "cell_type": "markdown",
   "metadata": {},
   "source": [
    "<a id=\"pre\"></a>\n",
    "## Step 2. Data preprocessing"
   ]
  },
  {
   "cell_type": "markdown",
   "metadata": {},
   "source": [
    "### Processing missing values"
   ]
  },
  {
   "cell_type": "markdown",
   "metadata": {},
   "source": [
    "Rename the `dob_years` and `total_income` into `age` and `monthly_income`. And convert the total_income values into monthly_income:"
   ]
  },
  {
   "cell_type": "code",
   "execution_count": 5,
   "metadata": {},
   "outputs": [],
   "source": [
    "credit_scoring.set_axis(['children','days_employed','age','education','education_id','family_status','family_status_id','gender','income_type','debt','monthly_income','purpose'], axis='columns', inplace=True)"
   ]
  },
  {
   "cell_type": "code",
   "execution_count": 6,
   "metadata": {},
   "outputs": [
    {
     "data": {
      "text/html": [
       "<div>\n",
       "<style scoped>\n",
       "    .dataframe tbody tr th:only-of-type {\n",
       "        vertical-align: middle;\n",
       "    }\n",
       "\n",
       "    .dataframe tbody tr th {\n",
       "        vertical-align: top;\n",
       "    }\n",
       "\n",
       "    .dataframe thead th {\n",
       "        text-align: right;\n",
       "    }\n",
       "</style>\n",
       "<table border=\"1\" class=\"dataframe\">\n",
       "  <thead>\n",
       "    <tr style=\"text-align: right;\">\n",
       "      <th></th>\n",
       "      <th>children</th>\n",
       "      <th>days_employed</th>\n",
       "      <th>age</th>\n",
       "      <th>education_id</th>\n",
       "      <th>family_status_id</th>\n",
       "      <th>debt</th>\n",
       "      <th>monthly_income</th>\n",
       "    </tr>\n",
       "  </thead>\n",
       "  <tbody>\n",
       "    <tr>\n",
       "      <th>count</th>\n",
       "      <td>21525.000000</td>\n",
       "      <td>19351.000000</td>\n",
       "      <td>21525.000000</td>\n",
       "      <td>21525.000000</td>\n",
       "      <td>21525.000000</td>\n",
       "      <td>21525.000000</td>\n",
       "      <td>19351.000000</td>\n",
       "    </tr>\n",
       "    <tr>\n",
       "      <th>mean</th>\n",
       "      <td>0.538908</td>\n",
       "      <td>63046.497661</td>\n",
       "      <td>43.293380</td>\n",
       "      <td>0.817236</td>\n",
       "      <td>0.972544</td>\n",
       "      <td>0.080883</td>\n",
       "      <td>26787.568355</td>\n",
       "    </tr>\n",
       "    <tr>\n",
       "      <th>std</th>\n",
       "      <td>1.381587</td>\n",
       "      <td>140827.311974</td>\n",
       "      <td>12.574584</td>\n",
       "      <td>0.548138</td>\n",
       "      <td>1.420324</td>\n",
       "      <td>0.272661</td>\n",
       "      <td>16475.450632</td>\n",
       "    </tr>\n",
       "    <tr>\n",
       "      <th>min</th>\n",
       "      <td>-1.000000</td>\n",
       "      <td>-18388.949901</td>\n",
       "      <td>0.000000</td>\n",
       "      <td>0.000000</td>\n",
       "      <td>0.000000</td>\n",
       "      <td>0.000000</td>\n",
       "      <td>3306.762000</td>\n",
       "    </tr>\n",
       "    <tr>\n",
       "      <th>25%</th>\n",
       "      <td>0.000000</td>\n",
       "      <td>-2747.423625</td>\n",
       "      <td>33.000000</td>\n",
       "      <td>1.000000</td>\n",
       "      <td>0.000000</td>\n",
       "      <td>0.000000</td>\n",
       "      <td>16488.504500</td>\n",
       "    </tr>\n",
       "    <tr>\n",
       "      <th>50%</th>\n",
       "      <td>0.000000</td>\n",
       "      <td>-1203.369529</td>\n",
       "      <td>42.000000</td>\n",
       "      <td>1.000000</td>\n",
       "      <td>0.000000</td>\n",
       "      <td>0.000000</td>\n",
       "      <td>23202.870000</td>\n",
       "    </tr>\n",
       "    <tr>\n",
       "      <th>75%</th>\n",
       "      <td>1.000000</td>\n",
       "      <td>-291.095954</td>\n",
       "      <td>53.000000</td>\n",
       "      <td>1.000000</td>\n",
       "      <td>1.000000</td>\n",
       "      <td>0.000000</td>\n",
       "      <td>32549.611000</td>\n",
       "    </tr>\n",
       "    <tr>\n",
       "      <th>max</th>\n",
       "      <td>20.000000</td>\n",
       "      <td>401755.400475</td>\n",
       "      <td>75.000000</td>\n",
       "      <td>4.000000</td>\n",
       "      <td>4.000000</td>\n",
       "      <td>1.000000</td>\n",
       "      <td>362496.645000</td>\n",
       "    </tr>\n",
       "  </tbody>\n",
       "</table>\n",
       "</div>"
      ],
      "text/plain": [
       "           children  days_employed           age  education_id  \\\n",
       "count  21525.000000   19351.000000  21525.000000  21525.000000   \n",
       "mean       0.538908   63046.497661     43.293380      0.817236   \n",
       "std        1.381587  140827.311974     12.574584      0.548138   \n",
       "min       -1.000000  -18388.949901      0.000000      0.000000   \n",
       "25%        0.000000   -2747.423625     33.000000      1.000000   \n",
       "50%        0.000000   -1203.369529     42.000000      1.000000   \n",
       "75%        1.000000    -291.095954     53.000000      1.000000   \n",
       "max       20.000000  401755.400475     75.000000      4.000000   \n",
       "\n",
       "       family_status_id          debt  monthly_income  \n",
       "count      21525.000000  21525.000000    19351.000000  \n",
       "mean           0.972544      0.080883    26787.568355  \n",
       "std            1.420324      0.272661    16475.450632  \n",
       "min            0.000000      0.000000     3306.762000  \n",
       "25%            0.000000      0.000000    16488.504500  \n",
       "50%            0.000000      0.000000    23202.870000  \n",
       "75%            1.000000      0.000000    32549.611000  \n",
       "max            4.000000      1.000000   362496.645000  "
      ]
     },
     "execution_count": 6,
     "metadata": {},
     "output_type": "execute_result"
    }
   ],
   "source": [
    "credit_scoring.describe()"
   ]
  },
  {
   "cell_type": "markdown",
   "metadata": {},
   "source": [
    " Convert negative data in `days_employed` column to positive values:"
   ]
  },
  {
   "cell_type": "code",
   "execution_count": 7,
   "metadata": {},
   "outputs": [
    {
     "data": {
      "text/plain": [
       "0          8437.673028\n",
       "1          4024.803754\n",
       "2          5623.422610\n",
       "3          4124.747207\n",
       "4        340266.072047\n",
       "             ...      \n",
       "21520      4529.316663\n",
       "21521    343937.404131\n",
       "21522      2113.346888\n",
       "21523      3112.481705\n",
       "21524      1984.507589\n",
       "Name: days_employed, Length: 21525, dtype: float64"
      ]
     },
     "execution_count": 7,
     "metadata": {},
     "output_type": "execute_result"
    }
   ],
   "source": [
    "credit_scoring.loc[credit_scoring['days_employed']<0 ,'days_employed']=-1 * credit_scoring['days_employed']    \n",
    "credit_scoring['days_employed']  "
   ]
  },
  {
   "cell_type": "code",
   "execution_count": 8,
   "metadata": {},
   "outputs": [
    {
     "data": {
      "text/plain": [
       "0         8437.673028\n",
       "1         4024.803754\n",
       "2         5623.422610\n",
       "3         4124.747207\n",
       "4        14177.753002\n",
       "             ...     \n",
       "21520     4529.316663\n",
       "21521    14330.725172\n",
       "21522     2113.346888\n",
       "21523     3112.481705\n",
       "21524     1984.507589\n",
       "Name: days_employed, Length: 21525, dtype: float64"
      ]
     },
     "execution_count": 8,
     "metadata": {},
     "output_type": "execute_result"
    }
   ],
   "source": [
    "def day(days):\n",
    "    if days> 20000:\n",
    "        return days/24\n",
    "    return days\n",
    "credit_scoring['days_employed']=credit_scoring['days_employed'].apply(day)\n",
    "credit_scoring['days_employed']"
   ]
  },
  {
   "cell_type": "markdown",
   "metadata": {},
   "source": [
    "Check the number of missing values in culumns and the percentage:"
   ]
  },
  {
   "cell_type": "code",
   "execution_count": 9,
   "metadata": {
    "scrolled": true
   },
   "outputs": [
    {
     "data": {
      "text/plain": [
       "children               0\n",
       "days_employed       2174\n",
       "age                    0\n",
       "education              0\n",
       "education_id           0\n",
       "family_status          0\n",
       "family_status_id       0\n",
       "gender                 0\n",
       "income_type            0\n",
       "debt                   0\n",
       "monthly_income      2174\n",
       "purpose                0\n",
       "dtype: int64"
      ]
     },
     "execution_count": 9,
     "metadata": {},
     "output_type": "execute_result"
    }
   ],
   "source": [
    "credit_scoring.isnull().sum()"
   ]
  },
  {
   "cell_type": "code",
   "execution_count": 10,
   "metadata": {
    "scrolled": false
   },
   "outputs": [
    {
     "data": {
      "text/plain": [
       "children            0.000000\n",
       "days_employed       0.100999\n",
       "age                 0.000000\n",
       "education           0.000000\n",
       "education_id        0.000000\n",
       "family_status       0.000000\n",
       "family_status_id    0.000000\n",
       "gender              0.000000\n",
       "income_type         0.000000\n",
       "debt                0.000000\n",
       "monthly_income      0.100999\n",
       "purpose             0.000000\n",
       "dtype: float64"
      ]
     },
     "execution_count": 10,
     "metadata": {},
     "output_type": "execute_result"
    }
   ],
   "source": [
    "credit_scoring.isnull().sum()/len(credit_scoring)"
   ]
  },
  {
   "cell_type": "markdown",
   "metadata": {},
   "source": [
    "<font color=\"blue\">\n",
    "    \n",
    "The missing values are quantitive values and about 10% of them. so, it is better to fill them with median or mean. <br>\n",
    "and also in 'age' column we have 0 and it's not logic, so we have to replace it with median or mean too.<br>\n",
    "let's check out if we have outliers in this three columns!"
   ]
  },
  {
   "cell_type": "code",
   "execution_count": 11,
   "metadata": {},
   "outputs": [
    {
     "data": {
      "text/plain": [
       "days_employed      4641.641176\n",
       "monthly_income    26787.568355\n",
       "age                  43.293380\n",
       "dtype: float64"
      ]
     },
     "execution_count": 11,
     "metadata": {},
     "output_type": "execute_result"
    }
   ],
   "source": [
    "num_columns = ['days_employed','monthly_income','age']\n",
    "credit_scoring[num_columns].mean()"
   ]
  },
  {
   "cell_type": "code",
   "execution_count": 12,
   "metadata": {},
   "outputs": [
    {
     "data": {
      "text/plain": [
       "days_employed      2194.220567\n",
       "monthly_income    23202.870000\n",
       "age                  42.000000\n",
       "dtype: float64"
      ]
     },
     "execution_count": 12,
     "metadata": {},
     "output_type": "execute_result"
    }
   ],
   "source": [
    "credit_scoring[num_columns].median()"
   ]
  },
  {
   "cell_type": "markdown",
   "metadata": {},
   "source": [
    "In all three columns is mean>median it means that we have high outliers and we use the median to fill in missing values:"
   ]
  },
  {
   "cell_type": "code",
   "execution_count": 13,
   "metadata": {},
   "outputs": [
    {
     "data": {
      "text/plain": [
       "employee                       11119\n",
       "business                        5085\n",
       "retiree                         3856\n",
       "civil servant                   1459\n",
       "unemployed                         2\n",
       "entrepreneur                       2\n",
       "paternity / maternity leave        1\n",
       "student                            1\n",
       "Name: income_type, dtype: int64"
      ]
     },
     "execution_count": 13,
     "metadata": {},
     "output_type": "execute_result"
    }
   ],
   "source": [
    "credit_scoring['income_type'].value_counts()"
   ]
  },
  {
   "cell_type": "code",
   "execution_count": 14,
   "metadata": {},
   "outputs": [],
   "source": [
    "credit_scoring['days_employed']= credit_scoring['days_employed'].fillna(credit_scoring['days_employed'].median())"
   ]
  },
  {
   "cell_type": "code",
   "execution_count": 15,
   "metadata": {
    "scrolled": true
   },
   "outputs": [
    {
     "data": {
      "text/plain": [
       "income_type\n",
       "business                       32386.793835\n",
       "civil servant                  27343.729582\n",
       "employee                       25820.841683\n",
       "entrepreneur                   79866.103000\n",
       "paternity / maternity leave     8612.661000\n",
       "retiree                        21940.394503\n",
       "student                        15712.260000\n",
       "unemployed                     21014.360500\n",
       "Name: monthly_income, dtype: float64"
      ]
     },
     "execution_count": 15,
     "metadata": {},
     "output_type": "execute_result"
    }
   ],
   "source": [
    "credit_scoring_grouped_mean=credit_scoring.groupby('income_type')['monthly_income'].mean()\n",
    "credit_scoring_grouped_mean"
   ]
  },
  {
   "cell_type": "code",
   "execution_count": 16,
   "metadata": {},
   "outputs": [
    {
     "data": {
      "text/plain": [
       "income_type\n",
       "business                       27577.2720\n",
       "civil servant                  24071.6695\n",
       "employee                       22815.1035\n",
       "entrepreneur                   79866.1030\n",
       "paternity / maternity leave     8612.6610\n",
       "retiree                        18962.3180\n",
       "student                        15712.2600\n",
       "unemployed                     21014.3605\n",
       "Name: monthly_income, dtype: float64"
      ]
     },
     "execution_count": 16,
     "metadata": {},
     "output_type": "execute_result"
    }
   ],
   "source": [
    "credit_scoring_grouped_median=credit_scoring.groupby('income_type')['monthly_income'].median()\n",
    "credit_scoring_grouped_median"
   ]
  },
  {
   "cell_type": "code",
   "execution_count": 17,
   "metadata": {},
   "outputs": [
    {
     "data": {
      "text/plain": [
       "employee         1105\n",
       "business          508\n",
       "retiree           413\n",
       "civil servant     147\n",
       "entrepreneur        1\n",
       "Name: income_type, dtype: int64"
      ]
     },
     "execution_count": 17,
     "metadata": {},
     "output_type": "execute_result"
    }
   ],
   "source": [
    "credit_scoring[credit_scoring['monthly_income'].isnull()]['income_type'].value_counts()"
   ]
  },
  {
   "cell_type": "code",
   "execution_count": 18,
   "metadata": {},
   "outputs": [],
   "source": [
    "credit_scoring['monthly_income']=credit_scoring.groupby('income_type')['monthly_income'].apply(lambda x: x.fillna(x.median()))"
   ]
  },
  {
   "cell_type": "code",
   "execution_count": 19,
   "metadata": {},
   "outputs": [
    {
     "data": {
      "text/plain": [
       "0"
      ]
     },
     "execution_count": 19,
     "metadata": {},
     "output_type": "execute_result"
    }
   ],
   "source": [
    "credit_scoring['monthly_income'].isnull().sum()"
   ]
  },
  {
   "cell_type": "code",
   "execution_count": 20,
   "metadata": {},
   "outputs": [
    {
     "data": {
      "text/plain": [
       "array([42, 36, 33, 32, 53, 27, 43, 50, 35, 41, 40, 65, 54, 56, 26, 48, 24,\n",
       "       21, 57, 67, 28, 63, 62, 47, 34, 68, 25, 31, 30, 20, 49, 37, 45, 61,\n",
       "       64, 44, 52, 46, 23, 38, 39, 51, 59, 29, 60, 55, 58, 71, 22, 73, 66,\n",
       "       69, 19, 72, 70, 74, 75], dtype=int64)"
      ]
     },
     "execution_count": 20,
     "metadata": {},
     "output_type": "execute_result"
    }
   ],
   "source": [
    "credit_scoring.loc[credit_scoring['age']==0 ,'age']= 42\n",
    "credit_scoring['age'].unique()"
   ]
  },
  {
   "cell_type": "markdown",
   "metadata": {},
   "source": [
    "In column 'gender' we see 'XNA'. it's just in one row and we can drop or ignore it:  "
   ]
  },
  {
   "cell_type": "code",
   "execution_count": 21,
   "metadata": {},
   "outputs": [
    {
     "data": {
      "text/plain": [
       "F      14236\n",
       "M       7288\n",
       "XNA        1\n",
       "Name: gender, dtype: int64"
      ]
     },
     "execution_count": 21,
     "metadata": {},
     "output_type": "execute_result"
    }
   ],
   "source": [
    "credit_scoring['gender'].value_counts()"
   ]
  },
  {
   "cell_type": "code",
   "execution_count": 22,
   "metadata": {},
   "outputs": [
    {
     "data": {
      "text/html": [
       "<div>\n",
       "<style scoped>\n",
       "    .dataframe tbody tr th:only-of-type {\n",
       "        vertical-align: middle;\n",
       "    }\n",
       "\n",
       "    .dataframe tbody tr th {\n",
       "        vertical-align: top;\n",
       "    }\n",
       "\n",
       "    .dataframe thead th {\n",
       "        text-align: right;\n",
       "    }\n",
       "</style>\n",
       "<table border=\"1\" class=\"dataframe\">\n",
       "  <thead>\n",
       "    <tr style=\"text-align: right;\">\n",
       "      <th></th>\n",
       "      <th>children</th>\n",
       "      <th>days_employed</th>\n",
       "      <th>age</th>\n",
       "      <th>education</th>\n",
       "      <th>education_id</th>\n",
       "      <th>family_status</th>\n",
       "      <th>family_status_id</th>\n",
       "      <th>gender</th>\n",
       "      <th>income_type</th>\n",
       "      <th>debt</th>\n",
       "      <th>monthly_income</th>\n",
       "      <th>purpose</th>\n",
       "    </tr>\n",
       "  </thead>\n",
       "  <tbody>\n",
       "  </tbody>\n",
       "</table>\n",
       "</div>"
      ],
      "text/plain": [
       "Empty DataFrame\n",
       "Columns: [children, days_employed, age, education, education_id, family_status, family_status_id, gender, income_type, debt, monthly_income, purpose]\n",
       "Index: []"
      ]
     },
     "execution_count": 22,
     "metadata": {},
     "output_type": "execute_result"
    }
   ],
   "source": [
    "credit_scoring=credit_scoring[credit_scoring['gender']!='XNA']\n",
    "credit_scoring[credit_scoring['gender']=='XNA']"
   ]
  },
  {
   "cell_type": "markdown",
   "metadata": {},
   "source": [
    "in 'Children' column we schould fix -1 and 20:"
   ]
  },
  {
   "cell_type": "code",
   "execution_count": 23,
   "metadata": {},
   "outputs": [
    {
     "data": {
      "text/plain": [
       " 0     14148\n",
       " 1      4818\n",
       " 2      2055\n",
       " 3       330\n",
       " 20       76\n",
       "-1        47\n",
       " 4        41\n",
       " 5         9\n",
       "Name: children, dtype: int64"
      ]
     },
     "execution_count": 23,
     "metadata": {},
     "output_type": "execute_result"
    }
   ],
   "source": [
    "credit_scoring['children'].value_counts()"
   ]
  },
  {
   "cell_type": "code",
   "execution_count": 31,
   "metadata": {},
   "outputs": [
    {
     "data": {
      "text/plain": [
       "array([1, 0, 3, 2, 4, 5], dtype=int64)"
      ]
     },
     "execution_count": 31,
     "metadata": {},
     "output_type": "execute_result"
    }
   ],
   "source": [
    "credit_scoring.loc[credit_scoring['children']<0 ,'children']= -1* credit_scoring['children']\n",
    "credit_scoring.loc[credit_scoring['children']==20 , 'children']=2\n",
    "credit_scoring['children'].unique()"
   ]
  },
  {
   "cell_type": "code",
   "execution_count": 25,
   "metadata": {},
   "outputs": [
    {
     "data": {
      "text/html": [
       "<div>\n",
       "<style scoped>\n",
       "    .dataframe tbody tr th:only-of-type {\n",
       "        vertical-align: middle;\n",
       "    }\n",
       "\n",
       "    .dataframe tbody tr th {\n",
       "        vertical-align: top;\n",
       "    }\n",
       "\n",
       "    .dataframe thead th {\n",
       "        text-align: right;\n",
       "    }\n",
       "</style>\n",
       "<table border=\"1\" class=\"dataframe\">\n",
       "  <thead>\n",
       "    <tr style=\"text-align: right;\">\n",
       "      <th></th>\n",
       "      <th>children</th>\n",
       "      <th>days_employed</th>\n",
       "      <th>age</th>\n",
       "      <th>education_id</th>\n",
       "      <th>family_status_id</th>\n",
       "      <th>debt</th>\n",
       "      <th>monthly_income</th>\n",
       "    </tr>\n",
       "  </thead>\n",
       "  <tbody>\n",
       "    <tr>\n",
       "      <th>count</th>\n",
       "      <td>21524.000000</td>\n",
       "      <td>21524.000000</td>\n",
       "      <td>21524.000000</td>\n",
       "      <td>21524.000000</td>\n",
       "      <td>21524.000000</td>\n",
       "      <td>21524.000000</td>\n",
       "      <td>21524.000000</td>\n",
       "    </tr>\n",
       "    <tr>\n",
       "      <th>mean</th>\n",
       "      <td>0.479744</td>\n",
       "      <td>4394.549122</td>\n",
       "      <td>43.491358</td>\n",
       "      <td>0.817181</td>\n",
       "      <td>0.972542</td>\n",
       "      <td>0.080886</td>\n",
       "      <td>26435.764393</td>\n",
       "    </tr>\n",
       "    <tr>\n",
       "      <th>std</th>\n",
       "      <td>0.755539</td>\n",
       "      <td>5131.652276</td>\n",
       "      <td>12.218156</td>\n",
       "      <td>0.548092</td>\n",
       "      <td>1.420357</td>\n",
       "      <td>0.272667</td>\n",
       "      <td>15687.294175</td>\n",
       "    </tr>\n",
       "    <tr>\n",
       "      <th>min</th>\n",
       "      <td>0.000000</td>\n",
       "      <td>24.141633</td>\n",
       "      <td>19.000000</td>\n",
       "      <td>0.000000</td>\n",
       "      <td>0.000000</td>\n",
       "      <td>0.000000</td>\n",
       "      <td>3306.762000</td>\n",
       "    </tr>\n",
       "    <tr>\n",
       "      <th>25%</th>\n",
       "      <td>0.000000</td>\n",
       "      <td>1025.593536</td>\n",
       "      <td>34.000000</td>\n",
       "      <td>1.000000</td>\n",
       "      <td>0.000000</td>\n",
       "      <td>0.000000</td>\n",
       "      <td>17247.356500</td>\n",
       "    </tr>\n",
       "    <tr>\n",
       "      <th>50%</th>\n",
       "      <td>0.000000</td>\n",
       "      <td>2194.220567</td>\n",
       "      <td>42.000000</td>\n",
       "      <td>1.000000</td>\n",
       "      <td>0.000000</td>\n",
       "      <td>0.000000</td>\n",
       "      <td>22815.103500</td>\n",
       "    </tr>\n",
       "    <tr>\n",
       "      <th>75%</th>\n",
       "      <td>1.000000</td>\n",
       "      <td>4779.672511</td>\n",
       "      <td>53.000000</td>\n",
       "      <td>1.000000</td>\n",
       "      <td>1.000000</td>\n",
       "      <td>0.000000</td>\n",
       "      <td>31287.232000</td>\n",
       "    </tr>\n",
       "    <tr>\n",
       "      <th>max</th>\n",
       "      <td>5.000000</td>\n",
       "      <td>18388.949901</td>\n",
       "      <td>75.000000</td>\n",
       "      <td>4.000000</td>\n",
       "      <td>4.000000</td>\n",
       "      <td>1.000000</td>\n",
       "      <td>362496.645000</td>\n",
       "    </tr>\n",
       "  </tbody>\n",
       "</table>\n",
       "</div>"
      ],
      "text/plain": [
       "           children  days_employed           age  education_id  \\\n",
       "count  21524.000000   21524.000000  21524.000000  21524.000000   \n",
       "mean       0.479744    4394.549122     43.491358      0.817181   \n",
       "std        0.755539    5131.652276     12.218156      0.548092   \n",
       "min        0.000000      24.141633     19.000000      0.000000   \n",
       "25%        0.000000    1025.593536     34.000000      1.000000   \n",
       "50%        0.000000    2194.220567     42.000000      1.000000   \n",
       "75%        1.000000    4779.672511     53.000000      1.000000   \n",
       "max        5.000000   18388.949901     75.000000      4.000000   \n",
       "\n",
       "       family_status_id          debt  monthly_income  \n",
       "count      21524.000000  21524.000000    21524.000000  \n",
       "mean           0.972542      0.080886    26435.764393  \n",
       "std            1.420357      0.272667    15687.294175  \n",
       "min            0.000000      0.000000     3306.762000  \n",
       "25%            0.000000      0.000000    17247.356500  \n",
       "50%            0.000000      0.000000    22815.103500  \n",
       "75%            1.000000      0.000000    31287.232000  \n",
       "max            4.000000      1.000000   362496.645000  "
      ]
     },
     "execution_count": 25,
     "metadata": {},
     "output_type": "execute_result"
    }
   ],
   "source": [
    "credit_scoring.describe()"
   ]
  },
  {
   "cell_type": "markdown",
   "metadata": {},
   "source": [
    "### Conclusion"
   ]
  },
  {
   "cell_type": "markdown",
   "metadata": {},
   "source": [
    "<font color =\"blue\">\n",
    "    \n",
    "The two age and income columns were renamed.\n",
    "\n",
    "In the `days_employed` column, some of the data were giant data(probably given in hours) was corrected by converting to \"day\" and negative values became positive.\n",
    "\n",
    "The number of children -1 and 20 who may have been typo mistake, was corrected to 1 and 2 children.\n",
    "\n",
    "Age 0 may typo mistake or customer didn’t want to give it, filled with the median.\n",
    "\n",
    "There are missing values in the `days_employed` and `monthly_income` columns. It may be due to forgetting or unwillingness to give information.\n",
    "\n",
    "In the `days_employed` column the missing values were replaced with the median. \n",
    "\n",
    "For the missing values in the `monthly_income` column, they were filled with the median of their group based on the type of income of the people. Because each group has a different level of income.\n",
    "\n",
    "in all three columns(`days_employed` , `monthly_income` and `age` ) is mean>median, it means that we have high outliers, so we used the median to fill in missing values.\n",
    "\n",
    "the table was checked one more time, there is neither missing values nor irrational data."
   ]
  },
  {
   "cell_type": "markdown",
   "metadata": {},
   "source": [
    "### Data type replacement"
   ]
  },
  {
   "cell_type": "markdown",
   "metadata": {},
   "source": [
    "We change the type of column `days_employed` because the number of days the customer has been working, can't be in float! "
   ]
  },
  {
   "cell_type": "code",
   "execution_count": 26,
   "metadata": {},
   "outputs": [],
   "source": [
    "credit_scoring['days_employed']=credit_scoring['days_employed'].astype('int')"
   ]
  },
  {
   "cell_type": "code",
   "execution_count": 27,
   "metadata": {},
   "outputs": [],
   "source": [
    "credit_scoring['monthly_income']=credit_scoring['monthly_income'].astype('int')"
   ]
  },
  {
   "cell_type": "code",
   "execution_count": 28,
   "metadata": {},
   "outputs": [
    {
     "name": "stdout",
     "output_type": "stream",
     "text": [
      "<class 'pandas.core.frame.DataFrame'>\n",
      "Int64Index: 21524 entries, 0 to 21524\n",
      "Data columns (total 12 columns):\n",
      " #   Column            Non-Null Count  Dtype \n",
      "---  ------            --------------  ----- \n",
      " 0   children          21524 non-null  int64 \n",
      " 1   days_employed     21524 non-null  int32 \n",
      " 2   age               21524 non-null  int64 \n",
      " 3   education         21524 non-null  object\n",
      " 4   education_id      21524 non-null  int64 \n",
      " 5   family_status     21524 non-null  object\n",
      " 6   family_status_id  21524 non-null  int64 \n",
      " 7   gender            21524 non-null  object\n",
      " 8   income_type       21524 non-null  object\n",
      " 9   debt              21524 non-null  int64 \n",
      " 10  monthly_income    21524 non-null  int32 \n",
      " 11  purpose           21524 non-null  object\n",
      "dtypes: int32(2), int64(5), object(5)\n",
      "memory usage: 2.6+ MB\n"
     ]
    }
   ],
   "source": [
    "credit_scoring.info()"
   ]
  },
  {
   "cell_type": "markdown",
   "metadata": {},
   "source": [
    "### Conclusion"
   ]
  },
  {
   "cell_type": "markdown",
   "metadata": {},
   "source": [
    "<font color =\"blue\">\n",
    "    \n",
    "The type of columns `days_employed` and `monthly_incom` has been changed into integer, because the number of days the customer has been working and income, can't be in float!"
   ]
  },
  {
   "cell_type": "markdown",
   "metadata": {},
   "source": [
    "### Processing duplicates"
   ]
  },
  {
   "cell_type": "markdown",
   "metadata": {},
   "source": [
    "Column `education` has some duplicates, just different in Uppercase and lowercase letters. so we make them all in lowercase:"
   ]
  },
  {
   "cell_type": "code",
   "execution_count": 29,
   "metadata": {},
   "outputs": [
    {
     "data": {
      "text/plain": [
       "secondary education    13750\n",
       "bachelor's degree       4718\n",
       "SECONDARY EDUCATION      772\n",
       "Secondary Education      711\n",
       "some college             667\n",
       "BACHELOR'S DEGREE        274\n",
       "Bachelor's Degree        268\n",
       "primary education        250\n",
       "Some College              47\n",
       "SOME COLLEGE              29\n",
       "PRIMARY EDUCATION         17\n",
       "Primary Education         15\n",
       "graduate degree            4\n",
       "Graduate Degree            1\n",
       "GRADUATE DEGREE            1\n",
       "Name: education, dtype: int64"
      ]
     },
     "execution_count": 29,
     "metadata": {},
     "output_type": "execute_result"
    }
   ],
   "source": [
    "credit_scoring['education'].value_counts()"
   ]
  },
  {
   "cell_type": "code",
   "execution_count": 30,
   "metadata": {
    "scrolled": true
   },
   "outputs": [
    {
     "data": {
      "text/plain": [
       "secondary education    15233\n",
       "bachelor's degree       5260\n",
       "some college             743\n",
       "primary education        282\n",
       "graduate degree            6\n",
       "Name: education, dtype: int64"
      ]
     },
     "execution_count": 30,
     "metadata": {},
     "output_type": "execute_result"
    }
   ],
   "source": [
    "credit_scoring['education']=credit_scoring['education'].str.lower()\n",
    "credit_scoring['education'].value_counts()"
   ]
  },
  {
   "cell_type": "code",
   "execution_count": 31,
   "metadata": {},
   "outputs": [
    {
     "data": {
      "text/plain": [
       "72"
      ]
     },
     "execution_count": 31,
     "metadata": {},
     "output_type": "execute_result"
    }
   ],
   "source": [
    "credit_scoring.duplicated().sum()"
   ]
  },
  {
   "cell_type": "code",
   "execution_count": 32,
   "metadata": {},
   "outputs": [],
   "source": [
    "credit_scoring=credit_scoring.drop_duplicates()"
   ]
  },
  {
   "cell_type": "code",
   "execution_count": 33,
   "metadata": {},
   "outputs": [
    {
     "data": {
      "text/plain": [
       "0"
      ]
     },
     "execution_count": 33,
     "metadata": {},
     "output_type": "execute_result"
    }
   ],
   "source": [
    "credit_scoring.duplicated().sum()"
   ]
  },
  {
   "cell_type": "code",
   "execution_count": 34,
   "metadata": {},
   "outputs": [
    {
     "name": "stdout",
     "output_type": "stream",
     "text": [
      "<class 'pandas.core.frame.DataFrame'>\n",
      "Int64Index: 21452 entries, 0 to 21524\n",
      "Data columns (total 12 columns):\n",
      " #   Column            Non-Null Count  Dtype \n",
      "---  ------            --------------  ----- \n",
      " 0   children          21452 non-null  int64 \n",
      " 1   days_employed     21452 non-null  int32 \n",
      " 2   age               21452 non-null  int64 \n",
      " 3   education         21452 non-null  object\n",
      " 4   education_id      21452 non-null  int64 \n",
      " 5   family_status     21452 non-null  object\n",
      " 6   family_status_id  21452 non-null  int64 \n",
      " 7   gender            21452 non-null  object\n",
      " 8   income_type       21452 non-null  object\n",
      " 9   debt              21452 non-null  int64 \n",
      " 10  monthly_income    21452 non-null  int32 \n",
      " 11  purpose           21452 non-null  object\n",
      "dtypes: int32(2), int64(5), object(5)\n",
      "memory usage: 2.0+ MB\n"
     ]
    }
   ],
   "source": [
    "credit_scoring.info()"
   ]
  },
  {
   "cell_type": "markdown",
   "metadata": {},
   "source": [
    "### Conclusion"
   ]
  },
  {
   "cell_type": "markdown",
   "metadata": {},
   "source": [
    "<font color =\"blue\">\n",
    "\n",
    "Column `education` had some duplicates, just different in Uppercase and lowercase letters. So, we made them all in lowercase.\n",
    "\n",
    "Also, the duplicates in the table were found and dropped. there were 72 duplicates, dropped. The cause of the duplicates may have been entered in the system twice by mistake, or the customer may have applied for a loan several times and the duplicate information has been entered."
   ]
  },
  {
   "cell_type": "markdown",
   "metadata": {},
   "source": [
    "<a id=\"Categorizing\"></a>\n",
    "### Categorizing Data"
   ]
  },
  {
   "cell_type": "markdown",
   "metadata": {},
   "source": [
    "We make level for the income to make the analysis easier:"
   ]
  },
  {
   "cell_type": "code",
   "execution_count": 35,
   "metadata": {
    "scrolled": true
   },
   "outputs": [],
   "source": [
    "def level_income(income):\n",
    "    if income <=15000:\n",
    "        return 'low'\n",
    "    if income >15000 and income<=23000:\n",
    "        return 'medium-low'\n",
    "    if income >23000 and income<=30000:    \n",
    "        return 'medium-high'\n",
    "    return 'high'"
   ]
  },
  {
   "cell_type": "code",
   "execution_count": 36,
   "metadata": {},
   "outputs": [
    {
     "data": {
      "text/plain": [
       "0               high\n",
       "1         medium-low\n",
       "2        medium-high\n",
       "3               high\n",
       "4        medium-high\n",
       "            ...     \n",
       "21520           high\n",
       "21521    medium-high\n",
       "21522            low\n",
       "21523           high\n",
       "21524            low\n",
       "Name: level_income, Length: 21452, dtype: object"
      ]
     },
     "execution_count": 36,
     "metadata": {},
     "output_type": "execute_result"
    }
   ],
   "source": [
    "credit_scoring['level_income']=credit_scoring['monthly_income'].apply(level_income)\n",
    "credit_scoring['level_income']"
   ]
  },
  {
   "cell_type": "code",
   "execution_count": 37,
   "metadata": {},
   "outputs": [
    {
     "data": {
      "text/plain": [
       "medium-low     7230\n",
       "high           5919\n",
       "medium-high    4558\n",
       "low            3745\n",
       "Name: level_income, dtype: int64"
      ]
     },
     "execution_count": 37,
     "metadata": {},
     "output_type": "execute_result"
    }
   ],
   "source": [
    "credit_scoring['level_income'].value_counts()"
   ]
  },
  {
   "cell_type": "code",
   "execution_count": 38,
   "metadata": {},
   "outputs": [
    {
     "data": {
      "text/plain": [
       "0    14089\n",
       "1     4855\n",
       "2     2128\n",
       "3      330\n",
       "4       41\n",
       "5        9\n",
       "Name: children, dtype: int64"
      ]
     },
     "execution_count": 38,
     "metadata": {},
     "output_type": "execute_result"
    }
   ],
   "source": [
    "credit_scoring['children'].value_counts()"
   ]
  },
  {
   "cell_type": "markdown",
   "metadata": {},
   "source": [
    "We categorize the children to (0,1,2,3 and more) bacause the number of data for cases with 4 and 5 (children )is low and it is better to put them with 3 (children) in one category because the analysis with more data is more reliable:"
   ]
  },
  {
   "cell_type": "code",
   "execution_count": 39,
   "metadata": {},
   "outputs": [],
   "source": [
    "def children_grouped(children):\n",
    "    if children ==0:\n",
    "        return '0'\n",
    "    if children ==1:\n",
    "        return '1'\n",
    "    if children ==2:\n",
    "        return '2'\n",
    "    return '3 or more'"
   ]
  },
  {
   "cell_type": "code",
   "execution_count": 40,
   "metadata": {},
   "outputs": [
    {
     "data": {
      "text/plain": [
       "0                1\n",
       "1                1\n",
       "2                0\n",
       "3        3 or more\n",
       "4                0\n",
       "           ...    \n",
       "21520            1\n",
       "21521            0\n",
       "21522            1\n",
       "21523    3 or more\n",
       "21524            2\n",
       "Name: children_grouped, Length: 21452, dtype: object"
      ]
     },
     "execution_count": 40,
     "metadata": {},
     "output_type": "execute_result"
    }
   ],
   "source": [
    "credit_scoring['children_grouped']=credit_scoring['children'].apply(children_grouped)\n",
    "credit_scoring['children_grouped']"
   ]
  },
  {
   "cell_type": "code",
   "execution_count": 41,
   "metadata": {},
   "outputs": [
    {
     "data": {
      "text/plain": [
       "0            14089\n",
       "1             4855\n",
       "2             2128\n",
       "3 or more      380\n",
       "Name: children_grouped, dtype: int64"
      ]
     },
     "execution_count": 41,
     "metadata": {},
     "output_type": "execute_result"
    }
   ],
   "source": [
    "credit_scoring['children_grouped'].value_counts()"
   ]
  },
  {
   "cell_type": "markdown",
   "metadata": {},
   "source": [
    "Column `purpose` also contains similar items with different expressions. So we can categorize them to a common theme:"
   ]
  },
  {
   "cell_type": "code",
   "execution_count": 42,
   "metadata": {},
   "outputs": [
    {
     "data": {
      "text/plain": [
       "wedding ceremony                            791\n",
       "having a wedding                            767\n",
       "to have a wedding                           765\n",
       "real estate transactions                    675\n",
       "buy commercial real estate                  661\n",
       "housing transactions                        652\n",
       "buying property for renting out             651\n",
       "transactions with commercial real estate    650\n",
       "housing                                     646\n",
       "purchase of the house                       646\n",
       "purchase of the house for my family         638\n",
       "construction of own property                635\n",
       "property                                    633\n",
       "transactions with my real estate            627\n",
       "building a real estate                      624\n",
       "buy real estate                             620\n",
       "purchase of my own house                    620\n",
       "building a property                         619\n",
       "housing renovation                          607\n",
       "buy residential real estate                 606\n",
       "buying my own car                           505\n",
       "going to university                         496\n",
       "car                                         494\n",
       "second-hand car purchase                    486\n",
       "to own a car                                478\n",
       "buying a second-hand car                    478\n",
       "cars                                        478\n",
       "to buy a car                                471\n",
       "car purchase                                461\n",
       "supplementary education                     460\n",
       "purchase of a car                           455\n",
       "university education                        452\n",
       "education                                   447\n",
       "to get a supplementary education            446\n",
       "getting an education                        442\n",
       "profile education                           436\n",
       "getting higher education                    426\n",
       "to become educated                          408\n",
       "Name: purpose, dtype: int64"
      ]
     },
     "execution_count": 42,
     "metadata": {},
     "output_type": "execute_result"
    }
   ],
   "source": [
    "credit_scoring['purpose'].value_counts()"
   ]
  },
  {
   "cell_type": "code",
   "execution_count": 43,
   "metadata": {},
   "outputs": [],
   "source": [
    "def theme(query):\n",
    "    if 'wedding' in query: \n",
    "        return 'wedding'\n",
    "    if 'car' in query: \n",
    "        return 'car'\n",
    "    if 'educat' in query or 'university' in query: \n",
    "        return 'education'\n",
    "    if 'commercial'in query  or 'rent' in query: \n",
    "        return 'commercial estate'\n",
    "    if 'construction' in query or 'build' in query or 'renovation' in query or 'housing' in query:\n",
    "        return 'housing'\n",
    "    return 'purchase residential estate'"
   ]
  },
  {
   "cell_type": "code",
   "execution_count": 44,
   "metadata": {},
   "outputs": [
    {
     "data": {
      "text/plain": [
       "purchase residential estate    5065\n",
       "car                            4306\n",
       "education                      4013\n",
       "housing                        3783\n",
       "wedding                        2323\n",
       "commercial estate              1962\n",
       "Name: purpose, dtype: int64"
      ]
     },
     "execution_count": 44,
     "metadata": {},
     "output_type": "execute_result"
    }
   ],
   "source": [
    "credit_scoring['purpose']=credit_scoring['purpose'].apply(theme)        \n",
    "credit_scoring['purpose'].value_counts()"
   ]
  },
  {
   "cell_type": "markdown",
   "metadata": {},
   "source": [
    "Check that there is no missing value:"
   ]
  },
  {
   "cell_type": "code",
   "execution_count": 45,
   "metadata": {},
   "outputs": [
    {
     "data": {
      "text/plain": [
       "0"
      ]
     },
     "execution_count": 45,
     "metadata": {},
     "output_type": "execute_result"
    }
   ],
   "source": [
    "credit_scoring['purpose'].isnull().sum()"
   ]
  },
  {
   "cell_type": "markdown",
   "metadata": {},
   "source": [
    "### Conclusion"
   ]
  },
  {
   "cell_type": "markdown",
   "metadata": {},
   "source": [
    "<font color =\"blue\">\n",
    "    \n",
    "Some columns in the dataset were categorized to make them more appropriate for analysis:\n",
    "\n",
    "1-\tlevels for the income were made and saved in a new column `level_income`:\n",
    "    \n",
    "|level_income               |numbers|\n",
    "|------                     |------ |\n",
    "|Low<=15000                 |3745   |\n",
    "|15000<Medium-low<=22000    |5775   |\n",
    "|22000<Medium-high<=30000   |6040   |\n",
    "|high >30000                |5918   |\n",
    "    \n",
    "It was tried to make the number of people in the groups approximately equal. \n",
    "\n",
    "\n",
    "2-The children column was categorized to (0,1,2,3 and more) because the amount of data for cases with 4 and 5 (children) is low and it is better to put them with 3 (children) in one category because the analysis with more data is more reliable.\n",
    "\n",
    "   \n",
    "|children  |numbers|\n",
    "|------    |------ |\n",
    "|0         |14089  |\n",
    "|1         |4855   |\n",
    "|2         |2128   |\n",
    "|3 or more |380    |  \n",
    "\n",
    "3-\tColumn `purpose` also contains similar items with different expressions. So, we can categorize them to a common theme.\n",
    "    \n",
    "|purpose                       |numbers|\n",
    "|------                        |------ |\n",
    "|purchase residential estate   |5065   |\n",
    "|car                           |4306   |\n",
    "|education                     |4013   |\n",
    "|housinge                      |3783   |\n",
    "|wedding                       |2323   |\n",
    "|commercial estate             |1962   |    \n",
    "    \n",
    "As we can see, the largest number of borrowers: in terms of the number of children is the group without children. In terms of income, the people whose income level is medium-high (between 22,000 and 30,000). In terms of the purpose of a loan, the highest incentive is to purchase residential estate and then buying a car. The lowest incentive is for commercial estate."
   ]
  },
  {
   "cell_type": "markdown",
   "metadata": {},
   "source": [
    "<a id=\"question\"></a>\n",
    "## Step 3. Answer these questions"
   ]
  },
  {
   "cell_type": "markdown",
   "metadata": {},
   "source": [
    "- **Is there a relation between having kids and repaying a loan on time?**"
   ]
  },
  {
   "cell_type": "code",
   "execution_count": 46,
   "metadata": {},
   "outputs": [
    {
     "data": {
      "text/plain": [
       "0            14089\n",
       "1             4855\n",
       "2             2128\n",
       "3 or more      380\n",
       "Name: children_grouped, dtype: int64"
      ]
     },
     "execution_count": 46,
     "metadata": {},
     "output_type": "execute_result"
    }
   ],
   "source": [
    "credit_scoring['children_grouped'].value_counts()"
   ]
  },
  {
   "cell_type": "code",
   "execution_count": 47,
   "metadata": {},
   "outputs": [
    {
     "data": {
      "text/html": [
       "<div>\n",
       "<style scoped>\n",
       "    .dataframe tbody tr th:only-of-type {\n",
       "        vertical-align: middle;\n",
       "    }\n",
       "\n",
       "    .dataframe tbody tr th {\n",
       "        vertical-align: top;\n",
       "    }\n",
       "\n",
       "    .dataframe thead tr th {\n",
       "        text-align: left;\n",
       "    }\n",
       "\n",
       "    .dataframe thead tr:last-of-type th {\n",
       "        text-align: right;\n",
       "    }\n",
       "</style>\n",
       "<table border=\"1\" class=\"dataframe\">\n",
       "  <thead>\n",
       "    <tr>\n",
       "      <th></th>\n",
       "      <th>count</th>\n",
       "      <th>sum</th>\n",
       "      <th>ratio</th>\n",
       "    </tr>\n",
       "    <tr>\n",
       "      <th></th>\n",
       "      <th>debt</th>\n",
       "      <th>debt</th>\n",
       "      <th></th>\n",
       "    </tr>\n",
       "    <tr>\n",
       "      <th>children_grouped</th>\n",
       "      <th></th>\n",
       "      <th></th>\n",
       "      <th></th>\n",
       "    </tr>\n",
       "  </thead>\n",
       "  <tbody>\n",
       "    <tr>\n",
       "      <th>2</th>\n",
       "      <td>2128</td>\n",
       "      <td>202</td>\n",
       "      <td>9.492481</td>\n",
       "    </tr>\n",
       "    <tr>\n",
       "      <th>1</th>\n",
       "      <td>4855</td>\n",
       "      <td>445</td>\n",
       "      <td>9.165808</td>\n",
       "    </tr>\n",
       "    <tr>\n",
       "      <th>3 or more</th>\n",
       "      <td>380</td>\n",
       "      <td>31</td>\n",
       "      <td>8.157895</td>\n",
       "    </tr>\n",
       "    <tr>\n",
       "      <th>0</th>\n",
       "      <td>14089</td>\n",
       "      <td>1063</td>\n",
       "      <td>7.544893</td>\n",
       "    </tr>\n",
       "  </tbody>\n",
       "</table>\n",
       "</div>"
      ],
      "text/plain": [
       "                  count   sum     ratio\n",
       "                   debt  debt          \n",
       "children_grouped                       \n",
       "2                  2128   202  9.492481\n",
       "1                  4855   445  9.165808\n",
       "3 or more           380    31  8.157895\n",
       "0                 14089  1063  7.544893"
      ]
     },
     "execution_count": 47,
     "metadata": {},
     "output_type": "execute_result"
    }
   ],
   "source": [
    "credit_scoring_grouped=credit_scoring.pivot_table(index='children_grouped', values='debt' , aggfunc=['count','sum'])\n",
    "credit_scoring_grouped['ratio']=credit_scoring_grouped['sum']/credit_scoring_grouped['count']*100\n",
    "credit_scoring_grouped\n",
    "credit_scoring_grouped.sort_values('ratio', ascending=False)"
   ]
  },
  {
   "cell_type": "markdown",
   "metadata": {},
   "source": [
    "<font color =\"blue\">\n",
    "    \n",
    "According to statistics, people with two children and one have a higher default rate than people with more than three children, as well as those without children. 9.4 and 9.1 versus 8.1 and 7.5% indicate this difference. Therefore, it can be inferred that the number of children affects the repaying of a loan on time. Of course, this effect is not linear."
   ]
  },
  {
   "cell_type": "markdown",
   "metadata": {},
   "source": [
    "- **Is there a relation between marital status and repaying a loan on time?**"
   ]
  },
  {
   "cell_type": "code",
   "execution_count": 48,
   "metadata": {},
   "outputs": [
    {
     "data": {
      "text/plain": [
       "married              12339\n",
       "civil partnership     4149\n",
       "unmarried             2810\n",
       "divorced              1195\n",
       "widow / widower        959\n",
       "Name: family_status, dtype: int64"
      ]
     },
     "execution_count": 48,
     "metadata": {},
     "output_type": "execute_result"
    }
   ],
   "source": [
    "credit_scoring['family_status'].value_counts()"
   ]
  },
  {
   "cell_type": "code",
   "execution_count": 49,
   "metadata": {
    "scrolled": true
   },
   "outputs": [
    {
     "data": {
      "text/html": [
       "<div>\n",
       "<style scoped>\n",
       "    .dataframe tbody tr th:only-of-type {\n",
       "        vertical-align: middle;\n",
       "    }\n",
       "\n",
       "    .dataframe tbody tr th {\n",
       "        vertical-align: top;\n",
       "    }\n",
       "\n",
       "    .dataframe thead tr th {\n",
       "        text-align: left;\n",
       "    }\n",
       "\n",
       "    .dataframe thead tr:last-of-type th {\n",
       "        text-align: right;\n",
       "    }\n",
       "</style>\n",
       "<table border=\"1\" class=\"dataframe\">\n",
       "  <thead>\n",
       "    <tr>\n",
       "      <th></th>\n",
       "      <th>count</th>\n",
       "      <th>sum</th>\n",
       "      <th>ratio</th>\n",
       "    </tr>\n",
       "    <tr>\n",
       "      <th></th>\n",
       "      <th>debt</th>\n",
       "      <th>debt</th>\n",
       "      <th></th>\n",
       "    </tr>\n",
       "    <tr>\n",
       "      <th>family_status</th>\n",
       "      <th></th>\n",
       "      <th></th>\n",
       "      <th></th>\n",
       "    </tr>\n",
       "  </thead>\n",
       "  <tbody>\n",
       "    <tr>\n",
       "      <th>unmarried</th>\n",
       "      <td>2810</td>\n",
       "      <td>274</td>\n",
       "      <td>9.750890</td>\n",
       "    </tr>\n",
       "    <tr>\n",
       "      <th>civil partnership</th>\n",
       "      <td>4149</td>\n",
       "      <td>388</td>\n",
       "      <td>9.351651</td>\n",
       "    </tr>\n",
       "    <tr>\n",
       "      <th>married</th>\n",
       "      <td>12339</td>\n",
       "      <td>931</td>\n",
       "      <td>7.545182</td>\n",
       "    </tr>\n",
       "    <tr>\n",
       "      <th>divorced</th>\n",
       "      <td>1195</td>\n",
       "      <td>85</td>\n",
       "      <td>7.112971</td>\n",
       "    </tr>\n",
       "    <tr>\n",
       "      <th>widow / widower</th>\n",
       "      <td>959</td>\n",
       "      <td>63</td>\n",
       "      <td>6.569343</td>\n",
       "    </tr>\n",
       "  </tbody>\n",
       "</table>\n",
       "</div>"
      ],
      "text/plain": [
       "                   count  sum     ratio\n",
       "                    debt debt          \n",
       "family_status                          \n",
       "unmarried           2810  274  9.750890\n",
       "civil partnership   4149  388  9.351651\n",
       "married            12339  931  7.545182\n",
       "divorced            1195   85  7.112971\n",
       "widow / widower      959   63  6.569343"
      ]
     },
     "execution_count": 49,
     "metadata": {},
     "output_type": "execute_result"
    }
   ],
   "source": [
    "credit_scoring_grouped=credit_scoring.pivot_table(index='family_status', values='debt' , aggfunc=['count','sum'])\n",
    "credit_scoring_grouped['ratio']=credit_scoring_grouped['sum']/credit_scoring_grouped['count']*100\n",
    "credit_scoring_grouped.sort_values('ratio', ascending=False)"
   ]
  },
  {
   "cell_type": "markdown",
   "metadata": {},
   "source": [
    "<font color =\"blue\">\n",
    "    \n",
    "As the results of the study show, it seems that the marriage status of individuals is effective in regular repayment of loan installments. Those who are not married have the highest default rate (9.7%) and the lowest default rate against widows (6.5%). In other words, out of every 100 single people, about ten will fail, while out of every 100 widows, only six will fail. Those who are divorced or widowed have the lowest risk of failure."
   ]
  },
  {
   "cell_type": "markdown",
   "metadata": {},
   "source": [
    "- **Is there a relation between income level and repaying a loan on time?**"
   ]
  },
  {
   "cell_type": "code",
   "execution_count": 50,
   "metadata": {
    "scrolled": true
   },
   "outputs": [
    {
     "data": {
      "text/plain": [
       "medium-low     7230\n",
       "high           5919\n",
       "medium-high    4558\n",
       "low            3745\n",
       "Name: level_income, dtype: int64"
      ]
     },
     "execution_count": 50,
     "metadata": {},
     "output_type": "execute_result"
    }
   ],
   "source": [
    "credit_scoring['level_income'].value_counts()"
   ]
  },
  {
   "cell_type": "code",
   "execution_count": 51,
   "metadata": {
    "scrolled": true
   },
   "outputs": [
    {
     "data": {
      "text/html": [
       "<div>\n",
       "<style scoped>\n",
       "    .dataframe tbody tr th:only-of-type {\n",
       "        vertical-align: middle;\n",
       "    }\n",
       "\n",
       "    .dataframe tbody tr th {\n",
       "        vertical-align: top;\n",
       "    }\n",
       "\n",
       "    .dataframe thead tr th {\n",
       "        text-align: left;\n",
       "    }\n",
       "\n",
       "    .dataframe thead tr:last-of-type th {\n",
       "        text-align: right;\n",
       "    }\n",
       "</style>\n",
       "<table border=\"1\" class=\"dataframe\">\n",
       "  <thead>\n",
       "    <tr>\n",
       "      <th></th>\n",
       "      <th>count</th>\n",
       "      <th>sum</th>\n",
       "      <th>ratio</th>\n",
       "    </tr>\n",
       "    <tr>\n",
       "      <th></th>\n",
       "      <th>debt</th>\n",
       "      <th>debt</th>\n",
       "      <th></th>\n",
       "    </tr>\n",
       "    <tr>\n",
       "      <th>level_income</th>\n",
       "      <th></th>\n",
       "      <th></th>\n",
       "      <th></th>\n",
       "    </tr>\n",
       "  </thead>\n",
       "  <tbody>\n",
       "    <tr>\n",
       "      <th>medium-low</th>\n",
       "      <td>7230</td>\n",
       "      <td>627</td>\n",
       "      <td>8.672199</td>\n",
       "    </tr>\n",
       "    <tr>\n",
       "      <th>medium-high</th>\n",
       "      <td>4558</td>\n",
       "      <td>380</td>\n",
       "      <td>8.336990</td>\n",
       "    </tr>\n",
       "    <tr>\n",
       "      <th>low</th>\n",
       "      <td>3745</td>\n",
       "      <td>298</td>\n",
       "      <td>7.957276</td>\n",
       "    </tr>\n",
       "    <tr>\n",
       "      <th>high</th>\n",
       "      <td>5919</td>\n",
       "      <td>436</td>\n",
       "      <td>7.366109</td>\n",
       "    </tr>\n",
       "  </tbody>\n",
       "</table>\n",
       "</div>"
      ],
      "text/plain": [
       "             count  sum     ratio\n",
       "              debt debt          \n",
       "level_income                     \n",
       "medium-low    7230  627  8.672199\n",
       "medium-high   4558  380  8.336990\n",
       "low           3745  298  7.957276\n",
       "high          5919  436  7.366109"
      ]
     },
     "execution_count": 51,
     "metadata": {},
     "output_type": "execute_result"
    }
   ],
   "source": [
    "credit_scoring_grouped=credit_scoring.pivot_table(index='level_income', values='debt' , aggfunc=['count','sum'])\n",
    "credit_scoring_grouped['ratio']=credit_scoring_grouped['sum']/credit_scoring_grouped['count']*100\n",
    "credit_scoring_grouped.sort_values('ratio', ascending=False)"
   ]
  },
  {
   "cell_type": "markdown",
   "metadata": {},
   "source": [
    "<font color =\"blue\">\n",
    "    \n",
    "According to statistics, people with high incomes (more than 3,0000) have the lowest default rates. Low-income people (less than 1,5000) have similar rates and have a low risk(it's logical, People with low incomes are more cautious about getting and repaying loans.) But middle-income people(between 1,5000 and 3,0000) have the highest default rates. Among the middle class, the lower middle class (between 15,000 and 22,000) have a higher risk. Therefore, the level of income is effective in repaying the loan.\n"
   ]
  },
  {
   "cell_type": "markdown",
   "metadata": {},
   "source": [
    "- **How do different loan purposes affect on-time repayment of the loan?**"
   ]
  },
  {
   "cell_type": "code",
   "execution_count": 52,
   "metadata": {},
   "outputs": [
    {
     "data": {
      "text/plain": [
       "purchase residential estate    5065\n",
       "car                            4306\n",
       "education                      4013\n",
       "housing                        3783\n",
       "wedding                        2323\n",
       "commercial estate              1962\n",
       "Name: purpose, dtype: int64"
      ]
     },
     "execution_count": 52,
     "metadata": {},
     "output_type": "execute_result"
    }
   ],
   "source": [
    "credit_scoring['purpose'].value_counts()"
   ]
  },
  {
   "cell_type": "code",
   "execution_count": 53,
   "metadata": {
    "scrolled": true
   },
   "outputs": [
    {
     "data": {
      "text/html": [
       "<div>\n",
       "<style scoped>\n",
       "    .dataframe tbody tr th:only-of-type {\n",
       "        vertical-align: middle;\n",
       "    }\n",
       "\n",
       "    .dataframe tbody tr th {\n",
       "        vertical-align: top;\n",
       "    }\n",
       "\n",
       "    .dataframe thead tr th {\n",
       "        text-align: left;\n",
       "    }\n",
       "\n",
       "    .dataframe thead tr:last-of-type th {\n",
       "        text-align: right;\n",
       "    }\n",
       "</style>\n",
       "<table border=\"1\" class=\"dataframe\">\n",
       "  <thead>\n",
       "    <tr>\n",
       "      <th></th>\n",
       "      <th>count</th>\n",
       "      <th>sum</th>\n",
       "      <th>ratio</th>\n",
       "    </tr>\n",
       "    <tr>\n",
       "      <th></th>\n",
       "      <th>debt</th>\n",
       "      <th>debt</th>\n",
       "      <th></th>\n",
       "    </tr>\n",
       "    <tr>\n",
       "      <th>purpose</th>\n",
       "      <th></th>\n",
       "      <th></th>\n",
       "      <th></th>\n",
       "    </tr>\n",
       "  </thead>\n",
       "  <tbody>\n",
       "    <tr>\n",
       "      <th>car</th>\n",
       "      <td>4306</td>\n",
       "      <td>403</td>\n",
       "      <td>9.359034</td>\n",
       "    </tr>\n",
       "    <tr>\n",
       "      <th>education</th>\n",
       "      <td>4013</td>\n",
       "      <td>370</td>\n",
       "      <td>9.220035</td>\n",
       "    </tr>\n",
       "    <tr>\n",
       "      <th>wedding</th>\n",
       "      <td>2323</td>\n",
       "      <td>186</td>\n",
       "      <td>8.006888</td>\n",
       "    </tr>\n",
       "    <tr>\n",
       "      <th>commercial estate</th>\n",
       "      <td>1962</td>\n",
       "      <td>151</td>\n",
       "      <td>7.696228</td>\n",
       "    </tr>\n",
       "    <tr>\n",
       "      <th>housing</th>\n",
       "      <td>3783</td>\n",
       "      <td>273</td>\n",
       "      <td>7.216495</td>\n",
       "    </tr>\n",
       "    <tr>\n",
       "      <th>purchase residential estate</th>\n",
       "      <td>5065</td>\n",
       "      <td>358</td>\n",
       "      <td>7.068115</td>\n",
       "    </tr>\n",
       "  </tbody>\n",
       "</table>\n",
       "</div>"
      ],
      "text/plain": [
       "                            count  sum     ratio\n",
       "                             debt debt          \n",
       "purpose                                         \n",
       "car                          4306  403  9.359034\n",
       "education                    4013  370  9.220035\n",
       "wedding                      2323  186  8.006888\n",
       "commercial estate            1962  151  7.696228\n",
       "housing                      3783  273  7.216495\n",
       "purchase residential estate  5065  358  7.068115"
      ]
     },
     "execution_count": 53,
     "metadata": {},
     "output_type": "execute_result"
    }
   ],
   "source": [
    "credit_scoring_grouped=credit_scoring.pivot_table(index='purpose', values='debt' , aggfunc=['count','sum'])\n",
    "credit_scoring_grouped['ratio']=credit_scoring_grouped['sum']/credit_scoring_grouped['count']*100\n",
    "credit_scoring_grouped.sort_values('ratio', ascending=False)"
   ]
  },
  {
   "cell_type": "markdown",
   "metadata": {},
   "source": [
    "<font color =\"blue\">\n",
    "\n",
    "Statistical results show that if the purpose of loan is related to the car with education, the risk of default is significantly higher than those who borrowed for the purpose of marriage or the purchase of real estate. The default rate for car and education is more than 9%, while the rate for marriage and real estate is less than 8%."
   ]
  },
  {
   "cell_type": "code",
   "execution_count": 54,
   "metadata": {
    "scrolled": false
   },
   "outputs": [
    {
     "data": {
      "text/html": [
       "<div>\n",
       "<style scoped>\n",
       "    .dataframe tbody tr th:only-of-type {\n",
       "        vertical-align: middle;\n",
       "    }\n",
       "\n",
       "    .dataframe tbody tr th {\n",
       "        vertical-align: top;\n",
       "    }\n",
       "\n",
       "    .dataframe thead tr th {\n",
       "        text-align: left;\n",
       "    }\n",
       "\n",
       "    .dataframe thead tr:last-of-type th {\n",
       "        text-align: right;\n",
       "    }\n",
       "</style>\n",
       "<table border=\"1\" class=\"dataframe\">\n",
       "  <thead>\n",
       "    <tr>\n",
       "      <th></th>\n",
       "      <th></th>\n",
       "      <th>count</th>\n",
       "      <th>sum</th>\n",
       "      <th>ratio</th>\n",
       "    </tr>\n",
       "    <tr>\n",
       "      <th></th>\n",
       "      <th></th>\n",
       "      <th>debt</th>\n",
       "      <th>debt</th>\n",
       "      <th></th>\n",
       "    </tr>\n",
       "    <tr>\n",
       "      <th>purpose</th>\n",
       "      <th>level_income</th>\n",
       "      <th></th>\n",
       "      <th></th>\n",
       "      <th></th>\n",
       "    </tr>\n",
       "  </thead>\n",
       "  <tbody>\n",
       "    <tr>\n",
       "      <th>car</th>\n",
       "      <th>medium-high</th>\n",
       "      <td>873</td>\n",
       "      <td>90</td>\n",
       "      <td>10.309278</td>\n",
       "    </tr>\n",
       "    <tr>\n",
       "      <th>education</th>\n",
       "      <th>medium-low</th>\n",
       "      <td>1361</td>\n",
       "      <td>140</td>\n",
       "      <td>10.286554</td>\n",
       "    </tr>\n",
       "    <tr>\n",
       "      <th>car</th>\n",
       "      <th>medium-low</th>\n",
       "      <td>1489</td>\n",
       "      <td>147</td>\n",
       "      <td>9.872398</td>\n",
       "    </tr>\n",
       "    <tr>\n",
       "      <th>wedding</th>\n",
       "      <th>low</th>\n",
       "      <td>401</td>\n",
       "      <td>38</td>\n",
       "      <td>9.476309</td>\n",
       "    </tr>\n",
       "    <tr>\n",
       "      <th>education</th>\n",
       "      <th>medium-high</th>\n",
       "      <td>877</td>\n",
       "      <td>83</td>\n",
       "      <td>9.464082</td>\n",
       "    </tr>\n",
       "    <tr>\n",
       "      <th>wedding</th>\n",
       "      <th>medium-low</th>\n",
       "      <td>804</td>\n",
       "      <td>75</td>\n",
       "      <td>9.328358</td>\n",
       "    </tr>\n",
       "    <tr>\n",
       "      <th>car</th>\n",
       "      <th>high</th>\n",
       "      <td>1203</td>\n",
       "      <td>104</td>\n",
       "      <td>8.645054</td>\n",
       "    </tr>\n",
       "    <tr>\n",
       "      <th>education</th>\n",
       "      <th>low</th>\n",
       "      <td>726</td>\n",
       "      <td>61</td>\n",
       "      <td>8.402204</td>\n",
       "    </tr>\n",
       "    <tr>\n",
       "      <th>car</th>\n",
       "      <th>low</th>\n",
       "      <td>741</td>\n",
       "      <td>62</td>\n",
       "      <td>8.367072</td>\n",
       "    </tr>\n",
       "    <tr>\n",
       "      <th>commercial estate</th>\n",
       "      <th>high</th>\n",
       "      <td>553</td>\n",
       "      <td>46</td>\n",
       "      <td>8.318264</td>\n",
       "    </tr>\n",
       "    <tr>\n",
       "      <th>education</th>\n",
       "      <th>high</th>\n",
       "      <td>1049</td>\n",
       "      <td>86</td>\n",
       "      <td>8.198284</td>\n",
       "    </tr>\n",
       "    <tr>\n",
       "      <th>housing</th>\n",
       "      <th>medium-low</th>\n",
       "      <td>1269</td>\n",
       "      <td>101</td>\n",
       "      <td>7.959023</td>\n",
       "    </tr>\n",
       "    <tr>\n",
       "      <th>commercial estate</th>\n",
       "      <th>low</th>\n",
       "      <td>367</td>\n",
       "      <td>29</td>\n",
       "      <td>7.901907</td>\n",
       "    </tr>\n",
       "    <tr>\n",
       "      <th>purchase residential estate</th>\n",
       "      <th>medium-high</th>\n",
       "      <td>1110</td>\n",
       "      <td>85</td>\n",
       "      <td>7.657658</td>\n",
       "    </tr>\n",
       "    <tr>\n",
       "      <th>commercial estate</th>\n",
       "      <th>medium-low</th>\n",
       "      <td>657</td>\n",
       "      <td>50</td>\n",
       "      <td>7.610350</td>\n",
       "    </tr>\n",
       "    <tr>\n",
       "      <th>housing</th>\n",
       "      <th>low</th>\n",
       "      <td>623</td>\n",
       "      <td>47</td>\n",
       "      <td>7.544141</td>\n",
       "    </tr>\n",
       "    <tr>\n",
       "      <th>wedding</th>\n",
       "      <th>medium-high</th>\n",
       "      <td>482</td>\n",
       "      <td>36</td>\n",
       "      <td>7.468880</td>\n",
       "    </tr>\n",
       "    <tr>\n",
       "      <th>housing</th>\n",
       "      <th>medium-high</th>\n",
       "      <td>831</td>\n",
       "      <td>60</td>\n",
       "      <td>7.220217</td>\n",
       "    </tr>\n",
       "    <tr>\n",
       "      <th rowspan=\"3\" valign=\"top\">purchase residential estate</th>\n",
       "      <th>high</th>\n",
       "      <td>1418</td>\n",
       "      <td>98</td>\n",
       "      <td>6.911142</td>\n",
       "    </tr>\n",
       "    <tr>\n",
       "      <th>medium-low</th>\n",
       "      <td>1650</td>\n",
       "      <td>114</td>\n",
       "      <td>6.909091</td>\n",
       "    </tr>\n",
       "    <tr>\n",
       "      <th>low</th>\n",
       "      <td>887</td>\n",
       "      <td>61</td>\n",
       "      <td>6.877114</td>\n",
       "    </tr>\n",
       "    <tr>\n",
       "      <th>commercial estate</th>\n",
       "      <th>medium-high</th>\n",
       "      <td>385</td>\n",
       "      <td>26</td>\n",
       "      <td>6.753247</td>\n",
       "    </tr>\n",
       "    <tr>\n",
       "      <th>housing</th>\n",
       "      <th>high</th>\n",
       "      <td>1060</td>\n",
       "      <td>65</td>\n",
       "      <td>6.132075</td>\n",
       "    </tr>\n",
       "    <tr>\n",
       "      <th>wedding</th>\n",
       "      <th>high</th>\n",
       "      <td>636</td>\n",
       "      <td>37</td>\n",
       "      <td>5.817610</td>\n",
       "    </tr>\n",
       "  </tbody>\n",
       "</table>\n",
       "</div>"
      ],
      "text/plain": [
       "                                         count  sum      ratio\n",
       "                                          debt debt           \n",
       "purpose                     level_income                      \n",
       "car                         medium-high    873   90  10.309278\n",
       "education                   medium-low    1361  140  10.286554\n",
       "car                         medium-low    1489  147   9.872398\n",
       "wedding                     low            401   38   9.476309\n",
       "education                   medium-high    877   83   9.464082\n",
       "wedding                     medium-low     804   75   9.328358\n",
       "car                         high          1203  104   8.645054\n",
       "education                   low            726   61   8.402204\n",
       "car                         low            741   62   8.367072\n",
       "commercial estate           high           553   46   8.318264\n",
       "education                   high          1049   86   8.198284\n",
       "housing                     medium-low    1269  101   7.959023\n",
       "commercial estate           low            367   29   7.901907\n",
       "purchase residential estate medium-high   1110   85   7.657658\n",
       "commercial estate           medium-low     657   50   7.610350\n",
       "housing                     low            623   47   7.544141\n",
       "wedding                     medium-high    482   36   7.468880\n",
       "housing                     medium-high    831   60   7.220217\n",
       "purchase residential estate high          1418   98   6.911142\n",
       "                            medium-low    1650  114   6.909091\n",
       "                            low            887   61   6.877114\n",
       "commercial estate           medium-high    385   26   6.753247\n",
       "housing                     high          1060   65   6.132075\n",
       "wedding                     high           636   37   5.817610"
      ]
     },
     "execution_count": 54,
     "metadata": {},
     "output_type": "execute_result"
    }
   ],
   "source": [
    "credit_scoring_grouped=credit_scoring.pivot_table(index=['purpose','level_income'], values='debt' , aggfunc=['count','sum'])\n",
    "credit_scoring_grouped['ratio']=credit_scoring_grouped['sum']/credit_scoring_grouped['count']*100\n",
    "credit_scoring_grouped.sort_values('ratio', ascending=False)"
   ]
  },
  {
   "cell_type": "markdown",
   "metadata": {},
   "source": [
    "<font color =\"blue\">\n",
    "When we look at the default rate from both the income level and the purpose of the loan at the same time, we find that in cases where the purpose of the loan is related to education or car and also people belong to the low and middle income category, the risk is much higher. (Rate = 9.6%) compared to when the goal is a car or education but people are related to the high-income category (rate = 8%). When we analyze the rates from the perspective of two criteria, we come to new and interesting results."
   ]
  },
  {
   "cell_type": "code",
   "execution_count": 55,
   "metadata": {
    "scrolled": true
   },
   "outputs": [
    {
     "data": {
      "text/html": [
       "<div>\n",
       "<style scoped>\n",
       "    .dataframe tbody tr th:only-of-type {\n",
       "        vertical-align: middle;\n",
       "    }\n",
       "\n",
       "    .dataframe tbody tr th {\n",
       "        vertical-align: top;\n",
       "    }\n",
       "\n",
       "    .dataframe thead tr th {\n",
       "        text-align: left;\n",
       "    }\n",
       "\n",
       "    .dataframe thead tr:last-of-type th {\n",
       "        text-align: right;\n",
       "    }\n",
       "</style>\n",
       "<table border=\"1\" class=\"dataframe\">\n",
       "  <thead>\n",
       "    <tr>\n",
       "      <th></th>\n",
       "      <th></th>\n",
       "      <th>count</th>\n",
       "      <th>sum</th>\n",
       "      <th>ratio</th>\n",
       "    </tr>\n",
       "    <tr>\n",
       "      <th></th>\n",
       "      <th></th>\n",
       "      <th>debt</th>\n",
       "      <th>debt</th>\n",
       "      <th></th>\n",
       "    </tr>\n",
       "    <tr>\n",
       "      <th>purpose</th>\n",
       "      <th>children_grouped</th>\n",
       "      <th></th>\n",
       "      <th></th>\n",
       "      <th></th>\n",
       "    </tr>\n",
       "  </thead>\n",
       "  <tbody>\n",
       "    <tr>\n",
       "      <th>wedding</th>\n",
       "      <th>3 or more</th>\n",
       "      <td>36</td>\n",
       "      <td>5</td>\n",
       "      <td>13.888889</td>\n",
       "    </tr>\n",
       "    <tr>\n",
       "      <th>car</th>\n",
       "      <th>2</th>\n",
       "      <td>415</td>\n",
       "      <td>50</td>\n",
       "      <td>12.048193</td>\n",
       "    </tr>\n",
       "    <tr>\n",
       "      <th>education</th>\n",
       "      <th>2</th>\n",
       "      <td>418</td>\n",
       "      <td>47</td>\n",
       "      <td>11.244019</td>\n",
       "    </tr>\n",
       "    <tr>\n",
       "      <th>purchase residential estate</th>\n",
       "      <th>3 or more</th>\n",
       "      <td>91</td>\n",
       "      <td>10</td>\n",
       "      <td>10.989011</td>\n",
       "    </tr>\n",
       "    <tr>\n",
       "      <th>car</th>\n",
       "      <th>1</th>\n",
       "      <td>974</td>\n",
       "      <td>104</td>\n",
       "      <td>10.677618</td>\n",
       "    </tr>\n",
       "    <tr>\n",
       "      <th>education</th>\n",
       "      <th>1</th>\n",
       "      <td>876</td>\n",
       "      <td>90</td>\n",
       "      <td>10.273973</td>\n",
       "    </tr>\n",
       "    <tr>\n",
       "      <th>housing</th>\n",
       "      <th>2</th>\n",
       "      <td>376</td>\n",
       "      <td>37</td>\n",
       "      <td>9.840426</td>\n",
       "    </tr>\n",
       "    <tr>\n",
       "      <th>commercial estate</th>\n",
       "      <th>1</th>\n",
       "      <td>471</td>\n",
       "      <td>45</td>\n",
       "      <td>9.554140</td>\n",
       "    </tr>\n",
       "    <tr>\n",
       "      <th>wedding</th>\n",
       "      <th>1</th>\n",
       "      <td>534</td>\n",
       "      <td>51</td>\n",
       "      <td>9.550562</td>\n",
       "    </tr>\n",
       "    <tr>\n",
       "      <th>education</th>\n",
       "      <th>0</th>\n",
       "      <td>2642</td>\n",
       "      <td>229</td>\n",
       "      <td>8.667676</td>\n",
       "    </tr>\n",
       "    <tr>\n",
       "      <th>purchase residential estate</th>\n",
       "      <th>2</th>\n",
       "      <td>497</td>\n",
       "      <td>43</td>\n",
       "      <td>8.651911</td>\n",
       "    </tr>\n",
       "    <tr>\n",
       "      <th rowspan=\"2\" valign=\"top\">car</th>\n",
       "      <th>0</th>\n",
       "      <td>2845</td>\n",
       "      <td>243</td>\n",
       "      <td>8.541301</td>\n",
       "    </tr>\n",
       "    <tr>\n",
       "      <th>3 or more</th>\n",
       "      <td>72</td>\n",
       "      <td>6</td>\n",
       "      <td>8.333333</td>\n",
       "    </tr>\n",
       "    <tr>\n",
       "      <th>purchase residential estate</th>\n",
       "      <th>1</th>\n",
       "      <td>1159</td>\n",
       "      <td>94</td>\n",
       "      <td>8.110440</td>\n",
       "    </tr>\n",
       "    <tr>\n",
       "      <th>commercial estate</th>\n",
       "      <th>0</th>\n",
       "      <td>1257</td>\n",
       "      <td>95</td>\n",
       "      <td>7.557677</td>\n",
       "    </tr>\n",
       "    <tr>\n",
       "      <th>wedding</th>\n",
       "      <th>0</th>\n",
       "      <td>1529</td>\n",
       "      <td>115</td>\n",
       "      <td>7.521256</td>\n",
       "    </tr>\n",
       "    <tr>\n",
       "      <th rowspan=\"3\" valign=\"top\">housing</th>\n",
       "      <th>3 or more</th>\n",
       "      <td>68</td>\n",
       "      <td>5</td>\n",
       "      <td>7.352941</td>\n",
       "    </tr>\n",
       "    <tr>\n",
       "      <th>1</th>\n",
       "      <td>841</td>\n",
       "      <td>61</td>\n",
       "      <td>7.253270</td>\n",
       "    </tr>\n",
       "    <tr>\n",
       "      <th>0</th>\n",
       "      <td>2498</td>\n",
       "      <td>170</td>\n",
       "      <td>6.805444</td>\n",
       "    </tr>\n",
       "    <tr>\n",
       "      <th>wedding</th>\n",
       "      <th>2</th>\n",
       "      <td>224</td>\n",
       "      <td>15</td>\n",
       "      <td>6.696429</td>\n",
       "    </tr>\n",
       "    <tr>\n",
       "      <th>purchase residential estate</th>\n",
       "      <th>0</th>\n",
       "      <td>3318</td>\n",
       "      <td>211</td>\n",
       "      <td>6.359253</td>\n",
       "    </tr>\n",
       "    <tr>\n",
       "      <th>education</th>\n",
       "      <th>3 or more</th>\n",
       "      <td>77</td>\n",
       "      <td>4</td>\n",
       "      <td>5.194805</td>\n",
       "    </tr>\n",
       "    <tr>\n",
       "      <th rowspan=\"2\" valign=\"top\">commercial estate</th>\n",
       "      <th>2</th>\n",
       "      <td>198</td>\n",
       "      <td>10</td>\n",
       "      <td>5.050505</td>\n",
       "    </tr>\n",
       "    <tr>\n",
       "      <th>3 or more</th>\n",
       "      <td>36</td>\n",
       "      <td>1</td>\n",
       "      <td>2.777778</td>\n",
       "    </tr>\n",
       "  </tbody>\n",
       "</table>\n",
       "</div>"
      ],
      "text/plain": [
       "                                             count  sum      ratio\n",
       "                                              debt debt           \n",
       "purpose                     children_grouped                      \n",
       "wedding                     3 or more           36    5  13.888889\n",
       "car                         2                  415   50  12.048193\n",
       "education                   2                  418   47  11.244019\n",
       "purchase residential estate 3 or more           91   10  10.989011\n",
       "car                         1                  974  104  10.677618\n",
       "education                   1                  876   90  10.273973\n",
       "housing                     2                  376   37   9.840426\n",
       "commercial estate           1                  471   45   9.554140\n",
       "wedding                     1                  534   51   9.550562\n",
       "education                   0                 2642  229   8.667676\n",
       "purchase residential estate 2                  497   43   8.651911\n",
       "car                         0                 2845  243   8.541301\n",
       "                            3 or more           72    6   8.333333\n",
       "purchase residential estate 1                 1159   94   8.110440\n",
       "commercial estate           0                 1257   95   7.557677\n",
       "wedding                     0                 1529  115   7.521256\n",
       "housing                     3 or more           68    5   7.352941\n",
       "                            1                  841   61   7.253270\n",
       "                            0                 2498  170   6.805444\n",
       "wedding                     2                  224   15   6.696429\n",
       "purchase residential estate 0                 3318  211   6.359253\n",
       "education                   3 or more           77    4   5.194805\n",
       "commercial estate           2                  198   10   5.050505\n",
       "                            3 or more           36    1   2.777778"
      ]
     },
     "execution_count": 55,
     "metadata": {},
     "output_type": "execute_result"
    }
   ],
   "source": [
    "credit_scoring_grouped=credit_scoring.pivot_table(index=['purpose','children_grouped'], values='debt' , aggfunc=['count','sum'])\n",
    "credit_scoring_grouped['ratio']=credit_scoring_grouped['sum']/credit_scoring_grouped['count']*100\n",
    "credit_scoring_grouped.sort_values('ratio', ascending=False)"
   ]
  },
  {
   "cell_type": "markdown",
   "metadata": {},
   "source": [
    "<font color =\"blue\">\n",
    "When we examine the default rate from the same perspective of the loan target and the number of children, we come to an interesting conclusion. It is not surprising that the goal of car and education is high risk, but it is interesting that when the target is residential houses and the number of children is three or more, the default rate goes up. (Approximately 11%). This may be because they have larger homes and the cost of buying a home is high, while having three or more children increases the running costs of the household and reduces the possibility of repaying the loan on a regular basis."
   ]
  },
  {
   "cell_type": "code",
   "execution_count": 56,
   "metadata": {
    "scrolled": false
   },
   "outputs": [
    {
     "data": {
      "text/html": [
       "<div>\n",
       "<style scoped>\n",
       "    .dataframe tbody tr th:only-of-type {\n",
       "        vertical-align: middle;\n",
       "    }\n",
       "\n",
       "    .dataframe tbody tr th {\n",
       "        vertical-align: top;\n",
       "    }\n",
       "\n",
       "    .dataframe thead tr th {\n",
       "        text-align: left;\n",
       "    }\n",
       "\n",
       "    .dataframe thead tr:last-of-type th {\n",
       "        text-align: right;\n",
       "    }\n",
       "</style>\n",
       "<table border=\"1\" class=\"dataframe\">\n",
       "  <thead>\n",
       "    <tr>\n",
       "      <th></th>\n",
       "      <th></th>\n",
       "      <th>count</th>\n",
       "      <th>sum</th>\n",
       "      <th>ratio</th>\n",
       "    </tr>\n",
       "    <tr>\n",
       "      <th></th>\n",
       "      <th></th>\n",
       "      <th>debt</th>\n",
       "      <th>debt</th>\n",
       "      <th></th>\n",
       "    </tr>\n",
       "    <tr>\n",
       "      <th>purpose</th>\n",
       "      <th>family_status</th>\n",
       "      <th></th>\n",
       "      <th></th>\n",
       "      <th></th>\n",
       "    </tr>\n",
       "  </thead>\n",
       "  <tbody>\n",
       "    <tr>\n",
       "      <th>education</th>\n",
       "      <th>civil partnership</th>\n",
       "      <td>404</td>\n",
       "      <td>60</td>\n",
       "      <td>14.851485</td>\n",
       "    </tr>\n",
       "    <tr>\n",
       "      <th rowspan=\"2\" valign=\"top\">car</th>\n",
       "      <th>unmarried</th>\n",
       "      <td>637</td>\n",
       "      <td>82</td>\n",
       "      <td>12.872841</td>\n",
       "    </tr>\n",
       "    <tr>\n",
       "      <th>civil partnership</th>\n",
       "      <td>434</td>\n",
       "      <td>51</td>\n",
       "      <td>11.751152</td>\n",
       "    </tr>\n",
       "    <tr>\n",
       "      <th>education</th>\n",
       "      <th>unmarried</th>\n",
       "      <td>577</td>\n",
       "      <td>62</td>\n",
       "      <td>10.745234</td>\n",
       "    </tr>\n",
       "    <tr>\n",
       "      <th>purchase residential estate</th>\n",
       "      <th>civil partnership</th>\n",
       "      <td>440</td>\n",
       "      <td>45</td>\n",
       "      <td>10.227273</td>\n",
       "    </tr>\n",
       "    <tr>\n",
       "      <th>commercial estate</th>\n",
       "      <th>civil partnership</th>\n",
       "      <td>195</td>\n",
       "      <td>19</td>\n",
       "      <td>9.743590</td>\n",
       "    </tr>\n",
       "    <tr>\n",
       "      <th>car</th>\n",
       "      <th>widow / widower</th>\n",
       "      <td>218</td>\n",
       "      <td>20</td>\n",
       "      <td>9.174312</td>\n",
       "    </tr>\n",
       "    <tr>\n",
       "      <th>commercial estate</th>\n",
       "      <th>widow / widower</th>\n",
       "      <td>105</td>\n",
       "      <td>9</td>\n",
       "      <td>8.571429</td>\n",
       "    </tr>\n",
       "    <tr>\n",
       "      <th>housing</th>\n",
       "      <th>unmarried</th>\n",
       "      <td>584</td>\n",
       "      <td>50</td>\n",
       "      <td>8.561644</td>\n",
       "    </tr>\n",
       "    <tr>\n",
       "      <th>commercial estate</th>\n",
       "      <th>unmarried</th>\n",
       "      <td>271</td>\n",
       "      <td>23</td>\n",
       "      <td>8.487085</td>\n",
       "    </tr>\n",
       "    <tr>\n",
       "      <th>car</th>\n",
       "      <th>married</th>\n",
       "      <td>2736</td>\n",
       "      <td>229</td>\n",
       "      <td>8.369883</td>\n",
       "    </tr>\n",
       "    <tr>\n",
       "      <th>education</th>\n",
       "      <th>married</th>\n",
       "      <td>2595</td>\n",
       "      <td>216</td>\n",
       "      <td>8.323699</td>\n",
       "    </tr>\n",
       "    <tr>\n",
       "      <th>housing</th>\n",
       "      <th>divorced</th>\n",
       "      <td>230</td>\n",
       "      <td>19</td>\n",
       "      <td>8.260870</td>\n",
       "    </tr>\n",
       "    <tr>\n",
       "      <th>wedding</th>\n",
       "      <th>civil partnership</th>\n",
       "      <td>2323</td>\n",
       "      <td>186</td>\n",
       "      <td>8.006888</td>\n",
       "    </tr>\n",
       "    <tr>\n",
       "      <th>purchase residential estate</th>\n",
       "      <th>unmarried</th>\n",
       "      <td>741</td>\n",
       "      <td>57</td>\n",
       "      <td>7.692308</td>\n",
       "    </tr>\n",
       "    <tr>\n",
       "      <th>housing</th>\n",
       "      <th>civil partnership</th>\n",
       "      <td>353</td>\n",
       "      <td>27</td>\n",
       "      <td>7.648725</td>\n",
       "    </tr>\n",
       "    <tr>\n",
       "      <th>education</th>\n",
       "      <th>widow / widower</th>\n",
       "      <td>199</td>\n",
       "      <td>15</td>\n",
       "      <td>7.537688</td>\n",
       "    </tr>\n",
       "    <tr>\n",
       "      <th>car</th>\n",
       "      <th>divorced</th>\n",
       "      <td>281</td>\n",
       "      <td>21</td>\n",
       "      <td>7.473310</td>\n",
       "    </tr>\n",
       "    <tr>\n",
       "      <th>commercial estate</th>\n",
       "      <th>married</th>\n",
       "      <td>1260</td>\n",
       "      <td>94</td>\n",
       "      <td>7.460317</td>\n",
       "    </tr>\n",
       "    <tr>\n",
       "      <th>education</th>\n",
       "      <th>divorced</th>\n",
       "      <td>238</td>\n",
       "      <td>17</td>\n",
       "      <td>7.142857</td>\n",
       "    </tr>\n",
       "    <tr>\n",
       "      <th>purchase residential estate</th>\n",
       "      <th>divorced</th>\n",
       "      <td>315</td>\n",
       "      <td>22</td>\n",
       "      <td>6.984127</td>\n",
       "    </tr>\n",
       "    <tr>\n",
       "      <th>housing</th>\n",
       "      <th>married</th>\n",
       "      <td>2421</td>\n",
       "      <td>169</td>\n",
       "      <td>6.980587</td>\n",
       "    </tr>\n",
       "    <tr>\n",
       "      <th>purchase residential estate</th>\n",
       "      <th>married</th>\n",
       "      <td>3327</td>\n",
       "      <td>223</td>\n",
       "      <td>6.702735</td>\n",
       "    </tr>\n",
       "    <tr>\n",
       "      <th>commercial estate</th>\n",
       "      <th>divorced</th>\n",
       "      <td>131</td>\n",
       "      <td>6</td>\n",
       "      <td>4.580153</td>\n",
       "    </tr>\n",
       "    <tr>\n",
       "      <th>purchase residential estate</th>\n",
       "      <th>widow / widower</th>\n",
       "      <td>242</td>\n",
       "      <td>11</td>\n",
       "      <td>4.545455</td>\n",
       "    </tr>\n",
       "    <tr>\n",
       "      <th>housing</th>\n",
       "      <th>widow / widower</th>\n",
       "      <td>195</td>\n",
       "      <td>8</td>\n",
       "      <td>4.102564</td>\n",
       "    </tr>\n",
       "  </tbody>\n",
       "</table>\n",
       "</div>"
      ],
      "text/plain": [
       "                                              count  sum      ratio\n",
       "                                               debt debt           \n",
       "purpose                     family_status                          \n",
       "education                   civil partnership   404   60  14.851485\n",
       "car                         unmarried           637   82  12.872841\n",
       "                            civil partnership   434   51  11.751152\n",
       "education                   unmarried           577   62  10.745234\n",
       "purchase residential estate civil partnership   440   45  10.227273\n",
       "commercial estate           civil partnership   195   19   9.743590\n",
       "car                         widow / widower     218   20   9.174312\n",
       "commercial estate           widow / widower     105    9   8.571429\n",
       "housing                     unmarried           584   50   8.561644\n",
       "commercial estate           unmarried           271   23   8.487085\n",
       "car                         married            2736  229   8.369883\n",
       "education                   married            2595  216   8.323699\n",
       "housing                     divorced            230   19   8.260870\n",
       "wedding                     civil partnership  2323  186   8.006888\n",
       "purchase residential estate unmarried           741   57   7.692308\n",
       "housing                     civil partnership   353   27   7.648725\n",
       "education                   widow / widower     199   15   7.537688\n",
       "car                         divorced            281   21   7.473310\n",
       "commercial estate           married            1260   94   7.460317\n",
       "education                   divorced            238   17   7.142857\n",
       "purchase residential estate divorced            315   22   6.984127\n",
       "housing                     married            2421  169   6.980587\n",
       "purchase residential estate married            3327  223   6.702735\n",
       "commercial estate           divorced            131    6   4.580153\n",
       "purchase residential estate widow / widower     242   11   4.545455\n",
       "housing                     widow / widower     195    8   4.102564"
      ]
     },
     "execution_count": 56,
     "metadata": {},
     "output_type": "execute_result"
    }
   ],
   "source": [
    "credit_scoring_grouped=credit_scoring.pivot_table(index=['purpose','family_status'], values='debt' , aggfunc=['count','sum'])\n",
    "credit_scoring_grouped['ratio']=credit_scoring_grouped['sum']/credit_scoring_grouped['count']*100\n",
    "credit_scoring_grouped.sort_values('ratio', ascending=False)"
   ]
  },
  {
   "cell_type": "markdown",
   "metadata": {},
   "source": [
    "<font color =\"blue\">\n",
    "From the results of this section, we come to an interesting point. Not surprisingly, the first 4 rows of the table are related to cars and education (as we did in this analysis in previous tables). But the interesting thing is that if the purpose of the loan is to buy a residential house and the marital status is civil partnership, the risk of default will be high and it will be in the top 5 in terms of default rate."
   ]
  },
  {
   "cell_type": "markdown",
   "metadata": {},
   "source": [
    "## Conclusion"
   ]
  },
  {
   "cell_type": "markdown",
   "metadata": {},
   "source": [
    "<font color =\"blue\">\n",
    "\n",
    "**1-There is a relationship between having kids and repaying a loan on time.  \n",
    "        the default-rate based on the number of children is shown below:**\n",
    " \n",
    "|children_grouped| count| sum | ratio|        \n",
    "|----------------|------|-----|------|\t\n",
    "|2               |2128  |  202|9.492481|\n",
    "|1               |4855  |  445|9.165808|\n",
    "|3 or more       |380   |   31|8.157895|\n",
    "|0               |14089 | 1063|7.544893|\n",
    "\n",
    "According to statistics, people with two children and one have a higher default rate than people with more than three children, as well as those without children. 9.4 and 9.1 versus 8.1 and 7.5% indicate this difference. Therefore, it can be inferred that the number of children affects the repaying of a loan on time. Of course, this effect is not linear.\n",
    "\n",
    "\n",
    "  **2- There is a relationship between marital status and repaying a loan on time.\n",
    "   the default-rate based on the family_status is shown below:**\n",
    "   \n",
    "|family_status     | count| sum | ratio|        \n",
    "|----------------  |------|-----|------|\t\n",
    "|unmarried         |2810  | 274 |9.750890|\n",
    "|civil partnership |4149  | 388 |9.351651|\n",
    "| married          |12339 |\t931 |7.545182|\n",
    "|divorced          |1195  | 85  |7.112971|    \n",
    "| widow / widower  |959   | 63  |6.569343|    \n",
    "\n",
    "As the results of the analysis show, it seems that the marriage status of individuals is effective in regular repayment of loan installments. Those who are not married have the highest default rate (9.7%) and the lowest default rate against widows (6.5%). In other words, out of every 100 single people, about ten will fail, while out of every 100 widows, only six will fail. Those who are divorced or widowed have the lowest risk of failure.\n",
    "\n",
    "\n",
    "  **3-There is a relation between income level and default rate.\n",
    "  the default-rate based on the level_income is shown below:**\n",
    "  \n",
    "\n",
    "| level_income    | count| sum | ratio|        \n",
    "|---------------- |------|-----|------|\t\n",
    "|medium-low       |5775  | 494 |8.554113|\n",
    "| medium-high     |6014  | 513 |8.530096|\n",
    "| low             |3745  | 298 |7.957276|\n",
    "| high            |5918  | 436 |7.367354| \n",
    "    \n",
    "According to statistics, people with high incomes (more than 3,0000) have the lowest default rates. Low-income people (less than 1,5000) have similar rates and have a low risk(it's logical, People with low incomes are more cautious about getting and repaying loans.) But middle-income people(between 1,5000 and 3,0000) have the highest default rates. Among the middle class, the lower middle class (between 15,000 and 22,000) have a higher risk. Therefore, the level of income is effective in repaying the loan.\n",
    "\n",
    "  **4-Different loan purposes affect on-time repayment of the loan.\n",
    "  the default-rate based on the purpose of the loan is shown below:**\n",
    "  \n",
    "| purpose\t                 | count| sum | ratio|        \n",
    "|----------------            |------|-----|------|\t\n",
    "|car                         |4306  | 403 |9.359034|\n",
    "| education                  |4013  | 370 |9.220035|\n",
    "| wedding                    |2323  | 186 |8.006888|\n",
    "| commercial estate          |1962  | 151 |7.696228| \n",
    "| housing                    |3783  | 273 |7.216495| \n",
    "| purchase residential estate|5065  | 358 |7.068115|   \n",
    "    \n",
    "\n",
    "Statistical results show that if the purpose of loan is related to the car with education, the risk of default is significantly higher than those who borrowed for the purpose of marriage or the purchase of real estate. The default rate for car and education is more than 9%, while the rate for marriage and real estate is less than 8%.\n"
   ]
  },
  {
   "cell_type": "markdown",
   "metadata": {},
   "source": [
    "## Step 4. General conclusion"
   ]
  },
  {
   "cell_type": "markdown",
   "metadata": {},
   "source": [
    "<font color =\"blue\">\n",
    "    \n",
    "### [Goal](#goal)\n",
    "\n",
    "The goal was to analyze borrowers' risk of default. We should find out if a customer’s marital status, number of children, income, and purpose of the loan has an impact on whether they will default on a loan.**\n",
    "\n",
    "\n",
    "### [Data Preprocessing](#pre)\n",
    "In order to work with appropriate and valid data, the following tasks were performed: \n",
    "\n",
    "  - Processing missing values \n",
    "  - Type replacement \n",
    "  - Processing duplicates \n",
    "\n",
    "### [Categorizing Data](#Categorizing)\n",
    "\n",
    "Some columns in the dataset were categorized to make them more appropriate for analysis:\n",
    "\n",
    "1-\tlevels for the income were made and saved in a new column `level_income`:\n",
    "    \n",
    "|level_income               |numbers|\n",
    "|------                     |------ |\n",
    "|Low<=15000                 |3745   |\n",
    "|15000<Medium-low<=22000    |5775   |\n",
    "|22000<Medium-high<=30000   |6040   |\n",
    "|high >30000                |5918   |\n",
    "    \n",
    "It was tried to make the number of people in the groups approximately equal. \n",
    "\n",
    "\n",
    "2-The children column was categorized to (0,1,2,3 and more) because the amount of data for cases with 4 and 5 (children) is low and it is better to put them with 3 (children) in one category because the analysis with more data is more reliable.\n",
    "\n",
    "   \n",
    "|children  |numbers|\n",
    "|------    |------ |\n",
    "|0         |14089  |\n",
    "|1         |4855   |\n",
    "|2         |2128   |\n",
    "|3 or more |380    |  \n",
    "\n",
    "3-\tColumn `purpose` also contains similar items with different expressions. So, we can categorize them to a common theme.\n",
    "    \n",
    "|purpose                       |numbers|\n",
    "|------                        |------ |\n",
    "|purchase residential estate   |5065   |\n",
    "|car                           |4306   |\n",
    "|education                     |4013   |\n",
    "|housinge                      |3783   |\n",
    "|wedding                       |2323   |\n",
    "|commercial estate             |1962   |    \n",
    "    \n",
    "As we can see, the largest number of borrowers: in terms of the number of children is the group without children. In terms of income, the people whose income level is medium-high (between 22,000 and 30,000). In terms of the purpose of a loan, the highest incentive is to purchase residential estate and then buying a car. The lowest incentive is for commercial estate.\n",
    "\n",
    "The results of the analysis\n",
    "After completing the four steps related to data preprocessing, it is time to analyze the results. \n",
    "\n",
    "### [Key Findings](#question)\n",
    "\n",
    "**1- There is a relationship between having kids and repaying a loan on time.  \n",
    "        the default-rate based on the number of children is shown below:**\n",
    " \n",
    "                                \n",
    "|children_grouped| count| sum | ratio|        \n",
    "|----------------|------|-----|------|\t\n",
    "|2               | 2128 |  202|9.492481|\n",
    "|1               |4855  |  445|9.165808|\n",
    "|3 or more       |380   |   31|8.157895|\n",
    "|0               |14089 | 1063|7.544893|\n",
    "\n",
    "    \n",
    "According to statistics, people with two children and one have a higher default rate than people with more than three children, as well as those without children. 9.4 and 9.1 versus 8.1 and 7.5% indicate this difference. Therefore, it can be inferred that the number of children affects the repaying of a loan on time. Of course, this effect is not linear.\n",
    "\n",
    "\n",
    "\n",
    "  **2- There is a relationship between marital status and repaying a loan on time.\n",
    "   the default-rate based on the family_status is shown below:**\n",
    "   \n",
    "    \n",
    "|family_status     | count| sum | ratio|        \n",
    "|----------------  |------|-----|------|\t\n",
    "|unmarried         |2810  | 274 |9.750890|\n",
    "|civil partnership |4149  | 388 |9.351651|\n",
    "| married          |12339 |\t931 |7.545182|\n",
    "|divorced          |1195  | 85  |7.112971|    \n",
    "| widow / widower  |959   | 63  |6.569343|\n",
    "    \n",
    "As the results of the analysis show, it seems that the marriage status of individuals is effective in regular repayment of loan installments. Those who are not married have the highest default rate (9.7%) and the lowest default rate against widows (6.5%). In other words, out of every 100 single people, about ten will fail, while out of every 100 widows, only six will fail. Those who are divorced or widowed have the lowest risk of failure.\n",
    "\n",
    "\n",
    "\n",
    "  **3-There is a relation between income level and default rate.\n",
    "  the default-rate based on the level_income is shown below:**\n",
    "  \n",
    "    \n",
    "| level_income    | count| sum | ratio|        \n",
    "|---------------- |------|-----|------|\t\n",
    "|medium-low       |5775  | 494 |8.554113|\n",
    "| medium-high     |6014  | 513 |8.530096|\n",
    "| low             |3745  | 298 |7.957276|\n",
    "| high            |5918  | 436 |7.367354|    \n",
    "  \n",
    "\n",
    "According to statistics, people with high incomes (more than 3,0000) have the lowest default rates. Low-income people (less than 1,5000) have similar rates and have a low risk(it's logical, People with low incomes are more cautious about getting and repaying loans.) But middle-income people(between 1,5000 and 3,0000) have the highest default rates. Among the middle class, the lower middle class (between 15,000 and 22,000) have a higher risk. Therefore, the level of income is effective in repaying the loan.\n",
    "\n",
    "\n",
    "  **4-Different loan purposes affect on-time repayment of the loan.\n",
    "  the default-rate based on the purpose of the loan is shown below:**\n",
    "  \n",
    "| purpose\t                 | count| sum | ratio|        \n",
    "|----------------            |------|-----|------|\t\n",
    "|car                         |4306  | 403 |9.359034|\n",
    "| education                  |4013  | 370 |9.220035|\n",
    "| wedding                    |2323  | 186 |8.006888|\n",
    "| commercial estate          |1962  | 151 |7.696228| \n",
    "| housing                    |3783  | 273 |7.216495| \n",
    "| purchase residential estate|5065  | 358 |7.068115|   \n",
    "    \n",
    "Statistical results show that if the purpose of loan is related to the car with education, the risk of default is significantly higher than those who borrowed for the purpose of marriage or the purchase of real estate. The default rate for car and education is more than 9%, while the rate for marriage and real estate is less than 8%.\n",
    "\n",
    "\n",
    "### Final conclusions and Recommendations\n",
    "\n",
    "In general, It is recommended to the bank that to be more careful in the following cases: \n",
    "\n",
    "  1. Loan applicant with 1 or 2 children. \n",
    "  2. Unmarried people or civil partnership. \n",
    "  3. When the purpose of receiving a loan is to buy a car or education. \n",
    "  4. When loan applicant's income is between 15000 and 30000 Euros.\n",
    "  5. When loan applicants with three children and more apply for a home loan. \n",
    "  6. When people receive a loan to buy a house and their marital status is civil partnership.\n",
    "\n",
    "For these cases, perform a more accurate credit assessment and obtain more reliable collateral is recommended.\n"
   ]
  }
 ],
 "metadata": {
  "ExecuteTimeLog": [
   {
    "duration": 531,
    "start_time": "2021-07-06T05:49:18.016Z"
   },
   {
    "duration": 57,
    "start_time": "2021-07-06T05:51:18.438Z"
   },
   {
    "duration": 11,
    "start_time": "2021-07-06T05:51:26.686Z"
   },
   {
    "duration": 4,
    "start_time": "2021-07-06T05:55:46.181Z"
   },
   {
    "duration": 6,
    "start_time": "2021-07-06T06:03:52.183Z"
   },
   {
    "duration": 18,
    "start_time": "2021-07-06T06:04:01.928Z"
   },
   {
    "duration": 598,
    "start_time": "2021-07-06T06:04:24.658Z"
   },
   {
    "duration": 59,
    "start_time": "2021-07-06T06:04:25.257Z"
   },
   {
    "duration": 11,
    "start_time": "2021-07-06T06:04:25.318Z"
   },
   {
    "duration": 12,
    "start_time": "2021-07-06T06:04:25.330Z"
   },
   {
    "duration": 3,
    "start_time": "2021-07-06T06:04:25.344Z"
   },
   {
    "duration": 53,
    "start_time": "2021-07-06T06:04:25.348Z"
   },
   {
    "duration": 12,
    "start_time": "2021-07-06T06:04:25.403Z"
   },
   {
    "duration": 16,
    "start_time": "2021-07-06T06:04:25.417Z"
   },
   {
    "duration": 10,
    "start_time": "2021-07-06T06:04:25.435Z"
   },
   {
    "duration": 41,
    "start_time": "2021-07-06T06:04:25.447Z"
   },
   {
    "duration": 7,
    "start_time": "2021-07-06T06:04:25.490Z"
   },
   {
    "duration": 8,
    "start_time": "2021-07-06T06:04:25.499Z"
   },
   {
    "duration": 7,
    "start_time": "2021-07-06T06:04:25.508Z"
   },
   {
    "duration": 5,
    "start_time": "2021-07-06T06:04:29.511Z"
   },
   {
    "duration": 12,
    "start_time": "2021-07-06T06:04:34.965Z"
   },
   {
    "duration": 26,
    "start_time": "2021-07-06T06:08:25.455Z"
   },
   {
    "duration": 10,
    "start_time": "2021-07-06T06:08:52.916Z"
   },
   {
    "duration": 556,
    "start_time": "2021-07-06T06:12:29.760Z"
   },
   {
    "duration": 61,
    "start_time": "2021-07-06T06:13:04.030Z"
   },
   {
    "duration": 494,
    "start_time": "2021-07-06T06:13:22.696Z"
   },
   {
    "duration": 64,
    "start_time": "2021-07-06T06:13:45.535Z"
   },
   {
    "duration": 14,
    "start_time": "2021-07-06T06:13:49.700Z"
   },
   {
    "duration": 10,
    "start_time": "2021-07-06T06:15:19.339Z"
   },
   {
    "duration": 5,
    "start_time": "2021-07-06T06:15:48.622Z"
   },
   {
    "duration": 9,
    "start_time": "2021-07-06T06:18:11.956Z"
   },
   {
    "duration": 6,
    "start_time": "2021-07-06T06:18:26.556Z"
   },
   {
    "duration": 9,
    "start_time": "2021-07-06T06:18:29.717Z"
   },
   {
    "duration": 10,
    "start_time": "2021-07-06T06:18:41.831Z"
   },
   {
    "duration": 23,
    "start_time": "2021-07-06T06:21:11.706Z"
   },
   {
    "duration": 13,
    "start_time": "2021-07-06T06:21:39.979Z"
   },
   {
    "duration": 184,
    "start_time": "2021-07-06T06:22:03.496Z"
   },
   {
    "duration": 191,
    "start_time": "2021-07-06T06:22:09.864Z"
   },
   {
    "duration": 194,
    "start_time": "2021-07-06T06:22:20.150Z"
   },
   {
    "duration": 732,
    "start_time": "2021-07-06T06:22:32.405Z"
   },
   {
    "duration": 820,
    "start_time": "2021-07-06T06:22:42.621Z"
   },
   {
    "duration": 551,
    "start_time": "2021-07-06T06:22:54.141Z"
   },
   {
    "duration": 58,
    "start_time": "2021-07-06T06:22:54.697Z"
   },
   {
    "duration": 11,
    "start_time": "2021-07-06T06:22:54.757Z"
   },
   {
    "duration": 20,
    "start_time": "2021-07-06T06:22:54.770Z"
   },
   {
    "duration": 4,
    "start_time": "2021-07-06T06:22:54.792Z"
   },
   {
    "duration": 38,
    "start_time": "2021-07-06T06:22:54.798Z"
   },
   {
    "duration": 10,
    "start_time": "2021-07-06T06:22:54.838Z"
   },
   {
    "duration": 38,
    "start_time": "2021-07-06T06:22:54.850Z"
   },
   {
    "duration": 15,
    "start_time": "2021-07-06T06:22:54.890Z"
   },
   {
    "duration": 14,
    "start_time": "2021-07-06T06:22:54.907Z"
   },
   {
    "duration": 6,
    "start_time": "2021-07-06T06:22:54.923Z"
   },
   {
    "duration": 10,
    "start_time": "2021-07-06T06:22:54.931Z"
   },
   {
    "duration": 6,
    "start_time": "2021-07-06T06:22:54.943Z"
   },
   {
    "duration": 42,
    "start_time": "2021-07-06T06:22:54.951Z"
   },
   {
    "duration": 9,
    "start_time": "2021-07-06T06:22:54.995Z"
   },
   {
    "duration": 10,
    "start_time": "2021-07-06T06:22:55.005Z"
   },
   {
    "duration": 11,
    "start_time": "2021-07-06T06:22:55.017Z"
   },
   {
    "duration": 8,
    "start_time": "2021-07-06T06:22:55.030Z"
   },
   {
    "duration": 47,
    "start_time": "2021-07-06T06:22:55.040Z"
   },
   {
    "duration": 6,
    "start_time": "2021-07-06T06:22:59.811Z"
   },
   {
    "duration": 765,
    "start_time": "2021-07-06T06:23:00.890Z"
   },
   {
    "duration": 194,
    "start_time": "2021-07-06T06:23:33.717Z"
   },
   {
    "duration": 197,
    "start_time": "2021-07-06T06:23:44.291Z"
   },
   {
    "duration": 719,
    "start_time": "2021-07-06T06:23:56.729Z"
   },
   {
    "duration": 10,
    "start_time": "2021-07-06T06:24:45.536Z"
   },
   {
    "duration": 25,
    "start_time": "2021-07-06T06:25:27.640Z"
   },
   {
    "duration": 22,
    "start_time": "2021-07-06T06:25:36.030Z"
   },
   {
    "duration": 23,
    "start_time": "2021-07-06T06:25:41.338Z"
   },
   {
    "duration": 9,
    "start_time": "2021-07-06T06:29:24.226Z"
   },
   {
    "duration": 8,
    "start_time": "2021-07-06T06:29:46.400Z"
   },
   {
    "duration": 6,
    "start_time": "2021-07-06T06:29:50.604Z"
   },
   {
    "duration": 23,
    "start_time": "2021-07-06T06:30:05.717Z"
   },
   {
    "duration": 604,
    "start_time": "2021-07-06T06:30:18.957Z"
   },
   {
    "duration": 61,
    "start_time": "2021-07-06T06:30:19.563Z"
   },
   {
    "duration": 12,
    "start_time": "2021-07-06T06:30:19.626Z"
   },
   {
    "duration": 12,
    "start_time": "2021-07-06T06:30:19.640Z"
   },
   {
    "duration": 5,
    "start_time": "2021-07-06T06:30:19.655Z"
   },
   {
    "duration": 56,
    "start_time": "2021-07-06T06:30:19.662Z"
   },
   {
    "duration": 10,
    "start_time": "2021-07-06T06:30:19.720Z"
   },
   {
    "duration": 13,
    "start_time": "2021-07-06T06:30:19.733Z"
   },
   {
    "duration": 38,
    "start_time": "2021-07-06T06:30:19.749Z"
   },
   {
    "duration": 12,
    "start_time": "2021-07-06T06:30:19.789Z"
   },
   {
    "duration": 8,
    "start_time": "2021-07-06T06:30:19.802Z"
   },
   {
    "duration": 8,
    "start_time": "2021-07-06T06:30:19.812Z"
   },
   {
    "duration": 7,
    "start_time": "2021-07-06T06:30:19.822Z"
   },
   {
    "duration": 5,
    "start_time": "2021-07-06T06:30:19.831Z"
   },
   {
    "duration": 48,
    "start_time": "2021-07-06T06:30:19.838Z"
   },
   {
    "duration": 8,
    "start_time": "2021-07-06T06:30:19.888Z"
   },
   {
    "duration": 10,
    "start_time": "2021-07-06T06:30:19.898Z"
   },
   {
    "duration": 7,
    "start_time": "2021-07-06T06:30:19.910Z"
   },
   {
    "duration": 16,
    "start_time": "2021-07-06T06:30:19.919Z"
   },
   {
    "duration": 6,
    "start_time": "2021-07-06T06:30:23.987Z"
   },
   {
    "duration": 33,
    "start_time": "2021-07-06T06:30:29.106Z"
   },
   {
    "duration": 31,
    "start_time": "2021-07-06T06:30:43.007Z"
   },
   {
    "duration": 7,
    "start_time": "2021-07-06T06:30:52.018Z"
   },
   {
    "duration": 578,
    "start_time": "2021-07-06T06:31:12.275Z"
   },
   {
    "duration": 58,
    "start_time": "2021-07-06T06:31:12.855Z"
   },
   {
    "duration": 10,
    "start_time": "2021-07-06T06:31:12.916Z"
   },
   {
    "duration": 12,
    "start_time": "2021-07-06T06:31:12.928Z"
   },
   {
    "duration": 3,
    "start_time": "2021-07-06T06:31:12.941Z"
   },
   {
    "duration": 55,
    "start_time": "2021-07-06T06:31:12.946Z"
   },
   {
    "duration": 9,
    "start_time": "2021-07-06T06:31:13.003Z"
   },
   {
    "duration": 11,
    "start_time": "2021-07-06T06:31:13.015Z"
   },
   {
    "duration": 12,
    "start_time": "2021-07-06T06:31:13.028Z"
   },
   {
    "duration": 10,
    "start_time": "2021-07-06T06:31:13.042Z"
   },
   {
    "duration": 7,
    "start_time": "2021-07-06T06:31:13.085Z"
   },
   {
    "duration": 9,
    "start_time": "2021-07-06T06:31:13.094Z"
   },
   {
    "duration": 9,
    "start_time": "2021-07-06T06:31:13.105Z"
   },
   {
    "duration": 5,
    "start_time": "2021-07-06T06:31:13.116Z"
   },
   {
    "duration": 8,
    "start_time": "2021-07-06T06:31:13.123Z"
   },
   {
    "duration": 8,
    "start_time": "2021-07-06T06:31:13.132Z"
   },
   {
    "duration": 50,
    "start_time": "2021-07-06T06:31:13.142Z"
   },
   {
    "duration": 9,
    "start_time": "2021-07-06T06:31:13.194Z"
   },
   {
    "duration": 15,
    "start_time": "2021-07-06T06:31:13.204Z"
   },
   {
    "duration": 5,
    "start_time": "2021-07-06T06:31:13.221Z"
   },
   {
    "duration": 9,
    "start_time": "2021-07-06T06:31:15.256Z"
   },
   {
    "duration": 32,
    "start_time": "2021-07-06T06:31:19.509Z"
   },
   {
    "duration": 25,
    "start_time": "2021-07-06T06:31:42.166Z"
   },
   {
    "duration": 7,
    "start_time": "2021-07-06T06:31:54.708Z"
   },
   {
    "duration": 22,
    "start_time": "2021-07-06T06:31:56.324Z"
   },
   {
    "duration": 10,
    "start_time": "2021-07-06T06:32:42.511Z"
   },
   {
    "duration": 29,
    "start_time": "2021-07-06T06:32:44.564Z"
   },
   {
    "duration": 6,
    "start_time": "2021-07-06T06:33:13.766Z"
   },
   {
    "duration": 24,
    "start_time": "2021-07-06T06:33:17.245Z"
   },
   {
    "duration": 10,
    "start_time": "2021-07-06T06:33:45.786Z"
   },
   {
    "duration": 25,
    "start_time": "2021-07-06T06:33:47.140Z"
   },
   {
    "duration": 8,
    "start_time": "2021-07-06T06:34:55.271Z"
   },
   {
    "duration": 6,
    "start_time": "2021-07-06T06:35:07.267Z"
   },
   {
    "duration": 25,
    "start_time": "2021-07-06T06:35:09.256Z"
   },
   {
    "duration": 10,
    "start_time": "2021-07-06T06:35:47.840Z"
   },
   {
    "duration": 23,
    "start_time": "2021-07-06T06:35:49.839Z"
   },
   {
    "duration": 66,
    "start_time": "2021-07-06T06:35:55.346Z"
   },
   {
    "duration": 16,
    "start_time": "2021-07-06T06:35:59.191Z"
   },
   {
    "duration": 22,
    "start_time": "2021-07-06T06:36:01.264Z"
   },
   {
    "duration": 9,
    "start_time": "2021-07-06T06:36:08.824Z"
   },
   {
    "duration": 32,
    "start_time": "2021-07-06T06:36:11.044Z"
   },
   {
    "duration": 8,
    "start_time": "2021-07-06T06:36:50.746Z"
   },
   {
    "duration": 22,
    "start_time": "2021-07-06T06:36:52.634Z"
   },
   {
    "duration": 35,
    "start_time": "2021-07-06T06:36:58.786Z"
   },
   {
    "duration": 31,
    "start_time": "2021-07-06T06:37:04.870Z"
   },
   {
    "duration": 10,
    "start_time": "2021-07-06T06:37:12.511Z"
   },
   {
    "duration": 8,
    "start_time": "2021-07-06T06:37:33.881Z"
   },
   {
    "duration": 10,
    "start_time": "2021-07-06T06:37:37.778Z"
   },
   {
    "duration": 11,
    "start_time": "2021-07-06T06:39:35.815Z"
   },
   {
    "duration": 14,
    "start_time": "2021-07-06T06:40:05.055Z"
   },
   {
    "duration": 4,
    "start_time": "2021-07-06T06:56:42.611Z"
   },
   {
    "duration": 19,
    "start_time": "2021-07-06T06:56:44.506Z"
   },
   {
    "duration": 8,
    "start_time": "2021-07-06T06:57:04.827Z"
   },
   {
    "duration": 6,
    "start_time": "2021-07-06T06:57:33.721Z"
   },
   {
    "duration": 614,
    "start_time": "2021-07-06T06:57:40.785Z"
   },
   {
    "duration": 61,
    "start_time": "2021-07-06T06:57:41.402Z"
   },
   {
    "duration": 22,
    "start_time": "2021-07-06T06:57:41.466Z"
   },
   {
    "duration": 16,
    "start_time": "2021-07-06T06:57:41.494Z"
   },
   {
    "duration": 3,
    "start_time": "2021-07-06T06:57:41.512Z"
   },
   {
    "duration": 35,
    "start_time": "2021-07-06T06:57:41.517Z"
   },
   {
    "duration": 38,
    "start_time": "2021-07-06T06:57:41.555Z"
   },
   {
    "duration": 16,
    "start_time": "2021-07-06T06:57:41.597Z"
   },
   {
    "duration": 11,
    "start_time": "2021-07-06T06:57:41.615Z"
   },
   {
    "duration": 10,
    "start_time": "2021-07-06T06:57:41.628Z"
   },
   {
    "duration": 9,
    "start_time": "2021-07-06T06:57:41.640Z"
   },
   {
    "duration": 43,
    "start_time": "2021-07-06T06:57:41.651Z"
   },
   {
    "duration": 12,
    "start_time": "2021-07-06T06:57:41.695Z"
   },
   {
    "duration": 5,
    "start_time": "2021-07-06T06:57:41.709Z"
   },
   {
    "duration": 11,
    "start_time": "2021-07-06T06:57:41.715Z"
   },
   {
    "duration": 8,
    "start_time": "2021-07-06T06:57:41.728Z"
   },
   {
    "duration": 11,
    "start_time": "2021-07-06T06:57:41.737Z"
   },
   {
    "duration": 46,
    "start_time": "2021-07-06T06:57:41.749Z"
   },
   {
    "duration": 15,
    "start_time": "2021-07-06T06:57:41.797Z"
   },
   {
    "duration": 5,
    "start_time": "2021-07-06T06:57:41.813Z"
   },
   {
    "duration": 13,
    "start_time": "2021-07-06T06:57:41.820Z"
   },
   {
    "duration": 8,
    "start_time": "2021-07-06T06:57:41.835Z"
   },
   {
    "duration": 49,
    "start_time": "2021-07-06T06:57:41.847Z"
   },
   {
    "duration": 7,
    "start_time": "2021-07-06T06:57:41.899Z"
   },
   {
    "duration": 12,
    "start_time": "2021-07-06T06:57:41.909Z"
   },
   {
    "duration": 33,
    "start_time": "2021-07-06T06:57:41.923Z"
   },
   {
    "duration": 6,
    "start_time": "2021-07-06T06:57:41.993Z"
   },
   {
    "duration": 9,
    "start_time": "2021-07-06T06:57:42.001Z"
   },
   {
    "duration": 15,
    "start_time": "2021-07-06T06:57:42.012Z"
   },
   {
    "duration": 7,
    "start_time": "2021-07-06T06:57:42.029Z"
   },
   {
    "duration": 16,
    "start_time": "2021-07-06T06:57:42.038Z"
   },
   {
    "duration": 40,
    "start_time": "2021-07-06T06:57:42.056Z"
   },
   {
    "duration": 20,
    "start_time": "2021-07-06T06:57:42.098Z"
   },
   {
    "duration": 18,
    "start_time": "2021-07-06T06:57:42.120Z"
   },
   {
    "duration": 10,
    "start_time": "2021-07-06T06:57:42.140Z"
   },
   {
    "duration": 39,
    "start_time": "2021-07-06T06:57:42.152Z"
   },
   {
    "duration": 17,
    "start_time": "2021-07-06T06:57:42.193Z"
   },
   {
    "duration": 3,
    "start_time": "2021-07-06T06:57:53.115Z"
   },
   {
    "duration": 19,
    "start_time": "2021-07-06T06:57:55.075Z"
   },
   {
    "duration": 7,
    "start_time": "2021-07-06T06:57:56.854Z"
   },
   {
    "duration": 6,
    "start_time": "2021-07-06T06:57:59.008Z"
   },
   {
    "duration": 4,
    "start_time": "2021-07-06T06:58:07.413Z"
   },
   {
    "duration": 14,
    "start_time": "2021-07-06T06:58:10.464Z"
   },
   {
    "duration": 11,
    "start_time": "2021-07-06T06:58:13.964Z"
   },
   {
    "duration": 4,
    "start_time": "2021-07-06T06:58:46.765Z"
   },
   {
    "duration": 23,
    "start_time": "2021-07-06T06:58:52.475Z"
   },
   {
    "duration": 7,
    "start_time": "2021-07-06T06:59:02.965Z"
   },
   {
    "duration": 559,
    "start_time": "2021-07-06T09:28:46.799Z"
   },
   {
    "duration": 59,
    "start_time": "2021-07-06T09:28:47.359Z"
   },
   {
    "duration": 11,
    "start_time": "2021-07-06T09:28:47.419Z"
   },
   {
    "duration": 13,
    "start_time": "2021-07-06T09:28:47.431Z"
   },
   {
    "duration": 2,
    "start_time": "2021-07-06T09:28:47.446Z"
   },
   {
    "duration": 63,
    "start_time": "2021-07-06T09:28:47.450Z"
   },
   {
    "duration": 10,
    "start_time": "2021-07-06T09:28:47.514Z"
   },
   {
    "duration": 11,
    "start_time": "2021-07-06T09:28:47.526Z"
   },
   {
    "duration": 9,
    "start_time": "2021-07-06T09:28:47.539Z"
   },
   {
    "duration": 38,
    "start_time": "2021-07-06T09:28:47.550Z"
   },
   {
    "duration": 7,
    "start_time": "2021-07-06T09:28:47.590Z"
   },
   {
    "duration": 8,
    "start_time": "2021-07-06T09:28:47.599Z"
   },
   {
    "duration": 11,
    "start_time": "2021-07-06T09:28:47.609Z"
   },
   {
    "duration": 4,
    "start_time": "2021-07-06T09:28:47.622Z"
   },
   {
    "duration": 7,
    "start_time": "2021-07-06T09:28:47.628Z"
   },
   {
    "duration": 6,
    "start_time": "2021-07-06T09:28:47.637Z"
   },
   {
    "duration": 10,
    "start_time": "2021-07-06T09:28:47.685Z"
   },
   {
    "duration": 7,
    "start_time": "2021-07-06T09:28:47.696Z"
   },
   {
    "duration": 11,
    "start_time": "2021-07-06T09:28:47.705Z"
   },
   {
    "duration": 5,
    "start_time": "2021-07-06T09:28:47.717Z"
   },
   {
    "duration": 8,
    "start_time": "2021-07-06T09:28:47.723Z"
   },
   {
    "duration": 6,
    "start_time": "2021-07-06T09:28:47.733Z"
   },
   {
    "duration": 53,
    "start_time": "2021-07-06T09:28:47.743Z"
   },
   {
    "duration": 5,
    "start_time": "2021-07-06T09:28:47.798Z"
   },
   {
    "duration": 18,
    "start_time": "2021-07-06T09:28:47.805Z"
   },
   {
    "duration": 29,
    "start_time": "2021-07-06T09:28:47.825Z"
   },
   {
    "duration": 3,
    "start_time": "2021-07-06T09:28:47.856Z"
   },
   {
    "duration": 28,
    "start_time": "2021-07-06T09:28:47.860Z"
   },
   {
    "duration": 15,
    "start_time": "2021-07-06T09:28:47.889Z"
   },
   {
    "duration": 7,
    "start_time": "2021-07-06T09:28:47.905Z"
   },
   {
    "duration": 15,
    "start_time": "2021-07-06T09:28:47.914Z"
   },
   {
    "duration": 14,
    "start_time": "2021-07-06T09:28:47.930Z"
   },
   {
    "duration": 49,
    "start_time": "2021-07-06T09:28:47.945Z"
   },
   {
    "duration": 15,
    "start_time": "2021-07-06T09:28:47.996Z"
   },
   {
    "duration": 10,
    "start_time": "2021-07-06T09:28:48.012Z"
   },
   {
    "duration": 3,
    "start_time": "2021-07-06T09:28:48.024Z"
   },
   {
    "duration": 19,
    "start_time": "2021-07-06T09:28:48.028Z"
   },
   {
    "duration": 42,
    "start_time": "2021-07-06T09:28:48.048Z"
   },
   {
    "duration": 8,
    "start_time": "2021-07-06T09:28:48.092Z"
   },
   {
    "duration": 5,
    "start_time": "2021-07-06T09:28:48.101Z"
   },
   {
    "duration": 13,
    "start_time": "2021-07-06T09:28:48.108Z"
   },
   {
    "duration": 9,
    "start_time": "2021-07-06T09:28:48.122Z"
   },
   {
    "duration": 10,
    "start_time": "2021-07-06T09:28:48.132Z"
   },
   {
    "duration": 5,
    "start_time": "2021-07-06T09:28:48.143Z"
   },
   {
    "duration": 47,
    "start_time": "2021-07-06T09:28:48.150Z"
   },
   {
    "duration": 6,
    "start_time": "2021-07-06T09:28:48.199Z"
   },
   {
    "duration": 9,
    "start_time": "2021-07-06T09:28:48.207Z"
   },
   {
    "duration": 31,
    "start_time": "2021-07-06T09:28:48.217Z"
   },
   {
    "duration": 39,
    "start_time": "2021-07-06T09:28:48.249Z"
   },
   {
    "duration": 26,
    "start_time": "2021-07-06T09:28:48.290Z"
   },
   {
    "duration": 7,
    "start_time": "2021-07-06T09:28:48.317Z"
   },
   {
    "duration": 27,
    "start_time": "2021-07-06T09:28:48.325Z"
   },
   {
    "duration": 35,
    "start_time": "2021-07-06T09:28:48.353Z"
   },
   {
    "duration": 26,
    "start_time": "2021-07-06T09:28:48.389Z"
   },
   {
    "duration": 32,
    "start_time": "2021-07-06T09:28:48.417Z"
   },
   {
    "duration": 59,
    "start_time": "2021-07-06T09:28:48.450Z"
   },
   {
    "duration": 32,
    "start_time": "2021-07-06T09:28:48.510Z"
   }
  ],
  "kernelspec": {
   "display_name": "Python 3",
   "language": "python",
   "name": "python3"
  },
  "language_info": {
   "codemirror_mode": {
    "name": "ipython",
    "version": 3
   },
   "file_extension": ".py",
   "mimetype": "text/x-python",
   "name": "python",
   "nbconvert_exporter": "python",
   "pygments_lexer": "ipython3",
   "version": "3.8.5"
  },
  "toc": {
   "base_numbering": 1,
   "nav_menu": {},
   "number_sections": true,
   "sideBar": true,
   "skip_h1_title": true,
   "title_cell": "Table of Contents",
   "title_sidebar": "Contents",
   "toc_cell": false,
   "toc_position": {},
   "toc_section_display": true,
   "toc_window_display": false
  }
 },
 "nbformat": 4,
 "nbformat_minor": 2
}
