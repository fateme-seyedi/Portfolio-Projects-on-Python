{
 "cells": [
  {
   "cell_type": "markdown",
   "metadata": {},
   "source": [
    "<a id=\"goal\"></a>\n",
    "## Project Description and Goal"
   ]
  },
  {
   "cell_type": "markdown",
   "metadata": {},
   "source": [
    "<font color=\"blue\">\n",
    "Analyzing the data on virtual telephony service “CallMeMaybe”, which Its clients are organizations. Finding clients with Non-Optimal plans and examine their impact on revenue.\n",
    "clients with Non-Optimal plans are who:\n",
    "\n",
    "  - Overpay for their current plans \n",
    "  - Need bigger plans, since they'll be more advantageous\n"
   ]
  },
  {
   "cell_type": "markdown",
   "metadata": {},
   "source": [
    "## Step 1. Open the data file and study the general information"
   ]
  },
  {
   "cell_type": "code",
   "execution_count": 1,
   "metadata": {},
   "outputs": [],
   "source": [
    "import pandas as pd\n",
    "import matplotlib.pyplot as plt \n",
    "import plotly.express as px\n",
    "import plotly.graph_objects as go\n",
    "import sys\n",
    "import warnings\n",
    "from scipy.stats import shapiro\n",
    "from scipy import stats as st\n",
    "from scipy.stats import mannwhitneyu\n",
    "import numpy as np"
   ]
  },
  {
   "cell_type": "code",
   "execution_count": 3,
   "metadata": {},
   "outputs": [
    {
     "data": {
      "text/html": [
       "<div>\n",
       "<style scoped>\n",
       "    .dataframe tbody tr th:only-of-type {\n",
       "        vertical-align: middle;\n",
       "    }\n",
       "\n",
       "    .dataframe tbody tr th {\n",
       "        vertical-align: top;\n",
       "    }\n",
       "\n",
       "    .dataframe thead th {\n",
       "        text-align: right;\n",
       "    }\n",
       "</style>\n",
       "<table border=\"1\" class=\"dataframe\">\n",
       "  <thead>\n",
       "    <tr style=\"text-align: right;\">\n",
       "      <th></th>\n",
       "      <th>user_id</th>\n",
       "      <th>date</th>\n",
       "      <th>direction</th>\n",
       "      <th>internal</th>\n",
       "      <th>operator_id</th>\n",
       "      <th>is_missed_call</th>\n",
       "      <th>calls_count</th>\n",
       "      <th>call_duration</th>\n",
       "      <th>total_call_duration</th>\n",
       "    </tr>\n",
       "  </thead>\n",
       "  <tbody>\n",
       "    <tr>\n",
       "      <th>0</th>\n",
       "      <td>166377</td>\n",
       "      <td>2019-08-04 00:00:00+03:00</td>\n",
       "      <td>in</td>\n",
       "      <td>False</td>\n",
       "      <td>NaN</td>\n",
       "      <td>True</td>\n",
       "      <td>2</td>\n",
       "      <td>0</td>\n",
       "      <td>4</td>\n",
       "    </tr>\n",
       "    <tr>\n",
       "      <th>1</th>\n",
       "      <td>166377</td>\n",
       "      <td>2019-08-05 00:00:00+03:00</td>\n",
       "      <td>out</td>\n",
       "      <td>True</td>\n",
       "      <td>880022.0</td>\n",
       "      <td>True</td>\n",
       "      <td>3</td>\n",
       "      <td>0</td>\n",
       "      <td>5</td>\n",
       "    </tr>\n",
       "    <tr>\n",
       "      <th>2</th>\n",
       "      <td>166377</td>\n",
       "      <td>2019-08-05 00:00:00+03:00</td>\n",
       "      <td>out</td>\n",
       "      <td>True</td>\n",
       "      <td>880020.0</td>\n",
       "      <td>True</td>\n",
       "      <td>1</td>\n",
       "      <td>0</td>\n",
       "      <td>1</td>\n",
       "    </tr>\n",
       "    <tr>\n",
       "      <th>3</th>\n",
       "      <td>166377</td>\n",
       "      <td>2019-08-05 00:00:00+03:00</td>\n",
       "      <td>out</td>\n",
       "      <td>True</td>\n",
       "      <td>880020.0</td>\n",
       "      <td>False</td>\n",
       "      <td>1</td>\n",
       "      <td>10</td>\n",
       "      <td>18</td>\n",
       "    </tr>\n",
       "    <tr>\n",
       "      <th>4</th>\n",
       "      <td>166377</td>\n",
       "      <td>2019-08-05 00:00:00+03:00</td>\n",
       "      <td>out</td>\n",
       "      <td>False</td>\n",
       "      <td>880022.0</td>\n",
       "      <td>True</td>\n",
       "      <td>3</td>\n",
       "      <td>0</td>\n",
       "      <td>25</td>\n",
       "    </tr>\n",
       "  </tbody>\n",
       "</table>\n",
       "</div>"
      ],
      "text/plain": [
       "   user_id                       date direction internal  operator_id  \\\n",
       "0   166377  2019-08-04 00:00:00+03:00        in    False          NaN   \n",
       "1   166377  2019-08-05 00:00:00+03:00       out     True     880022.0   \n",
       "2   166377  2019-08-05 00:00:00+03:00       out     True     880020.0   \n",
       "3   166377  2019-08-05 00:00:00+03:00       out     True     880020.0   \n",
       "4   166377  2019-08-05 00:00:00+03:00       out    False     880022.0   \n",
       "\n",
       "   is_missed_call  calls_count  call_duration  total_call_duration  \n",
       "0            True            2              0                    4  \n",
       "1            True            3              0                    5  \n",
       "2            True            1              0                    1  \n",
       "3           False            1             10                   18  \n",
       "4            True            3              0                   25  "
      ]
     },
     "execution_count": 3,
     "metadata": {},
     "output_type": "execute_result"
    }
   ],
   "source": [
    "data.head(5)"
   ]
  },
  {
   "cell_type": "code",
   "execution_count": 4,
   "metadata": {},
   "outputs": [
    {
     "name": "stdout",
     "output_type": "stream",
     "text": [
      "<class 'pandas.core.frame.DataFrame'>\n",
      "RangeIndex: 53902 entries, 0 to 53901\n",
      "Data columns (total 9 columns):\n",
      " #   Column               Non-Null Count  Dtype  \n",
      "---  ------               --------------  -----  \n",
      " 0   user_id              53902 non-null  int64  \n",
      " 1   date                 53902 non-null  object \n",
      " 2   direction            53902 non-null  object \n",
      " 3   internal             53785 non-null  object \n",
      " 4   operator_id          45730 non-null  float64\n",
      " 5   is_missed_call       53902 non-null  bool   \n",
      " 6   calls_count          53902 non-null  int64  \n",
      " 7   call_duration        53902 non-null  int64  \n",
      " 8   total_call_duration  53902 non-null  int64  \n",
      "dtypes: bool(1), float64(1), int64(4), object(3)\n",
      "memory usage: 3.3+ MB\n"
     ]
    }
   ],
   "source": [
    "data.info()"
   ]
  },
  {
   "cell_type": "code",
   "execution_count": 5,
   "metadata": {},
   "outputs": [
    {
     "data": {
      "text/plain": [
       "user_id                   0\n",
       "date                      0\n",
       "direction                 0\n",
       "internal                117\n",
       "operator_id            8172\n",
       "is_missed_call            0\n",
       "calls_count               0\n",
       "call_duration             0\n",
       "total_call_duration       0\n",
       "dtype: int64"
      ]
     },
     "execution_count": 5,
     "metadata": {},
     "output_type": "execute_result"
    }
   ],
   "source": [
    "data.isnull().sum()"
   ]
  },
  {
   "cell_type": "code",
   "execution_count": 6,
   "metadata": {},
   "outputs": [
    {
     "data": {
      "text/html": [
       "<div>\n",
       "<style scoped>\n",
       "    .dataframe tbody tr th:only-of-type {\n",
       "        vertical-align: middle;\n",
       "    }\n",
       "\n",
       "    .dataframe tbody tr th {\n",
       "        vertical-align: top;\n",
       "    }\n",
       "\n",
       "    .dataframe thead th {\n",
       "        text-align: right;\n",
       "    }\n",
       "</style>\n",
       "<table border=\"1\" class=\"dataframe\">\n",
       "  <thead>\n",
       "    <tr style=\"text-align: right;\">\n",
       "      <th></th>\n",
       "      <th>user_id</th>\n",
       "      <th>tariff_plan</th>\n",
       "      <th>date_start</th>\n",
       "    </tr>\n",
       "  </thead>\n",
       "  <tbody>\n",
       "    <tr>\n",
       "      <th>0</th>\n",
       "      <td>166713</td>\n",
       "      <td>A</td>\n",
       "      <td>2019-08-15</td>\n",
       "    </tr>\n",
       "    <tr>\n",
       "      <th>1</th>\n",
       "      <td>166901</td>\n",
       "      <td>A</td>\n",
       "      <td>2019-08-23</td>\n",
       "    </tr>\n",
       "    <tr>\n",
       "      <th>2</th>\n",
       "      <td>168527</td>\n",
       "      <td>A</td>\n",
       "      <td>2019-10-29</td>\n",
       "    </tr>\n",
       "    <tr>\n",
       "      <th>3</th>\n",
       "      <td>167097</td>\n",
       "      <td>A</td>\n",
       "      <td>2019-09-01</td>\n",
       "    </tr>\n",
       "    <tr>\n",
       "      <th>4</th>\n",
       "      <td>168193</td>\n",
       "      <td>A</td>\n",
       "      <td>2019-10-16</td>\n",
       "    </tr>\n",
       "  </tbody>\n",
       "</table>\n",
       "</div>"
      ],
      "text/plain": [
       "   user_id tariff_plan  date_start\n",
       "0   166713           A  2019-08-15\n",
       "1   166901           A  2019-08-23\n",
       "2   168527           A  2019-10-29\n",
       "3   167097           A  2019-09-01\n",
       "4   168193           A  2019-10-16"
      ]
     },
     "execution_count": 6,
     "metadata": {},
     "output_type": "execute_result"
    }
   ],
   "source": [
    "clients.head(5)"
   ]
  },
  {
   "cell_type": "code",
   "execution_count": 7,
   "metadata": {},
   "outputs": [
    {
     "name": "stdout",
     "output_type": "stream",
     "text": [
      "<class 'pandas.core.frame.DataFrame'>\n",
      "RangeIndex: 732 entries, 0 to 731\n",
      "Data columns (total 3 columns):\n",
      " #   Column       Non-Null Count  Dtype \n",
      "---  ------       --------------  ----- \n",
      " 0   user_id      732 non-null    int64 \n",
      " 1   tariff_plan  732 non-null    object\n",
      " 2   date_start   732 non-null    object\n",
      "dtypes: int64(1), object(2)\n",
      "memory usage: 17.3+ KB\n"
     ]
    }
   ],
   "source": [
    "clients.info()"
   ]
  },
  {
   "cell_type": "markdown",
   "metadata": {},
   "source": [
    "## Conclusion"
   ]
  },
  {
   "cell_type": "markdown",
   "metadata": {},
   "source": [
    "<font color=\"blue\">\n",
    "    \n",
    "There are tow tables:\n",
    "   - `telecom_dataset` with 52903 rows and 9 columns.\n",
    "   - `telecom_clients` with 732 rows and 3 columns.<br>\n",
    "    \n",
    "There are missing values in the table `telecom_dataset` in columns: `internal` and `operator_id`.   \n",
    "    "
   ]
  },
  {
   "cell_type": "markdown",
   "metadata": {},
   "source": [
    "<a id=\"pre\"></a>\n",
    "## Step 2. Data preprocessing"
   ]
  },
  {
   "cell_type": "markdown",
   "metadata": {},
   "source": [
    " - **Processing missing values**"
   ]
  },
  {
   "cell_type": "code",
   "execution_count": 8,
   "metadata": {},
   "outputs": [
    {
     "data": {
      "text/plain": [
       "0.0021706059144373123"
      ]
     },
     "execution_count": 8,
     "metadata": {},
     "output_type": "execute_result"
    }
   ],
   "source": [
    "data.internal.isnull().sum()/len(data)"
   ]
  },
  {
   "cell_type": "code",
   "execution_count": 9,
   "metadata": {},
   "outputs": [],
   "source": [
    "data.dropna(subset=['internal'],inplace=True)"
   ]
  },
  {
   "cell_type": "code",
   "execution_count": 10,
   "metadata": {},
   "outputs": [
    {
     "data": {
      "text/plain": [
       "0.15087849772241332"
      ]
     },
     "execution_count": 10,
     "metadata": {},
     "output_type": "execute_result"
    }
   ],
   "source": [
    "data.operator_id.isnull().sum()/len(data)"
   ]
  },
  {
   "cell_type": "code",
   "execution_count": 11,
   "metadata": {},
   "outputs": [],
   "source": [
    "data['operator_id']=data.groupby('user_id')['operator_id'].apply(lambda x: x.fillna(x.median()))"
   ]
  },
  {
   "cell_type": "code",
   "execution_count": 12,
   "metadata": {},
   "outputs": [],
   "source": [
    "data['operator_id']=data['operator_id'].fillna(0)"
   ]
  },
  {
   "cell_type": "code",
   "execution_count": 13,
   "metadata": {},
   "outputs": [
    {
     "data": {
      "text/plain": [
       "user_id                0\n",
       "date                   0\n",
       "direction              0\n",
       "internal               0\n",
       "operator_id            0\n",
       "is_missed_call         0\n",
       "calls_count            0\n",
       "call_duration          0\n",
       "total_call_duration    0\n",
       "dtype: int64"
      ]
     },
     "execution_count": 13,
     "metadata": {},
     "output_type": "execute_result"
    }
   ],
   "source": [
    "data.isnull().sum()"
   ]
  },
  {
   "cell_type": "markdown",
   "metadata": {},
   "source": [
    "<font color=\"blue\">\n",
    "    \n",
    "Missing values maybe due to system malfunction. <br>\n",
    " - In column `internal` the number of them is low and just 0.2% of the data and we can delet them.  \n",
    " - In column `operator_id` missing values are 15% of the data. We can fill them with the help of the `user_id` column. (first we tried to fill them with the mode of the `operator_id` for each user, but it gave error because some users have no `operator_id`. Then we filled them with the median) and the rest could be filled with 0 because `operator_id` itself isn't important in the analysis and we just need the number of them for calculating the revenue. So, we can fill them with 0. (we can fill them all with 0 too)\n",
    "    "
   ]
  },
  {
   "cell_type": "markdown",
   "metadata": {},
   "source": [
    " - **Data type replacement**"
   ]
  },
  {
   "cell_type": "code",
   "execution_count": 14,
   "metadata": {},
   "outputs": [],
   "source": [
    "data.date=pd.to_datetime(data.date, dayfirst =True, format='%Y-%m-%d')"
   ]
  },
  {
   "cell_type": "code",
   "execution_count": 15,
   "metadata": {},
   "outputs": [],
   "source": [
    "data.user_id =data.user_id.astype('object') "
   ]
  },
  {
   "cell_type": "code",
   "execution_count": 16,
   "metadata": {},
   "outputs": [],
   "source": [
    "clients.user_id =clients.user_id.astype('object') "
   ]
  },
  {
   "cell_type": "code",
   "execution_count": 17,
   "metadata": {},
   "outputs": [],
   "source": [
    "data.operator_id =data.operator_id.astype('object') "
   ]
  },
  {
   "cell_type": "code",
   "execution_count": 18,
   "metadata": {},
   "outputs": [],
   "source": [
    "clients.date_start=pd.to_datetime(clients.date_start,dayfirst =True, format='%Y-%m-%d')"
   ]
  },
  {
   "cell_type": "code",
   "execution_count": 19,
   "metadata": {},
   "outputs": [],
   "source": [
    "data['date']=data['date'].dt.date"
   ]
  },
  {
   "cell_type": "code",
   "execution_count": 20,
   "metadata": {},
   "outputs": [],
   "source": [
    "data.date=pd.to_datetime(data.date)"
   ]
  },
  {
   "cell_type": "code",
   "execution_count": 21,
   "metadata": {},
   "outputs": [
    {
     "name": "stdout",
     "output_type": "stream",
     "text": [
      "<class 'pandas.core.frame.DataFrame'>\n",
      "Int64Index: 53785 entries, 0 to 53901\n",
      "Data columns (total 9 columns):\n",
      " #   Column               Non-Null Count  Dtype         \n",
      "---  ------               --------------  -----         \n",
      " 0   user_id              53785 non-null  object        \n",
      " 1   date                 53785 non-null  datetime64[ns]\n",
      " 2   direction            53785 non-null  object        \n",
      " 3   internal             53785 non-null  object        \n",
      " 4   operator_id          53785 non-null  object        \n",
      " 5   is_missed_call       53785 non-null  bool          \n",
      " 6   calls_count          53785 non-null  int64         \n",
      " 7   call_duration        53785 non-null  int64         \n",
      " 8   total_call_duration  53785 non-null  int64         \n",
      "dtypes: bool(1), datetime64[ns](1), int64(3), object(4)\n",
      "memory usage: 6.2+ MB\n"
     ]
    }
   ],
   "source": [
    "data.info()"
   ]
  },
  {
   "cell_type": "code",
   "execution_count": 22,
   "metadata": {},
   "outputs": [
    {
     "name": "stdout",
     "output_type": "stream",
     "text": [
      "<class 'pandas.core.frame.DataFrame'>\n",
      "RangeIndex: 732 entries, 0 to 731\n",
      "Data columns (total 3 columns):\n",
      " #   Column       Non-Null Count  Dtype         \n",
      "---  ------       --------------  -----         \n",
      " 0   user_id      732 non-null    object        \n",
      " 1   tariff_plan  732 non-null    object        \n",
      " 2   date_start   732 non-null    datetime64[ns]\n",
      "dtypes: datetime64[ns](1), object(2)\n",
      "memory usage: 17.3+ KB\n"
     ]
    }
   ],
   "source": [
    "clients.info()"
   ]
  },
  {
   "cell_type": "markdown",
   "metadata": {},
   "source": [
    " - **Processing duplicates**"
   ]
  },
  {
   "cell_type": "code",
   "execution_count": 23,
   "metadata": {},
   "outputs": [
    {
     "data": {
      "text/plain": [
       "4894"
      ]
     },
     "execution_count": 23,
     "metadata": {},
     "output_type": "execute_result"
    }
   ],
   "source": [
    "data.duplicated().sum()"
   ]
  },
  {
   "cell_type": "code",
   "execution_count": 24,
   "metadata": {},
   "outputs": [],
   "source": [
    "data.drop_duplicates(inplace=True)"
   ]
  },
  {
   "cell_type": "code",
   "execution_count": 25,
   "metadata": {},
   "outputs": [
    {
     "data": {
      "text/plain": [
       "0"
      ]
     },
     "execution_count": 25,
     "metadata": {},
     "output_type": "execute_result"
    }
   ],
   "source": [
    "clients.duplicated().sum()"
   ]
  },
  {
   "cell_type": "code",
   "execution_count": 26,
   "metadata": {},
   "outputs": [
    {
     "name": "stdout",
     "output_type": "stream",
     "text": [
      "<class 'pandas.core.frame.DataFrame'>\n",
      "Int64Index: 48891 entries, 0 to 53901\n",
      "Data columns (total 9 columns):\n",
      " #   Column               Non-Null Count  Dtype         \n",
      "---  ------               --------------  -----         \n",
      " 0   user_id              48891 non-null  object        \n",
      " 1   date                 48891 non-null  datetime64[ns]\n",
      " 2   direction            48891 non-null  object        \n",
      " 3   internal             48891 non-null  object        \n",
      " 4   operator_id          48891 non-null  object        \n",
      " 5   is_missed_call       48891 non-null  bool          \n",
      " 6   calls_count          48891 non-null  int64         \n",
      " 7   call_duration        48891 non-null  int64         \n",
      " 8   total_call_duration  48891 non-null  int64         \n",
      "dtypes: bool(1), datetime64[ns](1), int64(3), object(4)\n",
      "memory usage: 3.4+ MB\n"
     ]
    }
   ],
   "source": [
    "data.info()"
   ]
  },
  {
   "cell_type": "code",
   "execution_count": 27,
   "metadata": {},
   "outputs": [],
   "source": [
    "Dictionary = {True: 'internal', False: 'external'}\n",
    "data['internal']=data['internal'].map(Dictionary )"
   ]
  },
  {
   "cell_type": "markdown",
   "metadata": {},
   "source": [
    "- **Check the users whether they are active**"
   ]
  },
  {
   "cell_type": "markdown",
   "metadata": {},
   "source": [
    "We should make the analysis on active usesrs. So we check the date the statistics were retrieved and the registration date."
   ]
  },
  {
   "cell_type": "code",
   "execution_count": 28,
   "metadata": {},
   "outputs": [],
   "source": [
    "data= data.merge(clients, on='user_id')"
   ]
  },
  {
   "cell_type": "code",
   "execution_count": 29,
   "metadata": {},
   "outputs": [
    {
     "data": {
      "text/html": [
       "<div>\n",
       "<style scoped>\n",
       "    .dataframe tbody tr th:only-of-type {\n",
       "        vertical-align: middle;\n",
       "    }\n",
       "\n",
       "    .dataframe tbody tr th {\n",
       "        vertical-align: top;\n",
       "    }\n",
       "\n",
       "    .dataframe thead th {\n",
       "        text-align: right;\n",
       "    }\n",
       "</style>\n",
       "<table border=\"1\" class=\"dataframe\">\n",
       "  <thead>\n",
       "    <tr style=\"text-align: right;\">\n",
       "      <th></th>\n",
       "      <th>user_id</th>\n",
       "      <th>date</th>\n",
       "      <th>direction</th>\n",
       "      <th>internal</th>\n",
       "      <th>operator_id</th>\n",
       "      <th>is_missed_call</th>\n",
       "      <th>calls_count</th>\n",
       "      <th>call_duration</th>\n",
       "      <th>total_call_duration</th>\n",
       "      <th>tariff_plan</th>\n",
       "      <th>date_start</th>\n",
       "    </tr>\n",
       "  </thead>\n",
       "  <tbody>\n",
       "  </tbody>\n",
       "</table>\n",
       "</div>"
      ],
      "text/plain": [
       "Empty DataFrame\n",
       "Columns: [user_id, date, direction, internal, operator_id, is_missed_call, calls_count, call_duration, total_call_duration, tariff_plan, date_start]\n",
       "Index: []"
      ]
     },
     "execution_count": 29,
     "metadata": {},
     "output_type": "execute_result"
    }
   ],
   "source": [
    "data[data['date_start']>data['date']]"
   ]
  },
  {
   "cell_type": "code",
   "execution_count": 30,
   "metadata": {},
   "outputs": [
    {
     "data": {
      "text/plain": [
       "48891"
      ]
     },
     "execution_count": 30,
     "metadata": {},
     "output_type": "execute_result"
    }
   ],
   "source": [
    "len(data)"
   ]
  },
  {
   "cell_type": "markdown",
   "metadata": {},
   "source": [
    "- **Check the missed calls**"
   ]
  },
  {
   "cell_type": "code",
   "execution_count": 31,
   "metadata": {},
   "outputs": [
    {
     "data": {
      "text/plain": [
       "0.4376265570350371"
      ]
     },
     "execution_count": 31,
     "metadata": {},
     "output_type": "execute_result"
    }
   ],
   "source": [
    "len(data.query('is_missed_call==True'))/len(data)"
   ]
  },
  {
   "cell_type": "code",
   "execution_count": 32,
   "metadata": {},
   "outputs": [],
   "source": [
    "data=data.query('is_missed_call==False and call_duration>0 and direction==\"out\"')"
   ]
  },
  {
   "cell_type": "code",
   "execution_count": 33,
   "metadata": {},
   "outputs": [
    {
     "data": {
      "text/plain": [
       "15416"
      ]
     },
     "execution_count": 33,
     "metadata": {},
     "output_type": "execute_result"
    }
   ],
   "source": [
    "len(data)"
   ]
  },
  {
   "cell_type": "markdown",
   "metadata": {},
   "source": [
    "## Conclusion"
   ]
  },
  {
   "cell_type": "markdown",
   "metadata": {},
   "source": [
    "<font color=\"blue\">\n",
    "  \n",
    "**Missing values** <br>\n",
    "column `internal` the number of them is low and just 0.2% of the data and we can delet them.  \n",
    "column `operator_id` missing values are 15% of the data. we can fill them with 0 or fill them with the help of the `user_id` column.     \n",
    " \n",
    "**Data types**<br>\n",
    "We convert columns related to date into datetime format. We convert columns `user_id` and `operator_id` to object, because they aren't numbers. \n",
    "    \n",
    "**Duplicates**<br> \n",
    "We checked the data for duplicates and dropped them.\n",
    "    \n",
    "We Checked the users whether they are active.<br>\n",
    "We Checked the missed calls. They are 43% of the data! Assuming that there is no charge for the missed call, we can ignore them. <br>\n",
    "Also we can ignore the calls with 0 duration and incomming calls because they are free and have no impact on revenue."
   ]
  },
  {
   "cell_type": "markdown",
   "metadata": {},
   "source": [
    "<a id=\"exp\"></a>\n",
    "## Step 3. Exploratory data analysis"
   ]
  },
  {
   "cell_type": "markdown",
   "metadata": {},
   "source": [
    "- **number of clients**"
   ]
  },
  {
   "cell_type": "code",
   "execution_count": 34,
   "metadata": {},
   "outputs": [
    {
     "data": {
      "text/plain": [
       "211"
      ]
     },
     "execution_count": 34,
     "metadata": {},
     "output_type": "execute_result"
    }
   ],
   "source": [
    "data.user_id.nunique()"
   ]
  },
  {
   "cell_type": "markdown",
   "metadata": {},
   "source": [
    "- **What time period the data contains**"
   ]
  },
  {
   "cell_type": "code",
   "execution_count": 35,
   "metadata": {},
   "outputs": [
    {
     "data": {
      "text/plain": [
       "Timestamp('2019-08-02 00:00:00')"
      ]
     },
     "execution_count": 35,
     "metadata": {},
     "output_type": "execute_result"
    }
   ],
   "source": [
    "data.date.min()"
   ]
  },
  {
   "cell_type": "code",
   "execution_count": 36,
   "metadata": {},
   "outputs": [
    {
     "data": {
      "text/plain": [
       "Timestamp('2019-11-28 00:00:00')"
      ]
     },
     "execution_count": 36,
     "metadata": {},
     "output_type": "execute_result"
    }
   ],
   "source": [
    "data.date.max()"
   ]
  },
  {
   "cell_type": "code",
   "execution_count": 37,
   "metadata": {},
   "outputs": [
    {
     "data": {
      "text/html": [
       "<div>\n",
       "<style scoped>\n",
       "    .dataframe tbody tr th:only-of-type {\n",
       "        vertical-align: middle;\n",
       "    }\n",
       "\n",
       "    .dataframe tbody tr th {\n",
       "        vertical-align: top;\n",
       "    }\n",
       "\n",
       "    .dataframe thead th {\n",
       "        text-align: right;\n",
       "    }\n",
       "</style>\n",
       "<table border=\"1\" class=\"dataframe\">\n",
       "  <thead>\n",
       "    <tr style=\"text-align: right;\">\n",
       "      <th></th>\n",
       "      <th>calls_count</th>\n",
       "      <th>call_duration</th>\n",
       "      <th>total_call_duration</th>\n",
       "    </tr>\n",
       "  </thead>\n",
       "  <tbody>\n",
       "    <tr>\n",
       "      <th>count</th>\n",
       "      <td>15416.000000</td>\n",
       "      <td>15416.000000</td>\n",
       "      <td>15416.000000</td>\n",
       "    </tr>\n",
       "    <tr>\n",
       "      <th>mean</th>\n",
       "      <td>21.876687</td>\n",
       "      <td>2114.879152</td>\n",
       "      <td>2468.957512</td>\n",
       "    </tr>\n",
       "    <tr>\n",
       "      <th>std</th>\n",
       "      <td>64.163848</td>\n",
       "      <td>6374.987047</td>\n",
       "      <td>7444.415516</td>\n",
       "    </tr>\n",
       "    <tr>\n",
       "      <th>min</th>\n",
       "      <td>1.000000</td>\n",
       "      <td>1.000000</td>\n",
       "      <td>1.000000</td>\n",
       "    </tr>\n",
       "    <tr>\n",
       "      <th>25%</th>\n",
       "      <td>2.000000</td>\n",
       "      <td>152.000000</td>\n",
       "      <td>182.000000</td>\n",
       "    </tr>\n",
       "    <tr>\n",
       "      <th>50%</th>\n",
       "      <td>6.000000</td>\n",
       "      <td>618.000000</td>\n",
       "      <td>730.000000</td>\n",
       "    </tr>\n",
       "    <tr>\n",
       "      <th>75%</th>\n",
       "      <td>20.000000</td>\n",
       "      <td>2022.250000</td>\n",
       "      <td>2367.000000</td>\n",
       "    </tr>\n",
       "    <tr>\n",
       "      <th>max</th>\n",
       "      <td>1480.000000</td>\n",
       "      <td>144395.000000</td>\n",
       "      <td>166155.000000</td>\n",
       "    </tr>\n",
       "  </tbody>\n",
       "</table>\n",
       "</div>"
      ],
      "text/plain": [
       "        calls_count  call_duration  total_call_duration\n",
       "count  15416.000000   15416.000000         15416.000000\n",
       "mean      21.876687    2114.879152          2468.957512\n",
       "std       64.163848    6374.987047          7444.415516\n",
       "min        1.000000       1.000000             1.000000\n",
       "25%        2.000000     152.000000           182.000000\n",
       "50%        6.000000     618.000000           730.000000\n",
       "75%       20.000000    2022.250000          2367.000000\n",
       "max     1480.000000  144395.000000        166155.000000"
      ]
     },
     "execution_count": 37,
     "metadata": {},
     "output_type": "execute_result"
    }
   ],
   "source": [
    "data.describe()"
   ]
  },
  {
   "cell_type": "code",
   "execution_count": 38,
   "metadata": {},
   "outputs": [
    {
     "data": {
      "image/png": "[encoded data removed]"
     },
     "metadata": {},
     "output_type": "display_data"
    }
   ],
   "source": [
    "fig = px.histogram(data, x=\"call_duration\", title='Call duration')\n",
    "fig.show(\"png\")"
   ]
  },
  {
   "cell_type": "markdown",
   "metadata": {},
   "source": [
    "<font color=\"blue\">\n",
    "    \n",
    "The distribution is very skewd influenced by outliers. Most of calls are under 500sec(8 min). There are call durations more than 40000 sec(11 hours).<br>\n",
    "We have the call duration for calls of each operator on days.<br>\n",
    "We don't know abaut the time-service of the clients. Assuming they provide 24-hour service, each operator can not have more than 86,400 seconds of call duration per day, it is irrational! And if the service is 8 to 10 hours as usual, more than 36,000 seconds is irrational. <br>\n",
    "We assume the time-service is 10 hours a day. So, we can ignore the call duration more than 36000 sec.   "
   ]
  },
  {
   "cell_type": "code",
   "execution_count": 39,
   "metadata": {},
   "outputs": [
    {
     "data": {
      "text/plain": [
       "108"
      ]
     },
     "execution_count": 39,
     "metadata": {},
     "output_type": "execute_result"
    }
   ],
   "source": [
    "len(data.query('call_duration>36000'))"
   ]
  },
  {
   "cell_type": "code",
   "execution_count": 40,
   "metadata": {},
   "outputs": [],
   "source": [
    "data=data.query('call_duration<=36000')"
   ]
  },
  {
   "cell_type": "code",
   "execution_count": 41,
   "metadata": {},
   "outputs": [
    {
     "data": {
      "text/plain": [
       "15308"
      ]
     },
     "execution_count": 41,
     "metadata": {},
     "output_type": "execute_result"
    }
   ],
   "source": [
    "len(data)"
   ]
  },
  {
   "cell_type": "code",
   "execution_count": 42,
   "metadata": {},
   "outputs": [
    {
     "data": {
      "image/png": "[encoded data removed]"
     },
     "metadata": {},
     "output_type": "display_data"
    }
   ],
   "source": [
    "fig = px.histogram(data, x=\"call_duration\", title='Call duration')\n",
    "fig.show(\"png\")"
   ]
  },
  {
   "cell_type": "markdown",
   "metadata": {},
   "source": [
    "###  For each user, find:\n",
    "  - **The number of calls made per month**\n",
    "  - **The call duration per month**\n",
    "  - **The number of operators**"
   ]
  },
  {
   "cell_type": "code",
   "execution_count": 43,
   "metadata": {},
   "outputs": [],
   "source": [
    "data['month']=data['date'].dt.month"
   ]
  },
  {
   "cell_type": "code",
   "execution_count": 44,
   "metadata": {},
   "outputs": [
    {
     "data": {
      "text/html": [
       "<div>\n",
       "<style scoped>\n",
       "    .dataframe tbody tr th:only-of-type {\n",
       "        vertical-align: middle;\n",
       "    }\n",
       "\n",
       "    .dataframe tbody tr th {\n",
       "        vertical-align: top;\n",
       "    }\n",
       "\n",
       "    .dataframe thead th {\n",
       "        text-align: right;\n",
       "    }\n",
       "</style>\n",
       "<table border=\"1\" class=\"dataframe\">\n",
       "  <thead>\n",
       "    <tr style=\"text-align: right;\">\n",
       "      <th></th>\n",
       "      <th>user_id</th>\n",
       "      <th>date</th>\n",
       "      <th>direction</th>\n",
       "      <th>internal</th>\n",
       "      <th>operator_id</th>\n",
       "      <th>is_missed_call</th>\n",
       "      <th>calls_count</th>\n",
       "      <th>call_duration</th>\n",
       "      <th>total_call_duration</th>\n",
       "      <th>tariff_plan</th>\n",
       "      <th>date_start</th>\n",
       "      <th>month</th>\n",
       "    </tr>\n",
       "  </thead>\n",
       "  <tbody>\n",
       "    <tr>\n",
       "      <th>3</th>\n",
       "      <td>166377</td>\n",
       "      <td>2019-08-05</td>\n",
       "      <td>out</td>\n",
       "      <td>internal</td>\n",
       "      <td>880020</td>\n",
       "      <td>False</td>\n",
       "      <td>1</td>\n",
       "      <td>10</td>\n",
       "      <td>18</td>\n",
       "      <td>B</td>\n",
       "      <td>2019-08-01</td>\n",
       "      <td>8</td>\n",
       "    </tr>\n",
       "  </tbody>\n",
       "</table>\n",
       "</div>"
      ],
      "text/plain": [
       "  user_id       date direction  internal operator_id  is_missed_call  \\\n",
       "3  166377 2019-08-05       out  internal      880020           False   \n",
       "\n",
       "   calls_count  call_duration  total_call_duration tariff_plan date_start  \\\n",
       "3            1             10                   18           B 2019-08-01   \n",
       "\n",
       "   month  \n",
       "3      8  "
      ]
     },
     "execution_count": 44,
     "metadata": {},
     "output_type": "execute_result"
    }
   ],
   "source": [
    "data.head(1)"
   ]
  },
  {
   "cell_type": "code",
   "execution_count": 45,
   "metadata": {},
   "outputs": [],
   "source": [
    "monthly_data=data.pivot_table(index=['user_id','month'], values=['call_duration'], columns='internal', aggfunc=['count','sum']).\\\n",
    "fillna(0).reset_index()"
   ]
  },
  {
   "cell_type": "code",
   "execution_count": 46,
   "metadata": {},
   "outputs": [],
   "source": [
    "monthly_data.columns=['user_id','month','external_calls','internal_calls','external_duration','internal_duration']"
   ]
  },
  {
   "cell_type": "code",
   "execution_count": 47,
   "metadata": {},
   "outputs": [
    {
     "data": {
      "text/html": [
       "<div>\n",
       "<style scoped>\n",
       "    .dataframe tbody tr th:only-of-type {\n",
       "        vertical-align: middle;\n",
       "    }\n",
       "\n",
       "    .dataframe tbody tr th {\n",
       "        vertical-align: top;\n",
       "    }\n",
       "\n",
       "    .dataframe thead th {\n",
       "        text-align: right;\n",
       "    }\n",
       "</style>\n",
       "<table border=\"1\" class=\"dataframe\">\n",
       "  <thead>\n",
       "    <tr style=\"text-align: right;\">\n",
       "      <th></th>\n",
       "      <th>user_id</th>\n",
       "      <th>month</th>\n",
       "      <th>external_calls</th>\n",
       "      <th>internal_calls</th>\n",
       "      <th>external_duration</th>\n",
       "      <th>internal_duration</th>\n",
       "    </tr>\n",
       "  </thead>\n",
       "  <tbody>\n",
       "    <tr>\n",
       "      <th>0</th>\n",
       "      <td>166377</td>\n",
       "      <td>8</td>\n",
       "      <td>37.0</td>\n",
       "      <td>1.0</td>\n",
       "      <td>64968.0</td>\n",
       "      <td>10.0</td>\n",
       "    </tr>\n",
       "    <tr>\n",
       "      <th>1</th>\n",
       "      <td>166377</td>\n",
       "      <td>9</td>\n",
       "      <td>59.0</td>\n",
       "      <td>0.0</td>\n",
       "      <td>85609.0</td>\n",
       "      <td>0.0</td>\n",
       "    </tr>\n",
       "    <tr>\n",
       "      <th>2</th>\n",
       "      <td>166377</td>\n",
       "      <td>10</td>\n",
       "      <td>54.0</td>\n",
       "      <td>1.0</td>\n",
       "      <td>81599.0</td>\n",
       "      <td>2.0</td>\n",
       "    </tr>\n",
       "    <tr>\n",
       "      <th>3</th>\n",
       "      <td>166377</td>\n",
       "      <td>11</td>\n",
       "      <td>44.0</td>\n",
       "      <td>1.0</td>\n",
       "      <td>78243.0</td>\n",
       "      <td>120.0</td>\n",
       "    </tr>\n",
       "    <tr>\n",
       "      <th>4</th>\n",
       "      <td>166405</td>\n",
       "      <td>8</td>\n",
       "      <td>31.0</td>\n",
       "      <td>0.0</td>\n",
       "      <td>44039.0</td>\n",
       "      <td>0.0</td>\n",
       "    </tr>\n",
       "    <tr>\n",
       "      <th>...</th>\n",
       "      <td>...</td>\n",
       "      <td>...</td>\n",
       "      <td>...</td>\n",
       "      <td>...</td>\n",
       "      <td>...</td>\n",
       "      <td>...</td>\n",
       "    </tr>\n",
       "    <tr>\n",
       "      <th>472</th>\n",
       "      <td>168481</td>\n",
       "      <td>11</td>\n",
       "      <td>4.0</td>\n",
       "      <td>0.0</td>\n",
       "      <td>280.0</td>\n",
       "      <td>0.0</td>\n",
       "    </tr>\n",
       "    <tr>\n",
       "      <th>473</th>\n",
       "      <td>168500</td>\n",
       "      <td>11</td>\n",
       "      <td>0.0</td>\n",
       "      <td>1.0</td>\n",
       "      <td>0.0</td>\n",
       "      <td>6.0</td>\n",
       "    </tr>\n",
       "    <tr>\n",
       "      <th>474</th>\n",
       "      <td>168601</td>\n",
       "      <td>11</td>\n",
       "      <td>19.0</td>\n",
       "      <td>0.0</td>\n",
       "      <td>24264.0</td>\n",
       "      <td>0.0</td>\n",
       "    </tr>\n",
       "    <tr>\n",
       "      <th>475</th>\n",
       "      <td>168603</td>\n",
       "      <td>11</td>\n",
       "      <td>4.0</td>\n",
       "      <td>0.0</td>\n",
       "      <td>905.0</td>\n",
       "      <td>0.0</td>\n",
       "    </tr>\n",
       "    <tr>\n",
       "      <th>476</th>\n",
       "      <td>168606</td>\n",
       "      <td>11</td>\n",
       "      <td>2.0</td>\n",
       "      <td>2.0</td>\n",
       "      <td>806.0</td>\n",
       "      <td>3609.0</td>\n",
       "    </tr>\n",
       "  </tbody>\n",
       "</table>\n",
       "<p>477 rows × 6 columns</p>\n",
       "</div>"
      ],
      "text/plain": [
       "     user_id  month  external_calls  internal_calls  external_duration  \\\n",
       "0     166377      8            37.0             1.0            64968.0   \n",
       "1     166377      9            59.0             0.0            85609.0   \n",
       "2     166377     10            54.0             1.0            81599.0   \n",
       "3     166377     11            44.0             1.0            78243.0   \n",
       "4     166405      8            31.0             0.0            44039.0   \n",
       "..       ...    ...             ...             ...                ...   \n",
       "472   168481     11             4.0             0.0              280.0   \n",
       "473   168500     11             0.0             1.0                0.0   \n",
       "474   168601     11            19.0             0.0            24264.0   \n",
       "475   168603     11             4.0             0.0              905.0   \n",
       "476   168606     11             2.0             2.0              806.0   \n",
       "\n",
       "     internal_duration  \n",
       "0                 10.0  \n",
       "1                  0.0  \n",
       "2                  2.0  \n",
       "3                120.0  \n",
       "4                  0.0  \n",
       "..                 ...  \n",
       "472                0.0  \n",
       "473                6.0  \n",
       "474                0.0  \n",
       "475                0.0  \n",
       "476             3609.0  \n",
       "\n",
       "[477 rows x 6 columns]"
      ]
     },
     "execution_count": 47,
     "metadata": {},
     "output_type": "execute_result"
    }
   ],
   "source": [
    "monthly_data"
   ]
  },
  {
   "cell_type": "code",
   "execution_count": 48,
   "metadata": {},
   "outputs": [],
   "source": [
    "monthly_data=monthly_data.merge(data.groupby(['user_id']).agg({'operator_id':'nunique'}), on='user_id').\\\n",
    "rename(columns={'operator_id':'operators'}).\\\n",
    "merge(clients, on='user_id').\\\n",
    "rename(columns={'tariff_plan':'plan'})"
   ]
  },
  {
   "cell_type": "code",
   "execution_count": 49,
   "metadata": {},
   "outputs": [
    {
     "data": {
      "text/html": [
       "<div>\n",
       "<style scoped>\n",
       "    .dataframe tbody tr th:only-of-type {\n",
       "        vertical-align: middle;\n",
       "    }\n",
       "\n",
       "    .dataframe tbody tr th {\n",
       "        vertical-align: top;\n",
       "    }\n",
       "\n",
       "    .dataframe thead th {\n",
       "        text-align: right;\n",
       "    }\n",
       "</style>\n",
       "<table border=\"1\" class=\"dataframe\">\n",
       "  <thead>\n",
       "    <tr style=\"text-align: right;\">\n",
       "      <th></th>\n",
       "      <th>user_id</th>\n",
       "      <th>month</th>\n",
       "      <th>external_calls</th>\n",
       "      <th>internal_calls</th>\n",
       "      <th>external_duration</th>\n",
       "      <th>internal_duration</th>\n",
       "      <th>operators</th>\n",
       "      <th>plan</th>\n",
       "      <th>date_start</th>\n",
       "    </tr>\n",
       "  </thead>\n",
       "  <tbody>\n",
       "    <tr>\n",
       "      <th>0</th>\n",
       "      <td>166377</td>\n",
       "      <td>8</td>\n",
       "      <td>37.0</td>\n",
       "      <td>1.0</td>\n",
       "      <td>64968.0</td>\n",
       "      <td>10.0</td>\n",
       "      <td>5</td>\n",
       "      <td>B</td>\n",
       "      <td>2019-08-01</td>\n",
       "    </tr>\n",
       "    <tr>\n",
       "      <th>1</th>\n",
       "      <td>166377</td>\n",
       "      <td>9</td>\n",
       "      <td>59.0</td>\n",
       "      <td>0.0</td>\n",
       "      <td>85609.0</td>\n",
       "      <td>0.0</td>\n",
       "      <td>5</td>\n",
       "      <td>B</td>\n",
       "      <td>2019-08-01</td>\n",
       "    </tr>\n",
       "  </tbody>\n",
       "</table>\n",
       "</div>"
      ],
      "text/plain": [
       "  user_id  month  external_calls  internal_calls  external_duration  \\\n",
       "0  166377      8            37.0             1.0            64968.0   \n",
       "1  166377      9            59.0             0.0            85609.0   \n",
       "\n",
       "   internal_duration  operators plan date_start  \n",
       "0               10.0          5    B 2019-08-01  \n",
       "1                0.0          5    B 2019-08-01  "
      ]
     },
     "execution_count": 49,
     "metadata": {},
     "output_type": "execute_result"
    }
   ],
   "source": [
    "monthly_data.head(2)"
   ]
  },
  {
   "cell_type": "markdown",
   "metadata": {},
   "source": [
    "  - **Calculate the monthly revenue for each user** "
   ]
  },
  {
   "cell_type": "code",
   "execution_count": 50,
   "metadata": {},
   "outputs": [],
   "source": [
    "def cost(row):\n",
    "    \n",
    "    plan=row['plan']\n",
    "    operators=row['operators']\n",
    "    internal_duration=row['internal_duration']\n",
    "    external_duration=row['external_duration']\n",
    "\n",
    "    if plan=='A':\n",
    "        \n",
    "        basic_cost=5000\n",
    "        operator_cost=operators*100\n",
    "        \n",
    "        if internal_duration <= 2000:\n",
    "            internal_cost=0\n",
    "        else:\n",
    "            internal_cost= (internal_duration-2000)* 0.1\n",
    "                \n",
    "        external_cost= external_duration * 0.4\n",
    "            \n",
    "        \n",
    "    elif plan=='B':\n",
    "        \n",
    "        basic_cost=2000\n",
    "        operator_cost=operators*100\n",
    "        \n",
    "        if internal_duration <= 2000:\n",
    "                internal_cost=0\n",
    "        else:\n",
    "            internal_cost= (internal_duration-2000) * 0.15\n",
    "                \n",
    "        external_cost= external_duration * 0.5\n",
    "                \n",
    "       \n",
    "            \n",
    "    elif plan=='C':   \n",
    "        \n",
    "        basic_cost=1000\n",
    "        operator_cost=operators*100\n",
    "        \n",
    "        if internal_duration <= 2000:\n",
    "                internal_cost=0\n",
    "        else:\n",
    "                internal_cost= (internal_duration-2000) * 0.3\n",
    "                \n",
    "        external_cost= external_duration * 0.7\n",
    " \n",
    "    return basic_cost + operator_cost + internal_cost + external_cost"
   ]
  },
  {
   "cell_type": "code",
   "execution_count": 51,
   "metadata": {},
   "outputs": [],
   "source": [
    "monthly_data['revenue']=monthly_data.apply(cost, axis=1)"
   ]
  },
  {
   "cell_type": "code",
   "execution_count": 52,
   "metadata": {},
   "outputs": [
    {
     "data": {
      "text/html": [
       "<div>\n",
       "<style scoped>\n",
       "    .dataframe tbody tr th:only-of-type {\n",
       "        vertical-align: middle;\n",
       "    }\n",
       "\n",
       "    .dataframe tbody tr th {\n",
       "        vertical-align: top;\n",
       "    }\n",
       "\n",
       "    .dataframe thead th {\n",
       "        text-align: right;\n",
       "    }\n",
       "</style>\n",
       "<table border=\"1\" class=\"dataframe\">\n",
       "  <thead>\n",
       "    <tr style=\"text-align: right;\">\n",
       "      <th></th>\n",
       "      <th>user_id</th>\n",
       "      <th>month</th>\n",
       "      <th>external_calls</th>\n",
       "      <th>internal_calls</th>\n",
       "      <th>external_duration</th>\n",
       "      <th>internal_duration</th>\n",
       "      <th>operators</th>\n",
       "      <th>plan</th>\n",
       "      <th>date_start</th>\n",
       "      <th>revenue</th>\n",
       "    </tr>\n",
       "  </thead>\n",
       "  <tbody>\n",
       "    <tr>\n",
       "      <th>0</th>\n",
       "      <td>166377</td>\n",
       "      <td>8</td>\n",
       "      <td>37.0</td>\n",
       "      <td>1.0</td>\n",
       "      <td>64968.0</td>\n",
       "      <td>10.0</td>\n",
       "      <td>5</td>\n",
       "      <td>B</td>\n",
       "      <td>2019-08-01</td>\n",
       "      <td>34984.0</td>\n",
       "    </tr>\n",
       "    <tr>\n",
       "      <th>1</th>\n",
       "      <td>166377</td>\n",
       "      <td>9</td>\n",
       "      <td>59.0</td>\n",
       "      <td>0.0</td>\n",
       "      <td>85609.0</td>\n",
       "      <td>0.0</td>\n",
       "      <td>5</td>\n",
       "      <td>B</td>\n",
       "      <td>2019-08-01</td>\n",
       "      <td>45304.5</td>\n",
       "    </tr>\n",
       "  </tbody>\n",
       "</table>\n",
       "</div>"
      ],
      "text/plain": [
       "  user_id  month  external_calls  internal_calls  external_duration  \\\n",
       "0  166377      8            37.0             1.0            64968.0   \n",
       "1  166377      9            59.0             0.0            85609.0   \n",
       "\n",
       "   internal_duration  operators plan date_start  revenue  \n",
       "0               10.0          5    B 2019-08-01  34984.0  \n",
       "1                0.0          5    B 2019-08-01  45304.5  "
      ]
     },
     "execution_count": 52,
     "metadata": {},
     "output_type": "execute_result"
    }
   ],
   "source": [
    "monthly_data.head(2)"
   ]
  },
  {
   "cell_type": "markdown",
   "metadata": {},
   "source": [
    "###  Describe the customers' behavior"
   ]
  },
  {
   "cell_type": "markdown",
   "metadata": {},
   "source": [
    "- **Plot a pie chart showing the shares of internal and external calls.**"
   ]
  },
  {
   "cell_type": "code",
   "execution_count": 53,
   "metadata": {},
   "outputs": [],
   "source": [
    "df=data.groupby('internal').count().reset_index()[['internal','user_id']]"
   ]
  },
  {
   "cell_type": "code",
   "execution_count": 54,
   "metadata": {},
   "outputs": [
    {
     "data": {
      "text/html": [
       "<div>\n",
       "<style scoped>\n",
       "    .dataframe tbody tr th:only-of-type {\n",
       "        vertical-align: middle;\n",
       "    }\n",
       "\n",
       "    .dataframe tbody tr th {\n",
       "        vertical-align: top;\n",
       "    }\n",
       "\n",
       "    .dataframe thead th {\n",
       "        text-align: right;\n",
       "    }\n",
       "</style>\n",
       "<table border=\"1\" class=\"dataframe\">\n",
       "  <thead>\n",
       "    <tr style=\"text-align: right;\">\n",
       "      <th></th>\n",
       "      <th>internal</th>\n",
       "      <th>user_id</th>\n",
       "    </tr>\n",
       "  </thead>\n",
       "  <tbody>\n",
       "    <tr>\n",
       "      <th>0</th>\n",
       "      <td>external</td>\n",
       "      <td>12759</td>\n",
       "    </tr>\n",
       "    <tr>\n",
       "      <th>1</th>\n",
       "      <td>internal</td>\n",
       "      <td>2549</td>\n",
       "    </tr>\n",
       "  </tbody>\n",
       "</table>\n",
       "</div>"
      ],
      "text/plain": [
       "   internal  user_id\n",
       "0  external    12759\n",
       "1  internal     2549"
      ]
     },
     "execution_count": 54,
     "metadata": {},
     "output_type": "execute_result"
    }
   ],
   "source": [
    "df"
   ]
  },
  {
   "cell_type": "code",
   "execution_count": 55,
   "metadata": {},
   "outputs": [
    {
     "data": {
      "image/png": "[encoded data removed]"
     },
     "metadata": {},
     "output_type": "display_data"
    }
   ],
   "source": [
    "fig = px.pie(df, values='user_id', names='internal', title='Share of internal & external calls')\n",
    "fig.show(\"png\")"
   ]
  },
  {
   "cell_type": "markdown",
   "metadata": {},
   "source": [
    "<font color=\"blue\">\n",
    "    \n",
    "83% of the outgoing calls are external and 17% internal.     "
   ]
  },
  {
   "cell_type": "markdown",
   "metadata": {},
   "source": [
    " - **Plot distributions of the call duration for the clients of each plan per month.** "
   ]
  },
  {
   "cell_type": "code",
   "execution_count": 56,
   "metadata": {},
   "outputs": [],
   "source": [
    "monthly_data['total_duration']=monthly_data['internal_duration']+monthly_data['external_duration']"
   ]
  },
  {
   "cell_type": "code",
   "execution_count": 57,
   "metadata": {},
   "outputs": [
    {
     "data": {
      "text/html": [
       "<div>\n",
       "<style scoped>\n",
       "    .dataframe tbody tr th:only-of-type {\n",
       "        vertical-align: middle;\n",
       "    }\n",
       "\n",
       "    .dataframe tbody tr th {\n",
       "        vertical-align: top;\n",
       "    }\n",
       "\n",
       "    .dataframe thead th {\n",
       "        text-align: right;\n",
       "    }\n",
       "</style>\n",
       "<table border=\"1\" class=\"dataframe\">\n",
       "  <thead>\n",
       "    <tr style=\"text-align: right;\">\n",
       "      <th></th>\n",
       "      <th>user_id</th>\n",
       "      <th>month</th>\n",
       "      <th>external_calls</th>\n",
       "      <th>internal_calls</th>\n",
       "      <th>external_duration</th>\n",
       "      <th>internal_duration</th>\n",
       "      <th>operators</th>\n",
       "      <th>plan</th>\n",
       "      <th>date_start</th>\n",
       "      <th>revenue</th>\n",
       "      <th>total_duration</th>\n",
       "    </tr>\n",
       "  </thead>\n",
       "  <tbody>\n",
       "    <tr>\n",
       "      <th>0</th>\n",
       "      <td>166377</td>\n",
       "      <td>8</td>\n",
       "      <td>37.0</td>\n",
       "      <td>1.0</td>\n",
       "      <td>64968.0</td>\n",
       "      <td>10.0</td>\n",
       "      <td>5</td>\n",
       "      <td>B</td>\n",
       "      <td>2019-08-01</td>\n",
       "      <td>34984.0</td>\n",
       "      <td>64978.0</td>\n",
       "    </tr>\n",
       "  </tbody>\n",
       "</table>\n",
       "</div>"
      ],
      "text/plain": [
       "  user_id  month  external_calls  internal_calls  external_duration  \\\n",
       "0  166377      8            37.0             1.0            64968.0   \n",
       "\n",
       "   internal_duration  operators plan date_start  revenue  total_duration  \n",
       "0               10.0          5    B 2019-08-01  34984.0         64978.0  "
      ]
     },
     "execution_count": 57,
     "metadata": {},
     "output_type": "execute_result"
    }
   ],
   "source": [
    "monthly_data.head(1)"
   ]
  },
  {
   "cell_type": "code",
   "execution_count": 58,
   "metadata": {},
   "outputs": [
    {
     "data": {
      "image/png": "[encoded data removed]"
     },
     "metadata": {},
     "output_type": "display_data"
    }
   ],
   "source": [
    "fig = px.histogram(monthly_data, x=\"total_duration\", color='plan',title='Monthly call duration')\n",
    "fig.show(\"png\")"
   ]
  },
  {
   "cell_type": "code",
   "execution_count": 59,
   "metadata": {},
   "outputs": [
    {
     "data": {
      "image/png": "[encoded data removed]"
     },
     "metadata": {},
     "output_type": "display_data"
    }
   ],
   "source": [
    "fig = px.histogram(monthly_data.query('total_duration<100000'), x=\"total_duration\", color='plan',title='Monthly call duration')\n",
    "fig.show(\"png\")"
   ]
  },
  {
   "cell_type": "markdown",
   "metadata": {},
   "source": [
    "<font color=\"blue\">\n",
    "    \n",
    "The monthly call duration for many calls of plans B and C are less than 5k sec(1.3 hours). <br>\n",
    "The monthly call duration for some calls of plans A and B are less than 5k sec(1.3 hours). They are the users who have low call duration and need smaller plans. <br> There are some huge call duration in plan A(more than 2M sec= 555 hours). \n"
   ]
  },
  {
   "cell_type": "code",
   "execution_count": 60,
   "metadata": {},
   "outputs": [
    {
     "data": {
      "image/png": "[encoded data removed]"
     },
     "metadata": {},
     "output_type": "display_data"
    }
   ],
   "source": [
    "fig = px.box(monthly_data, x='month', y='total_duration',  color='plan', title='Call duration by different month')\n",
    "fig.show(\"png\")"
   ]
  },
  {
   "cell_type": "code",
   "execution_count": 61,
   "metadata": {},
   "outputs": [
    {
     "data": {
      "image/png": "[encoded data removed]"
     },
     "metadata": {},
     "output_type": "display_data"
    }
   ],
   "source": [
    "fig = px.box(monthly_data.query('total_duration<100000'), x='month', y='total_duration',  color='plan', title='Call duration by different month')\n",
    "fig.show(\"png\")"
   ]
  },
  {
   "cell_type": "markdown",
   "metadata": {},
   "source": [
    "<font color=\"blue\">\n",
    "    \n",
    "The call duration is increasing over the months(some clients have registered later). <br>The most call duration belongs to November.  <br>  \n",
    "There are many outliers for plan B and C too. they are the users who have more call duration and need bigger plans. "
   ]
  },
  {
   "cell_type": "markdown",
   "metadata": {},
   "source": [
    " - **Calculate the average of call duration for the clients of each plan.**"
   ]
  },
  {
   "cell_type": "code",
   "execution_count": 62,
   "metadata": {},
   "outputs": [
    {
     "data": {
      "text/html": [
       "<div>\n",
       "<style scoped>\n",
       "    .dataframe tbody tr th:only-of-type {\n",
       "        vertical-align: middle;\n",
       "    }\n",
       "\n",
       "    .dataframe tbody tr th {\n",
       "        vertical-align: top;\n",
       "    }\n",
       "\n",
       "    .dataframe thead th {\n",
       "        text-align: right;\n",
       "    }\n",
       "</style>\n",
       "<table border=\"1\" class=\"dataframe\">\n",
       "  <thead>\n",
       "    <tr style=\"text-align: right;\">\n",
       "      <th></th>\n",
       "      <th>user_id</th>\n",
       "      <th>month</th>\n",
       "      <th>external_calls</th>\n",
       "      <th>internal_calls</th>\n",
       "      <th>external_duration</th>\n",
       "      <th>internal_duration</th>\n",
       "      <th>operators</th>\n",
       "      <th>plan</th>\n",
       "      <th>date_start</th>\n",
       "      <th>revenue</th>\n",
       "      <th>total_duration</th>\n",
       "    </tr>\n",
       "  </thead>\n",
       "  <tbody>\n",
       "    <tr>\n",
       "      <th>0</th>\n",
       "      <td>166377</td>\n",
       "      <td>8</td>\n",
       "      <td>37.0</td>\n",
       "      <td>1.0</td>\n",
       "      <td>64968.0</td>\n",
       "      <td>10.0</td>\n",
       "      <td>5</td>\n",
       "      <td>B</td>\n",
       "      <td>2019-08-01</td>\n",
       "      <td>34984.0</td>\n",
       "      <td>64978.0</td>\n",
       "    </tr>\n",
       "  </tbody>\n",
       "</table>\n",
       "</div>"
      ],
      "text/plain": [
       "  user_id  month  external_calls  internal_calls  external_duration  \\\n",
       "0  166377      8            37.0             1.0            64968.0   \n",
       "\n",
       "   internal_duration  operators plan date_start  revenue  total_duration  \n",
       "0               10.0          5    B 2019-08-01  34984.0         64978.0  "
      ]
     },
     "execution_count": 62,
     "metadata": {},
     "output_type": "execute_result"
    }
   ],
   "source": [
    "monthly_data.head(1)"
   ]
  },
  {
   "cell_type": "code",
   "execution_count": 63,
   "metadata": {},
   "outputs": [
    {
     "data": {
      "text/plain": [
       "12060.5"
      ]
     },
     "execution_count": 63,
     "metadata": {},
     "output_type": "execute_result"
    }
   ],
   "source": [
    "monthly_data.query('plan==\"A\"').total_duration.median()"
   ]
  },
  {
   "cell_type": "code",
   "execution_count": 64,
   "metadata": {},
   "outputs": [
    {
     "data": {
      "text/plain": [
       "8809.5"
      ]
     },
     "execution_count": 64,
     "metadata": {},
     "output_type": "execute_result"
    }
   ],
   "source": [
    "monthly_data.query('plan==\"B\"').total_duration.median()"
   ]
  },
  {
   "cell_type": "code",
   "execution_count": 65,
   "metadata": {},
   "outputs": [
    {
     "data": {
      "text/plain": [
       "6502.0"
      ]
     },
     "execution_count": 65,
     "metadata": {},
     "output_type": "execute_result"
    }
   ],
   "source": [
    "monthly_data.query('plan==\"C\"').total_duration.median()"
   ]
  },
  {
   "cell_type": "markdown",
   "metadata": {},
   "source": [
    "<font color=\"blue\">\n",
    "    \n",
    "Since the distribution is skewed, median is a good choice to calculate the average call duration for the clients of each plan.\n",
    "  - plan A: 12060 sec(3.3 hours)\n",
    "  - plan B: 8809 sec(2.4 hours)\n",
    "  - plan C: 6502 sec(1.8 hours)"
   ]
  },
  {
   "cell_type": "markdown",
   "metadata": {},
   "source": [
    " - **Plot histograms of revenue for each plan.**"
   ]
  },
  {
   "cell_type": "code",
   "execution_count": 66,
   "metadata": {},
   "outputs": [
    {
     "data": {
      "image/png": "[encoded data removed]"
     },
     "metadata": {},
     "output_type": "display_data"
    }
   ],
   "source": [
    "fig = px.histogram(monthly_data, x=\"revenue\", color='plan',title='Monthly Revenue')\n",
    "fig.show(\"png\")"
   ]
  },
  {
   "cell_type": "code",
   "execution_count": 67,
   "metadata": {},
   "outputs": [
    {
     "data": {
      "image/png": "[encoded data removed]"
     },
     "metadata": {},
     "output_type": "display_data"
    }
   ],
   "source": [
    "fig = px.histogram(monthly_data.query('revenue<200000'), x=\"revenue\", color='plan',title='Monthly Revenue')\n",
    "fig.show(\"png\")"
   ]
  },
  {
   "cell_type": "markdown",
   "metadata": {},
   "source": [
    "<font color=\"blue\">\n",
    "        \n",
    "The monthly revenue for many clients of all plans are less than 20k. <br>\n",
    "The monthly revenue for many clients of plans B and C are less than 10k. <br>\n",
    "There is a huge revenue in plan A(more than 1.2M).  "
   ]
  },
  {
   "cell_type": "code",
   "execution_count": 68,
   "metadata": {},
   "outputs": [
    {
     "data": {
      "image/png": "[encoded data removed]"
     },
     "metadata": {},
     "output_type": "display_data"
    }
   ],
   "source": [
    "fig = px.box(monthly_data, x='month', y='revenue',  color='plan', title='Revenue by different month')\n",
    "fig.show(\"png\")"
   ]
  },
  {
   "cell_type": "code",
   "execution_count": 69,
   "metadata": {},
   "outputs": [
    {
     "data": {
      "image/png": "[encoded data removed]"
     },
     "metadata": {},
     "output_type": "display_data"
    }
   ],
   "source": [
    "fig = px.box(monthly_data.query('revenue<200000'), x='month', y='revenue',  color='plan', title='Revenue by different month')\n",
    "fig.show(\"png\")"
   ]
  },
  {
   "cell_type": "markdown",
   "metadata": {},
   "source": [
    "<font color=\"blue\">\n",
    "    \n",
    "The revenue is increasing over the months. <br>\n",
    "The most revenue belongs to November. <br>"
   ]
  },
  {
   "cell_type": "markdown",
   "metadata": {},
   "source": [
    " - **Calculate the average of revenue for the clients of each plan.**"
   ]
  },
  {
   "cell_type": "code",
   "execution_count": 70,
   "metadata": {},
   "outputs": [
    {
     "data": {
      "text/plain": [
       "9973.400000000001"
      ]
     },
     "execution_count": 70,
     "metadata": {},
     "output_type": "execute_result"
    }
   ],
   "source": [
    "monthly_data.query('plan==\"A\"').revenue.median()"
   ]
  },
  {
   "cell_type": "code",
   "execution_count": 71,
   "metadata": {},
   "outputs": [
    {
     "data": {
      "text/plain": [
       "6693.25"
      ]
     },
     "execution_count": 71,
     "metadata": {},
     "output_type": "execute_result"
    }
   ],
   "source": [
    "monthly_data.query('plan==\"B\"').revenue.median()"
   ]
  },
  {
   "cell_type": "code",
   "execution_count": 72,
   "metadata": {},
   "outputs": [
    {
     "data": {
      "text/plain": [
       "5824.099999999999"
      ]
     },
     "execution_count": 72,
     "metadata": {},
     "output_type": "execute_result"
    }
   ],
   "source": [
    "monthly_data.query('plan==\"C\"').revenue.median()"
   ]
  },
  {
   "cell_type": "markdown",
   "metadata": {},
   "source": [
    "<font color=\"blue\">\n",
    "    \n",
    "Since the distribution is skewed, median is a good choice to calculate the average revenue for the clients of each plan.\n",
    "  - plan A: 9973 \n",
    "  - plan B: 6693 \n",
    "  - plan C: 5824 "
   ]
  },
  {
   "cell_type": "markdown",
   "metadata": {},
   "source": [
    "### Find clients with non-optimal plans"
   ]
  },
  {
   "cell_type": "markdown",
   "metadata": {},
   "source": [
    "clients who:\n",
    "\n",
    " - **Overpay for their current plans:** <br>Organizations that do not use much (don’t have many outgoing calls and long calls) but use big plans. The clients which use plan A or B, with low out call durations.\n",
    "\n",
    " - **Need bigger plans, since they'll be more advantageous:** <br>Organizations that use much but use little plans. The clients which use plan B or C, with high out call durations."
   ]
  },
  {
   "cell_type": "markdown",
   "metadata": {},
   "source": [
    " - **number of users for each plan**"
   ]
  },
  {
   "cell_type": "code",
   "execution_count": 73,
   "metadata": {},
   "outputs": [
    {
     "data": {
      "text/plain": [
       "211"
      ]
     },
     "execution_count": 73,
     "metadata": {},
     "output_type": "execute_result"
    }
   ],
   "source": [
    "monthly_data.user_id.nunique()"
   ]
  },
  {
   "cell_type": "code",
   "execution_count": 74,
   "metadata": {},
   "outputs": [
    {
     "data": {
      "text/plain": [
       "27"
      ]
     },
     "execution_count": 74,
     "metadata": {},
     "output_type": "execute_result"
    }
   ],
   "source": [
    "monthly_data.query('plan==\"A\"').user_id.nunique()"
   ]
  },
  {
   "cell_type": "code",
   "execution_count": 75,
   "metadata": {},
   "outputs": [
    {
     "data": {
      "text/plain": [
       "84"
      ]
     },
     "execution_count": 75,
     "metadata": {},
     "output_type": "execute_result"
    }
   ],
   "source": [
    "monthly_data.query('plan==\"B\"').user_id.nunique()"
   ]
  },
  {
   "cell_type": "code",
   "execution_count": 76,
   "metadata": {},
   "outputs": [
    {
     "data": {
      "text/plain": [
       "100"
      ]
     },
     "execution_count": 76,
     "metadata": {},
     "output_type": "execute_result"
    }
   ],
   "source": [
    "monthly_data.query('plan==\"C\"').user_id.nunique()"
   ]
  },
  {
   "cell_type": "markdown",
   "metadata": {},
   "source": [
    " - **Split the customers into 2 categories: optimal and non-optimal.**"
   ]
  },
  {
   "cell_type": "markdown",
   "metadata": {},
   "source": [
    "We can calculate the revenue for clients of each plan assuming they used other plans, and compare the revenues to check whether the plan is optimal or not."
   ]
  },
  {
   "cell_type": "markdown",
   "metadata": {},
   "source": [
    " - **spliting the users of plan A**"
   ]
  },
  {
   "cell_type": "code",
   "execution_count": 77,
   "metadata": {},
   "outputs": [],
   "source": [
    "df_A=monthly_data.query('plan==\"A\"')"
   ]
  },
  {
   "cell_type": "code",
   "execution_count": 78,
   "metadata": {},
   "outputs": [],
   "source": [
    "df_A.plan=\"B\""
   ]
  },
  {
   "cell_type": "code",
   "execution_count": 79,
   "metadata": {},
   "outputs": [
    {
     "data": {
      "text/html": [
       "<div>\n",
       "<style scoped>\n",
       "    .dataframe tbody tr th:only-of-type {\n",
       "        vertical-align: middle;\n",
       "    }\n",
       "\n",
       "    .dataframe tbody tr th {\n",
       "        vertical-align: top;\n",
       "    }\n",
       "\n",
       "    .dataframe thead th {\n",
       "        text-align: right;\n",
       "    }\n",
       "</style>\n",
       "<table border=\"1\" class=\"dataframe\">\n",
       "  <thead>\n",
       "    <tr style=\"text-align: right;\">\n",
       "      <th></th>\n",
       "      <th>user_id</th>\n",
       "      <th>month</th>\n",
       "      <th>external_calls</th>\n",
       "      <th>internal_calls</th>\n",
       "      <th>external_duration</th>\n",
       "      <th>internal_duration</th>\n",
       "      <th>operators</th>\n",
       "      <th>plan</th>\n",
       "      <th>date_start</th>\n",
       "      <th>revenue</th>\n",
       "      <th>total_duration</th>\n",
       "    </tr>\n",
       "  </thead>\n",
       "  <tbody>\n",
       "    <tr>\n",
       "      <th>12</th>\n",
       "      <td>166407</td>\n",
       "      <td>8</td>\n",
       "      <td>1.0</td>\n",
       "      <td>0.0</td>\n",
       "      <td>20.0</td>\n",
       "      <td>0.0</td>\n",
       "      <td>8</td>\n",
       "      <td>B</td>\n",
       "      <td>2019-08-02</td>\n",
       "      <td>5808.0</td>\n",
       "      <td>20.0</td>\n",
       "    </tr>\n",
       "    <tr>\n",
       "      <th>13</th>\n",
       "      <td>166407</td>\n",
       "      <td>9</td>\n",
       "      <td>8.0</td>\n",
       "      <td>44.0</td>\n",
       "      <td>2067.0</td>\n",
       "      <td>4051.0</td>\n",
       "      <td>8</td>\n",
       "      <td>B</td>\n",
       "      <td>2019-08-02</td>\n",
       "      <td>6831.9</td>\n",
       "      <td>6118.0</td>\n",
       "    </tr>\n",
       "    <tr>\n",
       "      <th>14</th>\n",
       "      <td>166407</td>\n",
       "      <td>10</td>\n",
       "      <td>27.0</td>\n",
       "      <td>75.0</td>\n",
       "      <td>10441.0</td>\n",
       "      <td>7391.0</td>\n",
       "      <td>8</td>\n",
       "      <td>B</td>\n",
       "      <td>2019-08-02</td>\n",
       "      <td>10515.5</td>\n",
       "      <td>17832.0</td>\n",
       "    </tr>\n",
       "    <tr>\n",
       "      <th>15</th>\n",
       "      <td>166407</td>\n",
       "      <td>11</td>\n",
       "      <td>27.0</td>\n",
       "      <td>68.0</td>\n",
       "      <td>6530.0</td>\n",
       "      <td>5300.0</td>\n",
       "      <td>8</td>\n",
       "      <td>B</td>\n",
       "      <td>2019-08-02</td>\n",
       "      <td>8742.0</td>\n",
       "      <td>11830.0</td>\n",
       "    </tr>\n",
       "    <tr>\n",
       "      <th>44</th>\n",
       "      <td>166541</td>\n",
       "      <td>9</td>\n",
       "      <td>10.0</td>\n",
       "      <td>0.0</td>\n",
       "      <td>2608.0</td>\n",
       "      <td>0.0</td>\n",
       "      <td>2</td>\n",
       "      <td>B</td>\n",
       "      <td>2019-08-07</td>\n",
       "      <td>6243.2</td>\n",
       "      <td>2608.0</td>\n",
       "    </tr>\n",
       "  </tbody>\n",
       "</table>\n",
       "</div>"
      ],
      "text/plain": [
       "   user_id  month  external_calls  internal_calls  external_duration  \\\n",
       "12  166407      8             1.0             0.0               20.0   \n",
       "13  166407      9             8.0            44.0             2067.0   \n",
       "14  166407     10            27.0            75.0            10441.0   \n",
       "15  166407     11            27.0            68.0             6530.0   \n",
       "44  166541      9            10.0             0.0             2608.0   \n",
       "\n",
       "    internal_duration  operators plan date_start  revenue  total_duration  \n",
       "12                0.0          8    B 2019-08-02   5808.0            20.0  \n",
       "13             4051.0          8    B 2019-08-02   6831.9          6118.0  \n",
       "14             7391.0          8    B 2019-08-02  10515.5         17832.0  \n",
       "15             5300.0          8    B 2019-08-02   8742.0         11830.0  \n",
       "44                0.0          2    B 2019-08-07   6243.2          2608.0  "
      ]
     },
     "execution_count": 79,
     "metadata": {},
     "output_type": "execute_result"
    }
   ],
   "source": [
    "df_A.head()"
   ]
  },
  {
   "cell_type": "code",
   "execution_count": 80,
   "metadata": {},
   "outputs": [],
   "source": [
    "df_A['revenue2']=df_A.apply(cost, axis=1)"
   ]
  },
  {
   "cell_type": "code",
   "execution_count": 81,
   "metadata": {},
   "outputs": [
    {
     "data": {
      "text/html": [
       "<div>\n",
       "<style scoped>\n",
       "    .dataframe tbody tr th:only-of-type {\n",
       "        vertical-align: middle;\n",
       "    }\n",
       "\n",
       "    .dataframe tbody tr th {\n",
       "        vertical-align: top;\n",
       "    }\n",
       "\n",
       "    .dataframe thead th {\n",
       "        text-align: right;\n",
       "    }\n",
       "</style>\n",
       "<table border=\"1\" class=\"dataframe\">\n",
       "  <thead>\n",
       "    <tr style=\"text-align: right;\">\n",
       "      <th></th>\n",
       "      <th>user_id</th>\n",
       "      <th>month</th>\n",
       "      <th>external_calls</th>\n",
       "      <th>internal_calls</th>\n",
       "      <th>external_duration</th>\n",
       "      <th>internal_duration</th>\n",
       "      <th>operators</th>\n",
       "      <th>plan</th>\n",
       "      <th>date_start</th>\n",
       "      <th>revenue</th>\n",
       "      <th>total_duration</th>\n",
       "      <th>revenue2</th>\n",
       "    </tr>\n",
       "  </thead>\n",
       "  <tbody>\n",
       "    <tr>\n",
       "      <th>12</th>\n",
       "      <td>166407</td>\n",
       "      <td>8</td>\n",
       "      <td>1.0</td>\n",
       "      <td>0.0</td>\n",
       "      <td>20.0</td>\n",
       "      <td>0.0</td>\n",
       "      <td>8</td>\n",
       "      <td>B</td>\n",
       "      <td>2019-08-02</td>\n",
       "      <td>5808.0</td>\n",
       "      <td>20.0</td>\n",
       "      <td>2810.00</td>\n",
       "    </tr>\n",
       "    <tr>\n",
       "      <th>13</th>\n",
       "      <td>166407</td>\n",
       "      <td>9</td>\n",
       "      <td>8.0</td>\n",
       "      <td>44.0</td>\n",
       "      <td>2067.0</td>\n",
       "      <td>4051.0</td>\n",
       "      <td>8</td>\n",
       "      <td>B</td>\n",
       "      <td>2019-08-02</td>\n",
       "      <td>6831.9</td>\n",
       "      <td>6118.0</td>\n",
       "      <td>4141.15</td>\n",
       "    </tr>\n",
       "    <tr>\n",
       "      <th>14</th>\n",
       "      <td>166407</td>\n",
       "      <td>10</td>\n",
       "      <td>27.0</td>\n",
       "      <td>75.0</td>\n",
       "      <td>10441.0</td>\n",
       "      <td>7391.0</td>\n",
       "      <td>8</td>\n",
       "      <td>B</td>\n",
       "      <td>2019-08-02</td>\n",
       "      <td>10515.5</td>\n",
       "      <td>17832.0</td>\n",
       "      <td>8829.15</td>\n",
       "    </tr>\n",
       "    <tr>\n",
       "      <th>15</th>\n",
       "      <td>166407</td>\n",
       "      <td>11</td>\n",
       "      <td>27.0</td>\n",
       "      <td>68.0</td>\n",
       "      <td>6530.0</td>\n",
       "      <td>5300.0</td>\n",
       "      <td>8</td>\n",
       "      <td>B</td>\n",
       "      <td>2019-08-02</td>\n",
       "      <td>8742.0</td>\n",
       "      <td>11830.0</td>\n",
       "      <td>6560.00</td>\n",
       "    </tr>\n",
       "    <tr>\n",
       "      <th>44</th>\n",
       "      <td>166541</td>\n",
       "      <td>9</td>\n",
       "      <td>10.0</td>\n",
       "      <td>0.0</td>\n",
       "      <td>2608.0</td>\n",
       "      <td>0.0</td>\n",
       "      <td>2</td>\n",
       "      <td>B</td>\n",
       "      <td>2019-08-07</td>\n",
       "      <td>6243.2</td>\n",
       "      <td>2608.0</td>\n",
       "      <td>3504.00</td>\n",
       "    </tr>\n",
       "  </tbody>\n",
       "</table>\n",
       "</div>"
      ],
      "text/plain": [
       "   user_id  month  external_calls  internal_calls  external_duration  \\\n",
       "12  166407      8             1.0             0.0               20.0   \n",
       "13  166407      9             8.0            44.0             2067.0   \n",
       "14  166407     10            27.0            75.0            10441.0   \n",
       "15  166407     11            27.0            68.0             6530.0   \n",
       "44  166541      9            10.0             0.0             2608.0   \n",
       "\n",
       "    internal_duration  operators plan date_start  revenue  total_duration  \\\n",
       "12                0.0          8    B 2019-08-02   5808.0            20.0   \n",
       "13             4051.0          8    B 2019-08-02   6831.9          6118.0   \n",
       "14             7391.0          8    B 2019-08-02  10515.5         17832.0   \n",
       "15             5300.0          8    B 2019-08-02   8742.0         11830.0   \n",
       "44                0.0          2    B 2019-08-07   6243.2          2608.0   \n",
       "\n",
       "    revenue2  \n",
       "12   2810.00  \n",
       "13   4141.15  \n",
       "14   8829.15  \n",
       "15   6560.00  \n",
       "44   3504.00  "
      ]
     },
     "execution_count": 81,
     "metadata": {},
     "output_type": "execute_result"
    }
   ],
   "source": [
    "df_A.head()"
   ]
  },
  {
   "cell_type": "code",
   "execution_count": 82,
   "metadata": {},
   "outputs": [],
   "source": [
    "df_A.plan=\"C\""
   ]
  },
  {
   "cell_type": "code",
   "execution_count": 83,
   "metadata": {},
   "outputs": [],
   "source": [
    "df_A['revenue3']=df_A.apply(cost, axis=1)"
   ]
  },
  {
   "cell_type": "code",
   "execution_count": 84,
   "metadata": {},
   "outputs": [],
   "source": [
    "df_A=df_A[['user_id', 'revenue', 'revenue2', 'revenue3']].groupby('user_id').mean().reset_index()"
   ]
  },
  {
   "cell_type": "code",
   "execution_count": 85,
   "metadata": {},
   "outputs": [],
   "source": [
    "def optimal(row):\n",
    "    revenue=row['revenue']\n",
    "    revenue2=row['revenue2']\n",
    "    revenue3=row['revenue3']\n",
    "    \n",
    "    if revenue2<revenue:\n",
    "        return \"non_optimal\"\n",
    "    if revenue3<revenue:\n",
    "        return \"non_optimal\"\n",
    "\n",
    "    else: \n",
    "        return \"optimal\" "
   ]
  },
  {
   "cell_type": "code",
   "execution_count": 86,
   "metadata": {},
   "outputs": [],
   "source": [
    "df_A['optimal']=df_A.apply(optimal , axis=1)"
   ]
  },
  {
   "cell_type": "code",
   "execution_count": 87,
   "metadata": {},
   "outputs": [
    {
     "data": {
      "text/html": [
       "<div>\n",
       "<style scoped>\n",
       "    .dataframe tbody tr th:only-of-type {\n",
       "        vertical-align: middle;\n",
       "    }\n",
       "\n",
       "    .dataframe tbody tr th {\n",
       "        vertical-align: top;\n",
       "    }\n",
       "\n",
       "    .dataframe thead th {\n",
       "        text-align: right;\n",
       "    }\n",
       "</style>\n",
       "<table border=\"1\" class=\"dataframe\">\n",
       "  <thead>\n",
       "    <tr style=\"text-align: right;\">\n",
       "      <th></th>\n",
       "      <th>user_id</th>\n",
       "      <th>revenue</th>\n",
       "      <th>revenue2</th>\n",
       "      <th>revenue3</th>\n",
       "      <th>optimal</th>\n",
       "    </tr>\n",
       "  </thead>\n",
       "  <tbody>\n",
       "    <tr>\n",
       "      <th>0</th>\n",
       "      <td>166407</td>\n",
       "      <td>7974.350000</td>\n",
       "      <td>5585.075000</td>\n",
       "      <td>5940.800000</td>\n",
       "      <td>non_optimal</td>\n",
       "    </tr>\n",
       "    <tr>\n",
       "      <th>1</th>\n",
       "      <td>166541</td>\n",
       "      <td>6885.066667</td>\n",
       "      <td>4306.333333</td>\n",
       "      <td>4148.866667</td>\n",
       "      <td>non_optimal</td>\n",
       "    </tr>\n",
       "    <tr>\n",
       "      <th>3</th>\n",
       "      <td>166609</td>\n",
       "      <td>6854.800000</td>\n",
       "      <td>4193.500000</td>\n",
       "      <td>3870.900000</td>\n",
       "      <td>non_optimal</td>\n",
       "    </tr>\n",
       "    <tr>\n",
       "      <th>4</th>\n",
       "      <td>166713</td>\n",
       "      <td>5129.600000</td>\n",
       "      <td>2137.000000</td>\n",
       "      <td>1151.800000</td>\n",
       "      <td>non_optimal</td>\n",
       "    </tr>\n",
       "    <tr>\n",
       "      <th>5</th>\n",
       "      <td>166725</td>\n",
       "      <td>10894.200000</td>\n",
       "      <td>9342.750000</td>\n",
       "      <td>11239.850000</td>\n",
       "      <td>non_optimal</td>\n",
       "    </tr>\n",
       "  </tbody>\n",
       "</table>\n",
       "</div>"
      ],
      "text/plain": [
       "   user_id       revenue     revenue2      revenue3      optimal\n",
       "0   166407   7974.350000  5585.075000   5940.800000  non_optimal\n",
       "1   166541   6885.066667  4306.333333   4148.866667  non_optimal\n",
       "3   166609   6854.800000  4193.500000   3870.900000  non_optimal\n",
       "4   166713   5129.600000  2137.000000   1151.800000  non_optimal\n",
       "5   166725  10894.200000  9342.750000  11239.850000  non_optimal"
      ]
     },
     "execution_count": 87,
     "metadata": {},
     "output_type": "execute_result"
    }
   ],
   "source": [
    "df_A.query('optimal==\"non_optimal\"').head()"
   ]
  },
  {
   "cell_type": "code",
   "execution_count": 88,
   "metadata": {},
   "outputs": [
    {
     "data": {
      "text/plain": [
       "15"
      ]
     },
     "execution_count": 88,
     "metadata": {},
     "output_type": "execute_result"
    }
   ],
   "source": [
    "len(df_A.query('optimal==\"non_optimal\"'))"
   ]
  },
  {
   "cell_type": "code",
   "execution_count": 89,
   "metadata": {},
   "outputs": [
    {
     "data": {
      "text/plain": [
       "0.5555555555555556"
      ]
     },
     "execution_count": 89,
     "metadata": {},
     "output_type": "execute_result"
    }
   ],
   "source": [
    "len(df_A.query('optimal==\"non_optimal\"'))/len(df_A)"
   ]
  },
  {
   "cell_type": "markdown",
   "metadata": {},
   "source": [
    "- **spliting the users of plan B**"
   ]
  },
  {
   "cell_type": "code",
   "execution_count": 90,
   "metadata": {},
   "outputs": [],
   "source": [
    "df_B=monthly_data.query('plan==\"B\"')"
   ]
  },
  {
   "cell_type": "code",
   "execution_count": 91,
   "metadata": {},
   "outputs": [],
   "source": [
    "df_B.plan=\"A\""
   ]
  },
  {
   "cell_type": "code",
   "execution_count": 92,
   "metadata": {},
   "outputs": [],
   "source": [
    "df_B['revenue2']=df_B.apply(cost, axis=1)"
   ]
  },
  {
   "cell_type": "code",
   "execution_count": 93,
   "metadata": {},
   "outputs": [],
   "source": [
    "df_B.plan=\"C\""
   ]
  },
  {
   "cell_type": "code",
   "execution_count": 94,
   "metadata": {},
   "outputs": [],
   "source": [
    "df_B['revenue3']=df_B.apply(cost, axis=1)"
   ]
  },
  {
   "cell_type": "code",
   "execution_count": 95,
   "metadata": {},
   "outputs": [],
   "source": [
    "df_B=df_B[['user_id', 'revenue', 'revenue2', 'revenue3']].groupby('user_id').mean().reset_index()"
   ]
  },
  {
   "cell_type": "code",
   "execution_count": 96,
   "metadata": {},
   "outputs": [],
   "source": [
    "df_B['optimal']=df_B.apply(optimal , axis=1)"
   ]
  },
  {
   "cell_type": "code",
   "execution_count": 97,
   "metadata": {},
   "outputs": [
    {
     "data": {
      "text/html": [
       "<div>\n",
       "<style scoped>\n",
       "    .dataframe tbody tr th:only-of-type {\n",
       "        vertical-align: middle;\n",
       "    }\n",
       "\n",
       "    .dataframe tbody tr th {\n",
       "        vertical-align: top;\n",
       "    }\n",
       "\n",
       "    .dataframe thead th {\n",
       "        text-align: right;\n",
       "    }\n",
       "</style>\n",
       "<table border=\"1\" class=\"dataframe\">\n",
       "  <thead>\n",
       "    <tr style=\"text-align: right;\">\n",
       "      <th></th>\n",
       "      <th>user_id</th>\n",
       "      <th>revenue</th>\n",
       "      <th>revenue2</th>\n",
       "      <th>revenue3</th>\n",
       "      <th>optimal</th>\n",
       "    </tr>\n",
       "  </thead>\n",
       "  <tbody>\n",
       "    <tr>\n",
       "      <th>0</th>\n",
       "      <td>166377</td>\n",
       "      <td>41302.375</td>\n",
       "      <td>36541.9</td>\n",
       "      <td>55823.325</td>\n",
       "      <td>non_optimal</td>\n",
       "    </tr>\n",
       "    <tr>\n",
       "      <th>1</th>\n",
       "      <td>166405</td>\n",
       "      <td>99299.125</td>\n",
       "      <td>83039.3</td>\n",
       "      <td>136818.775</td>\n",
       "      <td>non_optimal</td>\n",
       "    </tr>\n",
       "    <tr>\n",
       "      <th>2</th>\n",
       "      <td>166406</td>\n",
       "      <td>41277.500</td>\n",
       "      <td>36482.0</td>\n",
       "      <td>55868.500</td>\n",
       "      <td>non_optimal</td>\n",
       "    </tr>\n",
       "    <tr>\n",
       "      <th>3</th>\n",
       "      <td>166485</td>\n",
       "      <td>47029.075</td>\n",
       "      <td>40999.2</td>\n",
       "      <td>64448.975</td>\n",
       "      <td>non_optimal</td>\n",
       "    </tr>\n",
       "    <tr>\n",
       "      <th>4</th>\n",
       "      <td>166495</td>\n",
       "      <td>21324.375</td>\n",
       "      <td>20499.5</td>\n",
       "      <td>27974.125</td>\n",
       "      <td>non_optimal</td>\n",
       "    </tr>\n",
       "  </tbody>\n",
       "</table>\n",
       "</div>"
      ],
      "text/plain": [
       "   user_id    revenue  revenue2    revenue3      optimal\n",
       "0   166377  41302.375   36541.9   55823.325  non_optimal\n",
       "1   166405  99299.125   83039.3  136818.775  non_optimal\n",
       "2   166406  41277.500   36482.0   55868.500  non_optimal\n",
       "3   166485  47029.075   40999.2   64448.975  non_optimal\n",
       "4   166495  21324.375   20499.5   27974.125  non_optimal"
      ]
     },
     "execution_count": 97,
     "metadata": {},
     "output_type": "execute_result"
    }
   ],
   "source": [
    "df_B.query('optimal==\"non_optimal\"').head()"
   ]
  },
  {
   "cell_type": "code",
   "execution_count": 98,
   "metadata": {},
   "outputs": [
    {
     "data": {
      "text/plain": [
       "57"
      ]
     },
     "execution_count": 98,
     "metadata": {},
     "output_type": "execute_result"
    }
   ],
   "source": [
    "len(df_B.query('optimal==\"non_optimal\"'))"
   ]
  },
  {
   "cell_type": "code",
   "execution_count": 99,
   "metadata": {},
   "outputs": [
    {
     "data": {
      "text/plain": [
       "0.6785714285714286"
      ]
     },
     "execution_count": 99,
     "metadata": {},
     "output_type": "execute_result"
    }
   ],
   "source": [
    "len(df_B.query('optimal==\"non_optimal\"'))/len(df_B)"
   ]
  },
  {
   "cell_type": "markdown",
   "metadata": {},
   "source": [
    "- **spliting the users of plan C**"
   ]
  },
  {
   "cell_type": "code",
   "execution_count": 100,
   "metadata": {},
   "outputs": [],
   "source": [
    "df_C=monthly_data.query('plan==\"C\"')"
   ]
  },
  {
   "cell_type": "code",
   "execution_count": 101,
   "metadata": {},
   "outputs": [],
   "source": [
    "df_C.plan=\"A\""
   ]
  },
  {
   "cell_type": "code",
   "execution_count": 102,
   "metadata": {},
   "outputs": [],
   "source": [
    "df_C['revenue2']=df_C.apply(cost, axis=1)"
   ]
  },
  {
   "cell_type": "code",
   "execution_count": 103,
   "metadata": {},
   "outputs": [],
   "source": [
    "df_C.plan=\"B\""
   ]
  },
  {
   "cell_type": "code",
   "execution_count": 104,
   "metadata": {},
   "outputs": [],
   "source": [
    "df_C['revenue3']=df_C.apply(cost, axis=1)"
   ]
  },
  {
   "cell_type": "code",
   "execution_count": 105,
   "metadata": {},
   "outputs": [],
   "source": [
    "df_C=df_C[['user_id', 'revenue', 'revenue2', 'revenue3']].groupby('user_id').mean().reset_index()"
   ]
  },
  {
   "cell_type": "code",
   "execution_count": 106,
   "metadata": {},
   "outputs": [],
   "source": [
    "df_C['optimal']=df_C.apply(optimal , axis=1)"
   ]
  },
  {
   "cell_type": "code",
   "execution_count": 107,
   "metadata": {},
   "outputs": [
    {
     "data": {
      "text/html": [
       "<div>\n",
       "<style scoped>\n",
       "    .dataframe tbody tr th:only-of-type {\n",
       "        vertical-align: middle;\n",
       "    }\n",
       "\n",
       "    .dataframe tbody tr th {\n",
       "        vertical-align: top;\n",
       "    }\n",
       "\n",
       "    .dataframe thead th {\n",
       "        text-align: right;\n",
       "    }\n",
       "</style>\n",
       "<table border=\"1\" class=\"dataframe\">\n",
       "  <thead>\n",
       "    <tr style=\"text-align: right;\">\n",
       "      <th></th>\n",
       "      <th>user_id</th>\n",
       "      <th>revenue</th>\n",
       "      <th>revenue2</th>\n",
       "      <th>revenue3</th>\n",
       "      <th>optimal</th>\n",
       "    </tr>\n",
       "  </thead>\n",
       "  <tbody>\n",
       "    <tr>\n",
       "      <th>0</th>\n",
       "      <td>166487</td>\n",
       "      <td>4945.100000</td>\n",
       "      <td>7297.200000</td>\n",
       "      <td>4846.500000</td>\n",
       "      <td>non_optimal</td>\n",
       "    </tr>\n",
       "    <tr>\n",
       "      <th>2</th>\n",
       "      <td>166511</td>\n",
       "      <td>85853.875000</td>\n",
       "      <td>53616.500000</td>\n",
       "      <td>62695.625000</td>\n",
       "      <td>non_optimal</td>\n",
       "    </tr>\n",
       "    <tr>\n",
       "      <th>3</th>\n",
       "      <td>166520</td>\n",
       "      <td>44755.825000</td>\n",
       "      <td>30731.900000</td>\n",
       "      <td>33739.875000</td>\n",
       "      <td>non_optimal</td>\n",
       "    </tr>\n",
       "    <tr>\n",
       "      <th>8</th>\n",
       "      <td>166677</td>\n",
       "      <td>5105.633333</td>\n",
       "      <td>7388.933333</td>\n",
       "      <td>4961.166667</td>\n",
       "      <td>non_optimal</td>\n",
       "    </tr>\n",
       "    <tr>\n",
       "      <th>10</th>\n",
       "      <td>166691</td>\n",
       "      <td>8316.300000</td>\n",
       "      <td>9223.600000</td>\n",
       "      <td>7254.500000</td>\n",
       "      <td>non_optimal</td>\n",
       "    </tr>\n",
       "  </tbody>\n",
       "</table>\n",
       "</div>"
      ],
      "text/plain": [
       "    user_id       revenue      revenue2      revenue3      optimal\n",
       "0    166487   4945.100000   7297.200000   4846.500000  non_optimal\n",
       "2    166511  85853.875000  53616.500000  62695.625000  non_optimal\n",
       "3    166520  44755.825000  30731.900000  33739.875000  non_optimal\n",
       "8    166677   5105.633333   7388.933333   4961.166667  non_optimal\n",
       "10   166691   8316.300000   9223.600000   7254.500000  non_optimal"
      ]
     },
     "execution_count": 107,
     "metadata": {},
     "output_type": "execute_result"
    }
   ],
   "source": [
    "df_C.query('optimal==\"non_optimal\"').head()"
   ]
  },
  {
   "cell_type": "code",
   "execution_count": 108,
   "metadata": {},
   "outputs": [
    {
     "data": {
      "text/plain": [
       "53"
      ]
     },
     "execution_count": 108,
     "metadata": {},
     "output_type": "execute_result"
    }
   ],
   "source": [
    "len(df_C.query('optimal==\"non_optimal\"'))"
   ]
  },
  {
   "cell_type": "code",
   "execution_count": 109,
   "metadata": {},
   "outputs": [
    {
     "data": {
      "text/plain": [
       "0.53"
      ]
     },
     "execution_count": 109,
     "metadata": {},
     "output_type": "execute_result"
    }
   ],
   "source": [
    "len(df_C.query('optimal==\"non_optimal\"'))/len(df_C)"
   ]
  },
  {
   "cell_type": "code",
   "execution_count": 110,
   "metadata": {},
   "outputs": [
    {
     "data": {
      "text/plain": [
       "477"
      ]
     },
     "execution_count": 110,
     "metadata": {},
     "output_type": "execute_result"
    }
   ],
   "source": [
    "len(monthly_data)"
   ]
  },
  {
   "cell_type": "code",
   "execution_count": 111,
   "metadata": {},
   "outputs": [],
   "source": [
    "df_A_opt=df_A[['user_id','optimal']]\n",
    "df_B_opt=df_B[['user_id','optimal']]\n",
    "df_C_opt=df_C[['user_id','optimal']]"
   ]
  },
  {
   "cell_type": "code",
   "execution_count": 112,
   "metadata": {},
   "outputs": [],
   "source": [
    "df=df_A_opt.append(df_B_opt).append(df_C_opt)"
   ]
  },
  {
   "cell_type": "code",
   "execution_count": 113,
   "metadata": {},
   "outputs": [],
   "source": [
    "monthly_data=monthly_data.merge(df, on='user_id')"
   ]
  },
  {
   "cell_type": "code",
   "execution_count": 114,
   "metadata": {},
   "outputs": [
    {
     "data": {
      "text/html": [
       "<div>\n",
       "<style scoped>\n",
       "    .dataframe tbody tr th:only-of-type {\n",
       "        vertical-align: middle;\n",
       "    }\n",
       "\n",
       "    .dataframe tbody tr th {\n",
       "        vertical-align: top;\n",
       "    }\n",
       "\n",
       "    .dataframe thead th {\n",
       "        text-align: right;\n",
       "    }\n",
       "</style>\n",
       "<table border=\"1\" class=\"dataframe\">\n",
       "  <thead>\n",
       "    <tr style=\"text-align: right;\">\n",
       "      <th></th>\n",
       "      <th>user_id</th>\n",
       "      <th>month</th>\n",
       "      <th>external_calls</th>\n",
       "      <th>internal_calls</th>\n",
       "      <th>external_duration</th>\n",
       "      <th>internal_duration</th>\n",
       "      <th>operators</th>\n",
       "      <th>plan</th>\n",
       "      <th>date_start</th>\n",
       "      <th>revenue</th>\n",
       "      <th>total_duration</th>\n",
       "      <th>optimal</th>\n",
       "    </tr>\n",
       "  </thead>\n",
       "  <tbody>\n",
       "    <tr>\n",
       "      <th>0</th>\n",
       "      <td>166377</td>\n",
       "      <td>8</td>\n",
       "      <td>37.0</td>\n",
       "      <td>1.0</td>\n",
       "      <td>64968.0</td>\n",
       "      <td>10.0</td>\n",
       "      <td>5</td>\n",
       "      <td>B</td>\n",
       "      <td>2019-08-01</td>\n",
       "      <td>34984.0</td>\n",
       "      <td>64978.0</td>\n",
       "      <td>non_optimal</td>\n",
       "    </tr>\n",
       "    <tr>\n",
       "      <th>1</th>\n",
       "      <td>166377</td>\n",
       "      <td>9</td>\n",
       "      <td>59.0</td>\n",
       "      <td>0.0</td>\n",
       "      <td>85609.0</td>\n",
       "      <td>0.0</td>\n",
       "      <td>5</td>\n",
       "      <td>B</td>\n",
       "      <td>2019-08-01</td>\n",
       "      <td>45304.5</td>\n",
       "      <td>85609.0</td>\n",
       "      <td>non_optimal</td>\n",
       "    </tr>\n",
       "    <tr>\n",
       "      <th>2</th>\n",
       "      <td>166377</td>\n",
       "      <td>10</td>\n",
       "      <td>54.0</td>\n",
       "      <td>1.0</td>\n",
       "      <td>81599.0</td>\n",
       "      <td>2.0</td>\n",
       "      <td>5</td>\n",
       "      <td>B</td>\n",
       "      <td>2019-08-01</td>\n",
       "      <td>43299.5</td>\n",
       "      <td>81601.0</td>\n",
       "      <td>non_optimal</td>\n",
       "    </tr>\n",
       "    <tr>\n",
       "      <th>3</th>\n",
       "      <td>166377</td>\n",
       "      <td>11</td>\n",
       "      <td>44.0</td>\n",
       "      <td>1.0</td>\n",
       "      <td>78243.0</td>\n",
       "      <td>120.0</td>\n",
       "      <td>5</td>\n",
       "      <td>B</td>\n",
       "      <td>2019-08-01</td>\n",
       "      <td>41621.5</td>\n",
       "      <td>78363.0</td>\n",
       "      <td>non_optimal</td>\n",
       "    </tr>\n",
       "    <tr>\n",
       "      <th>4</th>\n",
       "      <td>166405</td>\n",
       "      <td>8</td>\n",
       "      <td>31.0</td>\n",
       "      <td>0.0</td>\n",
       "      <td>44039.0</td>\n",
       "      <td>0.0</td>\n",
       "      <td>10</td>\n",
       "      <td>B</td>\n",
       "      <td>2019-08-02</td>\n",
       "      <td>25019.5</td>\n",
       "      <td>44039.0</td>\n",
       "      <td>non_optimal</td>\n",
       "    </tr>\n",
       "  </tbody>\n",
       "</table>\n",
       "</div>"
      ],
      "text/plain": [
       "  user_id  month  external_calls  internal_calls  external_duration  \\\n",
       "0  166377      8            37.0             1.0            64968.0   \n",
       "1  166377      9            59.0             0.0            85609.0   \n",
       "2  166377     10            54.0             1.0            81599.0   \n",
       "3  166377     11            44.0             1.0            78243.0   \n",
       "4  166405      8            31.0             0.0            44039.0   \n",
       "\n",
       "   internal_duration  operators plan date_start  revenue  total_duration  \\\n",
       "0               10.0          5    B 2019-08-01  34984.0         64978.0   \n",
       "1                0.0          5    B 2019-08-01  45304.5         85609.0   \n",
       "2                2.0          5    B 2019-08-01  43299.5         81601.0   \n",
       "3              120.0          5    B 2019-08-01  41621.5         78363.0   \n",
       "4                0.0         10    B 2019-08-02  25019.5         44039.0   \n",
       "\n",
       "       optimal  \n",
       "0  non_optimal  \n",
       "1  non_optimal  \n",
       "2  non_optimal  \n",
       "3  non_optimal  \n",
       "4  non_optimal  "
      ]
     },
     "execution_count": 114,
     "metadata": {},
     "output_type": "execute_result"
    }
   ],
   "source": [
    "monthly_data.head()"
   ]
  },
  {
   "cell_type": "code",
   "execution_count": 115,
   "metadata": {},
   "outputs": [
    {
     "data": {
      "image/png": "[encoded data removed]"
     },
     "metadata": {},
     "output_type": "display_data"
    }
   ],
   "source": [
    "fig = px.histogram(monthly_data, x=\"revenue\", color='optimal',title='Monthly Revenue')\n",
    "fig.show(\"png\")"
   ]
  },
  {
   "cell_type": "markdown",
   "metadata": {},
   "source": [
    "## Conclusion"
   ]
  },
  {
   "cell_type": "markdown",
   "metadata": {},
   "source": [
    "<font color=\"blue\">\n",
    "   \n",
    "We checked the data for irrational data and dropped them.<br>\n",
    "Also we ignored the calls with 0 duration and incomming calls because they are free and have no impact on revenue.<br>\n",
    "    \n",
    "83% of the outgoing calls are external and 17% internal.<br>\n",
    "    \n",
    "For each user, We found the number of calls, the call duration and calculate the revenue per month.<br>\n",
    "    \n",
    "**call duration**<br>\n",
    "The monthly call duration for many calls of all plans are less than 50k sec(13 hours). <br>\n",
    "There are some huge call duration in plan A(more than 2M sec= 555 hours).<br>\n",
    "There are many outliers for plan B and C too. They are the users who have more call duration and need bigger plans.\n",
    "\n",
    "**revenue**    \n",
    "The monthly revenue for many clients of all plans are less than 20k. <br>\n",
    "There is a huge revenue in plan A(more than 1.2M).\n",
    "\n",
    "**the average call duration and revenue for each plan**\n",
    "  - plan A: 12060 sec(3.3 hours) / 9973\n",
    "  - plan B: 8809 sec(2.4 hours) / 6693\n",
    "  - plan C: 6502 sec(1.8 hours) / 5824\n",
    "\n",
    "**non-optimal customers**  \n",
    "There are 211 customers. <br>\n",
    "The number of customers for each plan are A:27  B: 84  C:100  <br>\n",
    "We split the customers into 2 categories: optimal and non-optimal.<br> The share of non-optimal users for each plan are\n",
    "   - A: 15(55%)\n",
    "   - B: 57(67%)\n",
    "   - C: 53(53%)\n",
    "\n"
   ]
  },
  {
   "cell_type": "markdown",
   "metadata": {},
   "source": [
    "<a id=\"test\"></a>\n",
    "## Step 4. Test the hypotheses"
   ]
  },
  {
   "cell_type": "markdown",
   "metadata": {},
   "source": [
    " - **The average revenue from clients of the optimal and non-optimal categories differs.**"
   ]
  },
  {
   "cell_type": "markdown",
   "metadata": {},
   "source": [
    "H0: The average revenue from clients of the optimal and non-optimal categories is equal.   \n",
    "H1: The average revenue from clients of the optimal and non-optimal categories differs."
   ]
  },
  {
   "cell_type": "code",
   "execution_count": 116,
   "metadata": {},
   "outputs": [
    {
     "data": {
      "text/html": [
       "<div>\n",
       "<style scoped>\n",
       "    .dataframe tbody tr th:only-of-type {\n",
       "        vertical-align: middle;\n",
       "    }\n",
       "\n",
       "    .dataframe tbody tr th {\n",
       "        vertical-align: top;\n",
       "    }\n",
       "\n",
       "    .dataframe thead th {\n",
       "        text-align: right;\n",
       "    }\n",
       "</style>\n",
       "<table border=\"1\" class=\"dataframe\">\n",
       "  <thead>\n",
       "    <tr style=\"text-align: right;\">\n",
       "      <th></th>\n",
       "      <th>user_id</th>\n",
       "      <th>month</th>\n",
       "      <th>external_calls</th>\n",
       "      <th>internal_calls</th>\n",
       "      <th>external_duration</th>\n",
       "      <th>internal_duration</th>\n",
       "      <th>operators</th>\n",
       "      <th>plan</th>\n",
       "      <th>date_start</th>\n",
       "      <th>revenue</th>\n",
       "      <th>total_duration</th>\n",
       "      <th>optimal</th>\n",
       "    </tr>\n",
       "  </thead>\n",
       "  <tbody>\n",
       "    <tr>\n",
       "      <th>0</th>\n",
       "      <td>166377</td>\n",
       "      <td>8</td>\n",
       "      <td>37.0</td>\n",
       "      <td>1.0</td>\n",
       "      <td>64968.0</td>\n",
       "      <td>10.0</td>\n",
       "      <td>5</td>\n",
       "      <td>B</td>\n",
       "      <td>2019-08-01</td>\n",
       "      <td>34984.0</td>\n",
       "      <td>64978.0</td>\n",
       "      <td>non_optimal</td>\n",
       "    </tr>\n",
       "  </tbody>\n",
       "</table>\n",
       "</div>"
      ],
      "text/plain": [
       "  user_id  month  external_calls  internal_calls  external_duration  \\\n",
       "0  166377      8            37.0             1.0            64968.0   \n",
       "\n",
       "   internal_duration  operators plan date_start  revenue  total_duration  \\\n",
       "0               10.0          5    B 2019-08-01  34984.0         64978.0   \n",
       "\n",
       "       optimal  \n",
       "0  non_optimal  "
      ]
     },
     "execution_count": 116,
     "metadata": {},
     "output_type": "execute_result"
    }
   ],
   "source": [
    "monthly_data.head(1)"
   ]
  },
  {
   "cell_type": "code",
   "execution_count": 117,
   "metadata": {},
   "outputs": [],
   "source": [
    "sample1=monthly_data.query('optimal==\"optimal\"').revenue\n",
    "sample2=monthly_data.query('optimal==\"non_optimal\"').revenue"
   ]
  },
  {
   "cell_type": "code",
   "execution_count": 118,
   "metadata": {},
   "outputs": [],
   "source": [
    "alpha = 0.05"
   ]
  },
  {
   "cell_type": "code",
   "execution_count": 119,
   "metadata": {},
   "outputs": [
    {
     "name": "stdout",
     "output_type": "stream",
     "text": [
      "Sample does not look Normal (reject H0)\n"
     ]
    }
   ],
   "source": [
    "stat, p = shapiro(sample1)\n",
    "\n",
    "if p > alpha:\n",
    "    print('Sample looks Normal (fail to reject H0)')\n",
    "else:\n",
    "    print('Sample does not look Normal (reject H0)')"
   ]
  },
  {
   "cell_type": "code",
   "execution_count": 120,
   "metadata": {},
   "outputs": [
    {
     "name": "stdout",
     "output_type": "stream",
     "text": [
      "Sample does not look Normal (reject H0)\n"
     ]
    }
   ],
   "source": [
    "stat, p = shapiro(sample2)\n",
    "\n",
    "if p > alpha:\n",
    "    print('Sample looks Normal (fail to reject H0)')\n",
    "else:\n",
    "    print('Sample does not look Normal (reject H0)')"
   ]
  },
  {
   "cell_type": "markdown",
   "metadata": {},
   "source": [
    "<font color=\"blue\">\n",
    "    \n",
    "Since the distributions are skewd and not normal, we use the mannwhitneyu method to test the hypotheses."
   ]
  },
  {
   "cell_type": "code",
   "execution_count": 121,
   "metadata": {},
   "outputs": [
    {
     "name": "stdout",
     "output_type": "stream",
     "text": [
      "2.3249218873578713e-11\n",
      "We reject the null hypothesis\n"
     ]
    }
   ],
   "source": [
    "stat, p = mannwhitneyu(sample1, sample2)\n",
    "print(p)\n",
    "\n",
    "if (p<alpha):\n",
    "        print(\"We reject the null hypothesis\")\n",
    "else:\n",
    "        print(\"We can't reject the null hypothesis\") "
   ]
  },
  {
   "cell_type": "markdown",
   "metadata": {},
   "source": [
    "<font color=\"blue\">\n",
    "    \n",
    "H0 would be rejected. The average revenue from clients of the optimal and non-optimal categories differs."
   ]
  },
  {
   "cell_type": "markdown",
   "metadata": {},
   "source": [
    " - **The average revenue from clients of A and B calling plans differs.**"
   ]
  },
  {
   "cell_type": "markdown",
   "metadata": {},
   "source": [
    "H0: The average revenue from clients of A and B calling plans is equal.   \n",
    "H1: The average revenue from clients of A and B calling plans differs."
   ]
  },
  {
   "cell_type": "code",
   "execution_count": 122,
   "metadata": {},
   "outputs": [],
   "source": [
    "sample1=monthly_data.query('plan==\"A\"').revenue\n",
    "sample2=monthly_data.query('plan==\"B\"').revenue"
   ]
  },
  {
   "cell_type": "code",
   "execution_count": 123,
   "metadata": {},
   "outputs": [
    {
     "name": "stdout",
     "output_type": "stream",
     "text": [
      "Sample does not look Normal (reject H0)\n"
     ]
    }
   ],
   "source": [
    "stat, p = shapiro(sample1)\n",
    "\n",
    "if p > alpha:\n",
    "    print('Sample looks Normal (fail to reject H0)')\n",
    "else:\n",
    "    print('Sample does not look Normal (reject H0)')"
   ]
  },
  {
   "cell_type": "code",
   "execution_count": 124,
   "metadata": {},
   "outputs": [
    {
     "name": "stdout",
     "output_type": "stream",
     "text": [
      "Sample does not look Normal (reject H0)\n"
     ]
    }
   ],
   "source": [
    "stat, p = shapiro(sample2)\n",
    "\n",
    "if p > alpha:\n",
    "    print('Sample looks Normal (fail to reject H0)')\n",
    "else:\n",
    "    print('Sample does not look Normal (reject H0)')"
   ]
  },
  {
   "cell_type": "code",
   "execution_count": 125,
   "metadata": {},
   "outputs": [
    {
     "name": "stdout",
     "output_type": "stream",
     "text": [
      "1.0428607057750376e-05\n",
      "We reject the null hypothesis\n"
     ]
    }
   ],
   "source": [
    "stat, p = mannwhitneyu(sample1, sample2)\n",
    "print(p)\n",
    "\n",
    "if (p<alpha):\n",
    "        print(\"We reject the null hypothesis\")\n",
    "else:\n",
    "        print(\"We can't reject the null hypothesis\") "
   ]
  },
  {
   "cell_type": "markdown",
   "metadata": {},
   "source": [
    "<font color=\"blue\">\n",
    "    \n",
    "H0 would be rejected. The average revenue from clients of A and B calling plans differs."
   ]
  },
  {
   "cell_type": "markdown",
   "metadata": {},
   "source": [
    " - **The average revenue from clients of A and C calling plans differs.**"
   ]
  },
  {
   "cell_type": "markdown",
   "metadata": {},
   "source": [
    "H0: The average revenue from clients of A and C calling plans is equal.   \n",
    "H1: The average revenue from clients of A and C calling plans differs."
   ]
  },
  {
   "cell_type": "code",
   "execution_count": 126,
   "metadata": {},
   "outputs": [],
   "source": [
    "sample1=monthly_data.query('plan==\"A\"').revenue\n",
    "sample2=monthly_data.query('plan==\"C\"').revenue"
   ]
  },
  {
   "cell_type": "code",
   "execution_count": 127,
   "metadata": {},
   "outputs": [
    {
     "name": "stdout",
     "output_type": "stream",
     "text": [
      "Sample does not look Normal (reject H0)\n"
     ]
    }
   ],
   "source": [
    "stat, p = shapiro(sample1)\n",
    "\n",
    "if p > alpha:\n",
    "    print('Sample looks Normal (fail to reject H0)')\n",
    "else:\n",
    "    print('Sample does not look Normal (reject H0)')"
   ]
  },
  {
   "cell_type": "code",
   "execution_count": 128,
   "metadata": {},
   "outputs": [
    {
     "name": "stdout",
     "output_type": "stream",
     "text": [
      "Sample does not look Normal (reject H0)\n"
     ]
    }
   ],
   "source": [
    "stat, p = shapiro(sample2)\n",
    "\n",
    "if p > alpha:\n",
    "    print('Sample looks Normal (fail to reject H0)')\n",
    "else:\n",
    "    print('Sample does not look Normal (reject H0)')"
   ]
  },
  {
   "cell_type": "code",
   "execution_count": 129,
   "metadata": {},
   "outputs": [
    {
     "name": "stdout",
     "output_type": "stream",
     "text": [
      "4.870341973702907e-06\n",
      "We reject the null hypothesis\n"
     ]
    }
   ],
   "source": [
    "stat, p = mannwhitneyu(sample1, sample2)\n",
    "print(p)\n",
    "\n",
    "if (p<alpha):\n",
    "        print(\"We reject the null hypothesis\")\n",
    "else:\n",
    "        print(\"We can't reject the null hypothesis\") "
   ]
  },
  {
   "cell_type": "markdown",
   "metadata": {},
   "source": [
    "<font color=\"blue\">\n",
    "    \n",
    "H0 would be rejected. The average revenue from clients of A and C calling plans differs."
   ]
  },
  {
   "cell_type": "markdown",
   "metadata": {},
   "source": [
    " - **The average revenue from clients of B and C calling plans differs.**"
   ]
  },
  {
   "cell_type": "markdown",
   "metadata": {},
   "source": [
    "H0: The average revenue from clients of B and C calling plans is equal.   \n",
    "H1: The average revenue from clients of B and C calling plans differs."
   ]
  },
  {
   "cell_type": "code",
   "execution_count": 130,
   "metadata": {},
   "outputs": [],
   "source": [
    "sample1=monthly_data.query('plan==\"B\"').revenue\n",
    "sample2=monthly_data.query('plan==\"C\"').revenue"
   ]
  },
  {
   "cell_type": "code",
   "execution_count": 131,
   "metadata": {},
   "outputs": [
    {
     "name": "stdout",
     "output_type": "stream",
     "text": [
      "Sample does not look Normal (reject H0)\n"
     ]
    }
   ],
   "source": [
    "stat, p = shapiro(sample1)\n",
    "\n",
    "if p > alpha:\n",
    "    print('Sample looks Normal (fail to reject H0)')\n",
    "else:\n",
    "    print('Sample does not look Normal (reject H0)')"
   ]
  },
  {
   "cell_type": "code",
   "execution_count": 132,
   "metadata": {},
   "outputs": [
    {
     "name": "stdout",
     "output_type": "stream",
     "text": [
      "Sample does not look Normal (reject H0)\n"
     ]
    }
   ],
   "source": [
    "stat, p = shapiro(sample2)\n",
    "\n",
    "if p > alpha:\n",
    "    print('Sample looks Normal (fail to reject H0)')\n",
    "else:\n",
    "    print('Sample does not look Normal (reject H0)')"
   ]
  },
  {
   "cell_type": "code",
   "execution_count": 133,
   "metadata": {},
   "outputs": [
    {
     "name": "stdout",
     "output_type": "stream",
     "text": [
      "0.012628100388730324\n",
      "We reject the null hypothesis\n"
     ]
    }
   ],
   "source": [
    "stat, p = mannwhitneyu(sample1, sample2)\n",
    "print(p)\n",
    "\n",
    "if (p<alpha):\n",
    "        print(\"We reject the null hypothesis\")\n",
    "else:\n",
    "        print(\"We can't reject the null hypothesis\") "
   ]
  },
  {
   "cell_type": "markdown",
   "metadata": {},
   "source": [
    "<font color=\"blue\">\n",
    "    \n",
    "H0 would be rejected. The average revenue from clients of B and C calling plans differs."
   ]
  },
  {
   "cell_type": "markdown",
   "metadata": {},
   "source": [
    "## Conclusion"
   ]
  },
  {
   "cell_type": "markdown",
   "metadata": {},
   "source": [
    "<font color=\"blue\">\n",
    "    \n",
    "We tested 4 hypotheses:\n",
    " - H0: The average revenue from clients of the optimal and non-optimal categories is equal.   \n",
    " - H1: The average revenue from clients of the optimal and non-optimal categories differs.\n",
    "   <br> \n",
    "    \n",
    " - H0: The average revenue from clients of A and B calling plans is equal.   \n",
    " - H1: The average revenue from clients of A and B calling plans differs. \n",
    "    \n",
    "    <br>\n",
    " - H0: The average revenue from clients of A and C calling plans is equal.   \n",
    " - H1: The average revenue from clients of A and C calling plans differs.\n",
    "    \n",
    "    <br>\n",
    " - H0: The average revenue from clients of B and C calling plans is equal.   \n",
    " - H1: The average revenue from clients of B and C calling plans differs.\n",
    "    \n",
    "In all of the hypotheses the H0 was rejected.  <br>\n",
    "The average revenue from clients of all three plans and also of optimal and non_optimal categories differs."
   ]
  },
  {
   "cell_type": "markdown",
   "metadata": {},
   "source": [
    "## Step 5. Final Conclusion "
   ]
  },
  {
   "cell_type": "markdown",
   "metadata": {},
   "source": [
    "<font color=\"blue\">\n",
    "\n",
    "### [Goal](#goal)\n",
    "Analyzing the data on virtual telephony service “CallMeMaybe”, which Its clients are organizations. Finding clients with Non-Optimal plans and examine their impact on revenue.\n",
    "    \n",
    "### [Data preprocessing](#pre)\n",
    "We checked the missing values, data types and duplicates in the data.<br>\n",
    "We Checked the users whether they are active.<br>\n",
    "We dropped the missed calls and calls with 0 duration. <br>\n",
    "We Checked irrational call durations and dropped them. <br>\n",
    "Also we ignored the incoming calls because they are free and have no impact on revenue.\n",
    "    \n",
    "### [Exploratory data analysis](#exp)\n",
    "83% of the outgoing calls are external and 17% internal.<br>\n",
    "    \n",
    "For each user, We found the number of calls, the call duration and calculate the revenue per month.<br>\n",
    "    \n",
    "**call duration**<br>\n",
    "The monthly call duration for many calls of all plans are less than 50k sec(13 hours). <br>\n",
    "There are some huge call duration in plan A(more than 2M sec= 555 hours).<br>\n",
    "There are many outliers for plan B and C too. They are the users who have more call duration and need bigger plans.\n",
    "\n",
    "**revenue**    \n",
    "The monthly revenue for many clients of all plans are less than 20k. <br>\n",
    "There is a huge revenue in plan A(more than 1.2M).\n",
    "\n",
    "**the average call duration and revenue for each plan**\n",
    "  - plan A: 12060 sec(3.3 hours) / 9973\n",
    "  - plan B: 8809 sec(2.4 hours) / 6693\n",
    "  - plan C: 6502 sec(1.8 hours) / 5824\n",
    "\n",
    "**non-optimal customers**  \n",
    "There are 211 customers. <br>\n",
    "The number of customers for each plan are A:27  B: 84  C:100  <br>\n",
    "We split the customers into 2 categories: optimal and non-optimal.<br> The share of non-optimal users for each plan are\n",
    "   - A: 15(55%)\n",
    "   - B: 57(67%)\n",
    "   - C: 53(53%)  \n",
    "    \n",
    "### [Test the hypotheses](#test)     \n",
    "We tested 4 hypotheses:\n",
    " - The average revenue from clients of the optimal and non-optimal categories differs.\n",
    "    \n",
    " - The average revenue from clients of A and B calling plans differs. \n",
    "   \n",
    " - The average revenue from clients of A and C calling plans differs.\n",
    "\n",
    " - The average revenue from clients of B and C calling plans differs.\n",
    "    \n",
    "In all of the hypotheses the H0 was rejected.  <br>\n",
    "The average revenue from clients of all three plans and also of optimal and non_optimal categories differs.  \n",
    "    \n",
    "### Final conclusion and suggestions\n",
    "We found non-optimal customers in all three plans. And we checked that the revenue for them is different from the optimal customers. The marketing department can be advised to recommend more cost-effective plans for non-optimal customers. In this way we can gain more trust and loyalty of customers.    \n",
    "    "
   ]
  },
  {
   "cell_type": "markdown",
   "metadata": {},
   "source": [
    "## Documentation"
   ]
  },
  {
   "cell_type": "markdown",
   "metadata": {},
   "source": [
    "[statistical-hypothesis(shapiro & mannwhitneyu)](https://machinelearningmastery.com/statistical-hypothesis-tests-in-python-cheat-sheet/)"
   ]
  },
  {
   "cell_type": "markdown",
   "metadata": {},
   "source": [
    "[plotly-Piechart](https://plotly.com/python/pie-charts/)"
   ]
  },
  {
   "cell_type": "markdown",
   "metadata": {},
   "source": [
    "[plotly-Histogram](https://plotly.com/python/histograms/)"
   ]
  },
  {
   "cell_type": "markdown",
   "metadata": {},
   "source": [
    "## Additional links"
   ]
  },
  {
   "cell_type": "markdown",
   "metadata": {},
   "source": [
    "The link of [Telecom Dashboard][]\n",
    "\n",
    "[Telecom Dashboard]: https://public.tableau.com/app/profile/fateme6870/viz/TelecomDashboard_16252123551260/TelecomDashboard"
   ]
  }
 ],
 "metadata": {
  "ExecuteTimeLog": [
   {
    "duration": 1361,
    "start_time": "2021-07-04T12:07:59.238Z"
   },
   {
    "duration": 4,
    "start_time": "2021-07-04T12:08:06.346Z"
   },
   {
    "duration": 260,
    "start_time": "2021-07-04T12:08:13.210Z"
   },
   {
    "duration": 13,
    "start_time": "2021-07-04T12:08:22.001Z"
   },
   {
    "duration": 12,
    "start_time": "2021-07-04T12:08:31.758Z"
   },
   {
    "duration": 72,
    "start_time": "2021-07-04T12:11:25.863Z"
   },
   {
    "duration": 5,
    "start_time": "2021-07-04T12:12:40.394Z"
   },
   {
    "duration": 1323,
    "start_time": "2021-07-04T12:12:49.763Z"
   },
   {
    "duration": 11,
    "start_time": "2021-07-04T12:12:51.088Z"
   },
   {
    "duration": 279,
    "start_time": "2021-07-04T12:12:51.101Z"
   },
   {
    "duration": 12,
    "start_time": "2021-07-04T12:12:51.382Z"
   },
   {
    "duration": 18,
    "start_time": "2021-07-04T12:12:51.401Z"
   },
   {
    "duration": 10,
    "start_time": "2021-07-04T12:12:51.421Z"
   },
   {
    "duration": 52,
    "start_time": "2021-07-04T12:12:51.432Z"
   },
   {
    "duration": 13,
    "start_time": "2021-07-04T12:12:51.486Z"
   },
   {
    "duration": 11,
    "start_time": "2021-07-04T12:12:51.501Z"
   },
   {
    "duration": 16,
    "start_time": "2021-07-04T12:12:51.514Z"
   },
   {
    "duration": 4,
    "start_time": "2021-07-04T12:12:51.532Z"
   },
   {
    "duration": 126,
    "start_time": "2021-07-04T12:12:51.537Z"
   },
   {
    "duration": 3,
    "start_time": "2021-07-04T12:12:51.665Z"
   },
   {
    "duration": 22,
    "start_time": "2021-07-04T12:12:51.670Z"
   },
   {
    "duration": 19,
    "start_time": "2021-07-04T12:12:51.694Z"
   },
   {
    "duration": 6,
    "start_time": "2021-07-04T12:12:51.714Z"
   },
   {
    "duration": 7,
    "start_time": "2021-07-04T12:12:51.721Z"
   },
   {
    "duration": 12,
    "start_time": "2021-07-04T12:12:51.730Z"
   },
   {
    "duration": 8,
    "start_time": "2021-07-04T12:12:51.744Z"
   },
   {
    "duration": 22,
    "start_time": "2021-07-04T12:12:51.754Z"
   },
   {
    "duration": 21,
    "start_time": "2021-07-04T12:12:51.777Z"
   },
   {
    "duration": 21,
    "start_time": "2021-07-04T12:12:51.800Z"
   },
   {
    "duration": 6,
    "start_time": "2021-07-04T12:12:51.823Z"
   },
   {
    "duration": 25,
    "start_time": "2021-07-04T12:12:51.831Z"
   },
   {
    "duration": 52,
    "start_time": "2021-07-04T12:12:51.857Z"
   },
   {
    "duration": 5,
    "start_time": "2021-07-04T12:12:51.911Z"
   },
   {
    "duration": 17,
    "start_time": "2021-07-04T12:12:51.917Z"
   },
   {
    "duration": 8,
    "start_time": "2021-07-04T12:12:51.935Z"
   },
   {
    "duration": 22,
    "start_time": "2021-07-04T12:12:51.944Z"
   },
   {
    "duration": 32,
    "start_time": "2021-07-04T12:12:51.968Z"
   },
   {
    "duration": 5,
    "start_time": "2021-07-04T12:12:52.002Z"
   },
   {
    "duration": 15,
    "start_time": "2021-07-04T12:13:20.061Z"
   },
   {
    "duration": 13,
    "start_time": "2021-07-04T12:13:20.971Z"
   },
   {
    "duration": 3,
    "start_time": "2021-07-04T12:13:21.757Z"
   },
   {
    "duration": 8,
    "start_time": "2021-07-04T12:14:00.887Z"
   },
   {
    "duration": 13,
    "start_time": "2021-07-04T12:17:30.614Z"
   },
   {
    "duration": 6,
    "start_time": "2021-07-04T12:17:31.144Z"
   },
   {
    "duration": 474,
    "start_time": "2021-07-04T12:17:32.272Z"
   },
   {
    "duration": 400,
    "start_time": "2021-07-04T12:18:25.441Z"
   },
   {
    "duration": 240,
    "start_time": "2021-07-04T12:18:26.214Z"
   },
   {
    "duration": 1338,
    "start_time": "2021-07-04T12:19:31.244Z"
   },
   {
    "duration": 2,
    "start_time": "2021-07-04T12:19:32.584Z"
   },
   {
    "duration": 260,
    "start_time": "2021-07-04T12:19:32.588Z"
   },
   {
    "duration": 10,
    "start_time": "2021-07-04T12:19:32.850Z"
   },
   {
    "duration": 18,
    "start_time": "2021-07-04T12:19:32.862Z"
   },
   {
    "duration": 23,
    "start_time": "2021-07-04T12:19:32.882Z"
   },
   {
    "duration": 174,
    "start_time": "2021-07-04T12:19:32.908Z"
   },
   {
    "duration": 6,
    "start_time": "2021-07-04T12:19:33.084Z"
   },
   {
    "duration": 8,
    "start_time": "2021-07-04T12:19:33.096Z"
   },
   {
    "duration": 15,
    "start_time": "2021-07-04T12:19:33.105Z"
   },
   {
    "duration": 3,
    "start_time": "2021-07-04T12:19:33.122Z"
   },
   {
    "duration": 138,
    "start_time": "2021-07-04T12:19:33.127Z"
   },
   {
    "duration": 3,
    "start_time": "2021-07-04T12:19:33.267Z"
   },
   {
    "duration": 20,
    "start_time": "2021-07-04T12:19:33.272Z"
   },
   {
    "duration": 18,
    "start_time": "2021-07-04T12:19:33.293Z"
   },
   {
    "duration": 6,
    "start_time": "2021-07-04T12:19:33.312Z"
   },
   {
    "duration": 8,
    "start_time": "2021-07-04T12:19:33.319Z"
   },
   {
    "duration": 8,
    "start_time": "2021-07-04T12:19:33.329Z"
   },
   {
    "duration": 13,
    "start_time": "2021-07-04T12:19:33.339Z"
   },
   {
    "duration": 24,
    "start_time": "2021-07-04T12:19:33.353Z"
   },
   {
    "duration": 18,
    "start_time": "2021-07-04T12:19:33.378Z"
   },
   {
    "duration": 20,
    "start_time": "2021-07-04T12:19:33.398Z"
   },
   {
    "duration": 6,
    "start_time": "2021-07-04T12:19:33.423Z"
   },
   {
    "duration": 27,
    "start_time": "2021-07-04T12:19:33.431Z"
   },
   {
    "duration": 48,
    "start_time": "2021-07-04T12:19:33.460Z"
   },
   {
    "duration": 6,
    "start_time": "2021-07-04T12:19:33.509Z"
   },
   {
    "duration": 18,
    "start_time": "2021-07-04T12:19:33.516Z"
   },
   {
    "duration": 14,
    "start_time": "2021-07-04T12:19:33.536Z"
   },
   {
    "duration": 24,
    "start_time": "2021-07-04T12:19:33.552Z"
   },
   {
    "duration": 28,
    "start_time": "2021-07-04T12:19:33.578Z"
   },
   {
    "duration": 5,
    "start_time": "2021-07-04T12:19:33.607Z"
   },
   {
    "duration": 18,
    "start_time": "2021-07-04T12:19:33.613Z"
   },
   {
    "duration": 9,
    "start_time": "2021-07-04T12:19:33.633Z"
   },
   {
    "duration": 6,
    "start_time": "2021-07-04T12:19:33.644Z"
   },
   {
    "duration": 13,
    "start_time": "2021-07-04T12:19:33.652Z"
   },
   {
    "duration": 18,
    "start_time": "2021-07-04T12:19:33.666Z"
   },
   {
    "duration": 10,
    "start_time": "2021-07-04T12:19:33.685Z"
   },
   {
    "duration": 33,
    "start_time": "2021-07-04T12:19:33.696Z"
   },
   {
    "duration": 882,
    "start_time": "2021-07-04T12:19:33.731Z"
   },
   {
    "duration": 9,
    "start_time": "2021-07-04T12:19:34.617Z"
   },
   {
    "duration": 9,
    "start_time": "2021-07-04T12:19:34.628Z"
   },
   {
    "duration": 6,
    "start_time": "2021-07-04T12:19:34.639Z"
   },
   {
    "duration": 496,
    "start_time": "2021-07-04T12:19:34.646Z"
   },
   {
    "duration": 4,
    "start_time": "2021-07-04T12:19:35.144Z"
   },
   {
    "duration": 15,
    "start_time": "2021-07-04T12:19:35.150Z"
   },
   {
    "duration": 53,
    "start_time": "2021-07-04T12:19:35.166Z"
   },
   {
    "duration": 2,
    "start_time": "2021-07-04T12:19:35.221Z"
   },
   {
    "duration": 30,
    "start_time": "2021-07-04T12:19:35.225Z"
   },
   {
    "duration": 22,
    "start_time": "2021-07-04T12:19:35.256Z"
   },
   {
    "duration": 20,
    "start_time": "2021-07-04T12:19:35.279Z"
   },
   {
    "duration": 6,
    "start_time": "2021-07-04T12:19:35.301Z"
   },
   {
    "duration": 44,
    "start_time": "2021-07-04T12:19:35.309Z"
   },
   {
    "duration": 15,
    "start_time": "2021-07-04T12:19:35.355Z"
   },
   {
    "duration": 17,
    "start_time": "2021-07-04T12:19:35.372Z"
   },
   {
    "duration": 7,
    "start_time": "2021-07-04T12:19:35.392Z"
   },
   {
    "duration": 354,
    "start_time": "2021-07-04T12:19:35.401Z"
   },
   {
    "duration": 4,
    "start_time": "2021-07-04T12:19:35.757Z"
   },
   {
    "duration": 15,
    "start_time": "2021-07-04T12:19:35.763Z"
   },
   {
    "duration": 247,
    "start_time": "2021-07-04T12:19:35.779Z"
   },
   {
    "duration": 398,
    "start_time": "2021-07-04T12:19:36.028Z"
   },
   {
    "duration": 235,
    "start_time": "2021-07-04T12:19:36.427Z"
   },
   {
    "duration": 243,
    "start_time": "2021-07-04T12:19:36.663Z"
   },
   {
    "duration": 10,
    "start_time": "2021-07-04T12:23:36.728Z"
   },
   {
    "duration": 1706,
    "start_time": "2021-07-04T12:36:42.357Z"
   },
   {
    "duration": 3,
    "start_time": "2021-07-04T12:36:44.065Z"
   },
   {
    "duration": 249,
    "start_time": "2021-07-04T12:36:44.071Z"
   },
   {
    "duration": 11,
    "start_time": "2021-07-04T12:36:44.322Z"
   },
   {
    "duration": 15,
    "start_time": "2021-07-04T12:36:44.335Z"
   },
   {
    "duration": 11,
    "start_time": "2021-07-04T12:36:44.351Z"
   },
   {
    "duration": 76,
    "start_time": "2021-07-04T12:36:44.364Z"
   },
   {
    "duration": 5,
    "start_time": "2021-07-04T12:36:44.442Z"
   },
   {
    "duration": 11,
    "start_time": "2021-07-04T12:36:44.450Z"
   },
   {
    "duration": 12,
    "start_time": "2021-07-04T12:36:44.463Z"
   },
   {
    "duration": 5,
    "start_time": "2021-07-04T12:36:44.477Z"
   },
   {
    "duration": 187,
    "start_time": "2021-07-04T12:36:44.484Z"
   },
   {
    "duration": 19,
    "start_time": "2021-07-04T12:36:44.673Z"
   },
   {
    "duration": 18,
    "start_time": "2021-07-04T12:36:44.694Z"
   },
   {
    "duration": 14,
    "start_time": "2021-07-04T12:36:44.714Z"
   },
   {
    "duration": 6,
    "start_time": "2021-07-04T12:36:44.730Z"
   },
   {
    "duration": 6,
    "start_time": "2021-07-04T12:36:44.737Z"
   },
   {
    "duration": 9,
    "start_time": "2021-07-04T12:36:44.745Z"
   },
   {
    "duration": 16,
    "start_time": "2021-07-04T12:36:44.756Z"
   },
   {
    "duration": 39,
    "start_time": "2021-07-04T12:36:44.774Z"
   },
   {
    "duration": 12,
    "start_time": "2021-07-04T12:36:44.815Z"
   },
   {
    "duration": 21,
    "start_time": "2021-07-04T12:36:44.828Z"
   },
   {
    "duration": 6,
    "start_time": "2021-07-04T12:36:44.850Z"
   },
   {
    "duration": 39,
    "start_time": "2021-07-04T12:36:44.857Z"
   },
   {
    "duration": 22,
    "start_time": "2021-07-04T12:36:44.898Z"
   },
   {
    "duration": 6,
    "start_time": "2021-07-04T12:36:44.921Z"
   },
   {
    "duration": 13,
    "start_time": "2021-07-04T12:36:44.931Z"
   },
   {
    "duration": 7,
    "start_time": "2021-07-04T12:36:44.947Z"
   },
   {
    "duration": 47,
    "start_time": "2021-07-04T12:36:44.956Z"
   },
   {
    "duration": 15,
    "start_time": "2021-07-04T12:36:45.005Z"
   },
   {
    "duration": 3,
    "start_time": "2021-07-04T12:36:45.022Z"
   },
   {
    "duration": 21,
    "start_time": "2021-07-04T12:36:45.027Z"
   },
   {
    "duration": 12,
    "start_time": "2021-07-04T12:36:45.050Z"
   },
   {
    "duration": 28,
    "start_time": "2021-07-04T12:36:45.064Z"
   },
   {
    "duration": 5,
    "start_time": "2021-07-04T12:36:45.094Z"
   },
   {
    "duration": 14,
    "start_time": "2021-07-04T12:36:45.101Z"
   },
   {
    "duration": 12,
    "start_time": "2021-07-04T12:36:45.117Z"
   },
   {
    "duration": 29,
    "start_time": "2021-07-04T12:36:45.130Z"
   },
   {
    "duration": 768,
    "start_time": "2021-07-04T12:36:45.161Z"
   },
   {
    "duration": 8,
    "start_time": "2021-07-04T12:36:45.931Z"
   },
   {
    "duration": 68,
    "start_time": "2021-07-04T12:36:45.941Z"
   },
   {
    "duration": 5,
    "start_time": "2021-07-04T12:36:46.011Z"
   },
   {
    "duration": 377,
    "start_time": "2021-07-04T12:36:46.017Z"
   },
   {
    "duration": 6,
    "start_time": "2021-07-04T12:36:46.396Z"
   },
   {
    "duration": 17,
    "start_time": "2021-07-04T12:36:46.404Z"
   },
   {
    "duration": 68,
    "start_time": "2021-07-04T12:36:46.423Z"
   },
   {
    "duration": 3,
    "start_time": "2021-07-04T12:36:46.494Z"
   },
   {
    "duration": 25,
    "start_time": "2021-07-04T12:36:46.499Z"
   },
   {
    "duration": 23,
    "start_time": "2021-07-04T12:36:46.526Z"
   },
   {
    "duration": 11,
    "start_time": "2021-07-04T12:36:46.550Z"
   },
   {
    "duration": 28,
    "start_time": "2021-07-04T12:36:46.563Z"
   },
   {
    "duration": 30,
    "start_time": "2021-07-04T12:36:46.593Z"
   },
   {
    "duration": 16,
    "start_time": "2021-07-04T12:36:46.624Z"
   },
   {
    "duration": 13,
    "start_time": "2021-07-04T12:36:46.641Z"
   },
   {
    "duration": 5,
    "start_time": "2021-07-04T12:36:46.657Z"
   },
   {
    "duration": 268,
    "start_time": "2021-07-04T12:36:46.663Z"
   },
   {
    "duration": 4,
    "start_time": "2021-07-04T12:36:46.933Z"
   },
   {
    "duration": 19,
    "start_time": "2021-07-04T12:36:46.939Z"
   },
   {
    "duration": 250,
    "start_time": "2021-07-04T12:36:46.960Z"
   },
   {
    "duration": 390,
    "start_time": "2021-07-04T12:36:47.212Z"
   },
   {
    "duration": 226,
    "start_time": "2021-07-04T12:36:47.603Z"
   },
   {
    "duration": 387,
    "start_time": "2021-07-04T12:36:47.831Z"
   },
   {
    "duration": 12,
    "start_time": "2021-07-04T12:36:48.219Z"
   },
   {
    "duration": 11,
    "start_time": "2021-07-04T12:36:48.232Z"
   },
   {
    "duration": 10,
    "start_time": "2021-07-04T12:36:48.245Z"
   },
   {
    "duration": 10,
    "start_time": "2021-07-04T12:36:48.256Z"
   },
   {
    "duration": 245,
    "start_time": "2021-07-04T12:36:48.267Z"
   },
   {
    "duration": 387,
    "start_time": "2021-07-04T12:36:48.514Z"
   },
   {
    "duration": 227,
    "start_time": "2021-07-04T12:36:48.903Z"
   },
   {
    "duration": 374,
    "start_time": "2021-07-04T12:36:49.132Z"
   },
   {
    "duration": 7,
    "start_time": "2021-07-04T12:36:49.508Z"
   },
   {
    "duration": 22,
    "start_time": "2021-07-04T12:36:49.517Z"
   },
   {
    "duration": 24,
    "start_time": "2021-07-04T12:36:49.541Z"
   },
   {
    "duration": 16,
    "start_time": "2021-07-04T12:36:49.567Z"
   },
   {
    "duration": 26,
    "start_time": "2021-07-04T12:36:49.585Z"
   },
   {
    "duration": 25,
    "start_time": "2021-07-04T12:36:49.613Z"
   },
   {
    "duration": 34,
    "start_time": "2021-07-04T12:36:49.640Z"
   },
   {
    "duration": 24,
    "start_time": "2021-07-04T12:36:49.676Z"
   },
   {
    "duration": 34,
    "start_time": "2021-07-04T12:36:49.702Z"
   },
   {
    "duration": 35,
    "start_time": "2021-07-04T12:36:49.737Z"
   },
   {
    "duration": 25,
    "start_time": "2021-07-04T12:36:49.777Z"
   },
   {
    "duration": 41,
    "start_time": "2021-07-04T12:36:49.805Z"
   },
   {
    "duration": 20,
    "start_time": "2021-07-04T12:36:49.848Z"
   },
   {
    "duration": 25,
    "start_time": "2021-07-04T12:36:49.870Z"
   },
   {
    "duration": 28,
    "start_time": "2021-07-04T12:36:49.896Z"
   },
   {
    "duration": 23,
    "start_time": "2021-07-04T12:36:49.926Z"
   },
   {
    "duration": 28,
    "start_time": "2021-07-04T12:36:49.950Z"
   },
   {
    "duration": 24,
    "start_time": "2021-07-04T12:36:49.980Z"
   },
   {
    "duration": 21,
    "start_time": "2021-07-04T12:36:50.006Z"
   },
   {
    "duration": 39,
    "start_time": "2021-07-04T12:36:50.028Z"
   },
   {
    "duration": 27,
    "start_time": "2021-07-04T12:36:50.069Z"
   },
   {
    "duration": 23,
    "start_time": "2021-07-04T12:36:50.098Z"
   },
   {
    "duration": 34,
    "start_time": "2021-07-04T12:36:50.123Z"
   },
   {
    "duration": 21,
    "start_time": "2021-07-04T12:36:50.159Z"
   },
   {
    "duration": 24,
    "start_time": "2021-07-04T12:36:50.182Z"
   },
   {
    "duration": 25,
    "start_time": "2021-07-04T12:36:50.208Z"
   },
   {
    "duration": 22,
    "start_time": "2021-07-04T12:36:50.235Z"
   },
   {
    "duration": 29,
    "start_time": "2021-07-04T12:36:50.259Z"
   },
   {
    "duration": 21,
    "start_time": "2021-07-04T12:36:50.290Z"
   },
   {
    "duration": 24,
    "start_time": "2021-07-04T12:36:50.313Z"
   },
   {
    "duration": 21,
    "start_time": "2021-07-04T12:36:50.339Z"
   },
   {
    "duration": 26,
    "start_time": "2021-07-04T12:36:50.362Z"
   },
   {
    "duration": 33,
    "start_time": "2021-07-04T12:36:50.390Z"
   },
   {
    "duration": 19,
    "start_time": "2021-07-04T12:36:50.425Z"
   },
   {
    "duration": 44,
    "start_time": "2021-07-04T12:36:50.446Z"
   },
   {
    "duration": 15,
    "start_time": "2021-07-04T12:36:50.492Z"
   },
   {
    "duration": 24,
    "start_time": "2021-07-04T12:36:50.509Z"
   },
   {
    "duration": 22,
    "start_time": "2021-07-04T12:36:50.535Z"
   },
   {
    "duration": 43,
    "start_time": "2021-07-04T12:36:50.558Z"
   },
   {
    "duration": 28,
    "start_time": "2021-07-04T12:36:50.602Z"
   },
   {
    "duration": 20,
    "start_time": "2021-07-04T12:36:50.631Z"
   },
   {
    "duration": 27,
    "start_time": "2021-07-04T12:36:50.653Z"
   },
   {
    "duration": 38,
    "start_time": "2021-07-04T12:36:50.681Z"
   },
   {
    "duration": 20,
    "start_time": "2021-07-04T12:36:50.721Z"
   },
   {
    "duration": 31,
    "start_time": "2021-07-04T12:36:50.743Z"
   },
   {
    "duration": 40,
    "start_time": "2021-07-04T12:36:50.776Z"
   },
   {
    "duration": 242,
    "start_time": "2021-07-04T12:36:50.817Z"
   },
   {
    "duration": 11,
    "start_time": "2021-07-04T12:36:51.061Z"
   },
   {
    "duration": 28,
    "start_time": "2021-07-04T12:36:51.074Z"
   },
   {
    "duration": 27,
    "start_time": "2021-07-04T12:36:51.104Z"
   },
   {
    "duration": 31,
    "start_time": "2021-07-04T12:36:51.133Z"
   },
   {
    "duration": 25,
    "start_time": "2021-07-04T12:36:51.166Z"
   },
   {
    "duration": 23,
    "start_time": "2021-07-04T12:36:51.193Z"
   },
   {
    "duration": 38,
    "start_time": "2021-07-04T12:36:51.218Z"
   },
   {
    "duration": 19,
    "start_time": "2021-07-04T12:36:51.258Z"
   },
   {
    "duration": 26,
    "start_time": "2021-07-04T12:36:51.279Z"
   },
   {
    "duration": 13,
    "start_time": "2021-07-04T12:36:51.307Z"
   },
   {
    "duration": 16,
    "start_time": "2021-07-04T12:36:51.322Z"
   },
   {
    "duration": 28,
    "start_time": "2021-07-04T12:36:51.339Z"
   },
   {
    "duration": 23,
    "start_time": "2021-07-04T12:36:51.369Z"
   },
   {
    "duration": 20,
    "start_time": "2021-07-04T12:36:51.393Z"
   },
   {
    "duration": 39,
    "start_time": "2021-07-04T12:36:51.415Z"
   },
   {
    "duration": 26,
    "start_time": "2021-07-04T12:36:51.456Z"
   },
   {
    "duration": 26,
    "start_time": "2021-07-04T12:36:51.483Z"
   },
   {
    "duration": 29,
    "start_time": "2021-07-04T12:36:51.511Z"
   },
   {
    "duration": 1464,
    "start_time": "2021-07-04T12:41:24.320Z"
   },
   {
    "duration": 6,
    "start_time": "2021-07-04T12:41:25.786Z"
   },
   {
    "duration": 311,
    "start_time": "2021-07-04T12:41:25.793Z"
   },
   {
    "duration": 16,
    "start_time": "2021-07-04T12:41:26.106Z"
   },
   {
    "duration": 20,
    "start_time": "2021-07-04T12:41:26.124Z"
   },
   {
    "duration": 17,
    "start_time": "2021-07-04T12:41:26.145Z"
   },
   {
    "duration": 71,
    "start_time": "2021-07-04T12:41:26.164Z"
   },
   {
    "duration": 7,
    "start_time": "2021-07-04T12:41:26.238Z"
   },
   {
    "duration": 12,
    "start_time": "2021-07-04T12:41:26.248Z"
   },
   {
    "duration": 16,
    "start_time": "2021-07-04T12:41:26.262Z"
   },
   {
    "duration": 17,
    "start_time": "2021-07-04T12:41:26.280Z"
   },
   {
    "duration": 206,
    "start_time": "2021-07-04T12:41:26.300Z"
   },
   {
    "duration": 4,
    "start_time": "2021-07-04T12:41:26.508Z"
   },
   {
    "duration": 22,
    "start_time": "2021-07-04T12:41:26.514Z"
   },
   {
    "duration": 11,
    "start_time": "2021-07-04T12:41:26.538Z"
   },
   {
    "duration": 7,
    "start_time": "2021-07-04T12:41:26.551Z"
   },
   {
    "duration": 31,
    "start_time": "2021-07-04T12:41:26.560Z"
   },
   {
    "duration": 7,
    "start_time": "2021-07-04T12:41:26.593Z"
   },
   {
    "duration": 10,
    "start_time": "2021-07-04T12:41:26.602Z"
   },
   {
    "duration": 25,
    "start_time": "2021-07-04T12:41:26.614Z"
   },
   {
    "duration": 12,
    "start_time": "2021-07-04T12:41:26.640Z"
   },
   {
    "duration": 21,
    "start_time": "2021-07-04T12:41:26.654Z"
   },
   {
    "duration": 9,
    "start_time": "2021-07-04T12:41:26.692Z"
   },
   {
    "duration": 38,
    "start_time": "2021-07-04T12:41:26.703Z"
   },
   {
    "duration": 23,
    "start_time": "2021-07-04T12:41:26.742Z"
   },
   {
    "duration": 26,
    "start_time": "2021-07-04T12:41:26.770Z"
   },
   {
    "duration": 23,
    "start_time": "2021-07-04T12:41:26.799Z"
   },
   {
    "duration": 7,
    "start_time": "2021-07-04T12:41:26.824Z"
   },
   {
    "duration": 23,
    "start_time": "2021-07-04T12:41:26.833Z"
   },
   {
    "duration": 34,
    "start_time": "2021-07-04T12:41:26.858Z"
   },
   {
    "duration": 3,
    "start_time": "2021-07-04T12:41:26.894Z"
   },
   {
    "duration": 22,
    "start_time": "2021-07-04T12:41:26.899Z"
   },
   {
    "duration": 13,
    "start_time": "2021-07-04T12:41:26.923Z"
   },
   {
    "duration": 7,
    "start_time": "2021-07-04T12:41:26.938Z"
   },
   {
    "duration": 17,
    "start_time": "2021-07-04T12:41:26.947Z"
   },
   {
    "duration": 13,
    "start_time": "2021-07-04T12:41:26.966Z"
   },
   {
    "duration": 6,
    "start_time": "2021-07-04T12:41:26.991Z"
   },
   {
    "duration": 24,
    "start_time": "2021-07-04T12:41:26.999Z"
   },
   {
    "duration": 781,
    "start_time": "2021-07-04T12:41:27.025Z"
   },
   {
    "duration": 7,
    "start_time": "2021-07-04T12:41:27.808Z"
   },
   {
    "duration": 13,
    "start_time": "2021-07-04T12:41:27.817Z"
   },
   {
    "duration": 6,
    "start_time": "2021-07-04T12:41:27.832Z"
   },
   {
    "duration": 452,
    "start_time": "2021-07-04T12:41:27.840Z"
   },
   {
    "duration": 5,
    "start_time": "2021-07-04T12:41:28.294Z"
   },
   {
    "duration": 16,
    "start_time": "2021-07-04T12:41:28.301Z"
   },
   {
    "duration": 80,
    "start_time": "2021-07-04T12:41:28.319Z"
   },
   {
    "duration": 3,
    "start_time": "2021-07-04T12:41:28.402Z"
   },
   {
    "duration": 23,
    "start_time": "2021-07-04T12:41:28.407Z"
   },
   {
    "duration": 25,
    "start_time": "2021-07-04T12:41:28.432Z"
   },
   {
    "duration": 12,
    "start_time": "2021-07-04T12:41:28.458Z"
   },
   {
    "duration": 19,
    "start_time": "2021-07-04T12:41:28.472Z"
   },
   {
    "duration": 31,
    "start_time": "2021-07-04T12:41:28.494Z"
   },
   {
    "duration": 14,
    "start_time": "2021-07-04T12:41:28.527Z"
   },
   {
    "duration": 22,
    "start_time": "2021-07-04T12:41:28.543Z"
   },
   {
    "duration": 24,
    "start_time": "2021-07-04T12:41:28.567Z"
   },
   {
    "duration": 236,
    "start_time": "2021-07-04T12:41:28.593Z"
   },
   {
    "duration": 5,
    "start_time": "2021-07-04T12:41:28.832Z"
   },
   {
    "duration": 15,
    "start_time": "2021-07-04T12:41:28.839Z"
   },
   {
    "duration": 259,
    "start_time": "2021-07-04T12:41:28.856Z"
   },
   {
    "duration": 390,
    "start_time": "2021-07-04T12:41:29.117Z"
   },
   {
    "duration": 392,
    "start_time": "2021-07-04T12:41:29.509Z"
   },
   {
    "duration": 421,
    "start_time": "2021-07-04T12:41:29.904Z"
   },
   {
    "duration": 11,
    "start_time": "2021-07-04T12:41:30.327Z"
   },
   {
    "duration": 21,
    "start_time": "2021-07-04T12:41:30.340Z"
   },
   {
    "duration": 13,
    "start_time": "2021-07-04T12:41:30.363Z"
   },
   {
    "duration": 16,
    "start_time": "2021-07-04T12:41:30.379Z"
   },
   {
    "duration": 418,
    "start_time": "2021-07-04T12:41:30.397Z"
   },
   {
    "duration": 398,
    "start_time": "2021-07-04T12:41:30.817Z"
   },
   {
    "duration": 227,
    "start_time": "2021-07-04T12:41:31.216Z"
   },
   {
    "duration": 381,
    "start_time": "2021-07-04T12:41:31.445Z"
   },
   {
    "duration": 8,
    "start_time": "2021-07-04T12:41:31.829Z"
   },
   {
    "duration": 13,
    "start_time": "2021-07-04T12:41:31.839Z"
   },
   {
    "duration": 13,
    "start_time": "2021-07-04T12:41:31.854Z"
   },
   {
    "duration": 24,
    "start_time": "2021-07-04T12:41:31.869Z"
   },
   {
    "duration": 12,
    "start_time": "2021-07-04T12:41:31.895Z"
   },
   {
    "duration": 20,
    "start_time": "2021-07-04T12:41:31.908Z"
   },
   {
    "duration": 12,
    "start_time": "2021-07-04T12:41:31.930Z"
   },
   {
    "duration": 16,
    "start_time": "2021-07-04T12:41:31.944Z"
   },
   {
    "duration": 14,
    "start_time": "2021-07-04T12:41:31.962Z"
   },
   {
    "duration": 16,
    "start_time": "2021-07-04T12:41:31.983Z"
   },
   {
    "duration": 29,
    "start_time": "2021-07-04T12:41:32.002Z"
   },
   {
    "duration": 24,
    "start_time": "2021-07-04T12:41:32.033Z"
   },
   {
    "duration": 9,
    "start_time": "2021-07-04T12:41:32.059Z"
   },
   {
    "duration": 22,
    "start_time": "2021-07-04T12:41:32.070Z"
   },
   {
    "duration": 14,
    "start_time": "2021-07-04T12:41:32.094Z"
   },
   {
    "duration": 13,
    "start_time": "2021-07-04T12:41:32.110Z"
   },
   {
    "duration": 14,
    "start_time": "2021-07-04T12:41:32.124Z"
   },
   {
    "duration": 22,
    "start_time": "2021-07-04T12:41:32.139Z"
   },
   {
    "duration": 23,
    "start_time": "2021-07-04T12:41:32.163Z"
   },
   {
    "duration": 22,
    "start_time": "2021-07-04T12:41:32.188Z"
   },
   {
    "duration": 11,
    "start_time": "2021-07-04T12:41:32.213Z"
   },
   {
    "duration": 20,
    "start_time": "2021-07-04T12:41:32.226Z"
   },
   {
    "duration": 26,
    "start_time": "2021-07-04T12:41:32.248Z"
   },
   {
    "duration": 9,
    "start_time": "2021-07-04T12:41:32.276Z"
   },
   {
    "duration": 20,
    "start_time": "2021-07-04T12:41:32.287Z"
   },
   {
    "duration": 10,
    "start_time": "2021-07-04T12:41:32.309Z"
   },
   {
    "duration": 12,
    "start_time": "2021-07-04T12:41:32.321Z"
   },
   {
    "duration": 21,
    "start_time": "2021-07-04T12:41:32.334Z"
   },
   {
    "duration": 11,
    "start_time": "2021-07-04T12:41:32.357Z"
   },
   {
    "duration": 17,
    "start_time": "2021-07-04T12:41:32.370Z"
   },
   {
    "duration": 16,
    "start_time": "2021-07-04T12:41:32.389Z"
   },
   {
    "duration": 11,
    "start_time": "2021-07-04T12:41:32.407Z"
   },
   {
    "duration": 23,
    "start_time": "2021-07-04T12:41:32.420Z"
   },
   {
    "duration": 13,
    "start_time": "2021-07-04T12:41:32.445Z"
   },
   {
    "duration": 25,
    "start_time": "2021-07-04T12:41:32.460Z"
   },
   {
    "duration": 9,
    "start_time": "2021-07-04T12:41:32.487Z"
   },
   {
    "duration": 19,
    "start_time": "2021-07-04T12:41:32.498Z"
   },
   {
    "duration": 18,
    "start_time": "2021-07-04T12:41:32.519Z"
   },
   {
    "duration": 12,
    "start_time": "2021-07-04T12:41:32.539Z"
   },
   {
    "duration": 12,
    "start_time": "2021-07-04T12:41:32.553Z"
   },
   {
    "duration": 11,
    "start_time": "2021-07-04T12:41:32.567Z"
   },
   {
    "duration": 16,
    "start_time": "2021-07-04T12:41:32.580Z"
   },
   {
    "duration": 18,
    "start_time": "2021-07-04T12:41:32.598Z"
   },
   {
    "duration": 15,
    "start_time": "2021-07-04T12:41:32.618Z"
   },
   {
    "duration": 22,
    "start_time": "2021-07-04T12:41:32.635Z"
   },
   {
    "duration": 338,
    "start_time": "2021-07-04T12:41:32.659Z"
   },
   {
    "duration": 14,
    "start_time": "2021-07-04T12:41:33.000Z"
   },
   {
    "duration": 15,
    "start_time": "2021-07-04T12:41:33.016Z"
   },
   {
    "duration": 19,
    "start_time": "2021-07-04T12:41:33.035Z"
   },
   {
    "duration": 12,
    "start_time": "2021-07-04T12:41:33.056Z"
   },
   {
    "duration": 27,
    "start_time": "2021-07-04T12:41:33.070Z"
   },
   {
    "duration": 27,
    "start_time": "2021-07-04T12:41:33.100Z"
   },
   {
    "duration": 26,
    "start_time": "2021-07-04T12:41:33.129Z"
   },
   {
    "duration": 14,
    "start_time": "2021-07-04T12:41:33.157Z"
   },
   {
    "duration": 10,
    "start_time": "2021-07-04T12:41:33.173Z"
   },
   {
    "duration": 19,
    "start_time": "2021-07-04T12:41:33.185Z"
   },
   {
    "duration": 22,
    "start_time": "2021-07-04T12:41:33.212Z"
   },
   {
    "duration": 20,
    "start_time": "2021-07-04T12:41:33.236Z"
   },
   {
    "duration": 11,
    "start_time": "2021-07-04T12:41:33.259Z"
   },
   {
    "duration": 11,
    "start_time": "2021-07-04T12:41:33.272Z"
   },
   {
    "duration": 17,
    "start_time": "2021-07-04T12:41:33.285Z"
   },
   {
    "duration": 24,
    "start_time": "2021-07-04T12:41:33.304Z"
   },
   {
    "duration": 11,
    "start_time": "2021-07-04T12:41:33.330Z"
   },
   {
    "duration": 9,
    "start_time": "2021-07-04T12:41:33.344Z"
   },
   {
    "duration": 9,
    "start_time": "2021-07-04T18:48:40.711Z"
   },
   {
    "duration": 2056,
    "start_time": "2021-07-05T05:57:58.313Z"
   },
   {
    "duration": 4,
    "start_time": "2021-07-05T05:58:00.371Z"
   },
   {
    "duration": 1402,
    "start_time": "2021-07-05T05:58:00.378Z"
   },
   {
    "duration": 18,
    "start_time": "2021-07-05T05:58:01.785Z"
   },
   {
    "duration": 31,
    "start_time": "2021-07-05T05:58:01.806Z"
   },
   {
    "duration": 23,
    "start_time": "2021-07-05T05:58:01.839Z"
   },
   {
    "duration": 124,
    "start_time": "2021-07-05T05:58:01.865Z"
   },
   {
    "duration": 8,
    "start_time": "2021-07-05T05:58:01.993Z"
   },
   {
    "duration": 28,
    "start_time": "2021-07-05T05:58:02.004Z"
   },
   {
    "duration": 40,
    "start_time": "2021-07-05T05:58:02.034Z"
   },
   {
    "duration": 16,
    "start_time": "2021-07-05T05:58:02.077Z"
   },
   {
    "duration": 257,
    "start_time": "2021-07-05T05:58:02.096Z"
   },
   {
    "duration": 5,
    "start_time": "2021-07-05T05:58:02.355Z"
   },
   {
    "duration": 45,
    "start_time": "2021-07-05T05:58:02.362Z"
   },
   {
    "duration": 53,
    "start_time": "2021-07-05T05:58:02.409Z"
   },
   {
    "duration": 16,
    "start_time": "2021-07-05T05:58:02.464Z"
   },
   {
    "duration": 19,
    "start_time": "2021-07-05T05:58:02.482Z"
   },
   {
    "duration": 31,
    "start_time": "2021-07-05T05:58:02.503Z"
   },
   {
    "duration": 16,
    "start_time": "2021-07-05T05:58:02.536Z"
   },
   {
    "duration": 41,
    "start_time": "2021-07-05T05:58:02.554Z"
   },
   {
    "duration": 19,
    "start_time": "2021-07-05T05:58:02.597Z"
   },
   {
    "duration": 31,
    "start_time": "2021-07-05T05:58:02.619Z"
   },
   {
    "duration": 9,
    "start_time": "2021-07-05T05:58:02.654Z"
   },
   {
    "duration": 36,
    "start_time": "2021-07-05T05:58:02.687Z"
   },
   {
    "duration": 36,
    "start_time": "2021-07-05T05:58:02.726Z"
   },
   {
    "duration": 9,
    "start_time": "2021-07-05T05:58:02.786Z"
   },
   {
    "duration": 25,
    "start_time": "2021-07-05T05:58:02.797Z"
   },
   {
    "duration": 15,
    "start_time": "2021-07-05T05:58:02.824Z"
   },
   {
    "duration": 46,
    "start_time": "2021-07-05T05:58:02.841Z"
   },
   {
    "duration": 19,
    "start_time": "2021-07-05T05:58:02.890Z"
   },
   {
    "duration": 6,
    "start_time": "2021-07-05T05:58:02.912Z"
   },
   {
    "duration": 27,
    "start_time": "2021-07-05T05:58:02.921Z"
   },
   {
    "duration": 47,
    "start_time": "2021-07-05T05:58:02.951Z"
   },
   {
    "duration": 5,
    "start_time": "2021-07-05T05:58:03.001Z"
   },
   {
    "duration": 16,
    "start_time": "2021-07-05T05:58:15.387Z"
   },
   {
    "duration": 294,
    "start_time": "2021-07-05T05:58:30.114Z"
   },
   {
    "duration": 1920,
    "start_time": "2021-07-05T06:08:45.838Z"
   },
   {
    "duration": 4,
    "start_time": "2021-07-05T06:08:47.760Z"
   },
   {
    "duration": 326,
    "start_time": "2021-07-05T06:08:47.767Z"
   },
   {
    "duration": 17,
    "start_time": "2021-07-05T06:08:48.097Z"
   },
   {
    "duration": 21,
    "start_time": "2021-07-05T06:08:48.116Z"
   },
   {
    "duration": 16,
    "start_time": "2021-07-05T06:08:48.140Z"
   },
   {
    "duration": 89,
    "start_time": "2021-07-05T06:08:48.158Z"
   },
   {
    "duration": 9,
    "start_time": "2021-07-05T06:08:48.250Z"
   },
   {
    "duration": 12,
    "start_time": "2021-07-05T06:08:48.261Z"
   },
   {
    "duration": 16,
    "start_time": "2021-07-05T06:08:48.275Z"
   },
   {
    "duration": 6,
    "start_time": "2021-07-05T06:08:48.294Z"
   },
   {
    "duration": 249,
    "start_time": "2021-07-05T06:08:48.302Z"
   },
   {
    "duration": 5,
    "start_time": "2021-07-05T06:08:48.554Z"
   },
   {
    "duration": 31,
    "start_time": "2021-07-05T06:08:48.561Z"
   },
   {
    "duration": 19,
    "start_time": "2021-07-05T06:08:48.595Z"
   },
   {
    "duration": 7,
    "start_time": "2021-07-05T06:08:48.617Z"
   },
   {
    "duration": 10,
    "start_time": "2021-07-05T06:08:48.626Z"
   },
   {
    "duration": 10,
    "start_time": "2021-07-05T06:08:48.639Z"
   },
   {
    "duration": 34,
    "start_time": "2021-07-05T06:08:48.651Z"
   },
   {
    "duration": 33,
    "start_time": "2021-07-05T06:08:48.688Z"
   },
   {
    "duration": 17,
    "start_time": "2021-07-05T06:08:48.724Z"
   },
   {
    "duration": 51,
    "start_time": "2021-07-05T06:08:48.744Z"
   },
   {
    "duration": 8,
    "start_time": "2021-07-05T06:08:48.801Z"
   },
   {
    "duration": 32,
    "start_time": "2021-07-05T06:08:48.813Z"
   },
   {
    "duration": 60,
    "start_time": "2021-07-05T06:08:48.847Z"
   },
   {
    "duration": 10,
    "start_time": "2021-07-05T06:08:48.910Z"
   },
   {
    "duration": 26,
    "start_time": "2021-07-05T06:08:48.924Z"
   },
   {
    "duration": 42,
    "start_time": "2021-07-05T06:08:48.953Z"
   },
   {
    "duration": 37,
    "start_time": "2021-07-05T06:08:49.000Z"
   },
   {
    "duration": 51,
    "start_time": "2021-07-05T06:08:49.041Z"
   },
   {
    "duration": 5,
    "start_time": "2021-07-05T06:08:49.094Z"
   },
   {
    "duration": 20,
    "start_time": "2021-07-05T06:08:49.102Z"
   },
   {
    "duration": 14,
    "start_time": "2021-07-05T06:08:49.125Z"
   },
   {
    "duration": 6,
    "start_time": "2021-07-05T06:08:49.141Z"
   },
   {
    "duration": 8,
    "start_time": "2021-07-05T06:08:49.185Z"
   },
   {
    "duration": 7,
    "start_time": "2021-07-05T06:08:49.195Z"
   },
   {
    "duration": 8,
    "start_time": "2021-07-05T06:08:49.205Z"
   },
   {
    "duration": 32,
    "start_time": "2021-07-05T06:08:49.215Z"
   },
   {
    "duration": 1138,
    "start_time": "2021-07-05T06:08:49.285Z"
   },
   {
    "duration": 64,
    "start_time": "2021-07-05T06:08:50.426Z"
   },
   {
    "duration": 23,
    "start_time": "2021-07-05T06:08:50.493Z"
   },
   {
    "duration": 6,
    "start_time": "2021-07-05T06:08:50.518Z"
   },
   {
    "duration": 552,
    "start_time": "2021-07-05T06:08:50.526Z"
   },
   {
    "duration": 7,
    "start_time": "2021-07-05T06:08:51.085Z"
   },
   {
    "duration": 23,
    "start_time": "2021-07-05T06:08:51.094Z"
   },
   {
    "duration": 82,
    "start_time": "2021-07-05T06:08:51.120Z"
   },
   {
    "duration": 5,
    "start_time": "2021-07-05T06:08:51.204Z"
   },
   {
    "duration": 21,
    "start_time": "2021-07-05T06:08:51.211Z"
   },
   {
    "duration": 53,
    "start_time": "2021-07-05T06:08:51.235Z"
   },
   {
    "duration": 16,
    "start_time": "2021-07-05T06:08:51.290Z"
   },
   {
    "duration": 8,
    "start_time": "2021-07-05T06:08:51.309Z"
   },
   {
    "duration": 35,
    "start_time": "2021-07-05T06:08:51.319Z"
   },
   {
    "duration": 43,
    "start_time": "2021-07-05T06:08:51.357Z"
   },
   {
    "duration": 17,
    "start_time": "2021-07-05T06:08:51.403Z"
   },
   {
    "duration": 8,
    "start_time": "2021-07-05T06:08:51.422Z"
   },
   {
    "duration": 348,
    "start_time": "2021-07-05T06:08:51.432Z"
   },
   {
    "duration": 6,
    "start_time": "2021-07-05T06:08:51.786Z"
   },
   {
    "duration": 19,
    "start_time": "2021-07-05T06:08:51.795Z"
   },
   {
    "duration": 408,
    "start_time": "2021-07-05T06:08:51.817Z"
   },
   {
    "duration": 541,
    "start_time": "2021-07-05T06:08:52.228Z"
   },
   {
    "duration": 383,
    "start_time": "2021-07-05T06:08:52.771Z"
   },
   {
    "duration": 550,
    "start_time": "2021-07-05T06:08:53.156Z"
   },
   {
    "duration": 18,
    "start_time": "2021-07-05T06:08:53.708Z"
   },
   {
    "duration": 12,
    "start_time": "2021-07-05T06:08:53.728Z"
   },
   {
    "duration": 17,
    "start_time": "2021-07-05T06:08:53.742Z"
   },
   {
    "duration": 10,
    "start_time": "2021-07-05T06:08:53.786Z"
   },
   {
    "duration": 464,
    "start_time": "2021-07-05T06:08:53.799Z"
   },
   {
    "duration": 575,
    "start_time": "2021-07-05T06:08:54.273Z"
   },
   {
    "duration": 394,
    "start_time": "2021-07-05T06:08:54.852Z"
   },
   {
    "duration": 568,
    "start_time": "2021-07-05T06:08:55.249Z"
   },
   {
    "duration": 10,
    "start_time": "2021-07-05T06:08:55.819Z"
   },
   {
    "duration": 16,
    "start_time": "2021-07-05T06:08:55.831Z"
   },
   {
    "duration": 26,
    "start_time": "2021-07-05T06:08:55.849Z"
   },
   {
    "duration": 5,
    "start_time": "2021-07-05T06:08:55.886Z"
   },
   {
    "duration": 12,
    "start_time": "2021-07-05T06:08:55.894Z"
   },
   {
    "duration": 14,
    "start_time": "2021-07-05T06:08:55.908Z"
   },
   {
    "duration": 9,
    "start_time": "2021-07-05T06:08:55.925Z"
   },
   {
    "duration": 15,
    "start_time": "2021-07-05T06:08:55.937Z"
   },
   {
    "duration": 33,
    "start_time": "2021-07-05T06:08:55.954Z"
   },
   {
    "duration": 26,
    "start_time": "2021-07-05T06:08:55.990Z"
   },
   {
    "duration": 13,
    "start_time": "2021-07-05T06:08:56.019Z"
   },
   {
    "duration": 23,
    "start_time": "2021-07-05T06:08:56.034Z"
   },
   {
    "duration": 29,
    "start_time": "2021-07-05T06:08:56.060Z"
   },
   {
    "duration": 15,
    "start_time": "2021-07-05T06:08:56.092Z"
   },
   {
    "duration": 21,
    "start_time": "2021-07-05T06:08:56.109Z"
   },
   {
    "duration": 8,
    "start_time": "2021-07-05T06:08:56.132Z"
   },
   {
    "duration": 16,
    "start_time": "2021-07-05T06:08:56.142Z"
   },
   {
    "duration": 33,
    "start_time": "2021-07-05T06:08:56.160Z"
   },
   {
    "duration": 12,
    "start_time": "2021-07-05T06:08:56.195Z"
   },
   {
    "duration": 12,
    "start_time": "2021-07-05T06:08:56.209Z"
   },
   {
    "duration": 19,
    "start_time": "2021-07-05T06:08:56.223Z"
   },
   {
    "duration": 14,
    "start_time": "2021-07-05T06:08:56.244Z"
   },
   {
    "duration": 31,
    "start_time": "2021-07-05T06:08:56.261Z"
   },
   {
    "duration": 5,
    "start_time": "2021-07-05T06:08:56.294Z"
   },
   {
    "duration": 27,
    "start_time": "2021-07-05T06:08:56.301Z"
   },
   {
    "duration": 15,
    "start_time": "2021-07-05T06:08:56.330Z"
   },
   {
    "duration": 13,
    "start_time": "2021-07-05T06:08:56.348Z"
   },
   {
    "duration": 31,
    "start_time": "2021-07-05T06:08:56.364Z"
   },
   {
    "duration": 10,
    "start_time": "2021-07-05T06:08:56.397Z"
   },
   {
    "duration": 13,
    "start_time": "2021-07-05T06:08:56.409Z"
   },
   {
    "duration": 10,
    "start_time": "2021-07-05T06:08:56.425Z"
   },
   {
    "duration": 10,
    "start_time": "2021-07-05T06:08:56.438Z"
   },
   {
    "duration": 52,
    "start_time": "2021-07-05T06:08:56.450Z"
   },
   {
    "duration": 14,
    "start_time": "2021-07-05T06:08:56.504Z"
   },
   {
    "duration": 22,
    "start_time": "2021-07-05T06:08:56.520Z"
   },
   {
    "duration": 14,
    "start_time": "2021-07-05T06:08:56.544Z"
   },
   {
    "duration": 29,
    "start_time": "2021-07-05T06:08:56.561Z"
   },
   {
    "duration": 21,
    "start_time": "2021-07-05T06:08:56.593Z"
   },
   {
    "duration": 7,
    "start_time": "2021-07-05T06:08:56.617Z"
   },
   {
    "duration": 13,
    "start_time": "2021-07-05T06:08:56.626Z"
   },
   {
    "duration": 47,
    "start_time": "2021-07-05T06:08:56.641Z"
   },
   {
    "duration": 11,
    "start_time": "2021-07-05T06:08:56.690Z"
   },
   {
    "duration": 8,
    "start_time": "2021-07-05T06:08:56.704Z"
   },
   {
    "duration": 16,
    "start_time": "2021-07-05T06:08:56.714Z"
   },
   {
    "duration": 27,
    "start_time": "2021-07-05T06:08:56.732Z"
   },
   {
    "duration": 401,
    "start_time": "2021-07-05T06:08:56.761Z"
   },
   {
    "duration": 30,
    "start_time": "2021-07-05T06:08:57.164Z"
   },
   {
    "duration": 15,
    "start_time": "2021-07-05T06:08:57.196Z"
   },
   {
    "duration": 10,
    "start_time": "2021-07-05T06:08:57.213Z"
   },
   {
    "duration": 10,
    "start_time": "2021-07-05T06:08:57.225Z"
   },
   {
    "duration": 13,
    "start_time": "2021-07-05T06:08:57.237Z"
   },
   {
    "duration": 12,
    "start_time": "2021-07-05T06:08:57.253Z"
   },
   {
    "duration": 29,
    "start_time": "2021-07-05T06:08:57.267Z"
   },
   {
    "duration": 13,
    "start_time": "2021-07-05T06:08:57.299Z"
   },
   {
    "duration": 9,
    "start_time": "2021-07-05T06:08:57.314Z"
   },
   {
    "duration": 9,
    "start_time": "2021-07-05T06:08:57.326Z"
   },
   {
    "duration": 22,
    "start_time": "2021-07-05T06:08:57.338Z"
   },
   {
    "duration": 6,
    "start_time": "2021-07-05T06:08:57.385Z"
   },
   {
    "duration": 16,
    "start_time": "2021-07-05T06:08:57.394Z"
   },
   {
    "duration": 14,
    "start_time": "2021-07-05T06:08:57.413Z"
   },
   {
    "duration": 22,
    "start_time": "2021-07-05T06:08:57.430Z"
   },
   {
    "duration": 17,
    "start_time": "2021-07-05T06:08:57.454Z"
   },
   {
    "duration": 12,
    "start_time": "2021-07-05T06:08:57.473Z"
   },
   {
    "duration": 12,
    "start_time": "2021-07-05T06:08:57.488Z"
   }
  ],
  "kernelspec": {
   "display_name": "Python 3",
   "language": "python",
   "name": "python3"
  },
  "language_info": {
   "codemirror_mode": {
    "name": "ipython",
    "version": 3
   },
   "file_extension": ".py",
   "mimetype": "text/x-python",
   "name": "python",
   "nbconvert_exporter": "python",
   "pygments_lexer": "ipython3",
   "version": "3.8.5"
  },
  "toc": {
   "base_numbering": 1,
   "nav_menu": {},
   "number_sections": true,
   "sideBar": true,
   "skip_h1_title": true,
   "title_cell": "Table of Contents",
   "title_sidebar": "Contents",
   "toc_cell": false,
   "toc_position": {},
   "toc_section_display": true,
   "toc_window_display": false
  }
 },
 "nbformat": 4,
 "nbformat_minor": 2
}
