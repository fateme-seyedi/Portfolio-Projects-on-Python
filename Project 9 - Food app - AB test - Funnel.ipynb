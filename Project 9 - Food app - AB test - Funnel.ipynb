{
 "cells": [
  {
   "cell_type": "markdown",
   "metadata": {},
   "source": [
    "<a id=\"goal\"></a>\n",
    "## Project Description and Goal"
   ]
  },
  {
   "cell_type": "markdown",
   "metadata": {},
   "source": [
    "<font color='blue'>\n",
    "    \n",
    "We work at a startup that sells food products. We need to investigate user behavior for the company's app.\n",
    "First we study the sales funnel.    \n",
    "Then we look at the results of an A/A/B test. The designers would like to change the fonts for the entire app, but the managers are afraid the users might find the new design intimidating. They decide to make a decision based on the results of an A/A/B test.   \n",
    "The users are split into three groups: two control groups get the old fonts and one test group gets the new ones. "
   ]
  },
  {
   "cell_type": "markdown",
   "metadata": {},
   "source": [
    "## Step 1. Open the data file and study the general information"
   ]
  },
  {
   "cell_type": "code",
   "execution_count": 1,
   "metadata": {},
   "outputs": [],
   "source": [
    "import pandas as pd\n",
    "import matplotlib.pyplot as plt\n",
    "import plotly.express as px\n",
    "from plotly import graph_objects as go\n",
    "import warnings\n",
    "import sys\n",
    "import math\n",
    "from scipy import stats\n",
    "import seaborn as sns\n",
    "from datetime import datetime\n",
    "import sys\n",
    "import warnings"
   ]
  },
  {
   "cell_type": "code",
   "execution_count": 5,
   "metadata": {},
   "outputs": [
    {
     "data": {
      "text/html": [
       "<div>\n",
       "<style scoped>\n",
       "    .dataframe tbody tr th:only-of-type {\n",
       "        vertical-align: middle;\n",
       "    }\n",
       "\n",
       "    .dataframe tbody tr th {\n",
       "        vertical-align: top;\n",
       "    }\n",
       "\n",
       "    .dataframe thead th {\n",
       "        text-align: right;\n",
       "    }\n",
       "</style>\n",
       "<table border=\"1\" class=\"dataframe\">\n",
       "  <thead>\n",
       "    <tr style=\"text-align: right;\">\n",
       "      <th></th>\n",
       "      <th>EventName</th>\n",
       "      <th>DeviceIDHash</th>\n",
       "      <th>EventTimestamp</th>\n",
       "      <th>ExpId</th>\n",
       "    </tr>\n",
       "  </thead>\n",
       "  <tbody>\n",
       "    <tr>\n",
       "      <th>99617</th>\n",
       "      <td>MainScreenAppear</td>\n",
       "      <td>6322172820786288204</td>\n",
       "      <td>1564848989</td>\n",
       "      <td>248</td>\n",
       "    </tr>\n",
       "    <tr>\n",
       "      <th>232592</th>\n",
       "      <td>MainScreenAppear</td>\n",
       "      <td>4945546033740060505</td>\n",
       "      <td>1565189674</td>\n",
       "      <td>247</td>\n",
       "    </tr>\n",
       "    <tr>\n",
       "      <th>146679</th>\n",
       "      <td>CartScreenAppear</td>\n",
       "      <td>907516373885804773</td>\n",
       "      <td>1564990237</td>\n",
       "      <td>246</td>\n",
       "    </tr>\n",
       "    <tr>\n",
       "      <th>243470</th>\n",
       "      <td>OffersScreenAppear</td>\n",
       "      <td>4803668097307767082</td>\n",
       "      <td>1565209278</td>\n",
       "      <td>246</td>\n",
       "    </tr>\n",
       "    <tr>\n",
       "      <th>190080</th>\n",
       "      <td>CartScreenAppear</td>\n",
       "      <td>6613527411922640441</td>\n",
       "      <td>1565088032</td>\n",
       "      <td>246</td>\n",
       "    </tr>\n",
       "  </tbody>\n",
       "</table>\n",
       "</div>"
      ],
      "text/plain": [
       "                 EventName         DeviceIDHash  EventTimestamp  ExpId\n",
       "99617     MainScreenAppear  6322172820786288204      1564848989    248\n",
       "232592    MainScreenAppear  4945546033740060505      1565189674    247\n",
       "146679    CartScreenAppear   907516373885804773      1564990237    246\n",
       "243470  OffersScreenAppear  4803668097307767082      1565209278    246\n",
       "190080    CartScreenAppear  6613527411922640441      1565088032    246"
      ]
     },
     "execution_count": 5,
     "metadata": {},
     "output_type": "execute_result"
    }
   ],
   "source": [
    "data.sample(5)"
   ]
  },
  {
   "cell_type": "code",
   "execution_count": 6,
   "metadata": {},
   "outputs": [
    {
     "name": "stdout",
     "output_type": "stream",
     "text": [
      "<class 'pandas.core.frame.DataFrame'>\n",
      "RangeIndex: 244126 entries, 0 to 244125\n",
      "Data columns (total 4 columns):\n",
      " #   Column          Non-Null Count   Dtype \n",
      "---  ------          --------------   ----- \n",
      " 0   EventName       244126 non-null  object\n",
      " 1   DeviceIDHash    244126 non-null  int64 \n",
      " 2   EventTimestamp  244126 non-null  int64 \n",
      " 3   ExpId           244126 non-null  int64 \n",
      "dtypes: int64(3), object(1)\n",
      "memory usage: 7.5+ MB\n"
     ]
    }
   ],
   "source": [
    "data.info()"
   ]
  },
  {
   "cell_type": "markdown",
   "metadata": {},
   "source": [
    "## Conclusion"
   ]
  },
  {
   "cell_type": "markdown",
   "metadata": {},
   "source": [
    "<font color='blue'>\n",
    "\n",
    "The data has 244126 rows and 4 columns.    \n",
    "There are no missing values.  "
   ]
  },
  {
   "cell_type": "markdown",
   "metadata": {},
   "source": [
    "## Step 2. Data preprocessing"
   ]
  },
  {
   "cell_type": "code",
   "execution_count": 7,
   "metadata": {},
   "outputs": [],
   "source": [
    "data.columns=data.columns.str.lower()"
   ]
  },
  {
   "cell_type": "code",
   "execution_count": 8,
   "metadata": {},
   "outputs": [
    {
     "data": {
      "text/html": [
       "<div>\n",
       "<style scoped>\n",
       "    .dataframe tbody tr th:only-of-type {\n",
       "        vertical-align: middle;\n",
       "    }\n",
       "\n",
       "    .dataframe tbody tr th {\n",
       "        vertical-align: top;\n",
       "    }\n",
       "\n",
       "    .dataframe thead th {\n",
       "        text-align: right;\n",
       "    }\n",
       "</style>\n",
       "<table border=\"1\" class=\"dataframe\">\n",
       "  <thead>\n",
       "    <tr style=\"text-align: right;\">\n",
       "      <th></th>\n",
       "      <th>eventname</th>\n",
       "      <th>deviceidhash</th>\n",
       "      <th>eventtimestamp</th>\n",
       "      <th>expid</th>\n",
       "    </tr>\n",
       "  </thead>\n",
       "  <tbody>\n",
       "    <tr>\n",
       "      <th>118319</th>\n",
       "      <td>OffersScreenAppear</td>\n",
       "      <td>4013129726324754028</td>\n",
       "      <td>1564913943</td>\n",
       "      <td>248</td>\n",
       "    </tr>\n",
       "  </tbody>\n",
       "</table>\n",
       "</div>"
      ],
      "text/plain": [
       "                 eventname         deviceidhash  eventtimestamp  expid\n",
       "118319  OffersScreenAppear  4013129726324754028      1564913943    248"
      ]
     },
     "execution_count": 8,
     "metadata": {},
     "output_type": "execute_result"
    }
   ],
   "source": [
    "data.sample()"
   ]
  },
  {
   "cell_type": "code",
   "execution_count": 9,
   "metadata": {},
   "outputs": [],
   "source": [
    "data=data.rename(columns={'eventname':'event','deviceidhash':'uid','eventtimestamp':'time' })"
   ]
  },
  {
   "cell_type": "code",
   "execution_count": 10,
   "metadata": {},
   "outputs": [
    {
     "data": {
      "text/html": [
       "<div>\n",
       "<style scoped>\n",
       "    .dataframe tbody tr th:only-of-type {\n",
       "        vertical-align: middle;\n",
       "    }\n",
       "\n",
       "    .dataframe tbody tr th {\n",
       "        vertical-align: top;\n",
       "    }\n",
       "\n",
       "    .dataframe thead th {\n",
       "        text-align: right;\n",
       "    }\n",
       "</style>\n",
       "<table border=\"1\" class=\"dataframe\">\n",
       "  <thead>\n",
       "    <tr style=\"text-align: right;\">\n",
       "      <th></th>\n",
       "      <th>event</th>\n",
       "      <th>uid</th>\n",
       "      <th>time</th>\n",
       "      <th>expid</th>\n",
       "    </tr>\n",
       "  </thead>\n",
       "  <tbody>\n",
       "    <tr>\n",
       "      <th>241225</th>\n",
       "      <td>CartScreenAppear</td>\n",
       "      <td>2438520924615884865</td>\n",
       "      <td>1565203771</td>\n",
       "      <td>246</td>\n",
       "    </tr>\n",
       "  </tbody>\n",
       "</table>\n",
       "</div>"
      ],
      "text/plain": [
       "                   event                  uid        time  expid\n",
       "241225  CartScreenAppear  2438520924615884865  1565203771    246"
      ]
     },
     "execution_count": 10,
     "metadata": {},
     "output_type": "execute_result"
    }
   ],
   "source": [
    "data.sample()"
   ]
  },
  {
   "cell_type": "code",
   "execution_count": 11,
   "metadata": {},
   "outputs": [
    {
     "data": {
      "text/plain": [
       "event    0\n",
       "uid      0\n",
       "time     0\n",
       "expid    0\n",
       "dtype: int64"
      ]
     },
     "execution_count": 11,
     "metadata": {},
     "output_type": "execute_result"
    }
   ],
   "source": [
    "data.isnull().sum()"
   ]
  },
  {
   "cell_type": "code",
   "execution_count": 12,
   "metadata": {},
   "outputs": [
    {
     "name": "stdout",
     "output_type": "stream",
     "text": [
      "<class 'pandas.core.frame.DataFrame'>\n",
      "RangeIndex: 244126 entries, 0 to 244125\n",
      "Data columns (total 4 columns):\n",
      " #   Column  Non-Null Count   Dtype \n",
      "---  ------  --------------   ----- \n",
      " 0   event   244126 non-null  object\n",
      " 1   uid     244126 non-null  int64 \n",
      " 2   time    244126 non-null  int64 \n",
      " 3   expid   244126 non-null  int64 \n",
      "dtypes: int64(3), object(1)\n",
      "memory usage: 7.5+ MB\n"
     ]
    }
   ],
   "source": [
    "data.info()"
   ]
  },
  {
   "cell_type": "code",
   "execution_count": 13,
   "metadata": {},
   "outputs": [],
   "source": [
    "data['time'] = data['time'].map(lambda x: datetime.fromtimestamp(x))"
   ]
  },
  {
   "cell_type": "code",
   "execution_count": 14,
   "metadata": {},
   "outputs": [
    {
     "data": {
      "text/html": [
       "<div>\n",
       "<style scoped>\n",
       "    .dataframe tbody tr th:only-of-type {\n",
       "        vertical-align: middle;\n",
       "    }\n",
       "\n",
       "    .dataframe tbody tr th {\n",
       "        vertical-align: top;\n",
       "    }\n",
       "\n",
       "    .dataframe thead th {\n",
       "        text-align: right;\n",
       "    }\n",
       "</style>\n",
       "<table border=\"1\" class=\"dataframe\">\n",
       "  <thead>\n",
       "    <tr style=\"text-align: right;\">\n",
       "      <th></th>\n",
       "      <th>event</th>\n",
       "      <th>uid</th>\n",
       "      <th>time</th>\n",
       "      <th>expid</th>\n",
       "    </tr>\n",
       "  </thead>\n",
       "  <tbody>\n",
       "    <tr>\n",
       "      <th>16081</th>\n",
       "      <td>OffersScreenAppear</td>\n",
       "      <td>9079637263947686454</td>\n",
       "      <td>2019-08-01 13:21:08</td>\n",
       "      <td>248</td>\n",
       "    </tr>\n",
       "  </tbody>\n",
       "</table>\n",
       "</div>"
      ],
      "text/plain": [
       "                    event                  uid                time  expid\n",
       "16081  OffersScreenAppear  9079637263947686454 2019-08-01 13:21:08    248"
      ]
     },
     "execution_count": 14,
     "metadata": {},
     "output_type": "execute_result"
    }
   ],
   "source": [
    "data.sample()"
   ]
  },
  {
   "cell_type": "code",
   "execution_count": 15,
   "metadata": {},
   "outputs": [],
   "source": [
    "data['date']=data['time'].dt.date"
   ]
  },
  {
   "cell_type": "code",
   "execution_count": 16,
   "metadata": {},
   "outputs": [],
   "source": [
    "data['date']=pd.to_datetime(data['date'], format='%Y-%m-%d')"
   ]
  },
  {
   "cell_type": "code",
   "execution_count": 17,
   "metadata": {},
   "outputs": [
    {
     "data": {
      "text/plain": [
       "413"
      ]
     },
     "execution_count": 17,
     "metadata": {},
     "output_type": "execute_result"
    }
   ],
   "source": [
    "data.duplicated().sum()"
   ]
  },
  {
   "cell_type": "code",
   "execution_count": 18,
   "metadata": {},
   "outputs": [],
   "source": [
    "data=data.drop_duplicates()"
   ]
  },
  {
   "cell_type": "code",
   "execution_count": 19,
   "metadata": {},
   "outputs": [
    {
     "name": "stdout",
     "output_type": "stream",
     "text": [
      "<class 'pandas.core.frame.DataFrame'>\n",
      "Int64Index: 243713 entries, 0 to 244125\n",
      "Data columns (total 5 columns):\n",
      " #   Column  Non-Null Count   Dtype         \n",
      "---  ------  --------------   -----         \n",
      " 0   event   243713 non-null  object        \n",
      " 1   uid     243713 non-null  int64         \n",
      " 2   time    243713 non-null  datetime64[ns]\n",
      " 3   expid   243713 non-null  int64         \n",
      " 4   date    243713 non-null  datetime64[ns]\n",
      "dtypes: datetime64[ns](2), int64(2), object(1)\n",
      "memory usage: 11.2+ MB\n"
     ]
    }
   ],
   "source": [
    "data.info()"
   ]
  },
  {
   "cell_type": "markdown",
   "metadata": {},
   "source": [
    "## Conclusion"
   ]
  },
  {
   "cell_type": "markdown",
   "metadata": {},
   "source": [
    "<font color='blue'>\n",
    "   \n",
    "There were no missing values.   \n",
    "We checked each column for the correct data type and convert the timestamp to datetime.    \n",
    "We checked tha data for duplicates and dropped them."
   ]
  },
  {
   "cell_type": "markdown",
   "metadata": {},
   "source": [
    "## Step 3. Exploratory data analysis"
   ]
  },
  {
   "cell_type": "markdown",
   "metadata": {},
   "source": [
    " - **How many events are in the logs?**"
   ]
  },
  {
   "cell_type": "code",
   "execution_count": 20,
   "metadata": {},
   "outputs": [
    {
     "data": {
      "text/plain": [
       "243713"
      ]
     },
     "execution_count": 20,
     "metadata": {},
     "output_type": "execute_result"
    }
   ],
   "source": [
    "len(data)"
   ]
  },
  {
   "cell_type": "code",
   "execution_count": 21,
   "metadata": {},
   "outputs": [
    {
     "data": {
      "text/plain": [
       "array(['MainScreenAppear', 'PaymentScreenSuccessful', 'CartScreenAppear',\n",
       "       'OffersScreenAppear', 'Tutorial'], dtype=object)"
      ]
     },
     "execution_count": 21,
     "metadata": {},
     "output_type": "execute_result"
    }
   ],
   "source": [
    "data.event.unique()"
   ]
  },
  {
   "cell_type": "code",
   "execution_count": 22,
   "metadata": {},
   "outputs": [
    {
     "data": {
      "text/plain": [
       "MainScreenAppear           119101\n",
       "OffersScreenAppear          46808\n",
       "CartScreenAppear            42668\n",
       "PaymentScreenSuccessful     34118\n",
       "Tutorial                     1018\n",
       "Name: event, dtype: int64"
      ]
     },
     "execution_count": 22,
     "metadata": {},
     "output_type": "execute_result"
    }
   ],
   "source": [
    "data.event.value_counts()"
   ]
  },
  {
   "cell_type": "markdown",
   "metadata": {},
   "source": [
    " - **How many users are in the logs?**"
   ]
  },
  {
   "cell_type": "code",
   "execution_count": 23,
   "metadata": {},
   "outputs": [
    {
     "data": {
      "text/plain": [
       "7551"
      ]
     },
     "execution_count": 23,
     "metadata": {},
     "output_type": "execute_result"
    }
   ],
   "source": [
    "data.uid.nunique()"
   ]
  },
  {
   "cell_type": "markdown",
   "metadata": {},
   "source": [
    " - **What's the average number of events per user?**"
   ]
  },
  {
   "cell_type": "code",
   "execution_count": 24,
   "metadata": {},
   "outputs": [
    {
     "data": {
      "text/plain": [
       "32.27559263673685"
      ]
     },
     "execution_count": 24,
     "metadata": {},
     "output_type": "execute_result"
    }
   ],
   "source": [
    "len(data)/data.uid.nunique()"
   ]
  },
  {
   "cell_type": "code",
   "execution_count": 25,
   "metadata": {},
   "outputs": [
    {
     "data": {
      "text/html": [
       "<div>\n",
       "<style scoped>\n",
       "    .dataframe tbody tr th:only-of-type {\n",
       "        vertical-align: middle;\n",
       "    }\n",
       "\n",
       "    .dataframe tbody tr th {\n",
       "        vertical-align: top;\n",
       "    }\n",
       "\n",
       "    .dataframe thead th {\n",
       "        text-align: right;\n",
       "    }\n",
       "</style>\n",
       "<table border=\"1\" class=\"dataframe\">\n",
       "  <thead>\n",
       "    <tr style=\"text-align: right;\">\n",
       "      <th></th>\n",
       "      <th>event</th>\n",
       "      <th>uid</th>\n",
       "      <th>time</th>\n",
       "      <th>expid</th>\n",
       "      <th>date</th>\n",
       "    </tr>\n",
       "  </thead>\n",
       "  <tbody>\n",
       "    <tr>\n",
       "      <th>0</th>\n",
       "      <td>MainScreenAppear</td>\n",
       "      <td>4575588528974610257</td>\n",
       "      <td>2019-07-25 06:43:36</td>\n",
       "      <td>246</td>\n",
       "      <td>2019-07-25</td>\n",
       "    </tr>\n",
       "  </tbody>\n",
       "</table>\n",
       "</div>"
      ],
      "text/plain": [
       "              event                  uid                time  expid       date\n",
       "0  MainScreenAppear  4575588528974610257 2019-07-25 06:43:36    246 2019-07-25"
      ]
     },
     "execution_count": 25,
     "metadata": {},
     "output_type": "execute_result"
    }
   ],
   "source": [
    "data.head(1)"
   ]
  },
  {
   "cell_type": "code",
   "execution_count": 26,
   "metadata": {},
   "outputs": [
    {
     "data": {
      "image/png": "[encoded data removed]",
      "text/plain": [
       "<Figure size 648x432 with 1 Axes>"
      ]
     },
     "metadata": {
      "needs_background": "light"
     },
     "output_type": "display_data"
    }
   ],
   "source": [
    "fig,ax=plt.subplots(figsize=(9,6))\n",
    "sns.distplot(data.groupby('uid').agg({'event':'count'}).reset_index().event)\n",
    "ax.set_title('Events per user' , fontsize=20)\n",
    "ax.set_xlabel('event',fontsize=12)\n",
    "ax.set_ylabel('frequency',fontsize=12)\n",
    "plt.show() ;"
   ]
  },
  {
   "cell_type": "code",
   "execution_count": 27,
   "metadata": {},
   "outputs": [
    {
     "data": {
      "text/plain": [
       "5"
      ]
     },
     "execution_count": 27,
     "metadata": {},
     "output_type": "execute_result"
    }
   ],
   "source": [
    "data.groupby('uid').agg({'event':'count'}).reset_index().event.mode()[0]"
   ]
  },
  {
   "cell_type": "code",
   "execution_count": 28,
   "metadata": {},
   "outputs": [
    {
     "data": {
      "text/plain": [
       "4    3035\n",
       "1    2707\n",
       "2    1021\n",
       "5     471\n",
       "3     317\n",
       "Name: event, dtype: int64"
      ]
     },
     "execution_count": 28,
     "metadata": {},
     "output_type": "execute_result"
    }
   ],
   "source": [
    "data.groupby('uid')['event'].nunique().reset_index()['event'].value_counts()"
   ]
  },
  {
   "cell_type": "markdown",
   "metadata": {},
   "source": [
    " - **What period of time does the data cover?**"
   ]
  },
  {
   "cell_type": "code",
   "execution_count": 29,
   "metadata": {},
   "outputs": [
    {
     "data": {
      "text/plain": [
       "Timestamp('2019-07-25 00:00:00')"
      ]
     },
     "execution_count": 29,
     "metadata": {},
     "output_type": "execute_result"
    }
   ],
   "source": [
    "data.date.min()"
   ]
  },
  {
   "cell_type": "code",
   "execution_count": 30,
   "metadata": {},
   "outputs": [
    {
     "data": {
      "text/plain": [
       "Timestamp('2019-08-07 00:00:00')"
      ]
     },
     "execution_count": 30,
     "metadata": {},
     "output_type": "execute_result"
    }
   ],
   "source": [
    "data.date.max()"
   ]
  },
  {
   "cell_type": "code",
   "execution_count": 31,
   "metadata": {},
   "outputs": [
    {
     "name": "stdout",
     "output_type": "stream",
     "text": [
      "<class 'pandas.core.frame.DataFrame'>\n",
      "Int64Index: 243713 entries, 0 to 244125\n",
      "Data columns (total 5 columns):\n",
      " #   Column  Non-Null Count   Dtype         \n",
      "---  ------  --------------   -----         \n",
      " 0   event   243713 non-null  object        \n",
      " 1   uid     243713 non-null  int64         \n",
      " 2   time    243713 non-null  datetime64[ns]\n",
      " 3   expid   243713 non-null  int64         \n",
      " 4   date    243713 non-null  datetime64[ns]\n",
      "dtypes: datetime64[ns](2), int64(2), object(1)\n",
      "memory usage: 11.2+ MB\n"
     ]
    }
   ],
   "source": [
    "data.info()"
   ]
  },
  {
   "cell_type": "code",
   "execution_count": 32,
   "metadata": {},
   "outputs": [
    {
     "data": {
      "image/png": "[encoded data removed]"
     },
     "metadata": {},
     "output_type": "display_data"
    }
   ],
   "source": [
    "fig= px.histogram(data, x=\"date\", title='Histogram of dates')\n",
    "fig.show(\"png\")"
   ]
  },
  {
   "cell_type": "markdown",
   "metadata": {},
   "source": [
    "<font color ='blue'>\n",
    "\n",
    "Older events could end up in some users' logs for technical reasons, and this could skew the overall picture. So on 1.Aug the data starts to be complete and we can ignore the earlier sections.    "
   ]
  },
  {
   "cell_type": "code",
   "execution_count": 33,
   "metadata": {},
   "outputs": [],
   "source": [
    "new_data=data.query('date >\"2019-07-31\"')"
   ]
  },
  {
   "cell_type": "code",
   "execution_count": 34,
   "metadata": {},
   "outputs": [
    {
     "data": {
      "text/html": [
       "<div>\n",
       "<style scoped>\n",
       "    .dataframe tbody tr th:only-of-type {\n",
       "        vertical-align: middle;\n",
       "    }\n",
       "\n",
       "    .dataframe tbody tr th {\n",
       "        vertical-align: top;\n",
       "    }\n",
       "\n",
       "    .dataframe thead th {\n",
       "        text-align: right;\n",
       "    }\n",
       "</style>\n",
       "<table border=\"1\" class=\"dataframe\">\n",
       "  <thead>\n",
       "    <tr style=\"text-align: right;\">\n",
       "      <th></th>\n",
       "      <th>event</th>\n",
       "      <th>uid</th>\n",
       "      <th>time</th>\n",
       "      <th>expid</th>\n",
       "      <th>date</th>\n",
       "    </tr>\n",
       "  </thead>\n",
       "  <tbody>\n",
       "    <tr>\n",
       "      <th>115433</th>\n",
       "      <td>OffersScreenAppear</td>\n",
       "      <td>6914750135397878804</td>\n",
       "      <td>2019-08-04 10:55:13</td>\n",
       "      <td>248</td>\n",
       "      <td>2019-08-04</td>\n",
       "    </tr>\n",
       "    <tr>\n",
       "      <th>24045</th>\n",
       "      <td>CartScreenAppear</td>\n",
       "      <td>1857022941517449964</td>\n",
       "      <td>2019-08-01 16:29:14</td>\n",
       "      <td>246</td>\n",
       "      <td>2019-08-01</td>\n",
       "    </tr>\n",
       "    <tr>\n",
       "      <th>177963</th>\n",
       "      <td>OffersScreenAppear</td>\n",
       "      <td>2377873061110757618</td>\n",
       "      <td>2019-08-06 05:04:27</td>\n",
       "      <td>246</td>\n",
       "      <td>2019-08-06</td>\n",
       "    </tr>\n",
       "    <tr>\n",
       "      <th>222961</th>\n",
       "      <td>Tutorial</td>\n",
       "      <td>3980825915805890698</td>\n",
       "      <td>2019-08-07 11:58:27</td>\n",
       "      <td>246</td>\n",
       "      <td>2019-08-07</td>\n",
       "    </tr>\n",
       "    <tr>\n",
       "      <th>219434</th>\n",
       "      <td>MainScreenAppear</td>\n",
       "      <td>1615677818169862243</td>\n",
       "      <td>2019-08-07 10:00:18</td>\n",
       "      <td>247</td>\n",
       "      <td>2019-08-07</td>\n",
       "    </tr>\n",
       "  </tbody>\n",
       "</table>\n",
       "</div>"
      ],
      "text/plain": [
       "                     event                  uid                time  expid  \\\n",
       "115433  OffersScreenAppear  6914750135397878804 2019-08-04 10:55:13    248   \n",
       "24045     CartScreenAppear  1857022941517449964 2019-08-01 16:29:14    246   \n",
       "177963  OffersScreenAppear  2377873061110757618 2019-08-06 05:04:27    246   \n",
       "222961            Tutorial  3980825915805890698 2019-08-07 11:58:27    246   \n",
       "219434    MainScreenAppear  1615677818169862243 2019-08-07 10:00:18    247   \n",
       "\n",
       "             date  \n",
       "115433 2019-08-04  \n",
       "24045  2019-08-01  \n",
       "177963 2019-08-06  \n",
       "222961 2019-08-07  \n",
       "219434 2019-08-07  "
      ]
     },
     "execution_count": 34,
     "metadata": {},
     "output_type": "execute_result"
    }
   ],
   "source": [
    "new_data.sample(5)"
   ]
  },
  {
   "cell_type": "markdown",
   "metadata": {},
   "source": [
    "- **Did you lose many events and users when excluding the older data?**"
   ]
  },
  {
   "cell_type": "code",
   "execution_count": 35,
   "metadata": {},
   "outputs": [
    {
     "data": {
      "text/plain": [
       "0.009900990099009901"
      ]
     },
     "execution_count": 35,
     "metadata": {},
     "output_type": "execute_result"
    }
   ],
   "source": [
    "len(data.query('date <=\"2019-07-31\"'))/len(data)"
   ]
  },
  {
   "cell_type": "code",
   "execution_count": 36,
   "metadata": {},
   "outputs": [
    {
     "data": {
      "text/plain": [
       "0.1839491458085022"
      ]
     },
     "execution_count": 36,
     "metadata": {},
     "output_type": "execute_result"
    }
   ],
   "source": [
    "data.query('date <=\"2019-07-31\"').uid.nunique()/data.uid.nunique()"
   ]
  },
  {
   "cell_type": "code",
   "execution_count": 37,
   "metadata": {},
   "outputs": [
    {
     "data": {
      "text/plain": [
       "0.9982783737253343"
      ]
     },
     "execution_count": 37,
     "metadata": {},
     "output_type": "execute_result"
    }
   ],
   "source": [
    "new_data.uid.nunique()/data.uid.nunique()"
   ]
  },
  {
   "cell_type": "markdown",
   "metadata": {},
   "source": [
    "<font color ='blue'>\n",
    "    \n",
    "By excluding the older data, we lose less than 1% from events.<br> We still have 99% of the users in the new data. So we didn't lose much.  "
   ]
  },
  {
   "cell_type": "markdown",
   "metadata": {},
   "source": [
    " - **Make sure you have users from all three experimental groups and not users which are in both groups.**"
   ]
  },
  {
   "cell_type": "code",
   "execution_count": 38,
   "metadata": {},
   "outputs": [
    {
     "data": {
      "text/html": [
       "<div>\n",
       "<style scoped>\n",
       "    .dataframe tbody tr th:only-of-type {\n",
       "        vertical-align: middle;\n",
       "    }\n",
       "\n",
       "    .dataframe tbody tr th {\n",
       "        vertical-align: top;\n",
       "    }\n",
       "\n",
       "    .dataframe thead th {\n",
       "        text-align: right;\n",
       "    }\n",
       "</style>\n",
       "<table border=\"1\" class=\"dataframe\">\n",
       "  <thead>\n",
       "    <tr style=\"text-align: right;\">\n",
       "      <th></th>\n",
       "      <th>uid</th>\n",
       "    </tr>\n",
       "    <tr>\n",
       "      <th>expid</th>\n",
       "      <th></th>\n",
       "    </tr>\n",
       "  </thead>\n",
       "  <tbody>\n",
       "    <tr>\n",
       "      <th>246</th>\n",
       "      <td>2484</td>\n",
       "    </tr>\n",
       "    <tr>\n",
       "      <th>247</th>\n",
       "      <td>2517</td>\n",
       "    </tr>\n",
       "    <tr>\n",
       "      <th>248</th>\n",
       "      <td>2537</td>\n",
       "    </tr>\n",
       "  </tbody>\n",
       "</table>\n",
       "</div>"
      ],
      "text/plain": [
       "        uid\n",
       "expid      \n",
       "246    2484\n",
       "247    2517\n",
       "248    2537"
      ]
     },
     "execution_count": 38,
     "metadata": {},
     "output_type": "execute_result"
    }
   ],
   "source": [
    "new_data.groupby('expid').agg({'uid':'nunique'})"
   ]
  },
  {
   "cell_type": "code",
   "execution_count": 39,
   "metadata": {},
   "outputs": [
    {
     "data": {
      "text/html": [
       "<div>\n",
       "<style scoped>\n",
       "    .dataframe tbody tr th:only-of-type {\n",
       "        vertical-align: middle;\n",
       "    }\n",
       "\n",
       "    .dataframe tbody tr th {\n",
       "        vertical-align: top;\n",
       "    }\n",
       "\n",
       "    .dataframe thead th {\n",
       "        text-align: right;\n",
       "    }\n",
       "</style>\n",
       "<table border=\"1\" class=\"dataframe\">\n",
       "  <thead>\n",
       "    <tr style=\"text-align: right;\">\n",
       "      <th></th>\n",
       "      <th>event</th>\n",
       "      <th>uid</th>\n",
       "      <th>time</th>\n",
       "      <th>expid</th>\n",
       "      <th>date</th>\n",
       "    </tr>\n",
       "  </thead>\n",
       "  <tbody>\n",
       "    <tr>\n",
       "      <th>2415</th>\n",
       "      <td>MainScreenAppear</td>\n",
       "      <td>3957232200565023322</td>\n",
       "      <td>2019-08-01 00:00:12</td>\n",
       "      <td>246</td>\n",
       "      <td>2019-08-01</td>\n",
       "    </tr>\n",
       "  </tbody>\n",
       "</table>\n",
       "</div>"
      ],
      "text/plain": [
       "                 event                  uid                time  expid  \\\n",
       "2415  MainScreenAppear  3957232200565023322 2019-08-01 00:00:12    246   \n",
       "\n",
       "           date  \n",
       "2415 2019-08-01  "
      ]
     },
     "execution_count": 39,
     "metadata": {},
     "output_type": "execute_result"
    }
   ],
   "source": [
    "new_data.head(1)"
   ]
  },
  {
   "cell_type": "code",
   "execution_count": 40,
   "metadata": {},
   "outputs": [],
   "source": [
    "new_data_grouped=new_data.groupby('uid').agg({'expid':\"nunique\"}).reset_index()"
   ]
  },
  {
   "cell_type": "code",
   "execution_count": 41,
   "metadata": {},
   "outputs": [
    {
     "data": {
      "text/plain": [
       "0"
      ]
     },
     "execution_count": 41,
     "metadata": {},
     "output_type": "execute_result"
    }
   ],
   "source": [
    "len(new_data_grouped[new_data_grouped['expid']==2])"
   ]
  },
  {
   "cell_type": "markdown",
   "metadata": {},
   "source": [
    "## Conclusion"
   ]
  },
  {
   "cell_type": "markdown",
   "metadata": {},
   "source": [
    "<font color ='blue'>\n",
    "    \n",
    " - There are 243713 events and 7551 users in the logs.\n",
    " - The average number of events per user is 5.\n",
    " - We noticed that there is a technical problem in logs before 1.Aug. So we ignore the earlier sections.\n",
    " - By excluding the older data, we lose less than 1% from events. We still have 99% of the users in the new data. So we didn't lose much.    "
   ]
  },
  {
   "cell_type": "markdown",
   "metadata": {},
   "source": [
    "<a id=\"funnel\"></a>\n",
    "## Step 4. Study the event funnel"
   ]
  },
  {
   "cell_type": "markdown",
   "metadata": {},
   "source": [
    "- **See what events are in the logs and their frequency of occurrence. Sort them by frequency.**"
   ]
  },
  {
   "cell_type": "code",
   "execution_count": 42,
   "metadata": {},
   "outputs": [
    {
     "data": {
      "text/plain": [
       "MainScreenAppear           117617\n",
       "OffersScreenAppear          46420\n",
       "CartScreenAppear            42322\n",
       "PaymentScreenSuccessful     33935\n",
       "Tutorial                     1006\n",
       "Name: event, dtype: int64"
      ]
     },
     "execution_count": 42,
     "metadata": {},
     "output_type": "execute_result"
    }
   ],
   "source": [
    "new_data.event.value_counts()"
   ]
  },
  {
   "cell_type": "markdown",
   "metadata": {},
   "source": [
    " - **Find the number of users who performed each of these actions.** \n",
    " - **Sort the events by the number of users.** \n",
    " - **Calculate the proportion of users who performed the action at least once.**"
   ]
  },
  {
   "cell_type": "code",
   "execution_count": 43,
   "metadata": {},
   "outputs": [
    {
     "data": {
      "text/html": [
       "<div>\n",
       "<style scoped>\n",
       "    .dataframe tbody tr th:only-of-type {\n",
       "        vertical-align: middle;\n",
       "    }\n",
       "\n",
       "    .dataframe tbody tr th {\n",
       "        vertical-align: top;\n",
       "    }\n",
       "\n",
       "    .dataframe thead th {\n",
       "        text-align: right;\n",
       "    }\n",
       "</style>\n",
       "<table border=\"1\" class=\"dataframe\">\n",
       "  <thead>\n",
       "    <tr style=\"text-align: right;\">\n",
       "      <th></th>\n",
       "      <th>event</th>\n",
       "      <th>uid</th>\n",
       "    </tr>\n",
       "  </thead>\n",
       "  <tbody>\n",
       "    <tr>\n",
       "      <th>1</th>\n",
       "      <td>MainScreenAppear</td>\n",
       "      <td>7423</td>\n",
       "    </tr>\n",
       "    <tr>\n",
       "      <th>2</th>\n",
       "      <td>OffersScreenAppear</td>\n",
       "      <td>4595</td>\n",
       "    </tr>\n",
       "    <tr>\n",
       "      <th>0</th>\n",
       "      <td>CartScreenAppear</td>\n",
       "      <td>3735</td>\n",
       "    </tr>\n",
       "    <tr>\n",
       "      <th>3</th>\n",
       "      <td>PaymentScreenSuccessful</td>\n",
       "      <td>3539</td>\n",
       "    </tr>\n",
       "    <tr>\n",
       "      <th>4</th>\n",
       "      <td>Tutorial</td>\n",
       "      <td>841</td>\n",
       "    </tr>\n",
       "  </tbody>\n",
       "</table>\n",
       "</div>"
      ],
      "text/plain": [
       "                     event   uid\n",
       "1         MainScreenAppear  7423\n",
       "2       OffersScreenAppear  4595\n",
       "0         CartScreenAppear  3735\n",
       "3  PaymentScreenSuccessful  3539\n",
       "4                 Tutorial   841"
      ]
     },
     "execution_count": 43,
     "metadata": {},
     "output_type": "execute_result"
    }
   ],
   "source": [
    "new_data_grupped=new_data.groupby('event').agg({'uid':'nunique'}).reset_index().sort_values('uid', ascending=False)\n",
    "new_data_grupped"
   ]
  },
  {
   "cell_type": "code",
   "execution_count": 44,
   "metadata": {},
   "outputs": [],
   "source": [
    "new_data_grupped['total conversion']=new_data_grupped.uid/new_data.uid.nunique()"
   ]
  },
  {
   "cell_type": "code",
   "execution_count": 45,
   "metadata": {},
   "outputs": [
    {
     "data": {
      "text/html": [
       "<div>\n",
       "<style scoped>\n",
       "    .dataframe tbody tr th:only-of-type {\n",
       "        vertical-align: middle;\n",
       "    }\n",
       "\n",
       "    .dataframe tbody tr th {\n",
       "        vertical-align: top;\n",
       "    }\n",
       "\n",
       "    .dataframe thead th {\n",
       "        text-align: right;\n",
       "    }\n",
       "</style>\n",
       "<table border=\"1\" class=\"dataframe\">\n",
       "  <thead>\n",
       "    <tr style=\"text-align: right;\">\n",
       "      <th></th>\n",
       "      <th>event</th>\n",
       "      <th>uid</th>\n",
       "      <th>total conversion</th>\n",
       "    </tr>\n",
       "  </thead>\n",
       "  <tbody>\n",
       "    <tr>\n",
       "      <th>1</th>\n",
       "      <td>MainScreenAppear</td>\n",
       "      <td>7423</td>\n",
       "      <td>0.984744</td>\n",
       "    </tr>\n",
       "    <tr>\n",
       "      <th>2</th>\n",
       "      <td>OffersScreenAppear</td>\n",
       "      <td>4595</td>\n",
       "      <td>0.609578</td>\n",
       "    </tr>\n",
       "    <tr>\n",
       "      <th>0</th>\n",
       "      <td>CartScreenAppear</td>\n",
       "      <td>3735</td>\n",
       "      <td>0.495490</td>\n",
       "    </tr>\n",
       "    <tr>\n",
       "      <th>3</th>\n",
       "      <td>PaymentScreenSuccessful</td>\n",
       "      <td>3539</td>\n",
       "      <td>0.469488</td>\n",
       "    </tr>\n",
       "    <tr>\n",
       "      <th>4</th>\n",
       "      <td>Tutorial</td>\n",
       "      <td>841</td>\n",
       "      <td>0.111568</td>\n",
       "    </tr>\n",
       "  </tbody>\n",
       "</table>\n",
       "</div>"
      ],
      "text/plain": [
       "                     event   uid  total conversion\n",
       "1         MainScreenAppear  7423          0.984744\n",
       "2       OffersScreenAppear  4595          0.609578\n",
       "0         CartScreenAppear  3735          0.495490\n",
       "3  PaymentScreenSuccessful  3539          0.469488\n",
       "4                 Tutorial   841          0.111568"
      ]
     },
     "execution_count": 45,
     "metadata": {},
     "output_type": "execute_result"
    }
   ],
   "source": [
    "new_data_grupped"
   ]
  },
  {
   "cell_type": "markdown",
   "metadata": {},
   "source": [
    " - **In what order do you think the actions took place. Are all of them part of a single sequence? You don't need to take them into account when calculating the funnel.**"
   ]
  },
  {
   "cell_type": "code",
   "execution_count": 46,
   "metadata": {},
   "outputs": [
    {
     "data": {
      "text/html": [
       "<div>\n",
       "<style scoped>\n",
       "    .dataframe tbody tr th:only-of-type {\n",
       "        vertical-align: middle;\n",
       "    }\n",
       "\n",
       "    .dataframe tbody tr th {\n",
       "        vertical-align: top;\n",
       "    }\n",
       "\n",
       "    .dataframe thead th {\n",
       "        text-align: right;\n",
       "    }\n",
       "</style>\n",
       "<table border=\"1\" class=\"dataframe\">\n",
       "  <thead>\n",
       "    <tr style=\"text-align: right;\">\n",
       "      <th></th>\n",
       "      <th>event</th>\n",
       "      <th>uid</th>\n",
       "      <th>total conversion</th>\n",
       "    </tr>\n",
       "  </thead>\n",
       "  <tbody>\n",
       "    <tr>\n",
       "      <th>1</th>\n",
       "      <td>MainScreenAppear</td>\n",
       "      <td>7423</td>\n",
       "      <td>0.984744</td>\n",
       "    </tr>\n",
       "    <tr>\n",
       "      <th>2</th>\n",
       "      <td>OffersScreenAppear</td>\n",
       "      <td>4595</td>\n",
       "      <td>0.609578</td>\n",
       "    </tr>\n",
       "    <tr>\n",
       "      <th>0</th>\n",
       "      <td>CartScreenAppear</td>\n",
       "      <td>3735</td>\n",
       "      <td>0.495490</td>\n",
       "    </tr>\n",
       "    <tr>\n",
       "      <th>3</th>\n",
       "      <td>PaymentScreenSuccessful</td>\n",
       "      <td>3539</td>\n",
       "      <td>0.469488</td>\n",
       "    </tr>\n",
       "  </tbody>\n",
       "</table>\n",
       "</div>"
      ],
      "text/plain": [
       "                     event   uid  total conversion\n",
       "1         MainScreenAppear  7423          0.984744\n",
       "2       OffersScreenAppear  4595          0.609578\n",
       "0         CartScreenAppear  3735          0.495490\n",
       "3  PaymentScreenSuccessful  3539          0.469488"
      ]
     },
     "execution_count": 46,
     "metadata": {},
     "output_type": "execute_result"
    }
   ],
   "source": [
    "new_data_grupped=new_data_grupped.query('event != \"Tutorial\"')\n",
    "new_data_grupped"
   ]
  },
  {
   "cell_type": "code",
   "execution_count": 47,
   "metadata": {},
   "outputs": [],
   "source": [
    "new_data_grupped['conversion to the next stage']=new_data_grupped['uid']/new_data_grupped['uid'].shift(+1)\n",
    "new_data_grupped.loc[1,'conversion to the next stage']=1"
   ]
  },
  {
   "cell_type": "code",
   "execution_count": 48,
   "metadata": {},
   "outputs": [],
   "source": [
    "new_data_grupped['perc_ch']=new_data_grupped['uid'].pct_change()"
   ]
  },
  {
   "cell_type": "code",
   "execution_count": 49,
   "metadata": {},
   "outputs": [
    {
     "data": {
      "text/html": [
       "<div>\n",
       "<style scoped>\n",
       "    .dataframe tbody tr th:only-of-type {\n",
       "        vertical-align: middle;\n",
       "    }\n",
       "\n",
       "    .dataframe tbody tr th {\n",
       "        vertical-align: top;\n",
       "    }\n",
       "\n",
       "    .dataframe thead th {\n",
       "        text-align: right;\n",
       "    }\n",
       "</style>\n",
       "<table border=\"1\" class=\"dataframe\">\n",
       "  <thead>\n",
       "    <tr style=\"text-align: right;\">\n",
       "      <th></th>\n",
       "      <th>event</th>\n",
       "      <th>uid</th>\n",
       "      <th>total conversion</th>\n",
       "      <th>conversion to the next stage</th>\n",
       "      <th>perc_ch</th>\n",
       "    </tr>\n",
       "  </thead>\n",
       "  <tbody>\n",
       "    <tr>\n",
       "      <th>1</th>\n",
       "      <td>MainScreenAppear</td>\n",
       "      <td>7423</td>\n",
       "      <td>0.984744</td>\n",
       "      <td>1.000000</td>\n",
       "      <td>NaN</td>\n",
       "    </tr>\n",
       "    <tr>\n",
       "      <th>2</th>\n",
       "      <td>OffersScreenAppear</td>\n",
       "      <td>4595</td>\n",
       "      <td>0.609578</td>\n",
       "      <td>0.619022</td>\n",
       "      <td>-0.380978</td>\n",
       "    </tr>\n",
       "    <tr>\n",
       "      <th>0</th>\n",
       "      <td>CartScreenAppear</td>\n",
       "      <td>3735</td>\n",
       "      <td>0.495490</td>\n",
       "      <td>0.812840</td>\n",
       "      <td>-0.187160</td>\n",
       "    </tr>\n",
       "    <tr>\n",
       "      <th>3</th>\n",
       "      <td>PaymentScreenSuccessful</td>\n",
       "      <td>3539</td>\n",
       "      <td>0.469488</td>\n",
       "      <td>0.947523</td>\n",
       "      <td>-0.052477</td>\n",
       "    </tr>\n",
       "  </tbody>\n",
       "</table>\n",
       "</div>"
      ],
      "text/plain": [
       "                     event   uid  total conversion  \\\n",
       "1         MainScreenAppear  7423          0.984744   \n",
       "2       OffersScreenAppear  4595          0.609578   \n",
       "0         CartScreenAppear  3735          0.495490   \n",
       "3  PaymentScreenSuccessful  3539          0.469488   \n",
       "\n",
       "   conversion to the next stage   perc_ch  \n",
       "1                      1.000000       NaN  \n",
       "2                      0.619022 -0.380978  \n",
       "0                      0.812840 -0.187160  \n",
       "3                      0.947523 -0.052477  "
      ]
     },
     "execution_count": 49,
     "metadata": {},
     "output_type": "execute_result"
    }
   ],
   "source": [
    "new_data_grupped"
   ]
  },
  {
   "cell_type": "code",
   "execution_count": 50,
   "metadata": {},
   "outputs": [
    {
     "data": {
      "image/png": "[encoded data removed]"
     },
     "metadata": {},
     "output_type": "display_data"
    }
   ],
   "source": [
    "fig=go.Figure(go.Funnel(x=new_data_grupped.uid , y=new_data_grupped.event))\n",
    "fig.update_layout(title=\"Conversion Funnel\")\n",
    "fig.show(\"png\")"
   ]
  },
  {
   "cell_type": "markdown",
   "metadata": {},
   "source": [
    "## Conclosion"
   ]
  },
  {
   "cell_type": "markdown",
   "metadata": {},
   "source": [
    "<font color ='blue'>\n",
    "    \n",
    "At stage 'OffersScreenAppear' we lose the most users(40%). <br>\n",
    "60% of users who come to the main page also go to the order page.  <br>  \n",
    "46% of users make the entire journey from their first event to payment.  "
   ]
  },
  {
   "cell_type": "markdown",
   "metadata": {},
   "source": [
    "<a id=\"experiment\"></a>\n",
    "## Step 5. Study the results of the experiment"
   ]
  },
  {
   "cell_type": "markdown",
   "metadata": {},
   "source": [
    "- **How many users are there in each group?**"
   ]
  },
  {
   "cell_type": "code",
   "execution_count": 51,
   "metadata": {},
   "outputs": [],
   "source": [
    "Dictionary = {246:'con1', 247:'con2', 248:'test'}\n",
    "new_data['expid']=new_data['expid'].map(Dictionary )"
   ]
  },
  {
   "cell_type": "code",
   "execution_count": 52,
   "metadata": {},
   "outputs": [
    {
     "data": {
      "text/html": [
       "<div>\n",
       "<style scoped>\n",
       "    .dataframe tbody tr th:only-of-type {\n",
       "        vertical-align: middle;\n",
       "    }\n",
       "\n",
       "    .dataframe tbody tr th {\n",
       "        vertical-align: top;\n",
       "    }\n",
       "\n",
       "    .dataframe thead th {\n",
       "        text-align: right;\n",
       "    }\n",
       "</style>\n",
       "<table border=\"1\" class=\"dataframe\">\n",
       "  <thead>\n",
       "    <tr style=\"text-align: right;\">\n",
       "      <th></th>\n",
       "      <th>uid</th>\n",
       "    </tr>\n",
       "    <tr>\n",
       "      <th>expid</th>\n",
       "      <th></th>\n",
       "    </tr>\n",
       "  </thead>\n",
       "  <tbody>\n",
       "    <tr>\n",
       "      <th>con1</th>\n",
       "      <td>2484</td>\n",
       "    </tr>\n",
       "    <tr>\n",
       "      <th>con2</th>\n",
       "      <td>2517</td>\n",
       "    </tr>\n",
       "    <tr>\n",
       "      <th>test</th>\n",
       "      <td>2537</td>\n",
       "    </tr>\n",
       "  </tbody>\n",
       "</table>\n",
       "</div>"
      ],
      "text/plain": [
       "        uid\n",
       "expid      \n",
       "con1   2484\n",
       "con2   2517\n",
       "test   2537"
      ]
     },
     "execution_count": 52,
     "metadata": {},
     "output_type": "execute_result"
    }
   ],
   "source": [
    "new_data.groupby('expid').agg({'uid':'nunique'})"
   ]
  },
  {
   "cell_type": "markdown",
   "metadata": {},
   "source": [
    " - **See if there is a statistically significant difference between samples 246 and 247.**"
   ]
  },
  {
   "cell_type": "code",
   "execution_count": 53,
   "metadata": {
    "scrolled": true
   },
   "outputs": [
    {
     "data": {
      "text/html": [
       "<div>\n",
       "<style scoped>\n",
       "    .dataframe tbody tr th:only-of-type {\n",
       "        vertical-align: middle;\n",
       "    }\n",
       "\n",
       "    .dataframe tbody tr th {\n",
       "        vertical-align: top;\n",
       "    }\n",
       "\n",
       "    .dataframe thead th {\n",
       "        text-align: right;\n",
       "    }\n",
       "</style>\n",
       "<table border=\"1\" class=\"dataframe\">\n",
       "  <thead>\n",
       "    <tr style=\"text-align: right;\">\n",
       "      <th>expid</th>\n",
       "      <th>event</th>\n",
       "      <th>con1</th>\n",
       "      <th>con2</th>\n",
       "      <th>test</th>\n",
       "    </tr>\n",
       "  </thead>\n",
       "  <tbody>\n",
       "    <tr>\n",
       "      <th>1</th>\n",
       "      <td>MainScreenAppear</td>\n",
       "      <td>2450</td>\n",
       "      <td>2479</td>\n",
       "      <td>2494</td>\n",
       "    </tr>\n",
       "    <tr>\n",
       "      <th>2</th>\n",
       "      <td>OffersScreenAppear</td>\n",
       "      <td>1542</td>\n",
       "      <td>1522</td>\n",
       "      <td>1531</td>\n",
       "    </tr>\n",
       "    <tr>\n",
       "      <th>0</th>\n",
       "      <td>CartScreenAppear</td>\n",
       "      <td>1266</td>\n",
       "      <td>1239</td>\n",
       "      <td>1230</td>\n",
       "    </tr>\n",
       "    <tr>\n",
       "      <th>3</th>\n",
       "      <td>PaymentScreenSuccessful</td>\n",
       "      <td>1200</td>\n",
       "      <td>1158</td>\n",
       "      <td>1181</td>\n",
       "    </tr>\n",
       "    <tr>\n",
       "      <th>4</th>\n",
       "      <td>Tutorial</td>\n",
       "      <td>278</td>\n",
       "      <td>283</td>\n",
       "      <td>280</td>\n",
       "    </tr>\n",
       "  </tbody>\n",
       "</table>\n",
       "</div>"
      ],
      "text/plain": [
       "expid                    event  con1  con2  test\n",
       "1             MainScreenAppear  2450  2479  2494\n",
       "2           OffersScreenAppear  1542  1522  1531\n",
       "0             CartScreenAppear  1266  1239  1230\n",
       "3      PaymentScreenSuccessful  1200  1158  1181\n",
       "4                     Tutorial   278   283   280"
      ]
     },
     "execution_count": 53,
     "metadata": {},
     "output_type": "execute_result"
    }
   ],
   "source": [
    "pivot = new_data.pivot_table(index='event', values='uid', columns='expid', aggfunc=lambda x: x.nunique()).reset_index().sort_values('con1', ascending=False)\n",
    "pivot"
   ]
  },
  {
   "cell_type": "code",
   "execution_count": 54,
   "metadata": {},
   "outputs": [
    {
     "data": {
      "image/png": "[encoded data removed]"
     },
     "metadata": {},
     "output_type": "display_data"
    }
   ],
   "source": [
    "fig = go.Figure()\n",
    "fig.add_trace(go.Funnel(x=pivot['con1'], y=pivot.event, name = '246'))\n",
    "fig.add_trace(go.Funnel(x=pivot['con2'], y=pivot.event, name = '247'))\n",
    "fig.add_trace(go.Funnel(x=pivot['test'], y=pivot.event, name = '248'))\n",
    "fig.update_layout( title=\"Conversion Funnel\")\n",
    "fig.show(\"png\")"
   ]
  },
  {
   "cell_type": "code",
   "execution_count": 55,
   "metadata": {},
   "outputs": [],
   "source": [
    "def check_hypothesis(group1,group2, event, alpha=0.05):\n",
    "    #let's start with successes, using \n",
    "    successes1=pivot[pivot.event==event][group1].iloc[0]\n",
    "    successes2=pivot[pivot.event==event][group2].iloc[0]\n",
    "    \n",
    "    #for trials we can go back to original df or used a pre-aggregated data\n",
    "    trials1=new_data[new_data.expid==group1]['uid'].nunique()\n",
    "    trials2=new_data[new_data.expid==group2]['uid'].nunique()\n",
    "    \n",
    "    #proportion for success in the first group\n",
    "    p1 = successes1/trials1\n",
    "\n",
    "   #proportion for success in the second group\n",
    "    p2 = successes2/trials2\n",
    "\n",
    "    # proportion in a combined dataset\n",
    "    p_combined = (successes1 + successes2) / (trials1 + trials2)\n",
    "\n",
    "  \n",
    "    difference = p1 - p2\n",
    "    \n",
    "    \n",
    "    z_value = difference / math.sqrt(p_combined * (1 - p_combined) * (1/trials1 + 1/trials2))\n",
    "\n",
    "  \n",
    "    distr = stats.norm(0, 1) \n",
    "\n",
    "\n",
    "    p_value = (1 - distr.cdf(abs(z_value))) * 2\n",
    "\n",
    "    print('p-value: ', p_value)\n",
    "\n",
    "    if (p_value < alpha):\n",
    "        print(\"Reject H0 for\",event, 'and groups',group1,group2)\n",
    "    else:\n",
    "        print(\"Fail to Reject H0 for\", event,'and groups',group1,group2)  "
   ]
  },
  {
   "cell_type": "markdown",
   "metadata": {},
   "source": [
    "<font color ='blue'>\n",
    "\n",
    "A/A Test: Hypotheses for difference between samples 246 and 247\n",
    "    \n",
    "H0: There isn't a statistically significant difference between samples 246 and 247 for CartScreenAppear.<br>\n",
    "H1: There is a statistically significant difference between samples 246 and 247 for CartScreenAppear.\n",
    "\n",
    "H0: There isn't a statistically significant difference between samples 246 and 247 for for MainScreenAppear.<br>\n",
    "H1: There is a statistically significant difference between samples 246 and 247 for for MainScreenAppear.\n",
    "\n",
    "H0: There isn't a statistically significant difference between samples 246 and 247 for OffersScreenAppear.<br>\n",
    "H1: There is a statistically significant difference between samples 246 and 247 for OffersScreenAppear.\n",
    "\n",
    "H0: There isn't a statistically significant difference between samples 246 and 247 for PaymentScreenSuccessful.<br>\n",
    "H1: There is a statistically significant difference between samples 246 and 247 for PaymentScreenSuccessful.\n",
    "\n",
    "H0: There isn't a statistically significant difference between samples 246 and 247 for Tutorial.<br>\n",
    "H1: There is a statistically significant difference between samples 246 and 247 for Tutorial."
   ]
  },
  {
   "cell_type": "code",
   "execution_count": 56,
   "metadata": {},
   "outputs": [
    {
     "name": "stdout",
     "output_type": "stream",
     "text": [
      "p-value:  0.6756217702005545\n",
      "Fail to Reject H0 for MainScreenAppear and groups con1 con2\n",
      "p-value:  0.24301271796804658\n",
      "Fail to Reject H0 for OffersScreenAppear and groups con1 con2\n",
      "p-value:  0.2182812140633792\n",
      "Fail to Reject H0 for CartScreenAppear and groups con1 con2\n",
      "p-value:  0.10298394982948822\n",
      "Fail to Reject H0 for PaymentScreenSuccessful and groups con1 con2\n",
      "p-value:  0.9536145439962604\n",
      "Fail to Reject H0 for Tutorial and groups con1 con2\n"
     ]
    }
   ],
   "source": [
    "for i in pivot.event.unique():\n",
    "    check_hypothesis('con1','con2', i, alpha=0.05)"
   ]
  },
  {
   "cell_type": "markdown",
   "metadata": {},
   "source": [
    "<font color ='blue'>\n",
    "    \n",
    "A/B Test: Hypotheses for difference between samples 246 and 248\n",
    "    \n",
    "H0: There isn't a statistically significant difference between samples 246 and 248 for CartScreenAppear.  <br> \n",
    "H1: There is a statistically significant difference between samples 246 and 248 for CartScreenAppear.\n",
    "    \n",
    "H0: There isn't a statistically significant difference between samples 246 and 248 for for MainScreenAppear.  <br>  H1: There is a statistically significant difference between samples 246 and 248 for for MainScreenAppear.\n",
    "    \n",
    "H0: There isn't a statistically significant difference between samples 246 and 248 for OffersScreenAppear.   <br> \n",
    "H1: There is a statistically significant difference between samples 246 and 248 for OffersScreenAppear.\n",
    "    \n",
    "H0: There isn't a statistically significant difference between samples 246 and 248 for PaymentScreenSuccessful.  <br> \n",
    "H1: There is a statistically significant difference between samples 246 and 248 for PaymentScreenSuccessful.    \n",
    "    \n",
    "H0: There isn't a statistically significant difference between samples 246 and 248 for Tutorial. <br> \n",
    "H1: There is a statistically significant difference between samples 246 and 248 for Tutorial."
   ]
  },
  {
   "cell_type": "code",
   "execution_count": 57,
   "metadata": {},
   "outputs": [
    {
     "name": "stdout",
     "output_type": "stream",
     "text": [
      "p-value:  0.34705881021236484\n",
      "Fail to Reject H0 for MainScreenAppear and groups con1 test\n",
      "p-value:  0.20836205402738917\n",
      "Fail to Reject H0 for OffersScreenAppear and groups con1 test\n",
      "p-value:  0.07842923237520116\n",
      "Fail to Reject H0 for CartScreenAppear and groups con1 test\n",
      "p-value:  0.2122553275697796\n",
      "Fail to Reject H0 for PaymentScreenSuccessful and groups con1 test\n",
      "p-value:  0.861330427953267\n",
      "Fail to Reject H0 for Tutorial and groups con1 test\n"
     ]
    }
   ],
   "source": [
    "for i in pivot.event.unique():\n",
    "    check_hypothesis('con1','test', i, alpha=0.05)"
   ]
  },
  {
   "cell_type": "markdown",
   "metadata": {},
   "source": [
    "<font color ='blue'>\n",
    "\n",
    "H0 wouldn't be rejected at any stage. There aren't statistically significant difference between samples group 246 and 248.     "
   ]
  },
  {
   "cell_type": "markdown",
   "metadata": {},
   "source": [
    "<font color ='blue'>\n",
    "A/B Test: Hypotheses for difference between samples 247 and 248:\n",
    "    \n",
    "H0: There isn't a statistically significant difference between samples 247 and 248 for CartScreenAppear.   \n",
    "H1: There is a statistically significant difference between samples 247 and 248 for CartScreenAppear.\n",
    "    \n",
    "H0: There isn't a statistically significant difference between samples 247 and 248 for for MainScreenAppear.    \n",
    "H1: There is a statistically significant difference between samples 247 and 248 for for MainScreenAppear.\n",
    "    \n",
    "H0: There isn't a statistically significant difference between samples 247 and 248 for OffersScreenAppear.    \n",
    "H1: There is a statistically significant difference between samples 247 and 248 for OffersScreenAppear.\n",
    "    \n",
    "H0: There isn't a statistically significant difference between samples 247 and 248 for PaymentScreenSuccessful.   \n",
    "H1: There is a statistically significant difference between samples 247 and 248 for PaymentScreenSuccessful.    \n",
    "    \n",
    "H0: There isn't a statistically significant difference between samples 247 and 248 for Tutorial.   \n",
    "H1: There is a statistically significant difference between samples 247 and 248 for Tutorial."
   ]
  },
  {
   "cell_type": "code",
   "execution_count": 58,
   "metadata": {},
   "outputs": [
    {
     "name": "stdout",
     "output_type": "stream",
     "text": [
      "p-value:  0.6001661582453706\n",
      "Fail to Reject H0 for MainScreenAppear and groups con2 test\n",
      "p-value:  0.9293730042460788\n",
      "Fail to Reject H0 for OffersScreenAppear and groups con2 test\n",
      "p-value:  0.5973544899382834\n",
      "Fail to Reject H0 for CartScreenAppear and groups con2 test\n",
      "p-value:  0.6982134522789267\n",
      "Fail to Reject H0 for PaymentScreenSuccessful and groups con2 test\n",
      "p-value:  0.8151898803603024\n",
      "Fail to Reject H0 for Tutorial and groups con2 test\n"
     ]
    }
   ],
   "source": [
    "for i in pivot.event.unique():\n",
    "    check_hypothesis('con2','test', i, alpha=0.05)"
   ]
  },
  {
   "cell_type": "markdown",
   "metadata": {},
   "source": [
    "<font color ='blue'>\n",
    "\n",
    "H0 wouldn't be rejected at any stage. There aren't statistically significant difference between samples group 247 and 248.     "
   ]
  },
  {
   "cell_type": "code",
   "execution_count": 59,
   "metadata": {},
   "outputs": [],
   "source": [
    "Dic={'con1':'con1', 'con2':'con1', 'test':'test'}\n",
    "new_data['expid2']=new_data['expid'].map(Dic)"
   ]
  },
  {
   "cell_type": "code",
   "execution_count": 60,
   "metadata": {},
   "outputs": [
    {
     "data": {
      "text/html": [
       "<div>\n",
       "<style scoped>\n",
       "    .dataframe tbody tr th:only-of-type {\n",
       "        vertical-align: middle;\n",
       "    }\n",
       "\n",
       "    .dataframe tbody tr th {\n",
       "        vertical-align: top;\n",
       "    }\n",
       "\n",
       "    .dataframe thead th {\n",
       "        text-align: right;\n",
       "    }\n",
       "</style>\n",
       "<table border=\"1\" class=\"dataframe\">\n",
       "  <thead>\n",
       "    <tr style=\"text-align: right;\">\n",
       "      <th></th>\n",
       "      <th>uid</th>\n",
       "    </tr>\n",
       "    <tr>\n",
       "      <th>expid2</th>\n",
       "      <th></th>\n",
       "    </tr>\n",
       "  </thead>\n",
       "  <tbody>\n",
       "    <tr>\n",
       "      <th>con1</th>\n",
       "      <td>5001</td>\n",
       "    </tr>\n",
       "    <tr>\n",
       "      <th>test</th>\n",
       "      <td>2537</td>\n",
       "    </tr>\n",
       "  </tbody>\n",
       "</table>\n",
       "</div>"
      ],
      "text/plain": [
       "         uid\n",
       "expid2      \n",
       "con1    5001\n",
       "test    2537"
      ]
     },
     "execution_count": 60,
     "metadata": {},
     "output_type": "execute_result"
    }
   ],
   "source": [
    "new_data.groupby('expid2').agg({'uid':'nunique'})"
   ]
  },
  {
   "cell_type": "code",
   "execution_count": 61,
   "metadata": {},
   "outputs": [
    {
     "data": {
      "text/html": [
       "<div>\n",
       "<style scoped>\n",
       "    .dataframe tbody tr th:only-of-type {\n",
       "        vertical-align: middle;\n",
       "    }\n",
       "\n",
       "    .dataframe tbody tr th {\n",
       "        vertical-align: top;\n",
       "    }\n",
       "\n",
       "    .dataframe thead th {\n",
       "        text-align: right;\n",
       "    }\n",
       "</style>\n",
       "<table border=\"1\" class=\"dataframe\">\n",
       "  <thead>\n",
       "    <tr style=\"text-align: right;\">\n",
       "      <th></th>\n",
       "      <th>event</th>\n",
       "      <th>uid</th>\n",
       "      <th>time</th>\n",
       "      <th>expid</th>\n",
       "      <th>date</th>\n",
       "      <th>expid2</th>\n",
       "    </tr>\n",
       "  </thead>\n",
       "  <tbody>\n",
       "    <tr>\n",
       "      <th>2415</th>\n",
       "      <td>MainScreenAppear</td>\n",
       "      <td>3957232200565023322</td>\n",
       "      <td>2019-08-01 00:00:12</td>\n",
       "      <td>con1</td>\n",
       "      <td>2019-08-01</td>\n",
       "      <td>con1</td>\n",
       "    </tr>\n",
       "    <tr>\n",
       "      <th>2416</th>\n",
       "      <td>OffersScreenAppear</td>\n",
       "      <td>3957232200565023322</td>\n",
       "      <td>2019-08-01 00:00:17</td>\n",
       "      <td>con1</td>\n",
       "      <td>2019-08-01</td>\n",
       "      <td>con1</td>\n",
       "    </tr>\n",
       "    <tr>\n",
       "      <th>2417</th>\n",
       "      <td>MainScreenAppear</td>\n",
       "      <td>4933689529142781210</td>\n",
       "      <td>2019-08-01 00:00:29</td>\n",
       "      <td>con1</td>\n",
       "      <td>2019-08-01</td>\n",
       "      <td>con1</td>\n",
       "    </tr>\n",
       "    <tr>\n",
       "      <th>2418</th>\n",
       "      <td>MainScreenAppear</td>\n",
       "      <td>1802682376349807053</td>\n",
       "      <td>2019-08-01 00:00:33</td>\n",
       "      <td>test</td>\n",
       "      <td>2019-08-01</td>\n",
       "      <td>test</td>\n",
       "    </tr>\n",
       "    <tr>\n",
       "      <th>2419</th>\n",
       "      <td>MainScreenAppear</td>\n",
       "      <td>2011152258955517776</td>\n",
       "      <td>2019-08-01 00:00:42</td>\n",
       "      <td>con2</td>\n",
       "      <td>2019-08-01</td>\n",
       "      <td>con1</td>\n",
       "    </tr>\n",
       "  </tbody>\n",
       "</table>\n",
       "</div>"
      ],
      "text/plain": [
       "                   event                  uid                time expid  \\\n",
       "2415    MainScreenAppear  3957232200565023322 2019-08-01 00:00:12  con1   \n",
       "2416  OffersScreenAppear  3957232200565023322 2019-08-01 00:00:17  con1   \n",
       "2417    MainScreenAppear  4933689529142781210 2019-08-01 00:00:29  con1   \n",
       "2418    MainScreenAppear  1802682376349807053 2019-08-01 00:00:33  test   \n",
       "2419    MainScreenAppear  2011152258955517776 2019-08-01 00:00:42  con2   \n",
       "\n",
       "           date expid2  \n",
       "2415 2019-08-01   con1  \n",
       "2416 2019-08-01   con1  \n",
       "2417 2019-08-01   con1  \n",
       "2418 2019-08-01   test  \n",
       "2419 2019-08-01   con1  "
      ]
     },
     "execution_count": 61,
     "metadata": {},
     "output_type": "execute_result"
    }
   ],
   "source": [
    "new_data.head()"
   ]
  },
  {
   "cell_type": "code",
   "execution_count": 62,
   "metadata": {},
   "outputs": [
    {
     "data": {
      "text/html": [
       "<div>\n",
       "<style scoped>\n",
       "    .dataframe tbody tr th:only-of-type {\n",
       "        vertical-align: middle;\n",
       "    }\n",
       "\n",
       "    .dataframe tbody tr th {\n",
       "        vertical-align: top;\n",
       "    }\n",
       "\n",
       "    .dataframe thead th {\n",
       "        text-align: right;\n",
       "    }\n",
       "</style>\n",
       "<table border=\"1\" class=\"dataframe\">\n",
       "  <thead>\n",
       "    <tr style=\"text-align: right;\">\n",
       "      <th>expid2</th>\n",
       "      <th>event</th>\n",
       "      <th>con1</th>\n",
       "      <th>test</th>\n",
       "    </tr>\n",
       "  </thead>\n",
       "  <tbody>\n",
       "    <tr>\n",
       "      <th>1</th>\n",
       "      <td>MainScreenAppear</td>\n",
       "      <td>4929</td>\n",
       "      <td>2494</td>\n",
       "    </tr>\n",
       "    <tr>\n",
       "      <th>2</th>\n",
       "      <td>OffersScreenAppear</td>\n",
       "      <td>3064</td>\n",
       "      <td>1531</td>\n",
       "    </tr>\n",
       "    <tr>\n",
       "      <th>0</th>\n",
       "      <td>CartScreenAppear</td>\n",
       "      <td>2505</td>\n",
       "      <td>1230</td>\n",
       "    </tr>\n",
       "    <tr>\n",
       "      <th>3</th>\n",
       "      <td>PaymentScreenSuccessful</td>\n",
       "      <td>2358</td>\n",
       "      <td>1181</td>\n",
       "    </tr>\n",
       "    <tr>\n",
       "      <th>4</th>\n",
       "      <td>Tutorial</td>\n",
       "      <td>561</td>\n",
       "      <td>280</td>\n",
       "    </tr>\n",
       "  </tbody>\n",
       "</table>\n",
       "</div>"
      ],
      "text/plain": [
       "expid2                    event  con1  test\n",
       "1              MainScreenAppear  4929  2494\n",
       "2            OffersScreenAppear  3064  1531\n",
       "0              CartScreenAppear  2505  1230\n",
       "3       PaymentScreenSuccessful  2358  1181\n",
       "4                      Tutorial   561   280"
      ]
     },
     "execution_count": 62,
     "metadata": {},
     "output_type": "execute_result"
    }
   ],
   "source": [
    "pivot2=new_data.pivot_table(index='event', values='uid', columns='expid2', aggfunc='nunique').reset_index().sort_values('con1', ascending=False)\n",
    "pivot2"
   ]
  },
  {
   "cell_type": "code",
   "execution_count": 63,
   "metadata": {},
   "outputs": [],
   "source": [
    "def check_hypothesis2(group1,group2, event, alpha=0.05):\n",
    "    #let's start with successes, using \n",
    "    successes1=pivot2[pivot2.event==event][group1].iloc[0]\n",
    "    successes2=pivot2[pivot2.event==event][group2].iloc[0]\n",
    "    \n",
    "    #for trials we can go back to original df or used a pre-aggregated data\n",
    "    trials1=new_data[new_data.expid2==group1]['uid'].nunique()\n",
    "    trials2=new_data[new_data.expid2==group2]['uid'].nunique()\n",
    "    \n",
    "    #proportion for success in the first group\n",
    "    p1 = successes1/trials1\n",
    "\n",
    "   #proportion for success in the second group\n",
    "    p2 = successes2/trials2\n",
    "\n",
    "    # proportion in a combined dataset\n",
    "    p_combined = (successes1 + successes2) / (trials1 + trials2)\n",
    "\n",
    "  \n",
    "    difference = p1 - p2\n",
    "    \n",
    "    \n",
    "    z_value = difference / math.sqrt(p_combined * (1 - p_combined) * (1/trials1 + 1/trials2))\n",
    "\n",
    "  \n",
    "    distr = stats.norm(0, 1) \n",
    "\n",
    "\n",
    "    p_value = (1 - distr.cdf(abs(z_value))) * 2\n",
    "\n",
    "    print('p-value: ', p_value)\n",
    "\n",
    "    if (p_value < alpha):\n",
    "        print(\"Reject H0 for\",event, 'and groups',group1,group2)\n",
    "    else:\n",
    "        print(\"Fail to Reject H0 for\", event,'and groups',group1,group2)  "
   ]
  },
  {
   "cell_type": "markdown",
   "metadata": {},
   "source": [
    "<font color ='blue'>\n",
    "A/B Test: Hypotheses for difference between samples 246-247(combined) and 248:\n",
    "    \n",
    "H0: There isn't a statistically significant difference between samples 246-247(combined) and 248 for CartScreenAppear.   \n",
    "H1: There is a statistically significant difference between samples 246-247(combined) and 248 for CartScreenAppear.\n",
    "    \n",
    "H0: There isn't a statistically significant difference between samples 246-247(combined) and 248 for for MainScreenAppear.    \n",
    "H1: There is a statistically significant difference between samples 246-247(combined) and 248 for for MainScreenAppear.\n",
    "    \n",
    "H0: There isn't a statistically significant difference between samples 246-247(combined) and 248 for OffersScreenAppear.    \n",
    "H1: There is a statistically significant difference between samples 246-247(combined) and 248 for OffersScreenAppear.\n",
    "    \n",
    "H0: There isn't a statistically significant difference between samples 246-247(combined) and 248 for PaymentScreenSuccessful.   \n",
    "H1: There is a statistically significant difference between samples 246-247(combined) and 248 for PaymentScreenSuccessful.    \n",
    "    \n",
    "H0: There isn't a statistically significant difference between samples 246-247(combined) and 248 for Tutorial.   \n",
    "H1: There is a statistically significant difference between samples 246-247(combined) and 248 for Tutorial."
   ]
  },
  {
   "cell_type": "code",
   "execution_count": 64,
   "metadata": {},
   "outputs": [
    {
     "name": "stdout",
     "output_type": "stream",
     "text": [
      "p-value:  0.39298914928006035\n",
      "Fail to Reject H0 for MainScreenAppear and groups con1 test\n",
      "p-value:  0.4386768167991866\n",
      "Fail to Reject H0 for OffersScreenAppear and groups con1 test\n",
      "p-value:  0.18714829717090664\n",
      "Fail to Reject H0 for CartScreenAppear and groups con1 test\n",
      "p-value:  0.6221237660987535\n",
      "Fail to Reject H0 for PaymentScreenSuccessful and groups con1 test\n",
      "p-value:  0.813440015718357\n",
      "Fail to Reject H0 for Tutorial and groups con1 test\n"
     ]
    }
   ],
   "source": [
    "for i in pivot2.event.unique():\n",
    "    check_hypothesis2('con1','test' ,i, alpha=0.05)"
   ]
  },
  {
   "cell_type": "markdown",
   "metadata": {},
   "source": [
    "<font color ='blue'>\n",
    "    \n",
    "H0 wouldn't be rejected at any stage. There aren't statistically significant difference between samples group 246-247(combined) and 248. "
   ]
  },
  {
   "cell_type": "markdown",
   "metadata": {},
   "source": [
    "<font color ='blue'>\n",
    "    \n",
    "We made 10 Hypotheses for the A/B tests. We have to correct the significance level by Bonferroni procedure and the significance level of each test will be 0.05 / 10 = 0.005. We run through the previous steps again.   "
   ]
  },
  {
   "cell_type": "code",
   "execution_count": 65,
   "metadata": {},
   "outputs": [],
   "source": [
    "alpha=0.05/10"
   ]
  },
  {
   "cell_type": "code",
   "execution_count": 66,
   "metadata": {},
   "outputs": [
    {
     "name": "stdout",
     "output_type": "stream",
     "text": [
      "p-value:  0.34705881021236484\n",
      "Fail to Reject H0 for MainScreenAppear and groups con1 test\n",
      "p-value:  0.20836205402738917\n",
      "Fail to Reject H0 for OffersScreenAppear and groups con1 test\n",
      "p-value:  0.07842923237520116\n",
      "Fail to Reject H0 for CartScreenAppear and groups con1 test\n",
      "p-value:  0.2122553275697796\n",
      "Fail to Reject H0 for PaymentScreenSuccessful and groups con1 test\n",
      "p-value:  0.861330427953267\n",
      "Fail to Reject H0 for Tutorial and groups con1 test\n"
     ]
    }
   ],
   "source": [
    "for i in pivot.event.unique():\n",
    "    check_hypothesis('con1','test', i, alpha=0.005)"
   ]
  },
  {
   "cell_type": "markdown",
   "metadata": {},
   "source": [
    "<font color ='blue'>\n",
    "\n",
    "H0 wouldn't be rejected at any stage. There aren't statistically significant difference between samples group 246 and 248.  "
   ]
  },
  {
   "cell_type": "code",
   "execution_count": 67,
   "metadata": {},
   "outputs": [
    {
     "name": "stdout",
     "output_type": "stream",
     "text": [
      "p-value:  0.6001661582453706\n",
      "Fail to Reject H0 for MainScreenAppear and groups con2 test\n",
      "p-value:  0.9293730042460788\n",
      "Fail to Reject H0 for OffersScreenAppear and groups con2 test\n",
      "p-value:  0.5973544899382834\n",
      "Fail to Reject H0 for CartScreenAppear and groups con2 test\n",
      "p-value:  0.6982134522789267\n",
      "Fail to Reject H0 for PaymentScreenSuccessful and groups con2 test\n",
      "p-value:  0.8151898803603024\n",
      "Fail to Reject H0 for Tutorial and groups con2 test\n"
     ]
    }
   ],
   "source": [
    "for i in pivot.event.unique():\n",
    "    check_hypothesis('con2','test', i, alpha=0.005)"
   ]
  },
  {
   "cell_type": "markdown",
   "metadata": {},
   "source": [
    "<font color ='blue'>\n",
    "    \n",
    "H0 wouldn't be rejected at any stage. There aren't statistically significant difference between samples group 247 and 248.     "
   ]
  },
  {
   "cell_type": "markdown",
   "metadata": {},
   "source": [
    "## step 6: Overall Conclusion"
   ]
  },
  {
   "cell_type": "markdown",
   "metadata": {},
   "source": [
    "<font color=\"blue\">\n",
    "    \n",
    "### [Goal](#goal)\n",
    "    \n",
    "Investigating user behavior for a food company's app.    \n",
    "study the sales funnel and look at the results of an A/A/B test.(changing the fonts for the entire app)\n",
    "    \n",
    "    \n",
    "### [Study the event funnel](#funnel)\n",
    "  - At stage 'OffersScreenAppear' we lose the most users(40%). \n",
    "  - 60% of users who come to the main page also go to the order page.\n",
    "  - 46% of users make the entire journey from their first event to payment. \n",
    "\n",
    "### [Study the results of the experiment](#experiment)\n",
    "  - A/A tests: There aren't statistically significant difference between control groups (246,247)    at any stages.    \n",
    "  - A/B test1: There aren't statistically significant difference between samples(246,248) at any stages.  \n",
    "  - A/B test2: There aren't statistically significant difference between samples(247,248) at any stages. \n",
    "  - There aren't statistically significant difference between samples(246,258 and 247,248) at any stages also after correcting the alpha.\n",
    "    \n",
    "### Final Conclusion and Suggestions  \n",
    "    \n",
    "Changing the application's font did not cause a significant difference between the test group and the control groups. Therefore, the test is not successful and changing the font is not effective in the conversion. So it is not recommended. "
   ]
  }
 ],
 "metadata": {
  "kernelspec": {
   "display_name": "Python 3",
   "language": "python",
   "name": "python3"
  },
  "language_info": {
   "codemirror_mode": {
    "name": "ipython",
    "version": 3
   },
   "file_extension": ".py",
   "mimetype": "text/x-python",
   "name": "python",
   "nbconvert_exporter": "python",
   "pygments_lexer": "ipython3",
   "version": "3.8.5"
  },
  "toc": {
   "base_numbering": 1,
   "nav_menu": {},
   "number_sections": true,
   "sideBar": true,
   "skip_h1_title": true,
   "title_cell": "Table of Contents",
   "title_sidebar": "Contents",
   "toc_cell": false,
   "toc_position": {},
   "toc_section_display": true,
   "toc_window_display": false
  }
 },
 "nbformat": 4,
 "nbformat_minor": 2
}
