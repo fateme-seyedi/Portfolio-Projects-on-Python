{
 "cells": [
  {
   "cell_type": "markdown",
   "metadata": {},
   "source": [
    "<a id=\"goal\"></a>\n",
    "## Project Description and Goal"
   ]
  },
  {
   "cell_type": "markdown",
   "metadata": {},
   "source": [
    "We have the data for the online store Ice, which sells video games all over the world. User and expert reviews, genres, platforms (e.g. Xbox or PlayStation), and historical data on game sales are available from open sources. We need to identify patterns that determine whether a game succeeds or not. This will allow us to spot potential big winners and plan advertising campaigns."
   ]
  },
  {
   "cell_type": "markdown",
   "metadata": {},
   "source": [
    "## Step 1. Open the data file and study the general information. "
   ]
  },
  {
   "cell_type": "code",
   "execution_count": 1,
   "metadata": {},
   "outputs": [],
   "source": [
    "import pandas as pd\n",
    "import matplotlib.pyplot as plt \n",
    "import seaborn as sns\n",
    "import sys\n",
    "import warnings\n",
    "from scipy.stats import shapiro\n",
    "from scipy.stats import mannwhitneyu\n",
    "import numpy as np\n",
    "from scipy import stats as st"
   ]
  },
  {
   "cell_type": "code",
   "execution_count": 2,
   "metadata": {},
   "outputs": [
    {
     "name": "stdout",
     "output_type": "stream",
     "text": [
      "Requirement already satisfied: squarify in c:\\anaconda\\lib\\site-packages (0.4.3)\n"
     ]
    }
   ],
   "source": [
    "!pip install squarify\n",
    "import squarify "
   ]
  },
  {
   "cell_type": "code",
   "execution_count": 3,
   "metadata": {},
   "outputs": [
    {
     "name": "stdout",
     "output_type": "stream",
     "text": [
      "Requirement already satisfied: joypy in c:\\anaconda\\lib\\site-packages (0.2.5)\n",
      "Requirement already satisfied: numpy>=1.16.5 in c:\\anaconda\\lib\\site-packages (from joypy) (1.19.2)\n",
      "Requirement already satisfied: scipy>=0.11.0 in c:\\anaconda\\lib\\site-packages (from joypy) (1.5.2)\n",
      "Requirement already satisfied: matplotlib in c:\\anaconda\\lib\\site-packages (from joypy) (3.3.2)\n",
      "Requirement already satisfied: pandas>=0.20.0 in c:\\anaconda\\lib\\site-packages (from joypy) (1.1.3)\n",
      "Requirement already satisfied: certifi>=2020.06.20 in c:\\anaconda\\lib\\site-packages (from matplotlib->joypy) (2020.6.20)\n",
      "Requirement already satisfied: pyparsing!=2.0.4,!=2.1.2,!=2.1.6,>=2.0.3 in c:\\anaconda\\lib\\site-packages (from matplotlib->joypy) (2.4.7)\n",
      "Requirement already satisfied: python-dateutil>=2.1 in c:\\anaconda\\lib\\site-packages (from matplotlib->joypy) (2.8.1)\n",
      "Requirement already satisfied: pillow>=6.2.0 in c:\\anaconda\\lib\\site-packages (from matplotlib->joypy) (8.0.1)\n",
      "Requirement already satisfied: kiwisolver>=1.0.1 in c:\\anaconda\\lib\\site-packages (from matplotlib->joypy) (1.3.0)\n",
      "Requirement already satisfied: cycler>=0.10 in c:\\anaconda\\lib\\site-packages (from matplotlib->joypy) (0.10.0)\n",
      "Requirement already satisfied: pytz>=2017.2 in c:\\anaconda\\lib\\site-packages (from pandas>=0.20.0->joypy) (2020.1)\n",
      "Requirement already satisfied: six>=1.5 in c:\\anaconda\\lib\\site-packages (from python-dateutil>=2.1->matplotlib->joypy) (1.15.0)\n"
     ]
    }
   ],
   "source": [
    "!pip install joypy\n",
    "from joypy import joyplot"
   ]
  },
  {
   "cell_type": "code",
   "execution_count": 4,
   "metadata": {},
   "outputs": [],
   "source": [
    "if not sys.warnoptions:\n",
    "       warnings.simplefilter(\"ignore\")"
   ]
  },
  {
   "cell_type": "code",
   "execution_count": 5,
   "metadata": {
    "scrolled": true
   },
   "outputs": [
    {
     "data": {
      "text/html": [
       "<div>\n",
       "<style scoped>\n",
       "    .dataframe tbody tr th:only-of-type {\n",
       "        vertical-align: middle;\n",
       "    }\n",
       "\n",
       "    .dataframe tbody tr th {\n",
       "        vertical-align: top;\n",
       "    }\n",
       "\n",
       "    .dataframe thead th {\n",
       "        text-align: right;\n",
       "    }\n",
       "</style>\n",
       "<table border=\"1\" class=\"dataframe\">\n",
       "  <thead>\n",
       "    <tr style=\"text-align: right;\">\n",
       "      <th></th>\n",
       "      <th>Name</th>\n",
       "      <th>Platform</th>\n",
       "      <th>Year_of_Release</th>\n",
       "      <th>Genre</th>\n",
       "      <th>NA_sales</th>\n",
       "      <th>EU_sales</th>\n",
       "      <th>JP_sales</th>\n",
       "      <th>Other_sales</th>\n",
       "      <th>Critic_Score</th>\n",
       "      <th>User_Score</th>\n",
       "      <th>Rating</th>\n",
       "    </tr>\n",
       "  </thead>\n",
       "  <tbody>\n",
       "    <tr>\n",
       "      <th>0</th>\n",
       "      <td>Wii Sports</td>\n",
       "      <td>Wii</td>\n",
       "      <td>2006.0</td>\n",
       "      <td>Sports</td>\n",
       "      <td>41.36</td>\n",
       "      <td>28.96</td>\n",
       "      <td>3.77</td>\n",
       "      <td>8.45</td>\n",
       "      <td>76.0</td>\n",
       "      <td>8</td>\n",
       "      <td>E</td>\n",
       "    </tr>\n",
       "    <tr>\n",
       "      <th>1</th>\n",
       "      <td>Super Mario Bros.</td>\n",
       "      <td>NES</td>\n",
       "      <td>1985.0</td>\n",
       "      <td>Platform</td>\n",
       "      <td>29.08</td>\n",
       "      <td>3.58</td>\n",
       "      <td>6.81</td>\n",
       "      <td>0.77</td>\n",
       "      <td>NaN</td>\n",
       "      <td>NaN</td>\n",
       "      <td>NaN</td>\n",
       "    </tr>\n",
       "    <tr>\n",
       "      <th>2</th>\n",
       "      <td>Mario Kart Wii</td>\n",
       "      <td>Wii</td>\n",
       "      <td>2008.0</td>\n",
       "      <td>Racing</td>\n",
       "      <td>15.68</td>\n",
       "      <td>12.76</td>\n",
       "      <td>3.79</td>\n",
       "      <td>3.29</td>\n",
       "      <td>82.0</td>\n",
       "      <td>8.3</td>\n",
       "      <td>E</td>\n",
       "    </tr>\n",
       "    <tr>\n",
       "      <th>3</th>\n",
       "      <td>Wii Sports Resort</td>\n",
       "      <td>Wii</td>\n",
       "      <td>2009.0</td>\n",
       "      <td>Sports</td>\n",
       "      <td>15.61</td>\n",
       "      <td>10.93</td>\n",
       "      <td>3.28</td>\n",
       "      <td>2.95</td>\n",
       "      <td>80.0</td>\n",
       "      <td>8</td>\n",
       "      <td>E</td>\n",
       "    </tr>\n",
       "    <tr>\n",
       "      <th>4</th>\n",
       "      <td>Pokemon Red/Pokemon Blue</td>\n",
       "      <td>GB</td>\n",
       "      <td>1996.0</td>\n",
       "      <td>Role-Playing</td>\n",
       "      <td>11.27</td>\n",
       "      <td>8.89</td>\n",
       "      <td>10.22</td>\n",
       "      <td>1.00</td>\n",
       "      <td>NaN</td>\n",
       "      <td>NaN</td>\n",
       "      <td>NaN</td>\n",
       "    </tr>\n",
       "  </tbody>\n",
       "</table>\n",
       "</div>"
      ],
      "text/plain": [
       "                       Name Platform  Year_of_Release         Genre  NA_sales  \\\n",
       "0                Wii Sports      Wii           2006.0        Sports     41.36   \n",
       "1         Super Mario Bros.      NES           1985.0      Platform     29.08   \n",
       "2            Mario Kart Wii      Wii           2008.0        Racing     15.68   \n",
       "3         Wii Sports Resort      Wii           2009.0        Sports     15.61   \n",
       "4  Pokemon Red/Pokemon Blue       GB           1996.0  Role-Playing     11.27   \n",
       "\n",
       "   EU_sales  JP_sales  Other_sales  Critic_Score User_Score Rating  \n",
       "0     28.96      3.77         8.45          76.0          8      E  \n",
       "1      3.58      6.81         0.77           NaN        NaN    NaN  \n",
       "2     12.76      3.79         3.29          82.0        8.3      E  \n",
       "3     10.93      3.28         2.95          80.0          8      E  \n",
       "4      8.89     10.22         1.00           NaN        NaN    NaN  "
      ]
     },
     "execution_count": 5,
     "metadata": {},
     "output_type": "execute_result"
    }
   ],
   "source": [
    "data.head(5)"
   ]
  },
  {
   "cell_type": "code",
   "execution_count": 6,
   "metadata": {},
   "outputs": [
    {
     "name": "stdout",
     "output_type": "stream",
     "text": [
      "<class 'pandas.core.frame.DataFrame'>\n",
      "RangeIndex: 16715 entries, 0 to 16714\n",
      "Data columns (total 11 columns):\n",
      " #   Column           Non-Null Count  Dtype  \n",
      "---  ------           --------------  -----  \n",
      " 0   Name             16713 non-null  object \n",
      " 1   Platform         16715 non-null  object \n",
      " 2   Year_of_Release  16446 non-null  float64\n",
      " 3   Genre            16713 non-null  object \n",
      " 4   NA_sales         16715 non-null  float64\n",
      " 5   EU_sales         16715 non-null  float64\n",
      " 6   JP_sales         16715 non-null  float64\n",
      " 7   Other_sales      16715 non-null  float64\n",
      " 8   Critic_Score     8137 non-null   float64\n",
      " 9   User_Score       10014 non-null  object \n",
      " 10  Rating           9949 non-null   object \n",
      "dtypes: float64(6), object(5)\n",
      "memory usage: 1.4+ MB\n"
     ]
    }
   ],
   "source": [
    "data.info()"
   ]
  },
  {
   "cell_type": "code",
   "execution_count": 7,
   "metadata": {
    "scrolled": false
   },
   "outputs": [
    {
     "data": {
      "text/plain": [
       "Name                  2\n",
       "Platform              0\n",
       "Year_of_Release     269\n",
       "Genre                 2\n",
       "NA_sales              0\n",
       "EU_sales              0\n",
       "JP_sales              0\n",
       "Other_sales           0\n",
       "Critic_Score       8578\n",
       "User_Score         6701\n",
       "Rating             6766\n",
       "dtype: int64"
      ]
     },
     "execution_count": 7,
     "metadata": {},
     "output_type": "execute_result"
    }
   ],
   "source": [
    "data.isnull().sum()"
   ]
  },
  {
   "cell_type": "markdown",
   "metadata": {},
   "source": [
    "## Conclusion"
   ]
  },
  {
   "cell_type": "markdown",
   "metadata": {},
   "source": [
    "<font color=\"blue\">\n",
    "    \n",
    "The data table has 11 columns and 16715 rows.<br> \n",
    "Columns: `Name`, `Year_of_Release`, `Genre` , `Critic_Score`, `User_Score` and `Rating` have missing values."
   ]
  },
  {
   "cell_type": "markdown",
   "metadata": {},
   "source": [
    "<a id=\"pre\"></a>\n",
    "## Step 2. Data preprocessing"
   ]
  },
  {
   "cell_type": "markdown",
   "metadata": {},
   "source": [
    "###  Processing missing values"
   ]
  },
  {
   "cell_type": "code",
   "execution_count": 8,
   "metadata": {},
   "outputs": [],
   "source": [
    "data.columns=data.columns.str.lower()"
   ]
  },
  {
   "cell_type": "code",
   "execution_count": 9,
   "metadata": {
    "scrolled": true
   },
   "outputs": [
    {
     "data": {
      "text/html": [
       "<div>\n",
       "<style scoped>\n",
       "    .dataframe tbody tr th:only-of-type {\n",
       "        vertical-align: middle;\n",
       "    }\n",
       "\n",
       "    .dataframe tbody tr th {\n",
       "        vertical-align: top;\n",
       "    }\n",
       "\n",
       "    .dataframe thead th {\n",
       "        text-align: right;\n",
       "    }\n",
       "</style>\n",
       "<table border=\"1\" class=\"dataframe\">\n",
       "  <thead>\n",
       "    <tr style=\"text-align: right;\">\n",
       "      <th></th>\n",
       "      <th>name</th>\n",
       "      <th>platform</th>\n",
       "      <th>year_of_release</th>\n",
       "      <th>genre</th>\n",
       "      <th>na_sales</th>\n",
       "      <th>eu_sales</th>\n",
       "      <th>jp_sales</th>\n",
       "      <th>other_sales</th>\n",
       "      <th>critic_score</th>\n",
       "      <th>user_score</th>\n",
       "      <th>rating</th>\n",
       "    </tr>\n",
       "  </thead>\n",
       "  <tbody>\n",
       "    <tr>\n",
       "      <th>0</th>\n",
       "      <td>Wii Sports</td>\n",
       "      <td>Wii</td>\n",
       "      <td>2006.0</td>\n",
       "      <td>Sports</td>\n",
       "      <td>41.36</td>\n",
       "      <td>28.96</td>\n",
       "      <td>3.77</td>\n",
       "      <td>8.45</td>\n",
       "      <td>76.0</td>\n",
       "      <td>8</td>\n",
       "      <td>E</td>\n",
       "    </tr>\n",
       "  </tbody>\n",
       "</table>\n",
       "</div>"
      ],
      "text/plain": [
       "         name platform  year_of_release   genre  na_sales  eu_sales  jp_sales  \\\n",
       "0  Wii Sports      Wii           2006.0  Sports     41.36     28.96      3.77   \n",
       "\n",
       "   other_sales  critic_score user_score rating  \n",
       "0         8.45          76.0          8      E  "
      ]
     },
     "execution_count": 9,
     "metadata": {},
     "output_type": "execute_result"
    }
   ],
   "source": [
    "data.head(1)"
   ]
  },
  {
   "cell_type": "code",
   "execution_count": 10,
   "metadata": {
    "scrolled": true
   },
   "outputs": [
    {
     "data": {
      "text/html": [
       "<div>\n",
       "<style scoped>\n",
       "    .dataframe tbody tr th:only-of-type {\n",
       "        vertical-align: middle;\n",
       "    }\n",
       "\n",
       "    .dataframe tbody tr th {\n",
       "        vertical-align: top;\n",
       "    }\n",
       "\n",
       "    .dataframe thead th {\n",
       "        text-align: right;\n",
       "    }\n",
       "</style>\n",
       "<table border=\"1\" class=\"dataframe\">\n",
       "  <thead>\n",
       "    <tr style=\"text-align: right;\">\n",
       "      <th></th>\n",
       "      <th>name</th>\n",
       "      <th>platform</th>\n",
       "      <th>year_of_release</th>\n",
       "      <th>genre</th>\n",
       "      <th>na_sales</th>\n",
       "      <th>eu_sales</th>\n",
       "      <th>jp_sales</th>\n",
       "      <th>other_sales</th>\n",
       "      <th>critic_score</th>\n",
       "      <th>user_score</th>\n",
       "      <th>rating</th>\n",
       "    </tr>\n",
       "  </thead>\n",
       "  <tbody>\n",
       "    <tr>\n",
       "      <th>659</th>\n",
       "      <td>NaN</td>\n",
       "      <td>GEN</td>\n",
       "      <td>1993.0</td>\n",
       "      <td>NaN</td>\n",
       "      <td>1.78</td>\n",
       "      <td>0.53</td>\n",
       "      <td>0.00</td>\n",
       "      <td>0.08</td>\n",
       "      <td>NaN</td>\n",
       "      <td>NaN</td>\n",
       "      <td>NaN</td>\n",
       "    </tr>\n",
       "    <tr>\n",
       "      <th>14244</th>\n",
       "      <td>NaN</td>\n",
       "      <td>GEN</td>\n",
       "      <td>1993.0</td>\n",
       "      <td>NaN</td>\n",
       "      <td>0.00</td>\n",
       "      <td>0.00</td>\n",
       "      <td>0.03</td>\n",
       "      <td>0.00</td>\n",
       "      <td>NaN</td>\n",
       "      <td>NaN</td>\n",
       "      <td>NaN</td>\n",
       "    </tr>\n",
       "  </tbody>\n",
       "</table>\n",
       "</div>"
      ],
      "text/plain": [
       "      name platform  year_of_release genre  na_sales  eu_sales  jp_sales  \\\n",
       "659    NaN      GEN           1993.0   NaN      1.78      0.53      0.00   \n",
       "14244  NaN      GEN           1993.0   NaN      0.00      0.00      0.03   \n",
       "\n",
       "       other_sales  critic_score user_score rating  \n",
       "659           0.08           NaN        NaN    NaN  \n",
       "14244         0.00           NaN        NaN    NaN  "
      ]
     },
     "execution_count": 10,
     "metadata": {},
     "output_type": "execute_result"
    }
   ],
   "source": [
    "data[data['name'].isnull()]"
   ]
  },
  {
   "cell_type": "code",
   "execution_count": 11,
   "metadata": {
    "scrolled": false
   },
   "outputs": [
    {
     "data": {
      "text/plain": [
       "name                  0\n",
       "platform              0\n",
       "year_of_release     269\n",
       "genre                 0\n",
       "na_sales              0\n",
       "eu_sales              0\n",
       "jp_sales              0\n",
       "other_sales           0\n",
       "critic_score       8576\n",
       "user_score         6699\n",
       "rating             6764\n",
       "dtype: int64"
      ]
     },
     "execution_count": 11,
     "metadata": {},
     "output_type": "execute_result"
    }
   ],
   "source": [
    "data.dropna(subset=['name','genre'],inplace=True)\n",
    "data.isnull().sum()"
   ]
  },
  {
   "cell_type": "markdown",
   "metadata": {},
   "source": [
    "<font color=\"blue\">\n",
    "    \n",
    "In the column `name` and `genre` we have only 2 missing values, so we can drop them.\n",
    "    "
   ]
  },
  {
   "cell_type": "code",
   "execution_count": 12,
   "metadata": {
    "scrolled": true
   },
   "outputs": [
    {
     "data": {
      "text/html": [
       "<div>\n",
       "<style scoped>\n",
       "    .dataframe tbody tr th:only-of-type {\n",
       "        vertical-align: middle;\n",
       "    }\n",
       "\n",
       "    .dataframe tbody tr th {\n",
       "        vertical-align: top;\n",
       "    }\n",
       "\n",
       "    .dataframe thead th {\n",
       "        text-align: right;\n",
       "    }\n",
       "</style>\n",
       "<table border=\"1\" class=\"dataframe\">\n",
       "  <thead>\n",
       "    <tr style=\"text-align: right;\">\n",
       "      <th></th>\n",
       "      <th>name</th>\n",
       "      <th>platform</th>\n",
       "      <th>year_of_release</th>\n",
       "      <th>genre</th>\n",
       "      <th>na_sales</th>\n",
       "      <th>eu_sales</th>\n",
       "      <th>jp_sales</th>\n",
       "      <th>other_sales</th>\n",
       "      <th>critic_score</th>\n",
       "      <th>user_score</th>\n",
       "      <th>rating</th>\n",
       "    </tr>\n",
       "  </thead>\n",
       "  <tbody>\n",
       "    <tr>\n",
       "      <th>183</th>\n",
       "      <td>Madden NFL 2004</td>\n",
       "      <td>PS2</td>\n",
       "      <td>NaN</td>\n",
       "      <td>Sports</td>\n",
       "      <td>4.26</td>\n",
       "      <td>0.26</td>\n",
       "      <td>0.01</td>\n",
       "      <td>0.71</td>\n",
       "      <td>94.0</td>\n",
       "      <td>8.5</td>\n",
       "      <td>E</td>\n",
       "    </tr>\n",
       "    <tr>\n",
       "      <th>377</th>\n",
       "      <td>FIFA Soccer 2004</td>\n",
       "      <td>PS2</td>\n",
       "      <td>NaN</td>\n",
       "      <td>Sports</td>\n",
       "      <td>0.59</td>\n",
       "      <td>2.36</td>\n",
       "      <td>0.04</td>\n",
       "      <td>0.51</td>\n",
       "      <td>84.0</td>\n",
       "      <td>6.4</td>\n",
       "      <td>E</td>\n",
       "    </tr>\n",
       "    <tr>\n",
       "      <th>456</th>\n",
       "      <td>LEGO Batman: The Videogame</td>\n",
       "      <td>Wii</td>\n",
       "      <td>NaN</td>\n",
       "      <td>Action</td>\n",
       "      <td>1.80</td>\n",
       "      <td>0.97</td>\n",
       "      <td>0.00</td>\n",
       "      <td>0.29</td>\n",
       "      <td>74.0</td>\n",
       "      <td>7.9</td>\n",
       "      <td>E10+</td>\n",
       "    </tr>\n",
       "    <tr>\n",
       "      <th>475</th>\n",
       "      <td>wwe Smackdown vs. Raw 2006</td>\n",
       "      <td>PS2</td>\n",
       "      <td>NaN</td>\n",
       "      <td>Fighting</td>\n",
       "      <td>1.57</td>\n",
       "      <td>1.02</td>\n",
       "      <td>0.00</td>\n",
       "      <td>0.41</td>\n",
       "      <td>NaN</td>\n",
       "      <td>NaN</td>\n",
       "      <td>NaN</td>\n",
       "    </tr>\n",
       "    <tr>\n",
       "      <th>609</th>\n",
       "      <td>Space Invaders</td>\n",
       "      <td>2600</td>\n",
       "      <td>NaN</td>\n",
       "      <td>Shooter</td>\n",
       "      <td>2.36</td>\n",
       "      <td>0.14</td>\n",
       "      <td>0.00</td>\n",
       "      <td>0.03</td>\n",
       "      <td>NaN</td>\n",
       "      <td>NaN</td>\n",
       "      <td>NaN</td>\n",
       "    </tr>\n",
       "  </tbody>\n",
       "</table>\n",
       "</div>"
      ],
      "text/plain": [
       "                           name platform  year_of_release     genre  na_sales  \\\n",
       "183             Madden NFL 2004      PS2              NaN    Sports      4.26   \n",
       "377            FIFA Soccer 2004      PS2              NaN    Sports      0.59   \n",
       "456  LEGO Batman: The Videogame      Wii              NaN    Action      1.80   \n",
       "475  wwe Smackdown vs. Raw 2006      PS2              NaN  Fighting      1.57   \n",
       "609              Space Invaders     2600              NaN   Shooter      2.36   \n",
       "\n",
       "     eu_sales  jp_sales  other_sales  critic_score user_score rating  \n",
       "183      0.26      0.01         0.71          94.0        8.5      E  \n",
       "377      2.36      0.04         0.51          84.0        6.4      E  \n",
       "456      0.97      0.00         0.29          74.0        7.9   E10+  \n",
       "475      1.02      0.00         0.41           NaN        NaN    NaN  \n",
       "609      0.14      0.00         0.03           NaN        NaN    NaN  "
      ]
     },
     "execution_count": 12,
     "metadata": {},
     "output_type": "execute_result"
    }
   ],
   "source": [
    "data[data['year_of_release'].isnull()].head(5)"
   ]
  },
  {
   "cell_type": "code",
   "execution_count": 13,
   "metadata": {
    "scrolled": true
   },
   "outputs": [
    {
     "data": {
      "text/plain": [
       "name                  0\n",
       "platform              0\n",
       "year_of_release     269\n",
       "genre                 0\n",
       "na_sales              0\n",
       "eu_sales              0\n",
       "jp_sales              0\n",
       "other_sales           0\n",
       "critic_score       8576\n",
       "user_score         6699\n",
       "rating             6764\n",
       "dtype: int64"
      ]
     },
     "execution_count": 13,
     "metadata": {},
     "output_type": "execute_result"
    }
   ],
   "source": [
    "data.isnull().sum()"
   ]
  },
  {
   "cell_type": "code",
   "execution_count": 14,
   "metadata": {},
   "outputs": [],
   "source": [
    "data['year_of_release']=data['year_of_release'].fillna(data.groupby('name')['year_of_release'].transform('median'))"
   ]
  },
  {
   "cell_type": "code",
   "execution_count": 15,
   "metadata": {},
   "outputs": [],
   "source": [
    "data['year_of_release'] = data.groupby('platform')['year_of_release'].transform(lambda x: x.fillna(x.mode()[0]))"
   ]
  },
  {
   "cell_type": "code",
   "execution_count": 16,
   "metadata": {
    "scrolled": false
   },
   "outputs": [
    {
     "data": {
      "text/plain": [
       "name                  0\n",
       "platform              0\n",
       "year_of_release       0\n",
       "genre                 0\n",
       "na_sales              0\n",
       "eu_sales              0\n",
       "jp_sales              0\n",
       "other_sales           0\n",
       "critic_score       8576\n",
       "user_score         6699\n",
       "rating             6764\n",
       "dtype: int64"
      ]
     },
     "execution_count": 16,
     "metadata": {},
     "output_type": "execute_result"
    }
   ],
   "source": [
    "data.isnull().sum()"
   ]
  },
  {
   "cell_type": "markdown",
   "metadata": {},
   "source": [
    "<font color=\"blue\">\n",
    "    \n",
    "In the column `year of release` we first fill the missing values with the median of data(years) by grouping by name and the rest with the mode of years grouping by platform. \n",
    "\n",
    "In rating and scores column We have a lot of missing values! \n",
    "column `use_score` in addition to the missing values contains a large number of zeros and 'tbd' too, that these are also in principle Missing values. Missed values may be due to lack of polls for some games or non-final polls. \n",
    "    \n",
    "As suggested, we use a set of external data based on reviews to fill the missing values. We upload and add it to the table, but eventually a small part of the data (about 2,400 in total) was filled. So we leave the missing values and do not delete them because we need the sales data. If we want to analyse the data by scores columns, we ignore these values.    "
   ]
  },
  {
   "cell_type": "code",
   "execution_count": 17,
   "metadata": {
    "scrolled": false
   },
   "outputs": [
    {
     "data": {
      "text/html": [
       "<div>\n",
       "<style scoped>\n",
       "    .dataframe tbody tr th:only-of-type {\n",
       "        vertical-align: middle;\n",
       "    }\n",
       "\n",
       "    .dataframe tbody tr th {\n",
       "        vertical-align: top;\n",
       "    }\n",
       "\n",
       "    .dataframe thead th {\n",
       "        text-align: right;\n",
       "    }\n",
       "</style>\n",
       "<table border=\"1\" class=\"dataframe\">\n",
       "  <thead>\n",
       "    <tr style=\"text-align: right;\">\n",
       "      <th></th>\n",
       "      <th>name</th>\n",
       "      <th>platform</th>\n",
       "      <th>year_of_release</th>\n",
       "      <th>genre</th>\n",
       "      <th>na_sales</th>\n",
       "      <th>eu_sales</th>\n",
       "      <th>jp_sales</th>\n",
       "      <th>other_sales</th>\n",
       "      <th>critic_score</th>\n",
       "      <th>user_score</th>\n",
       "      <th>rating</th>\n",
       "    </tr>\n",
       "  </thead>\n",
       "  <tbody>\n",
       "    <tr>\n",
       "      <th>119</th>\n",
       "      <td>Zumba Fitness</td>\n",
       "      <td>Wii</td>\n",
       "      <td>2010.0</td>\n",
       "      <td>Sports</td>\n",
       "      <td>3.45</td>\n",
       "      <td>2.59</td>\n",
       "      <td>0.0</td>\n",
       "      <td>0.66</td>\n",
       "      <td>NaN</td>\n",
       "      <td>tbd</td>\n",
       "      <td>E</td>\n",
       "    </tr>\n",
       "    <tr>\n",
       "      <th>301</th>\n",
       "      <td>Namco Museum: 50th Anniversary</td>\n",
       "      <td>PS2</td>\n",
       "      <td>2005.0</td>\n",
       "      <td>Misc</td>\n",
       "      <td>2.08</td>\n",
       "      <td>1.35</td>\n",
       "      <td>0.0</td>\n",
       "      <td>0.54</td>\n",
       "      <td>61.0</td>\n",
       "      <td>tbd</td>\n",
       "      <td>E10+</td>\n",
       "    </tr>\n",
       "    <tr>\n",
       "      <th>520</th>\n",
       "      <td>Zumba Fitness 2</td>\n",
       "      <td>Wii</td>\n",
       "      <td>2011.0</td>\n",
       "      <td>Sports</td>\n",
       "      <td>1.51</td>\n",
       "      <td>1.03</td>\n",
       "      <td>0.0</td>\n",
       "      <td>0.27</td>\n",
       "      <td>NaN</td>\n",
       "      <td>tbd</td>\n",
       "      <td>T</td>\n",
       "    </tr>\n",
       "    <tr>\n",
       "      <th>645</th>\n",
       "      <td>uDraw Studio</td>\n",
       "      <td>Wii</td>\n",
       "      <td>2010.0</td>\n",
       "      <td>Misc</td>\n",
       "      <td>1.65</td>\n",
       "      <td>0.57</td>\n",
       "      <td>0.0</td>\n",
       "      <td>0.20</td>\n",
       "      <td>71.0</td>\n",
       "      <td>tbd</td>\n",
       "      <td>E</td>\n",
       "    </tr>\n",
       "    <tr>\n",
       "      <th>657</th>\n",
       "      <td>Frogger's Adventures: Temple of the Frog</td>\n",
       "      <td>GBA</td>\n",
       "      <td>2002.0</td>\n",
       "      <td>Adventure</td>\n",
       "      <td>2.15</td>\n",
       "      <td>0.18</td>\n",
       "      <td>0.0</td>\n",
       "      <td>0.07</td>\n",
       "      <td>73.0</td>\n",
       "      <td>tbd</td>\n",
       "      <td>E</td>\n",
       "    </tr>\n",
       "    <tr>\n",
       "      <th>...</th>\n",
       "      <td>...</td>\n",
       "      <td>...</td>\n",
       "      <td>...</td>\n",
       "      <td>...</td>\n",
       "      <td>...</td>\n",
       "      <td>...</td>\n",
       "      <td>...</td>\n",
       "      <td>...</td>\n",
       "      <td>...</td>\n",
       "      <td>...</td>\n",
       "      <td>...</td>\n",
       "    </tr>\n",
       "    <tr>\n",
       "      <th>16695</th>\n",
       "      <td>Planet Monsters</td>\n",
       "      <td>GBA</td>\n",
       "      <td>2001.0</td>\n",
       "      <td>Action</td>\n",
       "      <td>0.01</td>\n",
       "      <td>0.00</td>\n",
       "      <td>0.0</td>\n",
       "      <td>0.00</td>\n",
       "      <td>67.0</td>\n",
       "      <td>tbd</td>\n",
       "      <td>E</td>\n",
       "    </tr>\n",
       "    <tr>\n",
       "      <th>16697</th>\n",
       "      <td>Bust-A-Move 3000</td>\n",
       "      <td>GC</td>\n",
       "      <td>2003.0</td>\n",
       "      <td>Puzzle</td>\n",
       "      <td>0.01</td>\n",
       "      <td>0.00</td>\n",
       "      <td>0.0</td>\n",
       "      <td>0.00</td>\n",
       "      <td>53.0</td>\n",
       "      <td>tbd</td>\n",
       "      <td>E</td>\n",
       "    </tr>\n",
       "    <tr>\n",
       "      <th>16698</th>\n",
       "      <td>Mega Brain Boost</td>\n",
       "      <td>DS</td>\n",
       "      <td>2008.0</td>\n",
       "      <td>Puzzle</td>\n",
       "      <td>0.01</td>\n",
       "      <td>0.00</td>\n",
       "      <td>0.0</td>\n",
       "      <td>0.00</td>\n",
       "      <td>48.0</td>\n",
       "      <td>tbd</td>\n",
       "      <td>E</td>\n",
       "    </tr>\n",
       "    <tr>\n",
       "      <th>16704</th>\n",
       "      <td>Plushees</td>\n",
       "      <td>DS</td>\n",
       "      <td>2008.0</td>\n",
       "      <td>Simulation</td>\n",
       "      <td>0.01</td>\n",
       "      <td>0.00</td>\n",
       "      <td>0.0</td>\n",
       "      <td>0.00</td>\n",
       "      <td>NaN</td>\n",
       "      <td>tbd</td>\n",
       "      <td>E</td>\n",
       "    </tr>\n",
       "    <tr>\n",
       "      <th>16706</th>\n",
       "      <td>Men in Black II: Alien Escape</td>\n",
       "      <td>GC</td>\n",
       "      <td>2003.0</td>\n",
       "      <td>Shooter</td>\n",
       "      <td>0.01</td>\n",
       "      <td>0.00</td>\n",
       "      <td>0.0</td>\n",
       "      <td>0.00</td>\n",
       "      <td>NaN</td>\n",
       "      <td>tbd</td>\n",
       "      <td>T</td>\n",
       "    </tr>\n",
       "  </tbody>\n",
       "</table>\n",
       "<p>2424 rows × 11 columns</p>\n",
       "</div>"
      ],
      "text/plain": [
       "                                           name platform  year_of_release  \\\n",
       "119                               Zumba Fitness      Wii           2010.0   \n",
       "301              Namco Museum: 50th Anniversary      PS2           2005.0   \n",
       "520                             Zumba Fitness 2      Wii           2011.0   \n",
       "645                                uDraw Studio      Wii           2010.0   \n",
       "657    Frogger's Adventures: Temple of the Frog      GBA           2002.0   \n",
       "...                                         ...      ...              ...   \n",
       "16695                           Planet Monsters      GBA           2001.0   \n",
       "16697                          Bust-A-Move 3000       GC           2003.0   \n",
       "16698                          Mega Brain Boost       DS           2008.0   \n",
       "16704                                  Plushees       DS           2008.0   \n",
       "16706             Men in Black II: Alien Escape       GC           2003.0   \n",
       "\n",
       "            genre  na_sales  eu_sales  jp_sales  other_sales  critic_score  \\\n",
       "119        Sports      3.45      2.59       0.0         0.66           NaN   \n",
       "301          Misc      2.08      1.35       0.0         0.54          61.0   \n",
       "520        Sports      1.51      1.03       0.0         0.27           NaN   \n",
       "645          Misc      1.65      0.57       0.0         0.20          71.0   \n",
       "657     Adventure      2.15      0.18       0.0         0.07          73.0   \n",
       "...           ...       ...       ...       ...          ...           ...   \n",
       "16695      Action      0.01      0.00       0.0         0.00          67.0   \n",
       "16697      Puzzle      0.01      0.00       0.0         0.00          53.0   \n",
       "16698      Puzzle      0.01      0.00       0.0         0.00          48.0   \n",
       "16704  Simulation      0.01      0.00       0.0         0.00           NaN   \n",
       "16706     Shooter      0.01      0.00       0.0         0.00           NaN   \n",
       "\n",
       "      user_score rating  \n",
       "119          tbd      E  \n",
       "301          tbd   E10+  \n",
       "520          tbd      T  \n",
       "645          tbd      E  \n",
       "657          tbd      E  \n",
       "...          ...    ...  \n",
       "16695        tbd      E  \n",
       "16697        tbd      E  \n",
       "16698        tbd      E  \n",
       "16704        tbd      E  \n",
       "16706        tbd      T  \n",
       "\n",
       "[2424 rows x 11 columns]"
      ]
     },
     "execution_count": 17,
     "metadata": {},
     "output_type": "execute_result"
    }
   ],
   "source": [
    "data.query('user_score==\"tbd\"')"
   ]
  },
  {
   "cell_type": "code",
   "execution_count": 18,
   "metadata": {},
   "outputs": [],
   "source": [
    "data['user_score']=data['user_score'].where(data['user_score']!='tbd',None)"
   ]
  },
  {
   "cell_type": "code",
   "execution_count": 19,
   "metadata": {},
   "outputs": [
    {
     "data": {
      "text/plain": [
       "name                  0\n",
       "platform              0\n",
       "year_of_release       0\n",
       "genre                 0\n",
       "na_sales              0\n",
       "eu_sales              0\n",
       "jp_sales              0\n",
       "other_sales           0\n",
       "critic_score       8576\n",
       "user_score         9123\n",
       "rating             6764\n",
       "dtype: int64"
      ]
     },
     "execution_count": 19,
     "metadata": {},
     "output_type": "execute_result"
    }
   ],
   "source": [
    "data.isnull().sum()"
   ]
  },
  {
   "cell_type": "code",
   "execution_count": 20,
   "metadata": {},
   "outputs": [
    {
     "data": {
      "text/html": [
       "<div>\n",
       "<style scoped>\n",
       "    .dataframe tbody tr th:only-of-type {\n",
       "        vertical-align: middle;\n",
       "    }\n",
       "\n",
       "    .dataframe tbody tr th {\n",
       "        vertical-align: top;\n",
       "    }\n",
       "\n",
       "    .dataframe thead th {\n",
       "        text-align: right;\n",
       "    }\n",
       "</style>\n",
       "<table border=\"1\" class=\"dataframe\">\n",
       "  <thead>\n",
       "    <tr style=\"text-align: right;\">\n",
       "      <th></th>\n",
       "      <th>name</th>\n",
       "      <th>platform</th>\n",
       "      <th>year_of_release</th>\n",
       "      <th>genre</th>\n",
       "      <th>na_sales</th>\n",
       "      <th>eu_sales</th>\n",
       "      <th>jp_sales</th>\n",
       "      <th>other_sales</th>\n",
       "      <th>critic_score</th>\n",
       "      <th>user_score</th>\n",
       "      <th>rating</th>\n",
       "    </tr>\n",
       "  </thead>\n",
       "  <tbody>\n",
       "  </tbody>\n",
       "</table>\n",
       "</div>"
      ],
      "text/plain": [
       "Empty DataFrame\n",
       "Columns: [name, platform, year_of_release, genre, na_sales, eu_sales, jp_sales, other_sales, critic_score, user_score, rating]\n",
       "Index: []"
      ]
     },
     "execution_count": 20,
     "metadata": {},
     "output_type": "execute_result"
    }
   ],
   "source": [
    "data.query('user_score==0')"
   ]
  },
  {
   "cell_type": "markdown",
   "metadata": {},
   "source": [
    "### Data type replacement"
   ]
  },
  {
   "cell_type": "code",
   "execution_count": 21,
   "metadata": {},
   "outputs": [],
   "source": [
    "data['user_score'] = data['user_score'].astype('float')"
   ]
  },
  {
   "cell_type": "code",
   "execution_count": 22,
   "metadata": {},
   "outputs": [],
   "source": [
    "data['year_of_release']=data['year_of_release'].astype('int')"
   ]
  },
  {
   "cell_type": "code",
   "execution_count": 23,
   "metadata": {},
   "outputs": [
    {
     "name": "stdout",
     "output_type": "stream",
     "text": [
      "<class 'pandas.core.frame.DataFrame'>\n",
      "Int64Index: 16713 entries, 0 to 16714\n",
      "Data columns (total 11 columns):\n",
      " #   Column           Non-Null Count  Dtype  \n",
      "---  ------           --------------  -----  \n",
      " 0   name             16713 non-null  object \n",
      " 1   platform         16713 non-null  object \n",
      " 2   year_of_release  16713 non-null  int32  \n",
      " 3   genre            16713 non-null  object \n",
      " 4   na_sales         16713 non-null  float64\n",
      " 5   eu_sales         16713 non-null  float64\n",
      " 6   jp_sales         16713 non-null  float64\n",
      " 7   other_sales      16713 non-null  float64\n",
      " 8   critic_score     8137 non-null   float64\n",
      " 9   user_score       7590 non-null   float64\n",
      " 10  rating           9949 non-null   object \n",
      "dtypes: float64(6), int32(1), object(4)\n",
      "memory usage: 1.5+ MB\n"
     ]
    }
   ],
   "source": [
    "data.info()"
   ]
  },
  {
   "cell_type": "markdown",
   "metadata": {},
   "source": [
    " - **Calculate the total sale**"
   ]
  },
  {
   "cell_type": "code",
   "execution_count": 24,
   "metadata": {
    "scrolled": true
   },
   "outputs": [
    {
     "data": {
      "text/html": [
       "<div>\n",
       "<style scoped>\n",
       "    .dataframe tbody tr th:only-of-type {\n",
       "        vertical-align: middle;\n",
       "    }\n",
       "\n",
       "    .dataframe tbody tr th {\n",
       "        vertical-align: top;\n",
       "    }\n",
       "\n",
       "    .dataframe thead th {\n",
       "        text-align: right;\n",
       "    }\n",
       "</style>\n",
       "<table border=\"1\" class=\"dataframe\">\n",
       "  <thead>\n",
       "    <tr style=\"text-align: right;\">\n",
       "      <th></th>\n",
       "      <th>name</th>\n",
       "      <th>platform</th>\n",
       "      <th>year_of_release</th>\n",
       "      <th>genre</th>\n",
       "      <th>na_sales</th>\n",
       "      <th>eu_sales</th>\n",
       "      <th>jp_sales</th>\n",
       "      <th>other_sales</th>\n",
       "      <th>critic_score</th>\n",
       "      <th>user_score</th>\n",
       "      <th>rating</th>\n",
       "      <th>total_sales</th>\n",
       "    </tr>\n",
       "  </thead>\n",
       "  <tbody>\n",
       "    <tr>\n",
       "      <th>0</th>\n",
       "      <td>Wii Sports</td>\n",
       "      <td>Wii</td>\n",
       "      <td>2006</td>\n",
       "      <td>Sports</td>\n",
       "      <td>41.36</td>\n",
       "      <td>28.96</td>\n",
       "      <td>3.77</td>\n",
       "      <td>8.45</td>\n",
       "      <td>76.0</td>\n",
       "      <td>8.0</td>\n",
       "      <td>E</td>\n",
       "      <td>82.54</td>\n",
       "    </tr>\n",
       "    <tr>\n",
       "      <th>1</th>\n",
       "      <td>Super Mario Bros.</td>\n",
       "      <td>NES</td>\n",
       "      <td>1985</td>\n",
       "      <td>Platform</td>\n",
       "      <td>29.08</td>\n",
       "      <td>3.58</td>\n",
       "      <td>6.81</td>\n",
       "      <td>0.77</td>\n",
       "      <td>NaN</td>\n",
       "      <td>NaN</td>\n",
       "      <td>NaN</td>\n",
       "      <td>40.24</td>\n",
       "    </tr>\n",
       "    <tr>\n",
       "      <th>2</th>\n",
       "      <td>Mario Kart Wii</td>\n",
       "      <td>Wii</td>\n",
       "      <td>2008</td>\n",
       "      <td>Racing</td>\n",
       "      <td>15.68</td>\n",
       "      <td>12.76</td>\n",
       "      <td>3.79</td>\n",
       "      <td>3.29</td>\n",
       "      <td>82.0</td>\n",
       "      <td>8.3</td>\n",
       "      <td>E</td>\n",
       "      <td>35.52</td>\n",
       "    </tr>\n",
       "    <tr>\n",
       "      <th>3</th>\n",
       "      <td>Wii Sports Resort</td>\n",
       "      <td>Wii</td>\n",
       "      <td>2009</td>\n",
       "      <td>Sports</td>\n",
       "      <td>15.61</td>\n",
       "      <td>10.93</td>\n",
       "      <td>3.28</td>\n",
       "      <td>2.95</td>\n",
       "      <td>80.0</td>\n",
       "      <td>8.0</td>\n",
       "      <td>E</td>\n",
       "      <td>32.77</td>\n",
       "    </tr>\n",
       "    <tr>\n",
       "      <th>4</th>\n",
       "      <td>Pokemon Red/Pokemon Blue</td>\n",
       "      <td>GB</td>\n",
       "      <td>1996</td>\n",
       "      <td>Role-Playing</td>\n",
       "      <td>11.27</td>\n",
       "      <td>8.89</td>\n",
       "      <td>10.22</td>\n",
       "      <td>1.00</td>\n",
       "      <td>NaN</td>\n",
       "      <td>NaN</td>\n",
       "      <td>NaN</td>\n",
       "      <td>31.38</td>\n",
       "    </tr>\n",
       "  </tbody>\n",
       "</table>\n",
       "</div>"
      ],
      "text/plain": [
       "                       name platform  year_of_release         genre  na_sales  \\\n",
       "0                Wii Sports      Wii             2006        Sports     41.36   \n",
       "1         Super Mario Bros.      NES             1985      Platform     29.08   \n",
       "2            Mario Kart Wii      Wii             2008        Racing     15.68   \n",
       "3         Wii Sports Resort      Wii             2009        Sports     15.61   \n",
       "4  Pokemon Red/Pokemon Blue       GB             1996  Role-Playing     11.27   \n",
       "\n",
       "   eu_sales  jp_sales  other_sales  critic_score  user_score rating  \\\n",
       "0     28.96      3.77         8.45          76.0         8.0      E   \n",
       "1      3.58      6.81         0.77           NaN         NaN    NaN   \n",
       "2     12.76      3.79         3.29          82.0         8.3      E   \n",
       "3     10.93      3.28         2.95          80.0         8.0      E   \n",
       "4      8.89     10.22         1.00           NaN         NaN    NaN   \n",
       "\n",
       "   total_sales  \n",
       "0        82.54  \n",
       "1        40.24  \n",
       "2        35.52  \n",
       "3        32.77  \n",
       "4        31.38  "
      ]
     },
     "execution_count": 24,
     "metadata": {},
     "output_type": "execute_result"
    }
   ],
   "source": [
    "data['total_sales']=data['na_sales']+data['eu_sales']+data['jp_sales']+data['other_sales']\n",
    "data.head(5)"
   ]
  },
  {
   "cell_type": "markdown",
   "metadata": {},
   "source": [
    "### Processing duplicates"
   ]
  },
  {
   "cell_type": "code",
   "execution_count": 25,
   "metadata": {},
   "outputs": [
    {
     "data": {
      "text/plain": [
       "0"
      ]
     },
     "execution_count": 25,
     "metadata": {},
     "output_type": "execute_result"
    }
   ],
   "source": [
    "data.duplicated().sum()"
   ]
  },
  {
   "cell_type": "markdown",
   "metadata": {},
   "source": [
    "## Conclosion"
   ]
  },
  {
   "cell_type": "markdown",
   "metadata": {},
   "source": [
    "<font color=\"blue\">\n",
    "    \n",
    "**Missing values**  \n",
    "In the column `name` and `genre` we have only 2 missing values, so we can drop them.\n",
    "    \n",
    "In the column `year of release` we first fill the missing values with the median of data(years) by grouping by name and the rest with the mode of years grouping by platform. \n",
    "\n",
    "In rating and scores column We have a lot of missing values! \n",
    "column 'use_score' in addition to the missing values contains a large number of zeros and 'tbd' too, that these are also in principle Missing values. Missed values may be due to lack of polls for some games or non-final polls. \n",
    "    \n",
    "As suggested, we use a set of external data based on reviews to fill the missing values. We upload and add it to the table, but eventually a small part of the data (about 2,400 in total) was filled. So we leave the missing values and do not delete them because we need the sales data. If we want to analyse the data by scores columns, we ignore these values.  \n",
    "    \n",
    "**Data types**\n",
    "    \n",
    "We change the `user_score` column type to float.\n",
    "    \n",
    "Calculate the total sale and add it through a new column.\n"
   ]
  },
  {
   "cell_type": "markdown",
   "metadata": {},
   "source": [
    "<a id=\"exp\"></a>\n",
    "## Step 3. Exploratory data analysis"
   ]
  },
  {
   "cell_type": "code",
   "execution_count": 26,
   "metadata": {},
   "outputs": [],
   "source": [
    "df=data.groupby('year_of_release')['name'].count().reset_index()"
   ]
  },
  {
   "cell_type": "code",
   "execution_count": 27,
   "metadata": {},
   "outputs": [],
   "source": [
    "sns.set_palette('bright')"
   ]
  },
  {
   "cell_type": "code",
   "execution_count": 28,
   "metadata": {},
   "outputs": [
    {
     "data": {
      "image/png": "[encoded data removed]",
      "text/plain": [
       "<Figure size 720x432 with 1 Axes>"
      ]
     },
     "metadata": {
      "needs_background": "light"
     },
     "output_type": "display_data"
    }
   ],
   "source": [
    "plt.figure(figsize=(10,6))\n",
    "ax=sns.barplot(x='year_of_release', y='name', data=df)\n",
    "ax.set_xticklabels(ax.get_xticklabels(), rotation=90)\n",
    "ax.set_title('games by year' , fontsize=20)\n",
    "ax.set_xlabel('year_of_release',fontsize=12)\n",
    "ax.set_ylabel('number of games',fontsize=12)\n",
    "plt.show()"
   ]
  },
  {
   "cell_type": "code",
   "execution_count": 29,
   "metadata": {},
   "outputs": [],
   "source": [
    "df=data.groupby('year_of_release')['total_sales'].count().reset_index()"
   ]
  },
  {
   "cell_type": "code",
   "execution_count": 30,
   "metadata": {},
   "outputs": [
    {
     "data": {
      "image/png": "[encoded data removed]",
      "text/plain": [
       "<Figure size 1224x720 with 1 Axes>"
      ]
     },
     "metadata": {
      "needs_background": "light"
     },
     "output_type": "display_data"
    }
   ],
   "source": [
    "fig, ax = plt. subplots(figsize=(17,10)) \n",
    "ax.vlines(x=df.year_of_release, ymin=0, ymax=df.total_sales, color='green', alpha=0.7 ,linewidth=3)\n",
    "ax.scatter(x=df.year_of_release, y=df.total_sales, s=75, color='black', alpha=0.7)\n",
    "\n",
    "ax.set_title('Lollypop chart for released games', fontdict={'size':15})\n",
    "ax.set_ylabel('number of games')\n",
    "ax.set_xlabel('year')\n",
    "ax.set_xticks(df.year_of_release)\n",
    "ax.set_xticklabels(df.year_of_release, rotation=90, fontdict={'horizontalalignment':'right','size':12})\n",
    "\n",
    "for row in df.itertuples():\n",
    "    ax.text(row.year_of_release , row.total_sales+20, s=round(row.total_sales))"
   ]
  },
  {
   "cell_type": "markdown",
   "metadata": {},
   "source": [
    "<font color=\"blue\">We check how many games were released in different years. We see that most of the games were releasted in 2007 to 2011. Before the year 1995 few games were released and after that, the variety of games gradually increased."
   ]
  },
  {
   "cell_type": "code",
   "execution_count": 31,
   "metadata": {
    "scrolled": true
   },
   "outputs": [
    {
     "data": {
      "text/plain": [
       "array(['Wii', 'NES', 'GB', 'DS', 'X360', 'PS3', 'PS2', 'SNES', 'GBA',\n",
       "       'PS4', '3DS', 'N64', 'PS', 'XB', 'PC', '2600', 'PSP', 'XOne',\n",
       "       'WiiU', 'GC', 'GEN', 'DC', 'PSV', 'SAT', 'SCD', 'WS', 'NG', 'TG16',\n",
       "       '3DO', 'GG', 'PCFX'], dtype=object)"
      ]
     },
     "execution_count": 31,
     "metadata": {},
     "output_type": "execute_result"
    }
   ],
   "source": [
    "data['platform'].unique()"
   ]
  },
  {
   "cell_type": "code",
   "execution_count": 32,
   "metadata": {},
   "outputs": [],
   "source": [
    "df=data.pivot_table(index='platform', values='total_sales' , aggfunc='sum').sort_values('total_sales', ascending=False).reset_index()"
   ]
  },
  {
   "cell_type": "code",
   "execution_count": 33,
   "metadata": {},
   "outputs": [
    {
     "data": {
      "text/html": [
       "<div>\n",
       "<style scoped>\n",
       "    .dataframe tbody tr th:only-of-type {\n",
       "        vertical-align: middle;\n",
       "    }\n",
       "\n",
       "    .dataframe tbody tr th {\n",
       "        vertical-align: top;\n",
       "    }\n",
       "\n",
       "    .dataframe thead th {\n",
       "        text-align: right;\n",
       "    }\n",
       "</style>\n",
       "<table border=\"1\" class=\"dataframe\">\n",
       "  <thead>\n",
       "    <tr style=\"text-align: right;\">\n",
       "      <th></th>\n",
       "      <th>platform</th>\n",
       "      <th>total_sales</th>\n",
       "    </tr>\n",
       "  </thead>\n",
       "  <tbody>\n",
       "    <tr>\n",
       "      <th>0</th>\n",
       "      <td>PS2</td>\n",
       "      <td>1255.77</td>\n",
       "    </tr>\n",
       "    <tr>\n",
       "      <th>1</th>\n",
       "      <td>X360</td>\n",
       "      <td>971.42</td>\n",
       "    </tr>\n",
       "    <tr>\n",
       "      <th>2</th>\n",
       "      <td>PS3</td>\n",
       "      <td>939.65</td>\n",
       "    </tr>\n",
       "    <tr>\n",
       "      <th>3</th>\n",
       "      <td>Wii</td>\n",
       "      <td>907.51</td>\n",
       "    </tr>\n",
       "    <tr>\n",
       "      <th>4</th>\n",
       "      <td>DS</td>\n",
       "      <td>806.12</td>\n",
       "    </tr>\n",
       "  </tbody>\n",
       "</table>\n",
       "</div>"
      ],
      "text/plain": [
       "  platform  total_sales\n",
       "0      PS2      1255.77\n",
       "1     X360       971.42\n",
       "2      PS3       939.65\n",
       "3      Wii       907.51\n",
       "4       DS       806.12"
      ]
     },
     "execution_count": 33,
     "metadata": {},
     "output_type": "execute_result"
    }
   ],
   "source": [
    "df.head(5)"
   ]
  },
  {
   "cell_type": "code",
   "execution_count": 34,
   "metadata": {},
   "outputs": [
    {
     "data": {
      "image/png": "[encoded data removed]",
      "text/plain": [
       "<Figure size 720x432 with 1 Axes>"
      ]
     },
     "metadata": {
      "needs_background": "light"
     },
     "output_type": "display_data"
    }
   ],
   "source": [
    "plt.figure(figsize=(10,6))\n",
    "ax=sns.barplot(x='platform', y='total_sales', data=df)\n",
    "ax.set_xticklabels(ax.get_xticklabels(), rotation=90)\n",
    "ax.set_title('sales by platforms' , fontsize=20)\n",
    "ax.set_xlabel('platforms',fontsize=12)\n",
    "ax.set_ylabel('total_sales',fontsize=12)\n",
    "plt.show()"
   ]
  },
  {
   "cell_type": "markdown",
   "metadata": {},
   "source": [
    "<font color=\"blue\">We check the total sales for platforms. We can see that platform PS2 is the most popular platform ,then X360 and PS3. Then we check the distribution of the tree popular platforms based on data for each year."
   ]
  },
  {
   "cell_type": "code",
   "execution_count": 35,
   "metadata": {},
   "outputs": [
    {
     "name": "stdout",
     "output_type": "stream",
     "text": [
      "<class 'pandas.core.frame.DataFrame'>\n",
      "Int64Index: 16713 entries, 0 to 16714\n",
      "Data columns (total 12 columns):\n",
      " #   Column           Non-Null Count  Dtype  \n",
      "---  ------           --------------  -----  \n",
      " 0   name             16713 non-null  object \n",
      " 1   platform         16713 non-null  object \n",
      " 2   year_of_release  16713 non-null  int32  \n",
      " 3   genre            16713 non-null  object \n",
      " 4   na_sales         16713 non-null  float64\n",
      " 5   eu_sales         16713 non-null  float64\n",
      " 6   jp_sales         16713 non-null  float64\n",
      " 7   other_sales      16713 non-null  float64\n",
      " 8   critic_score     8137 non-null   float64\n",
      " 9   user_score       7590 non-null   float64\n",
      " 10  rating           9949 non-null   object \n",
      " 11  total_sales      16713 non-null  float64\n",
      "dtypes: float64(7), int32(1), object(4)\n",
      "memory usage: 1.6+ MB\n"
     ]
    }
   ],
   "source": [
    "data.info()"
   ]
  },
  {
   "cell_type": "code",
   "execution_count": 36,
   "metadata": {},
   "outputs": [],
   "source": [
    "df=data.query('year_of_release>2007').pivot_table(index='platform', columns='year_of_release', values='total_sales', aggfunc='sum')"
   ]
  },
  {
   "cell_type": "code",
   "execution_count": 37,
   "metadata": {},
   "outputs": [
    {
     "data": {
      "text/html": [
       "<div>\n",
       "<style scoped>\n",
       "    .dataframe tbody tr th:only-of-type {\n",
       "        vertical-align: middle;\n",
       "    }\n",
       "\n",
       "    .dataframe tbody tr th {\n",
       "        vertical-align: top;\n",
       "    }\n",
       "\n",
       "    .dataframe thead th {\n",
       "        text-align: right;\n",
       "    }\n",
       "</style>\n",
       "<table border=\"1\" class=\"dataframe\">\n",
       "  <thead>\n",
       "    <tr style=\"text-align: right;\">\n",
       "      <th>year_of_release</th>\n",
       "      <th>2008</th>\n",
       "      <th>2009</th>\n",
       "      <th>2010</th>\n",
       "      <th>2011</th>\n",
       "      <th>2012</th>\n",
       "      <th>2013</th>\n",
       "      <th>2014</th>\n",
       "      <th>2015</th>\n",
       "      <th>2016</th>\n",
       "    </tr>\n",
       "    <tr>\n",
       "      <th>platform</th>\n",
       "      <th></th>\n",
       "      <th></th>\n",
       "      <th></th>\n",
       "      <th></th>\n",
       "      <th></th>\n",
       "      <th></th>\n",
       "      <th></th>\n",
       "      <th></th>\n",
       "      <th></th>\n",
       "    </tr>\n",
       "  </thead>\n",
       "  <tbody>\n",
       "    <tr>\n",
       "      <th>3DS</th>\n",
       "      <td>NaN</td>\n",
       "      <td>NaN</td>\n",
       "      <td>0.30</td>\n",
       "      <td>63.67</td>\n",
       "      <td>51.76</td>\n",
       "      <td>56.57</td>\n",
       "      <td>43.76</td>\n",
       "      <td>27.78</td>\n",
       "      <td>15.14</td>\n",
       "    </tr>\n",
       "    <tr>\n",
       "      <th>DC</th>\n",
       "      <td>0.04</td>\n",
       "      <td>NaN</td>\n",
       "      <td>NaN</td>\n",
       "      <td>NaN</td>\n",
       "      <td>NaN</td>\n",
       "      <td>NaN</td>\n",
       "      <td>NaN</td>\n",
       "      <td>NaN</td>\n",
       "      <td>NaN</td>\n",
       "    </tr>\n",
       "    <tr>\n",
       "      <th>DS</th>\n",
       "      <td>147.20</td>\n",
       "      <td>119.56</td>\n",
       "      <td>85.35</td>\n",
       "      <td>26.33</td>\n",
       "      <td>11.67</td>\n",
       "      <td>1.54</td>\n",
       "      <td>NaN</td>\n",
       "      <td>NaN</td>\n",
       "      <td>NaN</td>\n",
       "    </tr>\n",
       "    <tr>\n",
       "      <th>PC</th>\n",
       "      <td>12.46</td>\n",
       "      <td>17.05</td>\n",
       "      <td>26.15</td>\n",
       "      <td>35.82</td>\n",
       "      <td>23.45</td>\n",
       "      <td>13.01</td>\n",
       "      <td>13.28</td>\n",
       "      <td>8.52</td>\n",
       "      <td>5.25</td>\n",
       "    </tr>\n",
       "    <tr>\n",
       "      <th>PS2</th>\n",
       "      <td>53.90</td>\n",
       "      <td>26.40</td>\n",
       "      <td>5.64</td>\n",
       "      <td>0.45</td>\n",
       "      <td>NaN</td>\n",
       "      <td>NaN</td>\n",
       "      <td>NaN</td>\n",
       "      <td>NaN</td>\n",
       "      <td>NaN</td>\n",
       "    </tr>\n",
       "    <tr>\n",
       "      <th>PS3</th>\n",
       "      <td>118.79</td>\n",
       "      <td>130.93</td>\n",
       "      <td>142.96</td>\n",
       "      <td>162.44</td>\n",
       "      <td>108.28</td>\n",
       "      <td>113.25</td>\n",
       "      <td>47.76</td>\n",
       "      <td>16.82</td>\n",
       "      <td>3.60</td>\n",
       "    </tr>\n",
       "    <tr>\n",
       "      <th>PS4</th>\n",
       "      <td>NaN</td>\n",
       "      <td>NaN</td>\n",
       "      <td>NaN</td>\n",
       "      <td>NaN</td>\n",
       "      <td>NaN</td>\n",
       "      <td>25.99</td>\n",
       "      <td>100.00</td>\n",
       "      <td>118.90</td>\n",
       "      <td>69.25</td>\n",
       "    </tr>\n",
       "    <tr>\n",
       "      <th>PSP</th>\n",
       "      <td>36.76</td>\n",
       "      <td>37.78</td>\n",
       "      <td>35.04</td>\n",
       "      <td>17.82</td>\n",
       "      <td>7.95</td>\n",
       "      <td>3.38</td>\n",
       "      <td>0.24</td>\n",
       "      <td>0.12</td>\n",
       "      <td>NaN</td>\n",
       "    </tr>\n",
       "    <tr>\n",
       "      <th>PSV</th>\n",
       "      <td>NaN</td>\n",
       "      <td>NaN</td>\n",
       "      <td>NaN</td>\n",
       "      <td>4.63</td>\n",
       "      <td>16.19</td>\n",
       "      <td>10.59</td>\n",
       "      <td>11.90</td>\n",
       "      <td>6.51</td>\n",
       "      <td>4.25</td>\n",
       "    </tr>\n",
       "    <tr>\n",
       "      <th>Wii</th>\n",
       "      <td>177.68</td>\n",
       "      <td>211.17</td>\n",
       "      <td>128.67</td>\n",
       "      <td>59.79</td>\n",
       "      <td>22.94</td>\n",
       "      <td>8.59</td>\n",
       "      <td>3.75</td>\n",
       "      <td>1.14</td>\n",
       "      <td>0.18</td>\n",
       "    </tr>\n",
       "    <tr>\n",
       "      <th>WiiU</th>\n",
       "      <td>NaN</td>\n",
       "      <td>NaN</td>\n",
       "      <td>NaN</td>\n",
       "      <td>NaN</td>\n",
       "      <td>17.56</td>\n",
       "      <td>21.65</td>\n",
       "      <td>22.03</td>\n",
       "      <td>16.35</td>\n",
       "      <td>4.60</td>\n",
       "    </tr>\n",
       "    <tr>\n",
       "      <th>X360</th>\n",
       "      <td>136.07</td>\n",
       "      <td>120.82</td>\n",
       "      <td>170.55</td>\n",
       "      <td>150.04</td>\n",
       "      <td>100.72</td>\n",
       "      <td>88.58</td>\n",
       "      <td>34.74</td>\n",
       "      <td>11.96</td>\n",
       "      <td>1.52</td>\n",
       "    </tr>\n",
       "    <tr>\n",
       "      <th>XB</th>\n",
       "      <td>0.18</td>\n",
       "      <td>NaN</td>\n",
       "      <td>NaN</td>\n",
       "      <td>NaN</td>\n",
       "      <td>NaN</td>\n",
       "      <td>NaN</td>\n",
       "      <td>NaN</td>\n",
       "      <td>NaN</td>\n",
       "      <td>NaN</td>\n",
       "    </tr>\n",
       "    <tr>\n",
       "      <th>XOne</th>\n",
       "      <td>NaN</td>\n",
       "      <td>NaN</td>\n",
       "      <td>NaN</td>\n",
       "      <td>NaN</td>\n",
       "      <td>NaN</td>\n",
       "      <td>18.96</td>\n",
       "      <td>54.07</td>\n",
       "      <td>60.14</td>\n",
       "      <td>26.15</td>\n",
       "    </tr>\n",
       "  </tbody>\n",
       "</table>\n",
       "</div>"
      ],
      "text/plain": [
       "year_of_release    2008    2009    2010    2011    2012    2013    2014  \\\n",
       "platform                                                                  \n",
       "3DS                 NaN     NaN    0.30   63.67   51.76   56.57   43.76   \n",
       "DC                 0.04     NaN     NaN     NaN     NaN     NaN     NaN   \n",
       "DS               147.20  119.56   85.35   26.33   11.67    1.54     NaN   \n",
       "PC                12.46   17.05   26.15   35.82   23.45   13.01   13.28   \n",
       "PS2               53.90   26.40    5.64    0.45     NaN     NaN     NaN   \n",
       "PS3              118.79  130.93  142.96  162.44  108.28  113.25   47.76   \n",
       "PS4                 NaN     NaN     NaN     NaN     NaN   25.99  100.00   \n",
       "PSP               36.76   37.78   35.04   17.82    7.95    3.38    0.24   \n",
       "PSV                 NaN     NaN     NaN    4.63   16.19   10.59   11.90   \n",
       "Wii              177.68  211.17  128.67   59.79   22.94    8.59    3.75   \n",
       "WiiU                NaN     NaN     NaN     NaN   17.56   21.65   22.03   \n",
       "X360             136.07  120.82  170.55  150.04  100.72   88.58   34.74   \n",
       "XB                 0.18     NaN     NaN     NaN     NaN     NaN     NaN   \n",
       "XOne                NaN     NaN     NaN     NaN     NaN   18.96   54.07   \n",
       "\n",
       "year_of_release    2015   2016  \n",
       "platform                        \n",
       "3DS               27.78  15.14  \n",
       "DC                  NaN    NaN  \n",
       "DS                  NaN    NaN  \n",
       "PC                 8.52   5.25  \n",
       "PS2                 NaN    NaN  \n",
       "PS3               16.82   3.60  \n",
       "PS4              118.90  69.25  \n",
       "PSP                0.12    NaN  \n",
       "PSV                6.51   4.25  \n",
       "Wii                1.14   0.18  \n",
       "WiiU              16.35   4.60  \n",
       "X360              11.96   1.52  \n",
       "XB                  NaN    NaN  \n",
       "XOne              60.14  26.15  "
      ]
     },
     "execution_count": 37,
     "metadata": {},
     "output_type": "execute_result"
    }
   ],
   "source": [
    "df"
   ]
  },
  {
   "cell_type": "code",
   "execution_count": 38,
   "metadata": {},
   "outputs": [
    {
     "data": {
      "image/png": "[encoded data removed]",
      "text/plain": [
       "<Figure size 1080x648 with 2 Axes>"
      ]
     },
     "metadata": {
      "needs_background": "light"
     },
     "output_type": "display_data"
    }
   ],
   "source": [
    "plt.figure(figsize=(15,9))\n",
    "ax= sns.heatmap(df, annot=True, cmap='RdBu_r', fmt='.1f')\n",
    "ax.set_title('sales for platforms by years' , fontsize=20)\n",
    "ax.set_xlabel('year',fontsize=12)\n",
    "ax.set_ylabel('platform',fontsize=12);"
   ]
  },
  {
   "cell_type": "markdown",
   "metadata": {},
   "source": [
    "<font color=\"blue\">\n",
    "We see the most sale was for platform Wii in 2009, Wii had high sales in 2008 to 2010, then the sale decreased.<br>\n",
    "The sale was also high for  PS3 in 2008 to 2013.<br>\n",
    "In 2016 the most sale belongs to PS4 and XOne.    "
   ]
  },
  {
   "cell_type": "code",
   "execution_count": 39,
   "metadata": {},
   "outputs": [],
   "source": [
    "df=data.query('platform==\"PS2\" or platform==\"X360\" or platform==\"PS3\"')"
   ]
  },
  {
   "cell_type": "code",
   "execution_count": 40,
   "metadata": {},
   "outputs": [
    {
     "data": {
      "text/plain": [
       "2011    224\n",
       "2010    185\n",
       "2009    174\n",
       "2008    147\n",
       "2007    123\n",
       "2012    108\n",
       "2006     94\n",
       "2013     75\n",
       "2014     63\n",
       "2015     35\n",
       "2005     21\n",
       "2016     13\n",
       "Name: year_of_release, dtype: int64"
      ]
     },
     "execution_count": 40,
     "metadata": {},
     "output_type": "execute_result"
    }
   ],
   "source": [
    "df.query('platform==\"X360\"')['year_of_release'].value_counts()"
   ]
  },
  {
   "cell_type": "code",
   "execution_count": 41,
   "metadata": {},
   "outputs": [
    {
     "data": {
      "image/png": "[encoded data removed]",
      "text/plain": [
       "<Figure size 648x360 with 4 Axes>"
      ]
     },
     "metadata": {
      "needs_background": "light"
     },
     "output_type": "display_data"
    }
   ],
   "source": [
    "joyplot(\n",
    "    data=df[['year_of_release', 'platform']], \n",
    "    by='platform',\n",
    "    column=['year_of_release'],\n",
    "     legend=True,\n",
    "    alpha=0.85,\n",
    "    figsize=(9, 5))\n",
    "\n",
    "plt.title('games released in platforms by year', fontsize=20)\n",
    "plt.show()"
   ]
  },
  {
   "cell_type": "markdown",
   "metadata": {},
   "source": [
    "<font color=\"blue\">We see that for each platform, sales based on the game's release year have an 11-year period. That means with the first design of the game on a new platform, its sales grow for about 5 years and reach its peak of popularity, and then sales growth decreases, and after about 11 years, no new design is done and the platform gradually disappears."
   ]
  },
  {
   "cell_type": "markdown",
   "metadata": {},
   "source": [
    "The growth period of each platform is about 5 years, and since we want to generalize the analysis for 2017, it is better to use the data of the last 3 years as the basis for the analysis."
   ]
  },
  {
   "cell_type": "code",
   "execution_count": 42,
   "metadata": {},
   "outputs": [],
   "source": [
    "data2=data.query('year_of_release>=2014')"
   ]
  },
  {
   "cell_type": "code",
   "execution_count": 43,
   "metadata": {},
   "outputs": [],
   "source": [
    "df=data2.pivot_table(index='platform', values='total_sales' , aggfunc='sum').sort_values('total_sales', ascending=False).reset_index()"
   ]
  },
  {
   "cell_type": "code",
   "execution_count": 44,
   "metadata": {},
   "outputs": [
    {
     "data": {
      "text/html": [
       "<div>\n",
       "<style scoped>\n",
       "    .dataframe tbody tr th:only-of-type {\n",
       "        vertical-align: middle;\n",
       "    }\n",
       "\n",
       "    .dataframe tbody tr th {\n",
       "        vertical-align: top;\n",
       "    }\n",
       "\n",
       "    .dataframe thead th {\n",
       "        text-align: right;\n",
       "    }\n",
       "</style>\n",
       "<table border=\"1\" class=\"dataframe\">\n",
       "  <thead>\n",
       "    <tr style=\"text-align: right;\">\n",
       "      <th></th>\n",
       "      <th>platform</th>\n",
       "      <th>total_sales</th>\n",
       "    </tr>\n",
       "  </thead>\n",
       "  <tbody>\n",
       "    <tr>\n",
       "      <th>0</th>\n",
       "      <td>PS4</td>\n",
       "      <td>288.15</td>\n",
       "    </tr>\n",
       "    <tr>\n",
       "      <th>1</th>\n",
       "      <td>XOne</td>\n",
       "      <td>140.36</td>\n",
       "    </tr>\n",
       "    <tr>\n",
       "      <th>2</th>\n",
       "      <td>3DS</td>\n",
       "      <td>86.68</td>\n",
       "    </tr>\n",
       "    <tr>\n",
       "      <th>3</th>\n",
       "      <td>PS3</td>\n",
       "      <td>68.18</td>\n",
       "    </tr>\n",
       "    <tr>\n",
       "      <th>4</th>\n",
       "      <td>X360</td>\n",
       "      <td>48.22</td>\n",
       "    </tr>\n",
       "    <tr>\n",
       "      <th>5</th>\n",
       "      <td>WiiU</td>\n",
       "      <td>42.98</td>\n",
       "    </tr>\n",
       "    <tr>\n",
       "      <th>6</th>\n",
       "      <td>PC</td>\n",
       "      <td>27.05</td>\n",
       "    </tr>\n",
       "    <tr>\n",
       "      <th>7</th>\n",
       "      <td>PSV</td>\n",
       "      <td>22.66</td>\n",
       "    </tr>\n",
       "    <tr>\n",
       "      <th>8</th>\n",
       "      <td>Wii</td>\n",
       "      <td>5.07</td>\n",
       "    </tr>\n",
       "    <tr>\n",
       "      <th>9</th>\n",
       "      <td>PSP</td>\n",
       "      <td>0.36</td>\n",
       "    </tr>\n",
       "  </tbody>\n",
       "</table>\n",
       "</div>"
      ],
      "text/plain": [
       "  platform  total_sales\n",
       "0      PS4       288.15\n",
       "1     XOne       140.36\n",
       "2      3DS        86.68\n",
       "3      PS3        68.18\n",
       "4     X360        48.22\n",
       "5     WiiU        42.98\n",
       "6       PC        27.05\n",
       "7      PSV        22.66\n",
       "8      Wii         5.07\n",
       "9      PSP         0.36"
      ]
     },
     "execution_count": 44,
     "metadata": {},
     "output_type": "execute_result"
    }
   ],
   "source": [
    "df"
   ]
  },
  {
   "cell_type": "code",
   "execution_count": 45,
   "metadata": {},
   "outputs": [
    {
     "data": {
      "image/png": "[encoded data removed]",
      "text/plain": [
       "<Figure size 720x432 with 1 Axes>"
      ]
     },
     "metadata": {
      "needs_background": "light"
     },
     "output_type": "display_data"
    }
   ],
   "source": [
    "plt.figure(figsize=(10,6))\n",
    "ax=sns.barplot(x='platform', y='total_sales', data=df)\n",
    "ax.set_xticklabels(ax.get_xticklabels(), rotation=90)\n",
    "ax.set_title('sales by platforms in last 3 years' , fontsize=20)\n",
    "ax.set_xlabel('platform',fontsize=12)\n",
    "ax.set_ylabel('total_sales',fontsize=12)\n",
    "plt.show()"
   ]
  },
  {
   "cell_type": "code",
   "execution_count": 46,
   "metadata": {},
   "outputs": [],
   "source": [
    "df_tree=data2[['platform','total_sales']].groupby('platform').sum().\\\n",
    "sort_values('total_sales').reset_index()"
   ]
  },
  {
   "cell_type": "code",
   "execution_count": 47,
   "metadata": {},
   "outputs": [
    {
     "data": {
      "image/png": "[encoded data removed]",
      "text/plain": [
       "<Figure size 720x432 with 1 Axes>"
      ]
     },
     "metadata": {
      "needs_background": "light"
     },
     "output_type": "display_data"
    }
   ],
   "source": [
    "plt.figure(figsize=(10,6))\n",
    "sizes=df_tree.total_sales.values.tolist()\n",
    "label=df_tree.apply(lambda x: str(x[0])+'\\n'+str(round(x[1])), axis=1)\n",
    "color=['yellow','blue','green','orange']\n",
    "ax=squarify.plot(sizes=sizes, label=label, alpha=0.5, color=color)\n",
    "ax.set_title('sales by platforms in last 3 years' , fontsize=20);"
   ]
  },
  {
   "cell_type": "markdown",
   "metadata": {},
   "source": [
    "<font color=\"blue\">We see that the most popular platforms in the last 3 years are PS4, XOne, 3DS, PS3, X360, WiiU and PC. let's check the growth of each platforms in this period of time."
   ]
  },
  {
   "cell_type": "code",
   "execution_count": 48,
   "metadata": {},
   "outputs": [
    {
     "data": {
      "image/png": "[encoded data removed]",
      "text/plain": [
       "<Figure size 648x432 with 11 Axes>"
      ]
     },
     "metadata": {
      "needs_background": "light"
     },
     "output_type": "display_data"
    }
   ],
   "source": [
    "joyplot(\n",
    "    data=data2[['year_of_release','platform']], \n",
    "    by='platform',\n",
    "    column=['year_of_release'],\n",
    "     legend=True,\n",
    "    alpha=0.85,\n",
    "    figsize=(9, 6))\n",
    "\n",
    "plt.title('gemes released for platforms by year', fontsize=20)\n",
    "plt.show()"
   ]
  },
  {
   "cell_type": "markdown",
   "metadata": {},
   "source": [
    "<font color=\"blue\">We see that platforms PS4 and XOne are growing. They are new platforms and both began to apear in 2013, PS4 has higher sales and is more popular. Other platforms are shrinking. some of them have no more new games and seems to be fade."
   ]
  },
  {
   "cell_type": "code",
   "execution_count": 49,
   "metadata": {},
   "outputs": [
    {
     "data": {
      "image/png": "[encoded data removed]",
      "text/plain": [
       "<Figure size 720x360 with 1 Axes>"
      ]
     },
     "metadata": {
      "needs_background": "light"
     },
     "output_type": "display_data"
    }
   ],
   "source": [
    "fig,ax=plt.subplots(figsize=(10,5))\n",
    "ax=sns.boxplot(x='platform' , y='total_sales', data= data2)\n",
    "ax.set_title('platform-sale-boxplot in last 3 years' , fontsize=20)\n",
    "ax.set_xlabel('platform',fontsize=12)\n",
    "ax.set_ylabel('total_sales',fontsize=12)\n",
    "ax.set_ylim(0,1)\n",
    "plt.show()"
   ]
  },
  {
   "cell_type": "markdown",
   "metadata": {},
   "source": [
    "<font color=\"blue\">We see in the box plot for the global sales of all games, broken down by platforms that the differences in sales are significant. The median of sales in platforms XOne, Wiiu, PS4, X360, Wii are higher. These platforms are as follows on mean: PS4, XOne, Wiiu, Wii, X360, 3DS. So platforms PS4 is more affected by outliers and more skewed to right. it means there are some games in this platform that are very popular."
   ]
  },
  {
   "cell_type": "code",
   "execution_count": 50,
   "metadata": {},
   "outputs": [],
   "source": [
    "df= data2.pivot_table(index='platform', values='total_sales').sort_values('total_sales', ascending=False).reset_index()"
   ]
  },
  {
   "cell_type": "code",
   "execution_count": 51,
   "metadata": {},
   "outputs": [
    {
     "data": {
      "text/html": [
       "<div>\n",
       "<style scoped>\n",
       "    .dataframe tbody tr th:only-of-type {\n",
       "        vertical-align: middle;\n",
       "    }\n",
       "\n",
       "    .dataframe tbody tr th {\n",
       "        vertical-align: top;\n",
       "    }\n",
       "\n",
       "    .dataframe thead th {\n",
       "        text-align: right;\n",
       "    }\n",
       "</style>\n",
       "<table border=\"1\" class=\"dataframe\">\n",
       "  <thead>\n",
       "    <tr style=\"text-align: right;\">\n",
       "      <th></th>\n",
       "      <th>platform</th>\n",
       "      <th>total_sales</th>\n",
       "    </tr>\n",
       "  </thead>\n",
       "  <tbody>\n",
       "    <tr>\n",
       "      <th>0</th>\n",
       "      <td>PS4</td>\n",
       "      <td>0.766356</td>\n",
       "    </tr>\n",
       "    <tr>\n",
       "      <th>1</th>\n",
       "      <td>XOne</td>\n",
       "      <td>0.615614</td>\n",
       "    </tr>\n",
       "    <tr>\n",
       "      <th>2</th>\n",
       "      <td>WiiU</td>\n",
       "      <td>0.588767</td>\n",
       "    </tr>\n",
       "    <tr>\n",
       "      <th>3</th>\n",
       "      <td>Wii</td>\n",
       "      <td>0.460909</td>\n",
       "    </tr>\n",
       "    <tr>\n",
       "      <th>4</th>\n",
       "      <td>X360</td>\n",
       "      <td>0.434414</td>\n",
       "    </tr>\n",
       "    <tr>\n",
       "      <th>5</th>\n",
       "      <td>3DS</td>\n",
       "      <td>0.408868</td>\n",
       "    </tr>\n",
       "    <tr>\n",
       "      <th>6</th>\n",
       "      <td>PS3</td>\n",
       "      <td>0.311324</td>\n",
       "    </tr>\n",
       "    <tr>\n",
       "      <th>7</th>\n",
       "      <td>PC</td>\n",
       "      <td>0.179139</td>\n",
       "    </tr>\n",
       "    <tr>\n",
       "      <th>8</th>\n",
       "      <td>PSV</td>\n",
       "      <td>0.076554</td>\n",
       "    </tr>\n",
       "    <tr>\n",
       "      <th>9</th>\n",
       "      <td>PSP</td>\n",
       "      <td>0.027692</td>\n",
       "    </tr>\n",
       "  </tbody>\n",
       "</table>\n",
       "</div>"
      ],
      "text/plain": [
       "  platform  total_sales\n",
       "0      PS4     0.766356\n",
       "1     XOne     0.615614\n",
       "2     WiiU     0.588767\n",
       "3      Wii     0.460909\n",
       "4     X360     0.434414\n",
       "5      3DS     0.408868\n",
       "6      PS3     0.311324\n",
       "7       PC     0.179139\n",
       "8      PSV     0.076554\n",
       "9      PSP     0.027692"
      ]
     },
     "execution_count": 51,
     "metadata": {},
     "output_type": "execute_result"
    }
   ],
   "source": [
    "df"
   ]
  },
  {
   "cell_type": "code",
   "execution_count": 52,
   "metadata": {},
   "outputs": [
    {
     "data": {
      "image/png": "[encoded data removed]",
      "text/plain": [
       "<Figure size 720x360 with 1 Axes>"
      ]
     },
     "metadata": {
      "needs_background": "light"
     },
     "output_type": "display_data"
    }
   ],
   "source": [
    "fig,ax=plt.subplots(figsize=(10,5))\n",
    "ax=sns.barplot(x='platform' , y='total_sales', data=df)\n",
    "ax.set_title('average sales by platforms in last 3 years' , fontsize=20)\n",
    "ax.set_xlabel('platform',fontsize=12)\n",
    "ax.set_ylabel('total_sales',fontsize=12)\n",
    "plt.show()"
   ]
  },
  {
   "cell_type": "markdown",
   "metadata": {},
   "source": [
    "<font color=\"blue\">To analyse how user and professional reviews affect sales, we chose one popular platform: PS4 and filter it by missing values. Build a scatter plot and calculate the correlation between reviews and sales."
   ]
  },
  {
   "cell_type": "code",
   "execution_count": 53,
   "metadata": {},
   "outputs": [],
   "source": [
    "data_PS4=data.query('platform==\"PS4\"')"
   ]
  },
  {
   "cell_type": "code",
   "execution_count": 54,
   "metadata": {
    "scrolled": true
   },
   "outputs": [
    {
     "name": "stdout",
     "output_type": "stream",
     "text": [
      "<class 'pandas.core.frame.DataFrame'>\n",
      "Int64Index: 392 entries, 31 to 16585\n",
      "Data columns (total 12 columns):\n",
      " #   Column           Non-Null Count  Dtype  \n",
      "---  ------           --------------  -----  \n",
      " 0   name             392 non-null    object \n",
      " 1   platform         392 non-null    object \n",
      " 2   year_of_release  392 non-null    int32  \n",
      " 3   genre            392 non-null    object \n",
      " 4   na_sales         392 non-null    float64\n",
      " 5   eu_sales         392 non-null    float64\n",
      " 6   jp_sales         392 non-null    float64\n",
      " 7   other_sales      392 non-null    float64\n",
      " 8   critic_score     252 non-null    float64\n",
      " 9   user_score       257 non-null    float64\n",
      " 10  rating           255 non-null    object \n",
      " 11  total_sales      392 non-null    float64\n",
      "dtypes: float64(7), int32(1), object(4)\n",
      "memory usage: 38.3+ KB\n"
     ]
    }
   ],
   "source": [
    "data_PS4.info()"
   ]
  },
  {
   "cell_type": "code",
   "execution_count": 55,
   "metadata": {},
   "outputs": [],
   "source": [
    "data_PS4.dropna(subset=['user_score','critic_score'],inplace=True)"
   ]
  },
  {
   "cell_type": "code",
   "execution_count": 56,
   "metadata": {
    "scrolled": false
   },
   "outputs": [
    {
     "data": {
      "text/plain": [
       "249"
      ]
     },
     "execution_count": 56,
     "metadata": {},
     "output_type": "execute_result"
    }
   ],
   "source": [
    "data_PS4_filterd=data_PS4.query('~(user_score==\"tbd\" or user_score==0)')\n",
    "len(data_PS4_filterd)"
   ]
  },
  {
   "cell_type": "code",
   "execution_count": 57,
   "metadata": {},
   "outputs": [
    {
     "data": {
      "image/png": "[encoded data removed]",
      "text/plain": [
       "<Figure size 432x432 with 3 Axes>"
      ]
     },
     "metadata": {
      "needs_background": "light"
     },
     "output_type": "display_data"
    }
   ],
   "source": [
    "ax=sns.jointplot(x='user_score', y='total_sales', data=data_PS4_filterd, kind='reg')\n",
    "plt.show()"
   ]
  },
  {
   "cell_type": "code",
   "execution_count": 58,
   "metadata": {},
   "outputs": [
    {
     "data": {
      "image/png": "[encoded data removed]",
      "text/plain": [
       "<Figure size 432x432 with 3 Axes>"
      ]
     },
     "metadata": {
      "needs_background": "light"
     },
     "output_type": "display_data"
    }
   ],
   "source": [
    "ax=sns.jointplot(x='critic_score', y='total_sales', data=data_PS4_filterd, kind='reg')\n",
    "plt.show()"
   ]
  },
  {
   "cell_type": "code",
   "execution_count": 59,
   "metadata": {},
   "outputs": [
    {
     "data": {
      "text/plain": [
       "0.4058948014583664"
      ]
     },
     "execution_count": 59,
     "metadata": {},
     "output_type": "execute_result"
    }
   ],
   "source": [
    "data_PS4_filterd['total_sales'].corr(data_PS4_filterd['critic_score'])"
   ]
  },
  {
   "cell_type": "code",
   "execution_count": 60,
   "metadata": {},
   "outputs": [
    {
     "data": {
      "text/plain": [
       "-0.033624975965288795"
      ]
     },
     "execution_count": 60,
     "metadata": {},
     "output_type": "execute_result"
    }
   ],
   "source": [
    "data_PS4_filterd['total_sales'].corr(data_PS4_filterd['user_score'])"
   ]
  },
  {
   "cell_type": "markdown",
   "metadata": {},
   "source": [
    "<font color=\"blue\">We see that for the games in platform PS4, there is a low correlation between user reviwes and sale, but a higher correltion between sale and professionnal reviwes. Sometimes games do not have high sales despite having a high score from users or experts."
   ]
  },
  {
   "cell_type": "code",
   "execution_count": 61,
   "metadata": {},
   "outputs": [
    {
     "data": {
      "text/plain": [
       "249"
      ]
     },
     "execution_count": 61,
     "metadata": {},
     "output_type": "execute_result"
    }
   ],
   "source": [
    "games=data_PS4_filterd['name']\n",
    "len(games)"
   ]
  },
  {
   "cell_type": "code",
   "execution_count": 62,
   "metadata": {
    "scrolled": true
   },
   "outputs": [
    {
     "data": {
      "text/html": [
       "<div>\n",
       "<style scoped>\n",
       "    .dataframe tbody tr th:only-of-type {\n",
       "        vertical-align: middle;\n",
       "    }\n",
       "\n",
       "    .dataframe tbody tr th {\n",
       "        vertical-align: top;\n",
       "    }\n",
       "\n",
       "    .dataframe thead th {\n",
       "        text-align: right;\n",
       "    }\n",
       "</style>\n",
       "<table border=\"1\" class=\"dataframe\">\n",
       "  <thead>\n",
       "    <tr style=\"text-align: right;\">\n",
       "      <th></th>\n",
       "      <th>name</th>\n",
       "      <th>platform</th>\n",
       "      <th>year_of_release</th>\n",
       "      <th>genre</th>\n",
       "      <th>na_sales</th>\n",
       "      <th>eu_sales</th>\n",
       "      <th>jp_sales</th>\n",
       "      <th>other_sales</th>\n",
       "      <th>critic_score</th>\n",
       "      <th>user_score</th>\n",
       "      <th>rating</th>\n",
       "      <th>total_sales</th>\n",
       "    </tr>\n",
       "  </thead>\n",
       "  <tbody>\n",
       "    <tr>\n",
       "      <th>42</th>\n",
       "      <td>Grand Theft Auto V</td>\n",
       "      <td>PS4</td>\n",
       "      <td>2014</td>\n",
       "      <td>Action</td>\n",
       "      <td>3.96</td>\n",
       "      <td>6.31</td>\n",
       "      <td>0.38</td>\n",
       "      <td>1.97</td>\n",
       "      <td>97.0</td>\n",
       "      <td>8.3</td>\n",
       "      <td>M</td>\n",
       "      <td>12.62</td>\n",
       "    </tr>\n",
       "    <tr>\n",
       "      <th>77</th>\n",
       "      <td>FIFA 16</td>\n",
       "      <td>PS4</td>\n",
       "      <td>2015</td>\n",
       "      <td>Sports</td>\n",
       "      <td>1.12</td>\n",
       "      <td>6.12</td>\n",
       "      <td>0.06</td>\n",
       "      <td>1.28</td>\n",
       "      <td>82.0</td>\n",
       "      <td>4.3</td>\n",
       "      <td>E</td>\n",
       "      <td>8.58</td>\n",
       "    </tr>\n",
       "    <tr>\n",
       "      <th>92</th>\n",
       "      <td>Call of Duty: Advanced Warfare</td>\n",
       "      <td>PS4</td>\n",
       "      <td>2014</td>\n",
       "      <td>Shooter</td>\n",
       "      <td>2.81</td>\n",
       "      <td>3.48</td>\n",
       "      <td>0.14</td>\n",
       "      <td>1.23</td>\n",
       "      <td>83.0</td>\n",
       "      <td>5.7</td>\n",
       "      <td>M</td>\n",
       "      <td>7.66</td>\n",
       "    </tr>\n",
       "    <tr>\n",
       "      <th>94</th>\n",
       "      <td>FIFA 17</td>\n",
       "      <td>PS4</td>\n",
       "      <td>2016</td>\n",
       "      <td>Sports</td>\n",
       "      <td>0.66</td>\n",
       "      <td>5.75</td>\n",
       "      <td>0.08</td>\n",
       "      <td>1.11</td>\n",
       "      <td>85.0</td>\n",
       "      <td>5.0</td>\n",
       "      <td>E</td>\n",
       "      <td>7.60</td>\n",
       "    </tr>\n",
       "    <tr>\n",
       "      <th>105</th>\n",
       "      <td>Fallout 4</td>\n",
       "      <td>PS4</td>\n",
       "      <td>2015</td>\n",
       "      <td>Role-Playing</td>\n",
       "      <td>2.53</td>\n",
       "      <td>3.27</td>\n",
       "      <td>0.24</td>\n",
       "      <td>1.13</td>\n",
       "      <td>87.0</td>\n",
       "      <td>6.5</td>\n",
       "      <td>M</td>\n",
       "      <td>7.17</td>\n",
       "    </tr>\n",
       "  </tbody>\n",
       "</table>\n",
       "</div>"
      ],
      "text/plain": [
       "                               name platform  year_of_release         genre  \\\n",
       "42               Grand Theft Auto V      PS4             2014        Action   \n",
       "77                          FIFA 16      PS4             2015        Sports   \n",
       "92   Call of Duty: Advanced Warfare      PS4             2014       Shooter   \n",
       "94                          FIFA 17      PS4             2016        Sports   \n",
       "105                       Fallout 4      PS4             2015  Role-Playing   \n",
       "\n",
       "     na_sales  eu_sales  jp_sales  other_sales  critic_score  user_score  \\\n",
       "42       3.96      6.31      0.38         1.97          97.0         8.3   \n",
       "77       1.12      6.12      0.06         1.28          82.0         4.3   \n",
       "92       2.81      3.48      0.14         1.23          83.0         5.7   \n",
       "94       0.66      5.75      0.08         1.11          85.0         5.0   \n",
       "105      2.53      3.27      0.24         1.13          87.0         6.5   \n",
       "\n",
       "    rating  total_sales  \n",
       "42       M        12.62  \n",
       "77       E         8.58  \n",
       "92       M         7.66  \n",
       "94       E         7.60  \n",
       "105      M         7.17  "
      ]
     },
     "execution_count": 62,
     "metadata": {},
     "output_type": "execute_result"
    }
   ],
   "source": [
    "data5=data2.query('name in @games')\n",
    "data5.head()"
   ]
  },
  {
   "cell_type": "code",
   "execution_count": 63,
   "metadata": {},
   "outputs": [],
   "source": [
    "df=data5.pivot_table(index='platform',values='total_sales', aggfunc='sum').sort_values('total_sales', ascending=False).reset_index()"
   ]
  },
  {
   "cell_type": "code",
   "execution_count": 64,
   "metadata": {},
   "outputs": [
    {
     "data": {
      "text/html": [
       "<div>\n",
       "<style scoped>\n",
       "    .dataframe tbody tr th:only-of-type {\n",
       "        vertical-align: middle;\n",
       "    }\n",
       "\n",
       "    .dataframe tbody tr th {\n",
       "        vertical-align: top;\n",
       "    }\n",
       "\n",
       "    .dataframe thead th {\n",
       "        text-align: right;\n",
       "    }\n",
       "</style>\n",
       "<table border=\"1\" class=\"dataframe\">\n",
       "  <thead>\n",
       "    <tr style=\"text-align: right;\">\n",
       "      <th></th>\n",
       "      <th>platform</th>\n",
       "      <th>total_sales</th>\n",
       "    </tr>\n",
       "  </thead>\n",
       "  <tbody>\n",
       "    <tr>\n",
       "      <th>0</th>\n",
       "      <td>PS4</td>\n",
       "      <td>219.20</td>\n",
       "    </tr>\n",
       "    <tr>\n",
       "      <th>1</th>\n",
       "      <td>XOne</td>\n",
       "      <td>90.01</td>\n",
       "    </tr>\n",
       "    <tr>\n",
       "      <th>2</th>\n",
       "      <td>PS3</td>\n",
       "      <td>40.80</td>\n",
       "    </tr>\n",
       "    <tr>\n",
       "      <th>3</th>\n",
       "      <td>X360</td>\n",
       "      <td>33.50</td>\n",
       "    </tr>\n",
       "    <tr>\n",
       "      <th>4</th>\n",
       "      <td>PC</td>\n",
       "      <td>13.93</td>\n",
       "    </tr>\n",
       "    <tr>\n",
       "      <th>5</th>\n",
       "      <td>WiiU</td>\n",
       "      <td>5.93</td>\n",
       "    </tr>\n",
       "    <tr>\n",
       "      <th>6</th>\n",
       "      <td>PSV</td>\n",
       "      <td>5.50</td>\n",
       "    </tr>\n",
       "    <tr>\n",
       "      <th>7</th>\n",
       "      <td>Wii</td>\n",
       "      <td>4.62</td>\n",
       "    </tr>\n",
       "    <tr>\n",
       "      <th>8</th>\n",
       "      <td>3DS</td>\n",
       "      <td>3.65</td>\n",
       "    </tr>\n",
       "    <tr>\n",
       "      <th>9</th>\n",
       "      <td>PSP</td>\n",
       "      <td>0.05</td>\n",
       "    </tr>\n",
       "  </tbody>\n",
       "</table>\n",
       "</div>"
      ],
      "text/plain": [
       "  platform  total_sales\n",
       "0      PS4       219.20\n",
       "1     XOne        90.01\n",
       "2      PS3        40.80\n",
       "3     X360        33.50\n",
       "4       PC        13.93\n",
       "5     WiiU         5.93\n",
       "6      PSV         5.50\n",
       "7      Wii         4.62\n",
       "8      3DS         3.65\n",
       "9      PSP         0.05"
      ]
     },
     "execution_count": 64,
     "metadata": {},
     "output_type": "execute_result"
    }
   ],
   "source": [
    "df"
   ]
  },
  {
   "cell_type": "code",
   "execution_count": 65,
   "metadata": {},
   "outputs": [
    {
     "data": {
      "image/png": "[encoded data removed]",
      "text/plain": [
       "<Figure size 720x360 with 1 Axes>"
      ]
     },
     "metadata": {
      "needs_background": "light"
     },
     "output_type": "display_data"
    }
   ],
   "source": [
    "fig,ax=plt.subplots(figsize=(10,5))\n",
    "ax=sns.barplot(x='platform', y='total_sales', data=df)\n",
    "ax.set_title('sales-platforms for games in platform PS4' , fontsize=20)\n",
    "ax.set_xlabel('platform',fontsize=12)\n",
    "ax.set_ylabel('total_sales',fontsize=12);"
   ]
  },
  {
   "cell_type": "code",
   "execution_count": 66,
   "metadata": {},
   "outputs": [
    {
     "data": {
      "text/plain": [
       "PS4     376\n",
       "PSV     296\n",
       "XOne    228\n",
       "PS3     219\n",
       "3DS     212\n",
       "PC      151\n",
       "X360    111\n",
       "WiiU     73\n",
       "PSP      13\n",
       "Wii      11\n",
       "Name: platform, dtype: int64"
      ]
     },
     "execution_count": 66,
     "metadata": {},
     "output_type": "execute_result"
    }
   ],
   "source": [
    "data2['platform'].value_counts()"
   ]
  },
  {
   "cell_type": "markdown",
   "metadata": {},
   "source": [
    "<font color=\"blue\">If we check the sales on other platforms for the same games in PS4, we see that the sale is higher for XOne, PS3 and X360 than the others. "
   ]
  },
  {
   "cell_type": "code",
   "execution_count": 67,
   "metadata": {},
   "outputs": [],
   "source": [
    "df=data2.pivot_table(index='genre',values='total_sales', aggfunc='sum').sort_values('total_sales').reset_index()"
   ]
  },
  {
   "cell_type": "code",
   "execution_count": 68,
   "metadata": {},
   "outputs": [
    {
     "data": {
      "text/html": [
       "<div>\n",
       "<style scoped>\n",
       "    .dataframe tbody tr th:only-of-type {\n",
       "        vertical-align: middle;\n",
       "    }\n",
       "\n",
       "    .dataframe tbody tr th {\n",
       "        vertical-align: top;\n",
       "    }\n",
       "\n",
       "    .dataframe thead th {\n",
       "        text-align: right;\n",
       "    }\n",
       "</style>\n",
       "<table border=\"1\" class=\"dataframe\">\n",
       "  <thead>\n",
       "    <tr style=\"text-align: right;\">\n",
       "      <th></th>\n",
       "      <th>genre</th>\n",
       "      <th>total_sales</th>\n",
       "    </tr>\n",
       "  </thead>\n",
       "  <tbody>\n",
       "    <tr>\n",
       "      <th>0</th>\n",
       "      <td>Puzzle</td>\n",
       "      <td>2.21</td>\n",
       "    </tr>\n",
       "    <tr>\n",
       "      <th>1</th>\n",
       "      <td>Strategy</td>\n",
       "      <td>3.96</td>\n",
       "    </tr>\n",
       "    <tr>\n",
       "      <th>2</th>\n",
       "      <td>Simulation</td>\n",
       "      <td>13.13</td>\n",
       "    </tr>\n",
       "    <tr>\n",
       "      <th>3</th>\n",
       "      <td>Adventure</td>\n",
       "      <td>17.55</td>\n",
       "    </tr>\n",
       "    <tr>\n",
       "      <th>4</th>\n",
       "      <td>Platform</td>\n",
       "      <td>18.09</td>\n",
       "    </tr>\n",
       "    <tr>\n",
       "      <th>5</th>\n",
       "      <td>Racing</td>\n",
       "      <td>27.52</td>\n",
       "    </tr>\n",
       "    <tr>\n",
       "      <th>6</th>\n",
       "      <td>Fighting</td>\n",
       "      <td>28.22</td>\n",
       "    </tr>\n",
       "    <tr>\n",
       "      <th>7</th>\n",
       "      <td>Misc</td>\n",
       "      <td>37.55</td>\n",
       "    </tr>\n",
       "    <tr>\n",
       "      <th>8</th>\n",
       "      <td>Role-Playing</td>\n",
       "      <td>101.70</td>\n",
       "    </tr>\n",
       "    <tr>\n",
       "      <th>9</th>\n",
       "      <td>Sports</td>\n",
       "      <td>109.48</td>\n",
       "    </tr>\n",
       "    <tr>\n",
       "      <th>10</th>\n",
       "      <td>Shooter</td>\n",
       "      <td>170.94</td>\n",
       "    </tr>\n",
       "    <tr>\n",
       "      <th>11</th>\n",
       "      <td>Action</td>\n",
       "      <td>199.36</td>\n",
       "    </tr>\n",
       "  </tbody>\n",
       "</table>\n",
       "</div>"
      ],
      "text/plain": [
       "           genre  total_sales\n",
       "0         Puzzle         2.21\n",
       "1       Strategy         3.96\n",
       "2     Simulation        13.13\n",
       "3      Adventure        17.55\n",
       "4       Platform        18.09\n",
       "5         Racing        27.52\n",
       "6       Fighting        28.22\n",
       "7           Misc        37.55\n",
       "8   Role-Playing       101.70\n",
       "9         Sports       109.48\n",
       "10       Shooter       170.94\n",
       "11        Action       199.36"
      ]
     },
     "execution_count": 68,
     "metadata": {},
     "output_type": "execute_result"
    }
   ],
   "source": [
    "df"
   ]
  },
  {
   "cell_type": "code",
   "execution_count": 69,
   "metadata": {
    "scrolled": true
   },
   "outputs": [
    {
     "data": {
      "image/png": "[encoded data removed]",
      "text/plain": [
       "<Figure size 720x360 with 1 Axes>"
      ]
     },
     "metadata": {
      "needs_background": "light"
     },
     "output_type": "display_data"
    }
   ],
   "source": [
    "fig,ax=plt.subplots(figsize=(10,5))\n",
    "ax=sns.barplot(x='genre', y='total_sales', data=df)\n",
    "ax.set_title('sales-genre in last 3 years' , fontsize=20)\n",
    "ax.set_xlabel('genre',fontsize=12)\n",
    "ax.set_ylabel('total_sales',fontsize=12)\n",
    "ax.set_xticklabels(ax.get_xticklabels(), rotation=45);"
   ]
  },
  {
   "cell_type": "markdown",
   "metadata": {},
   "source": [
    "<font color=\"blue\">Checking the total sale for different genres, shows that the popular genres are Action, Shooter, Sports, Role_playing and Misc. Puzzle and Strategy have the lowest sale. "
   ]
  },
  {
   "cell_type": "code",
   "execution_count": 70,
   "metadata": {},
   "outputs": [
    {
     "data": {
      "image/png": "[encoded data removed]",
      "text/plain": [
       "<Figure size 720x360 with 1 Axes>"
      ]
     },
     "metadata": {
      "needs_background": "light"
     },
     "output_type": "display_data"
    }
   ],
   "source": [
    "fig,ax=plt.subplots(figsize=(10,5))\n",
    "ax=sns.boxplot(x='genre' , y='total_sales', data= data2)\n",
    "ax.set_title('genre-sale-boxplot in last 3 years' , fontsize=20)\n",
    "ax.set_xlabel('genre',fontsize=12)\n",
    "ax.set_ylabel('total_sales',fontsize=12)\n",
    "ax.set_xticklabels(ax.get_xticklabels(), rotation=45)\n",
    "ax.set_ylim(0,1);"
   ]
  },
  {
   "cell_type": "markdown",
   "metadata": {},
   "source": [
    "<font color=\"blue\">\n",
    "    \n",
    "We see in the box plot for the global sales of all games, broken down by genre that there are differences in sales. Genres which their median and mean of sales are higher are as follows: Shooter, Sports, Platform. The sale of these genres are the same on mean. Puzzle, Strategy and Adventure have the lowest median and mean of sale. Obviously, more exciting genres have more fans and probably more new game designs have been made for these genres. "
   ]
  },
  {
   "cell_type": "code",
   "execution_count": 71,
   "metadata": {},
   "outputs": [],
   "source": [
    "df=data2.pivot_table(index='genre', values='total_sales' , aggfunc='mean').sort_values('total_sales').reset_index()"
   ]
  },
  {
   "cell_type": "code",
   "execution_count": 72,
   "metadata": {},
   "outputs": [
    {
     "data": {
      "text/html": [
       "<div>\n",
       "<style scoped>\n",
       "    .dataframe tbody tr th:only-of-type {\n",
       "        vertical-align: middle;\n",
       "    }\n",
       "\n",
       "    .dataframe tbody tr th {\n",
       "        vertical-align: top;\n",
       "    }\n",
       "\n",
       "    .dataframe thead th {\n",
       "        text-align: right;\n",
       "    }\n",
       "</style>\n",
       "<table border=\"1\" class=\"dataframe\">\n",
       "  <thead>\n",
       "    <tr style=\"text-align: right;\">\n",
       "      <th></th>\n",
       "      <th>genre</th>\n",
       "      <th>total_sales</th>\n",
       "    </tr>\n",
       "  </thead>\n",
       "  <tbody>\n",
       "    <tr>\n",
       "      <th>0</th>\n",
       "      <td>Adventure</td>\n",
       "      <td>0.094865</td>\n",
       "    </tr>\n",
       "    <tr>\n",
       "      <th>1</th>\n",
       "      <td>Strategy</td>\n",
       "      <td>0.107027</td>\n",
       "    </tr>\n",
       "    <tr>\n",
       "      <th>2</th>\n",
       "      <td>Puzzle</td>\n",
       "      <td>0.157857</td>\n",
       "    </tr>\n",
       "    <tr>\n",
       "      <th>3</th>\n",
       "      <td>Simulation</td>\n",
       "      <td>0.298409</td>\n",
       "    </tr>\n",
       "    <tr>\n",
       "      <th>4</th>\n",
       "      <td>Action</td>\n",
       "      <td>0.322068</td>\n",
       "    </tr>\n",
       "    <tr>\n",
       "      <th>5</th>\n",
       "      <td>Misc</td>\n",
       "      <td>0.332301</td>\n",
       "    </tr>\n",
       "    <tr>\n",
       "      <th>6</th>\n",
       "      <td>Racing</td>\n",
       "      <td>0.398841</td>\n",
       "    </tr>\n",
       "    <tr>\n",
       "      <th>7</th>\n",
       "      <td>Role-Playing</td>\n",
       "      <td>0.458108</td>\n",
       "    </tr>\n",
       "    <tr>\n",
       "      <th>8</th>\n",
       "      <td>Fighting</td>\n",
       "      <td>0.470333</td>\n",
       "    </tr>\n",
       "    <tr>\n",
       "      <th>9</th>\n",
       "      <td>Platform</td>\n",
       "      <td>0.476053</td>\n",
       "    </tr>\n",
       "    <tr>\n",
       "      <th>10</th>\n",
       "      <td>Sports</td>\n",
       "      <td>0.680000</td>\n",
       "    </tr>\n",
       "    <tr>\n",
       "      <th>11</th>\n",
       "      <td>Shooter</td>\n",
       "      <td>1.335469</td>\n",
       "    </tr>\n",
       "  </tbody>\n",
       "</table>\n",
       "</div>"
      ],
      "text/plain": [
       "           genre  total_sales\n",
       "0      Adventure     0.094865\n",
       "1       Strategy     0.107027\n",
       "2         Puzzle     0.157857\n",
       "3     Simulation     0.298409\n",
       "4         Action     0.322068\n",
       "5           Misc     0.332301\n",
       "6         Racing     0.398841\n",
       "7   Role-Playing     0.458108\n",
       "8       Fighting     0.470333\n",
       "9       Platform     0.476053\n",
       "10        Sports     0.680000\n",
       "11       Shooter     1.335469"
      ]
     },
     "execution_count": 72,
     "metadata": {},
     "output_type": "execute_result"
    }
   ],
   "source": [
    "df"
   ]
  },
  {
   "cell_type": "code",
   "execution_count": 73,
   "metadata": {},
   "outputs": [
    {
     "data": {
      "image/png": "[encoded data removed]",
      "text/plain": [
       "<Figure size 720x360 with 1 Axes>"
      ]
     },
     "metadata": {
      "needs_background": "light"
     },
     "output_type": "display_data"
    }
   ],
   "source": [
    "fig,ax=plt.subplots(figsize=(10,5))\n",
    "ax=sns.barplot(x='genre' , y='total_sales', data= df)\n",
    "ax.set_title('average sales by genre in last 3 years' , fontsize=20)\n",
    "ax.set_xlabel('genre',fontsize=12)\n",
    "ax.set_ylabel('total_sales',fontsize=12)\n",
    "ax.set_xticklabels(ax.get_xticklabels(), rotation=45);"
   ]
  },
  {
   "cell_type": "markdown",
   "metadata": {},
   "source": [
    "## Conclusion"
   ]
  },
  {
   "cell_type": "markdown",
   "metadata": {},
   "source": [
    "<font color=\"blue\">\n",
    "    \n",
    "**Analyzing the data**\n",
    "    \n",
    "1- We check how many games were released in different years. We see that most of the games were released in 2007 to 2011. Before the year 1995 few games were released and after that, the variety of games gradually increased.\n",
    "We check the total sales for platforms. We can see that platform PS2 is the most popular platform, then X360 and PS3. Then we check the distribution of the tree popular platforms based on data for each year.\n",
    "  \n",
    "2- We see that for each platform, sales based on the game's release year have an 11-year period. That means with the first design of the game on a new platform, its sales grow for about 5 years and reach its peak of popularity, and then sales growth decreases, and after about 11 years, no new design is done and the platform gradually disappears. \n",
    "    \n",
    "The growth period of each platform is about 5 years, and since we want to generalize the analysis for 2017, it is better to use the data of the last 3 years as the basis for the analysis. We see that most popular platforms in the last 3 years are PS4, XOne, 3DS, PS3, X360, WiiU and PC. let's check the growth of each platforms in this period of time.  \n",
    "    \n",
    "3- We see that platforms PS4 and XOne are growing. They are new platforms and both began to apear in 2013, PS4 has higher sales and is more popular. Other platforms are shrinking. some of them have no more new games and seems to be fade.\n",
    "    \n",
    "4- We see in the box plot for the global sales of all games, broken down by platforms that the differences in sales are significant. The median of sales in platforms XOne, Wiiu, PS4, X360, Wii are higher. These platforms are as follows on mean: PS4, XOne, Wiiu, Wii, X360, 3DS. So platforms PS4 is more affected by outliers and more skewed to right. it means there are some games in this platform that are very popular.\n",
    "\n",
    "5- To analyse how user and professional reviews affect sales, we chose one popular platform: PS4 and filter it by missing values. Build a scatter plot and calculate the correlation between reviews and sales.\n",
    "\n",
    "6- We see that for the games in platform PS4, there is a low correlation between user reviwes and sale, but a higher correltion between sale and professionnal reviwes. Sometimes games do not have high sales despite having a high score from users or experts.\n",
    "\n",
    "7- Checking the total sale for different genres, shows that the popular genres are Action, Shooter, Sports, Role_playing and Misc. Puzzle and Strategy have the lowest sale.\n",
    "\n",
    "8- We see in the box plot for the global sales of all games, broken down by genre that there are differences in sales. Genres which their median and mean of sales are higher are as follows: Shooter, Sports, Platform). The sale of these genres are the same on mean. Puzzle, Strategy and Adventure have the lowest median and mean of sale.\n"
   ]
  },
  {
   "cell_type": "markdown",
   "metadata": {},
   "source": [
    "## Step 4. Create a user profile for each region"
   ]
  },
  {
   "cell_type": "code",
   "execution_count": 74,
   "metadata": {},
   "outputs": [
    {
     "data": {
      "text/html": [
       "<div>\n",
       "<style scoped>\n",
       "    .dataframe tbody tr th:only-of-type {\n",
       "        vertical-align: middle;\n",
       "    }\n",
       "\n",
       "    .dataframe tbody tr th {\n",
       "        vertical-align: top;\n",
       "    }\n",
       "\n",
       "    .dataframe thead th {\n",
       "        text-align: right;\n",
       "    }\n",
       "</style>\n",
       "<table border=\"1\" class=\"dataframe\">\n",
       "  <thead>\n",
       "    <tr style=\"text-align: right;\">\n",
       "      <th></th>\n",
       "      <th>name</th>\n",
       "      <th>platform</th>\n",
       "      <th>year_of_release</th>\n",
       "      <th>genre</th>\n",
       "      <th>na_sales</th>\n",
       "      <th>eu_sales</th>\n",
       "      <th>jp_sales</th>\n",
       "      <th>other_sales</th>\n",
       "      <th>critic_score</th>\n",
       "      <th>user_score</th>\n",
       "      <th>rating</th>\n",
       "      <th>total_sales</th>\n",
       "    </tr>\n",
       "  </thead>\n",
       "  <tbody>\n",
       "    <tr>\n",
       "      <th>31</th>\n",
       "      <td>Call of Duty: Black Ops 3</td>\n",
       "      <td>PS4</td>\n",
       "      <td>2015</td>\n",
       "      <td>Shooter</td>\n",
       "      <td>6.03</td>\n",
       "      <td>5.86</td>\n",
       "      <td>0.36</td>\n",
       "      <td>2.38</td>\n",
       "      <td>NaN</td>\n",
       "      <td>NaN</td>\n",
       "      <td>NaN</td>\n",
       "      <td>14.63</td>\n",
       "    </tr>\n",
       "    <tr>\n",
       "      <th>42</th>\n",
       "      <td>Grand Theft Auto V</td>\n",
       "      <td>PS4</td>\n",
       "      <td>2014</td>\n",
       "      <td>Action</td>\n",
       "      <td>3.96</td>\n",
       "      <td>6.31</td>\n",
       "      <td>0.38</td>\n",
       "      <td>1.97</td>\n",
       "      <td>97.0</td>\n",
       "      <td>8.3</td>\n",
       "      <td>M</td>\n",
       "      <td>12.62</td>\n",
       "    </tr>\n",
       "    <tr>\n",
       "      <th>47</th>\n",
       "      <td>Pokemon Omega Ruby/Pokemon Alpha Sapphire</td>\n",
       "      <td>3DS</td>\n",
       "      <td>2014</td>\n",
       "      <td>Role-Playing</td>\n",
       "      <td>4.35</td>\n",
       "      <td>3.49</td>\n",
       "      <td>3.10</td>\n",
       "      <td>0.74</td>\n",
       "      <td>NaN</td>\n",
       "      <td>NaN</td>\n",
       "      <td>NaN</td>\n",
       "      <td>11.68</td>\n",
       "    </tr>\n",
       "    <tr>\n",
       "      <th>77</th>\n",
       "      <td>FIFA 16</td>\n",
       "      <td>PS4</td>\n",
       "      <td>2015</td>\n",
       "      <td>Sports</td>\n",
       "      <td>1.12</td>\n",
       "      <td>6.12</td>\n",
       "      <td>0.06</td>\n",
       "      <td>1.28</td>\n",
       "      <td>82.0</td>\n",
       "      <td>4.3</td>\n",
       "      <td>E</td>\n",
       "      <td>8.58</td>\n",
       "    </tr>\n",
       "    <tr>\n",
       "      <th>87</th>\n",
       "      <td>Star Wars Battlefront (2015)</td>\n",
       "      <td>PS4</td>\n",
       "      <td>2015</td>\n",
       "      <td>Shooter</td>\n",
       "      <td>2.99</td>\n",
       "      <td>3.49</td>\n",
       "      <td>0.22</td>\n",
       "      <td>1.28</td>\n",
       "      <td>NaN</td>\n",
       "      <td>NaN</td>\n",
       "      <td>NaN</td>\n",
       "      <td>7.98</td>\n",
       "    </tr>\n",
       "  </tbody>\n",
       "</table>\n",
       "</div>"
      ],
      "text/plain": [
       "                                         name platform  year_of_release  \\\n",
       "31                  Call of Duty: Black Ops 3      PS4             2015   \n",
       "42                         Grand Theft Auto V      PS4             2014   \n",
       "47  Pokemon Omega Ruby/Pokemon Alpha Sapphire      3DS             2014   \n",
       "77                                    FIFA 16      PS4             2015   \n",
       "87               Star Wars Battlefront (2015)      PS4             2015   \n",
       "\n",
       "           genre  na_sales  eu_sales  jp_sales  other_sales  critic_score  \\\n",
       "31       Shooter      6.03      5.86      0.36         2.38           NaN   \n",
       "42        Action      3.96      6.31      0.38         1.97          97.0   \n",
       "47  Role-Playing      4.35      3.49      3.10         0.74           NaN   \n",
       "77        Sports      1.12      6.12      0.06         1.28          82.0   \n",
       "87       Shooter      2.99      3.49      0.22         1.28           NaN   \n",
       "\n",
       "    user_score rating  total_sales  \n",
       "31         NaN    NaN        14.63  \n",
       "42         8.3      M        12.62  \n",
       "47         NaN    NaN        11.68  \n",
       "77         4.3      E         8.58  \n",
       "87         NaN    NaN         7.98  "
      ]
     },
     "execution_count": 74,
     "metadata": {},
     "output_type": "execute_result"
    }
   ],
   "source": [
    "data2.head(5)"
   ]
  },
  {
   "cell_type": "code",
   "execution_count": 75,
   "metadata": {
    "scrolled": true
   },
   "outputs": [
    {
     "data": {
      "image/png": "[encoded data removed]",
      "text/plain": [
       "<Figure size 432x288 with 1 Axes>"
      ]
     },
     "metadata": {
      "needs_background": "light"
     },
     "output_type": "display_data"
    },
    {
     "data": {
      "image/png": "[encoded data removed]",
      "text/plain": [
       "<Figure size 432x288 with 1 Axes>"
      ]
     },
     "metadata": {
      "needs_background": "light"
     },
     "output_type": "display_data"
    },
    {
     "data": {
      "image/png": "[encoded data removed]",
      "text/plain": [
       "<Figure size 432x288 with 1 Axes>"
      ]
     },
     "metadata": {
      "needs_background": "light"
     },
     "output_type": "display_data"
    }
   ],
   "source": [
    "data2.pivot_table(index='platform', values='na_sales' , aggfunc='sum').sort_values('na_sales').plot(y='na_sales', kind='bar')\n",
    "data2.pivot_table(index='platform', values='eu_sales' , aggfunc='sum').sort_values('eu_sales').plot(y='eu_sales', kind='bar')\n",
    "data2.pivot_table(index='platform', values='jp_sales' , aggfunc='sum').sort_values('jp_sales').plot(y='jp_sales', kind='bar');"
   ]
  },
  {
   "cell_type": "markdown",
   "metadata": {},
   "source": [
    "<font color=\"blue\">For each region (NA, EU, JP) we check the total sale by platforms for different regions and determine The top five platforms. \n",
    "    \n",
    "   - Region NA: PS4, XOne, X360, 3DS, PS3.\n",
    "   - Region EU: PS4, XOne, PS3, PC, 3DS.\n",
    "   - Region JP: 3DS, PS4, PSV, PS3, WiiU.\n",
    "    \n",
    "We see that in North American and Europe the popular platforms are almost the same, wchich means the Users' tastes are the same. But in Japan Customer behavior is different. Because Japan is one of the designers of games, it is natural that the designed platforms(like 3DS, PS4 and PSV) have more fans on their own. Platforms like PS4, 3DS and PS3 have a high sale in all three regions. "
   ]
  },
  {
   "cell_type": "code",
   "execution_count": 76,
   "metadata": {
    "scrolled": true
   },
   "outputs": [
    {
     "data": {
      "image/png": "[encoded data removed]",
      "text/plain": [
       "<Figure size 432x288 with 1 Axes>"
      ]
     },
     "metadata": {
      "needs_background": "light"
     },
     "output_type": "display_data"
    },
    {
     "data": {
      "image/png": "[encoded data removed]",
      "text/plain": [
       "<Figure size 432x288 with 1 Axes>"
      ]
     },
     "metadata": {
      "needs_background": "light"
     },
     "output_type": "display_data"
    },
    {
     "data": {
      "image/png": "[encoded data removed]",
      "text/plain": [
       "<Figure size 432x288 with 1 Axes>"
      ]
     },
     "metadata": {
      "needs_background": "light"
     },
     "output_type": "display_data"
    }
   ],
   "source": [
    "data2.pivot_table(index='genre', values='na_sales' , aggfunc='sum').sort_values('na_sales').plot(y='na_sales', kind='bar')\n",
    "data2.pivot_table(index='genre', values='eu_sales' , aggfunc='sum').sort_values('eu_sales').plot(y='eu_sales', kind='bar')\n",
    "data2.pivot_table(index='genre', values='jp_sales' , aggfunc='sum').sort_values('jp_sales').plot(y='jp_sales', kind='bar');"
   ]
  },
  {
   "cell_type": "markdown",
   "metadata": {},
   "source": [
    "<font color=\"blue\">For each region (NA, EU, JP) we check the total sale by genre for different regions and determine The top five genres. \n",
    "    \n",
    "   - Region NA: Shooter, Action, Sports, Role_Playing, Misc.\n",
    "   - Region EU: Action, Shooter, Sports, Role_Playing, Racing.\n",
    "   - Region JP: Role_playing, Action, Fighting, Misc, Shooter.\n",
    "    \n",
    "We see that in North American and Europe the popular geners are almost the same too, wchich means the Users' tastes are the same. But in Japan Customer behavior is different. This difference in taste is probably due to cultural reasons and that games designed in Japan itself are closer to the tastes of users in this country. genres like Acton, Role_Playing and Shooter have a high sale in all three regions. Action and Sports have more fans in all three regions."
   ]
  },
  {
   "cell_type": "code",
   "execution_count": 77,
   "metadata": {},
   "outputs": [],
   "source": [
    "data2_filtered=data2.dropna(subset=['rating'])"
   ]
  },
  {
   "cell_type": "code",
   "execution_count": 78,
   "metadata": {},
   "outputs": [
    {
     "data": {
      "text/html": [
       "<div>\n",
       "<style scoped>\n",
       "    .dataframe tbody tr th:only-of-type {\n",
       "        vertical-align: middle;\n",
       "    }\n",
       "\n",
       "    .dataframe tbody tr th {\n",
       "        vertical-align: top;\n",
       "    }\n",
       "\n",
       "    .dataframe thead th {\n",
       "        text-align: right;\n",
       "    }\n",
       "</style>\n",
       "<table border=\"1\" class=\"dataframe\">\n",
       "  <thead>\n",
       "    <tr style=\"text-align: right;\">\n",
       "      <th></th>\n",
       "      <th>name</th>\n",
       "      <th>platform</th>\n",
       "      <th>year_of_release</th>\n",
       "      <th>genre</th>\n",
       "      <th>na_sales</th>\n",
       "      <th>eu_sales</th>\n",
       "      <th>jp_sales</th>\n",
       "      <th>other_sales</th>\n",
       "      <th>critic_score</th>\n",
       "      <th>user_score</th>\n",
       "      <th>rating</th>\n",
       "      <th>total_sales</th>\n",
       "    </tr>\n",
       "  </thead>\n",
       "  <tbody>\n",
       "  </tbody>\n",
       "</table>\n",
       "</div>"
      ],
      "text/plain": [
       "Empty DataFrame\n",
       "Columns: [name, platform, year_of_release, genre, na_sales, eu_sales, jp_sales, other_sales, critic_score, user_score, rating, total_sales]\n",
       "Index: []"
      ]
     },
     "execution_count": 78,
     "metadata": {},
     "output_type": "execute_result"
    }
   ],
   "source": [
    "data2_filtered[data2_filtered['rating'].isnull()]"
   ]
  },
  {
   "cell_type": "code",
   "execution_count": 79,
   "metadata": {},
   "outputs": [
    {
     "data": {
      "text/plain": [
       "array(['M', 'E', 'T', 'E10+'], dtype=object)"
      ]
     },
     "execution_count": 79,
     "metadata": {},
     "output_type": "execute_result"
    }
   ],
   "source": [
    "data2_filtered['rating'].unique()"
   ]
  },
  {
   "cell_type": "code",
   "execution_count": 80,
   "metadata": {},
   "outputs": [
    {
     "data": {
      "image/png": "[encoded data removed]",
      "text/plain": [
       "<Figure size 432x288 with 1 Axes>"
      ]
     },
     "metadata": {
      "needs_background": "light"
     },
     "output_type": "display_data"
    },
    {
     "data": {
      "image/png": "[encoded data removed]",
      "text/plain": [
       "<Figure size 432x288 with 1 Axes>"
      ]
     },
     "metadata": {
      "needs_background": "light"
     },
     "output_type": "display_data"
    },
    {
     "data": {
      "image/png": "[encoded data removed]",
      "text/plain": [
       "<Figure size 432x288 with 1 Axes>"
      ]
     },
     "metadata": {
      "needs_background": "light"
     },
     "output_type": "display_data"
    }
   ],
   "source": [
    "ax=sns.boxplot(y='na_sales',x='rating',data=data2_filtered)\n",
    "ax.set_ylabel('na_sales')\n",
    "ax.set_xlabel('rating')\n",
    "ax.set_ylim(0,.5)\n",
    "plt.show()\n",
    "ax=sns.boxplot(y='eu_sales',x='rating',data=data2_filtered)\n",
    "ax.set_ylabel('eu_sales')\n",
    "ax.set_xlabel('rating')\n",
    "ax.set_ylim(0,.5)\n",
    "plt.show()\n",
    "ax=sns.boxplot(y='jp_sales',x='rating',data=data2_filtered)\n",
    "ax.set_ylabel('jp_sales')\n",
    "ax.set_xlabel('rating')\n",
    "ax.set_ylim(0,.5)\n",
    "plt.show()"
   ]
  },
  {
   "cell_type": "code",
   "execution_count": 81,
   "metadata": {},
   "outputs": [
    {
     "data": {
      "image/png": "[encoded data removed]",
      "text/plain": [
       "<Figure size 432x288 with 1 Axes>"
      ]
     },
     "metadata": {
      "needs_background": "light"
     },
     "output_type": "display_data"
    },
    {
     "data": {
      "image/png": "[encoded data removed]",
      "text/plain": [
       "<Figure size 432x288 with 1 Axes>"
      ]
     },
     "metadata": {
      "needs_background": "light"
     },
     "output_type": "display_data"
    },
    {
     "data": {
      "image/png": "[encoded data removed]",
      "text/plain": [
       "<Figure size 432x288 with 1 Axes>"
      ]
     },
     "metadata": {
      "needs_background": "light"
     },
     "output_type": "display_data"
    }
   ],
   "source": [
    "ax=sns.barplot(x='rating', y='na_sales',data=data2_filtered.pivot_table(index='rating', values='na_sales').sort_values('na_sales').reset_index())\n",
    "ax.set_xlabel('rating',fontsize=12)\n",
    "ax.set_ylabel('na_sales',fontsize=12)\n",
    "plt.show() \n",
    "\n",
    "ax=sns.barplot(x='rating', y='eu_sales',data=data2_filtered.pivot_table(index='rating', values='eu_sales').sort_values('eu_sales').reset_index())\n",
    "ax.set_xlabel('rating',fontsize=12)\n",
    "ax.set_ylabel('eu_sales',fontsize=12)\n",
    "plt.show() \n",
    "\n",
    "ax=sns.barplot(x='rating', y='jp_sales',data=data2_filtered.pivot_table(index='rating', values='jp_sales').sort_values('jp_sales').reset_index())\n",
    "ax.set_xlabel('rating',fontsize=12)\n",
    "ax.set_ylabel('jp_sales',fontsize=12)\n",
    "plt.show() "
   ]
  },
  {
   "cell_type": "markdown",
   "metadata": {},
   "source": [
    "<font color=\"blue\">To check if ESRB ratings affect sales in individual regions, we Build a box plot for the sales of games by Ratings and a bar plot for the average sale by ratings for each region.\n",
    "    \n",
    "   - Region NA: Sales vary by ESRB rating and the average sale is in the following order: M(mature), E(everyone), E10+, T(teenager), AO(adults only).\n",
    "   - Region EU: Sales vary by ESRB rating and the average sale is in the following order: M, E, E10+, T, AO.\n",
    "   - Region JP: Sales vary by ESRB rating and the average sale is in the following order: T, E, M, Ao, E10+. "
   ]
  },
  {
   "cell_type": "markdown",
   "metadata": {},
   "source": [
    "## Conclusion"
   ]
  },
  {
   "cell_type": "markdown",
   "metadata": {},
   "source": [
    "<font color=\"blue\">**Create a user profile for each region**\n",
    "    \n",
    "1- For each region (NA, EU, JP) we check the total sale by platforms for different regions and determine The top five platforms. \n",
    "    \n",
    "   - Region NA: PS4, XOne, X360, 3DS, PS3.\n",
    "   - Region EU: PS4, XOne, PS3, PC, 3DS.\n",
    "   - Region JP: 3DS, PS4, PSV, PS3, WiiU.\n",
    "    \n",
    "We see that in North American and Europe the popular platforms are almost the same, wchich means the Users' tastes are the same. But in Japan Customer behavior is different. Platforms like PS4, 3DS and PS3 have a high sale in all three regions.\n",
    "\n",
    "    \n",
    "\n",
    "2- For each region (NA, EU, JP) we check the total sale by genre for different regions and determine The top five genres. \n",
    "    \n",
    "   - Region NA: Shooter, Action, Sports, Role_Playing, Misc.\n",
    "   - Region EU: Action, Shooter, Sports, Role_Playing, Racing.\n",
    "   - Region JP: Role_playing, Action, Fighting, Misc, Shooter.\n",
    "    \n",
    "We see that in North American and Europe the popular geners are almost the same too, wchich means the Users' tastes are the same. But in Japan Customer behavior is different. genres like Acton, Role_Playing and Shooter have a high sale in all three regions. Action and Sports have more fans in all three regions\n",
    "\n",
    "    \n",
    "    \n",
    "3- To check if ESRB ratings affect sales in individual regions, we Build a box plot for the sales of games by Ratings and a bar plot for the average sale by ratings for each region.\n",
    "    \n",
    "   - Region NA: Sales vary by ESRB rating and the average sale is in the following order: M, E, E10+, T, AO.\n",
    "   - Region EU: Sales vary by ESRB rating and the average sale is in the following order: M, E, E10+, T, AO.\n",
    "   - Region JP: Sales vary by ESRB rating and the average sale is in the following order: T, E, M, Ao, E10+.\n"
   ]
  },
  {
   "cell_type": "markdown",
   "metadata": {},
   "source": [
    "<a id=\"hyp\"></a>\n",
    "## Step 5. Test the hypotheses"
   ]
  },
  {
   "cell_type": "code",
   "execution_count": 82,
   "metadata": {},
   "outputs": [],
   "source": [
    "data5=data2.dropna(subset=['user_score'])"
   ]
  },
  {
   "cell_type": "code",
   "execution_count": 83,
   "metadata": {},
   "outputs": [
    {
     "data": {
      "text/html": [
       "<div>\n",
       "<style scoped>\n",
       "    .dataframe tbody tr th:only-of-type {\n",
       "        vertical-align: middle;\n",
       "    }\n",
       "\n",
       "    .dataframe tbody tr th {\n",
       "        vertical-align: top;\n",
       "    }\n",
       "\n",
       "    .dataframe thead th {\n",
       "        text-align: right;\n",
       "    }\n",
       "</style>\n",
       "<table border=\"1\" class=\"dataframe\">\n",
       "  <thead>\n",
       "    <tr style=\"text-align: right;\">\n",
       "      <th></th>\n",
       "      <th>name</th>\n",
       "      <th>platform</th>\n",
       "      <th>year_of_release</th>\n",
       "      <th>genre</th>\n",
       "      <th>na_sales</th>\n",
       "      <th>eu_sales</th>\n",
       "      <th>jp_sales</th>\n",
       "      <th>other_sales</th>\n",
       "      <th>critic_score</th>\n",
       "      <th>user_score</th>\n",
       "      <th>rating</th>\n",
       "      <th>total_sales</th>\n",
       "    </tr>\n",
       "  </thead>\n",
       "  <tbody>\n",
       "  </tbody>\n",
       "</table>\n",
       "</div>"
      ],
      "text/plain": [
       "Empty DataFrame\n",
       "Columns: [name, platform, year_of_release, genre, na_sales, eu_sales, jp_sales, other_sales, critic_score, user_score, rating, total_sales]\n",
       "Index: []"
      ]
     },
     "execution_count": 83,
     "metadata": {},
     "output_type": "execute_result"
    }
   ],
   "source": [
    "data5[data5['user_score'].isnull()]"
   ]
  },
  {
   "cell_type": "code",
   "execution_count": 84,
   "metadata": {
    "scrolled": true
   },
   "outputs": [
    {
     "data": {
      "text/html": [
       "<div>\n",
       "<style scoped>\n",
       "    .dataframe tbody tr th:only-of-type {\n",
       "        vertical-align: middle;\n",
       "    }\n",
       "\n",
       "    .dataframe tbody tr th {\n",
       "        vertical-align: top;\n",
       "    }\n",
       "\n",
       "    .dataframe thead th {\n",
       "        text-align: right;\n",
       "    }\n",
       "</style>\n",
       "<table border=\"1\" class=\"dataframe\">\n",
       "  <thead>\n",
       "    <tr style=\"text-align: right;\">\n",
       "      <th></th>\n",
       "      <th>name</th>\n",
       "      <th>platform</th>\n",
       "      <th>year_of_release</th>\n",
       "      <th>genre</th>\n",
       "      <th>na_sales</th>\n",
       "      <th>eu_sales</th>\n",
       "      <th>jp_sales</th>\n",
       "      <th>other_sales</th>\n",
       "      <th>critic_score</th>\n",
       "      <th>user_score</th>\n",
       "      <th>rating</th>\n",
       "      <th>total_sales</th>\n",
       "    </tr>\n",
       "  </thead>\n",
       "  <tbody>\n",
       "    <tr>\n",
       "      <th>42</th>\n",
       "      <td>Grand Theft Auto V</td>\n",
       "      <td>PS4</td>\n",
       "      <td>2014</td>\n",
       "      <td>Action</td>\n",
       "      <td>3.96</td>\n",
       "      <td>6.31</td>\n",
       "      <td>0.38</td>\n",
       "      <td>1.97</td>\n",
       "      <td>97.0</td>\n",
       "      <td>8.3</td>\n",
       "      <td>M</td>\n",
       "      <td>12.62</td>\n",
       "    </tr>\n",
       "    <tr>\n",
       "      <th>77</th>\n",
       "      <td>FIFA 16</td>\n",
       "      <td>PS4</td>\n",
       "      <td>2015</td>\n",
       "      <td>Sports</td>\n",
       "      <td>1.12</td>\n",
       "      <td>6.12</td>\n",
       "      <td>0.06</td>\n",
       "      <td>1.28</td>\n",
       "      <td>82.0</td>\n",
       "      <td>4.3</td>\n",
       "      <td>E</td>\n",
       "      <td>8.58</td>\n",
       "    </tr>\n",
       "    <tr>\n",
       "      <th>92</th>\n",
       "      <td>Call of Duty: Advanced Warfare</td>\n",
       "      <td>PS4</td>\n",
       "      <td>2014</td>\n",
       "      <td>Shooter</td>\n",
       "      <td>2.81</td>\n",
       "      <td>3.48</td>\n",
       "      <td>0.14</td>\n",
       "      <td>1.23</td>\n",
       "      <td>83.0</td>\n",
       "      <td>5.7</td>\n",
       "      <td>M</td>\n",
       "      <td>7.66</td>\n",
       "    </tr>\n",
       "    <tr>\n",
       "      <th>94</th>\n",
       "      <td>FIFA 17</td>\n",
       "      <td>PS4</td>\n",
       "      <td>2016</td>\n",
       "      <td>Sports</td>\n",
       "      <td>0.66</td>\n",
       "      <td>5.75</td>\n",
       "      <td>0.08</td>\n",
       "      <td>1.11</td>\n",
       "      <td>85.0</td>\n",
       "      <td>5.0</td>\n",
       "      <td>E</td>\n",
       "      <td>7.60</td>\n",
       "    </tr>\n",
       "    <tr>\n",
       "      <th>105</th>\n",
       "      <td>Fallout 4</td>\n",
       "      <td>PS4</td>\n",
       "      <td>2015</td>\n",
       "      <td>Role-Playing</td>\n",
       "      <td>2.53</td>\n",
       "      <td>3.27</td>\n",
       "      <td>0.24</td>\n",
       "      <td>1.13</td>\n",
       "      <td>87.0</td>\n",
       "      <td>6.5</td>\n",
       "      <td>M</td>\n",
       "      <td>7.17</td>\n",
       "    </tr>\n",
       "  </tbody>\n",
       "</table>\n",
       "</div>"
      ],
      "text/plain": [
       "                               name platform  year_of_release         genre  \\\n",
       "42               Grand Theft Auto V      PS4             2014        Action   \n",
       "77                          FIFA 16      PS4             2015        Sports   \n",
       "92   Call of Duty: Advanced Warfare      PS4             2014       Shooter   \n",
       "94                          FIFA 17      PS4             2016        Sports   \n",
       "105                       Fallout 4      PS4             2015  Role-Playing   \n",
       "\n",
       "     na_sales  eu_sales  jp_sales  other_sales  critic_score  user_score  \\\n",
       "42       3.96      6.31      0.38         1.97          97.0         8.3   \n",
       "77       1.12      6.12      0.06         1.28          82.0         4.3   \n",
       "92       2.81      3.48      0.14         1.23          83.0         5.7   \n",
       "94       0.66      5.75      0.08         1.11          85.0         5.0   \n",
       "105      2.53      3.27      0.24         1.13          87.0         6.5   \n",
       "\n",
       "    rating  total_sales  \n",
       "42       M        12.62  \n",
       "77       E         8.58  \n",
       "92       M         7.66  \n",
       "94       E         7.60  \n",
       "105      M         7.17  "
      ]
     },
     "execution_count": 84,
     "metadata": {},
     "output_type": "execute_result"
    }
   ],
   "source": [
    "data5=data5.query('~(user_score==\"tbd\" or user_score==0)')\n",
    "data5.head()"
   ]
  },
  {
   "cell_type": "code",
   "execution_count": 85,
   "metadata": {
    "scrolled": true
   },
   "outputs": [],
   "source": [
    "sample1=data5.query('platform==\"XOne\"')"
   ]
  },
  {
   "cell_type": "code",
   "execution_count": 86,
   "metadata": {},
   "outputs": [
    {
     "data": {
      "text/plain": [
       "2.564911119407043e-05"
      ]
     },
     "execution_count": 86,
     "metadata": {},
     "output_type": "execute_result"
    }
   ],
   "source": [
    "stat, p = shapiro(sample1['user_score'])\n",
    "alpha = 0.05\n",
    "p"
   ]
  },
  {
   "cell_type": "code",
   "execution_count": 87,
   "metadata": {},
   "outputs": [
    {
     "name": "stdout",
     "output_type": "stream",
     "text": [
      "Sample does not look Normal (reject H0)\n"
     ]
    }
   ],
   "source": [
    "if p > alpha:\n",
    "    print('Sample looks Normal (fail to reject H0)')\n",
    "else:\n",
    "    print('Sample does not look Normal (reject H0)')"
   ]
  },
  {
   "cell_type": "code",
   "execution_count": 88,
   "metadata": {},
   "outputs": [],
   "source": [
    "sample2=data5.query('platform==\"PC\"')"
   ]
  },
  {
   "cell_type": "code",
   "execution_count": 89,
   "metadata": {},
   "outputs": [
    {
     "name": "stdout",
     "output_type": "stream",
     "text": [
      "0.0001799216988729313\n",
      "Sample does not look Normal (reject H0)\n"
     ]
    }
   ],
   "source": [
    "stat, p = shapiro(sample2['user_score'])\n",
    "print(p)\n",
    "alpha = 0.05\n",
    "if p > alpha:\n",
    "    print('Sample looks Normal (fail to reject H0)')\n",
    "else:\n",
    "    print('Sample does not look Normal (reject H0)')"
   ]
  },
  {
   "cell_type": "code",
   "execution_count": 90,
   "metadata": {},
   "outputs": [
    {
     "data": {
      "text/plain": [
       "0.13876434863881087"
      ]
     },
     "execution_count": 90,
     "metadata": {},
     "output_type": "execute_result"
    }
   ],
   "source": [
    "stat, p = mannwhitneyu(sample1['user_score'], sample2['user_score'])\n",
    "p"
   ]
  },
  {
   "cell_type": "code",
   "execution_count": 91,
   "metadata": {},
   "outputs": [
    {
     "name": "stdout",
     "output_type": "stream",
     "text": [
      "We can't reject the null hypothesis\n"
     ]
    }
   ],
   "source": [
    "if (p<alpha):\n",
    "        print(\"We reject the null hypothesis\")\n",
    "else:\n",
    "        print(\"We can't reject the null hypothesis\") "
   ]
  },
  {
   "cell_type": "markdown",
   "metadata": {},
   "source": [
    "<font color=\"blue\"> **First hypothesis: Average user ratings of the Xbox One and PC platforms are the same.**\n",
    "\n",
    "First we test if the user ratings ditribution of XOne and PC platforms are normal or not by using the Shapiro-Wilk test. They aren't normal. So to test the hypothesis, we can use the Mann-Whitney method.<br>   \n",
    "H0: The average user ratings of the Xbox One and PC platforms are the same. <br>\n",
    "H1: The average user ratings of the Xbox One and PC platforms differs.\n",
    "\n",
    "<br>    \n",
    "if we select the value 0.05 for alpha, the null hypothesis wouldn't be rejected. So  The average user ratings of the Xbox One and PC platforms are the same."
   ]
  },
  {
   "cell_type": "code",
   "execution_count": 92,
   "metadata": {
    "scrolled": true
   },
   "outputs": [],
   "source": [
    "sample3=data5.query('genre==\"Action\"')"
   ]
  },
  {
   "cell_type": "code",
   "execution_count": 93,
   "metadata": {
    "scrolled": true
   },
   "outputs": [],
   "source": [
    "sample4=data5.query('genre==\"Sports\"')"
   ]
  },
  {
   "cell_type": "code",
   "execution_count": 94,
   "metadata": {},
   "outputs": [
    {
     "name": "stdout",
     "output_type": "stream",
     "text": [
      "Sample does not look Normal (reject H0)\n"
     ]
    }
   ],
   "source": [
    "stat, p = shapiro(sample3['user_score'])\n",
    "p\n",
    "alpha = 0.05\n",
    "if p > alpha:\n",
    "    print('Sample looks Normal (fail to reject H0)')\n",
    "else:\n",
    "    print('Sample does not look Normal (reject H0)')"
   ]
  },
  {
   "cell_type": "code",
   "execution_count": 95,
   "metadata": {},
   "outputs": [
    {
     "name": "stdout",
     "output_type": "stream",
     "text": [
      "Sample does not look Normal (reject H0)\n"
     ]
    }
   ],
   "source": [
    "stat, p = shapiro(sample4['user_score'])\n",
    "p\n",
    "alpha = 0.05\n",
    "if p > alpha:\n",
    "    print('Sample looks Normal (fail to reject H0)')\n",
    "else:\n",
    "    print('Sample does not look Normal (reject H0)')"
   ]
  },
  {
   "cell_type": "code",
   "execution_count": 96,
   "metadata": {},
   "outputs": [
    {
     "name": "stdout",
     "output_type": "stream",
     "text": [
      "We reject the null hypothesis\n"
     ]
    }
   ],
   "source": [
    "stat, p = mannwhitneyu(sample3['user_score'], sample4['user_score'])\n",
    "p\n",
    "if (p<alpha):\n",
    "        print(\"We reject the null hypothesis\")\n",
    "else:\n",
    "        print(\"We can't reject the null hypothesis\") "
   ]
  },
  {
   "cell_type": "markdown",
   "metadata": {},
   "source": [
    "<font color=\"blue\"> **Second hypothesis: Average user ratings for the Action and Sports genres are different.**\n",
    "\n",
    "First we test if the user ratings ditribution of Action and Sports genres are normal or not by using the Shapiro-Wilk test. They aren't normal. So to test the hypothesis, we can use the Mann-Whitney method. <br>  \n",
    "    \n",
    "Ho: The average user ratings for the Action and Sports genres are the same.<br> \n",
    "H1: the average user ratings for the Action and Sports genres are different.<br>\n",
    "    \n",
    "if we select the value 0.05 for alpha, the null hypothesis would be rejected. So the average user ratings for the Action and Sports genres are different."
   ]
  },
  {
   "cell_type": "markdown",
   "metadata": {},
   "source": [
    "## conclusion"
   ]
  },
  {
   "cell_type": "markdown",
   "metadata": {},
   "source": [
    "<font color=\"blue\"> **First hypothesis: Average user ratings of the Xbox One and PC platforms are the same.**\n",
    "\n",
    "First we test if the user ratings ditribution of XOne and PC platforms are normal or not by using the Shapiro-Wilk test. They aren't normal. So to test the hypothesis, we can use the Mann-Whitney method \n",
    "\n",
    "H0: The average user ratings of the Xbox One and PC platforms are the same.<br> \n",
    "H1: The average user ratings of the Xbox One and PC platforms differs.\n",
    "\n",
    "if we select the value 0.05 for alpha, the null hypothesis wouldn't be rejected. So The average user ratings of the Xbox One and PC platforms are the same.\n",
    "    \n",
    "    \n",
    "**Second hypothesis: Average user ratings for the Action and Sports genres are different.**\n",
    "\n",
    "First we test if the user ratings ditribution of Action and Sports genres are normal or not by using the Shapiro-Wilk test. They aren't normal. So to test the hypothesis, we can use the Mann-Whitney method. \n",
    "\n",
    "Ho: The average user ratings for the Action and Sports genres are the same. <br>\n",
    "H1: the average user ratings for the Action and Sports genres are different.\n",
    "\n",
    "if we select the value 0.05 for alpha, the null hypothesis would be rejected. So the average user ratings for the Action and Sports genres are different.\n"
   ]
  },
  {
   "cell_type": "markdown",
   "metadata": {},
   "source": [
    "## Step 5. Overall conclusion"
   ]
  },
  {
   "cell_type": "markdown",
   "metadata": {},
   "source": [
    "<font color=\"blue\"> \n",
    "    \n",
    "### [Goal](#goal) \n",
    "\n",
    "We have the data for the online store Ice, which sells video games all over the world. User and expert reviews, genres, platforms (e.g. Xbox or PlayStation), and historical data on game sales are available from open sources. We need to identify patterns that determine whether a game succeeds or not. \n",
    "\n",
    "        \n",
    "    \n",
    "### [Data preprocessing](#pre)\n",
    "\n",
    "In order to work with appropriate and valid data, the following tasks were performed:\n",
    "\n",
    " - Processing missing values\n",
    " - Type replacement\n",
    " - Processing duplicates     \n",
    "    \n",
    "### [Exploratory data analysis](#exp)\n",
    "    \n",
    "1- We check how many games were released in different years. We see that most of the games were released in 2007 to 2011. Before the year 1995 few games were released and after that, the variety of games gradually increased.\n",
    "We check the total sales for platforms. We can see that platform PS2 is the most popular platform, then X360 and PS3. Then we check the distribution of the tree popular platforms based on data for each year.\n",
    "  \n",
    "2- We see that for each platform, sales based on the game's release year have an 11-year period. That means with the first design of the game on a new platform, its sales grow for about 5 years and reach its peak of popularity, and then sales growth decreases, and after about 11 years, no new design is done and the platform gradually disappears. \n",
    "    \n",
    "The growth period of each platform is about 5 years, and since we want to generalize the analysis for 2017, it is better to use the data of the last 3 years as the basis for the analysis. We see that most popular platforms in the last 3 years are PS4, XOne, 3DS, PS3, X360, WiiU and PC. let's check the growth of each platforms in this period of time.  \n",
    "    \n",
    "3- We see that platforms PS4 and XOne are growing. They are new platforms and both began to apear in 2013, PS4 has higher sales and is more popular. Other platforms are shrinking. some of them have no more new games and seems to be fade.\n",
    "    \n",
    "4- We see in the box plot for the global sales of all games, broken down by platforms that the differences in sales are significant. The median of sales in platforms XOne, Wiiu, PS4, X360, Wii are higher. These platforms are as follows on mean: PS4, XOne, Wiiu, Wii, X360, 3DS. So platform PS4 is more affected by outliers and more skewed to right. it means there are some games in this platform that are very popular.\n",
    "\n",
    "5- To analyse how user and professional reviews affect sales, we chose one popular platform: PS4 and filter it by missing values. Build a scatter plot and calculate the correlation between reviews and sales.\n",
    "\n",
    "6- We see that for the games in platform PS4, there is a low correlation between user reviwes and sale, but a higher correltion between sale and professionnal reviwes. Sometimes games do not have high sales despite having a high score from users or experts.\n",
    "\n",
    "7- Checking the total sale for different genres, shows that the popular genres are Action, Shooter, Sports, Role_playing and Misc. Puzzle and Strategy have the lowest sale.\n",
    "\n",
    "8- We see in the box plot for the global sales of all games, broken down by genre that there are differences in sales. Genres which their median and mean of sales are higher are as follows: Shooter, Sports, Platform). The sale of these genres are the same on mean. Puzzle, Strategy and Adventure have the lowest median and mean of sale.\n",
    "    \n",
    "    \n",
    "### Analysing the Data by paltform, genre and ESRB rating for each region\n",
    "    \n",
    "**platform**\n",
    "    \n",
    "For each region (NA, EU, JP) we check the total sale by platforms for different regions and determine The top five platforms. \n",
    "    \n",
    "   - Region NA: PS4, XOne, X360, 3DS, PS3.\n",
    "   - Region EU: PS4, XOne, PS3, PC, 3DS.\n",
    "   - Region JP: 3DS, PS4, PSV, PS3, WiiU.\n",
    "    \n",
    "We see that in North American and Europe the popular platforms are almost the same, wchich means the Users' tastes are the same. But in Japan Customer behavior is different. Platforms like PS4, 3DS and PS3 have a high sale in all three regions.\n",
    "\n",
    "    \n",
    "    \n",
    "**genre**\n",
    "    \n",
    "For each region (NA, EU, JP) we check the total sale by genre for different regions and determine The top five genres. \n",
    "    \n",
    "   - Region NA: Shooter, Action, Sports, Role_Playing, Misc.\n",
    "   - Region EU: Action, Shooter, Sports, Role_Playing, Racing.\n",
    "   - Region JP: Role_playing, Action, Fighting, Misc, Shooter.\n",
    "    \n",
    "We see that in North American and Europe the popular geners are almost the same too, wchich means the Users' tastes are the same. But in Japan Customer behavior is different. genres like Acton, Role_Playing and Shooter have a high sale in all three regions. Action and Sports have more fans in all three regions.\n",
    "\n",
    "    \n",
    "    \n",
    " **ESRB rating**\n",
    "    \n",
    "To check if ESRB ratings affect sales in individual regions, we Build a box plot for the sales of games by Ratings and a bar plot for the average sale by ratings for each region.\n",
    "    \n",
    "   - Region NA: Sales vary by ESRB rating and the average sale is in the following order: M, E, E10+, T, AO.\n",
    "   - Region EU: Sales vary by ESRB rating and the average sale is in the following order: M, E, E10+, T, AO.\n",
    "   - Region JP: Sales vary by ESRB rating and the average sale is in the following order: T, E, M, Ao, E10+.\n",
    "\n",
    "\n",
    "### [Hypothesis](#hyp)  \n",
    "    \n",
    "**First hypothesis: Average user ratings of the Xbox One and PC platforms are the same.**\n",
    "\n",
    "First we test if the user ratings ditribution of XOne and PC platforms are normal or not by using the Shapiro-Wilk test. They aren't normal. So to test the hypothesis, we can use the Mann-Whitney method \n",
    "\n",
    "H0: The average user ratings of the Xbox One and PC platforms are the same. <br>\n",
    "H1: The average user ratings of the Xbox One and PC platforms differs.<br>\n",
    "\n",
    "if we select the value 0.05 for alpha, the null hypothesis wouldn't be rejected. So The average user ratings of the Xbox One and PC platforms are the same.\n",
    "    \n",
    "    \n",
    "**Second hypothesis: Average user ratings for the Action and Sports genres are different.**\n",
    "\n",
    "First we test if the user ratings ditribution of Action and Sports genres are normal or not by using the Shapiro-Wilk test. They aren't normal. So to test the hypothesis, we can use the Mann-Whitney method. \n",
    "\n",
    "H0: The average user ratings for the Action and Sports genres are the same. <br>\n",
    "H1: the average user ratings for the Action and Sports genres are different.<br>\n",
    "\n",
    "if we select the value 0.05 for alpha, the null hypothesis would be rejected. So the average user ratings for the Action and Sports genres are different.\n",
    "    \n",
    "### Final conclusions\n",
    "Most popular platforms in the last 3 years are PS4, XOne, Wiiu, Wii and X360. Each platform has an 11-year lifetime and then gradually fades. PS4 and XOne are growing in sale and others are shrinking.\n",
    "The popular genres are Action, Shooter, Sports, Role_playing and Misc. Puzzle and Strategy have the lowest sale. \n",
    "Customer behavior is slightly different in different regions. This difference is especially evident in Japan.    "
   ]
  }
 ],
 "metadata": {
  "kernelspec": {
   "display_name": "Python 3",
   "language": "python",
   "name": "python3"
  },
  "language_info": {
   "codemirror_mode": {
    "name": "ipython",
    "version": 3
   },
   "file_extension": ".py",
   "mimetype": "text/x-python",
   "name": "python",
   "nbconvert_exporter": "python",
   "pygments_lexer": "ipython3",
   "version": "3.8.5"
  },
  "toc": {
   "base_numbering": 1,
   "nav_menu": {},
   "number_sections": true,
   "sideBar": true,
   "skip_h1_title": true,
   "title_cell": "Table of Contents",
   "title_sidebar": "Contents",
   "toc_cell": false,
   "toc_position": {},
   "toc_section_display": true,
   "toc_window_display": false
  }
 },
 "nbformat": 4,
 "nbformat_minor": 2
}
