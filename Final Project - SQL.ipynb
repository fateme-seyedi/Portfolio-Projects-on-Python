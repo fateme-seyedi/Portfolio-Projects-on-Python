{
 "cells": [
  {
   "cell_type": "markdown",
   "metadata": {},
   "source": [
    "## Project Description and Goal"
   ]
  },
  {
   "cell_type": "markdown",
   "metadata": {},
   "source": [
    "<font color=\"blue\">\n",
    "We've been given a database of one of the services competing in this market. It contains data on books, publishers, authors, and customer ratings and reviews of books.<br> We have to retrive some data from the tables. This information will be used to generate a value proposition for a new product."
   ]
  },
  {
   "cell_type": "markdown",
   "metadata": {},
   "source": [
    "## Open the data file and study the general information"
   ]
  },
  {
   "cell_type": "code",
   "execution_count": 3,
   "metadata": {},
   "outputs": [
    {
     "data": {
      "text/html": [
       "<div>\n",
       "<style scoped>\n",
       "    .dataframe tbody tr th:only-of-type {\n",
       "        vertical-align: middle;\n",
       "    }\n",
       "\n",
       "    .dataframe tbody tr th {\n",
       "        vertical-align: top;\n",
       "    }\n",
       "\n",
       "    .dataframe thead th {\n",
       "        text-align: right;\n",
       "    }\n",
       "</style>\n",
       "<table border=\"1\" class=\"dataframe\">\n",
       "  <thead>\n",
       "    <tr style=\"text-align: right;\">\n",
       "      <th></th>\n",
       "      <th>book_id</th>\n",
       "      <th>author_id</th>\n",
       "      <th>title</th>\n",
       "      <th>num_pages</th>\n",
       "      <th>publication_date</th>\n",
       "      <th>publisher_id</th>\n",
       "    </tr>\n",
       "  </thead>\n",
       "  <tbody>\n",
       "    <tr>\n",
       "      <td>0</td>\n",
       "      <td>1</td>\n",
       "      <td>546</td>\n",
       "      <td>'Salem's Lot</td>\n",
       "      <td>594</td>\n",
       "      <td>2005-11-01</td>\n",
       "      <td>93</td>\n",
       "    </tr>\n",
       "    <tr>\n",
       "      <td>1</td>\n",
       "      <td>2</td>\n",
       "      <td>465</td>\n",
       "      <td>1 000 Places to See Before You Die</td>\n",
       "      <td>992</td>\n",
       "      <td>2003-05-22</td>\n",
       "      <td>336</td>\n",
       "    </tr>\n",
       "    <tr>\n",
       "      <td>2</td>\n",
       "      <td>3</td>\n",
       "      <td>407</td>\n",
       "      <td>13 Little Blue Envelopes (Little Blue Envelope...</td>\n",
       "      <td>322</td>\n",
       "      <td>2010-12-21</td>\n",
       "      <td>135</td>\n",
       "    </tr>\n",
       "    <tr>\n",
       "      <td>3</td>\n",
       "      <td>4</td>\n",
       "      <td>82</td>\n",
       "      <td>1491: New Revelations of the Americas Before C...</td>\n",
       "      <td>541</td>\n",
       "      <td>2006-10-10</td>\n",
       "      <td>309</td>\n",
       "    </tr>\n",
       "    <tr>\n",
       "      <td>4</td>\n",
       "      <td>5</td>\n",
       "      <td>125</td>\n",
       "      <td>1776</td>\n",
       "      <td>386</td>\n",
       "      <td>2006-07-04</td>\n",
       "      <td>268</td>\n",
       "    </tr>\n",
       "  </tbody>\n",
       "</table>\n",
       "</div>"
      ],
      "text/plain": [
       "   book_id  author_id                                              title  \\\n",
       "0        1        546                                       'Salem's Lot   \n",
       "1        2        465                 1 000 Places to See Before You Die   \n",
       "2        3        407  13 Little Blue Envelopes (Little Blue Envelope...   \n",
       "3        4         82  1491: New Revelations of the Americas Before C...   \n",
       "4        5        125                                               1776   \n",
       "\n",
       "   num_pages publication_date  publisher_id  \n",
       "0        594       2005-11-01            93  \n",
       "1        992       2003-05-22           336  \n",
       "2        322       2010-12-21           135  \n",
       "3        541       2006-10-10           309  \n",
       "4        386       2006-07-04           268  "
      ]
     },
     "execution_count": 3,
     "metadata": {},
     "output_type": "execute_result"
    }
   ],
   "source": [
    "all_data=f'''SELECT *\n",
    "FROM books\n",
    "LIMIT 5\n",
    "'''\n",
    "pd.io.sql.read_sql(all_data, con = engine)"
   ]
  },
  {
   "cell_type": "code",
   "execution_count": 4,
   "metadata": {},
   "outputs": [
    {
     "data": {
      "text/html": [
       "<div>\n",
       "<style scoped>\n",
       "    .dataframe tbody tr th:only-of-type {\n",
       "        vertical-align: middle;\n",
       "    }\n",
       "\n",
       "    .dataframe tbody tr th {\n",
       "        vertical-align: top;\n",
       "    }\n",
       "\n",
       "    .dataframe thead th {\n",
       "        text-align: right;\n",
       "    }\n",
       "</style>\n",
       "<table border=\"1\" class=\"dataframe\">\n",
       "  <thead>\n",
       "    <tr style=\"text-align: right;\">\n",
       "      <th></th>\n",
       "      <th>author_id</th>\n",
       "      <th>author</th>\n",
       "    </tr>\n",
       "  </thead>\n",
       "  <tbody>\n",
       "    <tr>\n",
       "      <td>0</td>\n",
       "      <td>1</td>\n",
       "      <td>A.S. Byatt</td>\n",
       "    </tr>\n",
       "    <tr>\n",
       "      <td>1</td>\n",
       "      <td>2</td>\n",
       "      <td>Aesop/Laura Harris/Laura Gibbs</td>\n",
       "    </tr>\n",
       "    <tr>\n",
       "      <td>2</td>\n",
       "      <td>3</td>\n",
       "      <td>Agatha Christie</td>\n",
       "    </tr>\n",
       "    <tr>\n",
       "      <td>3</td>\n",
       "      <td>4</td>\n",
       "      <td>Alan Brennert</td>\n",
       "    </tr>\n",
       "    <tr>\n",
       "      <td>4</td>\n",
       "      <td>5</td>\n",
       "      <td>Alan Moore/David   Lloyd</td>\n",
       "    </tr>\n",
       "  </tbody>\n",
       "</table>\n",
       "</div>"
      ],
      "text/plain": [
       "   author_id                          author\n",
       "0          1                      A.S. Byatt\n",
       "1          2  Aesop/Laura Harris/Laura Gibbs\n",
       "2          3                 Agatha Christie\n",
       "3          4                   Alan Brennert\n",
       "4          5        Alan Moore/David   Lloyd"
      ]
     },
     "execution_count": 4,
     "metadata": {},
     "output_type": "execute_result"
    }
   ],
   "source": [
    "all_data=f'''SELECT *\n",
    "FROM authors\n",
    "LIMIT 5\n",
    "'''\n",
    "pd.io.sql.read_sql(all_data, con = engine)"
   ]
  },
  {
   "cell_type": "code",
   "execution_count": 5,
   "metadata": {},
   "outputs": [
    {
     "data": {
      "text/html": [
       "<div>\n",
       "<style scoped>\n",
       "    .dataframe tbody tr th:only-of-type {\n",
       "        vertical-align: middle;\n",
       "    }\n",
       "\n",
       "    .dataframe tbody tr th {\n",
       "        vertical-align: top;\n",
       "    }\n",
       "\n",
       "    .dataframe thead th {\n",
       "        text-align: right;\n",
       "    }\n",
       "</style>\n",
       "<table border=\"1\" class=\"dataframe\">\n",
       "  <thead>\n",
       "    <tr style=\"text-align: right;\">\n",
       "      <th></th>\n",
       "      <th>publisher_id</th>\n",
       "      <th>publisher</th>\n",
       "    </tr>\n",
       "  </thead>\n",
       "  <tbody>\n",
       "    <tr>\n",
       "      <td>0</td>\n",
       "      <td>1</td>\n",
       "      <td>Ace</td>\n",
       "    </tr>\n",
       "    <tr>\n",
       "      <td>1</td>\n",
       "      <td>2</td>\n",
       "      <td>Ace Book</td>\n",
       "    </tr>\n",
       "    <tr>\n",
       "      <td>2</td>\n",
       "      <td>3</td>\n",
       "      <td>Ace Books</td>\n",
       "    </tr>\n",
       "    <tr>\n",
       "      <td>3</td>\n",
       "      <td>4</td>\n",
       "      <td>Ace Hardcover</td>\n",
       "    </tr>\n",
       "    <tr>\n",
       "      <td>4</td>\n",
       "      <td>5</td>\n",
       "      <td>Addison Wesley Publishing Company</td>\n",
       "    </tr>\n",
       "  </tbody>\n",
       "</table>\n",
       "</div>"
      ],
      "text/plain": [
       "   publisher_id                          publisher\n",
       "0             1                                Ace\n",
       "1             2                           Ace Book\n",
       "2             3                          Ace Books\n",
       "3             4                      Ace Hardcover\n",
       "4             5  Addison Wesley Publishing Company"
      ]
     },
     "execution_count": 5,
     "metadata": {},
     "output_type": "execute_result"
    }
   ],
   "source": [
    "all_data=f'''SELECT *\n",
    "FROM publishers\n",
    "LIMIT 5\n",
    "'''\n",
    "pd.io.sql.read_sql(all_data, con = engine)"
   ]
  },
  {
   "cell_type": "code",
   "execution_count": 6,
   "metadata": {},
   "outputs": [
    {
     "data": {
      "text/html": [
       "<div>\n",
       "<style scoped>\n",
       "    .dataframe tbody tr th:only-of-type {\n",
       "        vertical-align: middle;\n",
       "    }\n",
       "\n",
       "    .dataframe tbody tr th {\n",
       "        vertical-align: top;\n",
       "    }\n",
       "\n",
       "    .dataframe thead th {\n",
       "        text-align: right;\n",
       "    }\n",
       "</style>\n",
       "<table border=\"1\" class=\"dataframe\">\n",
       "  <thead>\n",
       "    <tr style=\"text-align: right;\">\n",
       "      <th></th>\n",
       "      <th>rating_id</th>\n",
       "      <th>book_id</th>\n",
       "      <th>username</th>\n",
       "      <th>rating</th>\n",
       "    </tr>\n",
       "  </thead>\n",
       "  <tbody>\n",
       "    <tr>\n",
       "      <td>0</td>\n",
       "      <td>1</td>\n",
       "      <td>1</td>\n",
       "      <td>ryanfranco</td>\n",
       "      <td>4</td>\n",
       "    </tr>\n",
       "    <tr>\n",
       "      <td>1</td>\n",
       "      <td>2</td>\n",
       "      <td>1</td>\n",
       "      <td>grantpatricia</td>\n",
       "      <td>2</td>\n",
       "    </tr>\n",
       "    <tr>\n",
       "      <td>2</td>\n",
       "      <td>3</td>\n",
       "      <td>1</td>\n",
       "      <td>brandtandrea</td>\n",
       "      <td>5</td>\n",
       "    </tr>\n",
       "    <tr>\n",
       "      <td>3</td>\n",
       "      <td>4</td>\n",
       "      <td>2</td>\n",
       "      <td>lorichen</td>\n",
       "      <td>3</td>\n",
       "    </tr>\n",
       "    <tr>\n",
       "      <td>4</td>\n",
       "      <td>5</td>\n",
       "      <td>2</td>\n",
       "      <td>mariokeller</td>\n",
       "      <td>2</td>\n",
       "    </tr>\n",
       "  </tbody>\n",
       "</table>\n",
       "</div>"
      ],
      "text/plain": [
       "   rating_id  book_id       username  rating\n",
       "0          1        1     ryanfranco       4\n",
       "1          2        1  grantpatricia       2\n",
       "2          3        1   brandtandrea       5\n",
       "3          4        2       lorichen       3\n",
       "4          5        2    mariokeller       2"
      ]
     },
     "execution_count": 6,
     "metadata": {},
     "output_type": "execute_result"
    }
   ],
   "source": [
    "all_data=f'''SELECT *\n",
    "FROM ratings\n",
    "LIMIT 5\n",
    "'''\n",
    "pd.io.sql.read_sql(all_data, con = engine)"
   ]
  },
  {
   "cell_type": "code",
   "execution_count": 7,
   "metadata": {},
   "outputs": [
    {
     "data": {
      "text/html": [
       "<div>\n",
       "<style scoped>\n",
       "    .dataframe tbody tr th:only-of-type {\n",
       "        vertical-align: middle;\n",
       "    }\n",
       "\n",
       "    .dataframe tbody tr th {\n",
       "        vertical-align: top;\n",
       "    }\n",
       "\n",
       "    .dataframe thead th {\n",
       "        text-align: right;\n",
       "    }\n",
       "</style>\n",
       "<table border=\"1\" class=\"dataframe\">\n",
       "  <thead>\n",
       "    <tr style=\"text-align: right;\">\n",
       "      <th></th>\n",
       "      <th>review_id</th>\n",
       "      <th>book_id</th>\n",
       "      <th>username</th>\n",
       "      <th>text</th>\n",
       "    </tr>\n",
       "  </thead>\n",
       "  <tbody>\n",
       "    <tr>\n",
       "      <td>0</td>\n",
       "      <td>1</td>\n",
       "      <td>1</td>\n",
       "      <td>brandtandrea</td>\n",
       "      <td>Mention society tell send professor analysis. ...</td>\n",
       "    </tr>\n",
       "    <tr>\n",
       "      <td>1</td>\n",
       "      <td>2</td>\n",
       "      <td>1</td>\n",
       "      <td>ryanfranco</td>\n",
       "      <td>Foot glass pretty audience hit themselves. Amo...</td>\n",
       "    </tr>\n",
       "    <tr>\n",
       "      <td>2</td>\n",
       "      <td>3</td>\n",
       "      <td>2</td>\n",
       "      <td>lorichen</td>\n",
       "      <td>Listen treat keep worry. Miss husband tax but ...</td>\n",
       "    </tr>\n",
       "    <tr>\n",
       "      <td>3</td>\n",
       "      <td>4</td>\n",
       "      <td>3</td>\n",
       "      <td>johnsonamanda</td>\n",
       "      <td>Finally month interesting blue could nature cu...</td>\n",
       "    </tr>\n",
       "    <tr>\n",
       "      <td>4</td>\n",
       "      <td>5</td>\n",
       "      <td>3</td>\n",
       "      <td>scotttamara</td>\n",
       "      <td>Nation purpose heavy give wait song will. List...</td>\n",
       "    </tr>\n",
       "  </tbody>\n",
       "</table>\n",
       "</div>"
      ],
      "text/plain": [
       "   review_id  book_id       username  \\\n",
       "0          1        1   brandtandrea   \n",
       "1          2        1     ryanfranco   \n",
       "2          3        2       lorichen   \n",
       "3          4        3  johnsonamanda   \n",
       "4          5        3    scotttamara   \n",
       "\n",
       "                                                text  \n",
       "0  Mention society tell send professor analysis. ...  \n",
       "1  Foot glass pretty audience hit themselves. Amo...  \n",
       "2  Listen treat keep worry. Miss husband tax but ...  \n",
       "3  Finally month interesting blue could nature cu...  \n",
       "4  Nation purpose heavy give wait song will. List...  "
      ]
     },
     "execution_count": 7,
     "metadata": {},
     "output_type": "execute_result"
    }
   ],
   "source": [
    "all_data=f'''SELECT *\n",
    "FROM reviews\n",
    "LIMIT 5\n",
    "'''\n",
    "pd.io.sql.read_sql(all_data, con = engine)"
   ]
  },
  {
   "cell_type": "markdown",
   "metadata": {},
   "source": [
    "## Make SQL queries for the tasks"
   ]
  },
  {
   "cell_type": "markdown",
   "metadata": {},
   "source": [
    " - **Find the number of books released after January 1, 2000.**"
   ]
  },
  {
   "cell_type": "code",
   "execution_count": 8,
   "metadata": {},
   "outputs": [
    {
     "data": {
      "text/html": [
       "<div>\n",
       "<style scoped>\n",
       "    .dataframe tbody tr th:only-of-type {\n",
       "        vertical-align: middle;\n",
       "    }\n",
       "\n",
       "    .dataframe tbody tr th {\n",
       "        vertical-align: top;\n",
       "    }\n",
       "\n",
       "    .dataframe thead th {\n",
       "        text-align: right;\n",
       "    }\n",
       "</style>\n",
       "<table border=\"1\" class=\"dataframe\">\n",
       "  <thead>\n",
       "    <tr style=\"text-align: right;\">\n",
       "      <th></th>\n",
       "      <th>book_num</th>\n",
       "    </tr>\n",
       "  </thead>\n",
       "  <tbody>\n",
       "    <tr>\n",
       "      <td>0</td>\n",
       "      <td>819</td>\n",
       "    </tr>\n",
       "  </tbody>\n",
       "</table>\n",
       "</div>"
      ],
      "text/plain": [
       "   book_num\n",
       "0       819"
      ]
     },
     "execution_count": 8,
     "metadata": {},
     "output_type": "execute_result"
    }
   ],
   "source": [
    "data=f'''\n",
    "SELECT \n",
    "  COUNT(book_id) AS book_num\n",
    "FROM \n",
    "  books\n",
    "WHERE publication_date >'2000-01-01'\n",
    "'''\n",
    "pd.io.sql.read_sql(data, con = engine)"
   ]
  },
  {
   "cell_type": "markdown",
   "metadata": {},
   "source": [
    "<font color=\"blue\">\n",
    "There ere 819 books released after 2000-01-01. "
   ]
  },
  {
   "cell_type": "markdown",
   "metadata": {},
   "source": [
    " - **Find the number of user reviews and the average rating for each book.**"
   ]
  },
  {
   "cell_type": "code",
   "execution_count": 9,
   "metadata": {},
   "outputs": [
    {
     "data": {
      "text/html": [
       "<div>\n",
       "<style scoped>\n",
       "    .dataframe tbody tr th:only-of-type {\n",
       "        vertical-align: middle;\n",
       "    }\n",
       "\n",
       "    .dataframe tbody tr th {\n",
       "        vertical-align: top;\n",
       "    }\n",
       "\n",
       "    .dataframe thead th {\n",
       "        text-align: right;\n",
       "    }\n",
       "</style>\n",
       "<table border=\"1\" class=\"dataframe\">\n",
       "  <thead>\n",
       "    <tr style=\"text-align: right;\">\n",
       "      <th></th>\n",
       "      <th>book_id</th>\n",
       "      <th>title</th>\n",
       "      <th>avg_rate</th>\n",
       "      <th>num_review</th>\n",
       "    </tr>\n",
       "  </thead>\n",
       "  <tbody>\n",
       "    <tr>\n",
       "      <td>0</td>\n",
       "      <td>948</td>\n",
       "      <td>Twilight (Twilight  #1)</td>\n",
       "      <td>3.662500</td>\n",
       "      <td>7</td>\n",
       "    </tr>\n",
       "    <tr>\n",
       "      <td>1</td>\n",
       "      <td>854</td>\n",
       "      <td>The Road</td>\n",
       "      <td>3.772727</td>\n",
       "      <td>6</td>\n",
       "    </tr>\n",
       "    <tr>\n",
       "      <td>2</td>\n",
       "      <td>656</td>\n",
       "      <td>The Book Thief</td>\n",
       "      <td>4.264151</td>\n",
       "      <td>6</td>\n",
       "    </tr>\n",
       "    <tr>\n",
       "      <td>3</td>\n",
       "      <td>734</td>\n",
       "      <td>The Glass Castle</td>\n",
       "      <td>4.206897</td>\n",
       "      <td>6</td>\n",
       "    </tr>\n",
       "    <tr>\n",
       "      <td>4</td>\n",
       "      <td>963</td>\n",
       "      <td>Water for Elephants</td>\n",
       "      <td>3.977273</td>\n",
       "      <td>6</td>\n",
       "    </tr>\n",
       "    <tr>\n",
       "      <td>...</td>\n",
       "      <td>...</td>\n",
       "      <td>...</td>\n",
       "      <td>...</td>\n",
       "      <td>...</td>\n",
       "    </tr>\n",
       "    <tr>\n",
       "      <td>989</td>\n",
       "      <td>465</td>\n",
       "      <td>Naked Empire (Sword of Truth  #8)</td>\n",
       "      <td>3.500000</td>\n",
       "      <td>1</td>\n",
       "    </tr>\n",
       "    <tr>\n",
       "      <td>990</td>\n",
       "      <td>446</td>\n",
       "      <td>Moo  Baa  La La La!</td>\n",
       "      <td>3.000000</td>\n",
       "      <td>1</td>\n",
       "    </tr>\n",
       "    <tr>\n",
       "      <td>991</td>\n",
       "      <td>431</td>\n",
       "      <td>Merrick (The Vampire Chronicles #7)</td>\n",
       "      <td>4.000000</td>\n",
       "      <td>1</td>\n",
       "    </tr>\n",
       "    <tr>\n",
       "      <td>992</td>\n",
       "      <td>92</td>\n",
       "      <td>Babyville</td>\n",
       "      <td>3.500000</td>\n",
       "      <td>1</td>\n",
       "    </tr>\n",
       "    <tr>\n",
       "      <td>993</td>\n",
       "      <td>413</td>\n",
       "      <td>Lysistrata</td>\n",
       "      <td>4.000000</td>\n",
       "      <td>1</td>\n",
       "    </tr>\n",
       "  </tbody>\n",
       "</table>\n",
       "<p>994 rows × 4 columns</p>\n",
       "</div>"
      ],
      "text/plain": [
       "     book_id                                title  avg_rate  num_review\n",
       "0        948              Twilight (Twilight  #1)  3.662500           7\n",
       "1        854                             The Road  3.772727           6\n",
       "2        656                       The Book Thief  4.264151           6\n",
       "3        734                     The Glass Castle  4.206897           6\n",
       "4        963                  Water for Elephants  3.977273           6\n",
       "..       ...                                  ...       ...         ...\n",
       "989      465    Naked Empire (Sword of Truth  #8)  3.500000           1\n",
       "990      446                  Moo  Baa  La La La!  3.000000           1\n",
       "991      431  Merrick (The Vampire Chronicles #7)  4.000000           1\n",
       "992       92                            Babyville  3.500000           1\n",
       "993      413                           Lysistrata  4.000000           1\n",
       "\n",
       "[994 rows x 4 columns]"
      ]
     },
     "execution_count": 9,
     "metadata": {},
     "output_type": "execute_result"
    }
   ],
   "source": [
    "data=f'''\n",
    "SELECT \n",
    "  books.book_id,\n",
    "  books.title,\n",
    "  subq1.avg_rate,\n",
    "  subq2.num_review\n",
    "  \n",
    "FROM books\n",
    "\n",
    "INNER JOIN \n",
    " (SELECT \n",
    "    book_id, \n",
    "    AVG(rating) As avg_rate\n",
    "  FROM ratings\n",
    "  GROUP BY book_id\n",
    "  ORDER BY book_id) AS subq1\n",
    "ON  books.book_id= subq1.book_id\n",
    "\n",
    "INNER JOIN \n",
    " (SELECT \n",
    "    book_id, \n",
    "    COUNT(text) As num_review\n",
    "  FROM reviews\n",
    "  GROUP BY book_id\n",
    "  ORDER BY book_id) AS subq2\n",
    "  \n",
    "ON books.book_id=subq2.book_id\n",
    "ORDER BY num_review DESC\n",
    "'''    \n",
    "pd.io.sql.read_sql(data, con = engine)"
   ]
  },
  {
   "cell_type": "markdown",
   "metadata": {},
   "source": [
    "<font color=\"blue\">\n",
    "    \n",
    "We found the number of user reviews and the average rating for each book.<br> The most popular books are on average rated with 5.   <br>\n",
    "The most reviews are related to the book `Twilight`."
   ]
  },
  {
   "cell_type": "markdown",
   "metadata": {},
   "source": [
    "- **Identify the publisher that has released the greatest number of books with more than 50 pages (this will help you exclude brochures and similar publications from your analysis).**"
   ]
  },
  {
   "cell_type": "code",
   "execution_count": 10,
   "metadata": {},
   "outputs": [
    {
     "data": {
      "text/html": [
       "<div>\n",
       "<style scoped>\n",
       "    .dataframe tbody tr th:only-of-type {\n",
       "        vertical-align: middle;\n",
       "    }\n",
       "\n",
       "    .dataframe tbody tr th {\n",
       "        vertical-align: top;\n",
       "    }\n",
       "\n",
       "    .dataframe thead th {\n",
       "        text-align: right;\n",
       "    }\n",
       "</style>\n",
       "<table border=\"1\" class=\"dataframe\">\n",
       "  <thead>\n",
       "    <tr style=\"text-align: right;\">\n",
       "      <th></th>\n",
       "      <th>publisher_id</th>\n",
       "      <th>publisher</th>\n",
       "      <th>book_num</th>\n",
       "    </tr>\n",
       "  </thead>\n",
       "  <tbody>\n",
       "    <tr>\n",
       "      <td>0</td>\n",
       "      <td>212</td>\n",
       "      <td>Penguin Books</td>\n",
       "      <td>42</td>\n",
       "    </tr>\n",
       "  </tbody>\n",
       "</table>\n",
       "</div>"
      ],
      "text/plain": [
       "   publisher_id      publisher  book_num\n",
       "0           212  Penguin Books        42"
      ]
     },
     "execution_count": 10,
     "metadata": {},
     "output_type": "execute_result"
    }
   ],
   "source": [
    "data=f'''\n",
    "SELECT\n",
    " subq.publisher_id,\n",
    " publishers.publisher,\n",
    " subq.book_num\n",
    " \n",
    "FROM publishers\n",
    "INNER JOIN\n",
    "(SELECT \n",
    "  publisher_id,\n",
    "  COUNT(book_id) AS book_num\n",
    "  \n",
    "FROM \n",
    "  books\n",
    "WHERE num_pages >=50 \n",
    "GROUP BY publisher_id) AS subq\n",
    "\n",
    "ON publishers.publisher_id=subq.publisher_id\n",
    "ORDER BY book_num DESC\n",
    "LIMIT 1\n",
    "'''\n",
    "pd.io.sql.read_sql(data, con = engine)"
   ]
  },
  {
   "cell_type": "markdown",
   "metadata": {},
   "source": [
    "<font color=\"blue\">\n",
    "     \n",
    "`Penguin Books` is the publisher, that has released the greatest number of books(amoung books with more than 50 pages).\n"
   ]
  },
  {
   "cell_type": "markdown",
   "metadata": {},
   "source": [
    "- **Identify the author with the highest average book rating: look only at books with at least 50 ratings.**"
   ]
  },
  {
   "cell_type": "code",
   "execution_count": 11,
   "metadata": {},
   "outputs": [
    {
     "data": {
      "text/html": [
       "<div>\n",
       "<style scoped>\n",
       "    .dataframe tbody tr th:only-of-type {\n",
       "        vertical-align: middle;\n",
       "    }\n",
       "\n",
       "    .dataframe tbody tr th {\n",
       "        vertical-align: top;\n",
       "    }\n",
       "\n",
       "    .dataframe thead th {\n",
       "        text-align: right;\n",
       "    }\n",
       "</style>\n",
       "<table border=\"1\" class=\"dataframe\">\n",
       "  <thead>\n",
       "    <tr style=\"text-align: right;\">\n",
       "      <th></th>\n",
       "      <th>author</th>\n",
       "      <th>avg_rate</th>\n",
       "    </tr>\n",
       "  </thead>\n",
       "  <tbody>\n",
       "    <tr>\n",
       "      <td>0</td>\n",
       "      <td>J.K. Rowling/Mary GrandPré</td>\n",
       "      <td>4.283844</td>\n",
       "    </tr>\n",
       "  </tbody>\n",
       "</table>\n",
       "</div>"
      ],
      "text/plain": [
       "                       author  avg_rate\n",
       "0  J.K. Rowling/Mary GrandPré  4.283844"
      ]
     },
     "execution_count": 11,
     "metadata": {},
     "output_type": "execute_result"
    }
   ],
   "source": [
    "data=f'''\n",
    "SELECT \n",
    " \n",
    "  authors.author,\n",
    "  AVG(subq.avg_rate) AS avg_rate\n",
    "  \n",
    "FROM\n",
    " authors\n",
    "INNER JOIN \n",
    "\n",
    "(SELECT \n",
    "  books.author_id,\n",
    "  subq1.rate_num,\n",
    "  subq2.avg_rate\n",
    "  \n",
    "FROM books\n",
    "INNER JOIN \n",
    " (SELECT \n",
    "    book_id,\n",
    "    COUNT(rating) As rate_num\n",
    "    \n",
    "  FROM ratings\n",
    "  GROUP BY book_id) AS subq1\n",
    "ON  books.book_id= subq1.book_id\n",
    "\n",
    "INNER JOIN \n",
    " (SELECT \n",
    "    book_id, \n",
    "    AVG(rating) As avg_rate\n",
    "    \n",
    "  FROM ratings\n",
    "  GROUP BY book_id) AS subq2\n",
    "ON  books.book_id= subq2.book_id) AS subq\n",
    "ON subq.author_id=authors.author_id\n",
    "\n",
    "WHERE subq.rate_num>=50 \n",
    "\n",
    "GROUP BY author\n",
    "ORDER BY avg_rate DESC\n",
    "LIMIT 1\n",
    "'''    \n",
    "pd.io.sql.read_sql(data, con = engine)"
   ]
  },
  {
   "cell_type": "markdown",
   "metadata": {},
   "source": [
    "<font color=\"blue\">\n",
    "    \n",
    "`J.K. Rowling/Mary GrandPré` is The most popular author with the highest average book rating (amoung books with at least 50 ratings) \n",
    "    \n"
   ]
  },
  {
   "cell_type": "markdown",
   "metadata": {},
   "source": [
    "- **Find the average number of text reviews among users who rated more than 50 books.**"
   ]
  },
  {
   "cell_type": "code",
   "execution_count": 12,
   "metadata": {},
   "outputs": [
    {
     "data": {
      "text/html": [
       "<div>\n",
       "<style scoped>\n",
       "    .dataframe tbody tr th:only-of-type {\n",
       "        vertical-align: middle;\n",
       "    }\n",
       "\n",
       "    .dataframe tbody tr th {\n",
       "        vertical-align: top;\n",
       "    }\n",
       "\n",
       "    .dataframe thead th {\n",
       "        text-align: right;\n",
       "    }\n",
       "</style>\n",
       "<table border=\"1\" class=\"dataframe\">\n",
       "  <thead>\n",
       "    <tr style=\"text-align: right;\">\n",
       "      <th></th>\n",
       "      <th>avg_num_text</th>\n",
       "    </tr>\n",
       "  </thead>\n",
       "  <tbody>\n",
       "    <tr>\n",
       "      <td>0</td>\n",
       "      <td>24.333333</td>\n",
       "    </tr>\n",
       "  </tbody>\n",
       "</table>\n",
       "</div>"
      ],
      "text/plain": [
       "   avg_num_text\n",
       "0     24.333333"
      ]
     },
     "execution_count": 12,
     "metadata": {},
     "output_type": "execute_result"
    }
   ],
   "source": [
    "data=f'''\n",
    "SELECT \n",
    "  \n",
    "  AVG(subq2.num_text)AS avg_num_text\n",
    "  \n",
    "FROM\n",
    "  (SELECT \n",
    "    username,\n",
    "    COUNT(book_id) As num_rate_books\n",
    "    \n",
    "  FROM ratings\n",
    "  GROUP BY username) As subq1\n",
    "\n",
    "LEFT JOIN \n",
    "  (SELECT \n",
    "    username,\n",
    "    COUNT(text) As num_text\n",
    "    \n",
    "  FROM reviews\n",
    "  GROUP BY username) As subq2\n",
    "ON  subq1.username= subq2.username\n",
    "\n",
    "WHERE subq1.num_rate_books>50 \n",
    "\n",
    "'''    \n",
    "pd.io.sql.read_sql(data, con = engine)"
   ]
  },
  {
   "cell_type": "markdown",
   "metadata": {},
   "source": [
    "<font color=\"blue\">\n",
    "users who rated more than 50 books, made also on average 24 text reviews.    "
   ]
  }
 ],
 "metadata": {
  "ExecuteTimeLog": [
   {
    "duration": 944,
    "start_time": "2021-06-30T07:07:40.872Z"
   },
   {
    "duration": 393,
    "start_time": "2021-06-30T07:07:51.979Z"
   },
   {
    "duration": 349,
    "start_time": "2021-06-30T07:08:17.594Z"
   },
   {
    "duration": 3,
    "start_time": "2021-06-30T07:08:37.940Z"
   },
   {
    "duration": 147,
    "start_time": "2021-06-30T07:08:39.934Z"
   },
   {
    "duration": 97,
    "start_time": "2021-06-30T07:09:10.368Z"
   },
   {
    "duration": 889,
    "start_time": "2021-06-30T07:09:20.719Z"
   },
   {
    "duration": 312,
    "start_time": "2021-06-30T07:09:21.610Z"
   },
   {
    "duration": 4,
    "start_time": "2021-06-30T07:09:21.924Z"
   },
   {
    "duration": 166,
    "start_time": "2021-06-30T07:09:21.931Z"
   },
   {
    "duration": 111,
    "start_time": "2021-06-30T07:18:59.506Z"
   },
   {
    "duration": 107,
    "start_time": "2021-06-30T07:19:11.215Z"
   },
   {
    "duration": 88,
    "start_time": "2021-06-30T07:19:36.786Z"
   },
   {
    "duration": 76,
    "start_time": "2021-06-30T07:19:52.376Z"
   },
   {
    "duration": 138,
    "start_time": "2021-06-30T07:20:05.945Z"
   },
   {
    "duration": 129,
    "start_time": "2021-06-30T07:20:23.595Z"
   },
   {
    "duration": 80,
    "start_time": "2021-06-30T07:23:15.374Z"
   },
   {
    "duration": 105,
    "start_time": "2021-06-30T07:23:34.864Z"
   },
   {
    "duration": 73,
    "start_time": "2021-06-30T07:23:42.884Z"
   },
   {
    "duration": 74,
    "start_time": "2021-06-30T07:23:48.071Z"
   },
   {
    "duration": 128,
    "start_time": "2021-06-30T07:23:52.646Z"
   },
   {
    "duration": 76,
    "start_time": "2021-06-30T07:30:37.727Z"
   },
   {
    "duration": 75,
    "start_time": "2021-06-30T07:53:15.414Z"
   },
   {
    "duration": 83,
    "start_time": "2021-06-30T07:53:36.310Z"
   },
   {
    "duration": 445,
    "start_time": "2021-06-30T07:54:10.721Z"
   },
   {
    "duration": 82,
    "start_time": "2021-06-30T07:54:32.890Z"
   },
   {
    "duration": 368,
    "start_time": "2021-06-30T07:56:27.366Z"
   },
   {
    "duration": 363,
    "start_time": "2021-06-30T07:56:33.766Z"
   },
   {
    "duration": 74,
    "start_time": "2021-06-30T07:57:11.205Z"
   },
   {
    "duration": 283,
    "start_time": "2021-06-30T07:58:10.070Z"
   },
   {
    "duration": 882,
    "start_time": "2021-06-30T07:58:42.840Z"
   },
   {
    "duration": 248,
    "start_time": "2021-06-30T07:58:43.725Z"
   },
   {
    "duration": 91,
    "start_time": "2021-06-30T07:59:07.959Z"
   },
   {
    "duration": 6,
    "start_time": "2021-06-30T07:59:13.980Z"
   },
   {
    "duration": 91,
    "start_time": "2021-06-30T07:59:29.948Z"
   },
   {
    "duration": 12,
    "start_time": "2021-06-30T07:59:32.229Z"
   },
   {
    "duration": 8,
    "start_time": "2021-06-30T07:59:44.099Z"
   },
   {
    "duration": 101,
    "start_time": "2021-06-30T07:59:53.869Z"
   },
   {
    "duration": 5,
    "start_time": "2021-06-30T07:59:55.133Z"
   },
   {
    "duration": 81,
    "start_time": "2021-06-30T08:00:23.619Z"
   },
   {
    "duration": 73,
    "start_time": "2021-06-30T08:01:35.418Z"
   },
   {
    "duration": 141,
    "start_time": "2021-06-30T08:01:40.325Z"
   },
   {
    "duration": 6,
    "start_time": "2021-06-30T08:01:50.229Z"
   },
   {
    "duration": 14,
    "start_time": "2021-06-30T08:02:22.554Z"
   },
   {
    "duration": 100,
    "start_time": "2021-06-30T08:02:34.476Z"
   },
   {
    "duration": 5,
    "start_time": "2021-06-30T08:02:36.058Z"
   },
   {
    "duration": 12,
    "start_time": "2021-06-30T08:03:19.602Z"
   },
   {
    "duration": 123,
    "start_time": "2021-06-30T08:03:36.339Z"
   },
   {
    "duration": 1123,
    "start_time": "2021-06-30T08:03:43.126Z"
   },
   {
    "duration": 9,
    "start_time": "2021-06-30T08:04:14.449Z"
   },
   {
    "duration": 6,
    "start_time": "2021-06-30T08:05:48.214Z"
   },
   {
    "duration": 10,
    "start_time": "2021-06-30T08:05:51.589Z"
   },
   {
    "duration": 13,
    "start_time": "2021-06-30T08:05:54.474Z"
   },
   {
    "duration": 26,
    "start_time": "2021-06-30T08:05:56.064Z"
   },
   {
    "duration": 12,
    "start_time": "2021-06-30T08:06:05.800Z"
   },
   {
    "duration": 92,
    "start_time": "2021-06-30T08:06:31.230Z"
   },
   {
    "duration": 90,
    "start_time": "2021-06-30T08:07:40.353Z"
   },
   {
    "duration": 94,
    "start_time": "2021-06-30T08:08:08.794Z"
   },
   {
    "duration": 364,
    "start_time": "2021-06-30T08:13:56.524Z"
   },
   {
    "duration": 382,
    "start_time": "2021-06-30T08:14:10.750Z"
   },
   {
    "duration": 415,
    "start_time": "2021-06-30T08:14:17.964Z"
   },
   {
    "duration": 377,
    "start_time": "2021-06-30T08:15:33.153Z"
   },
   {
    "duration": 348,
    "start_time": "2021-06-30T08:15:37.530Z"
   },
   {
    "duration": 385,
    "start_time": "2021-06-30T08:16:59.726Z"
   },
   {
    "duration": 78,
    "start_time": "2021-06-30T08:17:31.488Z"
   },
   {
    "duration": 336,
    "start_time": "2021-06-30T08:18:26.339Z"
   },
   {
    "duration": 349,
    "start_time": "2021-06-30T08:18:33.088Z"
   },
   {
    "duration": 362,
    "start_time": "2021-06-30T08:18:41.429Z"
   },
   {
    "duration": 76,
    "start_time": "2021-06-30T08:26:15.799Z"
   },
   {
    "duration": 379,
    "start_time": "2021-06-30T08:30:37.144Z"
   },
   {
    "duration": 334,
    "start_time": "2021-06-30T08:32:10.671Z"
   },
   {
    "duration": 100,
    "start_time": "2021-06-30T08:32:28.066Z"
   },
   {
    "duration": 100,
    "start_time": "2021-06-30T08:33:59.824Z"
   },
   {
    "duration": 344,
    "start_time": "2021-06-30T08:36:08.621Z"
   },
   {
    "duration": 93,
    "start_time": "2021-06-30T08:37:10.328Z"
   },
   {
    "duration": 329,
    "start_time": "2021-06-30T08:38:43.705Z"
   },
   {
    "duration": 368,
    "start_time": "2021-06-30T08:39:01.898Z"
   },
   {
    "duration": 373,
    "start_time": "2021-06-30T08:40:20.105Z"
   },
   {
    "duration": 348,
    "start_time": "2021-06-30T08:41:04.478Z"
   },
   {
    "duration": 340,
    "start_time": "2021-06-30T08:41:33.794Z"
   },
   {
    "duration": 167,
    "start_time": "2021-06-30T08:41:52.091Z"
   },
   {
    "duration": 100,
    "start_time": "2021-06-30T08:42:16.150Z"
   },
   {
    "duration": 487,
    "start_time": "2021-06-30T08:45:11.982Z"
   },
   {
    "duration": 351,
    "start_time": "2021-06-30T08:45:21.696Z"
   },
   {
    "duration": 115,
    "start_time": "2021-06-30T08:46:08.575Z"
   },
   {
    "duration": 115,
    "start_time": "2021-06-30T08:46:51.580Z"
   },
   {
    "duration": 115,
    "start_time": "2021-06-30T08:47:07.090Z"
   },
   {
    "duration": 416,
    "start_time": "2021-06-30T08:48:48.923Z"
   },
   {
    "duration": 358,
    "start_time": "2021-06-30T08:49:54.558Z"
   },
   {
    "duration": 376,
    "start_time": "2021-06-30T08:50:28.899Z"
   },
   {
    "duration": 350,
    "start_time": "2021-06-30T08:51:51.244Z"
   },
   {
    "duration": 348,
    "start_time": "2021-06-30T08:58:14.681Z"
   },
   {
    "duration": 344,
    "start_time": "2021-06-30T09:01:01.985Z"
   },
   {
    "duration": 494,
    "start_time": "2021-06-30T09:02:39.729Z"
   },
   {
    "duration": 331,
    "start_time": "2021-06-30T09:06:02.601Z"
   },
   {
    "duration": 339,
    "start_time": "2021-06-30T09:06:12.794Z"
   },
   {
    "duration": 395,
    "start_time": "2021-06-30T09:06:16.006Z"
   },
   {
    "duration": 346,
    "start_time": "2021-06-30T09:10:33.284Z"
   },
   {
    "duration": 102,
    "start_time": "2021-06-30T09:12:25.057Z"
   },
   {
    "duration": 339,
    "start_time": "2021-06-30T09:13:27.594Z"
   },
   {
    "duration": 348,
    "start_time": "2021-06-30T09:14:30.456Z"
   },
   {
    "duration": 397,
    "start_time": "2021-06-30T09:15:50.821Z"
   },
   {
    "duration": 109,
    "start_time": "2021-06-30T09:16:40.412Z"
   },
   {
    "duration": 80,
    "start_time": "2021-06-30T09:26:10.910Z"
   },
   {
    "duration": 81,
    "start_time": "2021-06-30T09:26:38.384Z"
   },
   {
    "duration": 104,
    "start_time": "2021-06-30T09:27:00.601Z"
   },
   {
    "duration": 17,
    "start_time": "2021-06-30T09:29:49.382Z"
   },
   {
    "duration": 360,
    "start_time": "2021-06-30T09:30:20.925Z"
   },
   {
    "duration": 336,
    "start_time": "2021-06-30T09:30:29.699Z"
   },
   {
    "duration": 366,
    "start_time": "2021-06-30T09:33:29.328Z"
   },
   {
    "duration": 83,
    "start_time": "2021-06-30T09:36:21.915Z"
   },
   {
    "duration": 81,
    "start_time": "2021-06-30T09:37:08.377Z"
   },
   {
    "duration": 80,
    "start_time": "2021-06-30T09:37:14.870Z"
   },
   {
    "duration": 88,
    "start_time": "2021-06-30T09:44:42.436Z"
   },
   {
    "duration": 338,
    "start_time": "2021-06-30T09:49:27.359Z"
   },
   {
    "duration": 87,
    "start_time": "2021-06-30T09:50:20.280Z"
   },
   {
    "duration": 337,
    "start_time": "2021-06-30T09:51:08.424Z"
   },
   {
    "duration": 86,
    "start_time": "2021-06-30T09:51:18.726Z"
   },
   {
    "duration": 403,
    "start_time": "2021-06-30T09:51:31.200Z"
   },
   {
    "duration": 90,
    "start_time": "2021-06-30T09:52:30.480Z"
   },
   {
    "duration": 347,
    "start_time": "2021-06-30T09:52:42.875Z"
   },
   {
    "duration": 86,
    "start_time": "2021-06-30T09:52:53.650Z"
   },
   {
    "duration": 77,
    "start_time": "2021-06-30T09:55:53.942Z"
   },
   {
    "duration": 118,
    "start_time": "2021-06-30T09:56:15.502Z"
   },
   {
    "duration": 83,
    "start_time": "2021-06-30T09:56:33.817Z"
   },
   {
    "duration": 345,
    "start_time": "2021-06-30T09:56:48.891Z"
   },
   {
    "duration": 88,
    "start_time": "2021-06-30T09:56:53.704Z"
   },
   {
    "duration": 115,
    "start_time": "2021-06-30T09:57:48.877Z"
   },
   {
    "duration": 339,
    "start_time": "2021-06-30T10:05:12.715Z"
   },
   {
    "duration": 332,
    "start_time": "2021-06-30T10:05:21.399Z"
   },
   {
    "duration": 108,
    "start_time": "2021-06-30T10:05:38.796Z"
   },
   {
    "duration": 98,
    "start_time": "2021-06-30T10:11:14.251Z"
   },
   {
    "duration": 352,
    "start_time": "2021-06-30T10:11:57.282Z"
   },
   {
    "duration": 349,
    "start_time": "2021-06-30T10:12:21.711Z"
   },
   {
    "duration": 616,
    "start_time": "2021-06-30T10:20:38.462Z"
   },
   {
    "duration": 341,
    "start_time": "2021-06-30T10:21:12.077Z"
   },
   {
    "duration": 369,
    "start_time": "2021-06-30T10:21:38.131Z"
   },
   {
    "duration": 116,
    "start_time": "2021-06-30T10:22:24.947Z"
   },
   {
    "duration": 91,
    "start_time": "2021-06-30T10:23:40.060Z"
   },
   {
    "duration": 109,
    "start_time": "2021-06-30T10:27:31.720Z"
   },
   {
    "duration": 338,
    "start_time": "2021-06-30T10:28:44.119Z"
   },
   {
    "duration": 344,
    "start_time": "2021-06-30T10:29:17.070Z"
   },
   {
    "duration": 100,
    "start_time": "2021-06-30T10:29:25.336Z"
   },
   {
    "duration": 100,
    "start_time": "2021-06-30T10:29:30.030Z"
   },
   {
    "duration": 13,
    "start_time": "2021-06-30T10:29:36.034Z"
   },
   {
    "duration": 10,
    "start_time": "2021-06-30T10:29:59.161Z"
   },
   {
    "duration": 104,
    "start_time": "2021-06-30T10:30:14.726Z"
   },
   {
    "duration": 94,
    "start_time": "2021-06-30T10:31:44.795Z"
   },
   {
    "duration": 75,
    "start_time": "2021-06-30T10:34:47.652Z"
   },
   {
    "duration": 5,
    "start_time": "2021-06-30T10:34:53.877Z"
   },
   {
    "duration": 190,
    "start_time": "2021-06-30T10:34:59.427Z"
   },
   {
    "duration": 6,
    "start_time": "2021-06-30T10:35:00.680Z"
   },
   {
    "duration": 10,
    "start_time": "2021-06-30T10:36:09.613Z"
   },
   {
    "duration": 17,
    "start_time": "2021-06-30T10:36:48.201Z"
   },
   {
    "duration": 17,
    "start_time": "2021-06-30T10:37:36.226Z"
   },
   {
    "duration": 20,
    "start_time": "2021-06-30T10:37:49.510Z"
   },
   {
    "duration": 18,
    "start_time": "2021-06-30T10:38:06.430Z"
   },
   {
    "duration": 19,
    "start_time": "2021-06-30T10:38:41.336Z"
   },
   {
    "duration": 42,
    "start_time": "2021-06-30T10:39:07.563Z"
   },
   {
    "duration": 103,
    "start_time": "2021-06-30T10:41:34.417Z"
   },
   {
    "duration": 357,
    "start_time": "2021-06-30T10:48:08.898Z"
   },
   {
    "duration": 354,
    "start_time": "2021-06-30T10:48:48.793Z"
   },
   {
    "duration": 378,
    "start_time": "2021-06-30T10:52:26.851Z"
   },
   {
    "duration": 99,
    "start_time": "2021-06-30T11:04:14.133Z"
   },
   {
    "duration": 97,
    "start_time": "2021-06-30T11:04:27.602Z"
   },
   {
    "duration": 122,
    "start_time": "2021-06-30T11:04:32.012Z"
   },
   {
    "duration": 118,
    "start_time": "2021-06-30T11:04:48.106Z"
   },
   {
    "duration": 359,
    "start_time": "2021-07-01T05:56:11.501Z"
   },
   {
    "duration": 864,
    "start_time": "2021-07-01T05:56:26.683Z"
   },
   {
    "duration": 346,
    "start_time": "2021-07-01T05:56:35.566Z"
   },
   {
    "duration": 14,
    "start_time": "2021-07-01T05:56:47.071Z"
   },
   {
    "duration": 353,
    "start_time": "2021-07-01T05:58:44.878Z"
   },
   {
    "duration": 361,
    "start_time": "2021-07-01T05:59:01.957Z"
   },
   {
    "duration": 13,
    "start_time": "2021-07-01T05:59:16.977Z"
   },
   {
    "duration": 10,
    "start_time": "2021-07-01T05:59:31.473Z"
   },
   {
    "duration": 408,
    "start_time": "2021-07-01T06:00:25.380Z"
   },
   {
    "duration": 59,
    "start_time": "2021-07-01T06:00:30.717Z"
   },
   {
    "duration": 6,
    "start_time": "2021-07-01T06:00:33.597Z"
   },
   {
    "duration": 106,
    "start_time": "2021-07-01T06:00:37.558Z"
   },
   {
    "duration": 5,
    "start_time": "2021-07-01T06:00:38.473Z"
   },
   {
    "duration": 386,
    "start_time": "2021-07-01T06:18:31.543Z"
   },
   {
    "duration": 401,
    "start_time": "2021-07-01T06:21:45.069Z"
   },
   {
    "duration": 398,
    "start_time": "2021-07-01T06:22:14.541Z"
   },
   {
    "duration": 402,
    "start_time": "2021-07-01T06:22:20.285Z"
   },
   {
    "duration": 429,
    "start_time": "2021-07-01T06:22:35.872Z"
   },
   {
    "duration": 400,
    "start_time": "2021-07-01T06:23:48.292Z"
   },
   {
    "duration": 431,
    "start_time": "2021-07-01T06:24:23.263Z"
   },
   {
    "duration": 67,
    "start_time": "2021-07-01T06:24:47.602Z"
   },
   {
    "duration": 468,
    "start_time": "2021-07-01T06:25:18.372Z"
   },
   {
    "duration": 405,
    "start_time": "2021-07-01T06:25:27.852Z"
   },
   {
    "duration": 412,
    "start_time": "2021-07-01T06:26:21.814Z"
   },
   {
    "duration": 456,
    "start_time": "2021-07-01T06:26:30.811Z"
   },
   {
    "duration": 647,
    "start_time": "2021-07-01T06:27:19.768Z"
   },
   {
    "duration": 361,
    "start_time": "2021-07-01T06:28:25.301Z"
   },
   {
    "duration": 71,
    "start_time": "2021-07-01T06:29:29.736Z"
   },
   {
    "duration": 73,
    "start_time": "2021-07-01T06:29:49.753Z"
   },
   {
    "duration": 73,
    "start_time": "2021-07-01T06:30:22.840Z"
   },
   {
    "duration": 475,
    "start_time": "2021-07-01T06:33:57.563Z"
   },
   {
    "duration": 80,
    "start_time": "2021-07-01T06:34:20.016Z"
   },
   {
    "duration": 484,
    "start_time": "2021-07-01T06:36:48.356Z"
   },
   {
    "duration": 435,
    "start_time": "2021-07-01T06:36:55.123Z"
   },
   {
    "duration": 436,
    "start_time": "2021-07-01T06:37:04.279Z"
   },
   {
    "duration": 435,
    "start_time": "2021-07-01T06:37:40.178Z"
   },
   {
    "duration": 412,
    "start_time": "2021-07-01T06:38:28.460Z"
   },
   {
    "duration": 414,
    "start_time": "2021-07-01T06:38:51.714Z"
   },
   {
    "duration": 482,
    "start_time": "2021-07-01T06:43:41.036Z"
   },
   {
    "duration": 543,
    "start_time": "2021-07-01T06:44:28.062Z"
   },
   {
    "duration": 110,
    "start_time": "2021-07-01T06:45:21.127Z"
   },
   {
    "duration": 386,
    "start_time": "2021-07-01T06:59:46.432Z"
   },
   {
    "duration": 71,
    "start_time": "2021-07-01T07:01:08.208Z"
   },
   {
    "duration": 440,
    "start_time": "2021-07-01T07:01:20.028Z"
   },
   {
    "duration": 760,
    "start_time": "2021-07-01T07:01:31.248Z"
   },
   {
    "duration": 412,
    "start_time": "2021-07-01T07:02:16.588Z"
   },
   {
    "duration": 69,
    "start_time": "2021-07-01T07:02:42.277Z"
   },
   {
    "duration": 100,
    "start_time": "2021-07-01T07:16:27.045Z"
   },
   {
    "duration": 69,
    "start_time": "2021-07-01T07:17:17.354Z"
   },
   {
    "duration": 68,
    "start_time": "2021-07-01T07:18:42.629Z"
   },
   {
    "duration": 108,
    "start_time": "2021-07-01T07:19:35.943Z"
   },
   {
    "duration": 16,
    "start_time": "2021-07-01T07:21:03.984Z"
   },
   {
    "duration": 23,
    "start_time": "2021-07-01T07:21:16.668Z"
   },
   {
    "duration": 16,
    "start_time": "2021-07-01T07:22:02.189Z"
   },
   {
    "duration": 17,
    "start_time": "2021-07-01T07:22:14.894Z"
   },
   {
    "duration": 24,
    "start_time": "2021-07-01T07:22:24.863Z"
   },
   {
    "duration": 17,
    "start_time": "2021-07-01T07:22:34.399Z"
   },
   {
    "duration": 13,
    "start_time": "2021-07-01T07:22:47.328Z"
   },
   {
    "duration": 13,
    "start_time": "2021-07-01T07:22:58.089Z"
   },
   {
    "duration": 20,
    "start_time": "2021-07-01T07:23:05.670Z"
   },
   {
    "duration": 437,
    "start_time": "2021-07-01T07:24:09.074Z"
   },
   {
    "duration": 409,
    "start_time": "2021-07-01T07:24:12.145Z"
   },
   {
    "duration": 76,
    "start_time": "2021-07-01T07:24:37.964Z"
   },
   {
    "duration": 410,
    "start_time": "2021-07-01T07:25:12.894Z"
   },
   {
    "duration": 114,
    "start_time": "2021-07-01T07:25:27.767Z"
   },
   {
    "duration": 64,
    "start_time": "2021-07-01T07:26:18.984Z"
   },
   {
    "duration": 58,
    "start_time": "2021-07-01T07:26:31.549Z"
   },
   {
    "duration": 66,
    "start_time": "2021-07-01T07:26:34.169Z"
   },
   {
    "duration": 96,
    "start_time": "2021-07-01T07:28:07.968Z"
   },
   {
    "duration": 95,
    "start_time": "2021-07-01T08:01:05.028Z"
   },
   {
    "duration": 96,
    "start_time": "2021-07-01T08:02:16.775Z"
   },
   {
    "duration": 90,
    "start_time": "2021-07-01T08:04:45.537Z"
   },
   {
    "duration": 11,
    "start_time": "2021-07-01T08:04:53.196Z"
   },
   {
    "duration": 11,
    "start_time": "2021-07-01T08:04:57.493Z"
   },
   {
    "duration": 8,
    "start_time": "2021-07-01T08:05:31.324Z"
   },
   {
    "duration": 130,
    "start_time": "2021-07-01T08:06:44.929Z"
   },
   {
    "duration": 111,
    "start_time": "2021-07-01T08:11:45.994Z"
   },
   {
    "duration": 69,
    "start_time": "2021-07-01T08:18:50.289Z"
   },
   {
    "duration": 76,
    "start_time": "2021-07-01T08:18:55.285Z"
   },
   {
    "duration": 86,
    "start_time": "2021-07-01T08:21:38.550Z"
   },
   {
    "duration": 73,
    "start_time": "2021-07-01T08:27:02.389Z"
   },
   {
    "duration": 102,
    "start_time": "2021-07-01T08:27:09.304Z"
   },
   {
    "duration": 82,
    "start_time": "2021-07-01T08:27:15.788Z"
   },
   {
    "duration": 88,
    "start_time": "2021-07-01T08:27:22.744Z"
   },
   {
    "duration": 103,
    "start_time": "2021-07-01T08:27:44.250Z"
   },
   {
    "duration": 76,
    "start_time": "2021-07-01T08:33:43.974Z"
   },
   {
    "duration": 88,
    "start_time": "2021-07-01T08:40:00.155Z"
   },
   {
    "duration": 424,
    "start_time": "2021-07-01T08:47:37.983Z"
   },
   {
    "duration": 430,
    "start_time": "2021-07-01T08:53:59.946Z"
   },
   {
    "duration": 398,
    "start_time": "2021-07-01T08:55:35.585Z"
   },
   {
    "duration": 74,
    "start_time": "2021-07-01T08:55:48.806Z"
   },
   {
    "duration": 465,
    "start_time": "2021-07-01T08:57:01.914Z"
   },
   {
    "duration": 366,
    "start_time": "2021-07-01T08:57:07.180Z"
   },
   {
    "duration": 403,
    "start_time": "2021-07-01T08:57:13.802Z"
   },
   {
    "duration": 386,
    "start_time": "2021-07-01T08:57:52.721Z"
   },
   {
    "duration": 394,
    "start_time": "2021-07-01T08:57:57.729Z"
   },
   {
    "duration": 75,
    "start_time": "2021-07-01T08:58:10.672Z"
   },
   {
    "duration": 386,
    "start_time": "2021-07-01T09:00:30.832Z"
   },
   {
    "duration": 427,
    "start_time": "2021-07-01T09:00:47.441Z"
   },
   {
    "duration": 387,
    "start_time": "2021-07-01T09:01:47.474Z"
   },
   {
    "duration": 395,
    "start_time": "2021-07-01T09:03:29.434Z"
   },
   {
    "duration": 76,
    "start_time": "2021-07-01T09:03:40.471Z"
   },
   {
    "duration": 373,
    "start_time": "2021-07-01T09:04:55.879Z"
   },
   {
    "duration": 75,
    "start_time": "2021-07-01T09:05:06.197Z"
   },
   {
    "duration": 862,
    "start_time": "2021-07-01T09:18:09.493Z"
   },
   {
    "duration": 194,
    "start_time": "2021-07-01T09:18:10.359Z"
   },
   {
    "duration": 70,
    "start_time": "2021-07-01T09:18:10.559Z"
   },
   {
    "duration": 60,
    "start_time": "2021-07-01T09:18:10.631Z"
   },
   {
    "duration": 59,
    "start_time": "2021-07-01T09:18:10.694Z"
   },
   {
    "duration": 60,
    "start_time": "2021-07-01T09:18:10.755Z"
   },
   {
    "duration": 59,
    "start_time": "2021-07-01T09:18:10.819Z"
   },
   {
    "duration": 57,
    "start_time": "2021-07-01T09:18:10.880Z"
   },
   {
    "duration": 94,
    "start_time": "2021-07-01T09:18:10.939Z"
   },
   {
    "duration": 70,
    "start_time": "2021-07-01T09:18:11.036Z"
   },
   {
    "duration": 68,
    "start_time": "2021-07-01T09:18:11.109Z"
   },
   {
    "duration": 64,
    "start_time": "2021-07-01T09:18:11.180Z"
   },
   {
    "duration": 867,
    "start_time": "2021-07-01T19:47:30.213Z"
   },
   {
    "duration": 111,
    "start_time": "2021-07-01T19:47:31.083Z"
   },
   {
    "duration": 28,
    "start_time": "2021-07-01T19:47:31.197Z"
   },
   {
    "duration": 19,
    "start_time": "2021-07-01T19:47:31.228Z"
   },
   {
    "duration": 17,
    "start_time": "2021-07-01T19:47:31.251Z"
   },
   {
    "duration": 43,
    "start_time": "2021-07-01T19:47:31.271Z"
   },
   {
    "duration": 18,
    "start_time": "2021-07-01T19:47:31.317Z"
   },
   {
    "duration": 16,
    "start_time": "2021-07-01T19:47:31.339Z"
   },
   {
    "duration": 68,
    "start_time": "2021-07-01T19:47:31.359Z"
   },
   {
    "duration": 26,
    "start_time": "2021-07-01T19:47:31.430Z"
   },
   {
    "duration": 31,
    "start_time": "2021-07-01T19:47:31.458Z"
   },
   {
    "duration": 32,
    "start_time": "2021-07-01T19:47:31.492Z"
   },
   {
    "duration": 876,
    "start_time": "2021-07-02T05:49:12.170Z"
   },
   {
    "duration": 101,
    "start_time": "2021-07-02T05:49:23.485Z"
   },
   {
    "duration": 43,
    "start_time": "2021-07-02T05:50:39.486Z"
   },
   {
    "duration": 38,
    "start_time": "2021-07-02T05:50:58.794Z"
   },
   {
    "duration": 25,
    "start_time": "2021-07-02T05:59:35.317Z"
   },
   {
    "duration": 27,
    "start_time": "2021-07-02T05:59:39.914Z"
   },
   {
    "duration": 19,
    "start_time": "2021-07-02T05:59:42.704Z"
   },
   {
    "duration": 54,
    "start_time": "2021-07-02T06:01:38.799Z"
   },
   {
    "duration": 827,
    "start_time": "2021-07-02T06:04:26.047Z"
   },
   {
    "duration": 47,
    "start_time": "2021-07-02T06:04:26.877Z"
   },
   {
    "duration": 23,
    "start_time": "2021-07-02T06:04:26.927Z"
   },
   {
    "duration": 17,
    "start_time": "2021-07-02T06:04:26.952Z"
   },
   {
    "duration": 28,
    "start_time": "2021-07-02T06:04:26.972Z"
   },
   {
    "duration": 19,
    "start_time": "2021-07-02T06:04:27.003Z"
   },
   {
    "duration": 21,
    "start_time": "2021-07-02T06:04:27.025Z"
   },
   {
    "duration": 16,
    "start_time": "2021-07-02T06:04:27.050Z"
   },
   {
    "duration": 52,
    "start_time": "2021-07-02T06:04:27.069Z"
   },
   {
    "duration": 25,
    "start_time": "2021-07-02T06:04:27.124Z"
   },
   {
    "duration": 26,
    "start_time": "2021-07-02T06:04:27.152Z"
   },
   {
    "duration": 33,
    "start_time": "2021-07-02T06:04:27.181Z"
   },
   {
    "duration": 811,
    "start_time": "2021-07-02T11:54:15.525Z"
   },
   {
    "duration": 48,
    "start_time": "2021-07-02T11:54:16.339Z"
   },
   {
    "duration": 21,
    "start_time": "2021-07-02T11:54:16.390Z"
   },
   {
    "duration": 15,
    "start_time": "2021-07-02T11:54:16.414Z"
   },
   {
    "duration": 16,
    "start_time": "2021-07-02T11:54:16.431Z"
   },
   {
    "duration": 15,
    "start_time": "2021-07-02T11:54:16.449Z"
   },
   {
    "duration": 36,
    "start_time": "2021-07-02T11:54:16.467Z"
   },
   {
    "duration": 14,
    "start_time": "2021-07-02T11:54:16.506Z"
   },
   {
    "duration": 37,
    "start_time": "2021-07-02T11:54:16.522Z"
   },
   {
    "duration": 18,
    "start_time": "2021-07-02T11:54:16.561Z"
   },
   {
    "duration": 39,
    "start_time": "2021-07-02T11:54:16.581Z"
   },
   {
    "duration": 18,
    "start_time": "2021-07-02T11:54:16.622Z"
   },
   {
    "duration": 222,
    "start_time": "2021-07-06T10:31:25.026Z"
   },
   {
    "duration": 60,
    "start_time": "2021-07-06T10:31:50.384Z"
   },
   {
    "duration": 827,
    "start_time": "2021-07-06T10:33:19.521Z"
   },
   {
    "duration": 187,
    "start_time": "2021-07-06T10:34:04.221Z"
   },
   {
    "duration": 68,
    "start_time": "2021-07-06T10:35:08.502Z"
   },
   {
    "duration": 517,
    "start_time": "2021-07-06T10:35:13.552Z"
   },
   {
    "duration": 735,
    "start_time": "2021-07-06T10:36:01.496Z"
   },
   {
    "duration": 3,
    "start_time": "2021-07-06T10:36:13.662Z"
   },
   {
    "duration": 766,
    "start_time": "2021-07-06T10:36:15.082Z"
   },
   {
    "duration": 263,
    "start_time": "2021-07-06T10:37:28.216Z"
   },
   {
    "duration": 4,
    "start_time": "2021-07-06T10:37:37.427Z"
   },
   {
    "duration": 3,
    "start_time": "2021-07-06T10:38:23.757Z"
   },
   {
    "duration": 205,
    "start_time": "2021-07-06T10:38:44.707Z"
   },
   {
    "duration": 60,
    "start_time": "2021-07-06T10:39:44.806Z"
   },
   {
    "duration": 28,
    "start_time": "2021-07-06T10:40:25.996Z"
   },
   {
    "duration": 214,
    "start_time": "2021-07-06T10:40:29.740Z"
   },
   {
    "duration": 4,
    "start_time": "2021-07-06T10:41:20.708Z"
   },
   {
    "duration": 292,
    "start_time": "2021-07-06T10:41:24.150Z"
   }
  ],
  "kernelspec": {
   "display_name": "Python 3",
   "language": "python",
   "name": "python3"
  },
  "language_info": {
   "codemirror_mode": {
    "name": "ipython",
    "version": 3
   },
   "file_extension": ".py",
   "mimetype": "text/x-python",
   "name": "python",
   "nbconvert_exporter": "python",
   "pygments_lexer": "ipython3",
   "version": "3.8.5"
  },
  "toc": {
   "base_numbering": 1,
   "nav_menu": {},
   "number_sections": true,
   "sideBar": true,
   "skip_h1_title": true,
   "title_cell": "Table of Contents",
   "title_sidebar": "Contents",
   "toc_cell": false,
   "toc_position": {},
   "toc_section_display": true,
   "toc_window_display": false
  }
 },
 "nbformat": 4,
 "nbformat_minor": 2
}
