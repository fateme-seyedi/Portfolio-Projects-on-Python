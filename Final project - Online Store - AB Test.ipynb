{
 "cells": [
  {
   "cell_type": "markdown",
   "metadata": {},
   "source": [
    "<a id=\"goal\"></a>\n",
    "## Project description & Goal"
   ]
  },
  {
   "cell_type": "markdown",
   "metadata": {},
   "source": [
    "<font color=\"blue\">\n",
    " \n",
    "We've received an analytical task from an international online store. Our predecessor failed to complete it: they launched an A/B test and then quit. They left only the technical specifications and the test results. <br>\n",
    "The task is to check whether it was carried out correctly, and analyze the results."
   ]
  },
  {
   "cell_type": "markdown",
   "metadata": {},
   "source": [
    "## Step 1. Open the data file and study the general information"
   ]
  },
  {
   "cell_type": "code",
   "execution_count": 1,
   "metadata": {},
   "outputs": [],
   "source": [
    "import pandas as pd\n",
    "import plotly.express as px\n",
    "from plotly import graph_objects as go\n",
    "from scipy import stats\n",
    "import math"
   ]
  },
  {
   "cell_type": "code",
   "execution_count": 2,
   "metadata": {},
   "outputs": [
    {
     "data": {
      "text/html": [
       "<div>\n",
       "<style scoped>\n",
       "    .dataframe tbody tr th:only-of-type {\n",
       "        vertical-align: middle;\n",
       "    }\n",
       "\n",
       "    .dataframe tbody tr th {\n",
       "        vertical-align: top;\n",
       "    }\n",
       "\n",
       "    .dataframe thead th {\n",
       "        text-align: right;\n",
       "    }\n",
       "</style>\n",
       "<table border=\"1\" class=\"dataframe\">\n",
       "  <thead>\n",
       "    <tr style=\"text-align: right;\">\n",
       "      <th></th>\n",
       "      <th>name</th>\n",
       "      <th>regions</th>\n",
       "      <th>start_dt</th>\n",
       "      <th>finish_dt</th>\n",
       "    </tr>\n",
       "  </thead>\n",
       "  <tbody>\n",
       "    <tr>\n",
       "      <th>0</th>\n",
       "      <td>Christmas&amp;New Year Promo</td>\n",
       "      <td>EU, N.America</td>\n",
       "      <td>2020-12-25</td>\n",
       "      <td>2021-01-03</td>\n",
       "    </tr>\n",
       "    <tr>\n",
       "      <th>1</th>\n",
       "      <td>St. Valentine's Day Giveaway</td>\n",
       "      <td>EU, CIS, APAC, N.America</td>\n",
       "      <td>2020-02-14</td>\n",
       "      <td>2020-02-16</td>\n",
       "    </tr>\n",
       "    <tr>\n",
       "      <th>2</th>\n",
       "      <td>St. Patric's Day Promo</td>\n",
       "      <td>EU, N.America</td>\n",
       "      <td>2020-03-17</td>\n",
       "      <td>2020-03-19</td>\n",
       "    </tr>\n",
       "    <tr>\n",
       "      <th>3</th>\n",
       "      <td>Easter Promo</td>\n",
       "      <td>EU, CIS, APAC, N.America</td>\n",
       "      <td>2020-04-12</td>\n",
       "      <td>2020-04-19</td>\n",
       "    </tr>\n",
       "    <tr>\n",
       "      <th>4</th>\n",
       "      <td>4th of July Promo</td>\n",
       "      <td>N.America</td>\n",
       "      <td>2020-07-04</td>\n",
       "      <td>2020-07-11</td>\n",
       "    </tr>\n",
       "    <tr>\n",
       "      <th>5</th>\n",
       "      <td>Black Friday Ads Campaign</td>\n",
       "      <td>EU, CIS, APAC, N.America</td>\n",
       "      <td>2020-11-26</td>\n",
       "      <td>2020-12-01</td>\n",
       "    </tr>\n",
       "    <tr>\n",
       "      <th>6</th>\n",
       "      <td>Chinese New Year Promo</td>\n",
       "      <td>APAC</td>\n",
       "      <td>2020-01-25</td>\n",
       "      <td>2020-02-07</td>\n",
       "    </tr>\n",
       "    <tr>\n",
       "      <th>7</th>\n",
       "      <td>Labor day (May 1st) Ads Campaign</td>\n",
       "      <td>EU, CIS, APAC</td>\n",
       "      <td>2020-05-01</td>\n",
       "      <td>2020-05-03</td>\n",
       "    </tr>\n",
       "    <tr>\n",
       "      <th>8</th>\n",
       "      <td>International Women's Day Promo</td>\n",
       "      <td>EU, CIS, APAC</td>\n",
       "      <td>2020-03-08</td>\n",
       "      <td>2020-03-10</td>\n",
       "    </tr>\n",
       "    <tr>\n",
       "      <th>9</th>\n",
       "      <td>Victory Day CIS (May 9th) Event</td>\n",
       "      <td>CIS</td>\n",
       "      <td>2020-05-09</td>\n",
       "      <td>2020-05-11</td>\n",
       "    </tr>\n",
       "    <tr>\n",
       "      <th>10</th>\n",
       "      <td>CIS New Year Gift Lottery</td>\n",
       "      <td>CIS</td>\n",
       "      <td>2020-12-30</td>\n",
       "      <td>2021-01-07</td>\n",
       "    </tr>\n",
       "    <tr>\n",
       "      <th>11</th>\n",
       "      <td>Dragon Boat Festival Giveaway</td>\n",
       "      <td>APAC</td>\n",
       "      <td>2020-06-25</td>\n",
       "      <td>2020-07-01</td>\n",
       "    </tr>\n",
       "    <tr>\n",
       "      <th>12</th>\n",
       "      <td>Single's Day Gift Promo</td>\n",
       "      <td>APAC</td>\n",
       "      <td>2020-11-11</td>\n",
       "      <td>2020-11-12</td>\n",
       "    </tr>\n",
       "    <tr>\n",
       "      <th>13</th>\n",
       "      <td>Chinese Moon Festival</td>\n",
       "      <td>APAC</td>\n",
       "      <td>2020-10-01</td>\n",
       "      <td>2020-10-07</td>\n",
       "    </tr>\n",
       "  </tbody>\n",
       "</table>\n",
       "</div>"
      ],
      "text/plain": [
       "                                name                   regions    start_dt  \\\n",
       "0           Christmas&New Year Promo             EU, N.America  2020-12-25   \n",
       "1       St. Valentine's Day Giveaway  EU, CIS, APAC, N.America  2020-02-14   \n",
       "2             St. Patric's Day Promo             EU, N.America  2020-03-17   \n",
       "3                       Easter Promo  EU, CIS, APAC, N.America  2020-04-12   \n",
       "4                  4th of July Promo                 N.America  2020-07-04   \n",
       "5          Black Friday Ads Campaign  EU, CIS, APAC, N.America  2020-11-26   \n",
       "6             Chinese New Year Promo                      APAC  2020-01-25   \n",
       "7   Labor day (May 1st) Ads Campaign             EU, CIS, APAC  2020-05-01   \n",
       "8    International Women's Day Promo             EU, CIS, APAC  2020-03-08   \n",
       "9    Victory Day CIS (May 9th) Event                       CIS  2020-05-09   \n",
       "10         CIS New Year Gift Lottery                       CIS  2020-12-30   \n",
       "11     Dragon Boat Festival Giveaway                      APAC  2020-06-25   \n",
       "12           Single's Day Gift Promo                      APAC  2020-11-11   \n",
       "13             Chinese Moon Festival                      APAC  2020-10-01   \n",
       "\n",
       "     finish_dt  \n",
       "0   2021-01-03  \n",
       "1   2020-02-16  \n",
       "2   2020-03-19  \n",
       "3   2020-04-19  \n",
       "4   2020-07-11  \n",
       "5   2020-12-01  \n",
       "6   2020-02-07  \n",
       "7   2020-05-03  \n",
       "8   2020-03-10  \n",
       "9   2020-05-11  \n",
       "10  2021-01-07  \n",
       "11  2020-07-01  \n",
       "12  2020-11-12  \n",
       "13  2020-10-07  "
      ]
     },
     "execution_count": 2,
     "metadata": {},
     "output_type": "execute_result"
    }
   ],
   "source": [
    "calendar"
   ]
  },
  {
   "cell_type": "code",
   "execution_count": 3,
   "metadata": {},
   "outputs": [
    {
     "data": {
      "text/html": [
       "<div>\n",
       "<style scoped>\n",
       "    .dataframe tbody tr th:only-of-type {\n",
       "        vertical-align: middle;\n",
       "    }\n",
       "\n",
       "    .dataframe tbody tr th {\n",
       "        vertical-align: top;\n",
       "    }\n",
       "\n",
       "    .dataframe thead th {\n",
       "        text-align: right;\n",
       "    }\n",
       "</style>\n",
       "<table border=\"1\" class=\"dataframe\">\n",
       "  <thead>\n",
       "    <tr style=\"text-align: right;\">\n",
       "      <th></th>\n",
       "      <th>user_id</th>\n",
       "      <th>first_date</th>\n",
       "      <th>region</th>\n",
       "      <th>device</th>\n",
       "    </tr>\n",
       "  </thead>\n",
       "  <tbody>\n",
       "    <tr>\n",
       "      <th>0</th>\n",
       "      <td>D72A72121175D8BE</td>\n",
       "      <td>2020-12-07</td>\n",
       "      <td>EU</td>\n",
       "      <td>PC</td>\n",
       "    </tr>\n",
       "    <tr>\n",
       "      <th>1</th>\n",
       "      <td>F1C668619DFE6E65</td>\n",
       "      <td>2020-12-07</td>\n",
       "      <td>N.America</td>\n",
       "      <td>Android</td>\n",
       "    </tr>\n",
       "    <tr>\n",
       "      <th>2</th>\n",
       "      <td>2E1BF1D4C37EA01F</td>\n",
       "      <td>2020-12-07</td>\n",
       "      <td>EU</td>\n",
       "      <td>PC</td>\n",
       "    </tr>\n",
       "    <tr>\n",
       "      <th>3</th>\n",
       "      <td>50734A22C0C63768</td>\n",
       "      <td>2020-12-07</td>\n",
       "      <td>EU</td>\n",
       "      <td>iPhone</td>\n",
       "    </tr>\n",
       "    <tr>\n",
       "      <th>4</th>\n",
       "      <td>E1BDDCE0DAFA2679</td>\n",
       "      <td>2020-12-07</td>\n",
       "      <td>N.America</td>\n",
       "      <td>iPhone</td>\n",
       "    </tr>\n",
       "  </tbody>\n",
       "</table>\n",
       "</div>"
      ],
      "text/plain": [
       "            user_id  first_date     region   device\n",
       "0  D72A72121175D8BE  2020-12-07         EU       PC\n",
       "1  F1C668619DFE6E65  2020-12-07  N.America  Android\n",
       "2  2E1BF1D4C37EA01F  2020-12-07         EU       PC\n",
       "3  50734A22C0C63768  2020-12-07         EU   iPhone\n",
       "4  E1BDDCE0DAFA2679  2020-12-07  N.America   iPhone"
      ]
     },
     "execution_count": 3,
     "metadata": {},
     "output_type": "execute_result"
    }
   ],
   "source": [
    "users.head(5)"
   ]
  },
  {
   "cell_type": "code",
   "execution_count": 4,
   "metadata": {},
   "outputs": [
    {
     "name": "stdout",
     "output_type": "stream",
     "text": [
      "<class 'pandas.core.frame.DataFrame'>\n",
      "RangeIndex: 58703 entries, 0 to 58702\n",
      "Data columns (total 4 columns):\n",
      " #   Column      Non-Null Count  Dtype \n",
      "---  ------      --------------  ----- \n",
      " 0   user_id     58703 non-null  object\n",
      " 1   first_date  58703 non-null  object\n",
      " 2   region      58703 non-null  object\n",
      " 3   device      58703 non-null  object\n",
      "dtypes: object(4)\n",
      "memory usage: 1.8+ MB\n"
     ]
    }
   ],
   "source": [
    "users.info()"
   ]
  },
  {
   "cell_type": "code",
   "execution_count": 5,
   "metadata": {},
   "outputs": [
    {
     "data": {
      "text/html": [
       "<div>\n",
       "<style scoped>\n",
       "    .dataframe tbody tr th:only-of-type {\n",
       "        vertical-align: middle;\n",
       "    }\n",
       "\n",
       "    .dataframe tbody tr th {\n",
       "        vertical-align: top;\n",
       "    }\n",
       "\n",
       "    .dataframe thead th {\n",
       "        text-align: right;\n",
       "    }\n",
       "</style>\n",
       "<table border=\"1\" class=\"dataframe\">\n",
       "  <thead>\n",
       "    <tr style=\"text-align: right;\">\n",
       "      <th></th>\n",
       "      <th>user_id</th>\n",
       "      <th>event_dt</th>\n",
       "      <th>event_name</th>\n",
       "      <th>details</th>\n",
       "    </tr>\n",
       "  </thead>\n",
       "  <tbody>\n",
       "    <tr>\n",
       "      <th>0</th>\n",
       "      <td>E1BDDCE0DAFA2679</td>\n",
       "      <td>2020-12-07 20:22:03</td>\n",
       "      <td>purchase</td>\n",
       "      <td>99.99</td>\n",
       "    </tr>\n",
       "    <tr>\n",
       "      <th>1</th>\n",
       "      <td>7B6452F081F49504</td>\n",
       "      <td>2020-12-07 09:22:53</td>\n",
       "      <td>purchase</td>\n",
       "      <td>9.99</td>\n",
       "    </tr>\n",
       "    <tr>\n",
       "      <th>2</th>\n",
       "      <td>9CD9F34546DF254C</td>\n",
       "      <td>2020-12-07 12:59:29</td>\n",
       "      <td>purchase</td>\n",
       "      <td>4.99</td>\n",
       "    </tr>\n",
       "    <tr>\n",
       "      <th>3</th>\n",
       "      <td>96F27A054B191457</td>\n",
       "      <td>2020-12-07 04:02:40</td>\n",
       "      <td>purchase</td>\n",
       "      <td>4.99</td>\n",
       "    </tr>\n",
       "    <tr>\n",
       "      <th>4</th>\n",
       "      <td>1FD7660FDF94CA1F</td>\n",
       "      <td>2020-12-07 10:15:09</td>\n",
       "      <td>purchase</td>\n",
       "      <td>4.99</td>\n",
       "    </tr>\n",
       "  </tbody>\n",
       "</table>\n",
       "</div>"
      ],
      "text/plain": [
       "            user_id             event_dt event_name  details\n",
       "0  E1BDDCE0DAFA2679  2020-12-07 20:22:03   purchase    99.99\n",
       "1  7B6452F081F49504  2020-12-07 09:22:53   purchase     9.99\n",
       "2  9CD9F34546DF254C  2020-12-07 12:59:29   purchase     4.99\n",
       "3  96F27A054B191457  2020-12-07 04:02:40   purchase     4.99\n",
       "4  1FD7660FDF94CA1F  2020-12-07 10:15:09   purchase     4.99"
      ]
     },
     "execution_count": 5,
     "metadata": {},
     "output_type": "execute_result"
    }
   ],
   "source": [
    "events.head(5)"
   ]
  },
  {
   "cell_type": "code",
   "execution_count": 6,
   "metadata": {},
   "outputs": [
    {
     "name": "stdout",
     "output_type": "stream",
     "text": [
      "<class 'pandas.core.frame.DataFrame'>\n",
      "RangeIndex: 423761 entries, 0 to 423760\n",
      "Data columns (total 4 columns):\n",
      " #   Column      Non-Null Count   Dtype  \n",
      "---  ------      --------------   -----  \n",
      " 0   user_id     423761 non-null  object \n",
      " 1   event_dt    423761 non-null  object \n",
      " 2   event_name  423761 non-null  object \n",
      " 3   details     60314 non-null   float64\n",
      "dtypes: float64(1), object(3)\n",
      "memory usage: 12.9+ MB\n"
     ]
    }
   ],
   "source": [
    "events.info()"
   ]
  },
  {
   "cell_type": "code",
   "execution_count": 7,
   "metadata": {},
   "outputs": [
    {
     "data": {
      "text/html": [
       "<div>\n",
       "<style scoped>\n",
       "    .dataframe tbody tr th:only-of-type {\n",
       "        vertical-align: middle;\n",
       "    }\n",
       "\n",
       "    .dataframe tbody tr th {\n",
       "        vertical-align: top;\n",
       "    }\n",
       "\n",
       "    .dataframe thead th {\n",
       "        text-align: right;\n",
       "    }\n",
       "</style>\n",
       "<table border=\"1\" class=\"dataframe\">\n",
       "  <thead>\n",
       "    <tr style=\"text-align: right;\">\n",
       "      <th></th>\n",
       "      <th>user_id</th>\n",
       "      <th>group</th>\n",
       "      <th>ab_test</th>\n",
       "    </tr>\n",
       "  </thead>\n",
       "  <tbody>\n",
       "    <tr>\n",
       "      <th>0</th>\n",
       "      <td>D1ABA3E2887B6A73</td>\n",
       "      <td>A</td>\n",
       "      <td>recommender_system_test</td>\n",
       "    </tr>\n",
       "    <tr>\n",
       "      <th>1</th>\n",
       "      <td>A7A3664BD6242119</td>\n",
       "      <td>A</td>\n",
       "      <td>recommender_system_test</td>\n",
       "    </tr>\n",
       "    <tr>\n",
       "      <th>2</th>\n",
       "      <td>DABC14FDDFADD29E</td>\n",
       "      <td>A</td>\n",
       "      <td>recommender_system_test</td>\n",
       "    </tr>\n",
       "    <tr>\n",
       "      <th>3</th>\n",
       "      <td>04988C5DF189632E</td>\n",
       "      <td>A</td>\n",
       "      <td>recommender_system_test</td>\n",
       "    </tr>\n",
       "    <tr>\n",
       "      <th>4</th>\n",
       "      <td>4FF2998A348C484F</td>\n",
       "      <td>A</td>\n",
       "      <td>recommender_system_test</td>\n",
       "    </tr>\n",
       "  </tbody>\n",
       "</table>\n",
       "</div>"
      ],
      "text/plain": [
       "            user_id group                  ab_test\n",
       "0  D1ABA3E2887B6A73     A  recommender_system_test\n",
       "1  A7A3664BD6242119     A  recommender_system_test\n",
       "2  DABC14FDDFADD29E     A  recommender_system_test\n",
       "3  04988C5DF189632E     A  recommender_system_test\n",
       "4  4FF2998A348C484F     A  recommender_system_test"
      ]
     },
     "execution_count": 7,
     "metadata": {},
     "output_type": "execute_result"
    }
   ],
   "source": [
    "test.head(5)"
   ]
  },
  {
   "cell_type": "code",
   "execution_count": 8,
   "metadata": {},
   "outputs": [
    {
     "name": "stdout",
     "output_type": "stream",
     "text": [
      "<class 'pandas.core.frame.DataFrame'>\n",
      "RangeIndex: 14525 entries, 0 to 14524\n",
      "Data columns (total 3 columns):\n",
      " #   Column   Non-Null Count  Dtype \n",
      "---  ------   --------------  ----- \n",
      " 0   user_id  14525 non-null  object\n",
      " 1   group    14525 non-null  object\n",
      " 2   ab_test  14525 non-null  object\n",
      "dtypes: object(3)\n",
      "memory usage: 340.6+ KB\n"
     ]
    }
   ],
   "source": [
    "test.info()"
   ]
  },
  {
   "cell_type": "markdown",
   "metadata": {},
   "source": [
    "## Conclusion"
   ]
  },
  {
   "cell_type": "markdown",
   "metadata": {},
   "source": [
    "<font color=\"blue\">\n",
    "    \n",
    "We have 4 datasets:\n",
    "  - calendar: the calendar of marketing events for 2020, with 14 rows and 4 columns.\n",
    "  - users: all users who signed up in the online store from December 7 to 21, 2020. with 58703 rows and 4 columns.\n",
    "  - events: all events of the new users within the period from December 7, 2020 through January 1, 2021. with 423761 rows and 4 columns.\n",
    "  - test:  table containing test participants, with 14525 rows and 3 columns.<br>\n",
    "\n",
    "there are no missing values in datasets, just in column `detail` in `events` table.    "
   ]
  },
  {
   "cell_type": "markdown",
   "metadata": {},
   "source": [
    "## Step 2. Data preprocessing"
   ]
  },
  {
   "cell_type": "markdown",
   "metadata": {},
   "source": [
    "- **Processing missing values**"
   ]
  },
  {
   "cell_type": "code",
   "execution_count": 9,
   "metadata": {},
   "outputs": [],
   "source": [
    "events.details=events.details.fillna(0)"
   ]
  },
  {
   "cell_type": "code",
   "execution_count": 10,
   "metadata": {},
   "outputs": [
    {
     "data": {
      "text/plain": [
       "purchase    60314\n",
       "Name: event_name, dtype: int64"
      ]
     },
     "execution_count": 10,
     "metadata": {},
     "output_type": "execute_result"
    }
   ],
   "source": [
    "events.query('details!=0')['event_name'].value_counts()"
   ]
  },
  {
   "cell_type": "markdown",
   "metadata": {},
   "source": [
    " - **Data type replacement**"
   ]
  },
  {
   "cell_type": "code",
   "execution_count": 11,
   "metadata": {},
   "outputs": [],
   "source": [
    "calendar.start_dt=pd.to_datetime(calendar.start_dt)\n",
    "calendar.finish_dt=pd.to_datetime(calendar.finish_dt)"
   ]
  },
  {
   "cell_type": "code",
   "execution_count": 12,
   "metadata": {},
   "outputs": [],
   "source": [
    "users.first_date=pd.to_datetime(users.first_date)"
   ]
  },
  {
   "cell_type": "code",
   "execution_count": 13,
   "metadata": {},
   "outputs": [],
   "source": [
    "events.event_dt=pd.to_datetime(events.event_dt)\n",
    "events['event_dt']=events['event_dt'].dt.date\n",
    "events.event_dt=pd.to_datetime(events.event_dt)"
   ]
  },
  {
   "cell_type": "markdown",
   "metadata": {},
   "source": [
    " - **Processing duplicates**"
   ]
  },
  {
   "cell_type": "code",
   "execution_count": 14,
   "metadata": {},
   "outputs": [
    {
     "data": {
      "text/plain": [
       "0"
      ]
     },
     "execution_count": 14,
     "metadata": {},
     "output_type": "execute_result"
    }
   ],
   "source": [
    "calendar.duplicated().sum()"
   ]
  },
  {
   "cell_type": "code",
   "execution_count": 15,
   "metadata": {},
   "outputs": [
    {
     "data": {
      "text/plain": [
       "0"
      ]
     },
     "execution_count": 15,
     "metadata": {},
     "output_type": "execute_result"
    }
   ],
   "source": [
    "users.duplicated().sum()"
   ]
  },
  {
   "cell_type": "code",
   "execution_count": 16,
   "metadata": {},
   "outputs": [
    {
     "data": {
      "text/plain": [
       "2"
      ]
     },
     "execution_count": 16,
     "metadata": {},
     "output_type": "execute_result"
    }
   ],
   "source": [
    "events.duplicated().sum()"
   ]
  },
  {
   "cell_type": "code",
   "execution_count": 17,
   "metadata": {},
   "outputs": [],
   "source": [
    "events.drop_duplicates(inplace=True)"
   ]
  },
  {
   "cell_type": "code",
   "execution_count": 18,
   "metadata": {},
   "outputs": [
    {
     "data": {
      "text/plain": [
       "0"
      ]
     },
     "execution_count": 18,
     "metadata": {},
     "output_type": "execute_result"
    }
   ],
   "source": [
    "test.duplicated().sum()"
   ]
  },
  {
   "cell_type": "markdown",
   "metadata": {},
   "source": [
    "## Conclusion"
   ]
  },
  {
   "cell_type": "markdown",
   "metadata": {},
   "source": [
    "<font color=\"blue\">\n",
    "    \n",
    "missing values in `detail` are not actually missing value, they belong to events except purchase. So, we can fill them with 0.<br>   Changes required in data types were done and duplicated were checked and dropped.    "
   ]
  },
  {
   "cell_type": "markdown",
   "metadata": {},
   "source": [
    "## Step 3: Exploratory data analysis"
   ]
  },
  {
   "cell_type": "markdown",
   "metadata": {},
   "source": [
    "<a id=\"description\"></a>\n",
    "- **Cheking the validity of the technical description**"
   ]
  },
  {
   "cell_type": "code",
   "execution_count": 19,
   "metadata": {},
   "outputs": [],
   "source": [
    "df=events.merge(test, on='user_id', how='inner').merge(users, on='user_id')"
   ]
  },
  {
   "cell_type": "code",
   "execution_count": 20,
   "metadata": {},
   "outputs": [
    {
     "data": {
      "text/html": [
       "<div>\n",
       "<style scoped>\n",
       "    .dataframe tbody tr th:only-of-type {\n",
       "        vertical-align: middle;\n",
       "    }\n",
       "\n",
       "    .dataframe tbody tr th {\n",
       "        vertical-align: top;\n",
       "    }\n",
       "\n",
       "    .dataframe thead th {\n",
       "        text-align: right;\n",
       "    }\n",
       "</style>\n",
       "<table border=\"1\" class=\"dataframe\">\n",
       "  <thead>\n",
       "    <tr style=\"text-align: right;\">\n",
       "      <th></th>\n",
       "      <th>user_id</th>\n",
       "      <th>event_dt</th>\n",
       "      <th>event_name</th>\n",
       "      <th>details</th>\n",
       "      <th>group</th>\n",
       "      <th>ab_test</th>\n",
       "      <th>first_date</th>\n",
       "      <th>region</th>\n",
       "      <th>device</th>\n",
       "    </tr>\n",
       "  </thead>\n",
       "  <tbody>\n",
       "    <tr>\n",
       "      <th>0</th>\n",
       "      <td>96F27A054B191457</td>\n",
       "      <td>2020-12-07</td>\n",
       "      <td>purchase</td>\n",
       "      <td>4.99</td>\n",
       "      <td>B</td>\n",
       "      <td>interface_eu_test</td>\n",
       "      <td>2020-12-07</td>\n",
       "      <td>EU</td>\n",
       "      <td>iPhone</td>\n",
       "    </tr>\n",
       "    <tr>\n",
       "      <th>1</th>\n",
       "      <td>96F27A054B191457</td>\n",
       "      <td>2020-12-08</td>\n",
       "      <td>purchase</td>\n",
       "      <td>4.99</td>\n",
       "      <td>B</td>\n",
       "      <td>interface_eu_test</td>\n",
       "      <td>2020-12-07</td>\n",
       "      <td>EU</td>\n",
       "      <td>iPhone</td>\n",
       "    </tr>\n",
       "  </tbody>\n",
       "</table>\n",
       "</div>"
      ],
      "text/plain": [
       "            user_id   event_dt event_name  details group            ab_test  \\\n",
       "0  96F27A054B191457 2020-12-07   purchase     4.99     B  interface_eu_test   \n",
       "1  96F27A054B191457 2020-12-08   purchase     4.99     B  interface_eu_test   \n",
       "\n",
       "  first_date region  device  \n",
       "0 2020-12-07     EU  iPhone  \n",
       "1 2020-12-07     EU  iPhone  "
      ]
     },
     "execution_count": 20,
     "metadata": {},
     "output_type": "execute_result"
    }
   ],
   "source": [
    "df.head(2)"
   ]
  },
  {
   "cell_type": "code",
   "execution_count": 21,
   "metadata": {},
   "outputs": [
    {
     "data": {
      "text/plain": [
       "Timestamp('2020-12-07 00:00:00')"
      ]
     },
     "execution_count": 21,
     "metadata": {},
     "output_type": "execute_result"
    }
   ],
   "source": [
    "df.event_dt.min()"
   ]
  },
  {
   "cell_type": "code",
   "execution_count": 22,
   "metadata": {},
   "outputs": [
    {
     "data": {
      "text/plain": [
       "Timestamp('2020-12-30 00:00:00')"
      ]
     },
     "execution_count": 22,
     "metadata": {},
     "output_type": "execute_result"
    }
   ],
   "source": [
    "df.event_dt.max()"
   ]
  },
  {
   "cell_type": "code",
   "execution_count": 23,
   "metadata": {},
   "outputs": [
    {
     "data": {
      "text/html": [
       "<div>\n",
       "<style scoped>\n",
       "    .dataframe tbody tr th:only-of-type {\n",
       "        vertical-align: middle;\n",
       "    }\n",
       "\n",
       "    .dataframe tbody tr th {\n",
       "        vertical-align: top;\n",
       "    }\n",
       "\n",
       "    .dataframe thead th {\n",
       "        text-align: right;\n",
       "    }\n",
       "</style>\n",
       "<table border=\"1\" class=\"dataframe\">\n",
       "  <thead>\n",
       "    <tr style=\"text-align: right;\">\n",
       "      <th></th>\n",
       "      <th>user_id</th>\n",
       "      <th>event_dt</th>\n",
       "      <th>event_name</th>\n",
       "      <th>details</th>\n",
       "      <th>group</th>\n",
       "      <th>ab_test</th>\n",
       "      <th>first_date</th>\n",
       "      <th>region</th>\n",
       "      <th>device</th>\n",
       "    </tr>\n",
       "  </thead>\n",
       "  <tbody>\n",
       "  </tbody>\n",
       "</table>\n",
       "</div>"
      ],
      "text/plain": [
       "Empty DataFrame\n",
       "Columns: [user_id, event_dt, event_name, details, group, ab_test, first_date, region, device]\n",
       "Index: []"
      ]
     },
     "execution_count": 23,
     "metadata": {},
     "output_type": "execute_result"
    }
   ],
   "source": [
    "df[df['first_date']>df['event_dt']]"
   ]
  },
  {
   "cell_type": "code",
   "execution_count": 24,
   "metadata": {},
   "outputs": [
    {
     "data": {
      "text/plain": [
       "interface_eu_test          78929\n",
       "recommender_system_test    23909\n",
       "Name: ab_test, dtype: int64"
      ]
     },
     "execution_count": 24,
     "metadata": {},
     "output_type": "execute_result"
    }
   ],
   "source": [
    "df.ab_test.value_counts()"
   ]
  },
  {
   "cell_type": "code",
   "execution_count": 25,
   "metadata": {},
   "outputs": [],
   "source": [
    "df1=df.query('ab_test==\"recommender_system_test\"')\n",
    "df2=df.query('ab_test==\"interface_eu_test\"')"
   ]
  },
  {
   "cell_type": "code",
   "execution_count": 26,
   "metadata": {},
   "outputs": [
    {
     "data": {
      "text/plain": [
       "A    18627\n",
       "B     5282\n",
       "Name: group, dtype: int64"
      ]
     },
     "execution_count": 26,
     "metadata": {},
     "output_type": "execute_result"
    }
   ],
   "source": [
    "df1.group.value_counts()"
   ]
  },
  {
   "cell_type": "code",
   "execution_count": 27,
   "metadata": {},
   "outputs": [
    {
     "data": {
      "text/plain": [
       "A    40078\n",
       "B    38851\n",
       "Name: group, dtype: int64"
      ]
     },
     "execution_count": 27,
     "metadata": {},
     "output_type": "execute_result"
    }
   ],
   "source": [
    "df2.group.value_counts()"
   ]
  },
  {
   "cell_type": "code",
   "execution_count": 28,
   "metadata": {},
   "outputs": [
    {
     "data": {
      "text/plain": [
       "EU           22674\n",
       "N.America      804\n",
       "APAC           225\n",
       "CIS            206\n",
       "Name: region, dtype: int64"
      ]
     },
     "execution_count": 28,
     "metadata": {},
     "output_type": "execute_result"
    }
   ],
   "source": [
    "df1.region.value_counts()"
   ]
  },
  {
   "cell_type": "code",
   "execution_count": 29,
   "metadata": {},
   "outputs": [
    {
     "data": {
      "text/plain": [
       "EU    78929\n",
       "Name: region, dtype: int64"
      ]
     },
     "execution_count": 29,
     "metadata": {},
     "output_type": "execute_result"
    }
   ],
   "source": [
    "df2.region.value_counts()"
   ]
  },
  {
   "cell_type": "code",
   "execution_count": 30,
   "metadata": {},
   "outputs": [
    {
     "name": "stdout",
     "output_type": "stream",
     "text": [
      "users in recommender_system_test: 3675\n",
      "users in interface_eu_test: 10850\n"
     ]
    }
   ],
   "source": [
    "print(\"users in recommender_system_test: {}\".format(df1.user_id.nunique()))\n",
    "print(\"users in interface_eu_test: {}\".format(df2.user_id.nunique()))"
   ]
  },
  {
   "cell_type": "code",
   "execution_count": 31,
   "metadata": {},
   "outputs": [
    {
     "data": {
      "text/plain": [
       "array(['EU', 'N.America', 'CIS', 'APAC'], dtype=object)"
      ]
     },
     "execution_count": 31,
     "metadata": {},
     "output_type": "execute_result"
    }
   ],
   "source": [
    "df.region.unique()"
   ]
  },
  {
   "cell_type": "code",
   "execution_count": 32,
   "metadata": {},
   "outputs": [
    {
     "data": {
      "text/plain": [
       "0.08021476633791133"
      ]
     },
     "execution_count": 32,
     "metadata": {},
     "output_type": "execute_result"
    }
   ],
   "source": [
    "df1.query('region==\"EU\"').user_id.nunique()/len(users.query('region==\"EU\"'))"
   ]
  },
  {
   "cell_type": "code",
   "execution_count": 33,
   "metadata": {},
   "outputs": [
    {
     "data": {
      "text/plain": [
       "0.2500230435984883"
      ]
     },
     "execution_count": 33,
     "metadata": {},
     "output_type": "execute_result"
    }
   ],
   "source": [
    "df2.query('region==\"EU\"').user_id.nunique()/len(users.query('region==\"EU\"'))"
   ]
  },
  {
   "cell_type": "markdown",
   "metadata": {},
   "source": [
    "<font color=\"blue\">\n",
    "    \n",
    "We split the data into 2 tests: `recommender_system_test` and `interface_eu_test`and checked the technical description for each of them.<br>\n",
    "    \n",
    "  -  The time is correct.\n",
    "  - `recommender_system_test`: there are 3675 participants from all regions and 8% of EU.\n",
    "  - `interface_eu_test`: there are 10850 participants from EU and 25% of them.\n",
    "    \n",
    "The description matches `interface_eu_test` and we would check the results for it.\n",
    "    "
   ]
  },
  {
   "cell_type": "markdown",
   "metadata": {},
   "source": [
    "<a id=\"funnel\"></a>\n",
    "- **Study conversion at different funnel stages**"
   ]
  },
  {
   "cell_type": "code",
   "execution_count": 34,
   "metadata": {},
   "outputs": [
    {
     "data": {
      "text/plain": [
       "78929"
      ]
     },
     "execution_count": 34,
     "metadata": {},
     "output_type": "execute_result"
    }
   ],
   "source": [
    "data=df.query('ab_test==\"interface_eu_test\"')\n",
    "len(data)"
   ]
  },
  {
   "cell_type": "code",
   "execution_count": 35,
   "metadata": {},
   "outputs": [
    {
     "data": {
      "text/plain": [
       "10850"
      ]
     },
     "execution_count": 35,
     "metadata": {},
     "output_type": "execute_result"
    }
   ],
   "source": [
    "data.user_id.nunique()"
   ]
  },
  {
   "cell_type": "code",
   "execution_count": 36,
   "metadata": {},
   "outputs": [
    {
     "data": {
      "text/html": [
       "<div>\n",
       "<style scoped>\n",
       "    .dataframe tbody tr th:only-of-type {\n",
       "        vertical-align: middle;\n",
       "    }\n",
       "\n",
       "    .dataframe tbody tr th {\n",
       "        vertical-align: top;\n",
       "    }\n",
       "\n",
       "    .dataframe thead th {\n",
       "        text-align: right;\n",
       "    }\n",
       "</style>\n",
       "<table border=\"1\" class=\"dataframe\">\n",
       "  <thead>\n",
       "    <tr style=\"text-align: right;\">\n",
       "      <th></th>\n",
       "      <th>stage</th>\n",
       "      <th>users</th>\n",
       "    </tr>\n",
       "  </thead>\n",
       "  <tbody>\n",
       "    <tr>\n",
       "      <th>0</th>\n",
       "      <td>login</td>\n",
       "      <td>10849</td>\n",
       "    </tr>\n",
       "    <tr>\n",
       "      <th>1</th>\n",
       "      <td>product_page</td>\n",
       "      <td>7166</td>\n",
       "    </tr>\n",
       "    <tr>\n",
       "      <th>2</th>\n",
       "      <td>product_cart</td>\n",
       "      <td>3568</td>\n",
       "    </tr>\n",
       "    <tr>\n",
       "      <th>3</th>\n",
       "      <td>purchase</td>\n",
       "      <td>3713</td>\n",
       "    </tr>\n",
       "  </tbody>\n",
       "</table>\n",
       "</div>"
      ],
      "text/plain": [
       "          stage  users\n",
       "0         login  10849\n",
       "1  product_page   7166\n",
       "2  product_cart   3568\n",
       "3      purchase   3713"
      ]
     },
     "execution_count": 36,
     "metadata": {},
     "output_type": "execute_result"
    }
   ],
   "source": [
    "funnel=data.groupby('event_name').agg({'user_id':'nunique'}).\\\n",
    "reindex(['login', 'product_page',\"product_cart\" ,'purchase']).reset_index().\\\n",
    "rename(columns={'event_name' : 'stage', 'user_id':'users'})\n",
    "funnel"
   ]
  },
  {
   "cell_type": "code",
   "execution_count": 37,
   "metadata": {},
   "outputs": [],
   "source": [
    "funnel['conversion']=funnel['users']/data.user_id.nunique()"
   ]
  },
  {
   "cell_type": "code",
   "execution_count": 38,
   "metadata": {},
   "outputs": [],
   "source": [
    "funnel['conversion to next stage']=funnel['users']/funnel['users'].shift(+1)"
   ]
  },
  {
   "cell_type": "code",
   "execution_count": 39,
   "metadata": {},
   "outputs": [],
   "source": [
    "funnel['perc_churn']=funnel['users'].pct_change()"
   ]
  },
  {
   "cell_type": "code",
   "execution_count": 40,
   "metadata": {},
   "outputs": [
    {
     "data": {
      "text/html": [
       "<div>\n",
       "<style scoped>\n",
       "    .dataframe tbody tr th:only-of-type {\n",
       "        vertical-align: middle;\n",
       "    }\n",
       "\n",
       "    .dataframe tbody tr th {\n",
       "        vertical-align: top;\n",
       "    }\n",
       "\n",
       "    .dataframe thead th {\n",
       "        text-align: right;\n",
       "    }\n",
       "</style>\n",
       "<table border=\"1\" class=\"dataframe\">\n",
       "  <thead>\n",
       "    <tr style=\"text-align: right;\">\n",
       "      <th></th>\n",
       "      <th>stage</th>\n",
       "      <th>users</th>\n",
       "      <th>conversion</th>\n",
       "      <th>conversion to next stage</th>\n",
       "      <th>perc_churn</th>\n",
       "    </tr>\n",
       "  </thead>\n",
       "  <tbody>\n",
       "    <tr>\n",
       "      <th>0</th>\n",
       "      <td>login</td>\n",
       "      <td>10849</td>\n",
       "      <td>0.999908</td>\n",
       "      <td>NaN</td>\n",
       "      <td>NaN</td>\n",
       "    </tr>\n",
       "    <tr>\n",
       "      <th>1</th>\n",
       "      <td>product_page</td>\n",
       "      <td>7166</td>\n",
       "      <td>0.660461</td>\n",
       "      <td>0.660522</td>\n",
       "      <td>-0.339478</td>\n",
       "    </tr>\n",
       "    <tr>\n",
       "      <th>2</th>\n",
       "      <td>product_cart</td>\n",
       "      <td>3568</td>\n",
       "      <td>0.328848</td>\n",
       "      <td>0.497907</td>\n",
       "      <td>-0.502093</td>\n",
       "    </tr>\n",
       "    <tr>\n",
       "      <th>3</th>\n",
       "      <td>purchase</td>\n",
       "      <td>3713</td>\n",
       "      <td>0.342212</td>\n",
       "      <td>1.040639</td>\n",
       "      <td>0.040639</td>\n",
       "    </tr>\n",
       "  </tbody>\n",
       "</table>\n",
       "</div>"
      ],
      "text/plain": [
       "          stage  users  conversion  conversion to next stage  perc_churn\n",
       "0         login  10849    0.999908                       NaN         NaN\n",
       "1  product_page   7166    0.660461                  0.660522   -0.339478\n",
       "2  product_cart   3568    0.328848                  0.497907   -0.502093\n",
       "3      purchase   3713    0.342212                  1.040639    0.040639"
      ]
     },
     "execution_count": 40,
     "metadata": {},
     "output_type": "execute_result"
    }
   ],
   "source": [
    "funnel"
   ]
  },
  {
   "cell_type": "code",
   "execution_count": 41,
   "metadata": {},
   "outputs": [
    {
     "data": {
      "image/png": "[encoded data removed]"
     },
     "metadata": {},
     "output_type": "display_data"
    }
   ],
   "source": [
    "fig=go.Figure(go.Funnel(x=funnel.conversion, y=funnel.stage))\n",
    "fig.update_layout( title=\"Conversion Funnel\")\n",
    "fig.show(\"png\")"
   ]
  },
  {
   "cell_type": "markdown",
   "metadata": {},
   "source": [
    "<font color=\"blue\">\n",
    "    \n",
    "At stage product_cart we lose the most users(49%). <br>\n",
    "66% of users who login also go to the product page.  <br>\n",
    "34% of users make the entire journey from their first event to payment. "
   ]
  },
  {
   "cell_type": "markdown",
   "metadata": {},
   "source": [
    "<a id=\"conditions\"></a>\n",
    "- **Is the number of events per user distributed equally in the samples?**"
   ]
  },
  {
   "cell_type": "code",
   "execution_count": 42,
   "metadata": {},
   "outputs": [
    {
     "data": {
      "text/plain": [
       "A    40078\n",
       "B    38851\n",
       "Name: group, dtype: int64"
      ]
     },
     "execution_count": 42,
     "metadata": {},
     "output_type": "execute_result"
    }
   ],
   "source": [
    "data.group.value_counts()"
   ]
  },
  {
   "cell_type": "code",
   "execution_count": 43,
   "metadata": {},
   "outputs": [
    {
     "data": {
      "image/png": "[encoded data removed]"
     },
     "metadata": {},
     "output_type": "display_data"
    }
   ],
   "source": [
    "fig= px.histogram(data.groupby('user_id').agg({'event_name':'count','group':'first'}).\\\n",
    "reset_index(), color='group',x=\"event_name\", title='Histogram of events')\n",
    "fig.show(\"png\")"
   ]
  },
  {
   "cell_type": "markdown",
   "metadata": {},
   "source": [
    " - **Are there users who are present in both samples?**"
   ]
  },
  {
   "cell_type": "code",
   "execution_count": 44,
   "metadata": {},
   "outputs": [
    {
     "data": {
      "text/html": [
       "<div>\n",
       "<style scoped>\n",
       "    .dataframe tbody tr th:only-of-type {\n",
       "        vertical-align: middle;\n",
       "    }\n",
       "\n",
       "    .dataframe tbody tr th {\n",
       "        vertical-align: top;\n",
       "    }\n",
       "\n",
       "    .dataframe thead th {\n",
       "        text-align: right;\n",
       "    }\n",
       "</style>\n",
       "<table border=\"1\" class=\"dataframe\">\n",
       "  <thead>\n",
       "    <tr style=\"text-align: right;\">\n",
       "      <th></th>\n",
       "      <th>user_id</th>\n",
       "      <th>group</th>\n",
       "    </tr>\n",
       "  </thead>\n",
       "  <tbody>\n",
       "  </tbody>\n",
       "</table>\n",
       "</div>"
      ],
      "text/plain": [
       "Empty DataFrame\n",
       "Columns: [user_id, group]\n",
       "Index: []"
      ]
     },
     "execution_count": 44,
     "metadata": {},
     "output_type": "execute_result"
    }
   ],
   "source": [
    "data.groupby('user_id').agg({'group':'nunique'}).reset_index().query('group==2')"
   ]
  },
  {
   "cell_type": "markdown",
   "metadata": {},
   "source": [
    " - **How is the number of events distributed among days?**"
   ]
  },
  {
   "cell_type": "code",
   "execution_count": 45,
   "metadata": {},
   "outputs": [
    {
     "data": {
      "text/html": [
       "<div>\n",
       "<style scoped>\n",
       "    .dataframe tbody tr th:only-of-type {\n",
       "        vertical-align: middle;\n",
       "    }\n",
       "\n",
       "    .dataframe tbody tr th {\n",
       "        vertical-align: top;\n",
       "    }\n",
       "\n",
       "    .dataframe thead th {\n",
       "        text-align: right;\n",
       "    }\n",
       "</style>\n",
       "<table border=\"1\" class=\"dataframe\">\n",
       "  <thead>\n",
       "    <tr style=\"text-align: right;\">\n",
       "      <th></th>\n",
       "      <th>event_name</th>\n",
       "    </tr>\n",
       "    <tr>\n",
       "      <th>event_dt</th>\n",
       "      <th></th>\n",
       "    </tr>\n",
       "  </thead>\n",
       "  <tbody>\n",
       "    <tr>\n",
       "      <th>2020-12-07</th>\n",
       "      <td>2068</td>\n",
       "    </tr>\n",
       "    <tr>\n",
       "      <th>2020-12-08</th>\n",
       "      <td>2311</td>\n",
       "    </tr>\n",
       "    <tr>\n",
       "      <th>2020-12-09</th>\n",
       "      <td>2333</td>\n",
       "    </tr>\n",
       "    <tr>\n",
       "      <th>2020-12-10</th>\n",
       "      <td>2551</td>\n",
       "    </tr>\n",
       "    <tr>\n",
       "      <th>2020-12-11</th>\n",
       "      <td>2603</td>\n",
       "    </tr>\n",
       "    <tr>\n",
       "      <th>2020-12-12</th>\n",
       "      <td>3482</td>\n",
       "    </tr>\n",
       "    <tr>\n",
       "      <th>2020-12-13</th>\n",
       "      <td>3974</td>\n",
       "    </tr>\n",
       "    <tr>\n",
       "      <th>2020-12-14</th>\n",
       "      <td>4783</td>\n",
       "    </tr>\n",
       "    <tr>\n",
       "      <th>2020-12-15</th>\n",
       "      <td>4333</td>\n",
       "    </tr>\n",
       "    <tr>\n",
       "      <th>2020-12-16</th>\n",
       "      <td>4016</td>\n",
       "    </tr>\n",
       "    <tr>\n",
       "      <th>2020-12-17</th>\n",
       "      <td>4115</td>\n",
       "    </tr>\n",
       "    <tr>\n",
       "      <th>2020-12-18</th>\n",
       "      <td>4219</td>\n",
       "    </tr>\n",
       "    <tr>\n",
       "      <th>2020-12-19</th>\n",
       "      <td>4360</td>\n",
       "    </tr>\n",
       "    <tr>\n",
       "      <th>2020-12-20</th>\n",
       "      <td>4828</td>\n",
       "    </tr>\n",
       "    <tr>\n",
       "      <th>2020-12-21</th>\n",
       "      <td>6070</td>\n",
       "    </tr>\n",
       "    <tr>\n",
       "      <th>2020-12-22</th>\n",
       "      <td>5352</td>\n",
       "    </tr>\n",
       "    <tr>\n",
       "      <th>2020-12-23</th>\n",
       "      <td>4907</td>\n",
       "    </tr>\n",
       "    <tr>\n",
       "      <th>2020-12-24</th>\n",
       "      <td>3690</td>\n",
       "    </tr>\n",
       "    <tr>\n",
       "      <th>2020-12-26</th>\n",
       "      <td>2633</td>\n",
       "    </tr>\n",
       "    <tr>\n",
       "      <th>2020-12-27</th>\n",
       "      <td>2396</td>\n",
       "    </tr>\n",
       "    <tr>\n",
       "      <th>2020-12-28</th>\n",
       "      <td>2116</td>\n",
       "    </tr>\n",
       "    <tr>\n",
       "      <th>2020-12-29</th>\n",
       "      <td>1773</td>\n",
       "    </tr>\n",
       "    <tr>\n",
       "      <th>2020-12-30</th>\n",
       "      <td>16</td>\n",
       "    </tr>\n",
       "  </tbody>\n",
       "</table>\n",
       "</div>"
      ],
      "text/plain": [
       "            event_name\n",
       "event_dt              \n",
       "2020-12-07        2068\n",
       "2020-12-08        2311\n",
       "2020-12-09        2333\n",
       "2020-12-10        2551\n",
       "2020-12-11        2603\n",
       "2020-12-12        3482\n",
       "2020-12-13        3974\n",
       "2020-12-14        4783\n",
       "2020-12-15        4333\n",
       "2020-12-16        4016\n",
       "2020-12-17        4115\n",
       "2020-12-18        4219\n",
       "2020-12-19        4360\n",
       "2020-12-20        4828\n",
       "2020-12-21        6070\n",
       "2020-12-22        5352\n",
       "2020-12-23        4907\n",
       "2020-12-24        3690\n",
       "2020-12-26        2633\n",
       "2020-12-27        2396\n",
       "2020-12-28        2116\n",
       "2020-12-29        1773\n",
       "2020-12-30          16"
      ]
     },
     "execution_count": 45,
     "metadata": {},
     "output_type": "execute_result"
    }
   ],
   "source": [
    "data.groupby('event_dt').agg({'event_name':'count'})"
   ]
  },
  {
   "cell_type": "code",
   "execution_count": 46,
   "metadata": {},
   "outputs": [
    {
     "data": {
      "image/png": "[encoded data removed]"
     },
     "metadata": {},
     "output_type": "display_data"
    }
   ],
   "source": [
    "fig= px.bar(data.groupby('event_dt').agg({'event_name':'count'}).\\\n",
    "reset_index(),x=\"event_dt\", y='event_name', title='Events per day')\n",
    "fig.show(\"png\")"
   ]
  },
  {
   "cell_type": "markdown",
   "metadata": {},
   "source": [
    "<font color=\"blue\">\n",
    "    \n",
    "We see there is a problem with the system on 25.Dec. It could be due to Christmas&New Year Promo, bacause the prome was started on 25.Dec. \t"
   ]
  },
  {
   "cell_type": "markdown",
   "metadata": {},
   "source": [
    " - **Are there any peculiarities in the data that you have to take into account before starting the A/B test?**"
   ]
  },
  {
   "cell_type": "code",
   "execution_count": 47,
   "metadata": {},
   "outputs": [
    {
     "data": {
      "text/html": [
       "<div>\n",
       "<style scoped>\n",
       "    .dataframe tbody tr th:only-of-type {\n",
       "        vertical-align: middle;\n",
       "    }\n",
       "\n",
       "    .dataframe tbody tr th {\n",
       "        vertical-align: top;\n",
       "    }\n",
       "\n",
       "    .dataframe thead th {\n",
       "        text-align: right;\n",
       "    }\n",
       "</style>\n",
       "<table border=\"1\" class=\"dataframe\">\n",
       "  <thead>\n",
       "    <tr style=\"text-align: right;\">\n",
       "      <th></th>\n",
       "      <th>name</th>\n",
       "      <th>regions</th>\n",
       "      <th>start_dt</th>\n",
       "      <th>finish_dt</th>\n",
       "    </tr>\n",
       "  </thead>\n",
       "  <tbody>\n",
       "    <tr>\n",
       "      <th>0</th>\n",
       "      <td>Christmas&amp;New Year Promo</td>\n",
       "      <td>EU, N.America</td>\n",
       "      <td>2020-12-25</td>\n",
       "      <td>2021-01-03</td>\n",
       "    </tr>\n",
       "  </tbody>\n",
       "</table>\n",
       "</div>"
      ],
      "text/plain": [
       "                       name        regions   start_dt  finish_dt\n",
       "0  Christmas&New Year Promo  EU, N.America 2020-12-25 2021-01-03"
      ]
     },
     "execution_count": 47,
     "metadata": {},
     "output_type": "execute_result"
    }
   ],
   "source": [
    "calendar.iloc[:1]"
   ]
  },
  {
   "cell_type": "code",
   "execution_count": 48,
   "metadata": {},
   "outputs": [],
   "source": [
    "data=data.query('event_dt<\"2020-12-25\"')"
   ]
  },
  {
   "cell_type": "markdown",
   "metadata": {},
   "source": [
    "<font color=\"blue\">\n",
    "Since Christmas promo is applied from 25.Dec to 3.Jan and it may affect the analysis, it is better to take this time out of the analysis."
   ]
  },
  {
   "cell_type": "markdown",
   "metadata": {},
   "source": [
    "## Conclusion"
   ]
  },
  {
   "cell_type": "markdown",
   "metadata": {},
   "source": [
    "<font color=\"blue\">\n",
    "\n",
    "**Check the technical description** <br>\n",
    " We split the data into 2 tests: \n",
    "  - `recommender_system_test` \n",
    "  - `interface_eu_test`<br>\n",
    "    \n",
    "and checked the technical description for each of them.<br>\n",
    "The description matched `interface_eu_test` and we would check the results for it.\n",
    "    \n",
    "**Check other A/B test conditions**  \n",
    "The number of events per user are distributed equally in the samples.<br>\n",
    "There aren't users who are present in both samples.   \n",
    "    \n",
    "Since Christmas promo is being held from 25.Dec to 3.Jan and it may affect the analysis, it is better to take this time out of the analysis.\n",
    "\n",
    "**Study the funnel<br>**\n",
    "At stage product_cart we lose the most users(49%). <br>\n",
    "66% of users who login also go to the product page.  <br>\n",
    "34% of users make the entire journey from their first event to payment.     "
   ]
  },
  {
   "cell_type": "markdown",
   "metadata": {},
   "source": [
    "<a id=\"results\"></a>\n",
    "## Step 4: Evaluate the A/B test results"
   ]
  },
  {
   "cell_type": "markdown",
   "metadata": {},
   "source": [
    "- **What can you say about the A/B test results?**"
   ]
  },
  {
   "cell_type": "code",
   "execution_count": 49,
   "metadata": {},
   "outputs": [
    {
     "data": {
      "text/html": [
       "<div>\n",
       "<style scoped>\n",
       "    .dataframe tbody tr th:only-of-type {\n",
       "        vertical-align: middle;\n",
       "    }\n",
       "\n",
       "    .dataframe tbody tr th {\n",
       "        vertical-align: top;\n",
       "    }\n",
       "\n",
       "    .dataframe thead th {\n",
       "        text-align: right;\n",
       "    }\n",
       "</style>\n",
       "<table border=\"1\" class=\"dataframe\">\n",
       "  <thead>\n",
       "    <tr style=\"text-align: right;\">\n",
       "      <th></th>\n",
       "      <th>user_id</th>\n",
       "      <th>event_dt</th>\n",
       "      <th>event_name</th>\n",
       "      <th>details</th>\n",
       "      <th>group</th>\n",
       "      <th>ab_test</th>\n",
       "      <th>first_date</th>\n",
       "      <th>region</th>\n",
       "      <th>device</th>\n",
       "    </tr>\n",
       "  </thead>\n",
       "  <tbody>\n",
       "    <tr>\n",
       "      <th>0</th>\n",
       "      <td>96F27A054B191457</td>\n",
       "      <td>2020-12-07</td>\n",
       "      <td>purchase</td>\n",
       "      <td>4.99</td>\n",
       "      <td>B</td>\n",
       "      <td>interface_eu_test</td>\n",
       "      <td>2020-12-07</td>\n",
       "      <td>EU</td>\n",
       "      <td>iPhone</td>\n",
       "    </tr>\n",
       "  </tbody>\n",
       "</table>\n",
       "</div>"
      ],
      "text/plain": [
       "            user_id   event_dt event_name  details group            ab_test  \\\n",
       "0  96F27A054B191457 2020-12-07   purchase     4.99     B  interface_eu_test   \n",
       "\n",
       "  first_date region  device  \n",
       "0 2020-12-07     EU  iPhone  "
      ]
     },
     "execution_count": 49,
     "metadata": {},
     "output_type": "execute_result"
    }
   ],
   "source": [
    "data.head(1)"
   ]
  },
  {
   "cell_type": "code",
   "execution_count": 50,
   "metadata": {},
   "outputs": [
    {
     "data": {
      "text/html": [
       "<div>\n",
       "<style scoped>\n",
       "    .dataframe tbody tr th:only-of-type {\n",
       "        vertical-align: middle;\n",
       "    }\n",
       "\n",
       "    .dataframe tbody tr th {\n",
       "        vertical-align: top;\n",
       "    }\n",
       "\n",
       "    .dataframe thead th {\n",
       "        text-align: right;\n",
       "    }\n",
       "</style>\n",
       "<table border=\"1\" class=\"dataframe\">\n",
       "  <thead>\n",
       "    <tr style=\"text-align: right;\">\n",
       "      <th>group</th>\n",
       "      <th>stage</th>\n",
       "      <th>A</th>\n",
       "      <th>B</th>\n",
       "    </tr>\n",
       "  </thead>\n",
       "  <tbody>\n",
       "    <tr>\n",
       "      <th>0</th>\n",
       "      <td>login</td>\n",
       "      <td>5466</td>\n",
       "      <td>5383</td>\n",
       "    </tr>\n",
       "    <tr>\n",
       "      <th>1</th>\n",
       "      <td>product_page</td>\n",
       "      <td>3639</td>\n",
       "      <td>3527</td>\n",
       "    </tr>\n",
       "    <tr>\n",
       "      <th>2</th>\n",
       "      <td>product_cart</td>\n",
       "      <td>1756</td>\n",
       "      <td>1812</td>\n",
       "    </tr>\n",
       "    <tr>\n",
       "      <th>3</th>\n",
       "      <td>purchase</td>\n",
       "      <td>1931</td>\n",
       "      <td>1782</td>\n",
       "    </tr>\n",
       "  </tbody>\n",
       "</table>\n",
       "</div>"
      ],
      "text/plain": [
       "group         stage     A     B\n",
       "0             login  5466  5383\n",
       "1      product_page  3639  3527\n",
       "2      product_cart  1756  1812\n",
       "3          purchase  1931  1782"
      ]
     },
     "execution_count": 50,
     "metadata": {},
     "output_type": "execute_result"
    }
   ],
   "source": [
    "pivot = data.pivot_table(index='event_name', values='user_id', columns='group', aggfunc='nunique').\\\n",
    "reindex(['login', 'product_page',\"product_cart\" ,'purchase']).reset_index().\\\n",
    "rename(columns={'event_name':'stage'})\n",
    "pivot"
   ]
  },
  {
   "cell_type": "code",
   "execution_count": 51,
   "metadata": {},
   "outputs": [],
   "source": [
    "pivot['conversion A']=pivot['A']/data.query('group==\"A\"').user_id.nunique()\n",
    "pivot['conversion B']=pivot['B']/data.query('group==\"B\"').user_id.nunique()"
   ]
  },
  {
   "cell_type": "code",
   "execution_count": 52,
   "metadata": {},
   "outputs": [
    {
     "data": {
      "text/html": [
       "<div>\n",
       "<style scoped>\n",
       "    .dataframe tbody tr th:only-of-type {\n",
       "        vertical-align: middle;\n",
       "    }\n",
       "\n",
       "    .dataframe tbody tr th {\n",
       "        vertical-align: top;\n",
       "    }\n",
       "\n",
       "    .dataframe thead th {\n",
       "        text-align: right;\n",
       "    }\n",
       "</style>\n",
       "<table border=\"1\" class=\"dataframe\">\n",
       "  <thead>\n",
       "    <tr style=\"text-align: right;\">\n",
       "      <th>group</th>\n",
       "      <th>stage</th>\n",
       "      <th>A</th>\n",
       "      <th>B</th>\n",
       "      <th>conversion A</th>\n",
       "      <th>conversion B</th>\n",
       "    </tr>\n",
       "  </thead>\n",
       "  <tbody>\n",
       "    <tr>\n",
       "      <th>0</th>\n",
       "      <td>login</td>\n",
       "      <td>5466</td>\n",
       "      <td>5383</td>\n",
       "      <td>0.999817</td>\n",
       "      <td>1.000000</td>\n",
       "    </tr>\n",
       "    <tr>\n",
       "      <th>1</th>\n",
       "      <td>product_page</td>\n",
       "      <td>3639</td>\n",
       "      <td>3527</td>\n",
       "      <td>0.665630</td>\n",
       "      <td>0.655211</td>\n",
       "    </tr>\n",
       "    <tr>\n",
       "      <th>2</th>\n",
       "      <td>product_cart</td>\n",
       "      <td>1756</td>\n",
       "      <td>1812</td>\n",
       "      <td>0.321200</td>\n",
       "      <td>0.336615</td>\n",
       "    </tr>\n",
       "    <tr>\n",
       "      <th>3</th>\n",
       "      <td>purchase</td>\n",
       "      <td>1931</td>\n",
       "      <td>1782</td>\n",
       "      <td>0.353210</td>\n",
       "      <td>0.331042</td>\n",
       "    </tr>\n",
       "  </tbody>\n",
       "</table>\n",
       "</div>"
      ],
      "text/plain": [
       "group         stage     A     B  conversion A  conversion B\n",
       "0             login  5466  5383      0.999817      1.000000\n",
       "1      product_page  3639  3527      0.665630      0.655211\n",
       "2      product_cart  1756  1812      0.321200      0.336615\n",
       "3          purchase  1931  1782      0.353210      0.331042"
      ]
     },
     "execution_count": 52,
     "metadata": {},
     "output_type": "execute_result"
    }
   ],
   "source": [
    "pivot"
   ]
  },
  {
   "cell_type": "code",
   "execution_count": 53,
   "metadata": {},
   "outputs": [
    {
     "data": {
      "image/png": "[encoded data removed]"
     },
     "metadata": {},
     "output_type": "display_data"
    }
   ],
   "source": [
    "fig = go.Figure()\n",
    "fig.add_trace(go.Funnel(x=pivot['conversion A'], y=pivot.stage, name = 'A'))\n",
    "fig.add_trace(go.Funnel(x=pivot['conversion B'], y=pivot.stage, name = 'B'))\n",
    "fig.update_layout( title=\"Conversion Funnel\")\n",
    "fig.show(\"png\")"
   ]
  },
  {
   "cell_type": "markdown",
   "metadata": {},
   "source": [
    "<font color=\"blue\">\n",
    "    \n",
    "The expected result was at each stage of the funnel, that there will be at least a 10% increase, but we see only a decrease of about 1 to 2 percent!  \n",
    "    "
   ]
  },
  {
   "cell_type": "markdown",
   "metadata": {},
   "source": [
    " - **Use a z-test to check the statistical difference between the proportions.**"
   ]
  },
  {
   "cell_type": "code",
   "execution_count": 54,
   "metadata": {},
   "outputs": [],
   "source": [
    "def check_hypothesis(group1,group2, event, alpha=0.05):\n",
    "    #let's start with successes, using \n",
    "    successes1=pivot[pivot.stage==event][group1].iloc[0]\n",
    "    successes2=pivot[pivot.stage==event][group2].iloc[0]\n",
    "    \n",
    "    #for trials we can go back to original df or used a pre-aggregated data\n",
    "    trials1=data[data.group==group1]['user_id'].nunique()\n",
    "    trials2=data[data.group==group2]['user_id'].nunique()\n",
    "    \n",
    "    #proportion for success in the first group\n",
    "    p1 = successes1/trials1\n",
    "\n",
    "   #proportion for success in the second group\n",
    "    p2 = successes2/trials2\n",
    "\n",
    "    # proportion in a combined dataset\n",
    "    p_combined = (successes1 + successes2) / (trials1 + trials2)\n",
    "\n",
    "  \n",
    "    difference = p1 - p2\n",
    "    \n",
    "    \n",
    "    z_value = difference / math.sqrt(p_combined * (1 - p_combined) * (1/trials1 + 1/trials2))\n",
    "\n",
    "  \n",
    "    distr = stats.norm(0, 1) \n",
    "\n",
    "\n",
    "    p_value = (1 - distr.cdf(abs(z_value))) * 2\n",
    "\n",
    "    print('p-value: ', p_value)\n",
    "\n",
    "    if (p_value < alpha):\n",
    "        print(\"Reject H0 for\", event, 'and groups',group1, group2)\n",
    "    else:\n",
    "        print(\"Fail to Reject H0 for\", event,'and groups',group1, group2)  "
   ]
  },
  {
   "cell_type": "code",
   "execution_count": 55,
   "metadata": {},
   "outputs": [
    {
     "data": {
      "text/html": [
       "<div>\n",
       "<style scoped>\n",
       "    .dataframe tbody tr th:only-of-type {\n",
       "        vertical-align: middle;\n",
       "    }\n",
       "\n",
       "    .dataframe tbody tr th {\n",
       "        vertical-align: top;\n",
       "    }\n",
       "\n",
       "    .dataframe thead th {\n",
       "        text-align: right;\n",
       "    }\n",
       "</style>\n",
       "<table border=\"1\" class=\"dataframe\">\n",
       "  <thead>\n",
       "    <tr style=\"text-align: right;\">\n",
       "      <th>group</th>\n",
       "      <th>stage</th>\n",
       "      <th>A</th>\n",
       "      <th>B</th>\n",
       "      <th>conversion A</th>\n",
       "      <th>conversion B</th>\n",
       "    </tr>\n",
       "  </thead>\n",
       "  <tbody>\n",
       "    <tr>\n",
       "      <th>0</th>\n",
       "      <td>login</td>\n",
       "      <td>5466</td>\n",
       "      <td>5383</td>\n",
       "      <td>0.999817</td>\n",
       "      <td>1.000000</td>\n",
       "    </tr>\n",
       "    <tr>\n",
       "      <th>1</th>\n",
       "      <td>product_page</td>\n",
       "      <td>3639</td>\n",
       "      <td>3527</td>\n",
       "      <td>0.665630</td>\n",
       "      <td>0.655211</td>\n",
       "    </tr>\n",
       "    <tr>\n",
       "      <th>2</th>\n",
       "      <td>product_cart</td>\n",
       "      <td>1756</td>\n",
       "      <td>1812</td>\n",
       "      <td>0.321200</td>\n",
       "      <td>0.336615</td>\n",
       "    </tr>\n",
       "    <tr>\n",
       "      <th>3</th>\n",
       "      <td>purchase</td>\n",
       "      <td>1931</td>\n",
       "      <td>1782</td>\n",
       "      <td>0.353210</td>\n",
       "      <td>0.331042</td>\n",
       "    </tr>\n",
       "  </tbody>\n",
       "</table>\n",
       "</div>"
      ],
      "text/plain": [
       "group         stage     A     B  conversion A  conversion B\n",
       "0             login  5466  5383      0.999817      1.000000\n",
       "1      product_page  3639  3527      0.665630      0.655211\n",
       "2      product_cart  1756  1812      0.321200      0.336615\n",
       "3          purchase  1931  1782      0.353210      0.331042"
      ]
     },
     "execution_count": 55,
     "metadata": {},
     "output_type": "execute_result"
    }
   ],
   "source": [
    "pivot"
   ]
  },
  {
   "cell_type": "markdown",
   "metadata": {},
   "source": [
    "<font color ='blue'>\n",
    "\n",
    "A/B Test: Hypotheses for difference between samples A and B\n",
    "    \n",
    "H0: There isn't a statistically significant difference between samples A and B for login.<br>\n",
    "H1: There is a statistically significant difference between samples A and B for login.\n",
    "\n",
    "H0: There isn't a statistically significant difference between samples A and B for for product_cart.<br>\n",
    "H1: There is a statistically significant difference between samples A and B for for product_cart.\n",
    "\n",
    "H0: There isn't a statistically significant difference between samples A and B for product_page.<br>\n",
    "H1: There is a statistically significant difference between samples A and B for product_page.\n",
    "\n",
    "H0: There isn't a statistically significant difference between samples A and B for purchase.<br>\n",
    "H1: There is a statistically significant difference between samples A and B for purchase.\n"
   ]
  },
  {
   "cell_type": "code",
   "execution_count": 56,
   "metadata": {},
   "outputs": [
    {
     "name": "stdout",
     "output_type": "stream",
     "text": [
      "p-value:  0.32103485047255065\n",
      "Fail to Reject H0 for login and groups A B\n",
      "p-value:  0.2518419682737163\n",
      "Fail to Reject H0 for product_page and groups A B\n",
      "p-value:  0.08746918913258162\n",
      "Fail to Reject H0 for product_cart and groups A B\n",
      "p-value:  0.014959088807690257\n",
      "Reject H0 for purchase and groups A B\n"
     ]
    }
   ],
   "source": [
    "for i in pivot.stage.unique():\n",
    "    check_hypothesis('A', 'B', i, alpha=0.05)"
   ]
  },
  {
   "cell_type": "markdown",
   "metadata": {},
   "source": [
    "<font color ='blue'>\n",
    "    \n",
    "H0 would be rejected just at `purchase` stage. There is just a significant difference at `purcghase` stage between samples group A and B. <br>In other stages there aren't a significant difference between samples group A and B.   "
   ]
  },
  {
   "cell_type": "markdown",
   "metadata": {},
   "source": [
    "<font color ='blue'>\n",
    "    \n",
    "We made 4 Hypotheses for the A/B tests. We could correct the significance level by Bonferroni procedure and the significance level of each test will be 0.05 / 4 = 0.0125. We run through the previous steps again. "
   ]
  },
  {
   "cell_type": "code",
   "execution_count": 57,
   "metadata": {},
   "outputs": [],
   "source": [
    "# alpha=0.05/4=0.0125"
   ]
  },
  {
   "cell_type": "code",
   "execution_count": 58,
   "metadata": {},
   "outputs": [
    {
     "name": "stdout",
     "output_type": "stream",
     "text": [
      "p-value:  0.32103485047255065\n",
      "Fail to Reject H0 for login and groups A B\n",
      "p-value:  0.2518419682737163\n",
      "Fail to Reject H0 for product_page and groups A B\n",
      "p-value:  0.08746918913258162\n",
      "Fail to Reject H0 for product_cart and groups A B\n",
      "p-value:  0.014959088807690257\n",
      "Fail to Reject H0 for purchase and groups A B\n"
     ]
    }
   ],
   "source": [
    "for i in pivot.stage.unique():\n",
    "    check_hypothesis('A', 'B', i, alpha=0.0125)"
   ]
  },
  {
   "cell_type": "markdown",
   "metadata": {},
   "source": [
    "<font color ='blue'>\n",
    "H0 wouldn't be rejected at any stage. There aren't statistically significant difference between samples group A and B.  "
   ]
  },
  {
   "cell_type": "markdown",
   "metadata": {},
   "source": [
    "## Conclosion"
   ]
  },
  {
   "cell_type": "markdown",
   "metadata": {},
   "source": [
    "<font color ='blue'>\n",
    "\n",
    "There aren't statistically significant difference between samples A and B at any stages after correcting the alpha.    \n",
    "    "
   ]
  },
  {
   "cell_type": "markdown",
   "metadata": {},
   "source": [
    "## step 5: Overall Conclusion"
   ]
  },
  {
   "cell_type": "markdown",
   "metadata": {},
   "source": [
    "<font color=\"blue\">\n",
    "    \n",
    "### [Goal](#goal)\n",
    "    \n",
    "We've received an analytical task from an international online store. Our predecessor failed to complete it: they launched an A/B test and then quit. They left only the technical specifications and the test results.\n",
    "The task is to check whether it was carried out correctly, and analyze the results.\n",
    "    \n",
    "### [Study the event funnel](#funnel)\n",
    "  - At stage product_cart we lose the most users(49%).\n",
    "  - 66% of users who login also go to the product page.\n",
    "  - 34% of users make the entire journey from their first event to payment. \n",
    "    \n",
    "### [Check the technical description](#description)\n",
    "We split the data into 2 tests:\n",
    "\n",
    "  - recommender_system_test\n",
    "  - interface_eu_test\n",
    "    \n",
    "and checked the technical description for each of them.<br>\n",
    "The description matched `interface_eu_test` and we would check the results for it.\n",
    "\n",
    "### [Check other A/B test conditions](#conditions)\n",
    "    \n",
    " - The number of events per user are distributed equally in the samples.<br>\n",
    " - There aren't users who are present in both samples.<br>\n",
    " - Since Christmas promo is being held from 25.Dec to 3.Jan and it may affect the analysis, it is better to take this time out of the analysis.\n",
    "\n",
    "\n",
    "### [Study the results of the experiment](#results)\n",
    "    \n",
    "  - The expected result at each stage of the funnel, was that there will be at least a 10% increase, but we see only a decrease of about 1 to 2 percent.    \n",
    "  - There is just a significant difference at purcghase stage between samples group A and B.  \n",
    "  - There aren't statistically significant difference between samples group A and B at any stages  after correcting the alpha.\n",
    "    \n",
    "### Final Conclusion and Suggestions  \n",
    "    \n",
    "Changing the payment funnel didn't cause a significant difference in conversion between the test and control group. Therefore, the test is not successful and changing the payment funnel is not effective in the conversion rate. So it is not recommended. "
   ]
  }
 ],
 "metadata": {
  "ExecuteTimeLog": [
   {
    "duration": 1875,
    "start_time": "2021-06-25T11:14:19.331Z"
   },
   {
    "duration": 51,
    "start_time": "2021-06-25T11:14:25.619Z"
   },
   {
    "duration": 93,
    "start_time": "2021-06-25T11:15:05.574Z"
   },
   {
    "duration": 20,
    "start_time": "2021-06-25T11:15:18.005Z"
   },
   {
    "duration": 577,
    "start_time": "2021-06-25T11:15:24.384Z"
   },
   {
    "duration": 69,
    "start_time": "2021-06-25T11:15:32.010Z"
   },
   {
    "duration": 36,
    "start_time": "2021-06-25T11:15:38.881Z"
   },
   {
    "duration": 10,
    "start_time": "2021-06-25T11:15:52.739Z"
   },
   {
    "duration": 11,
    "start_time": "2021-06-25T11:16:56.443Z"
   },
   {
    "duration": 7,
    "start_time": "2021-06-25T11:17:55.903Z"
   },
   {
    "duration": 14,
    "start_time": "2021-06-25T11:18:06.928Z"
   },
   {
    "duration": 413,
    "start_time": "2021-06-25T11:18:07.577Z"
   },
   {
    "duration": 10,
    "start_time": "2021-06-25T11:18:44.927Z"
   },
   {
    "duration": 39,
    "start_time": "2021-06-25T11:18:45.964Z"
   },
   {
    "duration": 183,
    "start_time": "2021-06-25T11:18:46.743Z"
   },
   {
    "duration": 215,
    "start_time": "2021-06-25T11:19:03.962Z"
   },
   {
    "duration": 13,
    "start_time": "2021-06-25T11:19:04.913Z"
   },
   {
    "duration": 366,
    "start_time": "2021-06-25T11:19:33.877Z"
   },
   {
    "duration": 17,
    "start_time": "2021-06-25T11:19:41.815Z"
   },
   {
    "duration": 6,
    "start_time": "2021-06-25T11:19:46.905Z"
   },
   {
    "duration": 6,
    "start_time": "2021-06-25T11:19:53.324Z"
   },
   {
    "duration": 29,
    "start_time": "2021-06-25T11:19:58.718Z"
   },
   {
    "duration": 17,
    "start_time": "2021-06-25T11:20:25.973Z"
   },
   {
    "duration": 35,
    "start_time": "2021-06-25T11:21:33.028Z"
   },
   {
    "duration": 10,
    "start_time": "2021-06-25T11:21:40.304Z"
   },
   {
    "duration": 16,
    "start_time": "2021-06-25T11:21:46.125Z"
   },
   {
    "duration": 10,
    "start_time": "2021-06-25T11:21:55.653Z"
   },
   {
    "duration": 17,
    "start_time": "2021-06-25T11:22:02.018Z"
   },
   {
    "duration": 20,
    "start_time": "2021-06-25T11:22:57.925Z"
   },
   {
    "duration": 18,
    "start_time": "2021-06-25T11:23:30.834Z"
   },
   {
    "duration": 131,
    "start_time": "2021-06-25T11:23:43.991Z"
   },
   {
    "duration": 17,
    "start_time": "2021-06-25T11:23:53.614Z"
   },
   {
    "duration": 11,
    "start_time": "2021-06-25T11:24:30.069Z"
   },
   {
    "duration": 97,
    "start_time": "2021-06-25T11:25:29.531Z"
   },
   {
    "duration": 20,
    "start_time": "2021-06-25T11:25:32.256Z"
   },
   {
    "duration": 29,
    "start_time": "2021-06-25T11:26:03.451Z"
   },
   {
    "duration": 22,
    "start_time": "2021-06-25T11:26:28.897Z"
   },
   {
    "duration": 9,
    "start_time": "2021-06-25T11:27:12.007Z"
   },
   {
    "duration": 36,
    "start_time": "2021-06-25T11:27:18.378Z"
   },
   {
    "duration": 42,
    "start_time": "2021-06-25T11:27:26.205Z"
   },
   {
    "duration": 20,
    "start_time": "2021-06-25T11:27:53.658Z"
   },
   {
    "duration": 19,
    "start_time": "2021-06-25T11:27:59.846Z"
   },
   {
    "duration": 155,
    "start_time": "2021-06-25T11:28:15.418Z"
   },
   {
    "duration": 20,
    "start_time": "2021-06-25T11:28:30.262Z"
   },
   {
    "duration": 8,
    "start_time": "2021-06-25T11:28:35.496Z"
   },
   {
    "duration": 11,
    "start_time": "2021-06-25T11:28:40.755Z"
   },
   {
    "duration": 5,
    "start_time": "2021-06-25T11:32:48.420Z"
   },
   {
    "duration": 17,
    "start_time": "2021-06-25T11:36:12.954Z"
   },
   {
    "duration": 4652,
    "start_time": "2021-06-25T11:36:27.438Z"
   },
   {
    "duration": 15,
    "start_time": "2021-06-25T11:40:42.453Z"
   },
   {
    "duration": 14,
    "start_time": "2021-06-25T11:40:52.293Z"
   },
   {
    "duration": 14,
    "start_time": "2021-06-25T11:40:57.985Z"
   },
   {
    "duration": 33,
    "start_time": "2021-06-25T11:41:03.704Z"
   },
   {
    "duration": 16,
    "start_time": "2021-06-25T11:41:08.325Z"
   },
   {
    "duration": 35,
    "start_time": "2021-06-25T11:41:17.846Z"
   },
   {
    "duration": 15,
    "start_time": "2021-06-25T11:42:06.656Z"
   },
   {
    "duration": 15,
    "start_time": "2021-06-25T11:45:34.860Z"
   },
   {
    "duration": 83,
    "start_time": "2021-06-25T11:46:51.809Z"
   },
   {
    "duration": 18,
    "start_time": "2021-06-25T11:48:24.454Z"
   },
   {
    "duration": 8,
    "start_time": "2021-06-25T11:48:25.675Z"
   },
   {
    "duration": 11,
    "start_time": "2021-06-25T11:48:29.628Z"
   },
   {
    "duration": 5,
    "start_time": "2021-06-25T11:50:27.408Z"
   },
   {
    "duration": 177,
    "start_time": "2021-06-25T11:52:59.898Z"
   },
   {
    "duration": 6,
    "start_time": "2021-06-25T11:54:10.235Z"
   },
   {
    "duration": 12,
    "start_time": "2021-06-25T11:54:14.068Z"
   },
   {
    "duration": 6,
    "start_time": "2021-06-25T12:01:10.020Z"
   },
   {
    "duration": 7,
    "start_time": "2021-06-25T12:01:12.854Z"
   },
   {
    "duration": 14,
    "start_time": "2021-06-25T12:01:14.018Z"
   },
   {
    "duration": 256,
    "start_time": "2021-06-25T12:01:30.356Z"
   },
   {
    "duration": 5,
    "start_time": "2021-06-25T12:04:52.999Z"
   },
   {
    "duration": 13,
    "start_time": "2021-06-25T12:05:06.756Z"
   },
   {
    "duration": 17,
    "start_time": "2021-06-25T12:06:06.987Z"
   },
   {
    "duration": 92,
    "start_time": "2021-06-25T12:08:47.165Z"
   },
   {
    "duration": 38,
    "start_time": "2021-06-25T12:09:11.736Z"
   },
   {
    "duration": 98,
    "start_time": "2021-06-25T12:09:28.426Z"
   },
   {
    "duration": 42,
    "start_time": "2021-06-25T12:09:42.603Z"
   },
   {
    "duration": 92,
    "start_time": "2021-06-25T12:10:00.250Z"
   },
   {
    "duration": 63,
    "start_time": "2021-06-25T12:10:38.683Z"
   },
   {
    "duration": 54,
    "start_time": "2021-06-25T12:11:21.776Z"
   },
   {
    "duration": 191,
    "start_time": "2021-06-25T12:11:26.615Z"
   },
   {
    "duration": 703,
    "start_time": "2021-06-25T12:11:34.058Z"
   },
   {
    "duration": 568,
    "start_time": "2021-06-25T12:11:48.722Z"
   },
   {
    "duration": 454,
    "start_time": "2021-06-25T12:12:04.198Z"
   },
   {
    "duration": 326,
    "start_time": "2021-06-25T12:12:26.345Z"
   },
   {
    "duration": 606,
    "start_time": "2021-06-25T12:13:26.624Z"
   },
   {
    "duration": 15,
    "start_time": "2021-06-25T12:16:14.684Z"
   },
   {
    "duration": 57,
    "start_time": "2021-06-25T12:18:47.365Z"
   },
   {
    "duration": 61,
    "start_time": "2021-06-25T12:18:53.887Z"
   },
   {
    "duration": 60,
    "start_time": "2021-06-25T12:19:27.765Z"
   },
   {
    "duration": 474,
    "start_time": "2021-06-25T12:21:51.969Z"
   },
   {
    "duration": 16,
    "start_time": "2021-06-25T12:23:02.848Z"
   },
   {
    "duration": 564,
    "start_time": "2021-06-25T12:25:02.335Z"
   },
   {
    "duration": 20,
    "start_time": "2021-06-25T12:26:10.904Z"
   },
   {
    "duration": 374,
    "start_time": "2021-06-25T12:26:34.738Z"
   },
   {
    "duration": 5,
    "start_time": "2021-06-25T12:27:54.520Z"
   },
   {
    "duration": 20,
    "start_time": "2021-06-25T12:28:15.909Z"
   },
   {
    "duration": 539,
    "start_time": "2021-06-25T12:30:07.634Z"
   },
   {
    "duration": 475,
    "start_time": "2021-06-25T12:31:23.140Z"
   },
   {
    "duration": 29,
    "start_time": "2021-06-25T12:32:02.171Z"
   },
   {
    "duration": 95,
    "start_time": "2021-06-25T12:32:49.545Z"
   },
   {
    "duration": 30,
    "start_time": "2021-06-25T12:32:55.630Z"
   },
   {
    "duration": 22,
    "start_time": "2021-06-25T12:34:20.130Z"
   },
   {
    "duration": 543,
    "start_time": "2021-06-25T12:34:35.014Z"
   },
   {
    "duration": 281,
    "start_time": "2021-06-25T12:55:27.390Z"
   },
   {
    "duration": 3,
    "start_time": "2021-06-25T12:56:13.705Z"
   },
   {
    "duration": 1274,
    "start_time": "2021-06-25T15:59:50.342Z"
   },
   {
    "duration": 26,
    "start_time": "2021-06-25T15:59:51.618Z"
   },
   {
    "duration": 71,
    "start_time": "2021-06-25T15:59:51.646Z"
   },
   {
    "duration": 13,
    "start_time": "2021-06-25T15:59:51.719Z"
   },
   {
    "duration": 412,
    "start_time": "2021-06-25T15:59:51.733Z"
   },
   {
    "duration": 58,
    "start_time": "2021-06-25T15:59:52.146Z"
   },
   {
    "duration": 28,
    "start_time": "2021-06-25T15:59:52.206Z"
   },
   {
    "duration": 6,
    "start_time": "2021-06-25T15:59:52.237Z"
   },
   {
    "duration": 9,
    "start_time": "2021-06-25T15:59:52.245Z"
   },
   {
    "duration": 5,
    "start_time": "2021-06-25T15:59:52.255Z"
   },
   {
    "duration": 27,
    "start_time": "2021-06-25T15:59:52.261Z"
   },
   {
    "duration": 263,
    "start_time": "2021-06-25T15:59:52.290Z"
   },
   {
    "duration": 6,
    "start_time": "2021-06-25T15:59:52.555Z"
   },
   {
    "duration": 37,
    "start_time": "2021-06-25T15:59:52.563Z"
   },
   {
    "duration": 136,
    "start_time": "2021-06-25T15:59:52.602Z"
   },
   {
    "duration": 157,
    "start_time": "2021-06-25T15:59:52.740Z"
   },
   {
    "duration": 9,
    "start_time": "2021-06-25T15:59:52.898Z"
   },
   {
    "duration": 249,
    "start_time": "2021-06-25T15:59:52.908Z"
   },
   {
    "duration": 11,
    "start_time": "2021-06-25T15:59:53.159Z"
   },
   {
    "duration": 14,
    "start_time": "2021-06-25T15:59:53.171Z"
   },
   {
    "duration": 9,
    "start_time": "2021-06-25T15:59:53.187Z"
   },
   {
    "duration": 20,
    "start_time": "2021-06-25T15:59:53.198Z"
   },
   {
    "duration": 14,
    "start_time": "2021-06-25T15:59:53.222Z"
   },
   {
    "duration": 47,
    "start_time": "2021-06-25T15:59:53.238Z"
   },
   {
    "duration": 7,
    "start_time": "2021-06-25T15:59:53.287Z"
   },
   {
    "duration": 19,
    "start_time": "2021-06-25T15:59:53.296Z"
   },
   {
    "duration": 7,
    "start_time": "2021-06-25T15:59:53.316Z"
   },
   {
    "duration": 13,
    "start_time": "2021-06-25T15:59:53.325Z"
   },
   {
    "duration": 18,
    "start_time": "2021-06-25T15:59:53.340Z"
   },
   {
    "duration": 27,
    "start_time": "2021-06-25T15:59:53.360Z"
   },
   {
    "duration": 18,
    "start_time": "2021-06-25T15:59:53.389Z"
   },
   {
    "duration": 28,
    "start_time": "2021-06-25T15:59:53.408Z"
   },
   {
    "duration": 12,
    "start_time": "2021-06-25T15:59:53.437Z"
   },
   {
    "duration": 36,
    "start_time": "2021-06-25T15:59:53.451Z"
   },
   {
    "duration": 10,
    "start_time": "2021-06-25T15:59:53.488Z"
   },
   {
    "duration": 2724,
    "start_time": "2021-06-25T15:59:53.500Z"
   },
   {
    "duration": 10,
    "start_time": "2021-06-25T15:59:56.227Z"
   },
   {
    "duration": 94,
    "start_time": "2021-06-25T15:59:56.239Z"
   },
   {
    "duration": 13,
    "start_time": "2021-06-25T15:59:56.385Z"
   },
   {
    "duration": 4,
    "start_time": "2021-06-25T15:59:56.400Z"
   },
   {
    "duration": 6,
    "start_time": "2021-06-25T15:59:56.406Z"
   },
   {
    "duration": 13,
    "start_time": "2021-06-25T15:59:56.413Z"
   },
   {
    "duration": 175,
    "start_time": "2021-06-25T15:59:56.427Z"
   },
   {
    "duration": 10,
    "start_time": "2021-06-25T15:59:56.604Z"
   },
   {
    "duration": 426,
    "start_time": "2021-06-25T15:59:56.615Z"
   },
   {
    "duration": 57,
    "start_time": "2021-06-25T15:59:57.043Z"
   },
   {
    "duration": 20,
    "start_time": "2021-06-25T15:59:57.102Z"
   },
   {
    "duration": 12,
    "start_time": "2021-06-25T15:59:57.124Z"
   },
   {
    "duration": 249,
    "start_time": "2021-06-25T15:59:57.138Z"
   },
   {
    "duration": 11,
    "start_time": "2021-06-25T16:01:27.542Z"
   },
   {
    "duration": 112,
    "start_time": "2021-06-25T16:02:26.153Z"
   },
   {
    "duration": 447,
    "start_time": "2021-06-25T16:07:40.905Z"
   },
   {
    "duration": 1262,
    "start_time": "2021-06-25T16:07:47.152Z"
   },
   {
    "duration": 26,
    "start_time": "2021-06-25T16:07:48.415Z"
   },
   {
    "duration": 67,
    "start_time": "2021-06-25T16:07:48.443Z"
   },
   {
    "duration": 14,
    "start_time": "2021-06-25T16:07:48.512Z"
   },
   {
    "duration": 425,
    "start_time": "2021-06-25T16:07:48.528Z"
   },
   {
    "duration": 57,
    "start_time": "2021-06-25T16:07:48.955Z"
   },
   {
    "duration": 30,
    "start_time": "2021-06-25T16:07:49.014Z"
   },
   {
    "duration": 7,
    "start_time": "2021-06-25T16:07:49.045Z"
   },
   {
    "duration": 10,
    "start_time": "2021-06-25T16:07:49.054Z"
   },
   {
    "duration": 4,
    "start_time": "2021-06-25T16:07:49.067Z"
   },
   {
    "duration": 10,
    "start_time": "2021-06-25T16:07:49.085Z"
   },
   {
    "duration": 280,
    "start_time": "2021-06-25T16:07:49.096Z"
   },
   {
    "duration": 8,
    "start_time": "2021-06-25T16:07:49.378Z"
   },
   {
    "duration": 23,
    "start_time": "2021-06-25T16:07:49.387Z"
   },
   {
    "duration": 150,
    "start_time": "2021-06-25T16:07:49.412Z"
   },
   {
    "duration": 161,
    "start_time": "2021-06-25T16:07:49.564Z"
   },
   {
    "duration": 9,
    "start_time": "2021-06-25T16:07:49.726Z"
   },
   {
    "duration": 264,
    "start_time": "2021-06-25T16:07:49.737Z"
   },
   {
    "duration": 13,
    "start_time": "2021-06-25T16:07:50.003Z"
   },
   {
    "duration": 6,
    "start_time": "2021-06-25T16:07:50.018Z"
   },
   {
    "duration": 9,
    "start_time": "2021-06-25T16:07:50.025Z"
   },
   {
    "duration": 22,
    "start_time": "2021-06-25T16:07:50.035Z"
   },
   {
    "duration": 32,
    "start_time": "2021-06-25T16:07:50.059Z"
   },
   {
    "duration": 24,
    "start_time": "2021-06-25T16:07:50.093Z"
   },
   {
    "duration": 6,
    "start_time": "2021-06-25T16:07:50.119Z"
   },
   {
    "duration": 12,
    "start_time": "2021-06-25T16:07:50.126Z"
   },
   {
    "duration": 7,
    "start_time": "2021-06-25T16:07:50.139Z"
   },
   {
    "duration": 41,
    "start_time": "2021-06-25T16:07:50.147Z"
   },
   {
    "duration": 17,
    "start_time": "2021-06-25T16:07:50.190Z"
   },
   {
    "duration": 6,
    "start_time": "2021-06-25T16:07:50.209Z"
   },
   {
    "duration": 17,
    "start_time": "2021-06-25T16:07:50.219Z"
   },
   {
    "duration": 59,
    "start_time": "2021-06-25T16:07:50.238Z"
   },
   {
    "duration": 14,
    "start_time": "2021-06-25T16:07:50.298Z"
   },
   {
    "duration": 14,
    "start_time": "2021-06-25T16:07:50.313Z"
   },
   {
    "duration": 10,
    "start_time": "2021-06-25T16:07:50.329Z"
   },
   {
    "duration": 2667,
    "start_time": "2021-06-25T16:07:50.341Z"
   },
   {
    "duration": 10,
    "start_time": "2021-06-25T16:07:53.011Z"
   },
   {
    "duration": 99,
    "start_time": "2021-06-25T16:07:53.023Z"
   },
   {
    "duration": 63,
    "start_time": "2021-06-25T16:07:53.124Z"
   },
   {
    "duration": 6,
    "start_time": "2021-06-25T16:07:53.189Z"
   },
   {
    "duration": 8,
    "start_time": "2021-06-25T16:07:53.197Z"
   },
   {
    "duration": 21,
    "start_time": "2021-06-25T16:07:53.207Z"
   },
   {
    "duration": 159,
    "start_time": "2021-06-25T16:07:53.230Z"
   },
   {
    "duration": 10,
    "start_time": "2021-06-25T16:07:53.390Z"
   },
   {
    "duration": 413,
    "start_time": "2021-06-25T16:07:53.401Z"
   },
   {
    "duration": 43,
    "start_time": "2021-06-25T16:07:53.816Z"
   },
   {
    "duration": 37,
    "start_time": "2021-06-25T16:07:53.861Z"
   },
   {
    "duration": 12,
    "start_time": "2021-06-25T16:07:53.900Z"
   },
   {
    "duration": 233,
    "start_time": "2021-06-25T16:07:53.913Z"
   },
   {
    "duration": 11,
    "start_time": "2021-06-25T16:07:54.148Z"
   },
   {
    "duration": 470,
    "start_time": "2021-06-25T16:08:10.789Z"
   },
   {
    "duration": 103,
    "start_time": "2021-06-25T16:08:21.866Z"
   },
   {
    "duration": 5045,
    "start_time": "2021-06-25T16:09:34.323Z"
   },
   {
    "duration": 19,
    "start_time": "2021-06-25T16:09:49.692Z"
   },
   {
    "duration": 26,
    "start_time": "2021-06-25T16:10:21.349Z"
   },
   {
    "duration": 9,
    "start_time": "2021-06-25T16:10:26.906Z"
   },
   {
    "duration": 26,
    "start_time": "2021-06-25T16:10:35.907Z"
   },
   {
    "duration": 8,
    "start_time": "2021-06-25T16:10:36.703Z"
   },
   {
    "duration": 18,
    "start_time": "2021-06-25T16:13:02.447Z"
   },
   {
    "duration": 1344,
    "start_time": "2021-06-25T16:16:16.573Z"
   },
   {
    "duration": 25,
    "start_time": "2021-06-25T16:16:17.919Z"
   },
   {
    "duration": 72,
    "start_time": "2021-06-25T16:16:17.946Z"
   },
   {
    "duration": 13,
    "start_time": "2021-06-25T16:16:18.019Z"
   },
   {
    "duration": 432,
    "start_time": "2021-06-25T16:16:18.033Z"
   },
   {
    "duration": 58,
    "start_time": "2021-06-25T16:16:18.467Z"
   },
   {
    "duration": 30,
    "start_time": "2021-06-25T16:16:18.526Z"
   },
   {
    "duration": 8,
    "start_time": "2021-06-25T16:16:18.558Z"
   },
   {
    "duration": 16,
    "start_time": "2021-06-25T16:16:18.568Z"
   },
   {
    "duration": 5,
    "start_time": "2021-06-25T16:16:18.586Z"
   },
   {
    "duration": 11,
    "start_time": "2021-06-25T16:16:18.594Z"
   },
   {
    "duration": 287,
    "start_time": "2021-06-25T16:16:18.606Z"
   },
   {
    "duration": 5,
    "start_time": "2021-06-25T16:16:18.894Z"
   },
   {
    "duration": 25,
    "start_time": "2021-06-25T16:16:18.901Z"
   },
   {
    "duration": 160,
    "start_time": "2021-06-25T16:16:18.928Z"
   },
   {
    "duration": 167,
    "start_time": "2021-06-25T16:16:19.090Z"
   },
   {
    "duration": 9,
    "start_time": "2021-06-25T16:16:19.259Z"
   },
   {
    "duration": 252,
    "start_time": "2021-06-25T16:16:19.269Z"
   },
   {
    "duration": 11,
    "start_time": "2021-06-25T16:16:19.523Z"
   },
   {
    "duration": 6,
    "start_time": "2021-06-25T16:16:19.536Z"
   },
   {
    "duration": 4,
    "start_time": "2021-06-25T16:16:19.543Z"
   },
   {
    "duration": 43,
    "start_time": "2021-06-25T16:16:19.548Z"
   },
   {
    "duration": 12,
    "start_time": "2021-06-25T16:16:19.592Z"
   },
   {
    "duration": 21,
    "start_time": "2021-06-25T16:16:19.606Z"
   },
   {
    "duration": 7,
    "start_time": "2021-06-25T16:16:19.628Z"
   },
   {
    "duration": 13,
    "start_time": "2021-06-25T16:16:19.638Z"
   },
   {
    "duration": 6,
    "start_time": "2021-06-25T16:16:19.653Z"
   },
   {
    "duration": 33,
    "start_time": "2021-06-25T16:16:19.661Z"
   },
   {
    "duration": 16,
    "start_time": "2021-06-25T16:16:19.696Z"
   },
   {
    "duration": 5,
    "start_time": "2021-06-25T16:16:19.714Z"
   },
   {
    "duration": 23,
    "start_time": "2021-06-25T16:16:19.721Z"
   },
   {
    "duration": 56,
    "start_time": "2021-06-25T16:16:19.745Z"
   },
   {
    "duration": 13,
    "start_time": "2021-06-25T16:16:19.803Z"
   },
   {
    "duration": 13,
    "start_time": "2021-06-25T16:16:19.818Z"
   },
   {
    "duration": 10,
    "start_time": "2021-06-25T16:16:19.833Z"
   },
   {
    "duration": 2699,
    "start_time": "2021-06-25T16:16:19.844Z"
   },
   {
    "duration": 11,
    "start_time": "2021-06-25T16:16:33.205Z"
   },
   {
    "duration": 58,
    "start_time": "2021-06-25T16:16:33.979Z"
   },
   {
    "duration": 13,
    "start_time": "2021-06-25T16:16:43.112Z"
   },
   {
    "duration": 4,
    "start_time": "2021-06-25T16:16:44.663Z"
   },
   {
    "duration": 5,
    "start_time": "2021-06-25T16:16:45.485Z"
   },
   {
    "duration": 8,
    "start_time": "2021-06-25T16:16:47.697Z"
   },
   {
    "duration": 107,
    "start_time": "2021-06-25T16:16:55.436Z"
   },
   {
    "duration": 43,
    "start_time": "2021-06-25T16:17:16.036Z"
   },
   {
    "duration": 24,
    "start_time": "2021-06-25T16:17:21.329Z"
   },
   {
    "duration": 1918,
    "start_time": "2021-06-26T08:58:59.444Z"
   },
   {
    "duration": 33,
    "start_time": "2021-06-26T08:59:01.365Z"
   },
   {
    "duration": 111,
    "start_time": "2021-06-26T08:59:01.401Z"
   },
   {
    "duration": 20,
    "start_time": "2021-06-26T08:59:01.514Z"
   },
   {
    "duration": 606,
    "start_time": "2021-06-26T08:59:01.536Z"
   },
   {
    "duration": 80,
    "start_time": "2021-06-26T08:59:02.144Z"
   },
   {
    "duration": 36,
    "start_time": "2021-06-26T08:59:02.226Z"
   },
   {
    "duration": 10,
    "start_time": "2021-06-26T08:59:02.264Z"
   },
   {
    "duration": 15,
    "start_time": "2021-06-26T08:59:02.278Z"
   },
   {
    "duration": 29,
    "start_time": "2021-06-26T08:59:02.296Z"
   },
   {
    "duration": 20,
    "start_time": "2021-06-26T08:59:02.327Z"
   },
   {
    "duration": 410,
    "start_time": "2021-06-26T08:59:02.350Z"
   },
   {
    "duration": 7,
    "start_time": "2021-06-26T08:59:02.763Z"
   },
   {
    "duration": 58,
    "start_time": "2021-06-26T08:59:02.773Z"
   },
   {
    "duration": 184,
    "start_time": "2021-06-26T08:59:02.833Z"
   },
   {
    "duration": 215,
    "start_time": "2021-06-26T08:59:03.019Z"
   },
   {
    "duration": 12,
    "start_time": "2021-06-26T08:59:03.237Z"
   },
   {
    "duration": 394,
    "start_time": "2021-06-26T08:59:03.252Z"
   },
   {
    "duration": 17,
    "start_time": "2021-06-26T08:59:03.648Z"
   },
   {
    "duration": 10,
    "start_time": "2021-06-26T08:59:03.667Z"
   },
   {
    "duration": 10,
    "start_time": "2021-06-26T08:59:03.679Z"
   },
   {
    "duration": 54,
    "start_time": "2021-06-26T08:59:03.691Z"
   },
   {
    "duration": 17,
    "start_time": "2021-06-26T08:59:03.748Z"
   },
   {
    "duration": 34,
    "start_time": "2021-06-26T08:59:03.768Z"
   },
   {
    "duration": 26,
    "start_time": "2021-06-26T08:59:03.805Z"
   },
   {
    "duration": 17,
    "start_time": "2021-06-26T08:59:03.834Z"
   },
   {
    "duration": 13,
    "start_time": "2021-06-26T08:59:03.857Z"
   },
   {
    "duration": 23,
    "start_time": "2021-06-26T08:59:03.873Z"
   },
   {
    "duration": 24,
    "start_time": "2021-06-26T08:59:03.925Z"
   },
   {
    "duration": 12,
    "start_time": "2021-06-26T08:59:03.952Z"
   },
   {
    "duration": 63,
    "start_time": "2021-06-26T08:59:03.967Z"
   },
   {
    "duration": 45,
    "start_time": "2021-06-26T08:59:04.033Z"
   },
   {
    "duration": 51,
    "start_time": "2021-06-26T08:59:04.081Z"
   },
   {
    "duration": 19,
    "start_time": "2021-06-26T08:59:04.134Z"
   },
   {
    "duration": 16,
    "start_time": "2021-06-26T08:59:04.156Z"
   },
   {
    "duration": 4607,
    "start_time": "2021-06-26T08:59:04.175Z"
   },
   {
    "duration": 40,
    "start_time": "2021-06-26T08:59:08.784Z"
   },
   {
    "duration": 138,
    "start_time": "2021-06-26T08:59:08.826Z"
   },
   {
    "duration": 69,
    "start_time": "2021-06-26T08:59:08.967Z"
   },
   {
    "duration": 5,
    "start_time": "2021-06-26T08:59:09.038Z"
   },
   {
    "duration": 9,
    "start_time": "2021-06-26T08:59:09.045Z"
   },
   {
    "duration": 78,
    "start_time": "2021-06-26T08:59:09.056Z"
   },
   {
    "duration": 206,
    "start_time": "2021-06-26T08:59:09.137Z"
   },
   {
    "duration": 15,
    "start_time": "2021-06-26T08:59:09.345Z"
   },
   {
    "duration": 617,
    "start_time": "2021-06-26T08:59:09.362Z"
   },
   {
    "duration": 77,
    "start_time": "2021-06-26T08:59:09.981Z"
   },
   {
    "duration": 18,
    "start_time": "2021-06-26T08:59:10.060Z"
   },
   {
    "duration": 393,
    "start_time": "2021-06-26T08:59:10.081Z"
   },
   {
    "duration": 16,
    "start_time": "2021-06-26T08:59:10.476Z"
   },
   {
    "duration": 178,
    "start_time": "2021-06-26T08:59:10.495Z"
   },
   {
    "duration": 34,
    "start_time": "2021-06-26T08:59:10.675Z"
   },
   {
    "duration": 19,
    "start_time": "2021-06-26T08:59:10.711Z"
   },
   {
    "duration": 9,
    "start_time": "2021-06-26T09:03:42.182Z"
   },
   {
    "duration": 11,
    "start_time": "2021-06-26T09:08:13.701Z"
   },
   {
    "duration": 16,
    "start_time": "2021-06-26T09:13:51.607Z"
   },
   {
    "duration": 553,
    "start_time": "2021-06-26T09:14:16.287Z"
   },
   {
    "duration": 17,
    "start_time": "2021-06-26T09:14:27.475Z"
   },
   {
    "duration": 15,
    "start_time": "2021-06-26T09:14:52.597Z"
   },
   {
    "duration": 319,
    "start_time": "2021-06-26T09:17:35.693Z"
   },
   {
    "duration": 420,
    "start_time": "2021-06-26T09:17:43.526Z"
   },
   {
    "duration": 292,
    "start_time": "2021-06-26T09:18:51.697Z"
   },
   {
    "duration": 17,
    "start_time": "2021-06-26T09:20:21.031Z"
   },
   {
    "duration": 14,
    "start_time": "2021-06-26T09:20:24.434Z"
   },
   {
    "duration": 288,
    "start_time": "2021-06-26T09:26:14.868Z"
   },
   {
    "duration": 411,
    "start_time": "2021-06-26T09:26:20.637Z"
   },
   {
    "duration": 289,
    "start_time": "2021-06-26T09:27:55.450Z"
   },
   {
    "duration": 1187,
    "start_time": "2021-06-26T09:28:13.988Z"
   },
   {
    "duration": 2387,
    "start_time": "2021-06-26T09:28:22.140Z"
   },
   {
    "duration": 14,
    "start_time": "2021-06-26T09:31:37.883Z"
   },
   {
    "duration": 21,
    "start_time": "2021-06-26T09:31:42.340Z"
   },
   {
    "duration": 14,
    "start_time": "2021-06-26T09:32:06.364Z"
   },
   {
    "duration": 16,
    "start_time": "2021-06-26T09:32:26.603Z"
   },
   {
    "duration": 12,
    "start_time": "2021-06-26T09:32:55.844Z"
   },
   {
    "duration": 12,
    "start_time": "2021-06-26T09:33:06.108Z"
   },
   {
    "duration": 5,
    "start_time": "2021-06-26T09:33:35.668Z"
   },
   {
    "duration": 325,
    "start_time": "2021-06-26T09:41:48.778Z"
   },
   {
    "duration": 8,
    "start_time": "2021-06-26T09:41:58.463Z"
   },
   {
    "duration": 300,
    "start_time": "2021-06-26T09:42:01.529Z"
   },
   {
    "duration": 8,
    "start_time": "2021-06-26T09:42:15.730Z"
   },
   {
    "duration": 287,
    "start_time": "2021-06-26T09:42:18.067Z"
   },
   {
    "duration": 92,
    "start_time": "2021-06-26T09:43:07.370Z"
   },
   {
    "duration": 169,
    "start_time": "2021-06-26T09:43:40.599Z"
   },
   {
    "duration": 6816,
    "start_time": "2021-06-26T09:43:42.899Z"
   },
   {
    "duration": 257,
    "start_time": "2021-06-26T09:43:49.461Z"
   },
   {
    "duration": 33,
    "start_time": "2021-06-26T09:44:14.051Z"
   },
   {
    "duration": 11,
    "start_time": "2021-06-26T09:44:22.608Z"
   },
   {
    "duration": 9,
    "start_time": "2021-06-26T09:44:26.862Z"
   },
   {
    "duration": 13,
    "start_time": "2021-06-26T09:44:29.078Z"
   },
   {
    "duration": 101,
    "start_time": "2021-06-26T09:44:31.937Z"
   },
   {
    "duration": 283,
    "start_time": "2021-06-26T09:44:39.243Z"
   },
   {
    "duration": 131,
    "start_time": "2021-06-26T09:45:59.865Z"
   },
   {
    "duration": 5,
    "start_time": "2021-06-26T10:28:51.820Z"
   },
   {
    "duration": 4,
    "start_time": "2021-06-26T10:29:01.573Z"
   },
   {
    "duration": 1874,
    "start_time": "2021-06-26T10:30:09.155Z"
   },
   {
    "duration": 33,
    "start_time": "2021-06-26T10:30:11.031Z"
   },
   {
    "duration": 118,
    "start_time": "2021-06-26T10:30:11.067Z"
   },
   {
    "duration": 19,
    "start_time": "2021-06-26T10:30:11.188Z"
   },
   {
    "duration": 603,
    "start_time": "2021-06-26T10:30:11.210Z"
   },
   {
    "duration": 72,
    "start_time": "2021-06-26T10:30:11.816Z"
   },
   {
    "duration": 49,
    "start_time": "2021-06-26T10:30:11.890Z"
   },
   {
    "duration": 9,
    "start_time": "2021-06-26T10:30:11.942Z"
   },
   {
    "duration": 14,
    "start_time": "2021-06-26T10:30:11.954Z"
   },
   {
    "duration": 6,
    "start_time": "2021-06-26T10:30:11.971Z"
   },
   {
    "duration": 47,
    "start_time": "2021-06-26T10:30:11.979Z"
   },
   {
    "duration": 429,
    "start_time": "2021-06-26T10:30:12.029Z"
   },
   {
    "duration": 8,
    "start_time": "2021-06-26T10:30:12.460Z"
   },
   {
    "duration": 57,
    "start_time": "2021-06-26T10:30:12.470Z"
   },
   {
    "duration": 199,
    "start_time": "2021-06-26T10:30:12.529Z"
   },
   {
    "duration": 218,
    "start_time": "2021-06-26T10:30:12.730Z"
   },
   {
    "duration": 14,
    "start_time": "2021-06-26T10:30:12.950Z"
   },
   {
    "duration": 8,
    "start_time": "2021-06-26T10:30:12.967Z"
   },
   {
    "duration": 6,
    "start_time": "2021-06-26T10:30:15.888Z"
   },
   {
    "duration": 6,
    "start_time": "2021-06-26T10:30:25.088Z"
   },
   {
    "duration": 382,
    "start_time": "2021-06-26T10:30:27.573Z"
   },
   {
    "duration": 675,
    "start_time": "2021-06-26T10:30:42.173Z"
   },
   {
    "duration": 18,
    "start_time": "2021-06-26T10:30:44.200Z"
   },
   {
    "duration": 7,
    "start_time": "2021-06-26T10:30:47.577Z"
   },
   {
    "duration": 6,
    "start_time": "2021-06-26T10:30:50.057Z"
   },
   {
    "duration": 113,
    "start_time": "2021-06-26T10:30:52.087Z"
   },
   {
    "duration": 39,
    "start_time": "2021-06-26T10:30:56.074Z"
   },
   {
    "duration": 415,
    "start_time": "2021-06-26T10:32:58.440Z"
   },
   {
    "duration": 347,
    "start_time": "2021-06-26T10:33:04.603Z"
   },
   {
    "duration": 5,
    "start_time": "2021-06-26T10:33:18.018Z"
   },
   {
    "duration": 1933,
    "start_time": "2021-06-26T10:33:30.418Z"
   },
   {
    "duration": 32,
    "start_time": "2021-06-26T10:33:32.354Z"
   },
   {
    "duration": 100,
    "start_time": "2021-06-26T10:33:32.388Z"
   },
   {
    "duration": 18,
    "start_time": "2021-06-26T10:33:32.491Z"
   },
   {
    "duration": 579,
    "start_time": "2021-06-26T10:33:32.512Z"
   },
   {
    "duration": 78,
    "start_time": "2021-06-26T10:33:33.094Z"
   },
   {
    "duration": 36,
    "start_time": "2021-06-26T10:33:33.174Z"
   },
   {
    "duration": 19,
    "start_time": "2021-06-26T10:33:33.213Z"
   },
   {
    "duration": 11,
    "start_time": "2021-06-26T10:33:33.236Z"
   },
   {
    "duration": 6,
    "start_time": "2021-06-26T10:33:33.250Z"
   },
   {
    "duration": 23,
    "start_time": "2021-06-26T10:33:33.259Z"
   },
   {
    "duration": 469,
    "start_time": "2021-06-26T10:33:33.285Z"
   },
   {
    "duration": 7,
    "start_time": "2021-06-26T10:33:33.756Z"
   },
   {
    "duration": 60,
    "start_time": "2021-06-26T10:33:33.766Z"
   },
   {
    "duration": 185,
    "start_time": "2021-06-26T10:33:33.829Z"
   },
   {
    "duration": 205,
    "start_time": "2021-06-26T10:33:34.024Z"
   },
   {
    "duration": 14,
    "start_time": "2021-06-26T10:33:34.231Z"
   },
   {
    "duration": 5,
    "start_time": "2021-06-26T10:33:34.248Z"
   },
   {
    "duration": 5,
    "start_time": "2021-06-26T10:33:34.255Z"
   },
   {
    "duration": 375,
    "start_time": "2021-06-26T10:33:35.963Z"
   },
   {
    "duration": 5,
    "start_time": "2021-06-26T10:33:37.553Z"
   },
   {
    "duration": 18,
    "start_time": "2021-06-26T10:33:40.874Z"
   },
   {
    "duration": 6,
    "start_time": "2021-06-26T10:33:56.713Z"
   },
   {
    "duration": 6,
    "start_time": "2021-06-26T10:33:57.967Z"
   },
   {
    "duration": 28,
    "start_time": "2021-06-26T10:33:59.477Z"
   },
   {
    "duration": 16,
    "start_time": "2021-06-26T10:34:01.231Z"
   },
   {
    "duration": 40,
    "start_time": "2021-06-26T10:34:16.901Z"
   },
   {
    "duration": 442,
    "start_time": "2021-06-26T10:42:04.022Z"
   },
   {
    "duration": 73,
    "start_time": "2021-06-26T10:42:14.924Z"
   },
   {
    "duration": 22,
    "start_time": "2021-06-26T10:42:38.348Z"
   },
   {
    "duration": 1822,
    "start_time": "2021-06-26T10:43:54.922Z"
   },
   {
    "duration": 31,
    "start_time": "2021-06-26T10:43:56.748Z"
   },
   {
    "duration": 99,
    "start_time": "2021-06-26T10:43:56.786Z"
   },
   {
    "duration": 19,
    "start_time": "2021-06-26T10:43:56.887Z"
   },
   {
    "duration": 576,
    "start_time": "2021-06-26T10:43:56.908Z"
   },
   {
    "duration": 74,
    "start_time": "2021-06-26T10:43:57.486Z"
   },
   {
    "duration": 36,
    "start_time": "2021-06-26T10:43:57.564Z"
   },
   {
    "duration": 20,
    "start_time": "2021-06-26T10:43:57.603Z"
   },
   {
    "duration": 11,
    "start_time": "2021-06-26T10:43:57.626Z"
   },
   {
    "duration": 34,
    "start_time": "2021-06-26T10:43:57.640Z"
   },
   {
    "duration": 6,
    "start_time": "2021-06-26T10:43:57.677Z"
   },
   {
    "duration": 42,
    "start_time": "2021-06-26T10:43:57.685Z"
   },
   {
    "duration": 396,
    "start_time": "2021-06-26T10:43:57.729Z"
   },
   {
    "duration": 8,
    "start_time": "2021-06-26T10:43:58.128Z"
   },
   {
    "duration": 39,
    "start_time": "2021-06-26T10:43:58.138Z"
   },
   {
    "duration": 201,
    "start_time": "2021-06-26T10:43:58.179Z"
   },
   {
    "duration": 226,
    "start_time": "2021-06-26T10:43:58.383Z"
   },
   {
    "duration": 23,
    "start_time": "2021-06-26T10:43:58.612Z"
   },
   {
    "duration": 442,
    "start_time": "2021-06-26T10:44:13.861Z"
   },
   {
    "duration": 98,
    "start_time": "2021-06-26T10:44:16.367Z"
   },
   {
    "duration": 254,
    "start_time": "2021-06-26T10:44:22.879Z"
   },
   {
    "duration": 6,
    "start_time": "2021-06-26T10:44:24.840Z"
   },
   {
    "duration": 6,
    "start_time": "2021-06-26T10:44:42.384Z"
   },
   {
    "duration": 363,
    "start_time": "2021-06-26T10:45:07.070Z"
   },
   {
    "duration": 4,
    "start_time": "2021-06-26T10:45:08.302Z"
   },
   {
    "duration": 16,
    "start_time": "2021-06-26T10:45:31.599Z"
   },
   {
    "duration": 43,
    "start_time": "2021-06-26T10:45:32.984Z"
   },
   {
    "duration": 13,
    "start_time": "2021-06-26T10:45:34.402Z"
   },
   {
    "duration": 14,
    "start_time": "2021-06-26T10:45:37.047Z"
   },
   {
    "duration": 10,
    "start_time": "2021-06-26T10:45:38.770Z"
   },
   {
    "duration": 15,
    "start_time": "2021-06-26T10:45:46.384Z"
   },
   {
    "duration": 21,
    "start_time": "2021-06-26T10:45:49.440Z"
   },
   {
    "duration": 9,
    "start_time": "2021-06-26T10:45:51.621Z"
   },
   {
    "duration": 26,
    "start_time": "2021-06-26T10:45:52.734Z"
   },
   {
    "duration": 43,
    "start_time": "2021-06-26T10:45:54.864Z"
   },
   {
    "duration": 20,
    "start_time": "2021-06-26T10:46:06.092Z"
   },
   {
    "duration": 18,
    "start_time": "2021-06-26T10:46:07.384Z"
   },
   {
    "duration": 17,
    "start_time": "2021-06-26T10:46:10.045Z"
   },
   {
    "duration": 4597,
    "start_time": "2021-06-26T10:46:11.893Z"
   },
   {
    "duration": 16,
    "start_time": "2021-06-26T10:46:34.805Z"
   },
   {
    "duration": 5,
    "start_time": "2021-06-26T10:46:48.122Z"
   },
   {
    "duration": 24,
    "start_time": "2021-06-26T10:47:17.136Z"
   },
   {
    "duration": 90,
    "start_time": "2021-06-26T10:48:22.554Z"
   },
   {
    "duration": 1866,
    "start_time": "2021-06-26T11:03:25.692Z"
   },
   {
    "duration": 32,
    "start_time": "2021-06-26T11:03:27.561Z"
   },
   {
    "duration": 103,
    "start_time": "2021-06-26T11:03:27.596Z"
   },
   {
    "duration": 23,
    "start_time": "2021-06-26T11:03:27.701Z"
   },
   {
    "duration": 606,
    "start_time": "2021-06-26T11:03:27.727Z"
   },
   {
    "duration": 68,
    "start_time": "2021-06-26T11:03:28.335Z"
   },
   {
    "duration": 52,
    "start_time": "2021-06-26T11:03:28.406Z"
   },
   {
    "duration": 10,
    "start_time": "2021-06-26T11:03:28.461Z"
   },
   {
    "duration": 16,
    "start_time": "2021-06-26T11:03:28.474Z"
   },
   {
    "duration": 48,
    "start_time": "2021-06-26T11:03:28.493Z"
   },
   {
    "duration": 6,
    "start_time": "2021-06-26T11:03:28.544Z"
   },
   {
    "duration": 27,
    "start_time": "2021-06-26T11:03:28.552Z"
   },
   {
    "duration": 410,
    "start_time": "2021-06-26T11:03:28.581Z"
   },
   {
    "duration": 9,
    "start_time": "2021-06-26T11:03:28.993Z"
   },
   {
    "duration": 55,
    "start_time": "2021-06-26T11:03:29.005Z"
   },
   {
    "duration": 206,
    "start_time": "2021-06-26T11:03:29.063Z"
   },
   {
    "duration": 240,
    "start_time": "2021-06-26T11:03:29.272Z"
   },
   {
    "duration": 17,
    "start_time": "2021-06-26T11:03:29.515Z"
   },
   {
    "duration": 179,
    "start_time": "2021-06-26T11:04:12.226Z"
   },
   {
    "duration": 5,
    "start_time": "2021-06-26T11:04:20.065Z"
   },
   {
    "duration": 268,
    "start_time": "2021-06-26T11:04:31.991Z"
   },
   {
    "duration": 5,
    "start_time": "2021-06-26T11:04:33.238Z"
   },
   {
    "duration": 17,
    "start_time": "2021-06-26T11:04:41.249Z"
   },
   {
    "duration": 1868,
    "start_time": "2021-06-26T11:06:04.435Z"
   },
   {
    "duration": 31,
    "start_time": "2021-06-26T11:06:06.306Z"
   },
   {
    "duration": 103,
    "start_time": "2021-06-26T11:06:06.343Z"
   },
   {
    "duration": 20,
    "start_time": "2021-06-26T11:06:06.449Z"
   },
   {
    "duration": 599,
    "start_time": "2021-06-26T11:06:06.473Z"
   },
   {
    "duration": 80,
    "start_time": "2021-06-26T11:06:07.075Z"
   },
   {
    "duration": 37,
    "start_time": "2021-06-26T11:06:07.159Z"
   },
   {
    "duration": 10,
    "start_time": "2021-06-26T11:06:07.199Z"
   },
   {
    "duration": 16,
    "start_time": "2021-06-26T11:06:07.212Z"
   },
   {
    "duration": 32,
    "start_time": "2021-06-26T11:06:07.231Z"
   },
   {
    "duration": 7,
    "start_time": "2021-06-26T11:06:07.265Z"
   },
   {
    "duration": 16,
    "start_time": "2021-06-26T11:06:07.275Z"
   },
   {
    "duration": 400,
    "start_time": "2021-06-26T11:06:07.325Z"
   },
   {
    "duration": 10,
    "start_time": "2021-06-26T11:06:07.728Z"
   },
   {
    "duration": 40,
    "start_time": "2021-06-26T11:06:07.740Z"
   },
   {
    "duration": 201,
    "start_time": "2021-06-26T11:06:07.783Z"
   },
   {
    "duration": 228,
    "start_time": "2021-06-26T11:06:07.986Z"
   },
   {
    "duration": 13,
    "start_time": "2021-06-26T11:06:08.216Z"
   },
   {
    "duration": 217,
    "start_time": "2021-06-26T11:06:11.811Z"
   },
   {
    "duration": 16,
    "start_time": "2021-06-26T11:06:23.692Z"
   },
   {
    "duration": 41,
    "start_time": "2021-06-26T11:06:27.024Z"
   },
   {
    "duration": 10,
    "start_time": "2021-06-26T11:06:29.060Z"
   },
   {
    "duration": 1869,
    "start_time": "2021-06-26T11:08:13.920Z"
   },
   {
    "duration": 33,
    "start_time": "2021-06-26T11:08:15.792Z"
   },
   {
    "duration": 104,
    "start_time": "2021-06-26T11:08:15.828Z"
   },
   {
    "duration": 18,
    "start_time": "2021-06-26T11:08:15.935Z"
   },
   {
    "duration": 583,
    "start_time": "2021-06-26T11:08:15.956Z"
   },
   {
    "duration": 67,
    "start_time": "2021-06-26T11:08:16.541Z"
   },
   {
    "duration": 37,
    "start_time": "2021-06-26T11:08:16.624Z"
   },
   {
    "duration": 21,
    "start_time": "2021-06-26T11:08:16.664Z"
   },
   {
    "duration": 20,
    "start_time": "2021-06-26T11:08:16.688Z"
   },
   {
    "duration": 46,
    "start_time": "2021-06-26T11:08:16.710Z"
   },
   {
    "duration": 7,
    "start_time": "2021-06-26T11:08:16.759Z"
   },
   {
    "duration": 29,
    "start_time": "2021-06-26T11:08:16.769Z"
   },
   {
    "duration": 445,
    "start_time": "2021-06-26T11:08:16.800Z"
   },
   {
    "duration": 9,
    "start_time": "2021-06-26T11:08:17.247Z"
   },
   {
    "duration": 41,
    "start_time": "2021-06-26T11:08:17.258Z"
   },
   {
    "duration": 200,
    "start_time": "2021-06-26T11:08:17.301Z"
   },
   {
    "duration": 221,
    "start_time": "2021-06-26T11:08:17.504Z"
   },
   {
    "duration": 14,
    "start_time": "2021-06-26T11:08:17.727Z"
   },
   {
    "duration": 251,
    "start_time": "2021-06-26T11:08:17.743Z"
   },
   {
    "duration": 17,
    "start_time": "2021-06-26T11:08:17.996Z"
   },
   {
    "duration": 6,
    "start_time": "2021-06-26T11:08:18.025Z"
   },
   {
    "duration": 6,
    "start_time": "2021-06-26T11:08:18.033Z"
   },
   {
    "duration": 35,
    "start_time": "2021-06-26T11:08:18.044Z"
   },
   {
    "duration": 49,
    "start_time": "2021-06-26T11:08:18.082Z"
   },
   {
    "duration": 32,
    "start_time": "2021-06-26T11:08:18.133Z"
   },
   {
    "duration": 10,
    "start_time": "2021-06-26T11:08:18.167Z"
   },
   {
    "duration": 48,
    "start_time": "2021-06-26T11:08:18.179Z"
   },
   {
    "duration": 20,
    "start_time": "2021-06-26T11:08:18.229Z"
   },
   {
    "duration": 28,
    "start_time": "2021-06-26T11:08:18.251Z"
   },
   {
    "duration": 38,
    "start_time": "2021-06-26T11:08:18.282Z"
   },
   {
    "duration": 10,
    "start_time": "2021-06-26T11:08:18.323Z"
   },
   {
    "duration": 30,
    "start_time": "2021-06-26T11:08:18.335Z"
   },
   {
    "duration": 68,
    "start_time": "2021-06-26T11:08:18.368Z"
   },
   {
    "duration": 22,
    "start_time": "2021-06-26T11:08:18.439Z"
   },
   {
    "duration": 18,
    "start_time": "2021-06-26T11:08:18.464Z"
   },
   {
    "duration": 50,
    "start_time": "2021-06-26T11:08:18.485Z"
   },
   {
    "duration": 4643,
    "start_time": "2021-06-26T11:08:18.538Z"
   },
   {
    "duration": 40,
    "start_time": "2021-06-26T11:08:23.184Z"
   },
   {
    "duration": 5,
    "start_time": "2021-06-26T11:08:23.226Z"
   },
   {
    "duration": 206,
    "start_time": "2021-06-26T11:08:23.233Z"
   },
   {
    "duration": 17,
    "start_time": "2021-06-26T11:08:23.442Z"
   },
   {
    "duration": 65,
    "start_time": "2021-06-26T11:08:23.461Z"
   },
   {
    "duration": 6,
    "start_time": "2021-06-26T11:08:23.528Z"
   },
   {
    "duration": 19,
    "start_time": "2021-06-26T11:08:23.536Z"
   },
   {
    "duration": 190,
    "start_time": "2021-06-26T11:08:23.557Z"
   },
   {
    "duration": 14,
    "start_time": "2021-06-26T11:08:23.749Z"
   },
   {
    "duration": 641,
    "start_time": "2021-06-26T11:08:23.765Z"
   },
   {
    "duration": 69,
    "start_time": "2021-06-26T11:08:24.408Z"
   },
   {
    "duration": 19,
    "start_time": "2021-06-26T11:08:24.480Z"
   },
   {
    "duration": 659,
    "start_time": "2021-06-26T11:10:28.565Z"
   },
   {
    "duration": 995,
    "start_time": "2021-06-26T11:10:36.676Z"
   },
   {
    "duration": 772,
    "start_time": "2021-06-26T11:12:27.047Z"
   },
   {
    "duration": 403,
    "start_time": "2021-06-26T11:12:40.319Z"
   },
   {
    "duration": 277,
    "start_time": "2021-06-26T11:13:25.507Z"
   },
   {
    "duration": 16,
    "start_time": "2021-06-26T11:13:39.976Z"
   },
   {
    "duration": 529,
    "start_time": "2021-06-26T11:14:18.573Z"
   },
   {
    "duration": 390,
    "start_time": "2021-06-26T11:14:46.272Z"
   },
   {
    "duration": 737,
    "start_time": "2021-06-26T11:15:00.176Z"
   },
   {
    "duration": 571,
    "start_time": "2021-06-26T11:18:30.717Z"
   },
   {
    "duration": 464,
    "start_time": "2021-06-26T11:18:35.840Z"
   },
   {
    "duration": 471,
    "start_time": "2021-06-26T11:18:53.007Z"
   },
   {
    "duration": 335,
    "start_time": "2021-06-26T11:19:11.162Z"
   },
   {
    "duration": 345,
    "start_time": "2021-06-26T11:19:17.524Z"
   },
   {
    "duration": 418,
    "start_time": "2021-06-26T11:19:34.762Z"
   },
   {
    "duration": 346,
    "start_time": "2021-06-26T11:23:45.726Z"
   },
   {
    "duration": 623,
    "start_time": "2021-06-26T11:24:24.206Z"
   },
   {
    "duration": 322,
    "start_time": "2021-06-26T11:24:40.553Z"
   },
   {
    "duration": 307,
    "start_time": "2021-06-26T11:24:57.663Z"
   },
   {
    "duration": 493,
    "start_time": "2021-06-26T11:25:04.811Z"
   },
   {
    "duration": 646,
    "start_time": "2021-06-26T11:26:06.522Z"
   },
   {
    "duration": 101,
    "start_time": "2021-06-26T11:28:34.676Z"
   },
   {
    "duration": 33,
    "start_time": "2021-06-26T11:28:37.836Z"
   },
   {
    "duration": 33,
    "start_time": "2021-06-26T11:28:46.358Z"
   },
   {
    "duration": 5,
    "start_time": "2021-06-26T11:47:05.132Z"
   },
   {
    "duration": 701,
    "start_time": "2021-06-26T11:47:21.690Z"
   },
   {
    "duration": 4,
    "start_time": "2021-06-26T11:47:57.641Z"
   },
   {
    "duration": 3,
    "start_time": "2021-06-26T11:48:19.049Z"
   },
   {
    "duration": 291,
    "start_time": "2021-06-26T11:48:52.979Z"
   },
   {
    "duration": 292,
    "start_time": "2021-06-26T11:49:17.809Z"
   },
   {
    "duration": 2043,
    "start_time": "2021-06-26T11:49:30.021Z"
   },
   {
    "duration": 33,
    "start_time": "2021-06-26T11:49:32.067Z"
   },
   {
    "duration": 105,
    "start_time": "2021-06-26T11:49:32.105Z"
   },
   {
    "duration": 19,
    "start_time": "2021-06-26T11:49:32.213Z"
   },
   {
    "duration": 645,
    "start_time": "2021-06-26T11:49:32.234Z"
   },
   {
    "duration": 122,
    "start_time": "2021-06-26T11:49:32.881Z"
   },
   {
    "duration": 48,
    "start_time": "2021-06-26T11:49:33.009Z"
   },
   {
    "duration": 15,
    "start_time": "2021-06-26T11:49:33.061Z"
   },
   {
    "duration": 18,
    "start_time": "2021-06-26T11:49:33.079Z"
   },
   {
    "duration": 59,
    "start_time": "2021-06-26T11:49:33.099Z"
   },
   {
    "duration": 8,
    "start_time": "2021-06-26T11:49:33.161Z"
   },
   {
    "duration": 20,
    "start_time": "2021-06-26T11:49:33.172Z"
   },
   {
    "duration": 502,
    "start_time": "2021-06-26T11:49:33.194Z"
   },
   {
    "duration": 8,
    "start_time": "2021-06-26T11:49:33.698Z"
   },
   {
    "duration": 46,
    "start_time": "2021-06-26T11:49:33.708Z"
   },
   {
    "duration": 196,
    "start_time": "2021-06-26T11:49:33.757Z"
   },
   {
    "duration": 222,
    "start_time": "2021-06-26T11:49:33.956Z"
   },
   {
    "duration": 14,
    "start_time": "2021-06-26T11:49:34.180Z"
   },
   {
    "duration": 295,
    "start_time": "2021-06-26T11:49:34.197Z"
   },
   {
    "duration": 17,
    "start_time": "2021-06-26T11:49:34.494Z"
   },
   {
    "duration": 9,
    "start_time": "2021-06-26T11:49:34.524Z"
   },
   {
    "duration": 7,
    "start_time": "2021-06-26T11:49:34.535Z"
   },
   {
    "duration": 38,
    "start_time": "2021-06-26T11:49:34.543Z"
   },
   {
    "duration": 44,
    "start_time": "2021-06-26T11:49:34.584Z"
   },
   {
    "duration": 36,
    "start_time": "2021-06-26T11:49:34.633Z"
   },
   {
    "duration": 10,
    "start_time": "2021-06-26T11:49:34.672Z"
   },
   {
    "duration": 48,
    "start_time": "2021-06-26T11:49:34.684Z"
   },
   {
    "duration": 27,
    "start_time": "2021-06-26T11:49:34.734Z"
   },
   {
    "duration": 31,
    "start_time": "2021-06-26T11:49:34.764Z"
   },
   {
    "duration": 27,
    "start_time": "2021-06-26T11:49:34.797Z"
   },
   {
    "duration": 9,
    "start_time": "2021-06-26T11:49:34.827Z"
   },
   {
    "duration": 24,
    "start_time": "2021-06-26T11:49:34.839Z"
   },
   {
    "duration": 73,
    "start_time": "2021-06-26T11:49:34.865Z"
   },
   {
    "duration": 22,
    "start_time": "2021-06-26T11:49:34.940Z"
   },
   {
    "duration": 17,
    "start_time": "2021-06-26T11:49:34.964Z"
   },
   {
    "duration": 46,
    "start_time": "2021-06-26T11:49:34.983Z"
   },
   {
    "duration": 4596,
    "start_time": "2021-06-26T11:49:35.031Z"
   },
   {
    "duration": 15,
    "start_time": "2021-06-26T11:49:39.630Z"
   },
   {
    "duration": 5,
    "start_time": "2021-06-26T11:49:39.647Z"
   },
   {
    "duration": 192,
    "start_time": "2021-06-26T11:49:39.654Z"
   },
   {
    "duration": 17,
    "start_time": "2021-06-26T11:49:39.848Z"
   },
   {
    "duration": 60,
    "start_time": "2021-06-26T11:49:39.868Z"
   },
   {
    "duration": 10,
    "start_time": "2021-06-26T11:49:39.931Z"
   },
   {
    "duration": 18,
    "start_time": "2021-06-26T11:49:39.944Z"
   },
   {
    "duration": 263,
    "start_time": "2021-06-26T11:49:39.965Z"
   },
   {
    "duration": 16,
    "start_time": "2021-06-26T11:49:40.231Z"
   },
   {
    "duration": 628,
    "start_time": "2021-06-26T11:49:40.250Z"
   },
   {
    "duration": 76,
    "start_time": "2021-06-26T11:49:40.880Z"
   },
   {
    "duration": 19,
    "start_time": "2021-06-26T11:49:40.958Z"
   },
   {
    "duration": 390,
    "start_time": "2021-06-26T11:49:40.979Z"
   },
   {
    "duration": 16,
    "start_time": "2021-06-26T11:49:41.372Z"
   },
   {
    "duration": 173,
    "start_time": "2021-06-26T11:49:41.390Z"
   },
   {
    "duration": 34,
    "start_time": "2021-06-26T11:49:41.565Z"
   },
   {
    "duration": 25,
    "start_time": "2021-06-26T11:49:41.601Z"
   },
   {
    "duration": 8,
    "start_time": "2021-06-26T11:49:41.628Z"
   },
   {
    "duration": 24,
    "start_time": "2021-06-26T11:49:41.639Z"
   },
   {
    "duration": 160,
    "start_time": "2021-06-26T11:49:41.665Z"
   },
   {
    "duration": 3,
    "start_time": "2021-06-26T11:49:41.828Z"
   },
   {
    "duration": 158,
    "start_time": "2021-06-26T11:49:41.833Z"
   },
   {
    "duration": 3702,
    "start_time": "2021-06-26T11:57:56.186Z"
   },
   {
    "duration": 2349,
    "start_time": "2021-06-26T11:58:13.431Z"
   },
   {
    "duration": 1069,
    "start_time": "2021-06-26T12:02:35.312Z"
   },
   {
    "duration": 1630,
    "start_time": "2021-06-26T12:02:47.630Z"
   },
   {
    "duration": 406,
    "start_time": "2021-06-26T12:08:06.914Z"
   },
   {
    "duration": 175,
    "start_time": "2021-06-26T12:09:26.997Z"
   },
   {
    "duration": 1873,
    "start_time": "2021-06-26T12:10:26.679Z"
   },
   {
    "duration": 31,
    "start_time": "2021-06-26T12:10:28.555Z"
   },
   {
    "duration": 96,
    "start_time": "2021-06-26T12:10:28.589Z"
   },
   {
    "duration": 17,
    "start_time": "2021-06-26T12:10:28.688Z"
   },
   {
    "duration": 658,
    "start_time": "2021-06-26T12:10:28.707Z"
   },
   {
    "duration": 73,
    "start_time": "2021-06-26T12:10:29.368Z"
   },
   {
    "duration": 35,
    "start_time": "2021-06-26T12:10:29.444Z"
   },
   {
    "duration": 9,
    "start_time": "2021-06-26T12:10:29.483Z"
   },
   {
    "duration": 35,
    "start_time": "2021-06-26T12:10:29.495Z"
   },
   {
    "duration": 32,
    "start_time": "2021-06-26T12:10:29.532Z"
   },
   {
    "duration": 6,
    "start_time": "2021-06-26T12:10:29.566Z"
   },
   {
    "duration": 18,
    "start_time": "2021-06-26T12:10:29.575Z"
   },
   {
    "duration": 417,
    "start_time": "2021-06-26T12:10:29.595Z"
   },
   {
    "duration": 16,
    "start_time": "2021-06-26T12:10:30.014Z"
   },
   {
    "duration": 48,
    "start_time": "2021-06-26T12:10:30.033Z"
   },
   {
    "duration": 201,
    "start_time": "2021-06-26T12:10:30.083Z"
   },
   {
    "duration": 238,
    "start_time": "2021-06-26T12:10:30.286Z"
   },
   {
    "duration": 14,
    "start_time": "2021-06-26T12:10:30.526Z"
   },
   {
    "duration": 258,
    "start_time": "2021-06-26T12:10:30.542Z"
   },
   {
    "duration": 23,
    "start_time": "2021-06-26T12:10:30.802Z"
   },
   {
    "duration": 17,
    "start_time": "2021-06-26T12:10:30.828Z"
   },
   {
    "duration": 14,
    "start_time": "2021-06-26T12:10:30.848Z"
   },
   {
    "duration": 43,
    "start_time": "2021-06-26T12:10:30.865Z"
   },
   {
    "duration": 26,
    "start_time": "2021-06-26T12:10:30.910Z"
   },
   {
    "duration": 42,
    "start_time": "2021-06-26T12:10:30.938Z"
   },
   {
    "duration": 11,
    "start_time": "2021-06-26T12:10:30.985Z"
   },
   {
    "duration": 45,
    "start_time": "2021-06-26T12:10:30.999Z"
   },
   {
    "duration": 19,
    "start_time": "2021-06-26T12:10:31.046Z"
   },
   {
    "duration": 39,
    "start_time": "2021-06-26T12:10:31.067Z"
   },
   {
    "duration": 25,
    "start_time": "2021-06-26T12:10:31.109Z"
   },
   {
    "duration": 9,
    "start_time": "2021-06-26T12:10:31.137Z"
   },
   {
    "duration": 32,
    "start_time": "2021-06-26T12:10:31.148Z"
   },
   {
    "duration": 68,
    "start_time": "2021-06-26T12:10:31.182Z"
   },
   {
    "duration": 22,
    "start_time": "2021-06-26T12:10:31.252Z"
   },
   {
    "duration": 18,
    "start_time": "2021-06-26T12:10:31.277Z"
   },
   {
    "duration": 17,
    "start_time": "2021-06-26T12:10:31.324Z"
   },
   {
    "duration": 20,
    "start_time": "2021-06-26T12:10:31.343Z"
   },
   {
    "duration": 5,
    "start_time": "2021-06-26T12:10:31.366Z"
   },
   {
    "duration": 115,
    "start_time": "2021-06-26T12:10:31.373Z"
   },
   {
    "duration": 17,
    "start_time": "2021-06-26T12:10:31.490Z"
   },
   {
    "duration": 15,
    "start_time": "2021-06-26T12:10:31.509Z"
   },
   {
    "duration": 11,
    "start_time": "2021-06-26T12:10:31.526Z"
   },
   {
    "duration": 20,
    "start_time": "2021-06-26T12:10:31.540Z"
   },
   {
    "duration": 715,
    "start_time": "2021-06-26T12:10:31.562Z"
   },
   {
    "duration": 49,
    "start_time": "2021-06-26T12:10:32.280Z"
   },
   {
    "duration": 823,
    "start_time": "2021-06-26T12:10:32.332Z"
   },
   {
    "duration": 77,
    "start_time": "2021-06-26T12:10:33.157Z"
   },
   {
    "duration": 20,
    "start_time": "2021-06-26T12:10:33.236Z"
   },
   {
    "duration": 399,
    "start_time": "2021-06-26T12:10:33.259Z"
   },
   {
    "duration": 16,
    "start_time": "2021-06-26T12:10:33.660Z"
   },
   {
    "duration": 180,
    "start_time": "2021-06-26T12:10:33.678Z"
   },
   {
    "duration": 33,
    "start_time": "2021-06-26T12:10:33.860Z"
   },
   {
    "duration": 11,
    "start_time": "2021-06-26T12:10:33.895Z"
   },
   {
    "duration": 340,
    "start_time": "2021-06-26T12:10:33.924Z"
   },
   {
    "duration": 8,
    "start_time": "2021-06-26T12:10:34.266Z"
   },
   {
    "duration": 18,
    "start_time": "2021-06-26T12:10:34.276Z"
   },
   {
    "duration": 159,
    "start_time": "2021-06-26T12:10:34.297Z"
   },
   {
    "duration": 3,
    "start_time": "2021-06-26T12:10:34.458Z"
   },
   {
    "duration": 158,
    "start_time": "2021-06-26T12:10:34.463Z"
   },
   {
    "duration": 662,
    "start_time": "2021-06-26T12:14:03.941Z"
   },
   {
    "duration": 160,
    "start_time": "2021-06-26T12:14:22.874Z"
   },
   {
    "duration": 159,
    "start_time": "2021-06-26T12:14:44.882Z"
   },
   {
    "duration": 34,
    "start_time": "2021-06-26T12:14:55.766Z"
   },
   {
    "duration": 13,
    "start_time": "2021-06-26T12:14:56.919Z"
   },
   {
    "duration": 179,
    "start_time": "2021-06-26T12:15:01.069Z"
   },
   {
    "duration": 338,
    "start_time": "2021-06-26T12:16:31.007Z"
   },
   {
    "duration": 476,
    "start_time": "2021-06-26T12:20:22.190Z"
   },
   {
    "duration": 98,
    "start_time": "2021-06-26T12:20:44.301Z"
   },
   {
    "duration": 746,
    "start_time": "2021-06-26T12:20:49.990Z"
   },
   {
    "duration": 916,
    "start_time": "2021-06-26T12:20:57.213Z"
   },
   {
    "duration": 116,
    "start_time": "2021-06-26T12:21:50.877Z"
   },
   {
    "duration": 289,
    "start_time": "2021-06-26T12:22:07.895Z"
   },
   {
    "duration": 316,
    "start_time": "2021-06-26T12:26:30.565Z"
   },
   {
    "duration": 751,
    "start_time": "2021-06-26T12:27:03.970Z"
   },
   {
    "duration": 98,
    "start_time": "2021-06-26T12:27:38.721Z"
   },
   {
    "duration": 168,
    "start_time": "2021-06-26T12:27:42.339Z"
   },
   {
    "duration": 179,
    "start_time": "2021-06-26T12:28:29.637Z"
   },
   {
    "duration": 586,
    "start_time": "2021-06-26T12:29:09.948Z"
   },
   {
    "duration": 191,
    "start_time": "2021-06-26T12:29:27.299Z"
   },
   {
    "duration": 189,
    "start_time": "2021-06-26T12:29:48.025Z"
   },
   {
    "duration": 205,
    "start_time": "2021-06-26T12:30:23.266Z"
   },
   {
    "duration": 457,
    "start_time": "2021-06-26T12:30:52.026Z"
   },
   {
    "duration": 636,
    "start_time": "2021-06-26T12:31:05.448Z"
   },
   {
    "duration": 186,
    "start_time": "2021-06-26T12:32:55.890Z"
   },
   {
    "duration": 455,
    "start_time": "2021-06-26T12:33:12.847Z"
   },
   {
    "duration": 450,
    "start_time": "2021-06-26T12:33:18.658Z"
   },
   {
    "duration": 270,
    "start_time": "2021-06-26T12:33:39.340Z"
   },
   {
    "duration": 5,
    "start_time": "2021-06-26T12:35:00.935Z"
   },
   {
    "duration": 1122,
    "start_time": "2021-06-27T07:59:35.435Z"
   },
   {
    "duration": 29,
    "start_time": "2021-06-27T07:59:36.558Z"
   },
   {
    "duration": 72,
    "start_time": "2021-06-27T07:59:36.588Z"
   },
   {
    "duration": 12,
    "start_time": "2021-06-27T07:59:36.662Z"
   },
   {
    "duration": 405,
    "start_time": "2021-06-27T07:59:36.676Z"
   },
   {
    "duration": 48,
    "start_time": "2021-06-27T07:59:37.085Z"
   },
   {
    "duration": 28,
    "start_time": "2021-06-27T07:59:37.135Z"
   },
   {
    "duration": 7,
    "start_time": "2021-06-27T07:59:37.165Z"
   },
   {
    "duration": 7,
    "start_time": "2021-06-27T07:59:37.185Z"
   },
   {
    "duration": 19,
    "start_time": "2021-06-27T07:59:37.193Z"
   },
   {
    "duration": 3,
    "start_time": "2021-06-27T07:59:37.214Z"
   },
   {
    "duration": 12,
    "start_time": "2021-06-27T07:59:37.219Z"
   },
   {
    "duration": 280,
    "start_time": "2021-06-27T07:59:37.232Z"
   },
   {
    "duration": 5,
    "start_time": "2021-06-27T07:59:37.514Z"
   },
   {
    "duration": 25,
    "start_time": "2021-06-27T07:59:37.521Z"
   },
   {
    "duration": 141,
    "start_time": "2021-06-27T07:59:37.547Z"
   },
   {
    "duration": 143,
    "start_time": "2021-06-27T07:59:37.690Z"
   },
   {
    "duration": 8,
    "start_time": "2021-06-27T07:59:37.835Z"
   },
   {
    "duration": 142,
    "start_time": "2021-06-27T07:59:37.845Z"
   },
   {
    "duration": 11,
    "start_time": "2021-06-27T07:59:37.989Z"
   },
   {
    "duration": 6,
    "start_time": "2021-06-27T07:59:38.001Z"
   },
   {
    "duration": 5,
    "start_time": "2021-06-27T07:59:38.008Z"
   },
   {
    "duration": 26,
    "start_time": "2021-06-27T07:59:38.016Z"
   },
   {
    "duration": 293,
    "start_time": "2021-06-27T08:03:13.520Z"
   },
   {
    "duration": 62,
    "start_time": "2021-06-27T08:03:28.825Z"
   },
   {
    "duration": 42,
    "start_time": "2021-06-27T08:05:51.544Z"
   },
   {
    "duration": 9,
    "start_time": "2021-06-27T08:06:08.441Z"
   },
   {
    "duration": 1161,
    "start_time": "2021-06-27T08:15:55.741Z"
   },
   {
    "duration": 29,
    "start_time": "2021-06-27T08:15:56.903Z"
   },
   {
    "duration": 70,
    "start_time": "2021-06-27T08:15:56.934Z"
   },
   {
    "duration": 13,
    "start_time": "2021-06-27T08:15:57.006Z"
   },
   {
    "duration": 406,
    "start_time": "2021-06-27T08:15:57.020Z"
   },
   {
    "duration": 58,
    "start_time": "2021-06-27T08:15:57.427Z"
   },
   {
    "duration": 29,
    "start_time": "2021-06-27T08:15:57.486Z"
   },
   {
    "duration": 6,
    "start_time": "2021-06-27T08:15:57.517Z"
   },
   {
    "duration": 9,
    "start_time": "2021-06-27T08:15:57.525Z"
   },
   {
    "duration": 21,
    "start_time": "2021-06-27T08:15:57.535Z"
   },
   {
    "duration": 4,
    "start_time": "2021-06-27T08:15:57.557Z"
   },
   {
    "duration": 27,
    "start_time": "2021-06-27T08:15:57.563Z"
   },
   {
    "duration": 272,
    "start_time": "2021-06-27T08:15:57.592Z"
   },
   {
    "duration": 5,
    "start_time": "2021-06-27T08:15:57.866Z"
   },
   {
    "duration": 34,
    "start_time": "2021-06-27T08:15:57.872Z"
   },
   {
    "duration": 130,
    "start_time": "2021-06-27T08:15:57.908Z"
   },
   {
    "duration": 157,
    "start_time": "2021-06-27T08:15:58.039Z"
   },
   {
    "duration": 8,
    "start_time": "2021-06-27T08:15:58.198Z"
   },
   {
    "duration": 144,
    "start_time": "2021-06-27T08:15:58.207Z"
   },
   {
    "duration": 10,
    "start_time": "2021-06-27T08:15:58.353Z"
   },
   {
    "duration": 5,
    "start_time": "2021-06-27T08:15:58.365Z"
   },
   {
    "duration": 16,
    "start_time": "2021-06-27T08:15:58.371Z"
   },
   {
    "duration": 27,
    "start_time": "2021-06-27T08:15:58.390Z"
   },
   {
    "duration": 8,
    "start_time": "2021-06-27T08:15:58.419Z"
   },
   {
    "duration": 11,
    "start_time": "2021-06-27T08:15:58.428Z"
   },
   {
    "duration": 48,
    "start_time": "2021-06-27T08:15:58.441Z"
   },
   {
    "duration": 6,
    "start_time": "2021-06-27T08:15:58.491Z"
   },
   {
    "duration": 12,
    "start_time": "2021-06-27T08:15:58.498Z"
   },
   {
    "duration": 6,
    "start_time": "2021-06-27T08:15:58.511Z"
   },
   {
    "duration": 10,
    "start_time": "2021-06-27T08:15:58.519Z"
   },
   {
    "duration": 16,
    "start_time": "2021-06-27T08:15:58.531Z"
   },
   {
    "duration": 6,
    "start_time": "2021-06-27T08:15:58.549Z"
   },
   {
    "duration": 16,
    "start_time": "2021-06-27T08:15:58.585Z"
   },
   {
    "duration": 27,
    "start_time": "2021-06-27T08:15:58.603Z"
   },
   {
    "duration": 13,
    "start_time": "2021-06-27T08:15:58.631Z"
   },
   {
    "duration": 40,
    "start_time": "2021-06-27T08:15:58.645Z"
   },
   {
    "duration": 62,
    "start_time": "2021-06-27T08:15:58.687Z"
   },
   {
    "duration": 10,
    "start_time": "2021-06-27T08:15:58.750Z"
   },
   {
    "duration": 3,
    "start_time": "2021-06-27T08:15:58.762Z"
   },
   {
    "duration": 4,
    "start_time": "2021-06-27T08:15:58.784Z"
   },
   {
    "duration": 9,
    "start_time": "2021-06-27T08:15:58.789Z"
   },
   {
    "duration": 560,
    "start_time": "2021-06-27T08:15:58.799Z"
   },
   {
    "duration": 27,
    "start_time": "2021-06-27T08:15:59.361Z"
   },
   {
    "duration": 486,
    "start_time": "2021-06-27T08:15:59.390Z"
   },
   {
    "duration": 46,
    "start_time": "2021-06-27T08:15:59.878Z"
   },
   {
    "duration": 14,
    "start_time": "2021-06-27T08:15:59.926Z"
   },
   {
    "duration": 259,
    "start_time": "2021-06-27T08:15:59.943Z"
   },
   {
    "duration": 5,
    "start_time": "2021-06-27T08:17:36.353Z"
   },
   {
    "duration": 9,
    "start_time": "2021-06-27T08:18:32.778Z"
   },
   {
    "duration": 8,
    "start_time": "2021-06-27T08:18:45.490Z"
   },
   {
    "duration": 9,
    "start_time": "2021-06-27T08:18:54.971Z"
   },
   {
    "duration": 7,
    "start_time": "2021-06-27T08:19:01.742Z"
   },
   {
    "duration": 9,
    "start_time": "2021-06-27T08:19:05.946Z"
   },
   {
    "duration": 10,
    "start_time": "2021-06-27T08:19:10.067Z"
   },
   {
    "duration": 10,
    "start_time": "2021-06-27T08:19:26.745Z"
   },
   {
    "duration": 8,
    "start_time": "2021-06-27T08:19:46.715Z"
   },
   {
    "duration": 8,
    "start_time": "2021-06-27T08:22:57.376Z"
   },
   {
    "duration": 12,
    "start_time": "2021-06-27T08:22:58.770Z"
   },
   {
    "duration": 10,
    "start_time": "2021-06-27T08:23:07.796Z"
   },
   {
    "duration": 114,
    "start_time": "2021-06-27T08:23:09.760Z"
   },
   {
    "duration": 26,
    "start_time": "2021-06-27T08:23:11.567Z"
   },
   {
    "duration": 8,
    "start_time": "2021-06-27T08:23:14.243Z"
   },
   {
    "duration": 3,
    "start_time": "2021-06-27T08:23:17.395Z"
   },
   {
    "duration": 117,
    "start_time": "2021-06-27T08:23:22.234Z"
   },
   {
    "duration": 6,
    "start_time": "2021-06-27T08:24:00.345Z"
   },
   {
    "duration": 8,
    "start_time": "2021-06-27T08:24:08.839Z"
   },
   {
    "duration": 518,
    "start_time": "2021-06-27T08:24:16.356Z"
   },
   {
    "duration": 395,
    "start_time": "2021-06-27T08:24:38.811Z"
   },
   {
    "duration": 6,
    "start_time": "2021-06-27T08:24:49.471Z"
   },
   {
    "duration": 410,
    "start_time": "2021-06-27T08:24:52.853Z"
   },
   {
    "duration": 3,
    "start_time": "2021-06-27T08:25:44.964Z"
   },
   {
    "duration": 86,
    "start_time": "2021-06-27T08:25:48.839Z"
   },
   {
    "duration": 2,
    "start_time": "2021-06-27T08:26:05.324Z"
   },
   {
    "duration": 95,
    "start_time": "2021-06-27T08:26:09.777Z"
   },
   {
    "duration": 6,
    "start_time": "2021-06-27T09:22:01.327Z"
   },
   {
    "duration": 4,
    "start_time": "2021-06-27T09:22:07.200Z"
   },
   {
    "duration": 5,
    "start_time": "2021-06-27T09:22:13.791Z"
   },
   {
    "duration": 5,
    "start_time": "2021-06-27T09:22:17.770Z"
   },
   {
    "duration": 12,
    "start_time": "2021-06-27T09:31:47.084Z"
   },
   {
    "duration": 7,
    "start_time": "2021-06-27T09:31:52.050Z"
   },
   {
    "duration": 15,
    "start_time": "2021-06-27T09:31:59.801Z"
   },
   {
    "duration": 12,
    "start_time": "2021-06-27T09:32:11.747Z"
   },
   {
    "duration": 10,
    "start_time": "2021-06-27T09:53:51.510Z"
   },
   {
    "duration": 33,
    "start_time": "2021-06-27T09:54:58.813Z"
   },
   {
    "duration": 1688,
    "start_time": "2021-06-27T09:55:28.558Z"
   },
   {
    "duration": 1674,
    "start_time": "2021-06-27T09:57:04.469Z"
   },
   {
    "duration": 30,
    "start_time": "2021-06-27T09:57:29.241Z"
   },
   {
    "duration": 41,
    "start_time": "2021-06-27T09:57:47.072Z"
   },
   {
    "duration": 42,
    "start_time": "2021-06-27T09:58:42.305Z"
   },
   {
    "duration": 41,
    "start_time": "2021-06-27T09:59:03.894Z"
   },
   {
    "duration": 385,
    "start_time": "2021-06-27T10:00:31.229Z"
   },
   {
    "duration": 240,
    "start_time": "2021-06-27T10:00:36.985Z"
   },
   {
    "duration": 1244,
    "start_time": "2021-06-27T10:02:02.576Z"
   },
   {
    "duration": 30,
    "start_time": "2021-06-27T10:02:03.822Z"
   },
   {
    "duration": 72,
    "start_time": "2021-06-27T10:02:03.855Z"
   },
   {
    "duration": 13,
    "start_time": "2021-06-27T10:02:03.929Z"
   },
   {
    "duration": 436,
    "start_time": "2021-06-27T10:02:03.944Z"
   },
   {
    "duration": 52,
    "start_time": "2021-06-27T10:02:04.385Z"
   },
   {
    "duration": 30,
    "start_time": "2021-06-27T10:02:04.439Z"
   },
   {
    "duration": 15,
    "start_time": "2021-06-27T10:02:04.471Z"
   },
   {
    "duration": 9,
    "start_time": "2021-06-27T10:02:04.488Z"
   },
   {
    "duration": 22,
    "start_time": "2021-06-27T10:02:04.499Z"
   },
   {
    "duration": 5,
    "start_time": "2021-06-27T10:02:04.522Z"
   },
   {
    "duration": 13,
    "start_time": "2021-06-27T10:02:04.528Z"
   },
   {
    "duration": 297,
    "start_time": "2021-06-27T10:02:04.543Z"
   },
   {
    "duration": 6,
    "start_time": "2021-06-27T10:02:04.842Z"
   },
   {
    "duration": 43,
    "start_time": "2021-06-27T10:02:04.850Z"
   },
   {
    "duration": 150,
    "start_time": "2021-06-27T10:02:04.895Z"
   },
   {
    "duration": 161,
    "start_time": "2021-06-27T10:02:05.047Z"
   },
   {
    "duration": 9,
    "start_time": "2021-06-27T10:02:05.209Z"
   },
   {
    "duration": 167,
    "start_time": "2021-06-27T10:02:05.220Z"
   },
   {
    "duration": 11,
    "start_time": "2021-06-27T10:02:05.388Z"
   },
   {
    "duration": 11,
    "start_time": "2021-06-27T10:02:05.400Z"
   },
   {
    "duration": 11,
    "start_time": "2021-06-27T10:02:05.412Z"
   },
   {
    "duration": 25,
    "start_time": "2021-06-27T10:02:05.426Z"
   },
   {
    "duration": 35,
    "start_time": "2021-06-27T10:02:05.453Z"
   },
   {
    "duration": 18,
    "start_time": "2021-06-27T10:02:05.490Z"
   },
   {
    "duration": 7,
    "start_time": "2021-06-27T10:02:05.509Z"
   },
   {
    "duration": 21,
    "start_time": "2021-06-27T10:02:05.517Z"
   },
   {
    "duration": 10,
    "start_time": "2021-06-27T10:02:05.540Z"
   },
   {
    "duration": 38,
    "start_time": "2021-06-27T10:02:05.552Z"
   },
   {
    "duration": 16,
    "start_time": "2021-06-27T10:02:05.592Z"
   },
   {
    "duration": 8,
    "start_time": "2021-06-27T10:02:05.610Z"
   },
   {
    "duration": 17,
    "start_time": "2021-06-27T10:02:05.619Z"
   },
   {
    "duration": 57,
    "start_time": "2021-06-27T10:02:05.637Z"
   },
   {
    "duration": 13,
    "start_time": "2021-06-27T10:02:05.696Z"
   },
   {
    "duration": 12,
    "start_time": "2021-06-27T10:02:05.711Z"
   },
   {
    "duration": 94,
    "start_time": "2021-06-27T10:02:05.725Z"
   },
   {
    "duration": 14,
    "start_time": "2021-06-27T10:02:05.821Z"
   },
   {
    "duration": 4,
    "start_time": "2021-06-27T10:02:05.837Z"
   },
   {
    "duration": 12,
    "start_time": "2021-06-27T10:02:05.843Z"
   },
   {
    "duration": 33,
    "start_time": "2021-06-27T10:02:05.857Z"
   },
   {
    "duration": 567,
    "start_time": "2021-06-27T10:02:05.891Z"
   },
   {
    "duration": 28,
    "start_time": "2021-06-27T10:02:06.460Z"
   },
   {
    "duration": 509,
    "start_time": "2021-06-27T10:02:06.490Z"
   },
   {
    "duration": 50,
    "start_time": "2021-06-27T10:02:07.001Z"
   },
   {
    "duration": 43,
    "start_time": "2021-06-27T10:02:07.053Z"
   },
   {
    "duration": 249,
    "start_time": "2021-06-27T10:02:11.491Z"
   },
   {
    "duration": 431,
    "start_time": "2021-06-27T10:15:00.446Z"
   },
   {
    "duration": 1200,
    "start_time": "2021-06-27T10:15:12.617Z"
   },
   {
    "duration": 29,
    "start_time": "2021-06-27T10:15:13.819Z"
   },
   {
    "duration": 72,
    "start_time": "2021-06-27T10:15:13.850Z"
   },
   {
    "duration": 13,
    "start_time": "2021-06-27T10:15:13.924Z"
   },
   {
    "duration": 426,
    "start_time": "2021-06-27T10:15:13.939Z"
   },
   {
    "duration": 53,
    "start_time": "2021-06-27T10:15:14.367Z"
   },
   {
    "duration": 29,
    "start_time": "2021-06-27T10:15:14.421Z"
   },
   {
    "duration": 7,
    "start_time": "2021-06-27T10:15:14.452Z"
   },
   {
    "duration": 9,
    "start_time": "2021-06-27T10:15:14.461Z"
   },
   {
    "duration": 35,
    "start_time": "2021-06-27T10:15:14.472Z"
   },
   {
    "duration": 4,
    "start_time": "2021-06-27T10:15:14.508Z"
   },
   {
    "duration": 12,
    "start_time": "2021-06-27T10:15:14.514Z"
   },
   {
    "duration": 289,
    "start_time": "2021-06-27T10:15:14.528Z"
   },
   {
    "duration": 5,
    "start_time": "2021-06-27T10:15:14.818Z"
   },
   {
    "duration": 26,
    "start_time": "2021-06-27T10:15:14.825Z"
   },
   {
    "duration": 146,
    "start_time": "2021-06-27T10:15:14.853Z"
   },
   {
    "duration": 172,
    "start_time": "2021-06-27T10:15:15.000Z"
   },
   {
    "duration": 17,
    "start_time": "2021-06-27T10:15:15.174Z"
   },
   {
    "duration": 152,
    "start_time": "2021-06-27T10:15:15.192Z"
   },
   {
    "duration": 12,
    "start_time": "2021-06-27T10:15:15.346Z"
   },
   {
    "duration": 6,
    "start_time": "2021-06-27T10:15:15.359Z"
   },
   {
    "duration": 18,
    "start_time": "2021-06-27T10:15:15.366Z"
   },
   {
    "duration": 28,
    "start_time": "2021-06-27T10:15:15.387Z"
   },
   {
    "duration": 12,
    "start_time": "2021-06-27T10:15:15.417Z"
   },
   {
    "duration": 22,
    "start_time": "2021-06-27T10:15:15.431Z"
   },
   {
    "duration": 7,
    "start_time": "2021-06-27T10:15:15.455Z"
   },
   {
    "duration": 10,
    "start_time": "2021-06-27T10:15:15.485Z"
   },
   {
    "duration": 7,
    "start_time": "2021-06-27T10:15:15.497Z"
   },
   {
    "duration": 11,
    "start_time": "2021-06-27T10:15:15.506Z"
   },
   {
    "duration": 17,
    "start_time": "2021-06-27T10:15:15.518Z"
   },
   {
    "duration": 7,
    "start_time": "2021-06-27T10:15:15.536Z"
   },
   {
    "duration": 50,
    "start_time": "2021-06-27T10:15:15.544Z"
   },
   {
    "duration": 29,
    "start_time": "2021-06-27T10:15:15.595Z"
   },
   {
    "duration": 12,
    "start_time": "2021-06-27T10:15:15.626Z"
   },
   {
    "duration": 11,
    "start_time": "2021-06-27T10:15:15.640Z"
   },
   {
    "duration": 93,
    "start_time": "2021-06-27T10:15:15.653Z"
   },
   {
    "duration": 12,
    "start_time": "2021-06-27T10:15:15.747Z"
   },
   {
    "duration": 4,
    "start_time": "2021-06-27T10:15:15.760Z"
   },
   {
    "duration": 3,
    "start_time": "2021-06-27T10:15:15.785Z"
   },
   {
    "duration": 9,
    "start_time": "2021-06-27T10:15:15.790Z"
   },
   {
    "duration": 602,
    "start_time": "2021-06-27T10:15:15.801Z"
   },
   {
    "duration": 10,
    "start_time": "2021-06-27T10:15:16.405Z"
   },
   {
    "duration": 495,
    "start_time": "2021-06-27T10:15:16.417Z"
   },
   {
    "duration": 47,
    "start_time": "2021-06-27T10:15:16.913Z"
   },
   {
    "duration": 33,
    "start_time": "2021-06-27T10:15:16.962Z"
   },
   {
    "duration": 240,
    "start_time": "2021-06-27T10:15:16.996Z"
   },
   {
    "duration": 8,
    "start_time": "2021-06-27T10:15:17.238Z"
   },
   {
    "duration": 15,
    "start_time": "2021-06-27T10:15:17.248Z"
   },
   {
    "duration": 22,
    "start_time": "2021-06-27T10:15:17.265Z"
   },
   {
    "duration": 123,
    "start_time": "2021-06-27T10:15:17.289Z"
   },
   {
    "duration": 27,
    "start_time": "2021-06-27T10:15:17.414Z"
   },
   {
    "duration": 7,
    "start_time": "2021-06-27T10:15:17.443Z"
   },
   {
    "duration": 116,
    "start_time": "2021-06-27T10:15:23.894Z"
   },
   {
    "duration": 1205,
    "start_time": "2021-06-27T10:24:38.710Z"
   },
   {
    "duration": 29,
    "start_time": "2021-06-27T10:24:39.917Z"
   },
   {
    "duration": 77,
    "start_time": "2021-06-27T10:24:39.948Z"
   },
   {
    "duration": 13,
    "start_time": "2021-06-27T10:24:40.027Z"
   },
   {
    "duration": 426,
    "start_time": "2021-06-27T10:24:40.042Z"
   },
   {
    "duration": 58,
    "start_time": "2021-06-27T10:24:40.470Z"
   },
   {
    "duration": 30,
    "start_time": "2021-06-27T10:24:40.529Z"
   },
   {
    "duration": 7,
    "start_time": "2021-06-27T10:24:40.561Z"
   },
   {
    "duration": 17,
    "start_time": "2021-06-27T10:24:40.570Z"
   },
   {
    "duration": 20,
    "start_time": "2021-06-27T10:24:40.588Z"
   },
   {
    "duration": 4,
    "start_time": "2021-06-27T10:24:40.610Z"
   },
   {
    "duration": 12,
    "start_time": "2021-06-27T10:24:40.615Z"
   },
   {
    "duration": 281,
    "start_time": "2021-06-27T10:24:40.629Z"
   },
   {
    "duration": 5,
    "start_time": "2021-06-27T10:24:40.911Z"
   },
   {
    "duration": 24,
    "start_time": "2021-06-27T10:24:40.918Z"
   },
   {
    "duration": 151,
    "start_time": "2021-06-27T10:24:40.944Z"
   },
   {
    "duration": 162,
    "start_time": "2021-06-27T10:24:41.097Z"
   },
   {
    "duration": 10,
    "start_time": "2021-06-27T10:24:41.260Z"
   },
   {
    "duration": 156,
    "start_time": "2021-06-27T10:24:41.271Z"
   },
   {
    "duration": 12,
    "start_time": "2021-06-27T10:24:41.429Z"
   },
   {
    "duration": 5,
    "start_time": "2021-06-27T10:24:41.443Z"
   },
   {
    "duration": 5,
    "start_time": "2021-06-27T10:24:41.450Z"
   },
   {
    "duration": 48,
    "start_time": "2021-06-27T10:24:41.458Z"
   },
   {
    "duration": 12,
    "start_time": "2021-06-27T10:24:41.508Z"
   },
   {
    "duration": 21,
    "start_time": "2021-06-27T10:24:41.522Z"
   },
   {
    "duration": 6,
    "start_time": "2021-06-27T10:24:41.545Z"
   },
   {
    "duration": 34,
    "start_time": "2021-06-27T10:24:41.553Z"
   },
   {
    "duration": 6,
    "start_time": "2021-06-27T10:24:41.588Z"
   },
   {
    "duration": 12,
    "start_time": "2021-06-27T10:24:41.596Z"
   },
   {
    "duration": 17,
    "start_time": "2021-06-27T10:24:41.609Z"
   },
   {
    "duration": 5,
    "start_time": "2021-06-27T10:24:41.628Z"
   },
   {
    "duration": 16,
    "start_time": "2021-06-27T10:24:41.635Z"
   },
   {
    "duration": 57,
    "start_time": "2021-06-27T10:24:41.653Z"
   },
   {
    "duration": 13,
    "start_time": "2021-06-27T10:24:41.712Z"
   },
   {
    "duration": 12,
    "start_time": "2021-06-27T10:24:41.727Z"
   },
   {
    "duration": 93,
    "start_time": "2021-06-27T10:24:41.741Z"
   },
   {
    "duration": 11,
    "start_time": "2021-06-27T10:24:41.835Z"
   },
   {
    "duration": 4,
    "start_time": "2021-06-27T10:24:41.847Z"
   },
   {
    "duration": 5,
    "start_time": "2021-06-27T10:24:41.853Z"
   },
   {
    "duration": 25,
    "start_time": "2021-06-27T10:24:41.860Z"
   },
   {
    "duration": 551,
    "start_time": "2021-06-27T10:24:41.887Z"
   },
   {
    "duration": 12,
    "start_time": "2021-06-27T10:24:42.440Z"
   },
   {
    "duration": 495,
    "start_time": "2021-06-27T10:24:42.454Z"
   },
   {
    "duration": 59,
    "start_time": "2021-06-27T10:24:42.951Z"
   },
   {
    "duration": 13,
    "start_time": "2021-06-27T10:24:43.012Z"
   },
   {
    "duration": 241,
    "start_time": "2021-06-27T10:24:43.027Z"
   },
   {
    "duration": 8,
    "start_time": "2021-06-27T10:24:43.270Z"
   },
   {
    "duration": 12,
    "start_time": "2021-06-27T10:24:43.285Z"
   },
   {
    "duration": 10,
    "start_time": "2021-06-27T10:24:43.299Z"
   },
   {
    "duration": 128,
    "start_time": "2021-06-27T10:24:43.311Z"
   },
   {
    "duration": 24,
    "start_time": "2021-06-27T10:24:43.441Z"
   },
   {
    "duration": 19,
    "start_time": "2021-06-27T10:24:43.467Z"
   },
   {
    "duration": 116,
    "start_time": "2021-06-27T10:24:43.488Z"
   },
   {
    "duration": 5,
    "start_time": "2021-06-27T10:24:43.606Z"
   },
   {
    "duration": 10,
    "start_time": "2021-06-27T10:24:43.612Z"
   },
   {
    "duration": 108,
    "start_time": "2021-06-27T10:24:43.624Z"
   },
   {
    "duration": 2,
    "start_time": "2021-06-27T10:24:43.734Z"
   },
   {
    "duration": 106,
    "start_time": "2021-06-27T10:24:43.738Z"
   },
   {
    "duration": 6,
    "start_time": "2021-06-27T10:29:41.375Z"
   },
   {
    "duration": 9,
    "start_time": "2021-06-27T10:29:43.428Z"
   },
   {
    "duration": 98,
    "start_time": "2021-06-27T10:29:45.220Z"
   },
   {
    "duration": 1096,
    "start_time": "2021-06-27T12:10:33.326Z"
   },
   {
    "duration": 29,
    "start_time": "2021-06-27T12:10:34.423Z"
   },
   {
    "duration": 74,
    "start_time": "2021-06-27T12:10:34.454Z"
   },
   {
    "duration": 14,
    "start_time": "2021-06-27T12:10:34.530Z"
   },
   {
    "duration": 441,
    "start_time": "2021-06-27T12:10:34.545Z"
   },
   {
    "duration": 51,
    "start_time": "2021-06-27T12:10:34.988Z"
   },
   {
    "duration": 30,
    "start_time": "2021-06-27T12:10:35.041Z"
   },
   {
    "duration": 15,
    "start_time": "2021-06-27T12:10:35.073Z"
   },
   {
    "duration": 6,
    "start_time": "2021-06-27T12:10:35.091Z"
   },
   {
    "duration": 20,
    "start_time": "2021-06-27T12:10:35.099Z"
   },
   {
    "duration": 4,
    "start_time": "2021-06-27T12:10:35.121Z"
   },
   {
    "duration": 12,
    "start_time": "2021-06-27T12:10:35.126Z"
   },
   {
    "duration": 294,
    "start_time": "2021-06-27T12:10:35.139Z"
   },
   {
    "duration": 5,
    "start_time": "2021-06-27T12:10:35.435Z"
   },
   {
    "duration": 26,
    "start_time": "2021-06-27T12:10:35.442Z"
   },
   {
    "duration": 157,
    "start_time": "2021-06-27T12:10:35.470Z"
   },
   {
    "duration": 159,
    "start_time": "2021-06-27T12:10:35.629Z"
   },
   {
    "duration": 9,
    "start_time": "2021-06-27T12:10:35.790Z"
   },
   {
    "duration": 175,
    "start_time": "2021-06-27T12:10:35.800Z"
   },
   {
    "duration": 12,
    "start_time": "2021-06-27T12:10:35.977Z"
   },
   {
    "duration": 7,
    "start_time": "2021-06-27T12:10:35.991Z"
   },
   {
    "duration": 6,
    "start_time": "2021-06-27T12:10:35.999Z"
   },
   {
    "duration": 27,
    "start_time": "2021-06-27T12:10:36.006Z"
   },
   {
    "duration": 11,
    "start_time": "2021-06-27T12:10:36.035Z"
   },
   {
    "duration": 50,
    "start_time": "2021-06-27T12:10:36.048Z"
   },
   {
    "duration": 8,
    "start_time": "2021-06-27T12:10:36.099Z"
   },
   {
    "duration": 10,
    "start_time": "2021-06-27T12:10:36.110Z"
   },
   {
    "duration": 8,
    "start_time": "2021-06-27T12:10:36.122Z"
   },
   {
    "duration": 19,
    "start_time": "2021-06-27T12:10:36.131Z"
   },
   {
    "duration": 40,
    "start_time": "2021-06-27T12:10:36.151Z"
   },
   {
    "duration": 6,
    "start_time": "2021-06-27T12:10:36.193Z"
   },
   {
    "duration": 20,
    "start_time": "2021-06-27T12:10:36.200Z"
   },
   {
    "duration": 31,
    "start_time": "2021-06-27T12:10:36.221Z"
   },
   {
    "duration": 43,
    "start_time": "2021-06-27T12:10:36.253Z"
   },
   {
    "duration": 15,
    "start_time": "2021-06-27T12:10:36.298Z"
   },
   {
    "duration": 82,
    "start_time": "2021-06-27T12:10:36.315Z"
   },
   {
    "duration": 12,
    "start_time": "2021-06-27T12:10:36.399Z"
   },
   {
    "duration": 3,
    "start_time": "2021-06-27T12:10:36.413Z"
   },
   {
    "duration": 6,
    "start_time": "2021-06-27T12:10:36.418Z"
   },
   {
    "duration": 10,
    "start_time": "2021-06-27T12:10:36.425Z"
   },
   {
    "duration": 563,
    "start_time": "2021-06-27T12:10:36.436Z"
   },
   {
    "duration": 10,
    "start_time": "2021-06-27T12:10:37.001Z"
   },
   {
    "duration": 514,
    "start_time": "2021-06-27T12:10:37.013Z"
   },
   {
    "duration": 57,
    "start_time": "2021-06-27T12:10:37.529Z"
   },
   {
    "duration": 14,
    "start_time": "2021-06-27T12:10:37.587Z"
   },
   {
    "duration": 244,
    "start_time": "2021-06-27T12:10:37.603Z"
   },
   {
    "duration": 8,
    "start_time": "2021-06-27T12:10:37.849Z"
   },
   {
    "duration": 26,
    "start_time": "2021-06-27T12:10:37.859Z"
   },
   {
    "duration": 9,
    "start_time": "2021-06-27T12:10:37.887Z"
   },
   {
    "duration": 116,
    "start_time": "2021-06-27T12:10:37.898Z"
   },
   {
    "duration": 25,
    "start_time": "2021-06-27T12:10:38.016Z"
   },
   {
    "duration": 7,
    "start_time": "2021-06-27T12:10:38.043Z"
   },
   {
    "duration": 129,
    "start_time": "2021-06-27T12:10:38.052Z"
   },
   {
    "duration": 5,
    "start_time": "2021-06-27T12:10:38.184Z"
   },
   {
    "duration": 10,
    "start_time": "2021-06-27T12:10:38.191Z"
   },
   {
    "duration": 121,
    "start_time": "2021-06-27T12:10:38.202Z"
   },
   {
    "duration": 2,
    "start_time": "2021-06-27T12:10:38.324Z"
   },
   {
    "duration": 112,
    "start_time": "2021-06-27T12:10:38.328Z"
   },
   {
    "duration": 1161,
    "start_time": "2021-06-27T12:25:48.260Z"
   },
   {
    "duration": 29,
    "start_time": "2021-06-27T12:25:49.422Z"
   },
   {
    "duration": 74,
    "start_time": "2021-06-27T12:25:49.455Z"
   },
   {
    "duration": 12,
    "start_time": "2021-06-27T12:25:49.531Z"
   },
   {
    "duration": 489,
    "start_time": "2021-06-27T12:25:49.545Z"
   },
   {
    "duration": 53,
    "start_time": "2021-06-27T12:25:50.036Z"
   },
   {
    "duration": 30,
    "start_time": "2021-06-27T12:25:50.092Z"
   },
   {
    "duration": 6,
    "start_time": "2021-06-27T12:25:50.124Z"
   },
   {
    "duration": 9,
    "start_time": "2021-06-27T12:25:50.131Z"
   },
   {
    "duration": 20,
    "start_time": "2021-06-27T12:25:50.142Z"
   },
   {
    "duration": 5,
    "start_time": "2021-06-27T12:25:50.164Z"
   },
   {
    "duration": 14,
    "start_time": "2021-06-27T12:25:50.171Z"
   },
   {
    "duration": 293,
    "start_time": "2021-06-27T12:25:50.188Z"
   },
   {
    "duration": 6,
    "start_time": "2021-06-27T12:25:50.483Z"
   },
   {
    "duration": 31,
    "start_time": "2021-06-27T12:25:50.490Z"
   },
   {
    "duration": 142,
    "start_time": "2021-06-27T12:25:50.523Z"
   },
   {
    "duration": 174,
    "start_time": "2021-06-27T12:25:50.667Z"
   },
   {
    "duration": 10,
    "start_time": "2021-06-27T12:25:50.843Z"
   },
   {
    "duration": 218,
    "start_time": "2021-06-27T12:25:50.893Z"
   },
   {
    "duration": 11,
    "start_time": "2021-06-27T12:25:51.113Z"
   },
   {
    "duration": 64,
    "start_time": "2021-06-27T12:25:51.126Z"
   },
   {
    "duration": 7,
    "start_time": "2021-06-27T12:25:51.193Z"
   },
   {
    "duration": 27,
    "start_time": "2021-06-27T12:25:51.201Z"
   },
   {
    "duration": 11,
    "start_time": "2021-06-27T12:25:51.230Z"
   },
   {
    "duration": 19,
    "start_time": "2021-06-27T12:25:51.244Z"
   },
   {
    "duration": 7,
    "start_time": "2021-06-27T12:25:51.265Z"
   },
   {
    "duration": 21,
    "start_time": "2021-06-27T12:25:51.273Z"
   },
   {
    "duration": 7,
    "start_time": "2021-06-27T12:25:51.296Z"
   },
   {
    "duration": 14,
    "start_time": "2021-06-27T12:25:51.304Z"
   },
   {
    "duration": 19,
    "start_time": "2021-06-27T12:25:51.319Z"
   },
   {
    "duration": 6,
    "start_time": "2021-06-27T12:25:51.340Z"
   },
   {
    "duration": 18,
    "start_time": "2021-06-27T12:25:51.348Z"
   },
   {
    "duration": 34,
    "start_time": "2021-06-27T12:25:51.368Z"
   },
   {
    "duration": 14,
    "start_time": "2021-06-27T12:25:51.404Z"
   },
   {
    "duration": 14,
    "start_time": "2021-06-27T12:25:51.420Z"
   },
   {
    "duration": 79,
    "start_time": "2021-06-27T12:25:51.436Z"
   },
   {
    "duration": 13,
    "start_time": "2021-06-27T12:25:51.516Z"
   },
   {
    "duration": 4,
    "start_time": "2021-06-27T12:25:51.530Z"
   },
   {
    "duration": 6,
    "start_time": "2021-06-27T12:25:51.535Z"
   },
   {
    "duration": 10,
    "start_time": "2021-06-27T12:25:51.543Z"
   },
   {
    "duration": 578,
    "start_time": "2021-06-27T12:25:51.554Z"
   },
   {
    "duration": 11,
    "start_time": "2021-06-27T12:25:52.133Z"
   },
   {
    "duration": 481,
    "start_time": "2021-06-27T12:25:52.146Z"
   },
   {
    "duration": 165,
    "start_time": "2021-06-27T12:25:52.629Z"
   },
   {
    "duration": 16,
    "start_time": "2021-06-27T12:25:52.795Z"
   },
   {
    "duration": 296,
    "start_time": "2021-06-27T12:25:52.812Z"
   },
   {
    "duration": 8,
    "start_time": "2021-06-27T12:25:53.110Z"
   },
   {
    "duration": 16,
    "start_time": "2021-06-27T12:25:53.120Z"
   },
   {
    "duration": 11,
    "start_time": "2021-06-27T12:25:53.138Z"
   },
   {
    "duration": 165,
    "start_time": "2021-06-27T12:25:53.151Z"
   },
   {
    "duration": 33,
    "start_time": "2021-06-27T12:25:53.318Z"
   },
   {
    "duration": 8,
    "start_time": "2021-06-27T12:25:53.352Z"
   },
   {
    "duration": 146,
    "start_time": "2021-06-27T12:25:53.362Z"
   },
   {
    "duration": 5,
    "start_time": "2021-06-27T12:25:53.510Z"
   },
   {
    "duration": 12,
    "start_time": "2021-06-27T12:25:53.517Z"
   },
   {
    "duration": 115,
    "start_time": "2021-06-27T12:25:53.531Z"
   },
   {
    "duration": 2,
    "start_time": "2021-06-27T12:25:53.648Z"
   },
   {
    "duration": 116,
    "start_time": "2021-06-27T12:25:53.652Z"
   },
   {
    "duration": 23290,
    "start_time": "2021-06-27T18:19:18.339Z"
   },
   {
    "duration": 41,
    "start_time": "2021-06-27T18:19:41.632Z"
   },
   {
    "duration": 104,
    "start_time": "2021-06-27T18:19:41.677Z"
   },
   {
    "duration": 24,
    "start_time": "2021-06-27T18:19:41.783Z"
   },
   {
    "duration": 632,
    "start_time": "2021-06-27T18:19:41.809Z"
   },
   {
    "duration": 81,
    "start_time": "2021-06-27T18:19:42.443Z"
   },
   {
    "duration": 38,
    "start_time": "2021-06-27T18:19:42.527Z"
   },
   {
    "duration": 10,
    "start_time": "2021-06-27T18:19:42.569Z"
   },
   {
    "duration": 19,
    "start_time": "2021-06-27T18:19:42.582Z"
   },
   {
    "duration": 37,
    "start_time": "2021-06-27T18:19:42.603Z"
   },
   {
    "duration": 6,
    "start_time": "2021-06-27T18:19:42.642Z"
   },
   {
    "duration": 34,
    "start_time": "2021-06-27T18:19:42.650Z"
   },
   {
    "duration": 437,
    "start_time": "2021-06-27T18:19:42.686Z"
   },
   {
    "duration": 8,
    "start_time": "2021-06-27T18:19:43.125Z"
   },
   {
    "duration": 40,
    "start_time": "2021-06-27T18:19:43.135Z"
   },
   {
    "duration": 232,
    "start_time": "2021-06-27T18:19:43.178Z"
   },
   {
    "duration": 232,
    "start_time": "2021-06-27T18:19:43.412Z"
   },
   {
    "duration": 14,
    "start_time": "2021-06-27T18:19:43.646Z"
   },
   {
    "duration": 269,
    "start_time": "2021-06-27T18:19:43.662Z"
   },
   {
    "duration": 16,
    "start_time": "2021-06-27T18:19:43.934Z"
   },
   {
    "duration": 8,
    "start_time": "2021-06-27T18:19:43.952Z"
   },
   {
    "duration": 5,
    "start_time": "2021-06-27T18:19:43.962Z"
   },
   {
    "duration": 58,
    "start_time": "2021-06-27T18:19:43.973Z"
   },
   {
    "duration": 19,
    "start_time": "2021-06-27T18:19:44.034Z"
   },
   {
    "duration": 28,
    "start_time": "2021-06-27T18:19:44.056Z"
   },
   {
    "duration": 40,
    "start_time": "2021-06-27T18:19:44.087Z"
   },
   {
    "duration": 15,
    "start_time": "2021-06-27T18:19:44.130Z"
   },
   {
    "duration": 10,
    "start_time": "2021-06-27T18:19:44.147Z"
   },
   {
    "duration": 17,
    "start_time": "2021-06-27T18:19:44.159Z"
   },
   {
    "duration": 55,
    "start_time": "2021-06-27T18:19:44.178Z"
   },
   {
    "duration": 10,
    "start_time": "2021-06-27T18:19:44.235Z"
   },
   {
    "duration": 27,
    "start_time": "2021-06-27T18:19:44.248Z"
   },
   {
    "duration": 84,
    "start_time": "2021-06-27T18:19:44.279Z"
   },
   {
    "duration": 21,
    "start_time": "2021-06-27T18:19:44.365Z"
   },
   {
    "duration": 43,
    "start_time": "2021-06-27T18:19:44.388Z"
   },
   {
    "duration": 110,
    "start_time": "2021-06-27T18:19:44.433Z"
   },
   {
    "duration": 19,
    "start_time": "2021-06-27T18:19:44.545Z"
   },
   {
    "duration": 6,
    "start_time": "2021-06-27T18:19:44.566Z"
   },
   {
    "duration": 7,
    "start_time": "2021-06-27T18:19:44.575Z"
   },
   {
    "duration": 47,
    "start_time": "2021-06-27T18:19:44.585Z"
   },
   {
    "duration": 853,
    "start_time": "2021-06-27T18:19:44.634Z"
   },
   {
    "duration": 43,
    "start_time": "2021-06-27T18:19:45.489Z"
   },
   {
    "duration": 727,
    "start_time": "2021-06-27T18:19:45.534Z"
   },
   {
    "duration": 84,
    "start_time": "2021-06-27T18:19:46.264Z"
   },
   {
    "duration": 23,
    "start_time": "2021-06-27T18:19:46.351Z"
   },
   {
    "duration": 416,
    "start_time": "2021-06-27T18:19:46.378Z"
   },
   {
    "duration": 28,
    "start_time": "2021-06-27T18:19:46.796Z"
   },
   {
    "duration": 18,
    "start_time": "2021-06-27T18:19:46.827Z"
   },
   {
    "duration": 17,
    "start_time": "2021-06-27T18:19:46.848Z"
   },
   {
    "duration": 194,
    "start_time": "2021-06-27T18:19:46.867Z"
   },
   {
    "duration": 40,
    "start_time": "2021-06-27T18:19:47.064Z"
   },
   {
    "duration": 25,
    "start_time": "2021-06-27T18:19:47.106Z"
   },
   {
    "duration": 211,
    "start_time": "2021-06-27T18:19:47.134Z"
   },
   {
    "duration": 8,
    "start_time": "2021-06-27T18:19:47.347Z"
   },
   {
    "duration": 27,
    "start_time": "2021-06-27T18:19:47.358Z"
   },
   {
    "duration": 165,
    "start_time": "2021-06-27T18:19:47.388Z"
   },
   {
    "duration": 3,
    "start_time": "2021-06-27T18:19:47.555Z"
   },
   {
    "duration": 163,
    "start_time": "2021-06-27T18:19:47.560Z"
   },
   {
    "duration": 1749,
    "start_time": "2021-06-28T05:36:16.537Z"
   },
   {
    "duration": 40,
    "start_time": "2021-06-28T05:36:18.289Z"
   },
   {
    "duration": 110,
    "start_time": "2021-06-28T05:36:18.332Z"
   },
   {
    "duration": 21,
    "start_time": "2021-06-28T05:36:18.445Z"
   },
   {
    "duration": 649,
    "start_time": "2021-06-28T05:36:18.468Z"
   },
   {
    "duration": 79,
    "start_time": "2021-06-28T05:36:19.119Z"
   },
   {
    "duration": 40,
    "start_time": "2021-06-28T05:36:19.201Z"
   },
   {
    "duration": 11,
    "start_time": "2021-06-28T05:36:19.246Z"
   },
   {
    "duration": 29,
    "start_time": "2021-06-28T05:36:19.262Z"
   },
   {
    "duration": 40,
    "start_time": "2021-06-28T05:36:19.293Z"
   },
   {
    "duration": 7,
    "start_time": "2021-06-28T05:36:19.336Z"
   },
   {
    "duration": 42,
    "start_time": "2021-06-28T05:36:19.346Z"
   },
   {
    "duration": 424,
    "start_time": "2021-06-28T05:36:19.391Z"
   },
   {
    "duration": 7,
    "start_time": "2021-06-28T05:36:19.817Z"
   },
   {
    "duration": 38,
    "start_time": "2021-06-28T05:36:19.826Z"
   },
   {
    "duration": 220,
    "start_time": "2021-06-28T05:36:19.866Z"
   },
   {
    "duration": 227,
    "start_time": "2021-06-28T05:36:20.089Z"
   },
   {
    "duration": 14,
    "start_time": "2021-06-28T05:36:20.318Z"
   },
   {
    "duration": 268,
    "start_time": "2021-06-28T05:36:20.334Z"
   },
   {
    "duration": 16,
    "start_time": "2021-06-28T05:36:20.605Z"
   },
   {
    "duration": 12,
    "start_time": "2021-06-28T05:36:20.624Z"
   },
   {
    "duration": 13,
    "start_time": "2021-06-28T05:36:20.639Z"
   },
   {
    "duration": 38,
    "start_time": "2021-06-28T05:36:20.688Z"
   },
   {
    "duration": 17,
    "start_time": "2021-06-28T05:36:20.730Z"
   },
   {
    "duration": 53,
    "start_time": "2021-06-28T05:36:20.750Z"
   },
   {
    "duration": 11,
    "start_time": "2021-06-28T05:36:20.806Z"
   },
   {
    "duration": 20,
    "start_time": "2021-06-28T05:36:20.820Z"
   },
   {
    "duration": 17,
    "start_time": "2021-06-28T05:36:20.842Z"
   },
   {
    "duration": 38,
    "start_time": "2021-06-28T05:36:20.862Z"
   },
   {
    "duration": 28,
    "start_time": "2021-06-28T05:36:20.903Z"
   },
   {
    "duration": 12,
    "start_time": "2021-06-28T05:36:20.933Z"
   },
   {
    "duration": 61,
    "start_time": "2021-06-28T05:36:20.947Z"
   },
   {
    "duration": 45,
    "start_time": "2021-06-28T05:36:21.011Z"
   },
   {
    "duration": 49,
    "start_time": "2021-06-28T05:36:21.059Z"
   },
   {
    "duration": 20,
    "start_time": "2021-06-28T05:36:21.111Z"
   },
   {
    "duration": 138,
    "start_time": "2021-06-28T05:36:21.134Z"
   },
   {
    "duration": 25,
    "start_time": "2021-06-28T05:36:21.275Z"
   },
   {
    "duration": 6,
    "start_time": "2021-06-28T05:36:21.303Z"
   },
   {
    "duration": 9,
    "start_time": "2021-06-28T05:36:21.312Z"
   },
   {
    "duration": 17,
    "start_time": "2021-06-28T05:36:21.323Z"
   },
   {
    "duration": 862,
    "start_time": "2021-06-28T05:36:21.343Z"
   },
   {
    "duration": 22,
    "start_time": "2021-06-28T05:36:22.207Z"
   },
   {
    "duration": 853,
    "start_time": "2021-06-28T05:36:22.232Z"
   },
   {
    "duration": 66,
    "start_time": "2021-06-28T05:36:23.087Z"
   },
   {
    "duration": 40,
    "start_time": "2021-06-28T05:36:23.155Z"
   },
   {
    "duration": 393,
    "start_time": "2021-06-28T05:36:23.197Z"
   },
   {
    "duration": 11,
    "start_time": "2021-06-28T05:36:23.592Z"
   },
   {
    "duration": 19,
    "start_time": "2021-06-28T05:36:23.606Z"
   },
   {
    "duration": 16,
    "start_time": "2021-06-28T05:36:23.627Z"
   },
   {
    "duration": 203,
    "start_time": "2021-06-28T05:36:23.645Z"
   },
   {
    "duration": 55,
    "start_time": "2021-06-28T05:36:23.850Z"
   },
   {
    "duration": 15,
    "start_time": "2021-06-28T05:36:23.908Z"
   },
   {
    "duration": 243,
    "start_time": "2021-06-28T05:36:23.926Z"
   },
   {
    "duration": 15,
    "start_time": "2021-06-28T05:36:24.171Z"
   },
   {
    "duration": 19,
    "start_time": "2021-06-28T05:36:24.188Z"
   },
   {
    "duration": 162,
    "start_time": "2021-06-28T05:36:24.209Z"
   },
   {
    "duration": 3,
    "start_time": "2021-06-28T05:36:24.373Z"
   },
   {
    "duration": 167,
    "start_time": "2021-06-28T05:36:24.386Z"
   },
   {
    "duration": 91,
    "start_time": "2021-06-28T05:37:34.181Z"
   },
   {
    "duration": 83,
    "start_time": "2021-06-28T05:38:04.105Z"
   },
   {
    "duration": 580,
    "start_time": "2021-06-28T05:45:02.993Z"
   },
   {
    "duration": 103,
    "start_time": "2021-06-28T05:45:12.123Z"
   },
   {
    "duration": 111,
    "start_time": "2021-06-28T05:45:17.378Z"
   },
   {
    "duration": 302,
    "start_time": "2021-06-28T05:45:26.082Z"
   },
   {
    "duration": 74,
    "start_time": "2021-06-28T05:45:44.644Z"
   },
   {
    "duration": 407,
    "start_time": "2021-06-28T05:46:30.811Z"
   },
   {
    "duration": 429,
    "start_time": "2021-06-28T05:46:46.916Z"
   },
   {
    "duration": 79,
    "start_time": "2021-06-28T05:47:07.761Z"
   },
   {
    "duration": 385,
    "start_time": "2021-06-28T05:47:32.561Z"
   },
   {
    "duration": 16,
    "start_time": "2021-06-28T05:48:55.474Z"
   },
   {
    "duration": 48,
    "start_time": "2021-06-28T05:52:45.647Z"
   },
   {
    "duration": 365,
    "start_time": "2021-06-28T06:12:39.761Z"
   },
   {
    "duration": 370,
    "start_time": "2021-06-28T06:12:49.288Z"
   },
   {
    "duration": 370,
    "start_time": "2021-06-28T06:12:55.783Z"
   },
   {
    "duration": 85,
    "start_time": "2021-06-28T06:14:26.927Z"
   },
   {
    "duration": 109,
    "start_time": "2021-06-28T06:18:37.624Z"
   },
   {
    "duration": 7416,
    "start_time": "2021-06-28T06:18:52.641Z"
   },
   {
    "duration": 1741,
    "start_time": "2021-06-28T06:19:19.262Z"
   },
   {
    "duration": 39,
    "start_time": "2021-06-28T06:19:21.006Z"
   },
   {
    "duration": 96,
    "start_time": "2021-06-28T06:19:21.052Z"
   },
   {
    "duration": 18,
    "start_time": "2021-06-28T06:19:21.151Z"
   },
   {
    "duration": 609,
    "start_time": "2021-06-28T06:19:21.171Z"
   },
   {
    "duration": 66,
    "start_time": "2021-06-28T06:19:21.782Z"
   },
   {
    "duration": 46,
    "start_time": "2021-06-28T06:19:21.851Z"
   },
   {
    "duration": 9,
    "start_time": "2021-06-28T06:19:21.901Z"
   },
   {
    "duration": 12,
    "start_time": "2021-06-28T06:19:21.913Z"
   },
   {
    "duration": 33,
    "start_time": "2021-06-28T06:19:21.927Z"
   },
   {
    "duration": 26,
    "start_time": "2021-06-28T06:19:21.962Z"
   },
   {
    "duration": 24,
    "start_time": "2021-06-28T06:19:21.991Z"
   },
   {
    "duration": 416,
    "start_time": "2021-06-28T06:19:22.018Z"
   },
   {
    "duration": 8,
    "start_time": "2021-06-28T06:19:22.436Z"
   },
   {
    "duration": 58,
    "start_time": "2021-06-28T06:19:22.446Z"
   },
   {
    "duration": 189,
    "start_time": "2021-06-28T06:19:22.506Z"
   },
   {
    "duration": 231,
    "start_time": "2021-06-28T06:19:22.697Z"
   },
   {
    "duration": 13,
    "start_time": "2021-06-28T06:19:22.930Z"
   },
   {
    "duration": 265,
    "start_time": "2021-06-28T06:19:22.946Z"
   },
   {
    "duration": 17,
    "start_time": "2021-06-28T06:19:23.213Z"
   },
   {
    "duration": 6,
    "start_time": "2021-06-28T06:19:23.233Z"
   },
   {
    "duration": 7,
    "start_time": "2021-06-28T06:19:23.241Z"
   },
   {
    "duration": 64,
    "start_time": "2021-06-28T06:19:23.250Z"
   },
   {
    "duration": 19,
    "start_time": "2021-06-28T06:19:23.317Z"
   },
   {
    "duration": 60,
    "start_time": "2021-06-28T06:19:23.338Z"
   },
   {
    "duration": 10,
    "start_time": "2021-06-28T06:19:23.403Z"
   },
   {
    "duration": 23,
    "start_time": "2021-06-28T06:19:23.416Z"
   },
   {
    "duration": 25,
    "start_time": "2021-06-28T06:19:23.441Z"
   },
   {
    "duration": 31,
    "start_time": "2021-06-28T06:19:23.470Z"
   },
   {
    "duration": 34,
    "start_time": "2021-06-28T06:19:23.505Z"
   },
   {
    "duration": 9,
    "start_time": "2021-06-28T06:19:23.542Z"
   },
   {
    "duration": 50,
    "start_time": "2021-06-28T06:19:23.553Z"
   },
   {
    "duration": 44,
    "start_time": "2021-06-28T06:19:23.605Z"
   },
   {
    "duration": 45,
    "start_time": "2021-06-28T06:19:23.651Z"
   },
   {
    "duration": 17,
    "start_time": "2021-06-28T06:19:23.699Z"
   },
   {
    "duration": 112,
    "start_time": "2021-06-28T06:19:23.719Z"
   },
   {
    "duration": 15,
    "start_time": "2021-06-28T06:19:23.834Z"
   },
   {
    "duration": 13,
    "start_time": "2021-06-28T06:19:23.851Z"
   },
   {
    "duration": 21,
    "start_time": "2021-06-28T06:19:23.866Z"
   },
   {
    "duration": 25,
    "start_time": "2021-06-28T06:19:23.890Z"
   },
   {
    "duration": 799,
    "start_time": "2021-06-28T06:19:27.119Z"
   },
   {
    "duration": 187,
    "start_time": "2021-06-28T06:20:07.173Z"
   },
   {
    "duration": 180,
    "start_time": "2021-06-28T06:21:28.229Z"
   },
   {
    "duration": 855,
    "start_time": "2021-06-28T06:21:56.786Z"
   },
   {
    "duration": 328,
    "start_time": "2021-06-28T06:24:20.018Z"
   },
   {
    "duration": 462,
    "start_time": "2021-06-28T06:25:40.946Z"
   },
   {
    "duration": 597,
    "start_time": "2021-06-28T06:25:51.045Z"
   },
   {
    "duration": 652,
    "start_time": "2021-06-28T06:27:10.670Z"
   },
   {
    "duration": 676,
    "start_time": "2021-06-28T06:28:01.864Z"
   },
   {
    "duration": 734,
    "start_time": "2021-06-28T06:28:24.219Z"
   },
   {
    "duration": 486,
    "start_time": "2021-06-28T06:28:54.492Z"
   },
   {
    "duration": 749,
    "start_time": "2021-06-28T06:29:10.837Z"
   },
   {
    "duration": 721,
    "start_time": "2021-06-28T06:30:31.855Z"
   },
   {
    "duration": 833,
    "start_time": "2021-06-28T06:34:22.756Z"
   },
   {
    "duration": 587,
    "start_time": "2021-06-28T06:34:29.135Z"
   },
   {
    "duration": 595,
    "start_time": "2021-06-28T06:34:36.865Z"
   },
   {
    "duration": 2652,
    "start_time": "2021-06-28T06:35:02.989Z"
   },
   {
    "duration": 2618,
    "start_time": "2021-06-28T06:35:10.544Z"
   },
   {
    "duration": 177,
    "start_time": "2021-06-28T06:35:28.955Z"
   },
   {
    "duration": 650,
    "start_time": "2021-06-28T06:35:33.254Z"
   },
   {
    "duration": 844,
    "start_time": "2021-06-28T06:36:15.876Z"
   },
   {
    "duration": 651,
    "start_time": "2021-06-28T06:38:17.602Z"
   },
   {
    "duration": 178,
    "start_time": "2021-06-28T06:38:21.534Z"
   },
   {
    "duration": 335,
    "start_time": "2021-06-28T06:44:46.221Z"
   },
   {
    "duration": 328,
    "start_time": "2021-06-28T06:45:08.112Z"
   },
   {
    "duration": 126,
    "start_time": "2021-06-28T06:45:36.392Z"
   },
   {
    "duration": 91,
    "start_time": "2021-06-28T06:45:50.826Z"
   },
   {
    "duration": 316,
    "start_time": "2021-06-28T06:45:58.841Z"
   },
   {
    "duration": 317,
    "start_time": "2021-06-28T06:55:30.199Z"
   },
   {
    "duration": 874,
    "start_time": "2021-06-28T06:58:14.764Z"
   },
   {
    "duration": 308,
    "start_time": "2021-06-28T07:04:35.729Z"
   },
   {
    "duration": 181,
    "start_time": "2021-06-28T07:07:13.280Z"
   },
   {
    "duration": 360,
    "start_time": "2021-06-28T07:08:00.976Z"
   },
   {
    "duration": 178,
    "start_time": "2021-06-28T07:08:35.121Z"
   },
   {
    "duration": 1777,
    "start_time": "2021-06-28T07:09:06.193Z"
   },
   {
    "duration": 39,
    "start_time": "2021-06-28T07:09:07.973Z"
   },
   {
    "duration": 103,
    "start_time": "2021-06-28T07:09:08.014Z"
   },
   {
    "duration": 19,
    "start_time": "2021-06-28T07:09:08.119Z"
   },
   {
    "duration": 634,
    "start_time": "2021-06-28T07:09:08.140Z"
   },
   {
    "duration": 73,
    "start_time": "2021-06-28T07:09:08.777Z"
   },
   {
    "duration": 50,
    "start_time": "2021-06-28T07:09:08.854Z"
   },
   {
    "duration": 11,
    "start_time": "2021-06-28T07:09:08.908Z"
   },
   {
    "duration": 16,
    "start_time": "2021-06-28T07:09:08.921Z"
   },
   {
    "duration": 58,
    "start_time": "2021-06-28T07:09:08.940Z"
   },
   {
    "duration": 7,
    "start_time": "2021-06-28T07:09:09.002Z"
   },
   {
    "duration": 33,
    "start_time": "2021-06-28T07:09:09.012Z"
   },
   {
    "duration": 426,
    "start_time": "2021-06-28T07:09:09.048Z"
   },
   {
    "duration": 12,
    "start_time": "2021-06-28T07:09:09.476Z"
   },
   {
    "duration": 41,
    "start_time": "2021-06-28T07:09:09.491Z"
   },
   {
    "duration": 218,
    "start_time": "2021-06-28T07:09:09.535Z"
   },
   {
    "duration": 278,
    "start_time": "2021-06-28T07:09:09.756Z"
   },
   {
    "duration": 13,
    "start_time": "2021-06-28T07:09:10.039Z"
   },
   {
    "duration": 264,
    "start_time": "2021-06-28T07:09:10.054Z"
   },
   {
    "duration": 18,
    "start_time": "2021-06-28T07:09:10.320Z"
   },
   {
    "duration": 10,
    "start_time": "2021-06-28T07:09:10.340Z"
   },
   {
    "duration": 7,
    "start_time": "2021-06-28T07:09:10.352Z"
   },
   {
    "duration": 33,
    "start_time": "2021-06-28T07:09:10.385Z"
   },
   {
    "duration": 18,
    "start_time": "2021-06-28T07:09:10.420Z"
   },
   {
    "duration": 58,
    "start_time": "2021-06-28T07:09:10.444Z"
   },
   {
    "duration": 10,
    "start_time": "2021-06-28T07:09:10.505Z"
   },
   {
    "duration": 29,
    "start_time": "2021-06-28T07:09:10.518Z"
   },
   {
    "duration": 33,
    "start_time": "2021-06-28T07:09:10.549Z"
   },
   {
    "duration": 38,
    "start_time": "2021-06-28T07:09:10.585Z"
   },
   {
    "duration": 83,
    "start_time": "2021-06-28T07:09:10.626Z"
   },
   {
    "duration": 1666,
    "start_time": "2021-06-28T07:09:25.831Z"
   },
   {
    "duration": 40,
    "start_time": "2021-06-28T07:09:27.500Z"
   },
   {
    "duration": 104,
    "start_time": "2021-06-28T07:09:27.543Z"
   },
   {
    "duration": 19,
    "start_time": "2021-06-28T07:09:27.649Z"
   },
   {
    "duration": 609,
    "start_time": "2021-06-28T07:09:27.671Z"
   },
   {
    "duration": 68,
    "start_time": "2021-06-28T07:09:28.286Z"
   },
   {
    "duration": 50,
    "start_time": "2021-06-28T07:09:28.356Z"
   },
   {
    "duration": 10,
    "start_time": "2021-06-28T07:09:28.411Z"
   },
   {
    "duration": 13,
    "start_time": "2021-06-28T07:09:28.424Z"
   },
   {
    "duration": 55,
    "start_time": "2021-06-28T07:09:28.439Z"
   },
   {
    "duration": 7,
    "start_time": "2021-06-28T07:09:28.496Z"
   },
   {
    "duration": 20,
    "start_time": "2021-06-28T07:09:28.506Z"
   },
   {
    "duration": 458,
    "start_time": "2021-06-28T07:09:28.528Z"
   },
   {
    "duration": 11,
    "start_time": "2021-06-28T07:09:28.989Z"
   },
   {
    "duration": 54,
    "start_time": "2021-06-28T07:09:29.003Z"
   },
   {
    "duration": 184,
    "start_time": "2021-06-28T07:09:29.085Z"
   },
   {
    "duration": 238,
    "start_time": "2021-06-28T07:09:29.271Z"
   },
   {
    "duration": 14,
    "start_time": "2021-06-28T07:09:29.511Z"
   },
   {
    "duration": 258,
    "start_time": "2021-06-28T07:09:29.527Z"
   },
   {
    "duration": 20,
    "start_time": "2021-06-28T07:09:29.788Z"
   },
   {
    "duration": 6,
    "start_time": "2021-06-28T07:09:29.811Z"
   },
   {
    "duration": 16,
    "start_time": "2021-06-28T07:09:29.820Z"
   },
   {
    "duration": 64,
    "start_time": "2021-06-28T07:09:29.841Z"
   },
   {
    "duration": 16,
    "start_time": "2021-06-28T07:09:29.908Z"
   },
   {
    "duration": 40,
    "start_time": "2021-06-28T07:09:29.926Z"
   },
   {
    "duration": 23,
    "start_time": "2021-06-28T07:09:29.969Z"
   },
   {
    "duration": 25,
    "start_time": "2021-06-28T07:09:29.994Z"
   },
   {
    "duration": 22,
    "start_time": "2021-06-28T07:09:30.021Z"
   },
   {
    "duration": 31,
    "start_time": "2021-06-28T07:09:30.045Z"
   },
   {
    "duration": 41,
    "start_time": "2021-06-28T07:09:30.078Z"
   },
   {
    "duration": 10,
    "start_time": "2021-06-28T07:09:30.121Z"
   },
   {
    "duration": 35,
    "start_time": "2021-06-28T07:09:30.134Z"
   },
   {
    "duration": 52,
    "start_time": "2021-06-28T07:09:30.171Z"
   },
   {
    "duration": 21,
    "start_time": "2021-06-28T07:09:30.226Z"
   },
   {
    "duration": 46,
    "start_time": "2021-06-28T07:09:30.250Z"
   },
   {
    "duration": 3,
    "start_time": "2021-06-28T07:09:30.299Z"
   },
   {
    "duration": 114,
    "start_time": "2021-06-28T07:09:30.304Z"
   },
   {
    "duration": 476,
    "start_time": "2021-06-28T07:09:30.420Z"
   },
   {
    "duration": -128,
    "start_time": "2021-06-28T07:09:31.027Z"
   },
   {
    "duration": -133,
    "start_time": "2021-06-28T07:09:31.034Z"
   },
   {
    "duration": -138,
    "start_time": "2021-06-28T07:09:31.041Z"
   },
   {
    "duration": -143,
    "start_time": "2021-06-28T07:09:31.047Z"
   },
   {
    "duration": -147,
    "start_time": "2021-06-28T07:09:31.053Z"
   },
   {
    "duration": -151,
    "start_time": "2021-06-28T07:09:31.059Z"
   },
   {
    "duration": -158,
    "start_time": "2021-06-28T07:09:31.067Z"
   },
   {
    "duration": -162,
    "start_time": "2021-06-28T07:09:31.073Z"
   },
   {
    "duration": -167,
    "start_time": "2021-06-28T07:09:31.079Z"
   },
   {
    "duration": -170,
    "start_time": "2021-06-28T07:09:31.084Z"
   },
   {
    "duration": -175,
    "start_time": "2021-06-28T07:09:31.090Z"
   },
   {
    "duration": -180,
    "start_time": "2021-06-28T07:09:31.097Z"
   },
   {
    "duration": -184,
    "start_time": "2021-06-28T07:09:31.102Z"
   },
   {
    "duration": -188,
    "start_time": "2021-06-28T07:09:31.108Z"
   },
   {
    "duration": -195,
    "start_time": "2021-06-28T07:09:31.116Z"
   },
   {
    "duration": -209,
    "start_time": "2021-06-28T07:09:31.132Z"
   },
   {
    "duration": 94,
    "start_time": "2021-06-28T07:10:20.660Z"
   },
   {
    "duration": 18,
    "start_time": "2021-06-28T07:10:25.725Z"
   },
   {
    "duration": 6,
    "start_time": "2021-06-28T07:10:26.398Z"
   },
   {
    "duration": 6,
    "start_time": "2021-06-28T07:10:27.041Z"
   },
   {
    "duration": 12,
    "start_time": "2021-06-28T07:10:27.710Z"
   },
   {
    "duration": 836,
    "start_time": "2021-06-28T07:10:30.001Z"
   },
   {
    "duration": 16,
    "start_time": "2021-06-28T07:10:40.253Z"
   },
   {
    "duration": 591,
    "start_time": "2021-06-28T07:10:41.501Z"
   },
   {
    "duration": 66,
    "start_time": "2021-06-28T07:10:45.111Z"
   },
   {
    "duration": 21,
    "start_time": "2021-06-28T07:10:46.180Z"
   },
   {
    "duration": 374,
    "start_time": "2021-06-28T07:10:49.102Z"
   },
   {
    "duration": 13,
    "start_time": "2021-06-28T07:10:53.789Z"
   },
   {
    "duration": 18,
    "start_time": "2021-06-28T07:10:55.369Z"
   },
   {
    "duration": 16,
    "start_time": "2021-06-28T07:11:00.572Z"
   },
   {
    "duration": 172,
    "start_time": "2021-06-28T07:11:01.755Z"
   },
   {
    "duration": 36,
    "start_time": "2021-06-28T07:11:03.521Z"
   },
   {
    "duration": 10,
    "start_time": "2021-06-28T07:11:06.316Z"
   },
   {
    "duration": 395,
    "start_time": "2021-06-28T07:16:25.770Z"
   },
   {
    "duration": 307,
    "start_time": "2021-06-28T07:16:41.972Z"
   },
   {
    "duration": 14,
    "start_time": "2021-06-28T07:16:50.081Z"
   },
   {
    "duration": 381,
    "start_time": "2021-06-28T07:17:10.566Z"
   },
   {
    "duration": 14,
    "start_time": "2021-06-28T07:17:42.732Z"
   },
   {
    "duration": 13,
    "start_time": "2021-06-28T07:18:00.872Z"
   },
   {
    "duration": 334,
    "start_time": "2021-06-28T07:18:28.640Z"
   },
   {
    "duration": 13,
    "start_time": "2021-06-28T07:18:45.563Z"
   },
   {
    "duration": 20,
    "start_time": "2021-06-28T07:19:10.382Z"
   },
   {
    "duration": 321,
    "start_time": "2021-06-28T07:19:45.147Z"
   },
   {
    "duration": 464,
    "start_time": "2021-06-28T07:19:59.366Z"
   },
   {
    "duration": 914,
    "start_time": "2021-06-28T07:20:13.888Z"
   },
   {
    "duration": 353,
    "start_time": "2021-06-28T07:20:21.945Z"
   },
   {
    "duration": 333,
    "start_time": "2021-06-28T07:20:38.265Z"
   },
   {
    "duration": 341,
    "start_time": "2021-06-28T07:22:09.246Z"
   },
   {
    "duration": 453,
    "start_time": "2021-06-28T07:22:19.771Z"
   },
   {
    "duration": 22,
    "start_time": "2021-06-28T07:22:43.808Z"
   },
   {
    "duration": 371,
    "start_time": "2021-06-28T07:23:44.230Z"
   },
   {
    "duration": 315,
    "start_time": "2021-06-28T07:23:51.781Z"
   },
   {
    "duration": 315,
    "start_time": "2021-06-28T07:23:58.546Z"
   },
   {
    "duration": 366,
    "start_time": "2021-06-28T07:24:05.307Z"
   },
   {
    "duration": 319,
    "start_time": "2021-06-28T07:25:30.741Z"
   },
   {
    "duration": 329,
    "start_time": "2021-06-28T07:25:47.660Z"
   },
   {
    "duration": 106,
    "start_time": "2021-06-28T07:29:55.751Z"
   },
   {
    "duration": 147,
    "start_time": "2021-06-28T07:30:12.064Z"
   },
   {
    "duration": 14,
    "start_time": "2021-06-28T07:30:15.928Z"
   },
   {
    "duration": 1855,
    "start_time": "2021-06-28T07:30:42.276Z"
   },
   {
    "duration": 61,
    "start_time": "2021-06-28T07:30:44.135Z"
   },
   {
    "duration": 165,
    "start_time": "2021-06-28T07:30:44.201Z"
   },
   {
    "duration": 36,
    "start_time": "2021-06-28T07:30:44.369Z"
   },
   {
    "duration": 598,
    "start_time": "2021-06-28T07:30:44.408Z"
   },
   {
    "duration": 81,
    "start_time": "2021-06-28T07:30:45.008Z"
   },
   {
    "duration": 38,
    "start_time": "2021-06-28T07:30:45.092Z"
   },
   {
    "duration": 10,
    "start_time": "2021-06-28T07:30:45.134Z"
   },
   {
    "duration": 18,
    "start_time": "2021-06-28T07:30:45.147Z"
   },
   {
    "duration": 48,
    "start_time": "2021-06-28T07:30:45.168Z"
   },
   {
    "duration": 7,
    "start_time": "2021-06-28T07:30:45.219Z"
   },
   {
    "duration": 25,
    "start_time": "2021-06-28T07:30:45.228Z"
   },
   {
    "duration": 453,
    "start_time": "2021-06-28T07:30:45.255Z"
   },
   {
    "duration": 8,
    "start_time": "2021-06-28T07:30:45.710Z"
   },
   {
    "duration": 44,
    "start_time": "2021-06-28T07:30:45.721Z"
   },
   {
    "duration": 204,
    "start_time": "2021-06-28T07:30:45.785Z"
   },
   {
    "duration": 236,
    "start_time": "2021-06-28T07:30:45.991Z"
   },
   {
    "duration": 13,
    "start_time": "2021-06-28T07:30:46.229Z"
   },
   {
    "duration": 256,
    "start_time": "2021-06-28T07:30:46.245Z"
   },
   {
    "duration": 16,
    "start_time": "2021-06-28T07:30:46.504Z"
   },
   {
    "duration": 21,
    "start_time": "2021-06-28T07:30:46.523Z"
   },
   {
    "duration": 12,
    "start_time": "2021-06-28T07:30:46.547Z"
   },
   {
    "duration": 51,
    "start_time": "2021-06-28T07:30:46.561Z"
   },
   {
    "duration": 16,
    "start_time": "2021-06-28T07:30:46.615Z"
   },
   {
    "duration": 51,
    "start_time": "2021-06-28T07:30:46.634Z"
   },
   {
    "duration": 10,
    "start_time": "2021-06-28T07:30:46.691Z"
   },
   {
    "duration": 21,
    "start_time": "2021-06-28T07:30:46.703Z"
   },
   {
    "duration": 15,
    "start_time": "2021-06-28T07:30:46.726Z"
   },
   {
    "duration": 43,
    "start_time": "2021-06-28T07:30:46.743Z"
   },
   {
    "duration": 24,
    "start_time": "2021-06-28T07:30:46.789Z"
   },
   {
    "duration": 8,
    "start_time": "2021-06-28T07:30:46.816Z"
   },
   {
    "duration": 36,
    "start_time": "2021-06-28T07:30:46.827Z"
   },
   {
    "duration": 44,
    "start_time": "2021-06-28T07:30:46.885Z"
   },
   {
    "duration": 22,
    "start_time": "2021-06-28T07:30:46.931Z"
   },
   {
    "duration": 42,
    "start_time": "2021-06-28T07:30:46.955Z"
   },
   {
    "duration": 623,
    "start_time": "2021-06-28T07:31:33.622Z"
   },
   {
    "duration": 102,
    "start_time": "2021-06-28T07:31:38.898Z"
   },
   {
    "duration": 107,
    "start_time": "2021-06-28T07:32:00.071Z"
   },
   {
    "duration": 93,
    "start_time": "2021-06-28T07:32:02.862Z"
   },
   {
    "duration": 30,
    "start_time": "2021-06-28T07:32:20.441Z"
   },
   {
    "duration": 9,
    "start_time": "2021-06-28T07:32:22.041Z"
   },
   {
    "duration": 10,
    "start_time": "2021-06-28T07:32:22.681Z"
   },
   {
    "duration": 19,
    "start_time": "2021-06-28T07:32:23.266Z"
   },
   {
    "duration": 792,
    "start_time": "2021-06-28T07:33:41.582Z"
   },
   {
    "duration": 1752,
    "start_time": "2021-06-28T07:34:55.959Z"
   },
   {
    "duration": 41,
    "start_time": "2021-06-28T07:34:57.714Z"
   },
   {
    "duration": 108,
    "start_time": "2021-06-28T07:34:57.758Z"
   },
   {
    "duration": 28,
    "start_time": "2021-06-28T07:34:57.868Z"
   },
   {
    "duration": 641,
    "start_time": "2021-06-28T07:34:57.899Z"
   },
   {
    "duration": 78,
    "start_time": "2021-06-28T07:34:58.542Z"
   },
   {
    "duration": 39,
    "start_time": "2021-06-28T07:34:58.625Z"
   },
   {
    "duration": 21,
    "start_time": "2021-06-28T07:34:58.667Z"
   },
   {
    "duration": 13,
    "start_time": "2021-06-28T07:34:58.690Z"
   },
   {
    "duration": 36,
    "start_time": "2021-06-28T07:34:58.706Z"
   },
   {
    "duration": 7,
    "start_time": "2021-06-28T07:34:58.744Z"
   },
   {
    "duration": 48,
    "start_time": "2021-06-28T07:34:58.754Z"
   },
   {
    "duration": 480,
    "start_time": "2021-06-28T07:34:58.805Z"
   },
   {
    "duration": 9,
    "start_time": "2021-06-28T07:34:59.287Z"
   },
   {
    "duration": 52,
    "start_time": "2021-06-28T07:34:59.298Z"
   },
   {
    "duration": 242,
    "start_time": "2021-06-28T07:34:59.352Z"
   },
   {
    "duration": 261,
    "start_time": "2021-06-28T07:34:59.596Z"
   },
   {
    "duration": 14,
    "start_time": "2021-06-28T07:34:59.859Z"
   },
   {
    "duration": 283,
    "start_time": "2021-06-28T07:34:59.875Z"
   },
   {
    "duration": 27,
    "start_time": "2021-06-28T07:35:00.161Z"
   },
   {
    "duration": 22,
    "start_time": "2021-06-28T07:35:00.191Z"
   },
   {
    "duration": 21,
    "start_time": "2021-06-28T07:35:00.216Z"
   },
   {
    "duration": 43,
    "start_time": "2021-06-28T07:35:00.240Z"
   },
   {
    "duration": 17,
    "start_time": "2021-06-28T07:35:00.285Z"
   },
   {
    "duration": 45,
    "start_time": "2021-06-28T07:35:00.308Z"
   },
   {
    "duration": 21,
    "start_time": "2021-06-28T07:35:00.357Z"
   },
   {
    "duration": 41,
    "start_time": "2021-06-28T07:35:00.385Z"
   },
   {
    "duration": 28,
    "start_time": "2021-06-28T07:35:00.428Z"
   },
   {
    "duration": 50,
    "start_time": "2021-06-28T07:35:00.459Z"
   },
   {
    "duration": 52,
    "start_time": "2021-06-28T07:35:00.512Z"
   },
   {
    "duration": 9,
    "start_time": "2021-06-28T07:35:00.566Z"
   },
   {
    "duration": 47,
    "start_time": "2021-06-28T07:35:00.578Z"
   },
   {
    "duration": 47,
    "start_time": "2021-06-28T07:35:00.627Z"
   },
   {
    "duration": 28,
    "start_time": "2021-06-28T07:35:00.677Z"
   },
   {
    "duration": 49,
    "start_time": "2021-06-28T07:35:00.708Z"
   },
   {
    "duration": 124,
    "start_time": "2021-06-28T07:35:00.760Z"
   },
   {
    "duration": 18,
    "start_time": "2021-06-28T07:35:00.887Z"
   },
   {
    "duration": 33,
    "start_time": "2021-06-28T07:35:00.907Z"
   },
   {
    "duration": 25,
    "start_time": "2021-06-28T07:35:00.942Z"
   },
   {
    "duration": 33,
    "start_time": "2021-06-28T07:35:00.970Z"
   },
   {
    "duration": 891,
    "start_time": "2021-06-28T07:35:01.005Z"
   },
   {
    "duration": 16,
    "start_time": "2021-06-28T07:35:01.899Z"
   },
   {
    "duration": 769,
    "start_time": "2021-06-28T07:35:01.917Z"
   },
   {
    "duration": 131,
    "start_time": "2021-06-28T07:35:02.690Z"
   },
   {
    "duration": 35,
    "start_time": "2021-06-28T07:35:02.825Z"
   },
   {
    "duration": 768,
    "start_time": "2021-06-28T07:35:02.864Z"
   },
   {
    "duration": 22,
    "start_time": "2021-06-28T07:35:03.635Z"
   },
   {
    "duration": 74,
    "start_time": "2021-06-28T07:35:03.661Z"
   },
   {
    "duration": 33,
    "start_time": "2021-06-28T07:35:03.739Z"
   },
   {
    "duration": 275,
    "start_time": "2021-06-28T07:35:15.028Z"
   },
   {
    "duration": 37,
    "start_time": "2021-06-28T07:35:20.563Z"
   },
   {
    "duration": 12,
    "start_time": "2021-06-28T07:35:22.701Z"
   },
   {
    "duration": 184,
    "start_time": "2021-06-28T07:35:27.535Z"
   },
   {
    "duration": 387,
    "start_time": "2021-06-28T07:36:24.339Z"
   },
   {
    "duration": 1716,
    "start_time": "2021-06-29T05:43:24.680Z"
   },
   {
    "duration": 42,
    "start_time": "2021-06-29T05:43:26.399Z"
   },
   {
    "duration": 97,
    "start_time": "2021-06-29T05:43:26.445Z"
   },
   {
    "duration": 20,
    "start_time": "2021-06-29T05:43:26.546Z"
   },
   {
    "duration": 570,
    "start_time": "2021-06-29T05:43:26.569Z"
   },
   {
    "duration": 82,
    "start_time": "2021-06-29T05:43:27.142Z"
   },
   {
    "duration": 40,
    "start_time": "2021-06-29T05:43:27.227Z"
   },
   {
    "duration": 18,
    "start_time": "2021-06-29T05:43:27.270Z"
   },
   {
    "duration": 13,
    "start_time": "2021-06-29T05:43:27.295Z"
   },
   {
    "duration": 34,
    "start_time": "2021-06-29T05:43:27.312Z"
   },
   {
    "duration": 41,
    "start_time": "2021-06-29T05:43:27.349Z"
   },
   {
    "duration": 20,
    "start_time": "2021-06-29T05:43:27.393Z"
   },
   {
    "duration": 571,
    "start_time": "2021-06-29T05:43:27.415Z"
   },
   {
    "duration": 8,
    "start_time": "2021-06-29T05:43:27.989Z"
   },
   {
    "duration": 58,
    "start_time": "2021-06-29T05:43:27.999Z"
   },
   {
    "duration": 186,
    "start_time": "2021-06-29T05:43:28.060Z"
   },
   {
    "duration": 215,
    "start_time": "2021-06-29T05:43:28.249Z"
   },
   {
    "duration": 13,
    "start_time": "2021-06-29T05:43:28.466Z"
   },
   {
    "duration": 228,
    "start_time": "2021-06-29T05:43:28.485Z"
   },
   {
    "duration": 18,
    "start_time": "2021-06-29T05:43:28.716Z"
   },
   {
    "duration": 16,
    "start_time": "2021-06-29T05:43:28.736Z"
   },
   {
    "duration": 26,
    "start_time": "2021-06-29T05:43:28.755Z"
   },
   {
    "duration": 38,
    "start_time": "2021-06-29T05:43:28.784Z"
   },
   {
    "duration": 16,
    "start_time": "2021-06-29T05:43:28.824Z"
   },
   {
    "duration": 54,
    "start_time": "2021-06-29T05:43:28.842Z"
   },
   {
    "duration": 12,
    "start_time": "2021-06-29T05:43:28.898Z"
   },
   {
    "duration": 21,
    "start_time": "2021-06-29T05:43:28.916Z"
   },
   {
    "duration": 21,
    "start_time": "2021-06-29T05:43:28.987Z"
   },
   {
    "duration": 75,
    "start_time": "2021-06-29T05:43:29.010Z"
   },
   {
    "duration": 21,
    "start_time": "2021-06-29T05:43:29.088Z"
   },
   {
    "duration": 8,
    "start_time": "2021-06-29T05:43:29.112Z"
   },
   {
    "duration": 82,
    "start_time": "2021-06-29T05:43:29.123Z"
   },
   {
    "duration": 95,
    "start_time": "2021-06-29T05:43:29.208Z"
   },
   {
    "duration": 22,
    "start_time": "2021-06-29T05:43:29.306Z"
   },
   {
    "duration": 59,
    "start_time": "2021-06-29T05:43:29.331Z"
   },
   {
    "duration": 117,
    "start_time": "2021-06-29T05:43:29.393Z"
   },
   {
    "duration": 17,
    "start_time": "2021-06-29T05:43:29.512Z"
   },
   {
    "duration": 5,
    "start_time": "2021-06-29T05:43:29.532Z"
   },
   {
    "duration": 11,
    "start_time": "2021-06-29T05:43:29.539Z"
   },
   {
    "duration": 22,
    "start_time": "2021-06-29T05:43:29.552Z"
   },
   {
    "duration": 1088,
    "start_time": "2021-06-29T05:43:29.577Z"
   },
   {
    "duration": 31,
    "start_time": "2021-06-29T05:43:30.668Z"
   },
   {
    "duration": 729,
    "start_time": "2021-06-29T05:43:30.702Z"
   },
   {
    "duration": 87,
    "start_time": "2021-06-29T05:43:31.433Z"
   },
   {
    "duration": 20,
    "start_time": "2021-06-29T05:43:31.523Z"
   },
   {
    "duration": 399,
    "start_time": "2021-06-29T05:43:31.546Z"
   },
   {
    "duration": 11,
    "start_time": "2021-06-29T05:43:31.948Z"
   },
   {
    "duration": 41,
    "start_time": "2021-06-29T05:43:31.961Z"
   },
   {
    "duration": 16,
    "start_time": "2021-06-29T05:43:32.005Z"
   },
   {
    "duration": 180,
    "start_time": "2021-06-29T05:43:32.023Z"
   },
   {
    "duration": 39,
    "start_time": "2021-06-29T05:43:32.205Z"
   },
   {
    "duration": 11,
    "start_time": "2021-06-29T05:43:32.246Z"
   },
   {
    "duration": 226,
    "start_time": "2021-06-29T05:43:32.259Z"
   },
   {
    "duration": 8,
    "start_time": "2021-06-29T05:43:32.487Z"
   },
   {
    "duration": 17,
    "start_time": "2021-06-29T05:43:32.498Z"
   },
   {
    "duration": 160,
    "start_time": "2021-06-29T05:43:32.518Z"
   },
   {
    "duration": 5,
    "start_time": "2021-06-29T05:43:32.681Z"
   },
   {
    "duration": 160,
    "start_time": "2021-06-29T05:43:32.688Z"
   },
   {
    "duration": 1352,
    "start_time": "2021-07-08T09:03:55.584Z"
   },
   {
    "duration": 29,
    "start_time": "2021-07-08T09:03:56.937Z"
   },
   {
    "duration": 69,
    "start_time": "2021-07-08T09:03:56.968Z"
   },
   {
    "duration": 12,
    "start_time": "2021-07-08T09:03:57.038Z"
   },
   {
    "duration": 401,
    "start_time": "2021-07-08T09:03:57.052Z"
   },
   {
    "duration": 56,
    "start_time": "2021-07-08T09:03:57.454Z"
   },
   {
    "duration": 27,
    "start_time": "2021-07-08T09:03:57.512Z"
   },
   {
    "duration": 7,
    "start_time": "2021-07-08T09:03:57.541Z"
   },
   {
    "duration": 8,
    "start_time": "2021-07-08T09:03:57.550Z"
   },
   {
    "duration": 19,
    "start_time": "2021-07-08T09:03:57.560Z"
   },
   {
    "duration": 12,
    "start_time": "2021-07-08T09:03:57.580Z"
   },
   {
    "duration": 12,
    "start_time": "2021-07-08T09:03:57.594Z"
   },
   {
    "duration": 266,
    "start_time": "2021-07-08T09:03:57.607Z"
   },
   {
    "duration": 5,
    "start_time": "2021-07-08T09:03:57.874Z"
   },
   {
    "duration": 29,
    "start_time": "2021-07-08T09:03:57.880Z"
   },
   {
    "duration": 143,
    "start_time": "2021-07-08T09:03:57.910Z"
   },
   {
    "duration": 156,
    "start_time": "2021-07-08T09:03:58.055Z"
   },
   {
    "duration": 9,
    "start_time": "2021-07-08T09:03:58.212Z"
   },
   {
    "duration": 155,
    "start_time": "2021-07-08T09:03:58.222Z"
   },
   {
    "duration": 14,
    "start_time": "2021-07-08T09:03:58.379Z"
   },
   {
    "duration": 6,
    "start_time": "2021-07-08T09:03:58.395Z"
   },
   {
    "duration": 4,
    "start_time": "2021-07-08T09:03:58.403Z"
   },
   {
    "duration": 30,
    "start_time": "2021-07-08T09:03:58.408Z"
   },
   {
    "duration": 14,
    "start_time": "2021-07-08T09:03:58.440Z"
   },
   {
    "duration": 46,
    "start_time": "2021-07-08T09:03:58.455Z"
   },
   {
    "duration": 7,
    "start_time": "2021-07-08T09:03:58.503Z"
   },
   {
    "duration": 11,
    "start_time": "2021-07-08T09:03:58.513Z"
   },
   {
    "duration": 7,
    "start_time": "2021-07-08T09:03:58.526Z"
   },
   {
    "duration": 14,
    "start_time": "2021-07-08T09:03:58.534Z"
   },
   {
    "duration": 41,
    "start_time": "2021-07-08T09:03:58.550Z"
   },
   {
    "duration": 6,
    "start_time": "2021-07-08T09:03:58.593Z"
   },
   {
    "duration": 18,
    "start_time": "2021-07-08T09:03:58.600Z"
   },
   {
    "duration": 30,
    "start_time": "2021-07-08T09:03:58.619Z"
   },
   {
    "duration": 14,
    "start_time": "2021-07-08T09:03:58.650Z"
   },
   {
    "duration": 41,
    "start_time": "2021-07-08T09:03:58.665Z"
   },
   {
    "duration": 63,
    "start_time": "2021-07-08T09:03:58.708Z"
   },
   {
    "duration": 30,
    "start_time": "2021-07-08T09:03:58.773Z"
   },
   {
    "duration": 3,
    "start_time": "2021-07-08T09:03:58.805Z"
   },
   {
    "duration": 5,
    "start_time": "2021-07-08T09:03:58.810Z"
   },
   {
    "duration": 9,
    "start_time": "2021-07-08T09:03:58.817Z"
   },
   {
    "duration": 569,
    "start_time": "2021-07-08T09:03:58.827Z"
   },
   {
    "duration": 10,
    "start_time": "2021-07-08T09:03:59.398Z"
   },
   {
    "duration": 515,
    "start_time": "2021-07-08T09:03:59.410Z"
   },
   {
    "duration": 44,
    "start_time": "2021-07-08T09:03:59.927Z"
   },
   {
    "duration": 29,
    "start_time": "2021-07-08T09:03:59.972Z"
   },
   {
    "duration": 238,
    "start_time": "2021-07-08T09:04:00.003Z"
   },
   {
    "duration": 7,
    "start_time": "2021-07-08T09:04:00.243Z"
   },
   {
    "duration": 16,
    "start_time": "2021-07-08T09:04:00.252Z"
   },
   {
    "duration": 23,
    "start_time": "2021-07-08T09:04:00.270Z"
   },
   {
    "duration": 119,
    "start_time": "2021-07-08T09:04:00.295Z"
   },
   {
    "duration": 28,
    "start_time": "2021-07-08T09:04:00.415Z"
   },
   {
    "duration": 7,
    "start_time": "2021-07-08T09:04:00.444Z"
   },
   {
    "duration": 127,
    "start_time": "2021-07-08T09:04:00.452Z"
   },
   {
    "duration": 4,
    "start_time": "2021-07-08T09:04:00.581Z"
   },
   {
    "duration": 20,
    "start_time": "2021-07-08T09:04:00.587Z"
   },
   {
    "duration": 109,
    "start_time": "2021-07-08T09:04:00.608Z"
   },
   {
    "duration": 2,
    "start_time": "2021-07-08T09:04:00.719Z"
   },
   {
    "duration": 114,
    "start_time": "2021-07-08T09:04:00.723Z"
   }
  ],
  "kernelspec": {
   "display_name": "Python 3",
   "language": "python",
   "name": "python3"
  },
  "language_info": {
   "codemirror_mode": {
    "name": "ipython",
    "version": 3
   },
   "file_extension": ".py",
   "mimetype": "text/x-python",
   "name": "python",
   "nbconvert_exporter": "python",
   "pygments_lexer": "ipython3",
   "version": "3.8.5"
  },
  "toc": {
   "base_numbering": 1,
   "nav_menu": {},
   "number_sections": true,
   "sideBar": true,
   "skip_h1_title": true,
   "title_cell": "Table of Contents",
   "title_sidebar": "Contents",
   "toc_cell": false,
   "toc_position": {},
   "toc_section_display": true,
   "toc_window_display": false
  }
 },
 "nbformat": 4,
 "nbformat_minor": 2
}
