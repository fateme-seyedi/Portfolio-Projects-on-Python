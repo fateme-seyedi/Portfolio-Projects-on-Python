{
 "cells": [
  {
   "cell_type": "markdown",
   "metadata": {},
   "source": [
    "<a id=\"goal\"></a>\n",
    "## Project Description and Goal"
   ]
  },
  {
   "cell_type": "markdown",
   "metadata": {},
   "source": [
    "You work as an analyst for the telecom operator Megaline. The company offers its clients two prepaid plans, Surf and Ultimate. The commercial department wants to know which of the plans brings in more revenue in order to adjust the advertising budget."
   ]
  },
  {
   "cell_type": "markdown",
   "metadata": {},
   "source": [
    "## Step 1. Open the data file and study the general information. "
   ]
  },
  {
   "cell_type": "code",
   "execution_count": 1,
   "metadata": {},
   "outputs": [],
   "source": [
    "import pandas as pd\n",
    "import matplotlib.pyplot as plt\n",
    "import math\n",
    "from scipy import stats as st\n",
    "from scipy.stats import mannwhitneyu\n",
    "import numpy as np\n",
    "from scipy.stats import shapiro"
   ]
  },
  {
   "cell_type": "code",
   "execution_count": 2,
   "metadata": {},
   "outputs": [
    {
     "data": {
      "text/html": [
       "<div>\n",
       "<style scoped>\n",
       "    .dataframe tbody tr th:only-of-type {\n",
       "        vertical-align: middle;\n",
       "    }\n",
       "\n",
       "    .dataframe tbody tr th {\n",
       "        vertical-align: top;\n",
       "    }\n",
       "\n",
       "    .dataframe thead th {\n",
       "        text-align: right;\n",
       "    }\n",
       "</style>\n",
       "<table border=\"1\" class=\"dataframe\">\n",
       "  <thead>\n",
       "    <tr style=\"text-align: right;\">\n",
       "      <th></th>\n",
       "      <th>id</th>\n",
       "      <th>user_id</th>\n",
       "      <th>call_date</th>\n",
       "      <th>duration</th>\n",
       "    </tr>\n",
       "  </thead>\n",
       "  <tbody>\n",
       "    <tr>\n",
       "      <th>0</th>\n",
       "      <td>1000_93</td>\n",
       "      <td>1000</td>\n",
       "      <td>2018-12-27</td>\n",
       "      <td>8.52</td>\n",
       "    </tr>\n",
       "    <tr>\n",
       "      <th>1</th>\n",
       "      <td>1000_145</td>\n",
       "      <td>1000</td>\n",
       "      <td>2018-12-27</td>\n",
       "      <td>13.66</td>\n",
       "    </tr>\n",
       "    <tr>\n",
       "      <th>2</th>\n",
       "      <td>1000_247</td>\n",
       "      <td>1000</td>\n",
       "      <td>2018-12-27</td>\n",
       "      <td>14.48</td>\n",
       "    </tr>\n",
       "    <tr>\n",
       "      <th>3</th>\n",
       "      <td>1000_309</td>\n",
       "      <td>1000</td>\n",
       "      <td>2018-12-28</td>\n",
       "      <td>5.76</td>\n",
       "    </tr>\n",
       "    <tr>\n",
       "      <th>4</th>\n",
       "      <td>1000_380</td>\n",
       "      <td>1000</td>\n",
       "      <td>2018-12-30</td>\n",
       "      <td>4.22</td>\n",
       "    </tr>\n",
       "  </tbody>\n",
       "</table>\n",
       "</div>"
      ],
      "text/plain": [
       "         id  user_id   call_date  duration\n",
       "0   1000_93     1000  2018-12-27      8.52\n",
       "1  1000_145     1000  2018-12-27     13.66\n",
       "2  1000_247     1000  2018-12-27     14.48\n",
       "3  1000_309     1000  2018-12-28      5.76\n",
       "4  1000_380     1000  2018-12-30      4.22"
      ]
     },
     "execution_count": 2,
     "metadata": {},
     "output_type": "execute_result"
    }
   ],
   "source": [
    "call.head(5)"
   ]
  },
  {
   "cell_type": "code",
   "execution_count": 3,
   "metadata": {},
   "outputs": [
    {
     "name": "stdout",
     "output_type": "stream",
     "text": [
      "<class 'pandas.core.frame.DataFrame'>\n",
      "RangeIndex: 137735 entries, 0 to 137734\n",
      "Data columns (total 4 columns):\n",
      " #   Column     Non-Null Count   Dtype  \n",
      "---  ------     --------------   -----  \n",
      " 0   id         137735 non-null  object \n",
      " 1   user_id    137735 non-null  int64  \n",
      " 2   call_date  137735 non-null  object \n",
      " 3   duration   137735 non-null  float64\n",
      "dtypes: float64(1), int64(1), object(2)\n",
      "memory usage: 4.2+ MB\n"
     ]
    }
   ],
   "source": [
    "call.info()"
   ]
  },
  {
   "cell_type": "code",
   "execution_count": 4,
   "metadata": {},
   "outputs": [
    {
     "data": {
      "text/html": [
       "<div>\n",
       "<style scoped>\n",
       "    .dataframe tbody tr th:only-of-type {\n",
       "        vertical-align: middle;\n",
       "    }\n",
       "\n",
       "    .dataframe tbody tr th {\n",
       "        vertical-align: top;\n",
       "    }\n",
       "\n",
       "    .dataframe thead th {\n",
       "        text-align: right;\n",
       "    }\n",
       "</style>\n",
       "<table border=\"1\" class=\"dataframe\">\n",
       "  <thead>\n",
       "    <tr style=\"text-align: right;\">\n",
       "      <th></th>\n",
       "      <th>id</th>\n",
       "      <th>user_id</th>\n",
       "      <th>session_date</th>\n",
       "      <th>mb_used</th>\n",
       "    </tr>\n",
       "  </thead>\n",
       "  <tbody>\n",
       "    <tr>\n",
       "      <th>0</th>\n",
       "      <td>1000_13</td>\n",
       "      <td>1000</td>\n",
       "      <td>2018-12-29</td>\n",
       "      <td>89.86</td>\n",
       "    </tr>\n",
       "    <tr>\n",
       "      <th>1</th>\n",
       "      <td>1000_204</td>\n",
       "      <td>1000</td>\n",
       "      <td>2018-12-31</td>\n",
       "      <td>0.00</td>\n",
       "    </tr>\n",
       "    <tr>\n",
       "      <th>2</th>\n",
       "      <td>1000_379</td>\n",
       "      <td>1000</td>\n",
       "      <td>2018-12-28</td>\n",
       "      <td>660.40</td>\n",
       "    </tr>\n",
       "    <tr>\n",
       "      <th>3</th>\n",
       "      <td>1000_413</td>\n",
       "      <td>1000</td>\n",
       "      <td>2018-12-26</td>\n",
       "      <td>270.99</td>\n",
       "    </tr>\n",
       "    <tr>\n",
       "      <th>4</th>\n",
       "      <td>1000_442</td>\n",
       "      <td>1000</td>\n",
       "      <td>2018-12-27</td>\n",
       "      <td>880.22</td>\n",
       "    </tr>\n",
       "  </tbody>\n",
       "</table>\n",
       "</div>"
      ],
      "text/plain": [
       "         id  user_id session_date  mb_used\n",
       "0   1000_13     1000   2018-12-29    89.86\n",
       "1  1000_204     1000   2018-12-31     0.00\n",
       "2  1000_379     1000   2018-12-28   660.40\n",
       "3  1000_413     1000   2018-12-26   270.99\n",
       "4  1000_442     1000   2018-12-27   880.22"
      ]
     },
     "execution_count": 4,
     "metadata": {},
     "output_type": "execute_result"
    }
   ],
   "source": [
    "internet.head(5)"
   ]
  },
  {
   "cell_type": "code",
   "execution_count": 5,
   "metadata": {},
   "outputs": [
    {
     "name": "stdout",
     "output_type": "stream",
     "text": [
      "<class 'pandas.core.frame.DataFrame'>\n",
      "RangeIndex: 104825 entries, 0 to 104824\n",
      "Data columns (total 4 columns):\n",
      " #   Column        Non-Null Count   Dtype  \n",
      "---  ------        --------------   -----  \n",
      " 0   id            104825 non-null  object \n",
      " 1   user_id       104825 non-null  int64  \n",
      " 2   session_date  104825 non-null  object \n",
      " 3   mb_used       104825 non-null  float64\n",
      "dtypes: float64(1), int64(1), object(2)\n",
      "memory usage: 3.2+ MB\n"
     ]
    }
   ],
   "source": [
    "internet.info()"
   ]
  },
  {
   "cell_type": "code",
   "execution_count": 6,
   "metadata": {},
   "outputs": [
    {
     "data": {
      "text/html": [
       "<div>\n",
       "<style scoped>\n",
       "    .dataframe tbody tr th:only-of-type {\n",
       "        vertical-align: middle;\n",
       "    }\n",
       "\n",
       "    .dataframe tbody tr th {\n",
       "        vertical-align: top;\n",
       "    }\n",
       "\n",
       "    .dataframe thead th {\n",
       "        text-align: right;\n",
       "    }\n",
       "</style>\n",
       "<table border=\"1\" class=\"dataframe\">\n",
       "  <thead>\n",
       "    <tr style=\"text-align: right;\">\n",
       "      <th></th>\n",
       "      <th>id</th>\n",
       "      <th>user_id</th>\n",
       "      <th>message_date</th>\n",
       "    </tr>\n",
       "  </thead>\n",
       "  <tbody>\n",
       "    <tr>\n",
       "      <th>0</th>\n",
       "      <td>1000_125</td>\n",
       "      <td>1000</td>\n",
       "      <td>2018-12-27</td>\n",
       "    </tr>\n",
       "    <tr>\n",
       "      <th>1</th>\n",
       "      <td>1000_160</td>\n",
       "      <td>1000</td>\n",
       "      <td>2018-12-31</td>\n",
       "    </tr>\n",
       "    <tr>\n",
       "      <th>2</th>\n",
       "      <td>1000_223</td>\n",
       "      <td>1000</td>\n",
       "      <td>2018-12-31</td>\n",
       "    </tr>\n",
       "    <tr>\n",
       "      <th>3</th>\n",
       "      <td>1000_251</td>\n",
       "      <td>1000</td>\n",
       "      <td>2018-12-27</td>\n",
       "    </tr>\n",
       "    <tr>\n",
       "      <th>4</th>\n",
       "      <td>1000_255</td>\n",
       "      <td>1000</td>\n",
       "      <td>2018-12-26</td>\n",
       "    </tr>\n",
       "  </tbody>\n",
       "</table>\n",
       "</div>"
      ],
      "text/plain": [
       "         id  user_id message_date\n",
       "0  1000_125     1000   2018-12-27\n",
       "1  1000_160     1000   2018-12-31\n",
       "2  1000_223     1000   2018-12-31\n",
       "3  1000_251     1000   2018-12-27\n",
       "4  1000_255     1000   2018-12-26"
      ]
     },
     "execution_count": 6,
     "metadata": {},
     "output_type": "execute_result"
    }
   ],
   "source": [
    "message.head(5)"
   ]
  },
  {
   "cell_type": "code",
   "execution_count": 7,
   "metadata": {},
   "outputs": [
    {
     "name": "stdout",
     "output_type": "stream",
     "text": [
      "<class 'pandas.core.frame.DataFrame'>\n",
      "RangeIndex: 76051 entries, 0 to 76050\n",
      "Data columns (total 3 columns):\n",
      " #   Column        Non-Null Count  Dtype \n",
      "---  ------        --------------  ----- \n",
      " 0   id            76051 non-null  object\n",
      " 1   user_id       76051 non-null  int64 \n",
      " 2   message_date  76051 non-null  object\n",
      "dtypes: int64(1), object(2)\n",
      "memory usage: 1.7+ MB\n"
     ]
    }
   ],
   "source": [
    "message.info()"
   ]
  },
  {
   "cell_type": "code",
   "execution_count": 8,
   "metadata": {},
   "outputs": [
    {
     "data": {
      "text/html": [
       "<div>\n",
       "<style scoped>\n",
       "    .dataframe tbody tr th:only-of-type {\n",
       "        vertical-align: middle;\n",
       "    }\n",
       "\n",
       "    .dataframe tbody tr th {\n",
       "        vertical-align: top;\n",
       "    }\n",
       "\n",
       "    .dataframe thead th {\n",
       "        text-align: right;\n",
       "    }\n",
       "</style>\n",
       "<table border=\"1\" class=\"dataframe\">\n",
       "  <thead>\n",
       "    <tr style=\"text-align: right;\">\n",
       "      <th></th>\n",
       "      <th>messages_included</th>\n",
       "      <th>mb_per_month_included</th>\n",
       "      <th>minutes_included</th>\n",
       "      <th>usd_monthly_pay</th>\n",
       "      <th>usd_per_gb</th>\n",
       "      <th>usd_per_message</th>\n",
       "      <th>usd_per_minute</th>\n",
       "      <th>plan_name</th>\n",
       "    </tr>\n",
       "  </thead>\n",
       "  <tbody>\n",
       "    <tr>\n",
       "      <th>0</th>\n",
       "      <td>50</td>\n",
       "      <td>15360</td>\n",
       "      <td>500</td>\n",
       "      <td>20</td>\n",
       "      <td>10</td>\n",
       "      <td>0.03</td>\n",
       "      <td>0.03</td>\n",
       "      <td>surf</td>\n",
       "    </tr>\n",
       "    <tr>\n",
       "      <th>1</th>\n",
       "      <td>1000</td>\n",
       "      <td>30720</td>\n",
       "      <td>3000</td>\n",
       "      <td>70</td>\n",
       "      <td>7</td>\n",
       "      <td>0.01</td>\n",
       "      <td>0.01</td>\n",
       "      <td>ultimate</td>\n",
       "    </tr>\n",
       "  </tbody>\n",
       "</table>\n",
       "</div>"
      ],
      "text/plain": [
       "   messages_included  mb_per_month_included  minutes_included  \\\n",
       "0                 50                  15360               500   \n",
       "1               1000                  30720              3000   \n",
       "\n",
       "   usd_monthly_pay  usd_per_gb  usd_per_message  usd_per_minute plan_name  \n",
       "0               20          10             0.03            0.03      surf  \n",
       "1               70           7             0.01            0.01  ultimate  "
      ]
     },
     "execution_count": 8,
     "metadata": {},
     "output_type": "execute_result"
    }
   ],
   "source": [
    "plans"
   ]
  },
  {
   "cell_type": "code",
   "execution_count": 9,
   "metadata": {},
   "outputs": [
    {
     "name": "stdout",
     "output_type": "stream",
     "text": [
      "<class 'pandas.core.frame.DataFrame'>\n",
      "RangeIndex: 2 entries, 0 to 1\n",
      "Data columns (total 8 columns):\n",
      " #   Column                 Non-Null Count  Dtype  \n",
      "---  ------                 --------------  -----  \n",
      " 0   messages_included      2 non-null      int64  \n",
      " 1   mb_per_month_included  2 non-null      int64  \n",
      " 2   minutes_included       2 non-null      int64  \n",
      " 3   usd_monthly_pay        2 non-null      int64  \n",
      " 4   usd_per_gb             2 non-null      int64  \n",
      " 5   usd_per_message        2 non-null      float64\n",
      " 6   usd_per_minute         2 non-null      float64\n",
      " 7   plan_name              2 non-null      object \n",
      "dtypes: float64(2), int64(5), object(1)\n",
      "memory usage: 256.0+ bytes\n"
     ]
    }
   ],
   "source": [
    "plans.info()"
   ]
  },
  {
   "cell_type": "code",
   "execution_count": 10,
   "metadata": {},
   "outputs": [
    {
     "data": {
      "text/html": [
       "<div>\n",
       "<style scoped>\n",
       "    .dataframe tbody tr th:only-of-type {\n",
       "        vertical-align: middle;\n",
       "    }\n",
       "\n",
       "    .dataframe tbody tr th {\n",
       "        vertical-align: top;\n",
       "    }\n",
       "\n",
       "    .dataframe thead th {\n",
       "        text-align: right;\n",
       "    }\n",
       "</style>\n",
       "<table border=\"1\" class=\"dataframe\">\n",
       "  <thead>\n",
       "    <tr style=\"text-align: right;\">\n",
       "      <th></th>\n",
       "      <th>user_id</th>\n",
       "      <th>first_name</th>\n",
       "      <th>last_name</th>\n",
       "      <th>age</th>\n",
       "      <th>city</th>\n",
       "      <th>reg_date</th>\n",
       "      <th>plan</th>\n",
       "      <th>churn_date</th>\n",
       "    </tr>\n",
       "  </thead>\n",
       "  <tbody>\n",
       "    <tr>\n",
       "      <th>0</th>\n",
       "      <td>1000</td>\n",
       "      <td>Anamaria</td>\n",
       "      <td>Bauer</td>\n",
       "      <td>45</td>\n",
       "      <td>Atlanta-Sandy Springs-Roswell, GA MSA</td>\n",
       "      <td>2018-12-24</td>\n",
       "      <td>ultimate</td>\n",
       "      <td>NaN</td>\n",
       "    </tr>\n",
       "    <tr>\n",
       "      <th>1</th>\n",
       "      <td>1001</td>\n",
       "      <td>Mickey</td>\n",
       "      <td>Wilkerson</td>\n",
       "      <td>28</td>\n",
       "      <td>Seattle-Tacoma-Bellevue, WA MSA</td>\n",
       "      <td>2018-08-13</td>\n",
       "      <td>surf</td>\n",
       "      <td>NaN</td>\n",
       "    </tr>\n",
       "    <tr>\n",
       "      <th>2</th>\n",
       "      <td>1002</td>\n",
       "      <td>Carlee</td>\n",
       "      <td>Hoffman</td>\n",
       "      <td>36</td>\n",
       "      <td>Las Vegas-Henderson-Paradise, NV MSA</td>\n",
       "      <td>2018-10-21</td>\n",
       "      <td>surf</td>\n",
       "      <td>NaN</td>\n",
       "    </tr>\n",
       "    <tr>\n",
       "      <th>3</th>\n",
       "      <td>1003</td>\n",
       "      <td>Reynaldo</td>\n",
       "      <td>Jenkins</td>\n",
       "      <td>52</td>\n",
       "      <td>Tulsa, OK MSA</td>\n",
       "      <td>2018-01-28</td>\n",
       "      <td>surf</td>\n",
       "      <td>NaN</td>\n",
       "    </tr>\n",
       "    <tr>\n",
       "      <th>4</th>\n",
       "      <td>1004</td>\n",
       "      <td>Leonila</td>\n",
       "      <td>Thompson</td>\n",
       "      <td>40</td>\n",
       "      <td>Seattle-Tacoma-Bellevue, WA MSA</td>\n",
       "      <td>2018-05-23</td>\n",
       "      <td>surf</td>\n",
       "      <td>NaN</td>\n",
       "    </tr>\n",
       "  </tbody>\n",
       "</table>\n",
       "</div>"
      ],
      "text/plain": [
       "   user_id first_name  last_name  age                                   city  \\\n",
       "0     1000   Anamaria      Bauer   45  Atlanta-Sandy Springs-Roswell, GA MSA   \n",
       "1     1001     Mickey  Wilkerson   28        Seattle-Tacoma-Bellevue, WA MSA   \n",
       "2     1002     Carlee    Hoffman   36   Las Vegas-Henderson-Paradise, NV MSA   \n",
       "3     1003   Reynaldo    Jenkins   52                          Tulsa, OK MSA   \n",
       "4     1004    Leonila   Thompson   40        Seattle-Tacoma-Bellevue, WA MSA   \n",
       "\n",
       "     reg_date      plan churn_date  \n",
       "0  2018-12-24  ultimate        NaN  \n",
       "1  2018-08-13      surf        NaN  \n",
       "2  2018-10-21      surf        NaN  \n",
       "3  2018-01-28      surf        NaN  \n",
       "4  2018-05-23      surf        NaN  "
      ]
     },
     "execution_count": 10,
     "metadata": {},
     "output_type": "execute_result"
    }
   ],
   "source": [
    "users.head(5)"
   ]
  },
  {
   "cell_type": "code",
   "execution_count": 11,
   "metadata": {},
   "outputs": [
    {
     "name": "stdout",
     "output_type": "stream",
     "text": [
      "<class 'pandas.core.frame.DataFrame'>\n",
      "RangeIndex: 500 entries, 0 to 499\n",
      "Data columns (total 8 columns):\n",
      " #   Column      Non-Null Count  Dtype \n",
      "---  ------      --------------  ----- \n",
      " 0   user_id     500 non-null    int64 \n",
      " 1   first_name  500 non-null    object\n",
      " 2   last_name   500 non-null    object\n",
      " 3   age         500 non-null    int64 \n",
      " 4   city        500 non-null    object\n",
      " 5   reg_date    500 non-null    object\n",
      " 6   plan        500 non-null    object\n",
      " 7   churn_date  34 non-null     object\n",
      "dtypes: int64(2), object(6)\n",
      "memory usage: 31.4+ KB\n"
     ]
    }
   ],
   "source": [
    "users.info()"
   ]
  },
  {
   "cell_type": "markdown",
   "metadata": {},
   "source": [
    "## Conclusion"
   ]
  },
  {
   "cell_type": "markdown",
   "metadata": {},
   "source": [
    "<font color=\"blue\">There are five datasets:\n",
    "   -  The users table (data on users) with 8 columns and 500 rows.\n",
    "   -  The calls table (data on calls) with 4 columns and 137735 rows.\n",
    "   -  The messages table (data on texts) with 3 columns and 76051 rows.\n",
    "   -  The internet table (data on web sessions) with 4 columns and 104825 rows.\n",
    "   -  The plans table (data on the plans) with 8 columns and 2 rows.\n",
    "    \n",
    "There are missing values in the table users only in the column `churn_date`, and in other tables, missing values are not seen."
   ]
  },
  {
   "cell_type": "markdown",
   "metadata": {},
   "source": [
    "<a id=\"preprocessing\"></a>\n",
    "## Step 2. Data preprocessing"
   ]
  },
  {
   "cell_type": "markdown",
   "metadata": {},
   "source": [
    "### Data type replacement"
   ]
  },
  {
   "cell_type": "code",
   "execution_count": 12,
   "metadata": {},
   "outputs": [],
   "source": [
    "call['call_date']=pd.to_datetime(call['call_date'], format='%Y-%m-%d')"
   ]
  },
  {
   "cell_type": "code",
   "execution_count": 13,
   "metadata": {},
   "outputs": [],
   "source": [
    "message['message_date']=pd.to_datetime(message['message_date'], format='%Y-%m-%d')"
   ]
  },
  {
   "cell_type": "code",
   "execution_count": 14,
   "metadata": {},
   "outputs": [],
   "source": [
    "internet['session_date']=pd.to_datetime(internet['session_date'], format='%Y-%m-%d')"
   ]
  },
  {
   "cell_type": "code",
   "execution_count": 15,
   "metadata": {},
   "outputs": [],
   "source": [
    "call['user_id']=call['user_id'].astype('object')"
   ]
  },
  {
   "cell_type": "code",
   "execution_count": 16,
   "metadata": {},
   "outputs": [],
   "source": [
    "internet['user_id']=internet['user_id'].astype('object')"
   ]
  },
  {
   "cell_type": "code",
   "execution_count": 17,
   "metadata": {},
   "outputs": [],
   "source": [
    "message['user_id']=message['user_id'].astype('object')"
   ]
  },
  {
   "cell_type": "code",
   "execution_count": 18,
   "metadata": {},
   "outputs": [],
   "source": [
    "users['user_id']=users['user_id'].astype('object')"
   ]
  },
  {
   "cell_type": "code",
   "execution_count": 19,
   "metadata": {},
   "outputs": [],
   "source": [
    "import math\n",
    "def rounding(row):\n",
    "    duration=row['duration']\n",
    "    return int(math.ceil(duration))\n"
   ]
  },
  {
   "cell_type": "code",
   "execution_count": 20,
   "metadata": {},
   "outputs": [],
   "source": [
    "# df.c=df.c.apply(lambda x:int(math.ceil(x)))"
   ]
  },
  {
   "cell_type": "code",
   "execution_count": 21,
   "metadata": {},
   "outputs": [
    {
     "data": {
      "text/html": [
       "<div>\n",
       "<style scoped>\n",
       "    .dataframe tbody tr th:only-of-type {\n",
       "        vertical-align: middle;\n",
       "    }\n",
       "\n",
       "    .dataframe tbody tr th {\n",
       "        vertical-align: top;\n",
       "    }\n",
       "\n",
       "    .dataframe thead th {\n",
       "        text-align: right;\n",
       "    }\n",
       "</style>\n",
       "<table border=\"1\" class=\"dataframe\">\n",
       "  <thead>\n",
       "    <tr style=\"text-align: right;\">\n",
       "      <th></th>\n",
       "      <th>id</th>\n",
       "      <th>user_id</th>\n",
       "      <th>call_date</th>\n",
       "      <th>duration</th>\n",
       "    </tr>\n",
       "  </thead>\n",
       "  <tbody>\n",
       "    <tr>\n",
       "      <th>0</th>\n",
       "      <td>1000_93</td>\n",
       "      <td>1000</td>\n",
       "      <td>2018-12-27</td>\n",
       "      <td>9</td>\n",
       "    </tr>\n",
       "    <tr>\n",
       "      <th>1</th>\n",
       "      <td>1000_145</td>\n",
       "      <td>1000</td>\n",
       "      <td>2018-12-27</td>\n",
       "      <td>14</td>\n",
       "    </tr>\n",
       "    <tr>\n",
       "      <th>2</th>\n",
       "      <td>1000_247</td>\n",
       "      <td>1000</td>\n",
       "      <td>2018-12-27</td>\n",
       "      <td>15</td>\n",
       "    </tr>\n",
       "    <tr>\n",
       "      <th>3</th>\n",
       "      <td>1000_309</td>\n",
       "      <td>1000</td>\n",
       "      <td>2018-12-28</td>\n",
       "      <td>6</td>\n",
       "    </tr>\n",
       "    <tr>\n",
       "      <th>4</th>\n",
       "      <td>1000_380</td>\n",
       "      <td>1000</td>\n",
       "      <td>2018-12-30</td>\n",
       "      <td>5</td>\n",
       "    </tr>\n",
       "  </tbody>\n",
       "</table>\n",
       "</div>"
      ],
      "text/plain": [
       "         id user_id  call_date  duration\n",
       "0   1000_93    1000 2018-12-27         9\n",
       "1  1000_145    1000 2018-12-27        14\n",
       "2  1000_247    1000 2018-12-27        15\n",
       "3  1000_309    1000 2018-12-28         6\n",
       "4  1000_380    1000 2018-12-30         5"
      ]
     },
     "execution_count": 21,
     "metadata": {},
     "output_type": "execute_result"
    }
   ],
   "source": [
    "call['duration']=call.apply(rounding,axis=1)\n",
    "call.head(5)"
   ]
  },
  {
   "cell_type": "code",
   "execution_count": 22,
   "metadata": {},
   "outputs": [
    {
     "data": {
      "text/plain": [
       "count    137735.000000\n",
       "mean          7.146673\n",
       "std           5.953919\n",
       "min           0.000000\n",
       "25%           2.000000\n",
       "50%           6.000000\n",
       "75%          11.000000\n",
       "max          38.000000\n",
       "Name: duration, dtype: float64"
      ]
     },
     "execution_count": 22,
     "metadata": {},
     "output_type": "execute_result"
    }
   ],
   "source": [
    "call['duration'].describe()"
   ]
  },
  {
   "cell_type": "code",
   "execution_count": 23,
   "metadata": {},
   "outputs": [
    {
     "data": {
      "image/png": "[encoded data removed]",
      "text/plain": [
       "<Figure size 504x360 with 1 Axes>"
      ]
     },
     "metadata": {
      "needs_background": "light"
     },
     "output_type": "display_data"
    }
   ],
   "source": [
    "call.hist('duration',bins=30 ,range=(0,30), figsize=(7,5))\n",
    "plt.title('duration-Histogram')\n",
    "plt.xlabel('duration of calls')\n",
    "plt.ylabel('number of calls')\n",
    "plt.show()"
   ]
  },
  {
   "cell_type": "code",
   "execution_count": 24,
   "metadata": {},
   "outputs": [
    {
     "data": {
      "image/png": "[encoded data removed]",
      "text/plain": [
       "<Figure size 504x360 with 1 Axes>"
      ]
     },
     "metadata": {
      "needs_background": "light"
     },
     "output_type": "display_data"
    }
   ],
   "source": [
    "call.boxplot('duration',figsize=(7,5))\n",
    "plt.ylim(0,40)\n",
    "plt.ylabel('minutes')\n",
    "plt.title('call-boxplot')\n",
    "plt.show()"
   ]
  },
  {
   "cell_type": "code",
   "execution_count": 25,
   "metadata": {},
   "outputs": [
    {
     "data": {
      "text/plain": [
       "19.482339274694162"
      ]
     },
     "execution_count": 25,
     "metadata": {},
     "output_type": "execute_result"
    }
   ],
   "source": [
    "len(call.query('duration==0'))/len(call)*100"
   ]
  },
  {
   "cell_type": "code",
   "execution_count": 26,
   "metadata": {},
   "outputs": [
    {
     "data": {
      "image/png": "[encoded data removed]",
      "text/plain": [
       "<Figure size 504x360 with 1 Axes>"
      ]
     },
     "metadata": {
      "needs_background": "light"
     },
     "output_type": "display_data"
    }
   ],
   "source": [
    "call.query('duration>0').hist('duration',bins=30 ,range=(0,30), figsize=(7,5))\n",
    "plt.title('duration-Histogram')\n",
    "plt.xlabel('duration of calls')\n",
    "plt.ylabel('number of calls')\n",
    "plt.show()"
   ]
  },
  {
   "cell_type": "code",
   "execution_count": 27,
   "metadata": {},
   "outputs": [
    {
     "data": {
      "image/png": "[encoded data removed]",
      "text/plain": [
       "<Figure size 504x360 with 1 Axes>"
      ]
     },
     "metadata": {
      "needs_background": "light"
     },
     "output_type": "display_data"
    }
   ],
   "source": [
    "call.query('duration>0').boxplot('duration', figsize=(7,5))\n",
    "plt.ylim(0,40)\n",
    "plt.ylabel('minutes')\n",
    "plt.title('call-boxplot')\n",
    "plt.show()"
   ]
  },
  {
   "cell_type": "code",
   "execution_count": 28,
   "metadata": {},
   "outputs": [
    {
     "data": {
      "text/plain": [
       "count    110901.000000\n",
       "mean          8.875907\n",
       "std           5.355181\n",
       "min           1.000000\n",
       "25%           5.000000\n",
       "50%           8.000000\n",
       "75%          12.000000\n",
       "max          38.000000\n",
       "Name: duration, dtype: float64"
      ]
     },
     "execution_count": 28,
     "metadata": {},
     "output_type": "execute_result"
    }
   ],
   "source": [
    "call.query('duration>0')['duration'].describe()"
   ]
  },
  {
   "cell_type": "code",
   "execution_count": 29,
   "metadata": {},
   "outputs": [
    {
     "data": {
      "text/plain": [
       "count    104825.000000\n",
       "mean        366.713701\n",
       "std         277.170542\n",
       "min           0.000000\n",
       "25%         136.080000\n",
       "50%         343.980000\n",
       "75%         554.610000\n",
       "max        1693.470000\n",
       "Name: mb_used, dtype: float64"
      ]
     },
     "execution_count": 29,
     "metadata": {},
     "output_type": "execute_result"
    }
   ],
   "source": [
    "internet['mb_used'].describe()"
   ]
  },
  {
   "cell_type": "code",
   "execution_count": 30,
   "metadata": {},
   "outputs": [
    {
     "data": {
      "image/png": "[encoded data removed]",
      "text/plain": [
       "<Figure size 504x360 with 1 Axes>"
      ]
     },
     "metadata": {
      "needs_background": "light"
     },
     "output_type": "display_data"
    }
   ],
   "source": [
    "internet.hist('mb_used',bins=30 ,range=(0,1500), figsize=(7,5))\n",
    "plt.title('internet-Histogram')\n",
    "plt.xlabel('mb_used')\n",
    "plt.ylabel('number of csessions')\n",
    "plt.show()"
   ]
  },
  {
   "cell_type": "code",
   "execution_count": 31,
   "metadata": {},
   "outputs": [
    {
     "data": {
      "image/png": "[encoded data removed]",
      "text/plain": [
       "<Figure size 504x360 with 1 Axes>"
      ]
     },
     "metadata": {
      "needs_background": "light"
     },
     "output_type": "display_data"
    }
   ],
   "source": [
    "internet.query('mb_used>0').hist('mb_used',bins=30 ,range=(0,1500),figsize=(7,5))\n",
    "plt.title('internet-Histogram')\n",
    "plt.xlabel('mb_used')\n",
    "plt.ylabel('number of csessions')\n",
    "plt.show()"
   ]
  },
  {
   "cell_type": "code",
   "execution_count": 32,
   "metadata": {},
   "outputs": [
    {
     "data": {
      "image/png": "[encoded data removed]",
      "text/plain": [
       "<Figure size 504x360 with 1 Axes>"
      ]
     },
     "metadata": {
      "needs_background": "light"
     },
     "output_type": "display_data"
    }
   ],
   "source": [
    "internet.boxplot('mb_used',figsize=(7,5))\n",
    "plt.ylim(0,2000)\n",
    "plt.ylabel('month')\n",
    "plt.title('internet-boxplot')\n",
    "plt.show()"
   ]
  },
  {
   "cell_type": "code",
   "execution_count": 33,
   "metadata": {},
   "outputs": [
    {
     "data": {
      "text/plain": [
       "count    91078.000000\n",
       "mean       422.064206\n",
       "std        255.063501\n",
       "min          0.010000\n",
       "25%        223.380000\n",
       "50%        395.905000\n",
       "75%        588.367500\n",
       "max       1693.470000\n",
       "Name: mb_used, dtype: float64"
      ]
     },
     "execution_count": 33,
     "metadata": {},
     "output_type": "execute_result"
    }
   ],
   "source": [
    "internet.query('mb_used>0')['mb_used'].describe()"
   ]
  },
  {
   "cell_type": "code",
   "execution_count": 34,
   "metadata": {},
   "outputs": [
    {
     "data": {
      "image/png": "[encoded data removed]",
      "text/plain": [
       "<Figure size 504x360 with 1 Axes>"
      ]
     },
     "metadata": {
      "needs_background": "light"
     },
     "output_type": "display_data"
    }
   ],
   "source": [
    "internet.query('mb_used>0').boxplot('mb_used',figsize=(7,5))\n",
    "plt.ylim(0,2000)\n",
    "plt.ylabel('month')\n",
    "plt.title('internet-boxplot')\n",
    "plt.show()"
   ]
  },
  {
   "cell_type": "code",
   "execution_count": 35,
   "metadata": {},
   "outputs": [
    {
     "data": {
      "text/plain": [
       "13.11423801574052"
      ]
     },
     "execution_count": 35,
     "metadata": {},
     "output_type": "execute_result"
    }
   ],
   "source": [
    "len(internet.query('mb_used==0'))/len(internet)*100"
   ]
  },
  {
   "cell_type": "code",
   "execution_count": 36,
   "metadata": {},
   "outputs": [],
   "source": [
    "call['month']=pd.DatetimeIndex(call['call_date']).month"
   ]
  },
  {
   "cell_type": "code",
   "execution_count": 37,
   "metadata": {},
   "outputs": [
    {
     "data": {
      "text/html": [
       "<div>\n",
       "<style scoped>\n",
       "    .dataframe tbody tr th:only-of-type {\n",
       "        vertical-align: middle;\n",
       "    }\n",
       "\n",
       "    .dataframe tbody tr th {\n",
       "        vertical-align: top;\n",
       "    }\n",
       "\n",
       "    .dataframe thead th {\n",
       "        text-align: right;\n",
       "    }\n",
       "</style>\n",
       "<table border=\"1\" class=\"dataframe\">\n",
       "  <thead>\n",
       "    <tr style=\"text-align: right;\">\n",
       "      <th></th>\n",
       "      <th>id</th>\n",
       "      <th>user_id</th>\n",
       "      <th>call_date</th>\n",
       "      <th>duration</th>\n",
       "      <th>month</th>\n",
       "    </tr>\n",
       "  </thead>\n",
       "  <tbody>\n",
       "    <tr>\n",
       "      <th>0</th>\n",
       "      <td>1000_93</td>\n",
       "      <td>1000</td>\n",
       "      <td>2018-12-27</td>\n",
       "      <td>9</td>\n",
       "      <td>12</td>\n",
       "    </tr>\n",
       "    <tr>\n",
       "      <th>1</th>\n",
       "      <td>1000_145</td>\n",
       "      <td>1000</td>\n",
       "      <td>2018-12-27</td>\n",
       "      <td>14</td>\n",
       "      <td>12</td>\n",
       "    </tr>\n",
       "    <tr>\n",
       "      <th>2</th>\n",
       "      <td>1000_247</td>\n",
       "      <td>1000</td>\n",
       "      <td>2018-12-27</td>\n",
       "      <td>15</td>\n",
       "      <td>12</td>\n",
       "    </tr>\n",
       "    <tr>\n",
       "      <th>3</th>\n",
       "      <td>1000_309</td>\n",
       "      <td>1000</td>\n",
       "      <td>2018-12-28</td>\n",
       "      <td>6</td>\n",
       "      <td>12</td>\n",
       "    </tr>\n",
       "    <tr>\n",
       "      <th>4</th>\n",
       "      <td>1000_380</td>\n",
       "      <td>1000</td>\n",
       "      <td>2018-12-30</td>\n",
       "      <td>5</td>\n",
       "      <td>12</td>\n",
       "    </tr>\n",
       "  </tbody>\n",
       "</table>\n",
       "</div>"
      ],
      "text/plain": [
       "         id user_id  call_date  duration  month\n",
       "0   1000_93    1000 2018-12-27         9     12\n",
       "1  1000_145    1000 2018-12-27        14     12\n",
       "2  1000_247    1000 2018-12-27        15     12\n",
       "3  1000_309    1000 2018-12-28         6     12\n",
       "4  1000_380    1000 2018-12-30         5     12"
      ]
     },
     "execution_count": 37,
     "metadata": {},
     "output_type": "execute_result"
    }
   ],
   "source": [
    "call.head(5)"
   ]
  },
  {
   "cell_type": "code",
   "execution_count": 38,
   "metadata": {},
   "outputs": [
    {
     "data": {
      "text/html": [
       "<div>\n",
       "<style scoped>\n",
       "    .dataframe tbody tr th:only-of-type {\n",
       "        vertical-align: middle;\n",
       "    }\n",
       "\n",
       "    .dataframe tbody tr th {\n",
       "        vertical-align: top;\n",
       "    }\n",
       "\n",
       "    .dataframe thead th {\n",
       "        text-align: right;\n",
       "    }\n",
       "</style>\n",
       "<table border=\"1\" class=\"dataframe\">\n",
       "  <thead>\n",
       "    <tr style=\"text-align: right;\">\n",
       "      <th></th>\n",
       "      <th>id</th>\n",
       "      <th>user_id</th>\n",
       "      <th>session_date</th>\n",
       "      <th>mb_used</th>\n",
       "      <th>month</th>\n",
       "    </tr>\n",
       "  </thead>\n",
       "  <tbody>\n",
       "    <tr>\n",
       "      <th>0</th>\n",
       "      <td>1000_13</td>\n",
       "      <td>1000</td>\n",
       "      <td>2018-12-29</td>\n",
       "      <td>89.86</td>\n",
       "      <td>12</td>\n",
       "    </tr>\n",
       "    <tr>\n",
       "      <th>1</th>\n",
       "      <td>1000_204</td>\n",
       "      <td>1000</td>\n",
       "      <td>2018-12-31</td>\n",
       "      <td>0.00</td>\n",
       "      <td>12</td>\n",
       "    </tr>\n",
       "    <tr>\n",
       "      <th>2</th>\n",
       "      <td>1000_379</td>\n",
       "      <td>1000</td>\n",
       "      <td>2018-12-28</td>\n",
       "      <td>660.40</td>\n",
       "      <td>12</td>\n",
       "    </tr>\n",
       "    <tr>\n",
       "      <th>3</th>\n",
       "      <td>1000_413</td>\n",
       "      <td>1000</td>\n",
       "      <td>2018-12-26</td>\n",
       "      <td>270.99</td>\n",
       "      <td>12</td>\n",
       "    </tr>\n",
       "    <tr>\n",
       "      <th>4</th>\n",
       "      <td>1000_442</td>\n",
       "      <td>1000</td>\n",
       "      <td>2018-12-27</td>\n",
       "      <td>880.22</td>\n",
       "      <td>12</td>\n",
       "    </tr>\n",
       "  </tbody>\n",
       "</table>\n",
       "</div>"
      ],
      "text/plain": [
       "         id user_id session_date  mb_used  month\n",
       "0   1000_13    1000   2018-12-29    89.86     12\n",
       "1  1000_204    1000   2018-12-31     0.00     12\n",
       "2  1000_379    1000   2018-12-28   660.40     12\n",
       "3  1000_413    1000   2018-12-26   270.99     12\n",
       "4  1000_442    1000   2018-12-27   880.22     12"
      ]
     },
     "execution_count": 38,
     "metadata": {},
     "output_type": "execute_result"
    }
   ],
   "source": [
    "internet['month']=pd.DatetimeIndex(internet['session_date']).month\n",
    "internet.head(5)"
   ]
  },
  {
   "cell_type": "code",
   "execution_count": 39,
   "metadata": {},
   "outputs": [
    {
     "data": {
      "text/html": [
       "<div>\n",
       "<style scoped>\n",
       "    .dataframe tbody tr th:only-of-type {\n",
       "        vertical-align: middle;\n",
       "    }\n",
       "\n",
       "    .dataframe tbody tr th {\n",
       "        vertical-align: top;\n",
       "    }\n",
       "\n",
       "    .dataframe thead th {\n",
       "        text-align: right;\n",
       "    }\n",
       "</style>\n",
       "<table border=\"1\" class=\"dataframe\">\n",
       "  <thead>\n",
       "    <tr style=\"text-align: right;\">\n",
       "      <th></th>\n",
       "      <th>id</th>\n",
       "      <th>user_id</th>\n",
       "      <th>message_date</th>\n",
       "      <th>month</th>\n",
       "    </tr>\n",
       "  </thead>\n",
       "  <tbody>\n",
       "    <tr>\n",
       "      <th>0</th>\n",
       "      <td>1000_125</td>\n",
       "      <td>1000</td>\n",
       "      <td>2018-12-27</td>\n",
       "      <td>12</td>\n",
       "    </tr>\n",
       "    <tr>\n",
       "      <th>1</th>\n",
       "      <td>1000_160</td>\n",
       "      <td>1000</td>\n",
       "      <td>2018-12-31</td>\n",
       "      <td>12</td>\n",
       "    </tr>\n",
       "    <tr>\n",
       "      <th>2</th>\n",
       "      <td>1000_223</td>\n",
       "      <td>1000</td>\n",
       "      <td>2018-12-31</td>\n",
       "      <td>12</td>\n",
       "    </tr>\n",
       "    <tr>\n",
       "      <th>3</th>\n",
       "      <td>1000_251</td>\n",
       "      <td>1000</td>\n",
       "      <td>2018-12-27</td>\n",
       "      <td>12</td>\n",
       "    </tr>\n",
       "    <tr>\n",
       "      <th>4</th>\n",
       "      <td>1000_255</td>\n",
       "      <td>1000</td>\n",
       "      <td>2018-12-26</td>\n",
       "      <td>12</td>\n",
       "    </tr>\n",
       "  </tbody>\n",
       "</table>\n",
       "</div>"
      ],
      "text/plain": [
       "         id user_id message_date  month\n",
       "0  1000_125    1000   2018-12-27     12\n",
       "1  1000_160    1000   2018-12-31     12\n",
       "2  1000_223    1000   2018-12-31     12\n",
       "3  1000_251    1000   2018-12-27     12\n",
       "4  1000_255    1000   2018-12-26     12"
      ]
     },
     "execution_count": 39,
     "metadata": {},
     "output_type": "execute_result"
    }
   ],
   "source": [
    "message['month']=pd.DatetimeIndex(message['message_date']).month\n",
    "message.head(5)"
   ]
  },
  {
   "cell_type": "code",
   "execution_count": 40,
   "metadata": {},
   "outputs": [],
   "source": [
    "call2=call.query('duration>0')"
   ]
  },
  {
   "cell_type": "code",
   "execution_count": 41,
   "metadata": {},
   "outputs": [],
   "source": [
    "call2_group=call2.pivot_table(index=['user_id','month'], values='duration', aggfunc=['count','sum']).reset_index()"
   ]
  },
  {
   "cell_type": "code",
   "execution_count": 42,
   "metadata": {},
   "outputs": [
    {
     "data": {
      "text/html": [
       "<div>\n",
       "<style scoped>\n",
       "    .dataframe tbody tr th:only-of-type {\n",
       "        vertical-align: middle;\n",
       "    }\n",
       "\n",
       "    .dataframe tbody tr th {\n",
       "        vertical-align: top;\n",
       "    }\n",
       "\n",
       "    .dataframe thead th {\n",
       "        text-align: right;\n",
       "    }\n",
       "</style>\n",
       "<table border=\"1\" class=\"dataframe\">\n",
       "  <thead>\n",
       "    <tr style=\"text-align: right;\">\n",
       "      <th></th>\n",
       "      <th>user_id</th>\n",
       "      <th>month</th>\n",
       "      <th>number_of _calls</th>\n",
       "      <th>duration</th>\n",
       "    </tr>\n",
       "  </thead>\n",
       "  <tbody>\n",
       "    <tr>\n",
       "      <th>0</th>\n",
       "      <td>1000</td>\n",
       "      <td>12</td>\n",
       "      <td>16</td>\n",
       "      <td>124</td>\n",
       "    </tr>\n",
       "    <tr>\n",
       "      <th>1</th>\n",
       "      <td>1001</td>\n",
       "      <td>8</td>\n",
       "      <td>22</td>\n",
       "      <td>182</td>\n",
       "    </tr>\n",
       "    <tr>\n",
       "      <th>2</th>\n",
       "      <td>1001</td>\n",
       "      <td>9</td>\n",
       "      <td>38</td>\n",
       "      <td>315</td>\n",
       "    </tr>\n",
       "    <tr>\n",
       "      <th>3</th>\n",
       "      <td>1001</td>\n",
       "      <td>10</td>\n",
       "      <td>47</td>\n",
       "      <td>393</td>\n",
       "    </tr>\n",
       "    <tr>\n",
       "      <th>4</th>\n",
       "      <td>1001</td>\n",
       "      <td>11</td>\n",
       "      <td>49</td>\n",
       "      <td>426</td>\n",
       "    </tr>\n",
       "  </tbody>\n",
       "</table>\n",
       "</div>"
      ],
      "text/plain": [
       "   user_id  month  number_of _calls  duration\n",
       "0     1000     12                16       124\n",
       "1     1001      8                22       182\n",
       "2     1001      9                38       315\n",
       "3     1001     10                47       393\n",
       "4     1001     11                49       426"
      ]
     },
     "execution_count": 42,
     "metadata": {},
     "output_type": "execute_result"
    }
   ],
   "source": [
    "call2_group.columns=['user_id','month','number_of _calls','duration']\n",
    "call2_group.head(5)"
   ]
  },
  {
   "cell_type": "code",
   "execution_count": 43,
   "metadata": {},
   "outputs": [],
   "source": [
    "internet2=internet.query('mb_used>0')"
   ]
  },
  {
   "cell_type": "code",
   "execution_count": 44,
   "metadata": {},
   "outputs": [],
   "source": [
    "internet2_group=internet2.pivot_table(index=['user_id','month'], values='mb_used', aggfunc='sum').reset_index()"
   ]
  },
  {
   "cell_type": "code",
   "execution_count": 45,
   "metadata": {},
   "outputs": [
    {
     "data": {
      "text/html": [
       "<div>\n",
       "<style scoped>\n",
       "    .dataframe tbody tr th:only-of-type {\n",
       "        vertical-align: middle;\n",
       "    }\n",
       "\n",
       "    .dataframe tbody tr th {\n",
       "        vertical-align: top;\n",
       "    }\n",
       "\n",
       "    .dataframe thead th {\n",
       "        text-align: right;\n",
       "    }\n",
       "</style>\n",
       "<table border=\"1\" class=\"dataframe\">\n",
       "  <thead>\n",
       "    <tr style=\"text-align: right;\">\n",
       "      <th></th>\n",
       "      <th>user_id</th>\n",
       "      <th>month</th>\n",
       "      <th>internet</th>\n",
       "    </tr>\n",
       "  </thead>\n",
       "  <tbody>\n",
       "    <tr>\n",
       "      <th>0</th>\n",
       "      <td>1000</td>\n",
       "      <td>12</td>\n",
       "      <td>1901.47</td>\n",
       "    </tr>\n",
       "    <tr>\n",
       "      <th>1</th>\n",
       "      <td>1001</td>\n",
       "      <td>8</td>\n",
       "      <td>6919.15</td>\n",
       "    </tr>\n",
       "    <tr>\n",
       "      <th>2</th>\n",
       "      <td>1001</td>\n",
       "      <td>9</td>\n",
       "      <td>13314.82</td>\n",
       "    </tr>\n",
       "    <tr>\n",
       "      <th>3</th>\n",
       "      <td>1001</td>\n",
       "      <td>10</td>\n",
       "      <td>22330.49</td>\n",
       "    </tr>\n",
       "    <tr>\n",
       "      <th>4</th>\n",
       "      <td>1001</td>\n",
       "      <td>11</td>\n",
       "      <td>18504.30</td>\n",
       "    </tr>\n",
       "  </tbody>\n",
       "</table>\n",
       "</div>"
      ],
      "text/plain": [
       "   user_id  month  internet\n",
       "0     1000     12   1901.47\n",
       "1     1001      8   6919.15\n",
       "2     1001      9  13314.82\n",
       "3     1001     10  22330.49\n",
       "4     1001     11  18504.30"
      ]
     },
     "execution_count": 45,
     "metadata": {},
     "output_type": "execute_result"
    }
   ],
   "source": [
    "internet2_group.columns=['user_id','month','internet']\n",
    "internet2_group.head(5)"
   ]
  },
  {
   "cell_type": "code",
   "execution_count": 46,
   "metadata": {},
   "outputs": [],
   "source": [
    "def rounding2(row):\n",
    "    mb_used=row['internet']\n",
    "    gb_used=mb_used/1000\n",
    "    return int(math.ceil(gb_used))"
   ]
  },
  {
   "cell_type": "code",
   "execution_count": 47,
   "metadata": {},
   "outputs": [
    {
     "data": {
      "text/html": [
       "<div>\n",
       "<style scoped>\n",
       "    .dataframe tbody tr th:only-of-type {\n",
       "        vertical-align: middle;\n",
       "    }\n",
       "\n",
       "    .dataframe tbody tr th {\n",
       "        vertical-align: top;\n",
       "    }\n",
       "\n",
       "    .dataframe thead th {\n",
       "        text-align: right;\n",
       "    }\n",
       "</style>\n",
       "<table border=\"1\" class=\"dataframe\">\n",
       "  <thead>\n",
       "    <tr style=\"text-align: right;\">\n",
       "      <th></th>\n",
       "      <th>user_id</th>\n",
       "      <th>month</th>\n",
       "      <th>internet</th>\n",
       "    </tr>\n",
       "  </thead>\n",
       "  <tbody>\n",
       "    <tr>\n",
       "      <th>0</th>\n",
       "      <td>1000</td>\n",
       "      <td>12</td>\n",
       "      <td>2</td>\n",
       "    </tr>\n",
       "    <tr>\n",
       "      <th>1</th>\n",
       "      <td>1001</td>\n",
       "      <td>8</td>\n",
       "      <td>7</td>\n",
       "    </tr>\n",
       "    <tr>\n",
       "      <th>2</th>\n",
       "      <td>1001</td>\n",
       "      <td>9</td>\n",
       "      <td>14</td>\n",
       "    </tr>\n",
       "    <tr>\n",
       "      <th>3</th>\n",
       "      <td>1001</td>\n",
       "      <td>10</td>\n",
       "      <td>23</td>\n",
       "    </tr>\n",
       "    <tr>\n",
       "      <th>4</th>\n",
       "      <td>1001</td>\n",
       "      <td>11</td>\n",
       "      <td>19</td>\n",
       "    </tr>\n",
       "    <tr>\n",
       "      <th>...</th>\n",
       "      <td>...</td>\n",
       "      <td>...</td>\n",
       "      <td>...</td>\n",
       "    </tr>\n",
       "    <tr>\n",
       "      <th>2272</th>\n",
       "      <td>1498</td>\n",
       "      <td>12</td>\n",
       "      <td>24</td>\n",
       "    </tr>\n",
       "    <tr>\n",
       "      <th>2273</th>\n",
       "      <td>1499</td>\n",
       "      <td>9</td>\n",
       "      <td>13</td>\n",
       "    </tr>\n",
       "    <tr>\n",
       "      <th>2274</th>\n",
       "      <td>1499</td>\n",
       "      <td>10</td>\n",
       "      <td>20</td>\n",
       "    </tr>\n",
       "    <tr>\n",
       "      <th>2275</th>\n",
       "      <td>1499</td>\n",
       "      <td>11</td>\n",
       "      <td>17</td>\n",
       "    </tr>\n",
       "    <tr>\n",
       "      <th>2276</th>\n",
       "      <td>1499</td>\n",
       "      <td>12</td>\n",
       "      <td>23</td>\n",
       "    </tr>\n",
       "  </tbody>\n",
       "</table>\n",
       "<p>2277 rows × 3 columns</p>\n",
       "</div>"
      ],
      "text/plain": [
       "      user_id  month  internet\n",
       "0        1000     12         2\n",
       "1        1001      8         7\n",
       "2        1001      9        14\n",
       "3        1001     10        23\n",
       "4        1001     11        19\n",
       "...       ...    ...       ...\n",
       "2272     1498     12        24\n",
       "2273     1499      9        13\n",
       "2274     1499     10        20\n",
       "2275     1499     11        17\n",
       "2276     1499     12        23\n",
       "\n",
       "[2277 rows x 3 columns]"
      ]
     },
     "execution_count": 47,
     "metadata": {},
     "output_type": "execute_result"
    }
   ],
   "source": [
    "internet2_group['internet']=internet2_group.apply(rounding2,axis=1)\n",
    "internet2_group"
   ]
  },
  {
   "cell_type": "code",
   "execution_count": 48,
   "metadata": {},
   "outputs": [],
   "source": [
    "message_group=message.pivot_table(index=['user_id','month'], values='id', aggfunc='count').reset_index()"
   ]
  },
  {
   "cell_type": "code",
   "execution_count": 49,
   "metadata": {},
   "outputs": [
    {
     "data": {
      "text/html": [
       "<div>\n",
       "<style scoped>\n",
       "    .dataframe tbody tr th:only-of-type {\n",
       "        vertical-align: middle;\n",
       "    }\n",
       "\n",
       "    .dataframe tbody tr th {\n",
       "        vertical-align: top;\n",
       "    }\n",
       "\n",
       "    .dataframe thead th {\n",
       "        text-align: right;\n",
       "    }\n",
       "</style>\n",
       "<table border=\"1\" class=\"dataframe\">\n",
       "  <thead>\n",
       "    <tr style=\"text-align: right;\">\n",
       "      <th></th>\n",
       "      <th>user_id</th>\n",
       "      <th>month</th>\n",
       "      <th>messages</th>\n",
       "    </tr>\n",
       "  </thead>\n",
       "  <tbody>\n",
       "    <tr>\n",
       "      <th>0</th>\n",
       "      <td>1000</td>\n",
       "      <td>12</td>\n",
       "      <td>11</td>\n",
       "    </tr>\n",
       "    <tr>\n",
       "      <th>1</th>\n",
       "      <td>1001</td>\n",
       "      <td>8</td>\n",
       "      <td>30</td>\n",
       "    </tr>\n",
       "    <tr>\n",
       "      <th>2</th>\n",
       "      <td>1001</td>\n",
       "      <td>9</td>\n",
       "      <td>44</td>\n",
       "    </tr>\n",
       "    <tr>\n",
       "      <th>3</th>\n",
       "      <td>1001</td>\n",
       "      <td>10</td>\n",
       "      <td>53</td>\n",
       "    </tr>\n",
       "    <tr>\n",
       "      <th>4</th>\n",
       "      <td>1001</td>\n",
       "      <td>11</td>\n",
       "      <td>36</td>\n",
       "    </tr>\n",
       "  </tbody>\n",
       "</table>\n",
       "</div>"
      ],
      "text/plain": [
       "   user_id  month  messages\n",
       "0     1000     12        11\n",
       "1     1001      8        30\n",
       "2     1001      9        44\n",
       "3     1001     10        53\n",
       "4     1001     11        36"
      ]
     },
     "execution_count": 49,
     "metadata": {},
     "output_type": "execute_result"
    }
   ],
   "source": [
    "message_group.columns=['user_id','month','messages']\n",
    "message_group.head(5)"
   ]
  },
  {
   "cell_type": "code",
   "execution_count": 50,
   "metadata": {},
   "outputs": [
    {
     "data": {
      "text/plain": [
       "2256"
      ]
     },
     "execution_count": 50,
     "metadata": {},
     "output_type": "execute_result"
    }
   ],
   "source": [
    "len(call2_group)"
   ]
  },
  {
   "cell_type": "code",
   "execution_count": 51,
   "metadata": {},
   "outputs": [
    {
     "data": {
      "text/plain": [
       "2277"
      ]
     },
     "execution_count": 51,
     "metadata": {},
     "output_type": "execute_result"
    }
   ],
   "source": [
    "len(internet2_group)"
   ]
  },
  {
   "cell_type": "code",
   "execution_count": 52,
   "metadata": {},
   "outputs": [
    {
     "data": {
      "text/plain": [
       "1806"
      ]
     },
     "execution_count": 52,
     "metadata": {},
     "output_type": "execute_result"
    }
   ],
   "source": [
    "len(message_group)"
   ]
  },
  {
   "cell_type": "code",
   "execution_count": 53,
   "metadata": {},
   "outputs": [],
   "source": [
    "total1= pd.merge(left = internet2_group , \n",
    "                right = call2_group, how='outer',on=['user_id', 'month']).fillna(0)\n",
    "total2=pd.merge(left = total1 , \n",
    "                right = message_group, how='outer',on=['user_id', 'month']).fillna(0)"
   ]
  },
  {
   "cell_type": "code",
   "execution_count": 54,
   "metadata": {},
   "outputs": [
    {
     "data": {
      "text/html": [
       "<div>\n",
       "<style scoped>\n",
       "    .dataframe tbody tr th:only-of-type {\n",
       "        vertical-align: middle;\n",
       "    }\n",
       "\n",
       "    .dataframe tbody tr th {\n",
       "        vertical-align: top;\n",
       "    }\n",
       "\n",
       "    .dataframe thead th {\n",
       "        text-align: right;\n",
       "    }\n",
       "</style>\n",
       "<table border=\"1\" class=\"dataframe\">\n",
       "  <thead>\n",
       "    <tr style=\"text-align: right;\">\n",
       "      <th></th>\n",
       "      <th>user_id</th>\n",
       "      <th>month</th>\n",
       "      <th>internet</th>\n",
       "      <th>number_of _calls</th>\n",
       "      <th>duration</th>\n",
       "      <th>messages</th>\n",
       "    </tr>\n",
       "  </thead>\n",
       "  <tbody>\n",
       "    <tr>\n",
       "      <th>0</th>\n",
       "      <td>1000</td>\n",
       "      <td>12</td>\n",
       "      <td>2.0</td>\n",
       "      <td>16.0</td>\n",
       "      <td>124.0</td>\n",
       "      <td>11.0</td>\n",
       "    </tr>\n",
       "    <tr>\n",
       "      <th>1</th>\n",
       "      <td>1001</td>\n",
       "      <td>8</td>\n",
       "      <td>7.0</td>\n",
       "      <td>22.0</td>\n",
       "      <td>182.0</td>\n",
       "      <td>30.0</td>\n",
       "    </tr>\n",
       "    <tr>\n",
       "      <th>2</th>\n",
       "      <td>1001</td>\n",
       "      <td>9</td>\n",
       "      <td>14.0</td>\n",
       "      <td>38.0</td>\n",
       "      <td>315.0</td>\n",
       "      <td>44.0</td>\n",
       "    </tr>\n",
       "    <tr>\n",
       "      <th>3</th>\n",
       "      <td>1001</td>\n",
       "      <td>10</td>\n",
       "      <td>23.0</td>\n",
       "      <td>47.0</td>\n",
       "      <td>393.0</td>\n",
       "      <td>53.0</td>\n",
       "    </tr>\n",
       "    <tr>\n",
       "      <th>4</th>\n",
       "      <td>1001</td>\n",
       "      <td>11</td>\n",
       "      <td>19.0</td>\n",
       "      <td>49.0</td>\n",
       "      <td>426.0</td>\n",
       "      <td>36.0</td>\n",
       "    </tr>\n",
       "    <tr>\n",
       "      <th>5</th>\n",
       "      <td>1001</td>\n",
       "      <td>12</td>\n",
       "      <td>20.0</td>\n",
       "      <td>46.0</td>\n",
       "      <td>412.0</td>\n",
       "      <td>44.0</td>\n",
       "    </tr>\n",
       "    <tr>\n",
       "      <th>6</th>\n",
       "      <td>1002</td>\n",
       "      <td>10</td>\n",
       "      <td>7.0</td>\n",
       "      <td>8.0</td>\n",
       "      <td>59.0</td>\n",
       "      <td>15.0</td>\n",
       "    </tr>\n",
       "    <tr>\n",
       "      <th>7</th>\n",
       "      <td>1002</td>\n",
       "      <td>11</td>\n",
       "      <td>20.0</td>\n",
       "      <td>48.0</td>\n",
       "      <td>386.0</td>\n",
       "      <td>32.0</td>\n",
       "    </tr>\n",
       "    <tr>\n",
       "      <th>8</th>\n",
       "      <td>1002</td>\n",
       "      <td>12</td>\n",
       "      <td>15.0</td>\n",
       "      <td>38.0</td>\n",
       "      <td>384.0</td>\n",
       "      <td>41.0</td>\n",
       "    </tr>\n",
       "    <tr>\n",
       "      <th>9</th>\n",
       "      <td>1003</td>\n",
       "      <td>12</td>\n",
       "      <td>28.0</td>\n",
       "      <td>118.0</td>\n",
       "      <td>1104.0</td>\n",
       "      <td>50.0</td>\n",
       "    </tr>\n",
       "  </tbody>\n",
       "</table>\n",
       "</div>"
      ],
      "text/plain": [
       "   user_id  month  internet  number_of _calls  duration  messages\n",
       "0     1000     12       2.0              16.0     124.0      11.0\n",
       "1     1001      8       7.0              22.0     182.0      30.0\n",
       "2     1001      9      14.0              38.0     315.0      44.0\n",
       "3     1001     10      23.0              47.0     393.0      53.0\n",
       "4     1001     11      19.0              49.0     426.0      36.0\n",
       "5     1001     12      20.0              46.0     412.0      44.0\n",
       "6     1002     10       7.0               8.0      59.0      15.0\n",
       "7     1002     11      20.0              48.0     386.0      32.0\n",
       "8     1002     12      15.0              38.0     384.0      41.0\n",
       "9     1003     12      28.0             118.0    1104.0      50.0"
      ]
     },
     "execution_count": 54,
     "metadata": {},
     "output_type": "execute_result"
    }
   ],
   "source": [
    "total2.head(10)"
   ]
  },
  {
   "cell_type": "code",
   "execution_count": 55,
   "metadata": {},
   "outputs": [
    {
     "data": {
      "text/plain": [
       "2293"
      ]
     },
     "execution_count": 55,
     "metadata": {},
     "output_type": "execute_result"
    }
   ],
   "source": [
    "len(total2)"
   ]
  },
  {
   "cell_type": "code",
   "execution_count": 56,
   "metadata": {},
   "outputs": [
    {
     "data": {
      "text/html": [
       "<div>\n",
       "<style scoped>\n",
       "    .dataframe tbody tr th:only-of-type {\n",
       "        vertical-align: middle;\n",
       "    }\n",
       "\n",
       "    .dataframe tbody tr th {\n",
       "        vertical-align: top;\n",
       "    }\n",
       "\n",
       "    .dataframe thead th {\n",
       "        text-align: right;\n",
       "    }\n",
       "</style>\n",
       "<table border=\"1\" class=\"dataframe\">\n",
       "  <thead>\n",
       "    <tr style=\"text-align: right;\">\n",
       "      <th></th>\n",
       "      <th>user_id</th>\n",
       "      <th>first_name</th>\n",
       "      <th>last_name</th>\n",
       "      <th>age</th>\n",
       "      <th>city</th>\n",
       "      <th>reg_date</th>\n",
       "      <th>plan</th>\n",
       "      <th>churn_date</th>\n",
       "    </tr>\n",
       "  </thead>\n",
       "  <tbody>\n",
       "    <tr>\n",
       "      <th>0</th>\n",
       "      <td>1000</td>\n",
       "      <td>Anamaria</td>\n",
       "      <td>Bauer</td>\n",
       "      <td>45</td>\n",
       "      <td>Atlanta-Sandy Springs-Roswell, GA MSA</td>\n",
       "      <td>2018-12-24</td>\n",
       "      <td>ultimate</td>\n",
       "      <td>NaN</td>\n",
       "    </tr>\n",
       "    <tr>\n",
       "      <th>1</th>\n",
       "      <td>1001</td>\n",
       "      <td>Mickey</td>\n",
       "      <td>Wilkerson</td>\n",
       "      <td>28</td>\n",
       "      <td>Seattle-Tacoma-Bellevue, WA MSA</td>\n",
       "      <td>2018-08-13</td>\n",
       "      <td>surf</td>\n",
       "      <td>NaN</td>\n",
       "    </tr>\n",
       "    <tr>\n",
       "      <th>2</th>\n",
       "      <td>1002</td>\n",
       "      <td>Carlee</td>\n",
       "      <td>Hoffman</td>\n",
       "      <td>36</td>\n",
       "      <td>Las Vegas-Henderson-Paradise, NV MSA</td>\n",
       "      <td>2018-10-21</td>\n",
       "      <td>surf</td>\n",
       "      <td>NaN</td>\n",
       "    </tr>\n",
       "    <tr>\n",
       "      <th>3</th>\n",
       "      <td>1003</td>\n",
       "      <td>Reynaldo</td>\n",
       "      <td>Jenkins</td>\n",
       "      <td>52</td>\n",
       "      <td>Tulsa, OK MSA</td>\n",
       "      <td>2018-01-28</td>\n",
       "      <td>surf</td>\n",
       "      <td>NaN</td>\n",
       "    </tr>\n",
       "    <tr>\n",
       "      <th>4</th>\n",
       "      <td>1004</td>\n",
       "      <td>Leonila</td>\n",
       "      <td>Thompson</td>\n",
       "      <td>40</td>\n",
       "      <td>Seattle-Tacoma-Bellevue, WA MSA</td>\n",
       "      <td>2018-05-23</td>\n",
       "      <td>surf</td>\n",
       "      <td>NaN</td>\n",
       "    </tr>\n",
       "  </tbody>\n",
       "</table>\n",
       "</div>"
      ],
      "text/plain": [
       "  user_id first_name  last_name  age                                   city  \\\n",
       "0    1000   Anamaria      Bauer   45  Atlanta-Sandy Springs-Roswell, GA MSA   \n",
       "1    1001     Mickey  Wilkerson   28        Seattle-Tacoma-Bellevue, WA MSA   \n",
       "2    1002     Carlee    Hoffman   36   Las Vegas-Henderson-Paradise, NV MSA   \n",
       "3    1003   Reynaldo    Jenkins   52                          Tulsa, OK MSA   \n",
       "4    1004    Leonila   Thompson   40        Seattle-Tacoma-Bellevue, WA MSA   \n",
       "\n",
       "     reg_date      plan churn_date  \n",
       "0  2018-12-24  ultimate        NaN  \n",
       "1  2018-08-13      surf        NaN  \n",
       "2  2018-10-21      surf        NaN  \n",
       "3  2018-01-28      surf        NaN  \n",
       "4  2018-05-23      surf        NaN  "
      ]
     },
     "execution_count": 56,
     "metadata": {},
     "output_type": "execute_result"
    }
   ],
   "source": [
    "users.head(5)"
   ]
  },
  {
   "cell_type": "code",
   "execution_count": 57,
   "metadata": {},
   "outputs": [
    {
     "name": "stdout",
     "output_type": "stream",
     "text": [
      "<class 'pandas.core.frame.DataFrame'>\n",
      "RangeIndex: 500 entries, 0 to 499\n",
      "Data columns (total 8 columns):\n",
      " #   Column      Non-Null Count  Dtype \n",
      "---  ------      --------------  ----- \n",
      " 0   user_id     500 non-null    object\n",
      " 1   first_name  500 non-null    object\n",
      " 2   last_name   500 non-null    object\n",
      " 3   age         500 non-null    int64 \n",
      " 4   city        500 non-null    object\n",
      " 5   reg_date    500 non-null    object\n",
      " 6   plan        500 non-null    object\n",
      " 7   churn_date  34 non-null     object\n",
      "dtypes: int64(1), object(7)\n",
      "memory usage: 31.4+ KB\n"
     ]
    }
   ],
   "source": [
    "users.info()"
   ]
  },
  {
   "cell_type": "code",
   "execution_count": 58,
   "metadata": {},
   "outputs": [],
   "source": [
    "users_group=users.pivot_table(index='user_id', values=['plan','reg_date','churn_date'], aggfunc='first').reset_index()"
   ]
  },
  {
   "cell_type": "code",
   "execution_count": 59,
   "metadata": {},
   "outputs": [
    {
     "data": {
      "text/html": [
       "<div>\n",
       "<style scoped>\n",
       "    .dataframe tbody tr th:only-of-type {\n",
       "        vertical-align: middle;\n",
       "    }\n",
       "\n",
       "    .dataframe tbody tr th {\n",
       "        vertical-align: top;\n",
       "    }\n",
       "\n",
       "    .dataframe thead th {\n",
       "        text-align: right;\n",
       "    }\n",
       "</style>\n",
       "<table border=\"1\" class=\"dataframe\">\n",
       "  <thead>\n",
       "    <tr style=\"text-align: right;\">\n",
       "      <th></th>\n",
       "      <th>user_id</th>\n",
       "      <th>churn_date</th>\n",
       "      <th>plan</th>\n",
       "      <th>reg_date</th>\n",
       "    </tr>\n",
       "  </thead>\n",
       "  <tbody>\n",
       "    <tr>\n",
       "      <th>0</th>\n",
       "      <td>1000</td>\n",
       "      <td>NaN</td>\n",
       "      <td>ultimate</td>\n",
       "      <td>2018-12-24</td>\n",
       "    </tr>\n",
       "    <tr>\n",
       "      <th>1</th>\n",
       "      <td>1001</td>\n",
       "      <td>NaN</td>\n",
       "      <td>surf</td>\n",
       "      <td>2018-08-13</td>\n",
       "    </tr>\n",
       "    <tr>\n",
       "      <th>2</th>\n",
       "      <td>1002</td>\n",
       "      <td>NaN</td>\n",
       "      <td>surf</td>\n",
       "      <td>2018-10-21</td>\n",
       "    </tr>\n",
       "    <tr>\n",
       "      <th>3</th>\n",
       "      <td>1003</td>\n",
       "      <td>NaN</td>\n",
       "      <td>surf</td>\n",
       "      <td>2018-01-28</td>\n",
       "    </tr>\n",
       "    <tr>\n",
       "      <th>4</th>\n",
       "      <td>1004</td>\n",
       "      <td>NaN</td>\n",
       "      <td>surf</td>\n",
       "      <td>2018-05-23</td>\n",
       "    </tr>\n",
       "  </tbody>\n",
       "</table>\n",
       "</div>"
      ],
      "text/plain": [
       "   user_id churn_date      plan    reg_date\n",
       "0     1000        NaN  ultimate  2018-12-24\n",
       "1     1001        NaN      surf  2018-08-13\n",
       "2     1002        NaN      surf  2018-10-21\n",
       "3     1003        NaN      surf  2018-01-28\n",
       "4     1004        NaN      surf  2018-05-23"
      ]
     },
     "execution_count": 59,
     "metadata": {},
     "output_type": "execute_result"
    }
   ],
   "source": [
    "users_group.head(5)"
   ]
  },
  {
   "cell_type": "code",
   "execution_count": 60,
   "metadata": {},
   "outputs": [],
   "source": [
    "data= pd.merge(left = total2 , right = users_group, how='left',on='user_id')"
   ]
  },
  {
   "cell_type": "code",
   "execution_count": 61,
   "metadata": {
    "scrolled": true
   },
   "outputs": [
    {
     "data": {
      "text/html": [
       "<div>\n",
       "<style scoped>\n",
       "    .dataframe tbody tr th:only-of-type {\n",
       "        vertical-align: middle;\n",
       "    }\n",
       "\n",
       "    .dataframe tbody tr th {\n",
       "        vertical-align: top;\n",
       "    }\n",
       "\n",
       "    .dataframe thead th {\n",
       "        text-align: right;\n",
       "    }\n",
       "</style>\n",
       "<table border=\"1\" class=\"dataframe\">\n",
       "  <thead>\n",
       "    <tr style=\"text-align: right;\">\n",
       "      <th></th>\n",
       "      <th>user_id</th>\n",
       "      <th>month</th>\n",
       "      <th>internet</th>\n",
       "      <th>number_of _calls</th>\n",
       "      <th>duration</th>\n",
       "      <th>messages</th>\n",
       "      <th>churn_date</th>\n",
       "      <th>plan</th>\n",
       "      <th>reg_date</th>\n",
       "    </tr>\n",
       "  </thead>\n",
       "  <tbody>\n",
       "    <tr>\n",
       "      <th>0</th>\n",
       "      <td>1000</td>\n",
       "      <td>12</td>\n",
       "      <td>2.0</td>\n",
       "      <td>16.0</td>\n",
       "      <td>124.0</td>\n",
       "      <td>11.0</td>\n",
       "      <td>NaN</td>\n",
       "      <td>ultimate</td>\n",
       "      <td>2018-12-24</td>\n",
       "    </tr>\n",
       "    <tr>\n",
       "      <th>1</th>\n",
       "      <td>1001</td>\n",
       "      <td>8</td>\n",
       "      <td>7.0</td>\n",
       "      <td>22.0</td>\n",
       "      <td>182.0</td>\n",
       "      <td>30.0</td>\n",
       "      <td>NaN</td>\n",
       "      <td>surf</td>\n",
       "      <td>2018-08-13</td>\n",
       "    </tr>\n",
       "    <tr>\n",
       "      <th>2</th>\n",
       "      <td>1001</td>\n",
       "      <td>9</td>\n",
       "      <td>14.0</td>\n",
       "      <td>38.0</td>\n",
       "      <td>315.0</td>\n",
       "      <td>44.0</td>\n",
       "      <td>NaN</td>\n",
       "      <td>surf</td>\n",
       "      <td>2018-08-13</td>\n",
       "    </tr>\n",
       "    <tr>\n",
       "      <th>3</th>\n",
       "      <td>1001</td>\n",
       "      <td>10</td>\n",
       "      <td>23.0</td>\n",
       "      <td>47.0</td>\n",
       "      <td>393.0</td>\n",
       "      <td>53.0</td>\n",
       "      <td>NaN</td>\n",
       "      <td>surf</td>\n",
       "      <td>2018-08-13</td>\n",
       "    </tr>\n",
       "    <tr>\n",
       "      <th>4</th>\n",
       "      <td>1001</td>\n",
       "      <td>11</td>\n",
       "      <td>19.0</td>\n",
       "      <td>49.0</td>\n",
       "      <td>426.0</td>\n",
       "      <td>36.0</td>\n",
       "      <td>NaN</td>\n",
       "      <td>surf</td>\n",
       "      <td>2018-08-13</td>\n",
       "    </tr>\n",
       "  </tbody>\n",
       "</table>\n",
       "</div>"
      ],
      "text/plain": [
       "   user_id  month  internet  number_of _calls  duration  messages churn_date  \\\n",
       "0     1000     12       2.0              16.0     124.0      11.0        NaN   \n",
       "1     1001      8       7.0              22.0     182.0      30.0        NaN   \n",
       "2     1001      9      14.0              38.0     315.0      44.0        NaN   \n",
       "3     1001     10      23.0              47.0     393.0      53.0        NaN   \n",
       "4     1001     11      19.0              49.0     426.0      36.0        NaN   \n",
       "\n",
       "       plan    reg_date  \n",
       "0  ultimate  2018-12-24  \n",
       "1      surf  2018-08-13  \n",
       "2      surf  2018-08-13  \n",
       "3      surf  2018-08-13  \n",
       "4      surf  2018-08-13  "
      ]
     },
     "execution_count": 61,
     "metadata": {},
     "output_type": "execute_result"
    }
   ],
   "source": [
    "data.head(5)"
   ]
  },
  {
   "cell_type": "code",
   "execution_count": 62,
   "metadata": {},
   "outputs": [],
   "source": [
    "def cost(row):\n",
    "    \n",
    "    plan=row['plan']\n",
    "    internet=row['internet']\n",
    "    duration=row['duration']\n",
    "    message=row['messages']\n",
    "    \n",
    "\n",
    "    if plan=='surf':\n",
    "        \n",
    "        monthly_income=20\n",
    "        \n",
    "        if internet>15:\n",
    "            internet_cost=(internet-15)*10\n",
    "        else:\n",
    "            internet_cost=0\n",
    "    \n",
    "    \n",
    "        if duration>500:\n",
    "            call_cost=(duration-500)*0.03\n",
    "        else:\n",
    "            call_cost=0\n",
    "    \n",
    "        if message>50:\n",
    "            message_cost=(message-50)*0.03\n",
    "        else:\n",
    "            message_cost=0\n",
    "            \n",
    "        \n",
    "    elif plan=='ultimate':\n",
    "        \n",
    "        monthly_income=70\n",
    "        \n",
    "        if internet>30:\n",
    "            internet_cost=(internet-30)*7\n",
    "        else:\n",
    "            internet_cost=0\n",
    "    \n",
    "    \n",
    "        if duration>3000:\n",
    "            call_cost=(duration-3000)*0.01\n",
    "        else:\n",
    "            call_cost=0\n",
    "    \n",
    "        if message>1000:\n",
    "            message_cost=(message-1000)*0.01\n",
    "        else:\n",
    "            message_cost=0\n",
    "     \n",
    "    total_cost= monthly_income +internet_cost+ call_cost+ message_cost\n",
    "    return total_cost"
   ]
  },
  {
   "cell_type": "code",
   "execution_count": 63,
   "metadata": {
    "scrolled": true
   },
   "outputs": [
    {
     "data": {
      "text/html": [
       "<div>\n",
       "<style scoped>\n",
       "    .dataframe tbody tr th:only-of-type {\n",
       "        vertical-align: middle;\n",
       "    }\n",
       "\n",
       "    .dataframe tbody tr th {\n",
       "        vertical-align: top;\n",
       "    }\n",
       "\n",
       "    .dataframe thead th {\n",
       "        text-align: right;\n",
       "    }\n",
       "</style>\n",
       "<table border=\"1\" class=\"dataframe\">\n",
       "  <thead>\n",
       "    <tr style=\"text-align: right;\">\n",
       "      <th></th>\n",
       "      <th>user_id</th>\n",
       "      <th>month</th>\n",
       "      <th>internet</th>\n",
       "      <th>number_of _calls</th>\n",
       "      <th>duration</th>\n",
       "      <th>messages</th>\n",
       "      <th>churn_date</th>\n",
       "      <th>plan</th>\n",
       "      <th>reg_date</th>\n",
       "      <th>revenue</th>\n",
       "    </tr>\n",
       "  </thead>\n",
       "  <tbody>\n",
       "    <tr>\n",
       "      <th>0</th>\n",
       "      <td>1000</td>\n",
       "      <td>12</td>\n",
       "      <td>2.0</td>\n",
       "      <td>16.0</td>\n",
       "      <td>124.0</td>\n",
       "      <td>11.0</td>\n",
       "      <td>NaN</td>\n",
       "      <td>ultimate</td>\n",
       "      <td>2018-12-24</td>\n",
       "      <td>70.00</td>\n",
       "    </tr>\n",
       "    <tr>\n",
       "      <th>1</th>\n",
       "      <td>1001</td>\n",
       "      <td>8</td>\n",
       "      <td>7.0</td>\n",
       "      <td>22.0</td>\n",
       "      <td>182.0</td>\n",
       "      <td>30.0</td>\n",
       "      <td>NaN</td>\n",
       "      <td>surf</td>\n",
       "      <td>2018-08-13</td>\n",
       "      <td>20.00</td>\n",
       "    </tr>\n",
       "    <tr>\n",
       "      <th>2</th>\n",
       "      <td>1001</td>\n",
       "      <td>9</td>\n",
       "      <td>14.0</td>\n",
       "      <td>38.0</td>\n",
       "      <td>315.0</td>\n",
       "      <td>44.0</td>\n",
       "      <td>NaN</td>\n",
       "      <td>surf</td>\n",
       "      <td>2018-08-13</td>\n",
       "      <td>20.00</td>\n",
       "    </tr>\n",
       "    <tr>\n",
       "      <th>3</th>\n",
       "      <td>1001</td>\n",
       "      <td>10</td>\n",
       "      <td>23.0</td>\n",
       "      <td>47.0</td>\n",
       "      <td>393.0</td>\n",
       "      <td>53.0</td>\n",
       "      <td>NaN</td>\n",
       "      <td>surf</td>\n",
       "      <td>2018-08-13</td>\n",
       "      <td>100.09</td>\n",
       "    </tr>\n",
       "    <tr>\n",
       "      <th>4</th>\n",
       "      <td>1001</td>\n",
       "      <td>11</td>\n",
       "      <td>19.0</td>\n",
       "      <td>49.0</td>\n",
       "      <td>426.0</td>\n",
       "      <td>36.0</td>\n",
       "      <td>NaN</td>\n",
       "      <td>surf</td>\n",
       "      <td>2018-08-13</td>\n",
       "      <td>60.00</td>\n",
       "    </tr>\n",
       "  </tbody>\n",
       "</table>\n",
       "</div>"
      ],
      "text/plain": [
       "   user_id  month  internet  number_of _calls  duration  messages churn_date  \\\n",
       "0     1000     12       2.0              16.0     124.0      11.0        NaN   \n",
       "1     1001      8       7.0              22.0     182.0      30.0        NaN   \n",
       "2     1001      9      14.0              38.0     315.0      44.0        NaN   \n",
       "3     1001     10      23.0              47.0     393.0      53.0        NaN   \n",
       "4     1001     11      19.0              49.0     426.0      36.0        NaN   \n",
       "\n",
       "       plan    reg_date  revenue  \n",
       "0  ultimate  2018-12-24    70.00  \n",
       "1      surf  2018-08-13    20.00  \n",
       "2      surf  2018-08-13    20.00  \n",
       "3      surf  2018-08-13   100.09  \n",
       "4      surf  2018-08-13    60.00  "
      ]
     },
     "execution_count": 63,
     "metadata": {},
     "output_type": "execute_result"
    }
   ],
   "source": [
    "data['revenue']=data.apply(cost, axis=1)\n",
    "data.head(5)"
   ]
  },
  {
   "cell_type": "code",
   "execution_count": 64,
   "metadata": {
    "scrolled": true
   },
   "outputs": [],
   "source": [
    "data['month_reg']=pd.DatetimeIndex(data['reg_date']).month"
   ]
  },
  {
   "cell_type": "code",
   "execution_count": 65,
   "metadata": {},
   "outputs": [
    {
     "data": {
      "text/html": [
       "<div>\n",
       "<style scoped>\n",
       "    .dataframe tbody tr th:only-of-type {\n",
       "        vertical-align: middle;\n",
       "    }\n",
       "\n",
       "    .dataframe tbody tr th {\n",
       "        vertical-align: top;\n",
       "    }\n",
       "\n",
       "    .dataframe thead th {\n",
       "        text-align: right;\n",
       "    }\n",
       "</style>\n",
       "<table border=\"1\" class=\"dataframe\">\n",
       "  <thead>\n",
       "    <tr style=\"text-align: right;\">\n",
       "      <th></th>\n",
       "      <th>user_id</th>\n",
       "      <th>month</th>\n",
       "      <th>internet</th>\n",
       "      <th>number_of _calls</th>\n",
       "      <th>duration</th>\n",
       "      <th>messages</th>\n",
       "      <th>churn_date</th>\n",
       "      <th>plan</th>\n",
       "      <th>reg_date</th>\n",
       "      <th>revenue</th>\n",
       "      <th>month_reg</th>\n",
       "      <th>month_churn</th>\n",
       "    </tr>\n",
       "  </thead>\n",
       "  <tbody>\n",
       "    <tr>\n",
       "      <th>0</th>\n",
       "      <td>1000</td>\n",
       "      <td>12</td>\n",
       "      <td>2.0</td>\n",
       "      <td>16.0</td>\n",
       "      <td>124.0</td>\n",
       "      <td>11.0</td>\n",
       "      <td>NaN</td>\n",
       "      <td>ultimate</td>\n",
       "      <td>2018-12-24</td>\n",
       "      <td>70.00</td>\n",
       "      <td>12</td>\n",
       "      <td>NaN</td>\n",
       "    </tr>\n",
       "    <tr>\n",
       "      <th>1</th>\n",
       "      <td>1001</td>\n",
       "      <td>8</td>\n",
       "      <td>7.0</td>\n",
       "      <td>22.0</td>\n",
       "      <td>182.0</td>\n",
       "      <td>30.0</td>\n",
       "      <td>NaN</td>\n",
       "      <td>surf</td>\n",
       "      <td>2018-08-13</td>\n",
       "      <td>20.00</td>\n",
       "      <td>8</td>\n",
       "      <td>NaN</td>\n",
       "    </tr>\n",
       "    <tr>\n",
       "      <th>2</th>\n",
       "      <td>1001</td>\n",
       "      <td>9</td>\n",
       "      <td>14.0</td>\n",
       "      <td>38.0</td>\n",
       "      <td>315.0</td>\n",
       "      <td>44.0</td>\n",
       "      <td>NaN</td>\n",
       "      <td>surf</td>\n",
       "      <td>2018-08-13</td>\n",
       "      <td>20.00</td>\n",
       "      <td>8</td>\n",
       "      <td>NaN</td>\n",
       "    </tr>\n",
       "    <tr>\n",
       "      <th>3</th>\n",
       "      <td>1001</td>\n",
       "      <td>10</td>\n",
       "      <td>23.0</td>\n",
       "      <td>47.0</td>\n",
       "      <td>393.0</td>\n",
       "      <td>53.0</td>\n",
       "      <td>NaN</td>\n",
       "      <td>surf</td>\n",
       "      <td>2018-08-13</td>\n",
       "      <td>100.09</td>\n",
       "      <td>8</td>\n",
       "      <td>NaN</td>\n",
       "    </tr>\n",
       "    <tr>\n",
       "      <th>4</th>\n",
       "      <td>1001</td>\n",
       "      <td>11</td>\n",
       "      <td>19.0</td>\n",
       "      <td>49.0</td>\n",
       "      <td>426.0</td>\n",
       "      <td>36.0</td>\n",
       "      <td>NaN</td>\n",
       "      <td>surf</td>\n",
       "      <td>2018-08-13</td>\n",
       "      <td>60.00</td>\n",
       "      <td>8</td>\n",
       "      <td>NaN</td>\n",
       "    </tr>\n",
       "  </tbody>\n",
       "</table>\n",
       "</div>"
      ],
      "text/plain": [
       "   user_id  month  internet  number_of _calls  duration  messages churn_date  \\\n",
       "0     1000     12       2.0              16.0     124.0      11.0        NaN   \n",
       "1     1001      8       7.0              22.0     182.0      30.0        NaN   \n",
       "2     1001      9      14.0              38.0     315.0      44.0        NaN   \n",
       "3     1001     10      23.0              47.0     393.0      53.0        NaN   \n",
       "4     1001     11      19.0              49.0     426.0      36.0        NaN   \n",
       "\n",
       "       plan    reg_date  revenue  month_reg  month_churn  \n",
       "0  ultimate  2018-12-24    70.00         12          NaN  \n",
       "1      surf  2018-08-13    20.00          8          NaN  \n",
       "2      surf  2018-08-13    20.00          8          NaN  \n",
       "3      surf  2018-08-13   100.09          8          NaN  \n",
       "4      surf  2018-08-13    60.00          8          NaN  "
      ]
     },
     "execution_count": 65,
     "metadata": {},
     "output_type": "execute_result"
    }
   ],
   "source": [
    "data['month_churn']=pd.DatetimeIndex(data['churn_date']).month\n",
    "data.head(5)"
   ]
  },
  {
   "cell_type": "code",
   "execution_count": 66,
   "metadata": {},
   "outputs": [
    {
     "data": {
      "text/html": [
       "<div>\n",
       "<style scoped>\n",
       "    .dataframe tbody tr th:only-of-type {\n",
       "        vertical-align: middle;\n",
       "    }\n",
       "\n",
       "    .dataframe tbody tr th {\n",
       "        vertical-align: top;\n",
       "    }\n",
       "\n",
       "    .dataframe thead th {\n",
       "        text-align: right;\n",
       "    }\n",
       "</style>\n",
       "<table border=\"1\" class=\"dataframe\">\n",
       "  <thead>\n",
       "    <tr style=\"text-align: right;\">\n",
       "      <th></th>\n",
       "      <th>user_id</th>\n",
       "      <th>month</th>\n",
       "      <th>internet</th>\n",
       "      <th>number_of _calls</th>\n",
       "      <th>duration</th>\n",
       "      <th>messages</th>\n",
       "      <th>churn_date</th>\n",
       "      <th>plan</th>\n",
       "      <th>reg_date</th>\n",
       "      <th>revenue</th>\n",
       "      <th>month_reg</th>\n",
       "      <th>month_churn</th>\n",
       "    </tr>\n",
       "  </thead>\n",
       "  <tbody>\n",
       "  </tbody>\n",
       "</table>\n",
       "</div>"
      ],
      "text/plain": [
       "Empty DataFrame\n",
       "Columns: [user_id, month, internet, number_of _calls, duration, messages, churn_date, plan, reg_date, revenue, month_reg, month_churn]\n",
       "Index: []"
      ]
     },
     "execution_count": 66,
     "metadata": {},
     "output_type": "execute_result"
    }
   ],
   "source": [
    "data.query('month_reg>month')"
   ]
  },
  {
   "cell_type": "code",
   "execution_count": 67,
   "metadata": {},
   "outputs": [
    {
     "data": {
      "text/html": [
       "<div>\n",
       "<style scoped>\n",
       "    .dataframe tbody tr th:only-of-type {\n",
       "        vertical-align: middle;\n",
       "    }\n",
       "\n",
       "    .dataframe tbody tr th {\n",
       "        vertical-align: top;\n",
       "    }\n",
       "\n",
       "    .dataframe thead th {\n",
       "        text-align: right;\n",
       "    }\n",
       "</style>\n",
       "<table border=\"1\" class=\"dataframe\">\n",
       "  <thead>\n",
       "    <tr style=\"text-align: right;\">\n",
       "      <th></th>\n",
       "      <th>user_id</th>\n",
       "      <th>month</th>\n",
       "      <th>internet</th>\n",
       "      <th>number_of _calls</th>\n",
       "      <th>duration</th>\n",
       "      <th>messages</th>\n",
       "      <th>churn_date</th>\n",
       "      <th>plan</th>\n",
       "      <th>reg_date</th>\n",
       "      <th>revenue</th>\n",
       "      <th>month_reg</th>\n",
       "      <th>month_churn</th>\n",
       "    </tr>\n",
       "  </thead>\n",
       "  <tbody>\n",
       "  </tbody>\n",
       "</table>\n",
       "</div>"
      ],
      "text/plain": [
       "Empty DataFrame\n",
       "Columns: [user_id, month, internet, number_of _calls, duration, messages, churn_date, plan, reg_date, revenue, month_reg, month_churn]\n",
       "Index: []"
      ]
     },
     "execution_count": 67,
     "metadata": {},
     "output_type": "execute_result"
    }
   ],
   "source": [
    "data.query('month_churn<month_reg')"
   ]
  },
  {
   "cell_type": "code",
   "execution_count": 68,
   "metadata": {},
   "outputs": [
    {
     "data": {
      "text/html": [
       "<div>\n",
       "<style scoped>\n",
       "    .dataframe tbody tr th:only-of-type {\n",
       "        vertical-align: middle;\n",
       "    }\n",
       "\n",
       "    .dataframe tbody tr th {\n",
       "        vertical-align: top;\n",
       "    }\n",
       "\n",
       "    .dataframe thead th {\n",
       "        text-align: right;\n",
       "    }\n",
       "</style>\n",
       "<table border=\"1\" class=\"dataframe\">\n",
       "  <thead>\n",
       "    <tr style=\"text-align: right;\">\n",
       "      <th></th>\n",
       "      <th>user_id</th>\n",
       "      <th>month</th>\n",
       "      <th>internet</th>\n",
       "      <th>number_of _calls</th>\n",
       "      <th>duration</th>\n",
       "      <th>messages</th>\n",
       "      <th>churn_date</th>\n",
       "      <th>plan</th>\n",
       "      <th>reg_date</th>\n",
       "      <th>revenue</th>\n",
       "      <th>month_reg</th>\n",
       "      <th>month_churn</th>\n",
       "    </tr>\n",
       "  </thead>\n",
       "  <tbody>\n",
       "    <tr>\n",
       "      <th>54</th>\n",
       "      <td>1012</td>\n",
       "      <td>12</td>\n",
       "      <td>12.0</td>\n",
       "      <td>12.0</td>\n",
       "      <td>78.0</td>\n",
       "      <td>0.0</td>\n",
       "      <td>2018-11-16</td>\n",
       "      <td>surf</td>\n",
       "      <td>2018-06-28</td>\n",
       "      <td>20.00</td>\n",
       "      <td>6</td>\n",
       "      <td>11.0</td>\n",
       "    </tr>\n",
       "    <tr>\n",
       "      <th>80</th>\n",
       "      <td>1022</td>\n",
       "      <td>10</td>\n",
       "      <td>19.0</td>\n",
       "      <td>69.0</td>\n",
       "      <td>574.0</td>\n",
       "      <td>0.0</td>\n",
       "      <td>2018-09-07</td>\n",
       "      <td>surf</td>\n",
       "      <td>2018-04-20</td>\n",
       "      <td>62.22</td>\n",
       "      <td>4</td>\n",
       "      <td>9.0</td>\n",
       "    </tr>\n",
       "    <tr>\n",
       "      <th>81</th>\n",
       "      <td>1022</td>\n",
       "      <td>11</td>\n",
       "      <td>23.0</td>\n",
       "      <td>61.0</td>\n",
       "      <td>498.0</td>\n",
       "      <td>0.0</td>\n",
       "      <td>2018-09-07</td>\n",
       "      <td>surf</td>\n",
       "      <td>2018-04-20</td>\n",
       "      <td>100.00</td>\n",
       "      <td>4</td>\n",
       "      <td>9.0</td>\n",
       "    </tr>\n",
       "    <tr>\n",
       "      <th>82</th>\n",
       "      <td>1022</td>\n",
       "      <td>12</td>\n",
       "      <td>19.0</td>\n",
       "      <td>62.0</td>\n",
       "      <td>585.0</td>\n",
       "      <td>0.0</td>\n",
       "      <td>2018-09-07</td>\n",
       "      <td>surf</td>\n",
       "      <td>2018-04-20</td>\n",
       "      <td>62.55</td>\n",
       "      <td>4</td>\n",
       "      <td>9.0</td>\n",
       "    </tr>\n",
       "    <tr>\n",
       "      <th>212</th>\n",
       "      <td>1050</td>\n",
       "      <td>11</td>\n",
       "      <td>15.0</td>\n",
       "      <td>49.0</td>\n",
       "      <td>413.0</td>\n",
       "      <td>0.0</td>\n",
       "      <td>2018-10-07</td>\n",
       "      <td>ultimate</td>\n",
       "      <td>2018-03-20</td>\n",
       "      <td>70.00</td>\n",
       "      <td>3</td>\n",
       "      <td>10.0</td>\n",
       "    </tr>\n",
       "    <tr>\n",
       "      <th>213</th>\n",
       "      <td>1050</td>\n",
       "      <td>12</td>\n",
       "      <td>18.0</td>\n",
       "      <td>38.0</td>\n",
       "      <td>299.0</td>\n",
       "      <td>0.0</td>\n",
       "      <td>2018-10-07</td>\n",
       "      <td>ultimate</td>\n",
       "      <td>2018-03-20</td>\n",
       "      <td>70.00</td>\n",
       "      <td>3</td>\n",
       "      <td>10.0</td>\n",
       "    </tr>\n",
       "    <tr>\n",
       "      <th>311</th>\n",
       "      <td>1067</td>\n",
       "      <td>12</td>\n",
       "      <td>16.0</td>\n",
       "      <td>38.0</td>\n",
       "      <td>344.0</td>\n",
       "      <td>20.0</td>\n",
       "      <td>2018-11-24</td>\n",
       "      <td>surf</td>\n",
       "      <td>2018-09-24</td>\n",
       "      <td>30.00</td>\n",
       "      <td>9</td>\n",
       "      <td>11.0</td>\n",
       "    </tr>\n",
       "    <tr>\n",
       "      <th>408</th>\n",
       "      <td>1084</td>\n",
       "      <td>12</td>\n",
       "      <td>28.0</td>\n",
       "      <td>78.0</td>\n",
       "      <td>720.0</td>\n",
       "      <td>81.0</td>\n",
       "      <td>2018-11-11</td>\n",
       "      <td>surf</td>\n",
       "      <td>2018-06-04</td>\n",
       "      <td>157.53</td>\n",
       "      <td>6</td>\n",
       "      <td>11.0</td>\n",
       "    </tr>\n",
       "    <tr>\n",
       "      <th>503</th>\n",
       "      <td>1106</td>\n",
       "      <td>12</td>\n",
       "      <td>23.0</td>\n",
       "      <td>61.0</td>\n",
       "      <td>569.0</td>\n",
       "      <td>0.0</td>\n",
       "      <td>2018-11-14</td>\n",
       "      <td>surf</td>\n",
       "      <td>2018-05-10</td>\n",
       "      <td>102.07</td>\n",
       "      <td>5</td>\n",
       "      <td>11.0</td>\n",
       "    </tr>\n",
       "    <tr>\n",
       "      <th>829</th>\n",
       "      <td>1172</td>\n",
       "      <td>12</td>\n",
       "      <td>24.0</td>\n",
       "      <td>77.0</td>\n",
       "      <td>711.0</td>\n",
       "      <td>117.0</td>\n",
       "      <td>2018-11-29</td>\n",
       "      <td>surf</td>\n",
       "      <td>2018-03-30</td>\n",
       "      <td>118.34</td>\n",
       "      <td>3</td>\n",
       "      <td>11.0</td>\n",
       "    </tr>\n",
       "  </tbody>\n",
       "</table>\n",
       "</div>"
      ],
      "text/plain": [
       "     user_id  month  internet  number_of _calls  duration  messages  \\\n",
       "54      1012     12      12.0              12.0      78.0       0.0   \n",
       "80      1022     10      19.0              69.0     574.0       0.0   \n",
       "81      1022     11      23.0              61.0     498.0       0.0   \n",
       "82      1022     12      19.0              62.0     585.0       0.0   \n",
       "212     1050     11      15.0              49.0     413.0       0.0   \n",
       "213     1050     12      18.0              38.0     299.0       0.0   \n",
       "311     1067     12      16.0              38.0     344.0      20.0   \n",
       "408     1084     12      28.0              78.0     720.0      81.0   \n",
       "503     1106     12      23.0              61.0     569.0       0.0   \n",
       "829     1172     12      24.0              77.0     711.0     117.0   \n",
       "\n",
       "     churn_date      plan    reg_date  revenue  month_reg  month_churn  \n",
       "54   2018-11-16      surf  2018-06-28    20.00          6         11.0  \n",
       "80   2018-09-07      surf  2018-04-20    62.22          4          9.0  \n",
       "81   2018-09-07      surf  2018-04-20   100.00          4          9.0  \n",
       "82   2018-09-07      surf  2018-04-20    62.55          4          9.0  \n",
       "212  2018-10-07  ultimate  2018-03-20    70.00          3         10.0  \n",
       "213  2018-10-07  ultimate  2018-03-20    70.00          3         10.0  \n",
       "311  2018-11-24      surf  2018-09-24    30.00          9         11.0  \n",
       "408  2018-11-11      surf  2018-06-04   157.53          6         11.0  \n",
       "503  2018-11-14      surf  2018-05-10   102.07          5         11.0  \n",
       "829  2018-11-29      surf  2018-03-30   118.34          3         11.0  "
      ]
     },
     "execution_count": 68,
     "metadata": {},
     "output_type": "execute_result"
    }
   ],
   "source": [
    "data.query('month_churn<month').head(10)"
   ]
  },
  {
   "cell_type": "code",
   "execution_count": 69,
   "metadata": {},
   "outputs": [
    {
     "data": {
      "text/plain": [
       "37"
      ]
     },
     "execution_count": 69,
     "metadata": {},
     "output_type": "execute_result"
    }
   ],
   "source": [
    "len(data.query('month_churn<month'))"
   ]
  },
  {
   "cell_type": "code",
   "execution_count": 70,
   "metadata": {},
   "outputs": [
    {
     "data": {
      "text/plain": [
       "0.016136066288704752"
      ]
     },
     "execution_count": 70,
     "metadata": {},
     "output_type": "execute_result"
    }
   ],
   "source": [
    "len(data.query('month_churn<month'))/len(data)"
   ]
  },
  {
   "cell_type": "code",
   "execution_count": 71,
   "metadata": {},
   "outputs": [
    {
     "data": {
      "text/plain": [
       "2293"
      ]
     },
     "execution_count": 71,
     "metadata": {},
     "output_type": "execute_result"
    }
   ],
   "source": [
    "len(data)"
   ]
  },
  {
   "cell_type": "code",
   "execution_count": 72,
   "metadata": {},
   "outputs": [],
   "source": [
    "data=data.query('month_churn==\"NaN\" or month_churn>=month ')"
   ]
  },
  {
   "cell_type": "markdown",
   "metadata": {},
   "source": [
    "## Conclusion"
   ]
  },
  {
   "cell_type": "markdown",
   "metadata": {},
   "source": [
    "<font color=\"blue\"> \n",
    "    \n",
    "**Missing values**\n",
    "    \n",
    "In the table users we have only in the column `churn_date` missing values, which is not really missing values, it just means that the user is still using the service. So we do not need to fill in the data.  \n",
    "    \n",
    "**Data types**\n",
    "    \n",
    "We convert columns related to date into datetime format.\n",
    "We convert columns `user_id` to object, because they aren't numbers.\n",
    "\n",
    "For calls, each individual call is rounded up. we round up the duration column.\n",
    "\n",
    "**Find and eliminate errors in the data**  \n",
    "    \n",
    "In the initial data analysis, we see that there is an abnormal peak at zero for the histogram of call duration. They are probably Missed calls. The percentage of this data is about 19%. Although it is a high percentage, because our goal is to calculate and analyze the company's revenue, so the missed calls(0 values) will not affect our analysis. Examining the histogram before and after deleting this data, we see that the general shape of the graph is the same, the consumption peak does not change and only the mean and median increase (the graph moves slightly to the right). So we decide to delete the data.   \n",
    "    \n",
    "We see that for the Internet histogram there is also an abnormal peak at zero. They may be due to a mistake in entering information or connecting to the Internet, but the user refuses to continue using. The percentage of this data is about 13%. Although the percentage is high, our goal is to calculate and analyze the company's revenue, so unused Internet (value 0) will not affect our calculations. Examining the histogram before and after deleting this data, we see that the general shape of the chart is the same, the peak consumption does not change and only the mean and median increase (the chart moves slightly to the right). So we decide to delete this data too.  \n",
    "    \n",
    "We see that in 37 cases there is data for user consumption while the service usage date has expired! This is illogical data. Although there may be a mistake in entering the data, but because there are not many of them, we can ignore them.    \n",
    "    \n",
    "**Merging tables and calculating the average monthley usage and revenue for each user** \n",
    "    \n",
    "Then we first group the tables: call, internet and message, based on the 'user-id' and 'months' of consumption. For web traffic, the total for the month is rounded up, so we round up the internet column. Then merge them together so that we can continue the next calculations.  \n",
    "\n",
    "In the next step, we calculate the average costs(revenue) for each user based on the plan(surf or ultimate) they used and add them through a new column to the table.    "
   ]
  },
  {
   "cell_type": "markdown",
   "metadata": {},
   "source": [
    "<a id=\"surf\"></a>\n",
    "<a id=\"ultimate\"></a>\n",
    "## Step 3. Analyze the data"
   ]
  },
  {
   "cell_type": "code",
   "execution_count": 73,
   "metadata": {},
   "outputs": [
    {
     "data": {
      "text/plain": [
       "surf        1548\n",
       "ultimate     708\n",
       "Name: plan, dtype: int64"
      ]
     },
     "execution_count": 73,
     "metadata": {},
     "output_type": "execute_result"
    }
   ],
   "source": [
    "data.plan.value_counts()"
   ]
  },
  {
   "cell_type": "code",
   "execution_count": 74,
   "metadata": {},
   "outputs": [
    {
     "data": {
      "text/html": [
       "<div>\n",
       "<style scoped>\n",
       "    .dataframe tbody tr th:only-of-type {\n",
       "        vertical-align: middle;\n",
       "    }\n",
       "\n",
       "    .dataframe tbody tr th {\n",
       "        vertical-align: top;\n",
       "    }\n",
       "\n",
       "    .dataframe thead th {\n",
       "        text-align: right;\n",
       "    }\n",
       "</style>\n",
       "<table border=\"1\" class=\"dataframe\">\n",
       "  <thead>\n",
       "    <tr style=\"text-align: right;\">\n",
       "      <th></th>\n",
       "      <th>user_id</th>\n",
       "      <th>month</th>\n",
       "      <th>internet</th>\n",
       "      <th>number_of _calls</th>\n",
       "      <th>duration</th>\n",
       "      <th>messages</th>\n",
       "      <th>churn_date</th>\n",
       "      <th>plan</th>\n",
       "      <th>reg_date</th>\n",
       "      <th>revenue</th>\n",
       "      <th>month_reg</th>\n",
       "      <th>month_churn</th>\n",
       "    </tr>\n",
       "  </thead>\n",
       "  <tbody>\n",
       "    <tr>\n",
       "      <th>1</th>\n",
       "      <td>1001</td>\n",
       "      <td>8</td>\n",
       "      <td>7.0</td>\n",
       "      <td>22.0</td>\n",
       "      <td>182.0</td>\n",
       "      <td>30.0</td>\n",
       "      <td>NaN</td>\n",
       "      <td>surf</td>\n",
       "      <td>2018-08-13</td>\n",
       "      <td>20.00</td>\n",
       "      <td>8</td>\n",
       "      <td>NaN</td>\n",
       "    </tr>\n",
       "    <tr>\n",
       "      <th>2</th>\n",
       "      <td>1001</td>\n",
       "      <td>9</td>\n",
       "      <td>14.0</td>\n",
       "      <td>38.0</td>\n",
       "      <td>315.0</td>\n",
       "      <td>44.0</td>\n",
       "      <td>NaN</td>\n",
       "      <td>surf</td>\n",
       "      <td>2018-08-13</td>\n",
       "      <td>20.00</td>\n",
       "      <td>8</td>\n",
       "      <td>NaN</td>\n",
       "    </tr>\n",
       "    <tr>\n",
       "      <th>3</th>\n",
       "      <td>1001</td>\n",
       "      <td>10</td>\n",
       "      <td>23.0</td>\n",
       "      <td>47.0</td>\n",
       "      <td>393.0</td>\n",
       "      <td>53.0</td>\n",
       "      <td>NaN</td>\n",
       "      <td>surf</td>\n",
       "      <td>2018-08-13</td>\n",
       "      <td>100.09</td>\n",
       "      <td>8</td>\n",
       "      <td>NaN</td>\n",
       "    </tr>\n",
       "    <tr>\n",
       "      <th>4</th>\n",
       "      <td>1001</td>\n",
       "      <td>11</td>\n",
       "      <td>19.0</td>\n",
       "      <td>49.0</td>\n",
       "      <td>426.0</td>\n",
       "      <td>36.0</td>\n",
       "      <td>NaN</td>\n",
       "      <td>surf</td>\n",
       "      <td>2018-08-13</td>\n",
       "      <td>60.00</td>\n",
       "      <td>8</td>\n",
       "      <td>NaN</td>\n",
       "    </tr>\n",
       "    <tr>\n",
       "      <th>5</th>\n",
       "      <td>1001</td>\n",
       "      <td>12</td>\n",
       "      <td>20.0</td>\n",
       "      <td>46.0</td>\n",
       "      <td>412.0</td>\n",
       "      <td>44.0</td>\n",
       "      <td>NaN</td>\n",
       "      <td>surf</td>\n",
       "      <td>2018-08-13</td>\n",
       "      <td>70.00</td>\n",
       "      <td>8</td>\n",
       "      <td>NaN</td>\n",
       "    </tr>\n",
       "    <tr>\n",
       "      <th>...</th>\n",
       "      <td>...</td>\n",
       "      <td>...</td>\n",
       "      <td>...</td>\n",
       "      <td>...</td>\n",
       "      <td>...</td>\n",
       "      <td>...</td>\n",
       "      <td>...</td>\n",
       "      <td>...</td>\n",
       "      <td>...</td>\n",
       "      <td>...</td>\n",
       "      <td>...</td>\n",
       "      <td>...</td>\n",
       "    </tr>\n",
       "    <tr>\n",
       "      <th>2287</th>\n",
       "      <td>1470</td>\n",
       "      <td>10</td>\n",
       "      <td>0.0</td>\n",
       "      <td>54.0</td>\n",
       "      <td>459.0</td>\n",
       "      <td>145.0</td>\n",
       "      <td>NaN</td>\n",
       "      <td>surf</td>\n",
       "      <td>2018-04-21</td>\n",
       "      <td>22.85</td>\n",
       "      <td>4</td>\n",
       "      <td>NaN</td>\n",
       "    </tr>\n",
       "    <tr>\n",
       "      <th>2288</th>\n",
       "      <td>1470</td>\n",
       "      <td>11</td>\n",
       "      <td>0.0</td>\n",
       "      <td>63.0</td>\n",
       "      <td>632.0</td>\n",
       "      <td>156.0</td>\n",
       "      <td>NaN</td>\n",
       "      <td>surf</td>\n",
       "      <td>2018-04-21</td>\n",
       "      <td>27.14</td>\n",
       "      <td>4</td>\n",
       "      <td>NaN</td>\n",
       "    </tr>\n",
       "    <tr>\n",
       "      <th>2289</th>\n",
       "      <td>1470</td>\n",
       "      <td>12</td>\n",
       "      <td>0.0</td>\n",
       "      <td>64.0</td>\n",
       "      <td>592.0</td>\n",
       "      <td>153.0</td>\n",
       "      <td>NaN</td>\n",
       "      <td>surf</td>\n",
       "      <td>2018-04-21</td>\n",
       "      <td>25.85</td>\n",
       "      <td>4</td>\n",
       "      <td>NaN</td>\n",
       "    </tr>\n",
       "    <tr>\n",
       "      <th>2290</th>\n",
       "      <td>1484</td>\n",
       "      <td>11</td>\n",
       "      <td>0.0</td>\n",
       "      <td>2.0</td>\n",
       "      <td>38.0</td>\n",
       "      <td>1.0</td>\n",
       "      <td>NaN</td>\n",
       "      <td>surf</td>\n",
       "      <td>2018-11-29</td>\n",
       "      <td>20.00</td>\n",
       "      <td>11</td>\n",
       "      <td>NaN</td>\n",
       "    </tr>\n",
       "    <tr>\n",
       "      <th>2291</th>\n",
       "      <td>1491</td>\n",
       "      <td>4</td>\n",
       "      <td>0.0</td>\n",
       "      <td>6.0</td>\n",
       "      <td>44.0</td>\n",
       "      <td>6.0</td>\n",
       "      <td>2018-09-18</td>\n",
       "      <td>surf</td>\n",
       "      <td>2018-04-27</td>\n",
       "      <td>20.00</td>\n",
       "      <td>4</td>\n",
       "      <td>9.0</td>\n",
       "    </tr>\n",
       "  </tbody>\n",
       "</table>\n",
       "<p>1548 rows × 12 columns</p>\n",
       "</div>"
      ],
      "text/plain": [
       "      user_id  month  internet  number_of _calls  duration  messages  \\\n",
       "1        1001      8       7.0              22.0     182.0      30.0   \n",
       "2        1001      9      14.0              38.0     315.0      44.0   \n",
       "3        1001     10      23.0              47.0     393.0      53.0   \n",
       "4        1001     11      19.0              49.0     426.0      36.0   \n",
       "5        1001     12      20.0              46.0     412.0      44.0   \n",
       "...       ...    ...       ...               ...       ...       ...   \n",
       "2287     1470     10       0.0              54.0     459.0     145.0   \n",
       "2288     1470     11       0.0              63.0     632.0     156.0   \n",
       "2289     1470     12       0.0              64.0     592.0     153.0   \n",
       "2290     1484     11       0.0               2.0      38.0       1.0   \n",
       "2291     1491      4       0.0               6.0      44.0       6.0   \n",
       "\n",
       "      churn_date  plan    reg_date  revenue  month_reg  month_churn  \n",
       "1            NaN  surf  2018-08-13    20.00          8          NaN  \n",
       "2            NaN  surf  2018-08-13    20.00          8          NaN  \n",
       "3            NaN  surf  2018-08-13   100.09          8          NaN  \n",
       "4            NaN  surf  2018-08-13    60.00          8          NaN  \n",
       "5            NaN  surf  2018-08-13    70.00          8          NaN  \n",
       "...          ...   ...         ...      ...        ...          ...  \n",
       "2287         NaN  surf  2018-04-21    22.85          4          NaN  \n",
       "2288         NaN  surf  2018-04-21    27.14          4          NaN  \n",
       "2289         NaN  surf  2018-04-21    25.85          4          NaN  \n",
       "2290         NaN  surf  2018-11-29    20.00         11          NaN  \n",
       "2291  2018-09-18  surf  2018-04-27    20.00          4          9.0  \n",
       "\n",
       "[1548 rows x 12 columns]"
      ]
     },
     "execution_count": 74,
     "metadata": {},
     "output_type": "execute_result"
    }
   ],
   "source": [
    "data_surf=data.query('plan==\"surf\"')\n",
    "data_surf"
   ]
  },
  {
   "cell_type": "code",
   "execution_count": 75,
   "metadata": {},
   "outputs": [
    {
     "data": {
      "text/html": [
       "<div>\n",
       "<style scoped>\n",
       "    .dataframe tbody tr th:only-of-type {\n",
       "        vertical-align: middle;\n",
       "    }\n",
       "\n",
       "    .dataframe tbody tr th {\n",
       "        vertical-align: top;\n",
       "    }\n",
       "\n",
       "    .dataframe thead th {\n",
       "        text-align: right;\n",
       "    }\n",
       "</style>\n",
       "<table border=\"1\" class=\"dataframe\">\n",
       "  <thead>\n",
       "    <tr style=\"text-align: right;\">\n",
       "      <th></th>\n",
       "      <th>user_id</th>\n",
       "      <th>month</th>\n",
       "      <th>internet</th>\n",
       "      <th>number_of _calls</th>\n",
       "      <th>duration</th>\n",
       "      <th>messages</th>\n",
       "      <th>revenue</th>\n",
       "      <th>month_reg</th>\n",
       "      <th>month_churn</th>\n",
       "    </tr>\n",
       "  </thead>\n",
       "  <tbody>\n",
       "    <tr>\n",
       "      <th>count</th>\n",
       "      <td>1548.000000</td>\n",
       "      <td>1548.000000</td>\n",
       "      <td>1548.000000</td>\n",
       "      <td>1548.000000</td>\n",
       "      <td>1548.000000</td>\n",
       "      <td>1548.000000</td>\n",
       "      <td>1548.000000</td>\n",
       "      <td>1548.000000</td>\n",
       "      <td>81.000000</td>\n",
       "    </tr>\n",
       "    <tr>\n",
       "      <th>mean</th>\n",
       "      <td>1242.087209</td>\n",
       "      <td>9.146641</td>\n",
       "      <td>17.039406</td>\n",
       "      <td>48.246124</td>\n",
       "      <td>428.804264</td>\n",
       "      <td>31.111757</td>\n",
       "      <td>63.564386</td>\n",
       "      <td>4.866279</td>\n",
       "      <td>10.691358</td>\n",
       "    </tr>\n",
       "    <tr>\n",
       "      <th>std</th>\n",
       "      <td>138.559608</td>\n",
       "      <td>2.469950</td>\n",
       "      <td>8.008907</td>\n",
       "      <td>26.013611</td>\n",
       "      <td>235.233380</td>\n",
       "      <td>33.641112</td>\n",
       "      <td>57.362592</td>\n",
       "      <td>2.974935</td>\n",
       "      <td>1.136244</td>\n",
       "    </tr>\n",
       "    <tr>\n",
       "      <th>min</th>\n",
       "      <td>1001.000000</td>\n",
       "      <td>1.000000</td>\n",
       "      <td>0.000000</td>\n",
       "      <td>0.000000</td>\n",
       "      <td>0.000000</td>\n",
       "      <td>0.000000</td>\n",
       "      <td>20.000000</td>\n",
       "      <td>1.000000</td>\n",
       "      <td>9.000000</td>\n",
       "    </tr>\n",
       "    <tr>\n",
       "      <th>25%</th>\n",
       "      <td>1120.000000</td>\n",
       "      <td>8.000000</td>\n",
       "      <td>13.000000</td>\n",
       "      <td>31.000000</td>\n",
       "      <td>271.000000</td>\n",
       "      <td>3.000000</td>\n",
       "      <td>20.000000</td>\n",
       "      <td>2.000000</td>\n",
       "      <td>10.000000</td>\n",
       "    </tr>\n",
       "    <tr>\n",
       "      <th>50%</th>\n",
       "      <td>1244.000000</td>\n",
       "      <td>10.000000</td>\n",
       "      <td>17.000000</td>\n",
       "      <td>48.000000</td>\n",
       "      <td>425.000000</td>\n",
       "      <td>24.000000</td>\n",
       "      <td>44.050000</td>\n",
       "      <td>4.000000</td>\n",
       "      <td>11.000000</td>\n",
       "    </tr>\n",
       "    <tr>\n",
       "      <th>75%</th>\n",
       "      <td>1357.250000</td>\n",
       "      <td>11.000000</td>\n",
       "      <td>21.000000</td>\n",
       "      <td>64.000000</td>\n",
       "      <td>576.000000</td>\n",
       "      <td>47.000000</td>\n",
       "      <td>90.000000</td>\n",
       "      <td>7.000000</td>\n",
       "      <td>12.000000</td>\n",
       "    </tr>\n",
       "    <tr>\n",
       "      <th>max</th>\n",
       "      <td>1499.000000</td>\n",
       "      <td>12.000000</td>\n",
       "      <td>71.000000</td>\n",
       "      <td>167.000000</td>\n",
       "      <td>1510.000000</td>\n",
       "      <td>266.000000</td>\n",
       "      <td>600.370000</td>\n",
       "      <td>12.000000</td>\n",
       "      <td>12.000000</td>\n",
       "    </tr>\n",
       "  </tbody>\n",
       "</table>\n",
       "</div>"
      ],
      "text/plain": [
       "           user_id        month     internet  number_of _calls     duration  \\\n",
       "count  1548.000000  1548.000000  1548.000000       1548.000000  1548.000000   \n",
       "mean   1242.087209     9.146641    17.039406         48.246124   428.804264   \n",
       "std     138.559608     2.469950     8.008907         26.013611   235.233380   \n",
       "min    1001.000000     1.000000     0.000000          0.000000     0.000000   \n",
       "25%    1120.000000     8.000000    13.000000         31.000000   271.000000   \n",
       "50%    1244.000000    10.000000    17.000000         48.000000   425.000000   \n",
       "75%    1357.250000    11.000000    21.000000         64.000000   576.000000   \n",
       "max    1499.000000    12.000000    71.000000        167.000000  1510.000000   \n",
       "\n",
       "          messages      revenue    month_reg  month_churn  \n",
       "count  1548.000000  1548.000000  1548.000000    81.000000  \n",
       "mean     31.111757    63.564386     4.866279    10.691358  \n",
       "std      33.641112    57.362592     2.974935     1.136244  \n",
       "min       0.000000    20.000000     1.000000     9.000000  \n",
       "25%       3.000000    20.000000     2.000000    10.000000  \n",
       "50%      24.000000    44.050000     4.000000    11.000000  \n",
       "75%      47.000000    90.000000     7.000000    12.000000  \n",
       "max     266.000000   600.370000    12.000000    12.000000  "
      ]
     },
     "execution_count": 75,
     "metadata": {},
     "output_type": "execute_result"
    }
   ],
   "source": [
    "data_surf.describe()"
   ]
  },
  {
   "cell_type": "code",
   "execution_count": 76,
   "metadata": {},
   "outputs": [
    {
     "data": {
      "text/html": [
       "<div>\n",
       "<style scoped>\n",
       "    .dataframe tbody tr th:only-of-type {\n",
       "        vertical-align: middle;\n",
       "    }\n",
       "\n",
       "    .dataframe tbody tr th {\n",
       "        vertical-align: top;\n",
       "    }\n",
       "\n",
       "    .dataframe thead th {\n",
       "        text-align: right;\n",
       "    }\n",
       "</style>\n",
       "<table border=\"1\" class=\"dataframe\">\n",
       "  <thead>\n",
       "    <tr style=\"text-align: right;\">\n",
       "      <th></th>\n",
       "      <th>user_id</th>\n",
       "      <th>month</th>\n",
       "      <th>internet</th>\n",
       "      <th>number_of _calls</th>\n",
       "      <th>duration</th>\n",
       "      <th>messages</th>\n",
       "      <th>churn_date</th>\n",
       "      <th>plan</th>\n",
       "      <th>reg_date</th>\n",
       "      <th>revenue</th>\n",
       "      <th>month_reg</th>\n",
       "      <th>month_churn</th>\n",
       "    </tr>\n",
       "  </thead>\n",
       "  <tbody>\n",
       "    <tr>\n",
       "      <th>0</th>\n",
       "      <td>1000</td>\n",
       "      <td>12</td>\n",
       "      <td>2.0</td>\n",
       "      <td>16.0</td>\n",
       "      <td>124.0</td>\n",
       "      <td>11.0</td>\n",
       "      <td>NaN</td>\n",
       "      <td>ultimate</td>\n",
       "      <td>2018-12-24</td>\n",
       "      <td>70.0</td>\n",
       "      <td>12</td>\n",
       "      <td>NaN</td>\n",
       "    </tr>\n",
       "    <tr>\n",
       "      <th>19</th>\n",
       "      <td>1006</td>\n",
       "      <td>11</td>\n",
       "      <td>3.0</td>\n",
       "      <td>2.0</td>\n",
       "      <td>10.0</td>\n",
       "      <td>15.0</td>\n",
       "      <td>2018-12-18</td>\n",
       "      <td>ultimate</td>\n",
       "      <td>2018-11-27</td>\n",
       "      <td>70.0</td>\n",
       "      <td>11</td>\n",
       "      <td>12.0</td>\n",
       "    </tr>\n",
       "    <tr>\n",
       "      <th>20</th>\n",
       "      <td>1006</td>\n",
       "      <td>12</td>\n",
       "      <td>33.0</td>\n",
       "      <td>7.0</td>\n",
       "      <td>59.0</td>\n",
       "      <td>139.0</td>\n",
       "      <td>2018-12-18</td>\n",
       "      <td>ultimate</td>\n",
       "      <td>2018-11-27</td>\n",
       "      <td>91.0</td>\n",
       "      <td>11</td>\n",
       "      <td>12.0</td>\n",
       "    </tr>\n",
       "    <tr>\n",
       "      <th>26</th>\n",
       "      <td>1008</td>\n",
       "      <td>10</td>\n",
       "      <td>18.0</td>\n",
       "      <td>54.0</td>\n",
       "      <td>476.0</td>\n",
       "      <td>21.0</td>\n",
       "      <td>NaN</td>\n",
       "      <td>ultimate</td>\n",
       "      <td>2018-08-03</td>\n",
       "      <td>70.0</td>\n",
       "      <td>8</td>\n",
       "      <td>NaN</td>\n",
       "    </tr>\n",
       "    <tr>\n",
       "      <th>27</th>\n",
       "      <td>1008</td>\n",
       "      <td>11</td>\n",
       "      <td>24.0</td>\n",
       "      <td>50.0</td>\n",
       "      <td>446.0</td>\n",
       "      <td>37.0</td>\n",
       "      <td>NaN</td>\n",
       "      <td>ultimate</td>\n",
       "      <td>2018-08-03</td>\n",
       "      <td>70.0</td>\n",
       "      <td>8</td>\n",
       "      <td>NaN</td>\n",
       "    </tr>\n",
       "    <tr>\n",
       "      <th>...</th>\n",
       "      <td>...</td>\n",
       "      <td>...</td>\n",
       "      <td>...</td>\n",
       "      <td>...</td>\n",
       "      <td>...</td>\n",
       "      <td>...</td>\n",
       "      <td>...</td>\n",
       "      <td>...</td>\n",
       "      <td>...</td>\n",
       "      <td>...</td>\n",
       "      <td>...</td>\n",
       "      <td>...</td>\n",
       "    </tr>\n",
       "    <tr>\n",
       "      <th>2243</th>\n",
       "      <td>1493</td>\n",
       "      <td>10</td>\n",
       "      <td>17.0</td>\n",
       "      <td>52.0</td>\n",
       "      <td>450.0</td>\n",
       "      <td>0.0</td>\n",
       "      <td>NaN</td>\n",
       "      <td>ultimate</td>\n",
       "      <td>2018-03-06</td>\n",
       "      <td>70.0</td>\n",
       "      <td>3</td>\n",
       "      <td>NaN</td>\n",
       "    </tr>\n",
       "    <tr>\n",
       "      <th>2244</th>\n",
       "      <td>1493</td>\n",
       "      <td>11</td>\n",
       "      <td>16.0</td>\n",
       "      <td>59.0</td>\n",
       "      <td>500.0</td>\n",
       "      <td>0.0</td>\n",
       "      <td>NaN</td>\n",
       "      <td>ultimate</td>\n",
       "      <td>2018-03-06</td>\n",
       "      <td>70.0</td>\n",
       "      <td>3</td>\n",
       "      <td>NaN</td>\n",
       "    </tr>\n",
       "    <tr>\n",
       "      <th>2245</th>\n",
       "      <td>1493</td>\n",
       "      <td>12</td>\n",
       "      <td>16.0</td>\n",
       "      <td>59.0</td>\n",
       "      <td>473.0</td>\n",
       "      <td>0.0</td>\n",
       "      <td>NaN</td>\n",
       "      <td>ultimate</td>\n",
       "      <td>2018-03-06</td>\n",
       "      <td>70.0</td>\n",
       "      <td>3</td>\n",
       "      <td>NaN</td>\n",
       "    </tr>\n",
       "    <tr>\n",
       "      <th>2261</th>\n",
       "      <td>1497</td>\n",
       "      <td>12</td>\n",
       "      <td>12.0</td>\n",
       "      <td>42.0</td>\n",
       "      <td>300.0</td>\n",
       "      <td>50.0</td>\n",
       "      <td>NaN</td>\n",
       "      <td>ultimate</td>\n",
       "      <td>2018-12-10</td>\n",
       "      <td>70.0</td>\n",
       "      <td>12</td>\n",
       "      <td>NaN</td>\n",
       "    </tr>\n",
       "    <tr>\n",
       "      <th>2292</th>\n",
       "      <td>1482</td>\n",
       "      <td>10</td>\n",
       "      <td>0.0</td>\n",
       "      <td>0.0</td>\n",
       "      <td>0.0</td>\n",
       "      <td>2.0</td>\n",
       "      <td>NaN</td>\n",
       "      <td>ultimate</td>\n",
       "      <td>2018-01-01</td>\n",
       "      <td>70.0</td>\n",
       "      <td>1</td>\n",
       "      <td>NaN</td>\n",
       "    </tr>\n",
       "  </tbody>\n",
       "</table>\n",
       "<p>708 rows × 12 columns</p>\n",
       "</div>"
      ],
      "text/plain": [
       "      user_id  month  internet  number_of _calls  duration  messages  \\\n",
       "0        1000     12       2.0              16.0     124.0      11.0   \n",
       "19       1006     11       3.0               2.0      10.0      15.0   \n",
       "20       1006     12      33.0               7.0      59.0     139.0   \n",
       "26       1008     10      18.0              54.0     476.0      21.0   \n",
       "27       1008     11      24.0              50.0     446.0      37.0   \n",
       "...       ...    ...       ...               ...       ...       ...   \n",
       "2243     1493     10      17.0              52.0     450.0       0.0   \n",
       "2244     1493     11      16.0              59.0     500.0       0.0   \n",
       "2245     1493     12      16.0              59.0     473.0       0.0   \n",
       "2261     1497     12      12.0              42.0     300.0      50.0   \n",
       "2292     1482     10       0.0               0.0       0.0       2.0   \n",
       "\n",
       "      churn_date      plan    reg_date  revenue  month_reg  month_churn  \n",
       "0            NaN  ultimate  2018-12-24     70.0         12          NaN  \n",
       "19    2018-12-18  ultimate  2018-11-27     70.0         11         12.0  \n",
       "20    2018-12-18  ultimate  2018-11-27     91.0         11         12.0  \n",
       "26           NaN  ultimate  2018-08-03     70.0          8          NaN  \n",
       "27           NaN  ultimate  2018-08-03     70.0          8          NaN  \n",
       "...          ...       ...         ...      ...        ...          ...  \n",
       "2243         NaN  ultimate  2018-03-06     70.0          3          NaN  \n",
       "2244         NaN  ultimate  2018-03-06     70.0          3          NaN  \n",
       "2245         NaN  ultimate  2018-03-06     70.0          3          NaN  \n",
       "2261         NaN  ultimate  2018-12-10     70.0         12          NaN  \n",
       "2292         NaN  ultimate  2018-01-01     70.0          1          NaN  \n",
       "\n",
       "[708 rows x 12 columns]"
      ]
     },
     "execution_count": 76,
     "metadata": {},
     "output_type": "execute_result"
    }
   ],
   "source": [
    "data_ultimate=data.query('plan==\"ultimate\"')\n",
    "data_ultimate"
   ]
  },
  {
   "cell_type": "code",
   "execution_count": 77,
   "metadata": {},
   "outputs": [
    {
     "data": {
      "text/html": [
       "<div>\n",
       "<style scoped>\n",
       "    .dataframe tbody tr th:only-of-type {\n",
       "        vertical-align: middle;\n",
       "    }\n",
       "\n",
       "    .dataframe tbody tr th {\n",
       "        vertical-align: top;\n",
       "    }\n",
       "\n",
       "    .dataframe thead th {\n",
       "        text-align: right;\n",
       "    }\n",
       "</style>\n",
       "<table border=\"1\" class=\"dataframe\">\n",
       "  <thead>\n",
       "    <tr style=\"text-align: right;\">\n",
       "      <th></th>\n",
       "      <th>user_id</th>\n",
       "      <th>month</th>\n",
       "      <th>internet</th>\n",
       "      <th>number_of _calls</th>\n",
       "      <th>duration</th>\n",
       "      <th>messages</th>\n",
       "      <th>revenue</th>\n",
       "      <th>month_reg</th>\n",
       "      <th>month_churn</th>\n",
       "    </tr>\n",
       "  </thead>\n",
       "  <tbody>\n",
       "    <tr>\n",
       "      <th>count</th>\n",
       "      <td>708.000000</td>\n",
       "      <td>708.000000</td>\n",
       "      <td>708.000000</td>\n",
       "      <td>708.000000</td>\n",
       "      <td>708.000000</td>\n",
       "      <td>708.000000</td>\n",
       "      <td>708.000000</td>\n",
       "      <td>708.000000</td>\n",
       "      <td>40.000000</td>\n",
       "    </tr>\n",
       "    <tr>\n",
       "      <th>mean</th>\n",
       "      <td>1252.562147</td>\n",
       "      <td>9.124294</td>\n",
       "      <td>17.747175</td>\n",
       "      <td>48.617232</td>\n",
       "      <td>430.151130</td>\n",
       "      <td>37.798023</td>\n",
       "      <td>72.748588</td>\n",
       "      <td>4.953390</td>\n",
       "      <td>10.475000</td>\n",
       "    </tr>\n",
       "    <tr>\n",
       "      <th>std</th>\n",
       "      <td>151.018730</td>\n",
       "      <td>2.565427</td>\n",
       "      <td>7.896944</td>\n",
       "      <td>26.841756</td>\n",
       "      <td>240.973869</td>\n",
       "      <td>34.896049</td>\n",
       "      <td>12.775244</td>\n",
       "      <td>2.981665</td>\n",
       "      <td>1.632797</td>\n",
       "    </tr>\n",
       "    <tr>\n",
       "      <th>min</th>\n",
       "      <td>1000.000000</td>\n",
       "      <td>1.000000</td>\n",
       "      <td>0.000000</td>\n",
       "      <td>0.000000</td>\n",
       "      <td>0.000000</td>\n",
       "      <td>0.000000</td>\n",
       "      <td>70.000000</td>\n",
       "      <td>1.000000</td>\n",
       "      <td>7.000000</td>\n",
       "    </tr>\n",
       "    <tr>\n",
       "      <th>25%</th>\n",
       "      <td>1126.000000</td>\n",
       "      <td>7.000000</td>\n",
       "      <td>13.000000</td>\n",
       "      <td>29.000000</td>\n",
       "      <td>259.000000</td>\n",
       "      <td>7.000000</td>\n",
       "      <td>70.000000</td>\n",
       "      <td>2.000000</td>\n",
       "      <td>10.000000</td>\n",
       "    </tr>\n",
       "    <tr>\n",
       "      <th>50%</th>\n",
       "      <td>1237.000000</td>\n",
       "      <td>10.000000</td>\n",
       "      <td>17.000000</td>\n",
       "      <td>48.000000</td>\n",
       "      <td>425.000000</td>\n",
       "      <td>30.000000</td>\n",
       "      <td>70.000000</td>\n",
       "      <td>5.000000</td>\n",
       "      <td>11.000000</td>\n",
       "    </tr>\n",
       "    <tr>\n",
       "      <th>75%</th>\n",
       "      <td>1401.000000</td>\n",
       "      <td>11.000000</td>\n",
       "      <td>22.000000</td>\n",
       "      <td>64.000000</td>\n",
       "      <td>565.250000</td>\n",
       "      <td>61.000000</td>\n",
       "      <td>70.000000</td>\n",
       "      <td>7.000000</td>\n",
       "      <td>12.000000</td>\n",
       "    </tr>\n",
       "    <tr>\n",
       "      <th>max</th>\n",
       "      <td>1497.000000</td>\n",
       "      <td>12.000000</td>\n",
       "      <td>47.000000</td>\n",
       "      <td>156.000000</td>\n",
       "      <td>1369.000000</td>\n",
       "      <td>166.000000</td>\n",
       "      <td>189.000000</td>\n",
       "      <td>12.000000</td>\n",
       "      <td>12.000000</td>\n",
       "    </tr>\n",
       "  </tbody>\n",
       "</table>\n",
       "</div>"
      ],
      "text/plain": [
       "           user_id       month    internet  number_of _calls     duration  \\\n",
       "count   708.000000  708.000000  708.000000        708.000000   708.000000   \n",
       "mean   1252.562147    9.124294   17.747175         48.617232   430.151130   \n",
       "std     151.018730    2.565427    7.896944         26.841756   240.973869   \n",
       "min    1000.000000    1.000000    0.000000          0.000000     0.000000   \n",
       "25%    1126.000000    7.000000   13.000000         29.000000   259.000000   \n",
       "50%    1237.000000   10.000000   17.000000         48.000000   425.000000   \n",
       "75%    1401.000000   11.000000   22.000000         64.000000   565.250000   \n",
       "max    1497.000000   12.000000   47.000000        156.000000  1369.000000   \n",
       "\n",
       "         messages     revenue   month_reg  month_churn  \n",
       "count  708.000000  708.000000  708.000000    40.000000  \n",
       "mean    37.798023   72.748588    4.953390    10.475000  \n",
       "std     34.896049   12.775244    2.981665     1.632797  \n",
       "min      0.000000   70.000000    1.000000     7.000000  \n",
       "25%      7.000000   70.000000    2.000000    10.000000  \n",
       "50%     30.000000   70.000000    5.000000    11.000000  \n",
       "75%     61.000000   70.000000    7.000000    12.000000  \n",
       "max    166.000000  189.000000   12.000000    12.000000  "
      ]
     },
     "execution_count": 77,
     "metadata": {},
     "output_type": "execute_result"
    }
   ],
   "source": [
    "data_ultimate.describe()"
   ]
  },
  {
   "cell_type": "code",
   "execution_count": 78,
   "metadata": {
    "scrolled": true
   },
   "outputs": [
    {
     "data": {
      "image/png": "[encoded data removed]",
      "text/plain": [
       "<Figure size 504x360 with 1 Axes>"
      ]
     },
     "metadata": {
      "needs_background": "light"
     },
     "output_type": "display_data"
    }
   ],
   "source": [
    "plt.figure(figsize=(7,5))\n",
    "plt.hist(data_surf['internet'], bins=20 , density=True, alpha=0.5, label='surf')\n",
    "plt.hist(data_ultimate['internet'],bins=20 , density=True, alpha=0.5, label='ultimate')\n",
    "plt.title('internet')\n",
    "plt.xlabel('GB_used')\n",
    "plt.ylabel('Frequency-density')\n",
    "plt.legend(loc='upper right')\n",
    "plt.show()"
   ]
  },
  {
   "cell_type": "code",
   "execution_count": 79,
   "metadata": {},
   "outputs": [
    {
     "data": {
      "text/plain": [
       "60.52971576227391"
      ]
     },
     "execution_count": 79,
     "metadata": {},
     "output_type": "execute_result"
    }
   ],
   "source": [
    "len(data_surf.query('internet>15'))/len(data_surf)*100"
   ]
  },
  {
   "cell_type": "code",
   "execution_count": 80,
   "metadata": {},
   "outputs": [
    {
     "data": {
      "text/plain": [
       "6.497175141242938"
      ]
     },
     "execution_count": 80,
     "metadata": {},
     "output_type": "execute_result"
    }
   ],
   "source": [
    "len(data_ultimate.query('internet>30'))/len(data_ultimate)*100"
   ]
  },
  {
   "cell_type": "code",
   "execution_count": 81,
   "metadata": {},
   "outputs": [
    {
     "data": {
      "text/plain": [
       "46"
      ]
     },
     "execution_count": 81,
     "metadata": {},
     "output_type": "execute_result"
    }
   ],
   "source": [
    "len(data_ultimate.query('internet>30'))"
   ]
  },
  {
   "cell_type": "code",
   "execution_count": 82,
   "metadata": {},
   "outputs": [
    {
     "data": {
      "image/png": "[encoded data removed]",
      "text/plain": [
       "<Figure size 504x360 with 1 Axes>"
      ]
     },
     "metadata": {
      "needs_background": "light"
     },
     "output_type": "display_data"
    }
   ],
   "source": [
    "plt.figure(figsize=(7,5))\n",
    "plt.hist(data_surf['messages'], bins=20 , density=True, alpha=0.5, label='surf')\n",
    "plt.hist(data_ultimate['messages'],bins=20 , density=True, alpha=0.5, label='ultimate')\n",
    "plt.title('messages')\n",
    "plt.xlabel('number of message')\n",
    "plt.ylabel('Frequency-density')\n",
    "plt.legend(loc='upper right')\n",
    "plt.show()"
   ]
  },
  {
   "cell_type": "code",
   "execution_count": 83,
   "metadata": {},
   "outputs": [
    {
     "data": {
      "text/plain": [
       "21.57622739018088"
      ]
     },
     "execution_count": 83,
     "metadata": {},
     "output_type": "execute_result"
    }
   ],
   "source": [
    "len(data_surf.query('messages>50'))/len(data_surf)*100"
   ]
  },
  {
   "cell_type": "code",
   "execution_count": 84,
   "metadata": {},
   "outputs": [
    {
     "data": {
      "text/plain": [
       "345"
      ]
     },
     "execution_count": 84,
     "metadata": {},
     "output_type": "execute_result"
    }
   ],
   "source": [
    "len(data_surf.query('messages==0'))"
   ]
  },
  {
   "cell_type": "code",
   "execution_count": 85,
   "metadata": {},
   "outputs": [
    {
     "data": {
      "image/png": "[encoded data removed]",
      "text/plain": [
       "<Figure size 504x360 with 1 Axes>"
      ]
     },
     "metadata": {
      "needs_background": "light"
     },
     "output_type": "display_data"
    }
   ],
   "source": [
    "plt.figure(figsize=(7,5))\n",
    "plt.hist(data_surf['duration'], bins=20 , density=True, alpha=0.5, label='surf')\n",
    "plt.hist(data_ultimate['duration'],bins=20 , density=True, alpha=0.5, label='ultimate')\n",
    "plt.title('calls')\n",
    "plt.xlabel('duration')\n",
    "plt.ylabel('Frequency-density')\n",
    "plt.legend(loc='upper right')\n",
    "plt.show()"
   ]
  },
  {
   "cell_type": "code",
   "execution_count": 86,
   "metadata": {},
   "outputs": [
    {
     "data": {
      "text/plain": [
       "35.98191214470285"
      ]
     },
     "execution_count": 86,
     "metadata": {},
     "output_type": "execute_result"
    }
   ],
   "source": [
    "len(data_surf.query('duration>500'))/len(data_surf)*100"
   ]
  },
  {
   "cell_type": "code",
   "execution_count": 87,
   "metadata": {},
   "outputs": [
    {
     "data": {
      "image/png": "[encoded data removed]",
      "text/plain": [
       "<Figure size 504x360 with 1 Axes>"
      ]
     },
     "metadata": {
      "needs_background": "light"
     },
     "output_type": "display_data"
    }
   ],
   "source": [
    "plt.figure(figsize=(7,5))\n",
    "plt.hist(data_surf['revenue'], bins=20 ,range=(10,200), density=True, alpha=0.5, label='surf')\n",
    "plt.hist(data_ultimate['revenue'],bins=20 , density=True, alpha=0.5, label='ultimate')\n",
    "plt.title('revenue')\n",
    "plt.xlabel('revenue')\n",
    "plt.ylabel('Frequency-density')\n",
    "plt.legend(loc='upper right')\n",
    "plt.show()"
   ]
  },
  {
   "cell_type": "code",
   "execution_count": 88,
   "metadata": {},
   "outputs": [
    {
     "data": {
      "text/plain": [
       "26.098191214470283"
      ]
     },
     "execution_count": 88,
     "metadata": {},
     "output_type": "execute_result"
    }
   ],
   "source": [
    "len(data_surf.query('revenue==20'))/len(data_surf)*100"
   ]
  },
  {
   "cell_type": "code",
   "execution_count": 89,
   "metadata": {},
   "outputs": [
    {
     "data": {
      "text/plain": [
       "6.497175141242938"
      ]
     },
     "execution_count": 89,
     "metadata": {},
     "output_type": "execute_result"
    }
   ],
   "source": [
    "len(data_ultimate.query('revenue>70'))/len(data_ultimate)*100"
   ]
  },
  {
   "cell_type": "code",
   "execution_count": 90,
   "metadata": {},
   "outputs": [
    {
     "data": {
      "image/png": "[encoded data removed]",
      "text/plain": [
       "<Figure size 504x360 with 1 Axes>"
      ]
     },
     "metadata": {
      "needs_background": "light"
     },
     "output_type": "display_data"
    }
   ],
   "source": [
    "data_surf.plot(x='internet', y='revenue', kind='scatter',figsize=(7,5))\n",
    "plt.title('revenue-internet-surf')\n",
    "plt.xlabel('internet')\n",
    "plt.ylabel('revenue')\n",
    "plt.show()"
   ]
  },
  {
   "cell_type": "code",
   "execution_count": 91,
   "metadata": {},
   "outputs": [
    {
     "data": {
      "image/png": "[encoded data removed]",
      "text/plain": [
       "<Figure size 504x360 with 1 Axes>"
      ]
     },
     "metadata": {
      "needs_background": "light"
     },
     "output_type": "display_data"
    }
   ],
   "source": [
    "data_surf.plot(x='messages', y='revenue', kind='scatter',figsize=(7,5))\n",
    "plt.title('revenue-messages-surf')\n",
    "plt.xlabel('messages')\n",
    "plt.ylabel('revenue')\n",
    "plt.show()"
   ]
  },
  {
   "cell_type": "code",
   "execution_count": 92,
   "metadata": {},
   "outputs": [
    {
     "data": {
      "image/png": "[encoded data removed]",
      "text/plain": [
       "<Figure size 504x360 with 1 Axes>"
      ]
     },
     "metadata": {
      "needs_background": "light"
     },
     "output_type": "display_data"
    }
   ],
   "source": [
    "data_surf.plot(x='duration', y='revenue', kind='scatter',figsize=(7,5))\n",
    "plt.title('revenue-call-surf')\n",
    "plt.xlabel('call-duration')\n",
    "plt.ylabel('revenue')\n",
    "plt.show()"
   ]
  },
  {
   "cell_type": "code",
   "execution_count": 93,
   "metadata": {},
   "outputs": [
    {
     "data": {
      "image/png": "[encoded data removed]",
      "text/plain": [
       "<Figure size 504x360 with 1 Axes>"
      ]
     },
     "metadata": {
      "needs_background": "light"
     },
     "output_type": "display_data"
    }
   ],
   "source": [
    "data_ultimate.plot(x='duration', y='revenue', kind='scatter',figsize=(7,5))\n",
    "plt.title('revenue-call-ultimate')\n",
    "plt.xlabel('call-duration')\n",
    "plt.ylabel('revenue')\n",
    "plt.show()"
   ]
  },
  {
   "cell_type": "code",
   "execution_count": 94,
   "metadata": {},
   "outputs": [
    {
     "data": {
      "image/png": "[encoded data removed]",
      "text/plain": [
       "<Figure size 504x360 with 1 Axes>"
      ]
     },
     "metadata": {
      "needs_background": "light"
     },
     "output_type": "display_data"
    }
   ],
   "source": [
    "data_ultimate.plot(x='messages', y='revenue', kind='scatter',figsize=(7,5))\n",
    "plt.title('revenue-message-ultimate')\n",
    "plt.xlabel('messages')\n",
    "plt.ylabel('revenue')\n",
    "plt.show()"
   ]
  },
  {
   "cell_type": "code",
   "execution_count": 95,
   "metadata": {},
   "outputs": [
    {
     "data": {
      "image/png": "[encoded data removed]",
      "text/plain": [
       "<Figure size 504x360 with 1 Axes>"
      ]
     },
     "metadata": {
      "needs_background": "light"
     },
     "output_type": "display_data"
    }
   ],
   "source": [
    "data_ultimate.plot(x='internet', y='revenue', kind='scatter',figsize=(7,5))\n",
    "plt.title('revenue-internet-ultimate')\n",
    "plt.xlabel('internet')\n",
    "plt.ylabel('revenue')\n",
    "plt.show()"
   ]
  },
  {
   "cell_type": "code",
   "execution_count": 96,
   "metadata": {},
   "outputs": [
    {
     "data": {
      "text/html": [
       "<div>\n",
       "<style scoped>\n",
       "    .dataframe tbody tr th:only-of-type {\n",
       "        vertical-align: middle;\n",
       "    }\n",
       "\n",
       "    .dataframe tbody tr th {\n",
       "        vertical-align: top;\n",
       "    }\n",
       "\n",
       "    .dataframe thead th {\n",
       "        text-align: right;\n",
       "    }\n",
       "</style>\n",
       "<table border=\"1\" class=\"dataframe\">\n",
       "  <thead>\n",
       "    <tr style=\"text-align: right;\">\n",
       "      <th></th>\n",
       "      <th>user_id</th>\n",
       "      <th>month</th>\n",
       "      <th>internet</th>\n",
       "      <th>number_of _calls</th>\n",
       "      <th>duration</th>\n",
       "      <th>messages</th>\n",
       "      <th>revenue</th>\n",
       "      <th>month_reg</th>\n",
       "      <th>month_churn</th>\n",
       "    </tr>\n",
       "  </thead>\n",
       "  <tbody>\n",
       "    <tr>\n",
       "      <th>user_id</th>\n",
       "      <td>1.000000</td>\n",
       "      <td>0.010776</td>\n",
       "      <td>-0.033928</td>\n",
       "      <td>0.029299</td>\n",
       "      <td>0.028180</td>\n",
       "      <td>0.050171</td>\n",
       "      <td>-0.018111</td>\n",
       "      <td>-0.018832</td>\n",
       "      <td>-0.466867</td>\n",
       "    </tr>\n",
       "    <tr>\n",
       "      <th>month</th>\n",
       "      <td>0.010776</td>\n",
       "      <td>1.000000</td>\n",
       "      <td>0.153684</td>\n",
       "      <td>0.099590</td>\n",
       "      <td>0.101739</td>\n",
       "      <td>0.161250</td>\n",
       "      <td>0.115535</td>\n",
       "      <td>0.407429</td>\n",
       "      <td>0.535051</td>\n",
       "    </tr>\n",
       "    <tr>\n",
       "      <th>internet</th>\n",
       "      <td>-0.033928</td>\n",
       "      <td>0.153684</td>\n",
       "      <td>1.000000</td>\n",
       "      <td>0.370993</td>\n",
       "      <td>0.365491</td>\n",
       "      <td>0.155881</td>\n",
       "      <td>0.898758</td>\n",
       "      <td>-0.097449</td>\n",
       "      <td>0.214656</td>\n",
       "    </tr>\n",
       "    <tr>\n",
       "      <th>number_of _calls</th>\n",
       "      <td>0.029299</td>\n",
       "      <td>0.099590</td>\n",
       "      <td>0.370993</td>\n",
       "      <td>1.000000</td>\n",
       "      <td>0.987339</td>\n",
       "      <td>0.240115</td>\n",
       "      <td>0.286762</td>\n",
       "      <td>-0.106657</td>\n",
       "      <td>0.014227</td>\n",
       "    </tr>\n",
       "    <tr>\n",
       "      <th>duration</th>\n",
       "      <td>0.028180</td>\n",
       "      <td>0.101739</td>\n",
       "      <td>0.365491</td>\n",
       "      <td>0.987339</td>\n",
       "      <td>1.000000</td>\n",
       "      <td>0.242907</td>\n",
       "      <td>0.283010</td>\n",
       "      <td>-0.105459</td>\n",
       "      <td>0.010570</td>\n",
       "    </tr>\n",
       "    <tr>\n",
       "      <th>messages</th>\n",
       "      <td>0.050171</td>\n",
       "      <td>0.161250</td>\n",
       "      <td>0.155881</td>\n",
       "      <td>0.240115</td>\n",
       "      <td>0.242907</td>\n",
       "      <td>1.000000</td>\n",
       "      <td>0.165289</td>\n",
       "      <td>0.039601</td>\n",
       "      <td>-0.030651</td>\n",
       "    </tr>\n",
       "    <tr>\n",
       "      <th>revenue</th>\n",
       "      <td>-0.018111</td>\n",
       "      <td>0.115535</td>\n",
       "      <td>0.898758</td>\n",
       "      <td>0.286762</td>\n",
       "      <td>0.283010</td>\n",
       "      <td>0.165289</td>\n",
       "      <td>1.000000</td>\n",
       "      <td>-0.063173</td>\n",
       "      <td>0.175563</td>\n",
       "    </tr>\n",
       "    <tr>\n",
       "      <th>month_reg</th>\n",
       "      <td>-0.018832</td>\n",
       "      <td>0.407429</td>\n",
       "      <td>-0.097449</td>\n",
       "      <td>-0.106657</td>\n",
       "      <td>-0.105459</td>\n",
       "      <td>0.039601</td>\n",
       "      <td>-0.063173</td>\n",
       "      <td>1.000000</td>\n",
       "      <td>0.622360</td>\n",
       "    </tr>\n",
       "    <tr>\n",
       "      <th>month_churn</th>\n",
       "      <td>-0.466867</td>\n",
       "      <td>0.535051</td>\n",
       "      <td>0.214656</td>\n",
       "      <td>0.014227</td>\n",
       "      <td>0.010570</td>\n",
       "      <td>-0.030651</td>\n",
       "      <td>0.175563</td>\n",
       "      <td>0.622360</td>\n",
       "      <td>1.000000</td>\n",
       "    </tr>\n",
       "  </tbody>\n",
       "</table>\n",
       "</div>"
      ],
      "text/plain": [
       "                   user_id     month  internet  number_of _calls  duration  \\\n",
       "user_id           1.000000  0.010776 -0.033928          0.029299  0.028180   \n",
       "month             0.010776  1.000000  0.153684          0.099590  0.101739   \n",
       "internet         -0.033928  0.153684  1.000000          0.370993  0.365491   \n",
       "number_of _calls  0.029299  0.099590  0.370993          1.000000  0.987339   \n",
       "duration          0.028180  0.101739  0.365491          0.987339  1.000000   \n",
       "messages          0.050171  0.161250  0.155881          0.240115  0.242907   \n",
       "revenue          -0.018111  0.115535  0.898758          0.286762  0.283010   \n",
       "month_reg        -0.018832  0.407429 -0.097449         -0.106657 -0.105459   \n",
       "month_churn      -0.466867  0.535051  0.214656          0.014227  0.010570   \n",
       "\n",
       "                  messages   revenue  month_reg  month_churn  \n",
       "user_id           0.050171 -0.018111  -0.018832    -0.466867  \n",
       "month             0.161250  0.115535   0.407429     0.535051  \n",
       "internet          0.155881  0.898758  -0.097449     0.214656  \n",
       "number_of _calls  0.240115  0.286762  -0.106657     0.014227  \n",
       "duration          0.242907  0.283010  -0.105459     0.010570  \n",
       "messages          1.000000  0.165289   0.039601    -0.030651  \n",
       "revenue           0.165289  1.000000  -0.063173     0.175563  \n",
       "month_reg         0.039601 -0.063173   1.000000     0.622360  \n",
       "month_churn      -0.030651  0.175563   0.622360     1.000000  "
      ]
     },
     "execution_count": 96,
     "metadata": {},
     "output_type": "execute_result"
    }
   ],
   "source": [
    "data_surf.corr()"
   ]
  },
  {
   "cell_type": "code",
   "execution_count": 97,
   "metadata": {},
   "outputs": [
    {
     "data": {
      "text/html": [
       "<div>\n",
       "<style scoped>\n",
       "    .dataframe tbody tr th:only-of-type {\n",
       "        vertical-align: middle;\n",
       "    }\n",
       "\n",
       "    .dataframe tbody tr th {\n",
       "        vertical-align: top;\n",
       "    }\n",
       "\n",
       "    .dataframe thead th {\n",
       "        text-align: right;\n",
       "    }\n",
       "</style>\n",
       "<table border=\"1\" class=\"dataframe\">\n",
       "  <thead>\n",
       "    <tr style=\"text-align: right;\">\n",
       "      <th></th>\n",
       "      <th>user_id</th>\n",
       "      <th>month</th>\n",
       "      <th>internet</th>\n",
       "      <th>number_of _calls</th>\n",
       "      <th>duration</th>\n",
       "      <th>messages</th>\n",
       "      <th>revenue</th>\n",
       "      <th>month_reg</th>\n",
       "      <th>month_churn</th>\n",
       "    </tr>\n",
       "  </thead>\n",
       "  <tbody>\n",
       "    <tr>\n",
       "      <th>user_id</th>\n",
       "      <td>1.000000</td>\n",
       "      <td>0.109030</td>\n",
       "      <td>-0.106600</td>\n",
       "      <td>0.006919</td>\n",
       "      <td>0.008327</td>\n",
       "      <td>-0.125045</td>\n",
       "      <td>-0.102249</td>\n",
       "      <td>0.113357</td>\n",
       "      <td>0.233386</td>\n",
       "    </tr>\n",
       "    <tr>\n",
       "      <th>month</th>\n",
       "      <td>0.109030</td>\n",
       "      <td>1.000000</td>\n",
       "      <td>0.090430</td>\n",
       "      <td>0.130282</td>\n",
       "      <td>0.133441</td>\n",
       "      <td>0.169304</td>\n",
       "      <td>0.026720</td>\n",
       "      <td>0.431046</td>\n",
       "      <td>0.668767</td>\n",
       "    </tr>\n",
       "    <tr>\n",
       "      <th>internet</th>\n",
       "      <td>-0.106600</td>\n",
       "      <td>0.090430</td>\n",
       "      <td>1.000000</td>\n",
       "      <td>0.222022</td>\n",
       "      <td>0.217769</td>\n",
       "      <td>0.345891</td>\n",
       "      <td>0.576115</td>\n",
       "      <td>-0.182215</td>\n",
       "      <td>-0.431771</td>\n",
       "    </tr>\n",
       "    <tr>\n",
       "      <th>number_of _calls</th>\n",
       "      <td>0.006919</td>\n",
       "      <td>0.130282</td>\n",
       "      <td>0.222022</td>\n",
       "      <td>1.000000</td>\n",
       "      <td>0.987325</td>\n",
       "      <td>0.241851</td>\n",
       "      <td>-0.066108</td>\n",
       "      <td>0.001244</td>\n",
       "      <td>-0.613450</td>\n",
       "    </tr>\n",
       "    <tr>\n",
       "      <th>duration</th>\n",
       "      <td>0.008327</td>\n",
       "      <td>0.133441</td>\n",
       "      <td>0.217769</td>\n",
       "      <td>0.987325</td>\n",
       "      <td>1.000000</td>\n",
       "      <td>0.242914</td>\n",
       "      <td>-0.069511</td>\n",
       "      <td>-0.001555</td>\n",
       "      <td>-0.589335</td>\n",
       "    </tr>\n",
       "    <tr>\n",
       "      <th>messages</th>\n",
       "      <td>-0.125045</td>\n",
       "      <td>0.169304</td>\n",
       "      <td>0.345891</td>\n",
       "      <td>0.241851</td>\n",
       "      <td>0.242914</td>\n",
       "      <td>1.000000</td>\n",
       "      <td>0.186650</td>\n",
       "      <td>0.124335</td>\n",
       "      <td>0.315526</td>\n",
       "    </tr>\n",
       "    <tr>\n",
       "      <th>revenue</th>\n",
       "      <td>-0.102249</td>\n",
       "      <td>0.026720</td>\n",
       "      <td>0.576115</td>\n",
       "      <td>-0.066108</td>\n",
       "      <td>-0.069511</td>\n",
       "      <td>0.186650</td>\n",
       "      <td>1.000000</td>\n",
       "      <td>-0.095924</td>\n",
       "      <td>-0.066210</td>\n",
       "    </tr>\n",
       "    <tr>\n",
       "      <th>month_reg</th>\n",
       "      <td>0.113357</td>\n",
       "      <td>0.431046</td>\n",
       "      <td>-0.182215</td>\n",
       "      <td>0.001244</td>\n",
       "      <td>-0.001555</td>\n",
       "      <td>0.124335</td>\n",
       "      <td>-0.095924</td>\n",
       "      <td>1.000000</td>\n",
       "      <td>0.411328</td>\n",
       "    </tr>\n",
       "    <tr>\n",
       "      <th>month_churn</th>\n",
       "      <td>0.233386</td>\n",
       "      <td>0.668767</td>\n",
       "      <td>-0.431771</td>\n",
       "      <td>-0.613450</td>\n",
       "      <td>-0.589335</td>\n",
       "      <td>0.315526</td>\n",
       "      <td>-0.066210</td>\n",
       "      <td>0.411328</td>\n",
       "      <td>1.000000</td>\n",
       "    </tr>\n",
       "  </tbody>\n",
       "</table>\n",
       "</div>"
      ],
      "text/plain": [
       "                   user_id     month  internet  number_of _calls  duration  \\\n",
       "user_id           1.000000  0.109030 -0.106600          0.006919  0.008327   \n",
       "month             0.109030  1.000000  0.090430          0.130282  0.133441   \n",
       "internet         -0.106600  0.090430  1.000000          0.222022  0.217769   \n",
       "number_of _calls  0.006919  0.130282  0.222022          1.000000  0.987325   \n",
       "duration          0.008327  0.133441  0.217769          0.987325  1.000000   \n",
       "messages         -0.125045  0.169304  0.345891          0.241851  0.242914   \n",
       "revenue          -0.102249  0.026720  0.576115         -0.066108 -0.069511   \n",
       "month_reg         0.113357  0.431046 -0.182215          0.001244 -0.001555   \n",
       "month_churn       0.233386  0.668767 -0.431771         -0.613450 -0.589335   \n",
       "\n",
       "                  messages   revenue  month_reg  month_churn  \n",
       "user_id          -0.125045 -0.102249   0.113357     0.233386  \n",
       "month             0.169304  0.026720   0.431046     0.668767  \n",
       "internet          0.345891  0.576115  -0.182215    -0.431771  \n",
       "number_of _calls  0.241851 -0.066108   0.001244    -0.613450  \n",
       "duration          0.242914 -0.069511  -0.001555    -0.589335  \n",
       "messages          1.000000  0.186650   0.124335     0.315526  \n",
       "revenue           0.186650  1.000000  -0.095924    -0.066210  \n",
       "month_reg         0.124335 -0.095924   1.000000     0.411328  \n",
       "month_churn       0.315526 -0.066210   0.411328     1.000000  "
      ]
     },
     "execution_count": 97,
     "metadata": {},
     "output_type": "execute_result"
    }
   ],
   "source": [
    "data_ultimate.corr()"
   ]
  },
  {
   "cell_type": "markdown",
   "metadata": {},
   "source": [
    "## Conclusion"
   ]
  },
  {
   "cell_type": "markdown",
   "metadata": {},
   "source": [
    "<font color=\"blue\"> **Describing the customers' behavior**\n",
    "    \n",
    " **Plan surf**   \n",
    "    \n",
    "The number of users in this group are 1548.\n",
    "    \n",
    "Most of the data is related to the last months of the year. Either consumption has increased in recent months or more data has been collected.\n",
    "    \n",
    "The peak of *monthly internet usage* is between 15 and 20 GB. The median and mean are close to 17 GB and standard deviation is 8(low), the distribution is almost normal.About 60% of users in this group have used more than the Internet limits(15 GB).   \n",
    "\n",
    "The peak of *monthly call durations* is about 500 minutes per month(16 minutes per day). The median is 425 and the mean is 428 and standard deviation is 235(high). The distribution is skewed to right. About 33% of users in this group have used more than the call limits(500 minutes) .\n",
    "    \n",
    "The peak of *monthly messages* is between 25 and 30 messages per month. The mean is 31 and the median is 24 and standard deviation is 33(high). The distribution is skewed to right. A peak consumption is also seen around 0, which indicates people who used other services (Internet or voice calls) but did not send a message. 63 users behaved in this way. About 24% of users in this group have used more than the message limits(50 messages).\n",
    "    \n",
    "The peak of *monthly revenue* is 20-30$. 26% of users have used their package limits and 74% more than the limits. The mean is 63, the median 44 and standard deviation is 57(high). The distribution is skewed to right. \n",
    "\n",
    "Examining the scatter-plots, we see that for users who have consumed more than the limits, revenue is most affected by Internet consumption. There is a linear dependecy with a correlation of 0.89\n",
    "\n",
    "\n",
    "**Plan ultimate** \n",
    " \n",
    "The number of users in this group are 708.\n",
    "    \n",
    "Most of the data is related to the last months of the year. Either consumption has increased in recent months or more data has been collected.\n",
    "    \n",
    "The peak of *monthly internet usage* is between 15 and 20 GB. The median and mean are close to 17 GB and standard deviation is 7(low), the distribution is almost normal. About 6.38% of users in this group have used more than the Internet limits(30 GB).   \n",
    "\n",
    "The peak of *monthly call durations* is berween 400 and 500 minutes per month(13 to 16 minutes per day). The median is 424 and the mean is 430 and standard deviation is 240(high). The distribution is skewed to right. None of the users in this group have used more than the call limits(3000 minutes). No one had a call duration more than 1369 minutes!\n",
    "    \n",
    "The peak of *monthly messages* is between 25 and 30 messages per month. The mean is 37 and the median is 30 and standard deviation is 34(high). The distribution is skewed to right. A peak consumption is also seen around 0, which indicates people who used other services (Internet or voice calls) but did not send a message. More than 35 users behaved in this way. None of the users in this group have used more than the message limits(1000 messages).No one has sent more than 166 messages!\n",
    "\n",
    "*Monthly revenue* is 70$. Just 46 users(6.38% of users) have used more than the limits, who needed more than 30 GB volume of data. The mean is 72, median is 70 and standard deviation is 12. The distribution is almost constant.  \n",
    "    \n",
    "Examining the scatter-plots, we see that for users who have consumed more than the limits, revenue is most affected by Internet consumption. There is a linear dependecy with a correlation of 0.57    \n",
    " "
   ]
  },
  {
   "cell_type": "markdown",
   "metadata": {},
   "source": [
    "<a id=\"test\"></a>\n",
    "## Step 4. Test the hypotheses"
   ]
  },
  {
   "cell_type": "markdown",
   "metadata": {},
   "source": [
    "First hypothesis: The average revenue from users of Ultimate and Surf calling plans differs."
   ]
  },
  {
   "cell_type": "code",
   "execution_count": 98,
   "metadata": {},
   "outputs": [],
   "source": [
    "alpha=0.05"
   ]
  },
  {
   "cell_type": "code",
   "execution_count": 99,
   "metadata": {},
   "outputs": [],
   "source": [
    "sample1=data_surf['revenue']"
   ]
  },
  {
   "cell_type": "code",
   "execution_count": 100,
   "metadata": {},
   "outputs": [],
   "source": [
    "sample2=data_ultimate['revenue']"
   ]
  },
  {
   "cell_type": "code",
   "execution_count": 101,
   "metadata": {},
   "outputs": [
    {
     "data": {
      "text/plain": [
       "3.456645129799044e-39"
      ]
     },
     "execution_count": 101,
     "metadata": {},
     "output_type": "execute_result"
    }
   ],
   "source": [
    "stat, p = mannwhitneyu(sample1, sample2)\n",
    "p"
   ]
  },
  {
   "cell_type": "code",
   "execution_count": 102,
   "metadata": {},
   "outputs": [
    {
     "name": "stdout",
     "output_type": "stream",
     "text": [
      "We reject the null hypothesis\n"
     ]
    }
   ],
   "source": [
    "if (p<alpha):\n",
    "        print(\"We reject the null hypothesis\")\n",
    "else:\n",
    "        print(\"We can't reject the null hypothesis\") "
   ]
  },
  {
   "cell_type": "markdown",
   "metadata": {},
   "source": [
    "<font color=\"blue\"> if we select the value 0.05 for alpha, the null hypothesis would be rejected. So the average revenue from users of Ultimate and Surf calling plans differs."
   ]
  },
  {
   "cell_type": "markdown",
   "metadata": {},
   "source": [
    "Second hypothesis: The average revenue from users in NY-NJ area is different from that of the users from other regions"
   ]
  },
  {
   "cell_type": "code",
   "execution_count": 103,
   "metadata": {},
   "outputs": [
    {
     "data": {
      "text/html": [
       "<div>\n",
       "<style scoped>\n",
       "    .dataframe tbody tr th:only-of-type {\n",
       "        vertical-align: middle;\n",
       "    }\n",
       "\n",
       "    .dataframe tbody tr th {\n",
       "        vertical-align: top;\n",
       "    }\n",
       "\n",
       "    .dataframe thead th {\n",
       "        text-align: right;\n",
       "    }\n",
       "</style>\n",
       "<table border=\"1\" class=\"dataframe\">\n",
       "  <thead>\n",
       "    <tr style=\"text-align: right;\">\n",
       "      <th></th>\n",
       "      <th>user_id</th>\n",
       "      <th>first_name</th>\n",
       "      <th>last_name</th>\n",
       "      <th>age</th>\n",
       "      <th>city</th>\n",
       "      <th>reg_date</th>\n",
       "      <th>plan</th>\n",
       "      <th>churn_date</th>\n",
       "    </tr>\n",
       "  </thead>\n",
       "  <tbody>\n",
       "    <tr>\n",
       "      <th>0</th>\n",
       "      <td>1000</td>\n",
       "      <td>Anamaria</td>\n",
       "      <td>Bauer</td>\n",
       "      <td>45</td>\n",
       "      <td>Atlanta-Sandy Springs-Roswell, GA MSA</td>\n",
       "      <td>2018-12-24</td>\n",
       "      <td>ultimate</td>\n",
       "      <td>NaN</td>\n",
       "    </tr>\n",
       "    <tr>\n",
       "      <th>1</th>\n",
       "      <td>1001</td>\n",
       "      <td>Mickey</td>\n",
       "      <td>Wilkerson</td>\n",
       "      <td>28</td>\n",
       "      <td>Seattle-Tacoma-Bellevue, WA MSA</td>\n",
       "      <td>2018-08-13</td>\n",
       "      <td>surf</td>\n",
       "      <td>NaN</td>\n",
       "    </tr>\n",
       "    <tr>\n",
       "      <th>2</th>\n",
       "      <td>1002</td>\n",
       "      <td>Carlee</td>\n",
       "      <td>Hoffman</td>\n",
       "      <td>36</td>\n",
       "      <td>Las Vegas-Henderson-Paradise, NV MSA</td>\n",
       "      <td>2018-10-21</td>\n",
       "      <td>surf</td>\n",
       "      <td>NaN</td>\n",
       "    </tr>\n",
       "    <tr>\n",
       "      <th>3</th>\n",
       "      <td>1003</td>\n",
       "      <td>Reynaldo</td>\n",
       "      <td>Jenkins</td>\n",
       "      <td>52</td>\n",
       "      <td>Tulsa, OK MSA</td>\n",
       "      <td>2018-01-28</td>\n",
       "      <td>surf</td>\n",
       "      <td>NaN</td>\n",
       "    </tr>\n",
       "    <tr>\n",
       "      <th>4</th>\n",
       "      <td>1004</td>\n",
       "      <td>Leonila</td>\n",
       "      <td>Thompson</td>\n",
       "      <td>40</td>\n",
       "      <td>Seattle-Tacoma-Bellevue, WA MSA</td>\n",
       "      <td>2018-05-23</td>\n",
       "      <td>surf</td>\n",
       "      <td>NaN</td>\n",
       "    </tr>\n",
       "    <tr>\n",
       "      <th>...</th>\n",
       "      <td>...</td>\n",
       "      <td>...</td>\n",
       "      <td>...</td>\n",
       "      <td>...</td>\n",
       "      <td>...</td>\n",
       "      <td>...</td>\n",
       "      <td>...</td>\n",
       "      <td>...</td>\n",
       "    </tr>\n",
       "    <tr>\n",
       "      <th>495</th>\n",
       "      <td>1495</td>\n",
       "      <td>Fidel</td>\n",
       "      <td>Sharpe</td>\n",
       "      <td>67</td>\n",
       "      <td>New York-Newark-Jersey City, NY-NJ-PA MSA</td>\n",
       "      <td>2018-09-04</td>\n",
       "      <td>surf</td>\n",
       "      <td>NaN</td>\n",
       "    </tr>\n",
       "    <tr>\n",
       "      <th>496</th>\n",
       "      <td>1496</td>\n",
       "      <td>Ariel</td>\n",
       "      <td>Shepherd</td>\n",
       "      <td>49</td>\n",
       "      <td>New Orleans-Metairie, LA MSA</td>\n",
       "      <td>2018-02-20</td>\n",
       "      <td>surf</td>\n",
       "      <td>NaN</td>\n",
       "    </tr>\n",
       "    <tr>\n",
       "      <th>497</th>\n",
       "      <td>1497</td>\n",
       "      <td>Donte</td>\n",
       "      <td>Barrera</td>\n",
       "      <td>49</td>\n",
       "      <td>Los Angeles-Long Beach-Anaheim, CA MSA</td>\n",
       "      <td>2018-12-10</td>\n",
       "      <td>ultimate</td>\n",
       "      <td>NaN</td>\n",
       "    </tr>\n",
       "    <tr>\n",
       "      <th>498</th>\n",
       "      <td>1498</td>\n",
       "      <td>Scot</td>\n",
       "      <td>Williamson</td>\n",
       "      <td>51</td>\n",
       "      <td>New York-Newark-Jersey City, NY-NJ-PA MSA</td>\n",
       "      <td>2018-02-04</td>\n",
       "      <td>surf</td>\n",
       "      <td>NaN</td>\n",
       "    </tr>\n",
       "    <tr>\n",
       "      <th>499</th>\n",
       "      <td>1499</td>\n",
       "      <td>Shena</td>\n",
       "      <td>Dickson</td>\n",
       "      <td>37</td>\n",
       "      <td>Orlando-Kissimmee-Sanford, FL MSA</td>\n",
       "      <td>2018-05-06</td>\n",
       "      <td>surf</td>\n",
       "      <td>NaN</td>\n",
       "    </tr>\n",
       "  </tbody>\n",
       "</table>\n",
       "<p>500 rows × 8 columns</p>\n",
       "</div>"
      ],
      "text/plain": [
       "    user_id first_name   last_name  age  \\\n",
       "0      1000   Anamaria       Bauer   45   \n",
       "1      1001     Mickey   Wilkerson   28   \n",
       "2      1002     Carlee     Hoffman   36   \n",
       "3      1003   Reynaldo     Jenkins   52   \n",
       "4      1004    Leonila    Thompson   40   \n",
       "..      ...        ...         ...  ...   \n",
       "495    1495      Fidel      Sharpe   67   \n",
       "496    1496      Ariel    Shepherd   49   \n",
       "497    1497      Donte     Barrera   49   \n",
       "498    1498       Scot  Williamson   51   \n",
       "499    1499      Shena     Dickson   37   \n",
       "\n",
       "                                          city    reg_date      plan  \\\n",
       "0        Atlanta-Sandy Springs-Roswell, GA MSA  2018-12-24  ultimate   \n",
       "1              Seattle-Tacoma-Bellevue, WA MSA  2018-08-13      surf   \n",
       "2         Las Vegas-Henderson-Paradise, NV MSA  2018-10-21      surf   \n",
       "3                                Tulsa, OK MSA  2018-01-28      surf   \n",
       "4              Seattle-Tacoma-Bellevue, WA MSA  2018-05-23      surf   \n",
       "..                                         ...         ...       ...   \n",
       "495  New York-Newark-Jersey City, NY-NJ-PA MSA  2018-09-04      surf   \n",
       "496               New Orleans-Metairie, LA MSA  2018-02-20      surf   \n",
       "497     Los Angeles-Long Beach-Anaheim, CA MSA  2018-12-10  ultimate   \n",
       "498  New York-Newark-Jersey City, NY-NJ-PA MSA  2018-02-04      surf   \n",
       "499          Orlando-Kissimmee-Sanford, FL MSA  2018-05-06      surf   \n",
       "\n",
       "    churn_date  \n",
       "0          NaN  \n",
       "1          NaN  \n",
       "2          NaN  \n",
       "3          NaN  \n",
       "4          NaN  \n",
       "..         ...  \n",
       "495        NaN  \n",
       "496        NaN  \n",
       "497        NaN  \n",
       "498        NaN  \n",
       "499        NaN  \n",
       "\n",
       "[500 rows x 8 columns]"
      ]
     },
     "execution_count": 103,
     "metadata": {},
     "output_type": "execute_result"
    }
   ],
   "source": [
    "users"
   ]
  },
  {
   "cell_type": "code",
   "execution_count": 104,
   "metadata": {},
   "outputs": [],
   "source": [
    "users_group_city=users.pivot_table(index='user_id', values='city',aggfunc='first').reset_index()"
   ]
  },
  {
   "cell_type": "code",
   "execution_count": 105,
   "metadata": {},
   "outputs": [
    {
     "data": {
      "text/html": [
       "<div>\n",
       "<style scoped>\n",
       "    .dataframe tbody tr th:only-of-type {\n",
       "        vertical-align: middle;\n",
       "    }\n",
       "\n",
       "    .dataframe tbody tr th {\n",
       "        vertical-align: top;\n",
       "    }\n",
       "\n",
       "    .dataframe thead th {\n",
       "        text-align: right;\n",
       "    }\n",
       "</style>\n",
       "<table border=\"1\" class=\"dataframe\">\n",
       "  <thead>\n",
       "    <tr style=\"text-align: right;\">\n",
       "      <th></th>\n",
       "      <th>user_id</th>\n",
       "      <th>city</th>\n",
       "    </tr>\n",
       "  </thead>\n",
       "  <tbody>\n",
       "    <tr>\n",
       "      <th>0</th>\n",
       "      <td>1000</td>\n",
       "      <td>Atlanta-Sandy Springs-Roswell, GA MSA</td>\n",
       "    </tr>\n",
       "    <tr>\n",
       "      <th>1</th>\n",
       "      <td>1001</td>\n",
       "      <td>Seattle-Tacoma-Bellevue, WA MSA</td>\n",
       "    </tr>\n",
       "    <tr>\n",
       "      <th>2</th>\n",
       "      <td>1002</td>\n",
       "      <td>Las Vegas-Henderson-Paradise, NV MSA</td>\n",
       "    </tr>\n",
       "    <tr>\n",
       "      <th>3</th>\n",
       "      <td>1003</td>\n",
       "      <td>Tulsa, OK MSA</td>\n",
       "    </tr>\n",
       "    <tr>\n",
       "      <th>4</th>\n",
       "      <td>1004</td>\n",
       "      <td>Seattle-Tacoma-Bellevue, WA MSA</td>\n",
       "    </tr>\n",
       "    <tr>\n",
       "      <th>...</th>\n",
       "      <td>...</td>\n",
       "      <td>...</td>\n",
       "    </tr>\n",
       "    <tr>\n",
       "      <th>495</th>\n",
       "      <td>1495</td>\n",
       "      <td>New York-Newark-Jersey City, NY-NJ-PA MSA</td>\n",
       "    </tr>\n",
       "    <tr>\n",
       "      <th>496</th>\n",
       "      <td>1496</td>\n",
       "      <td>New Orleans-Metairie, LA MSA</td>\n",
       "    </tr>\n",
       "    <tr>\n",
       "      <th>497</th>\n",
       "      <td>1497</td>\n",
       "      <td>Los Angeles-Long Beach-Anaheim, CA MSA</td>\n",
       "    </tr>\n",
       "    <tr>\n",
       "      <th>498</th>\n",
       "      <td>1498</td>\n",
       "      <td>New York-Newark-Jersey City, NY-NJ-PA MSA</td>\n",
       "    </tr>\n",
       "    <tr>\n",
       "      <th>499</th>\n",
       "      <td>1499</td>\n",
       "      <td>Orlando-Kissimmee-Sanford, FL MSA</td>\n",
       "    </tr>\n",
       "  </tbody>\n",
       "</table>\n",
       "<p>500 rows × 2 columns</p>\n",
       "</div>"
      ],
      "text/plain": [
       "     user_id                                       city\n",
       "0       1000      Atlanta-Sandy Springs-Roswell, GA MSA\n",
       "1       1001            Seattle-Tacoma-Bellevue, WA MSA\n",
       "2       1002       Las Vegas-Henderson-Paradise, NV MSA\n",
       "3       1003                              Tulsa, OK MSA\n",
       "4       1004            Seattle-Tacoma-Bellevue, WA MSA\n",
       "..       ...                                        ...\n",
       "495     1495  New York-Newark-Jersey City, NY-NJ-PA MSA\n",
       "496     1496               New Orleans-Metairie, LA MSA\n",
       "497     1497     Los Angeles-Long Beach-Anaheim, CA MSA\n",
       "498     1498  New York-Newark-Jersey City, NY-NJ-PA MSA\n",
       "499     1499          Orlando-Kissimmee-Sanford, FL MSA\n",
       "\n",
       "[500 rows x 2 columns]"
      ]
     },
     "execution_count": 105,
     "metadata": {},
     "output_type": "execute_result"
    }
   ],
   "source": [
    "users_group_city"
   ]
  },
  {
   "cell_type": "code",
   "execution_count": 106,
   "metadata": {},
   "outputs": [
    {
     "data": {
      "text/html": [
       "<div>\n",
       "<style scoped>\n",
       "    .dataframe tbody tr th:only-of-type {\n",
       "        vertical-align: middle;\n",
       "    }\n",
       "\n",
       "    .dataframe tbody tr th {\n",
       "        vertical-align: top;\n",
       "    }\n",
       "\n",
       "    .dataframe thead th {\n",
       "        text-align: right;\n",
       "    }\n",
       "</style>\n",
       "<table border=\"1\" class=\"dataframe\">\n",
       "  <thead>\n",
       "    <tr style=\"text-align: right;\">\n",
       "      <th></th>\n",
       "      <th>user_id</th>\n",
       "      <th>month</th>\n",
       "      <th>internet</th>\n",
       "      <th>number_of _calls</th>\n",
       "      <th>duration</th>\n",
       "      <th>messages</th>\n",
       "      <th>churn_date</th>\n",
       "      <th>plan</th>\n",
       "      <th>reg_date</th>\n",
       "      <th>revenue</th>\n",
       "      <th>month_reg</th>\n",
       "      <th>month_churn</th>\n",
       "      <th>city</th>\n",
       "    </tr>\n",
       "  </thead>\n",
       "  <tbody>\n",
       "    <tr>\n",
       "      <th>0</th>\n",
       "      <td>1000</td>\n",
       "      <td>12</td>\n",
       "      <td>2.0</td>\n",
       "      <td>16.0</td>\n",
       "      <td>124.0</td>\n",
       "      <td>11.0</td>\n",
       "      <td>NaN</td>\n",
       "      <td>ultimate</td>\n",
       "      <td>2018-12-24</td>\n",
       "      <td>70.00</td>\n",
       "      <td>12</td>\n",
       "      <td>NaN</td>\n",
       "      <td>Atlanta-Sandy Springs-Roswell, GA MSA</td>\n",
       "    </tr>\n",
       "    <tr>\n",
       "      <th>1</th>\n",
       "      <td>1001</td>\n",
       "      <td>8</td>\n",
       "      <td>7.0</td>\n",
       "      <td>22.0</td>\n",
       "      <td>182.0</td>\n",
       "      <td>30.0</td>\n",
       "      <td>NaN</td>\n",
       "      <td>surf</td>\n",
       "      <td>2018-08-13</td>\n",
       "      <td>20.00</td>\n",
       "      <td>8</td>\n",
       "      <td>NaN</td>\n",
       "      <td>Seattle-Tacoma-Bellevue, WA MSA</td>\n",
       "    </tr>\n",
       "    <tr>\n",
       "      <th>2</th>\n",
       "      <td>1001</td>\n",
       "      <td>9</td>\n",
       "      <td>14.0</td>\n",
       "      <td>38.0</td>\n",
       "      <td>315.0</td>\n",
       "      <td>44.0</td>\n",
       "      <td>NaN</td>\n",
       "      <td>surf</td>\n",
       "      <td>2018-08-13</td>\n",
       "      <td>20.00</td>\n",
       "      <td>8</td>\n",
       "      <td>NaN</td>\n",
       "      <td>Seattle-Tacoma-Bellevue, WA MSA</td>\n",
       "    </tr>\n",
       "    <tr>\n",
       "      <th>3</th>\n",
       "      <td>1001</td>\n",
       "      <td>10</td>\n",
       "      <td>23.0</td>\n",
       "      <td>47.0</td>\n",
       "      <td>393.0</td>\n",
       "      <td>53.0</td>\n",
       "      <td>NaN</td>\n",
       "      <td>surf</td>\n",
       "      <td>2018-08-13</td>\n",
       "      <td>100.09</td>\n",
       "      <td>8</td>\n",
       "      <td>NaN</td>\n",
       "      <td>Seattle-Tacoma-Bellevue, WA MSA</td>\n",
       "    </tr>\n",
       "    <tr>\n",
       "      <th>4</th>\n",
       "      <td>1001</td>\n",
       "      <td>11</td>\n",
       "      <td>19.0</td>\n",
       "      <td>49.0</td>\n",
       "      <td>426.0</td>\n",
       "      <td>36.0</td>\n",
       "      <td>NaN</td>\n",
       "      <td>surf</td>\n",
       "      <td>2018-08-13</td>\n",
       "      <td>60.00</td>\n",
       "      <td>8</td>\n",
       "      <td>NaN</td>\n",
       "      <td>Seattle-Tacoma-Bellevue, WA MSA</td>\n",
       "    </tr>\n",
       "  </tbody>\n",
       "</table>\n",
       "</div>"
      ],
      "text/plain": [
       "   user_id  month  internet  number_of _calls  duration  messages churn_date  \\\n",
       "0     1000     12       2.0              16.0     124.0      11.0        NaN   \n",
       "1     1001      8       7.0              22.0     182.0      30.0        NaN   \n",
       "2     1001      9      14.0              38.0     315.0      44.0        NaN   \n",
       "3     1001     10      23.0              47.0     393.0      53.0        NaN   \n",
       "4     1001     11      19.0              49.0     426.0      36.0        NaN   \n",
       "\n",
       "       plan    reg_date  revenue  month_reg  month_churn  \\\n",
       "0  ultimate  2018-12-24    70.00         12          NaN   \n",
       "1      surf  2018-08-13    20.00          8          NaN   \n",
       "2      surf  2018-08-13    20.00          8          NaN   \n",
       "3      surf  2018-08-13   100.09          8          NaN   \n",
       "4      surf  2018-08-13    60.00          8          NaN   \n",
       "\n",
       "                                    city  \n",
       "0  Atlanta-Sandy Springs-Roswell, GA MSA  \n",
       "1        Seattle-Tacoma-Bellevue, WA MSA  \n",
       "2        Seattle-Tacoma-Bellevue, WA MSA  \n",
       "3        Seattle-Tacoma-Bellevue, WA MSA  \n",
       "4        Seattle-Tacoma-Bellevue, WA MSA  "
      ]
     },
     "execution_count": 106,
     "metadata": {},
     "output_type": "execute_result"
    }
   ],
   "source": [
    "data2= pd.merge(left = data , right = users_group_city, how='left',on='user_id')\n",
    "data2.head(5)"
   ]
  },
  {
   "cell_type": "code",
   "execution_count": 107,
   "metadata": {},
   "outputs": [
    {
     "data": {
      "text/html": [
       "<div>\n",
       "<style scoped>\n",
       "    .dataframe tbody tr th:only-of-type {\n",
       "        vertical-align: middle;\n",
       "    }\n",
       "\n",
       "    .dataframe tbody tr th {\n",
       "        vertical-align: top;\n",
       "    }\n",
       "\n",
       "    .dataframe thead th {\n",
       "        text-align: right;\n",
       "    }\n",
       "</style>\n",
       "<table border=\"1\" class=\"dataframe\">\n",
       "  <thead>\n",
       "    <tr style=\"text-align: right;\">\n",
       "      <th></th>\n",
       "      <th>user_id</th>\n",
       "      <th>month</th>\n",
       "      <th>internet</th>\n",
       "      <th>number_of _calls</th>\n",
       "      <th>duration</th>\n",
       "      <th>messages</th>\n",
       "      <th>churn_date</th>\n",
       "      <th>plan</th>\n",
       "      <th>reg_date</th>\n",
       "      <th>revenue</th>\n",
       "      <th>month_reg</th>\n",
       "      <th>month_churn</th>\n",
       "      <th>city</th>\n",
       "    </tr>\n",
       "  </thead>\n",
       "  <tbody>\n",
       "    <tr>\n",
       "      <th>55</th>\n",
       "      <td>1014</td>\n",
       "      <td>11</td>\n",
       "      <td>2.0</td>\n",
       "      <td>23.0</td>\n",
       "      <td>163.0</td>\n",
       "      <td>9.0</td>\n",
       "      <td>NaN</td>\n",
       "      <td>surf</td>\n",
       "      <td>2018-11-25</td>\n",
       "      <td>20.00</td>\n",
       "      <td>11</td>\n",
       "      <td>NaN</td>\n",
       "      <td>New York-Newark-Jersey City, NY-NJ-PA MSA</td>\n",
       "    </tr>\n",
       "    <tr>\n",
       "      <th>56</th>\n",
       "      <td>1014</td>\n",
       "      <td>12</td>\n",
       "      <td>8.0</td>\n",
       "      <td>125.0</td>\n",
       "      <td>1114.0</td>\n",
       "      <td>64.0</td>\n",
       "      <td>NaN</td>\n",
       "      <td>surf</td>\n",
       "      <td>2018-11-25</td>\n",
       "      <td>38.84</td>\n",
       "      <td>11</td>\n",
       "      <td>NaN</td>\n",
       "      <td>New York-Newark-Jersey City, NY-NJ-PA MSA</td>\n",
       "    </tr>\n",
       "    <tr>\n",
       "      <th>74</th>\n",
       "      <td>1022</td>\n",
       "      <td>5</td>\n",
       "      <td>5.0</td>\n",
       "      <td>32.0</td>\n",
       "      <td>302.0</td>\n",
       "      <td>0.0</td>\n",
       "      <td>2018-09-07</td>\n",
       "      <td>surf</td>\n",
       "      <td>2018-04-20</td>\n",
       "      <td>20.00</td>\n",
       "      <td>4</td>\n",
       "      <td>9.0</td>\n",
       "      <td>New York-Newark-Jersey City, NY-NJ-PA MSA</td>\n",
       "    </tr>\n",
       "    <tr>\n",
       "      <th>75</th>\n",
       "      <td>1022</td>\n",
       "      <td>6</td>\n",
       "      <td>24.0</td>\n",
       "      <td>65.0</td>\n",
       "      <td>490.0</td>\n",
       "      <td>0.0</td>\n",
       "      <td>2018-09-07</td>\n",
       "      <td>surf</td>\n",
       "      <td>2018-04-20</td>\n",
       "      <td>110.00</td>\n",
       "      <td>4</td>\n",
       "      <td>9.0</td>\n",
       "      <td>New York-Newark-Jersey City, NY-NJ-PA MSA</td>\n",
       "    </tr>\n",
       "    <tr>\n",
       "      <th>76</th>\n",
       "      <td>1022</td>\n",
       "      <td>7</td>\n",
       "      <td>10.0</td>\n",
       "      <td>56.0</td>\n",
       "      <td>475.0</td>\n",
       "      <td>0.0</td>\n",
       "      <td>2018-09-07</td>\n",
       "      <td>surf</td>\n",
       "      <td>2018-04-20</td>\n",
       "      <td>20.00</td>\n",
       "      <td>4</td>\n",
       "      <td>9.0</td>\n",
       "      <td>New York-Newark-Jersey City, NY-NJ-PA MSA</td>\n",
       "    </tr>\n",
       "  </tbody>\n",
       "</table>\n",
       "</div>"
      ],
      "text/plain": [
       "    user_id  month  internet  number_of _calls  duration  messages  \\\n",
       "55     1014     11       2.0              23.0     163.0       9.0   \n",
       "56     1014     12       8.0             125.0    1114.0      64.0   \n",
       "74     1022      5       5.0              32.0     302.0       0.0   \n",
       "75     1022      6      24.0              65.0     490.0       0.0   \n",
       "76     1022      7      10.0              56.0     475.0       0.0   \n",
       "\n",
       "    churn_date  plan    reg_date  revenue  month_reg  month_churn  \\\n",
       "55         NaN  surf  2018-11-25    20.00         11          NaN   \n",
       "56         NaN  surf  2018-11-25    38.84         11          NaN   \n",
       "74  2018-09-07  surf  2018-04-20    20.00          4          9.0   \n",
       "75  2018-09-07  surf  2018-04-20   110.00          4          9.0   \n",
       "76  2018-09-07  surf  2018-04-20    20.00          4          9.0   \n",
       "\n",
       "                                         city  \n",
       "55  New York-Newark-Jersey City, NY-NJ-PA MSA  \n",
       "56  New York-Newark-Jersey City, NY-NJ-PA MSA  \n",
       "74  New York-Newark-Jersey City, NY-NJ-PA MSA  \n",
       "75  New York-Newark-Jersey City, NY-NJ-PA MSA  \n",
       "76  New York-Newark-Jersey City, NY-NJ-PA MSA  "
      ]
     },
     "execution_count": 107,
     "metadata": {},
     "output_type": "execute_result"
    }
   ],
   "source": [
    "sample3=data2.query('city==\"New York-Newark-Jersey City, NY-NJ-PA MSA\"')\n",
    "sample3.head(5)"
   ]
  },
  {
   "cell_type": "code",
   "execution_count": 108,
   "metadata": {},
   "outputs": [
    {
     "data": {
      "text/html": [
       "<div>\n",
       "<style scoped>\n",
       "    .dataframe tbody tr th:only-of-type {\n",
       "        vertical-align: middle;\n",
       "    }\n",
       "\n",
       "    .dataframe tbody tr th {\n",
       "        vertical-align: top;\n",
       "    }\n",
       "\n",
       "    .dataframe thead th {\n",
       "        text-align: right;\n",
       "    }\n",
       "</style>\n",
       "<table border=\"1\" class=\"dataframe\">\n",
       "  <thead>\n",
       "    <tr style=\"text-align: right;\">\n",
       "      <th></th>\n",
       "      <th>user_id</th>\n",
       "      <th>month</th>\n",
       "      <th>internet</th>\n",
       "      <th>number_of _calls</th>\n",
       "      <th>duration</th>\n",
       "      <th>messages</th>\n",
       "      <th>churn_date</th>\n",
       "      <th>plan</th>\n",
       "      <th>reg_date</th>\n",
       "      <th>revenue</th>\n",
       "      <th>month_reg</th>\n",
       "      <th>month_churn</th>\n",
       "      <th>city</th>\n",
       "    </tr>\n",
       "  </thead>\n",
       "  <tbody>\n",
       "    <tr>\n",
       "      <th>0</th>\n",
       "      <td>1000</td>\n",
       "      <td>12</td>\n",
       "      <td>2.0</td>\n",
       "      <td>16.0</td>\n",
       "      <td>124.0</td>\n",
       "      <td>11.0</td>\n",
       "      <td>NaN</td>\n",
       "      <td>ultimate</td>\n",
       "      <td>2018-12-24</td>\n",
       "      <td>70.00</td>\n",
       "      <td>12</td>\n",
       "      <td>NaN</td>\n",
       "      <td>Atlanta-Sandy Springs-Roswell, GA MSA</td>\n",
       "    </tr>\n",
       "    <tr>\n",
       "      <th>1</th>\n",
       "      <td>1001</td>\n",
       "      <td>8</td>\n",
       "      <td>7.0</td>\n",
       "      <td>22.0</td>\n",
       "      <td>182.0</td>\n",
       "      <td>30.0</td>\n",
       "      <td>NaN</td>\n",
       "      <td>surf</td>\n",
       "      <td>2018-08-13</td>\n",
       "      <td>20.00</td>\n",
       "      <td>8</td>\n",
       "      <td>NaN</td>\n",
       "      <td>Seattle-Tacoma-Bellevue, WA MSA</td>\n",
       "    </tr>\n",
       "    <tr>\n",
       "      <th>2</th>\n",
       "      <td>1001</td>\n",
       "      <td>9</td>\n",
       "      <td>14.0</td>\n",
       "      <td>38.0</td>\n",
       "      <td>315.0</td>\n",
       "      <td>44.0</td>\n",
       "      <td>NaN</td>\n",
       "      <td>surf</td>\n",
       "      <td>2018-08-13</td>\n",
       "      <td>20.00</td>\n",
       "      <td>8</td>\n",
       "      <td>NaN</td>\n",
       "      <td>Seattle-Tacoma-Bellevue, WA MSA</td>\n",
       "    </tr>\n",
       "    <tr>\n",
       "      <th>3</th>\n",
       "      <td>1001</td>\n",
       "      <td>10</td>\n",
       "      <td>23.0</td>\n",
       "      <td>47.0</td>\n",
       "      <td>393.0</td>\n",
       "      <td>53.0</td>\n",
       "      <td>NaN</td>\n",
       "      <td>surf</td>\n",
       "      <td>2018-08-13</td>\n",
       "      <td>100.09</td>\n",
       "      <td>8</td>\n",
       "      <td>NaN</td>\n",
       "      <td>Seattle-Tacoma-Bellevue, WA MSA</td>\n",
       "    </tr>\n",
       "    <tr>\n",
       "      <th>4</th>\n",
       "      <td>1001</td>\n",
       "      <td>11</td>\n",
       "      <td>19.0</td>\n",
       "      <td>49.0</td>\n",
       "      <td>426.0</td>\n",
       "      <td>36.0</td>\n",
       "      <td>NaN</td>\n",
       "      <td>surf</td>\n",
       "      <td>2018-08-13</td>\n",
       "      <td>60.00</td>\n",
       "      <td>8</td>\n",
       "      <td>NaN</td>\n",
       "      <td>Seattle-Tacoma-Bellevue, WA MSA</td>\n",
       "    </tr>\n",
       "  </tbody>\n",
       "</table>\n",
       "</div>"
      ],
      "text/plain": [
       "   user_id  month  internet  number_of _calls  duration  messages churn_date  \\\n",
       "0     1000     12       2.0              16.0     124.0      11.0        NaN   \n",
       "1     1001      8       7.0              22.0     182.0      30.0        NaN   \n",
       "2     1001      9      14.0              38.0     315.0      44.0        NaN   \n",
       "3     1001     10      23.0              47.0     393.0      53.0        NaN   \n",
       "4     1001     11      19.0              49.0     426.0      36.0        NaN   \n",
       "\n",
       "       plan    reg_date  revenue  month_reg  month_churn  \\\n",
       "0  ultimate  2018-12-24    70.00         12          NaN   \n",
       "1      surf  2018-08-13    20.00          8          NaN   \n",
       "2      surf  2018-08-13    20.00          8          NaN   \n",
       "3      surf  2018-08-13   100.09          8          NaN   \n",
       "4      surf  2018-08-13    60.00          8          NaN   \n",
       "\n",
       "                                    city  \n",
       "0  Atlanta-Sandy Springs-Roswell, GA MSA  \n",
       "1        Seattle-Tacoma-Bellevue, WA MSA  \n",
       "2        Seattle-Tacoma-Bellevue, WA MSA  \n",
       "3        Seattle-Tacoma-Bellevue, WA MSA  \n",
       "4        Seattle-Tacoma-Bellevue, WA MSA  "
      ]
     },
     "execution_count": 108,
     "metadata": {},
     "output_type": "execute_result"
    }
   ],
   "source": [
    "sample4=data2.query('city!=\"New York-Newark-Jersey City, NY-NJ-PA MSA\"')\n",
    "sample4.head(5)"
   ]
  },
  {
   "cell_type": "code",
   "execution_count": 113,
   "metadata": {},
   "outputs": [],
   "source": [
    "sample3_revenue=sample3['revenue']\n",
    "sample4_revenue=sample4['revenue']"
   ]
  },
  {
   "cell_type": "code",
   "execution_count": 115,
   "metadata": {},
   "outputs": [
    {
     "data": {
      "image/png": "[encoded data removed]",
      "text/plain": [
       "<Figure size 432x288 with 1 Axes>"
      ]
     },
     "metadata": {
      "needs_background": "light"
     },
     "output_type": "display_data"
    }
   ],
   "source": [
    "sample3_revenue.hist();"
   ]
  },
  {
   "cell_type": "code",
   "execution_count": 116,
   "metadata": {},
   "outputs": [
    {
     "data": {
      "image/png": "[encoded data removed]",
      "text/plain": [
       "<Figure size 432x288 with 1 Axes>"
      ]
     },
     "metadata": {
      "needs_background": "light"
     },
     "output_type": "display_data"
    }
   ],
   "source": [
    "sample4_revenue.hist();"
   ]
  },
  {
   "cell_type": "code",
   "execution_count": 117,
   "metadata": {},
   "outputs": [
    {
     "data": {
      "text/plain": [
       "3.291956791665368e-19"
      ]
     },
     "execution_count": 117,
     "metadata": {},
     "output_type": "execute_result"
    }
   ],
   "source": [
    "stat, p = shapiro(sample3_revenue)\n",
    "p"
   ]
  },
  {
   "cell_type": "code",
   "execution_count": 118,
   "metadata": {},
   "outputs": [
    {
     "name": "stdout",
     "output_type": "stream",
     "text": [
      "Sample does not look Normal (reject H0)\n"
     ]
    }
   ],
   "source": [
    "alpha = 0.05\n",
    "if p > alpha:\n",
    "    print('Sample looks Normal (fail to reject H0)')\n",
    "else:\n",
    "    print('Sample does not look Normal (reject H0)')"
   ]
  },
  {
   "cell_type": "code",
   "execution_count": 119,
   "metadata": {},
   "outputs": [
    {
     "data": {
      "text/plain": [
       "0.0"
      ]
     },
     "execution_count": 119,
     "metadata": {},
     "output_type": "execute_result"
    }
   ],
   "source": [
    "stat, p = shapiro(sample4_revenue)\n",
    "p"
   ]
  },
  {
   "cell_type": "code",
   "execution_count": 120,
   "metadata": {},
   "outputs": [
    {
     "name": "stdout",
     "output_type": "stream",
     "text": [
      "Sample does not look Normal (reject H0)\n"
     ]
    }
   ],
   "source": [
    "alpha = 0.05\n",
    "if p > alpha:\n",
    "    print('Sample looks Normal (fail to reject H0)')\n",
    "else:\n",
    "    print('Sample does not look Normal (reject H0)')"
   ]
  },
  {
   "cell_type": "code",
   "execution_count": 121,
   "metadata": {},
   "outputs": [
    {
     "data": {
      "text/plain": [
       "0.007659551252606069"
      ]
     },
     "execution_count": 121,
     "metadata": {},
     "output_type": "execute_result"
    }
   ],
   "source": [
    "stat, p = mannwhitneyu(sample3_revenue, sample4_revenue)\n",
    "p"
   ]
  },
  {
   "cell_type": "code",
   "execution_count": 122,
   "metadata": {},
   "outputs": [
    {
     "name": "stdout",
     "output_type": "stream",
     "text": [
      "We reject the null hypothesis\n"
     ]
    }
   ],
   "source": [
    "if (p<alpha):\n",
    "        print(\"We reject the null hypothesis\")\n",
    "else:\n",
    "        print(\"We can't reject the null hypothesis\") "
   ]
  },
  {
   "cell_type": "markdown",
   "metadata": {},
   "source": [
    "<font color=\"blue\"> if we select the value 0.05 for alpha, the null hypothesis would be rejected. So the distributions are different. It can be claimed that customer behavior in this area is different from other areas."
   ]
  },
  {
   "cell_type": "markdown",
   "metadata": {},
   "source": [
    "## Conclusion"
   ]
  },
  {
   "cell_type": "markdown",
   "metadata": {},
   "source": [
    "<font color=\"blue\"> **First hypothesis: The average revenue from users of Ultimate and Surf calling plans differs.**\n",
    "    \n",
    "The average revenue distribution is not normal for Ultimate and Surf calling plans. For 'surf' the distribution is skewed to right and for 'ultimate' the distribution is almost constant. So they probebly have different distributions, but to test the hypothesis, we can use the Mann-Whitney method (determining whether two independent samples were drawn from a population with the same distribution).\n",
    "    \n",
    "H0:The average revenue from users of Ultimate and Surf calling plans is equal.(they have the same distribution)\n",
    "H1: The average revenue from users of Ultimate and Surf calling plans differs.(they have different distributions)\n",
    "\n",
    "if we select the value 0.05 for alpha, the null hypothesis would be rejected. So the average revenue from users of Ultimate and Surf calling plans differs. \n",
    "    \n",
    "**Second hypothesis: The average revenue from users in NY-NJ area is different from that of the users from other regions.** \n",
    "    \n",
    "first we devide the data into tow groups: data for users in NY-NJ area(sample3), and the data for other regions(sample4).   \n",
    "Then we check the distributions. They aren't normal and skewd to right. To test the hypothesis, we use the Mann-Whitney method. \n",
    "    \n",
    "null hypothesis:The average revenue from users in NY-NJ area and other regions is equal.(they have the same distribution)\n",
    "alternative hypothesis: The average revenue from users in NY-NJ area is different from that of the users from other regions.(they have different distributions)    \n",
    "    \n",
    "if we select the value 0.05 for alpha, the null hypothesis would be rejected. So the distributions are different. It can be claimed that customer behavior in this area is different from other areas.   \n",
    "   "
   ]
  },
  {
   "cell_type": "markdown",
   "metadata": {},
   "source": [
    "## Step 5. Overall conclusion"
   ]
  },
  {
   "cell_type": "markdown",
   "metadata": {},
   "source": [
    "<font color=\"blue\"> \n",
    "\n",
    "### [Goal](#goal)\n",
    "\n",
    "The telecom operator Megaline offers its clients two prepaid plans, Surf and Ultimate. The commercial department wants to know which of the plans brings in more revenue in order to adjust the advertising budget. \n",
    "   \n",
    "### [Data preprocessing](#preprocessing)   \n",
    "In order to work with appropriate and valid data, the following tasks were performed:\n",
    "\n",
    " - Processing missing values\n",
    " - Type replacement\n",
    " - Processing duplicates \n",
    "   \n",
    "We merged the tables and calculated the average monthley usage and revenue for each user. \n",
    "    \n",
    "  \n",
    "### [Describing the customers' behavior of Surf Plan](#surf)\n",
    "    \n",
    "The number of users in this group are 1548.\n",
    "    \n",
    "Most of the data is related to the last months of the year. Either consumption has increased in recent months or more data has been collected.\n",
    "    \n",
    "The peak of *monthly internet usage* is between 15 and 20 GB. The median and mean are close to 17 GB and standard deviation is 8(low), the distribution is almost normal.About 60% of users in this group have used more than the Internet limits(15 GB).   \n",
    "\n",
    "The peak of *monthly call durations* is about 500 minutes per month(16 minutes per day). The median is 425 and the mean is 428 and standard deviation is 235(high). The distribution is skewed to right. About 33% of users in this group have used more than the call limits(500 minutes) .\n",
    "    \n",
    "The peak of *monthly messages* is between 25 and 30 messages per month. The mean is 31 and the median is 24 and standard deviation is 33(high). The distribution is skewed to right. A peak consumption is also seen around 0, which indicates people who used other services (Internet or voice calls) but did not send a message. 63 users behaved in this way. About 24% of users in this group have used more than the message limits(50 messages).\n",
    "    \n",
    "The peak of *monthly revenue* is 20-30$. 26% of users have used their package limits and 74% more than the limits. The mean is 63, the median 44 and standard deviation is 57(high). The distribution is skewed to right. \n",
    "\n",
    "Examining the scatter-plots, we see that for users who have consumed more than the limits, revenue is most affected by Internet consumption. There is a linear dependecy with a correlation of 0.89\n",
    "\n",
    "\n",
    "### [Describing the customers' behavior of Ultimate Plan](#ultimate) \n",
    " \n",
    "The number of users in this group are 708.\n",
    "    \n",
    "Most of the data is related to the last months of the year. Either consumption has increased in recent months or more data has been collected.\n",
    "    \n",
    "The peak of *monthly internet usage* is between 15 and 20 GB. The median and mean are close to 17 GB and standard deviation is 7(low), the distribution is almost normal. About 6.38% of users in this group have used more than the Internet limits(30 GB).   \n",
    "\n",
    "The peak of *monthly call durations* is berween 400 and 500 minutes per month(13 to 16 minutes per day). The median is 424 and the mean is 430 and standard deviation is 240(high). The distribution is skewed to right. None of the users in this group have used more than the call limits(3000 minutes). No one had a call duration more than 1369 minutes!\n",
    "    \n",
    "The peak of *monthly messages* is between 25 and 30 messages per month. The mean is 37 and the median is 30 and standard deviation is 34(high). The distribution is skewed to right. A peak consumption is also seen around 0, which indicates people who used other services (Internet or voice calls) but did not send a message. More than 35 users behaved in this way. None of the users in this group have used more than the message limits(1000 messages).No one has sent more than 166 messages!\n",
    "\n",
    "*Monthly revenue* is 70$. Just 46 users(6.38% of users) have used more than the limits, who needed more than 30 GB volume of data. The mean is 72, median is 70 and standard deviation is 12. The distribution is almost constant.  \n",
    "    \n",
    "Examining the scatter-plots, we see that for users who have consumed more than the limits, revenue is most affected by Internet consumption. There is a linear dependecy with a correlation of 0.57    \n",
    "      \n",
    "\n",
    "### [Test the Hypothesis](#test)    \n",
    "**First hypothesis: The average revenue from users of Ultimate and Surf calling plans differs.**\n",
    "    \n",
    "The average revenue distribution is not normal for Ultimate and Surf calling plans. For 'surf' the distribution is skewed to right and for 'ultimate' the distribution is almost constant. So they probebly have different distributions, but to test the hypothesis, we can use the Mann-Whitney method (determining whether two independent samples were drawn from a population with the same distribution).\n",
    "    \n",
    "H0:The average revenue from users of Ultimate and Surf calling plans is equal.(they have the same distribution)<br>\n",
    "H1: The average revenue from users of Ultimate and Surf calling plans differs.(they have different distributions)\n",
    "\n",
    "if we select the value 0.05 for alpha, the null hypothesis would be rejected. So the average revenue from users of Ultimate and Surf calling plans differs. \n",
    "    \n",
    "**Second hypothesis: The average revenue from users in NY-NJ area is different from that of the users from other regions.** \n",
    "    \n",
    "first we devide the data into tow groups: data for users in NY-NJ area(sample3), and the data for other regions(sample4).   \n",
    "Then we check the distributions. They aren't normal and skewd to right. To test the hypothesis, we use the Mann-Whitney method. \n",
    "    \n",
    "H0:The average revenue from users in NY-NJ area and other regions is equal.<br>\n",
    "H1: The average revenue from users in NY-NJ area is different from that of the users from other regions.   \n",
    "    \n",
    "if we select the value 0.05 for alpha, the null hypothesis would be rejected. So the distributions are different. It can be claimed that customers' behavior in this area is different from other areas.   \n",
    "     \n",
    "\n",
    "### Final conclusions\n",
    "\n",
    "The average revenue from users of Ultimate and Surf calling plans differs. Ultimate plan customers rarely need more than the defined limits and the average revenue is 70$. On average, most customers of the surf plan (74%) need more than the tariff limit. That increases revenue up to 300 in some cases.<br>\n",
    "Among these customers, the factor that is most effective in increasing revenue is the need for more internet(more than 15 GB of data volume per month)."
   ]
  }
 ],
 "metadata": {
  "kernelspec": {
   "display_name": "Python 3",
   "language": "python",
   "name": "python3"
  },
  "language_info": {
   "codemirror_mode": {
    "name": "ipython",
    "version": 3
   },
   "file_extension": ".py",
   "mimetype": "text/x-python",
   "name": "python",
   "nbconvert_exporter": "python",
   "pygments_lexer": "ipython3",
   "version": "3.8.5"
  },
  "toc": {
   "base_numbering": 1,
   "nav_menu": {},
   "number_sections": true,
   "sideBar": true,
   "skip_h1_title": false,
   "title_cell": "Table of Contents",
   "title_sidebar": "Contents",
   "toc_cell": false,
   "toc_position": {},
   "toc_section_display": true,
   "toc_window_display": false
  }
 },
 "nbformat": 4,
 "nbformat_minor": 2
}
